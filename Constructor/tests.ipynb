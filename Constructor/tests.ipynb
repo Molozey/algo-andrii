{
 "cells": [
  {
   "cell_type": "code",
   "execution_count": 1,
   "metadata": {
    "collapsed": true
   },
   "outputs": [],
   "source": [
    "from abc import ABC, abstractmethod\n",
    "from knotslinkers import *"
   ]
  },
  {
   "cell_type": "code",
   "execution_count": 12,
   "outputs": [
    {
     "name": "stdout",
     "output_type": "stream",
     "text": [
      "10\n",
      "9\n",
      "8\n",
      "7\n",
      "6\n",
      "5\n",
      "4\n",
      "3\n",
      "2\n",
      "1\n",
      "0\n",
      "1\n",
      "2\n",
      "3\n",
      "4\n",
      "5\n",
      "6\n",
      "7\n",
      "8\n",
      "9\n",
      "1, condition: 9\n",
      "2, condition: None\n"
     ]
    }
   ],
   "source": [
    "class BaseNode(ABC):\n",
    "\n",
    "    def __init__(self, priority):\n",
    "        self.priority = priority\n",
    "        self.AllInputs = list()\n",
    "        self.AllOutputs = list()\n",
    "\n",
    "    def create_parent_link(self, self_inp_position, parentNode, parent_out_position):\n",
    "        parentNode.AllOutputs[parent_out_position]['knot'].add_child_link(self.AllInputs[self_inp_position]['knot'])\n",
    "\n",
    "    @property\n",
    "    @abstractmethod\n",
    "    def NodeIndex(self):\n",
    "        pass\n",
    "\n",
    "    def NodeName(self):\n",
    "        return self.__class__.__name__\n",
    "\n",
    "\n",
    "class GetABSValue(BaseNode):\n",
    "    priority = 3\n",
    "    def __init__(self):\n",
    "        super().__init__(priority=self.priority)\n",
    "        self.AllInputs = [{'position': 1, 'knot': BaseInputKnot(Value())}, {'position': 2, 'knot': BaseInputKnot(Value())}]\n",
    "        self.AllOutputs = []\n",
    "\n",
    "    def convert(self):\n",
    "        return abs(self.AllInputs[0]['knot'].KnotObject.receive())\n",
    "\n",
    "    def show_condition(self):\n",
    "        for inputs in self.AllInputs:\n",
    "            print(f\"{inputs['position']}, condition: {inputs['knot'].KnotObject.receive()}\")\n",
    "\n",
    "    def NodeIndex(self):\n",
    "        return 'G_001'\n",
    "\n",
    "\n",
    "class ConstNode(BaseNode):\n",
    "    priority = 3\n",
    "    def __init__(self):\n",
    "        super().__init__(priority=self.priority)\n",
    "        self.AllInputs = list()\n",
    "        self.AllOutputs = [{'position': 1, 'knot': BaseOutputKnot(Value())}]\n",
    "\n",
    "    def change_condition(self, value):\n",
    "        self.AllOutputs[0]['knot'].changed_condition(value)\n",
    "\n",
    "    def NodeIndex(self):\n",
    "        return 'G_002'\n",
    "\n",
    "getValue = GetABSValue()\n",
    "CONST = ConstNode()\n",
    "getValue.create_parent_link(self_inp_position=0,parentNode=CONST, parent_out_position=0)\n",
    "\n",
    "for i in range(-10, 10, 1):\n",
    "   CONST.change_condition(i)\n",
    "   print(getValue.convert())\n",
    "\n",
    "getValue.show_condition()"
   ],
   "metadata": {
    "collapsed": false,
    "pycharm": {
     "name": "#%%\n"
    }
   }
  },
  {
   "cell_type": "code",
   "execution_count": 2,
   "outputs": [],
   "source": [],
   "metadata": {
    "collapsed": false,
    "pycharm": {
     "name": "#%%\n"
    }
   }
  }
 ],
 "metadata": {
  "kernelspec": {
   "display_name": "Python 3",
   "language": "python",
   "name": "python3"
  },
  "language_info": {
   "codemirror_mode": {
    "name": "ipython",
    "version": 2
   },
   "file_extension": ".py",
   "mimetype": "text/x-python",
   "name": "python",
   "nbconvert_exporter": "python",
   "pygments_lexer": "ipython2",
   "version": "2.7.6"
  }
 },
 "nbformat": 4,
 "nbformat_minor": 0
}