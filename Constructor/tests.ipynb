{
 "cells": [
  {
   "cell_type": "code",
   "execution_count": 1,
   "metadata": {
    "collapsed": true
   },
   "outputs": [],
   "source": [
    "from abc import ABC, abstractmethod\n",
    "from Constructor.objectTypes import Value, Frame as DataFrame\n",
    "from Constructor.abstractNode import BaseNode\n",
    "from Constructor.knotslinkers import BaseInputKnot, BaseOutputKnot"
   ]
  },
  {
   "cell_type": "code",
   "execution_count": 3,
   "outputs": [
    {
     "name": "stdout",
     "output_type": "stream",
     "text": [
      "0.93125\n",
      "40.0\n"
     ]
    }
   ],
   "source": [
    "\n",
    "\n"
   ],
   "metadata": {
    "collapsed": false,
    "pycharm": {
     "name": "#%%\n"
    }
   }
  },
  {
   "cell_type": "code",
   "execution_count": 1,
   "outputs": [
    {
     "name": "stdout",
     "output_type": "stream",
     "text": [
      "[1, 2, 3, 4, 5]\n"
     ]
    }
   ],
   "source": [
    "from Constructor.abstractStrategyHub import *\n",
    "import pandas\n",
    "\n",
    "extractor = BaseStrategyExtractor()\n",
    "hub = BaseStrategyHub()\n",
    "\n",
    "extractor.create_parent_link(self_out_position=0, childNode=hub, child_in_position=1)\n",
    "hub.create_parent_link(self_out_position=0, childNode=extractor, child_in_position=0)\n",
    "[i['knot']._refreshChildrenKnots() for i in extractor.AllOutputs]\n",
    "extractor.test_calculation()\n",
    "\n",
    "print(hub.AllInputs[1]['knot'].getContent().return_batch)"
   ],
   "metadata": {
    "collapsed": false,
    "pycharm": {
     "name": "#%%\n"
    }
   }
  }
 ],
 "metadata": {
  "kernelspec": {
   "display_name": "Python 3",
   "language": "python",
   "name": "python3"
  },
  "language_info": {
   "codemirror_mode": {
    "name": "ipython",
    "version": 2
   },
   "file_extension": ".py",
   "mimetype": "text/x-python",
   "name": "python",
   "nbconvert_exporter": "python",
   "pygments_lexer": "ipython2",
   "version": "2.7.6"
  }
 },
 "nbformat": 4,
 "nbformat_minor": 0
}