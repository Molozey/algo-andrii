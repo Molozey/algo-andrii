{
 "cells": [
  {
   "cell_type": "code",
   "execution_count": 31,
   "metadata": {
    "collapsed": true
   },
   "outputs": [],
   "source": [
    "from abc import ABC, abstractmethod\n",
    "from Constructor.objectTypes import Value, Frame as DataFrame\n",
    "from Constructor.abstractNode import BaseNode\n",
    "from Constructor.knotslinkers import BaseInputKnot, BaseOutputKnot"
   ]
  },
  {
   "cell_type": "code",
   "execution_count": 32,
   "outputs": [
    {
     "name": "stdout",
     "output_type": "stream",
     "text": [
      "ParentNode [<Constructor.objectTypes.Value object at 0x118370c10>] [{'position': 1, 'knot': <Constructor.knotslinkers.BaseOutputKnot object at 0x118370c70>}]\n",
      "ChildNode: [<Constructor.objectTypes.Value object at 0x1182647c0>]\n",
      "PAPA=Value CHILD=Value\n",
      "ADD: <Constructor.objectTypes.Value object at 0x1182647c0> TO <Constructor.objectTypes.Value object at 0x118370c10>\n",
      "ParentChilds: [<Constructor.objectTypes.Value object at 0x1182647c0>]\n",
      "CONDITION PAPA=<Constructor.objectTypes.Frame object at 0x1182643d0>, childrens=[<Constructor.objectTypes.Value object at 0x1182647c0>]\n"
     ]
    },
    {
     "ename": "ValueError",
     "evalue": "Get <class 'pandas.core.frame.DataFrame'> instead of INT | FLOAT",
     "output_type": "error",
     "traceback": [
      "\u001B[0;31m---------------------------------------------------------------------------\u001B[0m",
      "\u001B[0;31mValueError\u001B[0m                                Traceback (most recent call last)",
      "\u001B[0;32m/var/folders/_r/6hvfrncn0gb3rk22vwnq62gh0000gn/T/ipykernel_1505/2404002030.py\u001B[0m in \u001B[0;36m<module>\u001B[0;34m\u001B[0m\n\u001B[1;32m     87\u001B[0m \u001B[0;34m\u001B[0m\u001B[0m\n\u001B[1;32m     88\u001B[0m \u001B[0mtestNode\u001B[0m\u001B[0;34m.\u001B[0m\u001B[0mcreate_parent_link\u001B[0m\u001B[0;34m(\u001B[0m\u001B[0mself_inp_position\u001B[0m\u001B[0;34m=\u001B[0m\u001B[0;36m0\u001B[0m\u001B[0;34m,\u001B[0m \u001B[0mparentNode\u001B[0m\u001B[0;34m=\u001B[0m\u001B[0mcalculateMax\u001B[0m\u001B[0;34m,\u001B[0m \u001B[0mparent_out_position\u001B[0m\u001B[0;34m=\u001B[0m\u001B[0;36m0\u001B[0m\u001B[0;34m)\u001B[0m\u001B[0;34m\u001B[0m\u001B[0;34m\u001B[0m\u001B[0m\n\u001B[0;32m---> 89\u001B[0;31m \u001B[0mdataImport\u001B[0m\u001B[0;34m.\u001B[0m\u001B[0mnode_cycle\u001B[0m\u001B[0;34m(\u001B[0m\u001B[0mfilepath\u001B[0m\u001B[0;34m=\u001B[0m\u001B[0;34m'test.csv'\u001B[0m\u001B[0;34m,\u001B[0m \u001B[0msep\u001B[0m\u001B[0;34m=\u001B[0m\u001B[0;34m','\u001B[0m\u001B[0;34m,\u001B[0m \u001B[0mheader\u001B[0m\u001B[0;34m=\u001B[0m\u001B[0;36m0\u001B[0m\u001B[0;34m,\u001B[0m \u001B[0mindex_col\u001B[0m\u001B[0;34m=\u001B[0m\u001B[0;36m0\u001B[0m\u001B[0;34m)\u001B[0m\u001B[0;34m\u001B[0m\u001B[0;34m\u001B[0m\u001B[0m\n\u001B[0m\u001B[1;32m     90\u001B[0m \u001B[0;34m\u001B[0m\u001B[0m\n\u001B[1;32m     91\u001B[0m \u001B[0;34m\u001B[0m\u001B[0m\n",
      "\u001B[0;32m/var/folders/_r/6hvfrncn0gb3rk22vwnq62gh0000gn/T/ipykernel_1505/2404002030.py\u001B[0m in \u001B[0;36mnode_cycle\u001B[0;34m(self, **param)\u001B[0m\n\u001B[1;32m     31\u001B[0m \u001B[0;34m\u001B[0m\u001B[0m\n\u001B[1;32m     32\u001B[0m         \u001B[0mself\u001B[0m\u001B[0;34m.\u001B[0m\u001B[0m_inside\u001B[0m \u001B[0;34m=\u001B[0m \u001B[0mread_csv\u001B[0m\u001B[0;34m(\u001B[0m\u001B[0mfilepath_or_buffer\u001B[0m\u001B[0;34m=\u001B[0m\u001B[0mfilepath\u001B[0m\u001B[0;34m,\u001B[0m \u001B[0msep\u001B[0m\u001B[0;34m=\u001B[0m\u001B[0msep\u001B[0m\u001B[0;34m,\u001B[0m \u001B[0mheader\u001B[0m\u001B[0;34m=\u001B[0m\u001B[0mheader\u001B[0m\u001B[0;34m,\u001B[0m \u001B[0mindex_col\u001B[0m\u001B[0;34m=\u001B[0m\u001B[0mindex_col\u001B[0m\u001B[0;34m)\u001B[0m\u001B[0;34m\u001B[0m\u001B[0;34m\u001B[0m\u001B[0m\n\u001B[0;32m---> 33\u001B[0;31m         \u001B[0mself\u001B[0m\u001B[0;34m.\u001B[0m\u001B[0mAllOutputs\u001B[0m\u001B[0;34m[\u001B[0m\u001B[0;36m0\u001B[0m\u001B[0;34m]\u001B[0m\u001B[0;34m[\u001B[0m\u001B[0;34m'knot'\u001B[0m\u001B[0;34m]\u001B[0m\u001B[0;34m.\u001B[0m\u001B[0mchanged_condition\u001B[0m\u001B[0;34m(\u001B[0m\u001B[0mself\u001B[0m\u001B[0;34m.\u001B[0m\u001B[0m_inside\u001B[0m\u001B[0;34m)\u001B[0m\u001B[0;34m\u001B[0m\u001B[0;34m\u001B[0m\u001B[0m\n\u001B[0m\u001B[1;32m     34\u001B[0m \u001B[0;34m\u001B[0m\u001B[0m\n\u001B[1;32m     35\u001B[0m \u001B[0;34m\u001B[0m\u001B[0m\n",
      "\u001B[0;32m~/Desktop/algo/Constructor/knotslinkers.py\u001B[0m in \u001B[0;36mchanged_condition\u001B[0;34m(self, obj)\u001B[0m\n\u001B[1;32m     57\u001B[0m         \"\"\"\n\u001B[1;32m     58\u001B[0m         \u001B[0mprint\u001B[0m\u001B[0;34m(\u001B[0m\u001B[0;34mf\"CONDITION PAPA={self.KnotObject}, childrens={[x.KnotObject for x in self._children]}\"\u001B[0m\u001B[0;34m)\u001B[0m\u001B[0;34m\u001B[0m\u001B[0;34m\u001B[0m\u001B[0m\n\u001B[0;32m---> 59\u001B[0;31m         \u001B[0mself\u001B[0m\u001B[0;34m.\u001B[0m\u001B[0mKnotObject\u001B[0m\u001B[0;34m.\u001B[0m\u001B[0mtransfer\u001B[0m\u001B[0;34m(\u001B[0m\u001B[0mobj\u001B[0m\u001B[0;34m)\u001B[0m\u001B[0;34m\u001B[0m\u001B[0;34m\u001B[0m\u001B[0m\n\u001B[0m\u001B[1;32m     60\u001B[0m         \u001B[0mself\u001B[0m\u001B[0;34m.\u001B[0m\u001B[0m_refreshChildrenKnots\u001B[0m\u001B[0;34m(\u001B[0m\u001B[0;34m)\u001B[0m\u001B[0;34m\u001B[0m\u001B[0;34m\u001B[0m\u001B[0m\n\u001B[1;32m     61\u001B[0m \u001B[0;34m\u001B[0m\u001B[0m\n",
      "\u001B[0;32m~/Desktop/algo/Constructor/knotslinkers.py\u001B[0m in \u001B[0;36m_refreshChildrenKnots\u001B[0;34m(self)\u001B[0m\n\u001B[1;32m     47\u001B[0m         \"\"\"\n\u001B[1;32m     48\u001B[0m         \u001B[0;32mfor\u001B[0m \u001B[0mobserver\u001B[0m \u001B[0;32min\u001B[0m \u001B[0mself\u001B[0m\u001B[0;34m.\u001B[0m\u001B[0m_children\u001B[0m\u001B[0;34m:\u001B[0m\u001B[0;34m\u001B[0m\u001B[0;34m\u001B[0m\u001B[0m\n\u001B[0;32m---> 49\u001B[0;31m             \u001B[0mprint\u001B[0m\u001B[0;34m(\u001B[0m\u001B[0mobserver\u001B[0m\u001B[0;34m)\u001B[0m\u001B[0;34m\u001B[0m\u001B[0;34m\u001B[0m\u001B[0m\n\u001B[0m\u001B[1;32m     50\u001B[0m             \u001B[0mobserver\u001B[0m\u001B[0;34m.\u001B[0m\u001B[0mupdate\u001B[0m\u001B[0;34m(\u001B[0m\u001B[0mself\u001B[0m\u001B[0;34m)\u001B[0m\u001B[0;34m\u001B[0m\u001B[0;34m\u001B[0m\u001B[0m\n\u001B[1;32m     51\u001B[0m \u001B[0;34m\u001B[0m\u001B[0m\n",
      "\u001B[0;32m~/Desktop/algo/Constructor/knotslinkers.py\u001B[0m in \u001B[0;36mupdate\u001B[0;34m(self, parent)\u001B[0m\n\u001B[1;32m     77\u001B[0m         \u001B[0;34m:\u001B[0m\u001B[0mparam\u001B[0m \u001B[0mparent\u001B[0m\u001B[0;34m:\u001B[0m \u001B[0mобъект\u001B[0m \u001B[0mпередающийся\u001B[0m \u001B[0mиз\u001B[0m \u001B[0mродителя\u001B[0m \u001B[0mчерез\u001B[0m \u001B[0mинтерфейс\u001B[0m \u001B[0mоповещения\u001B[0m\u001B[0;34m\u001B[0m\u001B[0;34m\u001B[0m\u001B[0m\n\u001B[1;32m     78\u001B[0m         \u001B[0;34m:\u001B[0m\u001B[0;32mreturn\u001B[0m\u001B[0;34m:\u001B[0m\u001B[0;34m\u001B[0m\u001B[0;34m\u001B[0m\u001B[0m\n\u001B[0;32m---> 79\u001B[0;31m         \"\"\"\n\u001B[0m\u001B[1;32m     80\u001B[0m         \u001B[0mself\u001B[0m\u001B[0;34m.\u001B[0m\u001B[0mKnotObject\u001B[0m\u001B[0;34m.\u001B[0m\u001B[0mtransfer\u001B[0m\u001B[0;34m(\u001B[0m\u001B[0mparent\u001B[0m\u001B[0;34m.\u001B[0m\u001B[0mKnotObject\u001B[0m\u001B[0;34m.\u001B[0m\u001B[0mreceive\u001B[0m\u001B[0;34m(\u001B[0m\u001B[0;34m)\u001B[0m\u001B[0;34m)\u001B[0m\u001B[0;34m\u001B[0m\u001B[0;34m\u001B[0m\u001B[0m\n\u001B[1;32m     81\u001B[0m \u001B[0;34m\u001B[0m\u001B[0m\n",
      "\u001B[0;32m~/Desktop/algo/Constructor/objectTypes.py\u001B[0m in \u001B[0;36mtransfer\u001B[0;34m(self, value)\u001B[0m\n\u001B[1;32m     46\u001B[0m     \u001B[0;32mdef\u001B[0m \u001B[0mtransfer\u001B[0m\u001B[0;34m(\u001B[0m\u001B[0mself\u001B[0m\u001B[0;34m,\u001B[0m \u001B[0mvalue\u001B[0m\u001B[0;34m)\u001B[0m\u001B[0;34m:\u001B[0m\u001B[0;34m\u001B[0m\u001B[0;34m\u001B[0m\u001B[0m\n\u001B[1;32m     47\u001B[0m         \u001B[0;32mif\u001B[0m \u001B[0mtype\u001B[0m\u001B[0;34m(\u001B[0m\u001B[0mvalue\u001B[0m\u001B[0;34m)\u001B[0m \u001B[0;34m!=\u001B[0m \u001B[0;34m(\u001B[0m\u001B[0mfloat\u001B[0m \u001B[0;32mor\u001B[0m \u001B[0mint\u001B[0m\u001B[0;34m)\u001B[0m\u001B[0;34m:\u001B[0m\u001B[0;34m\u001B[0m\u001B[0;34m\u001B[0m\u001B[0m\n\u001B[0;32m---> 48\u001B[0;31m             \u001B[0;32mraise\u001B[0m \u001B[0mValueError\u001B[0m\u001B[0;34m(\u001B[0m\u001B[0;34mf\"Get {type(value)} instead of INT | FLOAT\"\u001B[0m\u001B[0;34m)\u001B[0m\u001B[0;34m\u001B[0m\u001B[0;34m\u001B[0m\u001B[0m\n\u001B[0m\u001B[1;32m     49\u001B[0m         \u001B[0mself\u001B[0m\u001B[0;34m.\u001B[0m\u001B[0m_object\u001B[0m \u001B[0;34m=\u001B[0m \u001B[0mvalue\u001B[0m\u001B[0;34m\u001B[0m\u001B[0;34m\u001B[0m\u001B[0m\n\u001B[1;32m     50\u001B[0m \u001B[0;34m\u001B[0m\u001B[0m\n",
      "\u001B[0;31mValueError\u001B[0m: Get <class 'pandas.core.frame.DataFrame'> instead of INT | FLOAT"
     ]
    }
   ],
   "source": [
    "class ImportDataNode(BaseNode):\n",
    "    priority = 0\n",
    "\n",
    "    def __init__(self):\n",
    "        super().__init__(priority=self.priority)\n",
    "        self.AllInputs = []\n",
    "        self.AllOutputs = [{'position': 1, 'knot': BaseOutputKnot(DataFrame())}]\n",
    "\n",
    "        self._inside = None\n",
    "\n",
    "    def node_cycle(self, **param):\n",
    "        from pandas import read_csv\n",
    "\n",
    "        get_params = param\n",
    "        if not 'filepath' in get_params:\n",
    "            raise KeyError('No filepath')\n",
    "        else:\n",
    "            filepath = param['filepath']\n",
    "        if not 'sep' in get_params:\n",
    "            sep = ','\n",
    "        else:\n",
    "            sep = param['sep']\n",
    "        if not 'header' in get_params:\n",
    "            header = 0\n",
    "        else:\n",
    "            header = param['header']\n",
    "        if not 'index_col' in get_params:\n",
    "            index_col = 0\n",
    "        else:\n",
    "            index_col = param['index_col']\n",
    "\n",
    "        self._inside = read_csv(filepath_or_buffer=filepath, sep=sep, header=header, index_col=index_col)\n",
    "        self.AllOutputs[0]['knot'].changed_condition(self._inside)\n",
    "\n",
    "\n",
    "    def execute_node(self):\n",
    "        pass\n",
    "\n",
    "    def NodeIndex(self):\n",
    "        return 'D_001'\n",
    "\n",
    "\n",
    "class CalculateMax(BaseNode):\n",
    "    priority = 0\n",
    "    def NodeIndex(self):\n",
    "        return 'C_001'\n",
    "\n",
    "    def __init__(self):\n",
    "        super().__init__(priority=self.priority)\n",
    "        self.AllInputs = [{'position': 1, 'knot': BaseInputKnot(DataFrame())}]\n",
    "        self.AllOutputs = [{'position': 1, 'knot': BaseOutputKnot(Value())}]\n",
    "\n",
    "        self._inside = None\n",
    "\n",
    "    def execute_node(self):\n",
    "        pass\n",
    "\n",
    "    def node_cycle(self, **param):\n",
    "        self._inside = self.AllInputs[0]['knot'].getContent()\n",
    "\n",
    "        self.AllOutputs[0][\"knot\"].changed_condition(float(self._inside.open.max()))\n",
    "        pass\n",
    "\n",
    "class TestingPrintNode(BaseNode):\n",
    "    priority = 0\n",
    "    def __init__(self):\n",
    "        super().__init__(priority=self.priority)\n",
    "        self.AllInputs = [{'position': 1, 'knot': BaseInputKnot(Value())}]\n",
    "        self.AllOutputs = []\n",
    "\n",
    "        self._inside = None\n",
    "\n",
    "    def execute_node(self):\n",
    "        pass\n",
    "\n",
    "    def node_cycle(self, **param):\n",
    "        print(self.AllInputs[0]['knot'].getContent())\n",
    "        pass\n",
    "\n",
    "    def NodeIndex(self):\n",
    "        return 'HelperNode_001'\n",
    "\n",
    "\n",
    "testNode = TestingPrintNode()\n",
    "dataImport = ImportDataNode()\n",
    "calculateMax = CalculateMax()\n",
    "calculateMax.create_parent_link(self_inp_position=0, parentNode=dataImport, parent_out_position=0)\n",
    "testNode.create_parent_link(self_inp_position=0, parentNode=calculateMax, parent_out_position=0)\n",
    "# dataImport.create_parent_link(self_out_position=0, childNode=calculateMax, child_in_position=0)\n",
    "# calculateMax.create_parent_link(self_out_position=0, childNode=testNode, child_in_position=0)\n",
    "\n",
    "dataImport.node_cycle(filepath='test.csv', sep=',', header=0, index_col=0)\n",
    "calculateMax.node_cycle()\n",
    "testNode.node_cycle()"
   ],
   "metadata": {
    "collapsed": false,
    "pycharm": {
     "name": "#%%\n"
    }
   }
  },
  {
   "cell_type": "code",
   "execution_count": null,
   "outputs": [],
   "source": [
    "calculateMax.AllOutputs[0]['knot'].KnotObject\n",
    "testNode.AllInputs[0]['knot'].KnotObject\n",
    "dataImport.AllOutputs[0]['knot'].KnotObject\n",
    "calculateMax.AllInputs[0]['knot'].KnotObject"
   ],
   "metadata": {
    "collapsed": false,
    "pycharm": {
     "name": "#%%\n"
    }
   }
  }
 ],
 "metadata": {
  "kernelspec": {
   "display_name": "Python 3",
   "language": "python",
   "name": "python3"
  },
  "language_info": {
   "codemirror_mode": {
    "name": "ipython",
    "version": 2
   },
   "file_extension": ".py",
   "mimetype": "text/x-python",
   "name": "python",
   "nbconvert_exporter": "python",
   "pygments_lexer": "ipython2",
   "version": "2.7.6"
  }
 },
 "nbformat": 4,
 "nbformat_minor": 0
}