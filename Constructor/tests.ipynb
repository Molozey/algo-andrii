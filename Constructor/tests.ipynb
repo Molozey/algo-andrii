{
 "cells": [
  {
   "cell_type": "code",
   "execution_count": 1,
   "metadata": {
    "collapsed": true
   },
   "outputs": [],
   "source": [
    "from abc import ABC, abstractmethod\n",
    "from Constructor.objectTypes import Value, Frame as DataFrame\n",
    "from Constructor.abstractNode import BaseNode\n",
    "from Constructor.knotslinkers import BaseInputKnot, BaseOutputKnot"
   ]
  },
  {
   "cell_type": "code",
   "execution_count": 6,
   "outputs": [
    {
     "name": "stdout",
     "output_type": "stream",
     "text": [
      "0.93125\n"
     ]
    }
   ],
   "source": [
    "class ImportDataNode(BaseNode):\n",
    "    priority = 0\n",
    "\n",
    "    def __init__(self):\n",
    "        super().__init__(priority=self.priority)\n",
    "        self.AllInputs = []\n",
    "        self.AllOutputs = [{'position': 1, 'knot': BaseOutputKnot(DataFrame())}]\n",
    "\n",
    "        self._actualOutputs = [{'position': outKnot['position'], 'content': outKnot['knot'].getContent()}for outKnot in self.AllOutputs]\n",
    "\n",
    "    def mutable_logic(self):\n",
    "        if self.new_outputs is not  self._actualOutputs:\n",
    "            for outKnot in self.AllOutputs:\n",
    "                for newKnot in self.new_outputs:\n",
    "                    if newKnot['position'] == outKnot['position']:\n",
    "                        outKnot['knot'].changed_condition(newKnot['content'])\n",
    "\n",
    "            self.execute_node()\n",
    "\n",
    "    def node_cycle(self, **param):\n",
    "        from pandas import read_csv\n",
    "\n",
    "        get_params = param\n",
    "        if not 'filepath' in get_params:\n",
    "            raise KeyError('No filepath')\n",
    "        else:\n",
    "            filepath = param['filepath']\n",
    "        if not 'sep' in get_params:\n",
    "            sep = ','\n",
    "        else:\n",
    "            sep = param['sep']\n",
    "        if not 'header' in get_params:\n",
    "            header = 0\n",
    "        else:\n",
    "            header = param['header']\n",
    "        if not 'index_col' in get_params:\n",
    "            index_col = 0\n",
    "        else:\n",
    "            index_col = param['index_col']\n",
    "\n",
    "        self.new_outputs = [{'position':1, 'content':read_csv(filepath_or_buffer=filepath, sep=sep, header=header, index_col=index_col)}]\n",
    "\n",
    "        self.mutable_logic()\n",
    "\n",
    "    def NodeIndex(self):\n",
    "        return 'D_001'\n",
    "\n",
    "\n",
    "class CalculateMax(BaseNode):\n",
    "    priority = 0\n",
    "    def NodeIndex(self):\n",
    "        return 'C_001'\n",
    "\n",
    "    def __init__(self):\n",
    "        super().__init__(priority=self.priority)\n",
    "        self.AllInputs = [{'position': 1, 'knot': BaseInputKnot(DataFrame())}]\n",
    "        self.AllOutputs = [{'position': 1, 'knot': BaseOutputKnot(Value())}]\n",
    "\n",
    "        self.buffer_condition = [{'position': 1, 'content': self.AllOutputs[0]['knot'].getContent()}]\n",
    "        self._inside = self.buffer_condition\n",
    "\n",
    "    def node_cycle(self, **param):\n",
    "\n",
    "        self.new_outputs = [{'position': 1, 'content': float(self.AllInputs[0]['knot'].getContent().open.max())}]\n",
    "\n",
    "        self.mutable_logic()\n",
    "\n",
    "class TestingPrintNode(BaseNode):\n",
    "    priority = 0\n",
    "    def __init__(self):\n",
    "        super().__init__(priority=self.priority)\n",
    "        self.AllInputs = [{'position': 1, 'knot': BaseInputKnot(Value())}]\n",
    "        self.AllOutputs = []\n",
    "\n",
    "        self.buffer_condition = []\n",
    "        self._inside = self.buffer_condition\n",
    "\n",
    "    def node_cycle(self, **param):\n",
    "        print(self.AllInputs[0]['knot'].getContent())\n",
    "        pass\n",
    "\n",
    "    def NodeIndex(self):\n",
    "        return 'HelperNode_001'\n",
    "\n",
    "\n",
    "testNode = TestingPrintNode()\n",
    "dataImport = ImportDataNode()\n",
    "calculateMax = CalculateMax()\n",
    "dataImport.create_parent_link(self_out_position=0, childNode=calculateMax, child_in_position=0)\n",
    "calculateMax.create_parent_link(self_out_position=0, childNode=testNode, child_in_position=0)\n",
    "\n",
    "\n",
    "dataImport.node_cycle(filepath='test.csv', sep=',', header=0, index_col=0)\n"
   ],
   "metadata": {
    "collapsed": false,
    "pycharm": {
     "name": "#%%\n"
    }
   }
  },
  {
   "cell_type": "code",
   "execution_count": 2,
   "outputs": [],
   "source": [],
   "metadata": {
    "collapsed": false,
    "pycharm": {
     "name": "#%%\n"
    }
   }
  }
 ],
 "metadata": {
  "kernelspec": {
   "display_name": "Python 3",
   "language": "python",
   "name": "python3"
  },
  "language_info": {
   "codemirror_mode": {
    "name": "ipython",
    "version": 2
   },
   "file_extension": ".py",
   "mimetype": "text/x-python",
   "name": "python",
   "nbconvert_exporter": "python",
   "pygments_lexer": "ipython2",
   "version": "2.7.6"
  }
 },
 "nbformat": 4,
 "nbformat_minor": 0
}