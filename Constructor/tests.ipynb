{
 "cells": [
  {
   "cell_type": "code",
   "execution_count": 1,
   "metadata": {
    "collapsed": true
   },
   "outputs": [],
   "source": [
    "from abc import ABC, abstractmethod\n",
    "from Constructor.objectTypes import Value, DataFrame\n",
    "from Constructor.abstractNode import BaseNode\n",
    "from Constructor.knotslinkers import BaseInputKnot, BaseOutputKnot"
   ]
  },
  {
   "cell_type": "code",
   "execution_count": 2,
   "outputs": [
    {
     "name": "stdout",
     "output_type": "stream",
     "text": [
      "1, condition: 3\n",
      "2, condition: None\n"
     ]
    }
   ],
   "source": [
    "class ImportDataNode(BaseNode):\n",
    "    priority = 0\n",
    "    def __init__(self):\n",
    "        super().__init__(priority=self.priority)\n",
    "        self.AllInputs = []\n",
    "        self.AllOutputs = [{'position': 1, 'knot': BaseOutputKnot(DataFrame())}]\n",
    "\n",
    "        self._inside = None\n",
    "        self._mutable = False\n",
    "\n",
    "    def change_condition(self, **param):\n",
    "        from pandas import read_csv\n",
    "        if not 'filepath' in param:\n",
    "            raise KeyError('No filepath')\n",
    "        else:\n",
    "            filepath = param['filepath']\n",
    "        if not 'sep' in param:\n",
    "            sep = ','\n",
    "        else:\n",
    "            sep = param['sep']\n",
    "        if not 'header' in param:\n",
    "            header = 0\n",
    "        else:\n",
    "            header = param['header']\n",
    "        if not 'index_col' in param:\n",
    "            index_col = 0\n",
    "        else:\n",
    "            index_col = param['index_col']\n",
    "\n",
    "        buffer = self._inside\n",
    "        self._inside = read_csv(filepath_or_buffer=filepath, sep=sep, header=header, index_col=index_col)\n",
    "\n",
    "        if buffer != self._inside:\n",
    "            self._mutable = True\n",
    "        del buffer\n",
    "\n",
    "    def execute_node(self):\n",
    "        if self._mutable:\n",
    "            self.AllOutputs[0]['knot'].changed_condition(self._inside)\n",
    "        self._mutable = False\n",
    "\n",
    "    def NodeIndex(self):\n",
    "        return 'D_001'\n",
    "\n",
    "\n",
    "\n",
    "dataImport = ImportDataNode()\n",
    "dataImport.change_condition()"
   ],
   "metadata": {
    "collapsed": false,
    "pycharm": {
     "name": "#%%\n"
    }
   }
  },
  {
   "cell_type": "code",
   "execution_count": 2,
   "outputs": [],
   "source": [],
   "metadata": {
    "collapsed": false,
    "pycharm": {
     "name": "#%%\n"
    }
   }
  }
 ],
 "metadata": {
  "kernelspec": {
   "display_name": "Python 3",
   "language": "python",
   "name": "python3"
  },
  "language_info": {
   "codemirror_mode": {
    "name": "ipython",
    "version": 2
   },
   "file_extension": ".py",
   "mimetype": "text/x-python",
   "name": "python",
   "nbconvert_exporter": "python",
   "pygments_lexer": "ipython2",
   "version": "2.7.6"
  }
 },
 "nbformat": 4,
 "nbformat_minor": 0
}