{
 "cells": [
  {
   "cell_type": "code",
   "execution_count": 1,
   "metadata": {
    "collapsed": true
   },
   "outputs": [],
   "source": [
    "import platform\n",
    "\n",
    "global systemDivide\n",
    "if platform.platform().split('-')[0] == 'macOS':\n",
    "    systemDivide = '/'\n",
    "else:\n",
    "    systemDivide = '\\\\'\n",
    "\n",
    "import sys\n",
    "import threading\n",
    "\n",
    "threading.stack_size(2**27)\n",
    "sys.setrecursionlimit(10 ** 5)"
   ]
  },
  {
   "cell_type": "code",
   "execution_count": 2,
   "outputs": [],
   "source": [
    "import pandas as pd\n",
    "import numpy as np\n",
    "from tqdm.notebook import tqdm\n",
    "\n",
    "pairName = 'CHFJPY.csv'\n",
    "\n",
    "inpData = pd.read_csv(f\"testData{systemDivide}{pairName}\", index_col=1)\n",
    "# Какие колонки нужны для работы\n",
    "columns = ['open', 'high', 'low', 'close']\n",
    "inpData = inpData[columns]\n",
    "inpData.index = pd.to_datetime(inpData.index)\n",
    "\n",
    "\n",
    "initParameters = {\n",
    "    # Оптимизировать\n",
    "    'yThreshold': 300,\n",
    "    'rollingMean': 300,\n",
    "    'fatRollingMean': 900,\n",
    "    'timeBarrier': 800,\n",
    "    # Оптимизировать\n",
    "    'varianceRatioFilter': 1.0,\n",
    "    # Оптимизировать\n",
    "    'restAfterLoss': 910,\n",
    "    # Оптимизировать\n",
    "    'restAfterFatProfit' : 250,\n",
    "    # Оптимизировать\n",
    "    'stopLossStdMultiplier': 820,\n",
    "    # Оптимизировать\n",
    "    'takeProfitStdMultiplier': 920,\n",
    "    # Оптимизировать\n",
    "    'varianceRatioCarreteParameter': 10,\n",
    "    # Оптимизировать\n",
    "    'scanHalfTime': 1500\n",
    "    }"
   ],
   "metadata": {
    "collapsed": false,
    "pycharm": {
     "name": "#%%\n"
    }
   }
  },
  {
   "cell_type": "markdown",
   "source": [
    "# Проверим распределение доходностей на нормальность"
   ],
   "metadata": {
    "collapsed": false,
    "pycharm": {
     "name": "#%% md\n"
    }
   }
  },
  {
   "cell_type": "code",
   "execution_count": 3,
   "outputs": [
    {
     "name": "stdout",
     "output_type": "stream",
     "text": [
      "3 sigma anomalies 1.275%\n"
     ]
    },
    {
     "data": {
      "text/plain": "<Figure size 864x432 with 2 Axes>",
      "image/png": "[encoded data removed]"
     },
     "metadata": {
      "needs_background": "light"
     },
     "output_type": "display_data"
    }
   ],
   "source": [
    "import matplotlib.pylab as plt\n",
    "from scipy.stats import zscore, probplot\n",
    "from sklearn import linear_model\n",
    "\n",
    "plt.style.use(style='fast')\n",
    "plt.figure(figsize=(12,6))\n",
    "plt.subplot(2,1,1)\n",
    "plt.title('Гистограмма доходностей')\n",
    "abs_Z_scores = np.abs(zscore(inpData.open.pct_change().iloc[1:]))\n",
    "filtered = (abs_Z_scores < 3)\n",
    "print(f'3 sigma anomalies {(1 - sum(filtered) / inpData.shape[0]):.3%}')\n",
    "bars = plt.hist(inpData.open.pct_change().values[1:][filtered], density=True, )\n",
    "ax = plt.subplot(2,1,2)\n",
    "\n",
    "probplot(inpData.open.pct_change().values[1:][filtered], plot=ax)\n",
    "plt.title(f'Q-Q plot')\n",
    "plt.show()\n",
    "del abs_Z_scores, filtered, bars"
   ],
   "metadata": {
    "collapsed": false,
    "pycharm": {
     "name": "#%%\n"
    }
   }
  },
  {
   "cell_type": "code",
   "execution_count": 4,
   "outputs": [
    {
     "data": {
      "text/plain": "  0%|          | 0/350 [00:00<?, ?it/s]",
      "application/vnd.jupyter.widget-view+json": {
       "version_major": 2,
       "version_minor": 0,
       "model_id": "7e8fee846e194383b15b10e536b2742e"
      }
     },
     "metadata": {},
     "output_type": "display_data"
    }
   ],
   "source": [
    "def create_grid(params: initParameters):\n",
    "    \"\"\"\n",
    "    Создает удобную сетку для дальнейших расчетов\n",
    "    :param params: начальные init параметры\n",
    "    :return: словарь из параметров использующийся везде\n",
    "    \"\"\"\n",
    "    capital = 20_000\n",
    "    slippage = 2\n",
    "    retParams = {\n",
    "        # Капитал\n",
    "        'capital': capital,\n",
    "        'slippage': slippage,\n",
    "        # Можно использовать для стоп лоссов и тейков с учетом слипэджа\n",
    "        'slippagePerCapital': slippage / capital,\n",
    "        # То какой размах мы будем брать для построения полос Боллинджера. Это и есть X Threshold из файла Евгения\n",
    "        'yThreshold': round(params['yThreshold'] / 100, 2),\n",
    "        # Период за который мы строим малую скользяшку\n",
    "        'rollingMean': params['rollingMean'],\n",
    "        # Период за который мы строим большую скользяшку\n",
    "        'fatRollingMean': params['fatRollingMean'],\n",
    "        # Временной барьер, Максимальное время сколько мы можем держать позицию\n",
    "        'timeBarrier': params['timeBarrier'],\n",
    "        # Параметр для определения того что данные MeanReversion/TrendFollowing\n",
    "        # Используется в VRratio тестах для открытия/удержания позиции\n",
    "        'varianceRatioFilter': params['varianceRatioFilter'],\n",
    "        # Сколько времени мы не торгуем после срабатывания стоп лосса\n",
    "        'restAfterLoss': params['restAfterLoss'],\n",
    "        # Сколько времени мы не торгуем после закрытия позиции о большую скользяшку\n",
    "        'restAfterFatProfit' : params['restAfterFatProfit'],\n",
    "        # Процент стоп лосса\n",
    "        'stopLossStdMultiplier': round(params['stopLossStdMultiplier'] / 100, 3),\n",
    "        # Процент тэйк профита\n",
    "        'takeProfitStdMultiplier': round(params['takeProfitStdMultiplier'] / 100, 3),\n",
    "        # Нужно чтобы пересчитывать VR границы в автоматическом режиме\n",
    "        'varianceRatioCarreteParameter': params['varianceRatioCarreteParameter'],\n",
    "        # Тот период за который мы будем считать Variance Ratio. Те ставя тут к примеру 1500, мы должны будем передавать в функцию\n",
    "        # VR Ratio 1500 точек данных. Сейчас этот гипермараметр связан с гиперпараметров периода малой скользяшки\n",
    "        'varianceLookBack': params['rollingMean'] * 2,\n",
    "        # Чему будет равен временной лаг Q; Q = varianceLookBack // PARAM + 1\n",
    "        'varianceRatioCarrete': int((params['rollingMean'] * 2) // params['varianceRatioCarreteParameter']) + 1,\n",
    "        # Параметр по которому мы будем искать период полураспада\n",
    "        'scanHalfTime': params['scanHalfTime']\n",
    "    }\n",
    "    return retParams\n",
    "\n",
    "def get_half_time(openTuple: pd.Series) -> float:\n",
    "    df_open = openTuple.to_frame()\n",
    "    df_lag = df_open.shift(1)\n",
    "    df_delta = df_open - df_lag\n",
    "    linear_regression_model = linear_model.LinearRegression()\n",
    "    df_delta = df_delta.values.reshape(len(df_delta), 1)\n",
    "    df_lag = df_lag.values.reshape(len(df_lag), 1)\n",
    "    linear_regression_model.fit(df_lag[1:], df_delta[1:])\n",
    "    half_life = -np.log(2) / linear_regression_model.coef_.item()\n",
    "    return half_life\n",
    "\n",
    "def cook_data(df: pd.DataFrame, params) -> pd.DataFrame:\n",
    "    \"\"\"\n",
    "    Подготавливает данные для дальнейшего рассчета стратегии.\n",
    "    :param df: должен быть open, close, low, high\n",
    "    :param params: список параметров из create_grid\n",
    "    :return: данные с полосами Болинджера + логарифмы + возвраты\n",
    "    \"\"\"\n",
    "    df['rollMean'] = df['open'].rolling(window=params['rollingMean']).mean()\n",
    "    df['rollingStd'] = df['open'].rolling(window=params['rollingMean']).std()\n",
    "    df['HBBand'] = df['rollMean'] + df['rollingStd'] * params['yThreshold']\n",
    "    df['LBBand'] = df['rollMean'] - df['rollingStd'] * params['yThreshold']\n",
    "    df['fatMean'] = df['open'].rolling(window=params['fatRollingMean']).mean()\n",
    "    df['logOpenPrice'] = np.log(df['open'])\n",
    "    df['retOpenPrice'] = df['logOpenPrice'].diff()\n",
    "    return df\n",
    "\n",
    "def variance_ratio(logTuple: tuple, retTuple: tuple, params: dict) -> bool:\n",
    "    \"\"\"\n",
    "    Возвращает значение variacne ratio. Необходимо для понимания того, можно ли открывать сделку\n",
    "    :param logTuple: tuple из цен открытия включая проверяемую точку\n",
    "    :param retTuple: tuple из цен открытия включая проверяемую точку\n",
    "    :param params: список параметров из create_grid\n",
    "    :return: Можно ли открывать сделку. Фактически является фильтром\n",
    "    \"\"\"\n",
    "    buffer_size = len(retTuple)\n",
    "    means = (1 / buffer_size) * np.sum(retTuple)\n",
    "    # сдвиг во времени q\n",
    "    m = params['varianceRatioCarrete'] * (buffer_size - params['varianceRatioCarrete'] + 1 ) * (1 - (params['varianceRatioCarrete'] / buffer_size))\n",
    "    sigma_a = (1 / (buffer_size - 1)) * np.sum(np.square(np.subtract(retTuple, means)))\n",
    "    subtract_returns = np.subtract(logTuple, np.roll(logTuple, params['varianceRatioCarrete']))[params['varianceRatioCarrete']:]\n",
    "    _buff_ = np.sum(np.square(subtract_returns - params['varianceRatioCarrete'] * means))\n",
    "    try:\n",
    "        sigma_b = (1 / m) * _buff_\n",
    "    except ZeroDivisionError:\n",
    "        return False\n",
    "\n",
    "    result = (sigma_b / sigma_a)\n",
    "    if result < params['varianceRatioFilter']:\n",
    "        return True\n",
    "    else:\n",
    "        return False\n",
    "\n",
    "def reverse_variance_ratio(logTuple: tuple, retTuple: tuple, params: dict, timeBorderCounter: int) -> bool:\n",
    "    \"\"\"\n",
    "    Возвращает значение variacne ratio. Необходимо для понимания того, можно ли открывать сделку\n",
    "    :param logTuple: tuple из цен открытия включая проверяемую точку\n",
    "    :param retTuple: tuple из цен открытия включая проверяемую точку\n",
    "    :param params: список параметров из create_grid\n",
    "    :return: Можно ли открывать сделку. Фактически является фильтром\n",
    "    \"\"\"\n",
    "    if timeBorderCounter < params[\"varianceLookBack\"]:\n",
    "        buffer_size = len(retTuple)\n",
    "        means = (1 / buffer_size) * np.sum(retTuple)\n",
    "        # сдвиг во времени q\n",
    "        m = timeBorderCounter * (buffer_size - timeBorderCounter + 1 ) * (1 - (timeBorderCounter / buffer_size))\n",
    "        sigma_a = (1 / (buffer_size - 1)) * np.sum(np.square(np.subtract(retTuple, means)))\n",
    "        subtract_returns = np.subtract(logTuple, np.roll(logTuple, timeBorderCounter))[timeBorderCounter:]\n",
    "        _buff_ = np.sum(np.square(subtract_returns - timeBorderCounter * means))\n",
    "        sigma_b = (1 / m) * _buff_\n",
    "        result = (sigma_b / sigma_a)\n",
    "        if result > params['varianceRatioFilter']:\n",
    "            return True\n",
    "        else:\n",
    "            return False\n",
    "    else:\n",
    "        return False\n",
    "\n",
    "\n",
    "def open_position(arrowIndex, recursionFilter, dataTuple, params) -> dict:\n",
    "    \"\"\"\n",
    "    Возвращает список с типом сделанной сделки\n",
    "    Для всех параметров заканчивающихся на Tuple верно следующее: передается как массив tuple.\n",
    "    Это связанно с повышением эффективности бэктеста и особенностями рекурсии. В real-time будет другая реализация\n",
    "\n",
    "    :param dataTuple: Список из объектов, необходимых для расчетов. Содержит в себе:\n",
    "        arrowIndex: Навигация по полному массиву данных. В real-time не нужен\n",
    "        recursionFilter: ограничитель ошибок связанных с забитием памяти и превышением лимита рекурсии. В real-time не нужен\n",
    "        LBandTuple: нижняя граница болинджера. Цена посчитанная как actualLightMean - std * {HYPERPARAMETER}\n",
    "        HBandTuple: верхняя полоса болинджера. Цена посчитанная как actualLightMean + std * {HYPERPARAMETER}.\n",
    "        LowTuple: low цена. В real-time скорее всего будет неактуально\n",
    "        HighTuple: high цена. В real-time скорее всего будет неактуально\n",
    "        OpenTuple: open цена. В real-time скорее всего будет неактуально\n",
    "        params: список параметров полученных с помощью create_grid\n",
    "        logTuple: необходим для расчета Variance ratio. Логарифмированные цены\n",
    "        retTuple: необходим для расчета Variance ratio. Возвраты во времени\n",
    "\n",
    "    :return: список о сделанной сделке. Нужен такой тип для сокращения возможности ошибки.\n",
    "    \"\"\"\n",
    "    LOGIC_BOOL = False\n",
    "    _recursion_limit = 10_000\n",
    "\n",
    "    openDict = {\n",
    "        'typeOperation': None,\n",
    "        'position': None,\n",
    "        'openPrice': None,\n",
    "        'openIndex': None,\n",
    "        'stopLossBorder': None,\n",
    "        'takeProfitBorder': None\n",
    "    }\n",
    "\n",
    "    # Получить время полураспада для генерации параметров сделки\n",
    "    half_time = int(get_half_time(dataTuple[\"OpenTuple\"][arrowIndex-params['scanHalfTime']:arrowIndex]))\n",
    "    # print(f\"arrow={arrowIndex}, half_time={half_time}\")\n",
    "    # Если получившееся время больше чем время за которое мы это время ищем - переходим в следующую точку\n",
    "    if (half_time > params['scanHalfTime']) or (half_time < 0):\n",
    "        return open_position(arrowIndex=arrowIndex+1, recursionFilter=recursionFilter+1,\n",
    "                             dataTuple=dataTuple, params=params)\n",
    "    params[\"rollingMean\"] = half_time\n",
    "    params[\"fatRollingMean\"] = 2 * half_time\n",
    "    # params[\"timeBarrier\"] = int(half_time * 0.75)\n",
    "    params[\"timeBarrier\"] = int(half_time * 4.75)\n",
    "\n",
    "    params[\"varianceLookBack\"] = half_time * 2\n",
    "    params[\"variacneRatioCarrete\"] = int((half_time * 2) // params['varianceRatioCarreteParameter']) + 1,\n",
    "    # if нужный для корректной работы нашей конерктной реализации. Мы работаем через рекурсию, поэтому это нужно для того\n",
    "    # Чтобы не вызывать StackOverflow\n",
    "    if recursionFilter > _recursion_limit:\n",
    "        return arrowIndex\n",
    "\n",
    "    # Считаем локальные барьеры открытия сделки\n",
    "    bands_roll = dataTuple[\"OpenTuple\"].iloc[arrowIndex-half_time:arrowIndex].rolling(half_time)\n",
    "    bands_mean = bands_roll.mean().iloc[-1]\n",
    "    bands_std = bands_roll.std().iloc[-1]\n",
    "    low_band = bands_mean - bands_std * params['yThreshold']\n",
    "    high_band = bands_mean + bands_std * params['yThreshold']\n",
    "\n",
    "    # Проверяем находится ли цена открытия бара выше чем нижняя полоса Боллинджера. Нужно так делать только для бэкстеста\n",
    "    # Суть в том, что так мы защищаться от возможности ситуации когда все цены находятся находятся ниже полосы из-за например резкого ГЭПА\n",
    "    # Соответствует сделке о покупке. Проверяем что цена LOW находится ниже нижней полосы Боллинджера.\n",
    "    # В real-time нужно будет считать HBandTuple[arrowIndex] динамически в зависимости от данных что уже есть\n",
    "    if (dataTuple[\"OpenTuple\"][arrowIndex] > low_band) and (dataTuple[\"LowTuple\"][arrowIndex] < low_band):\n",
    "        # Если это так, то убеждаемся что можем открыть сделку проводя тест\n",
    "        # VR_RATIO (LOOKBACK={HYPERPARAMETER}, time_laq===q={HYPERPARAMETER})\n",
    "        if variance_ratio(logTuple=dataTuple[\"logTuple\"][arrowIndex - params['varianceLookBack']:arrowIndex],\n",
    "                      retTuple=dataTuple[\"retTuple\"][arrowIndex - params['varianceLookBack']:arrowIndex],params=params):\n",
    "            # Формируем удобочитаемый тип return функции\n",
    "            openDict['typeOperation'] = 'BUY'\n",
    "            openDict['position'] = params['capital'] / low_band\n",
    "            openDict['openPrice'] = low_band\n",
    "            openDict['openIndex'] = arrowIndex\n",
    "            openDict['stopLossBorder'] = round(low_band - params['stopLossStdMultiplier'] * bands_std,3)\n",
    "            openDict['takeProfitBorder'] = round(low_band + params['takeProfitStdMultiplier'] * bands_std,3)\n",
    "            LOGIC_BOOL = True\n",
    "            return {'openDict': openDict, 'params': params}\n",
    "\n",
    "    # Проверяем находится ли цена открытия бара выше чем нижняя полоса Боллинджера. Соответствует сделке о продаже\n",
    "    # В real-time нужно будет считать HBandTuple[arrowIndex] динамически в зависимости от данных что уже есть\n",
    "    elif (dataTuple[\"OpenTuple\"][arrowIndex] < high_band) and (dataTuple[\"HighTuple\"][arrowIndex] > high_band):\n",
    "        # Если это так, то убеждаемся что можем открыть сделку проводя тест\n",
    "        # VR_RATIO (LOOKBACK={HYPERPARAMETER}, time_laq===q={HYPERPARAMETER})\n",
    "        if variance_ratio(logTuple=dataTuple[\"logTuple\"][arrowIndex - params['varianceLookBack']:arrowIndex],\n",
    "                      retTuple=dataTuple[\"retTuple\"][arrowIndex - params['varianceLookBack']:arrowIndex],params=params):\n",
    "            # Формируем удобочитаемый тип return функции\n",
    "            openDict['typeOperation'] = 'SELL'\n",
    "            openDict['position'] = -1 * (params['capital'] / high_band)\n",
    "            openDict['openPrice'] = high_band\n",
    "            openDict['openIndex'] = arrowIndex\n",
    "            openDict['stopLossBorder'] = round(high_band + params['stopLossStdMultiplier'] * bands_std,3)\n",
    "            openDict['takeProfitBorder'] = round(high_band - params['takeProfitStdMultiplier'] * bands_std,3)\n",
    "            LOGIC_BOOL = True\n",
    "            return {'openDict': openDict, 'params': params}\n",
    "\n",
    "    # В случае, если сделку открыть не получилось, переходим к следующей точке. Вывод - пока что сделку не получилось\n",
    "    # В real-time это является аналогом ожидания до появления следующих данных и повторения проверки на открытие уже на них\n",
    "    if not LOGIC_BOOL:\n",
    "        return open_position(arrowIndex=arrowIndex+1, recursionFilter=recursionFilter+1,\n",
    "                             dataTuple=dataTuple, params=params)\n",
    "\n",
    "def close_position(arrowIndex, recursionFilter, openDict, dataTuple, params, timeBorderCounter, indicatorVR) -> dict:\n",
    "    \"\"\"\n",
    "    Определяет логику закрытия позиции. Содержит в себе закрытие по Stop_Loss, time_border, закрытие о быстрое скользящее,\n",
    "    закрытие о долгое скользящее\n",
    "\n",
    "    Для всех параметров заканчивающихся на Tuple верно следующее: передается как массив tuple.\n",
    "    Это связанно с повышением эффективности бэктеста и особенностями рекурсии. В real-time будет другая реализация\n",
    "    :param arrowIndex: Указатель необходимый для перемещения. В real-time не нужен\n",
    "    :param recursionFilter: Указатель необходимый для работы с рекурсией. В real-time не нужен\n",
    "    :param openDict: Список состоящий из условий открытия сделки\n",
    "    :param params: тут передаются все гиперпараметры стратегии\n",
    "    :param dataTuple: Список из объектов, необходимых для расчетов. Содержит в себе:\n",
    "        LowTuple: low цена. В real-time скорее всего будет неактуально\n",
    "        HighTuple: high цена. В real-time скорее всего будет неактуально\n",
    "        OpenTuple: open цена. В real-time скорее всего будет неактуально\n",
    "        LightMeanTuple: скользящее среднее за меньший период\n",
    "        FatMeanTuple: скользящее среднее за больший период\n",
    "        logTuple: логарифмированные цены\n",
    "        retTuple: возвраты за историю\n",
    "    :param timeBorderCounter: счетчик необходимый для возможности закрытия о time-barrier\n",
    "    :param indicatorVR: логическая величина позволяющая гибко добавлять смену режимов стратегии\n",
    "    Фактически показывает в каком сейчас режиме работает логика удержания позиции. Достаточно легко добавляется сейчас\n",
    "    следующие режимы\n",
    "    1) Попытка закрыться не о скользящее среднее за меньший период, а за больший. Повышает прибыльность одной сделки\n",
    "    2) Позволяет из режима 1) переходить в нулевой, например когда Variance Ratio с тайм-лагом q=Сколько мы находимся в сделке\n",
    "    Показывает что данные поменяли тенденцию с meanReversion на TrendFollowing\n",
    "    :return:\n",
    "    \"\"\"\n",
    "    _recursion_limit = 10_000\n",
    "    NOT_NONE_SAVER = False\n",
    "\n",
    "    # Условия для корректной работы рекурсии\n",
    "    if recursionFilter > _recursion_limit:\n",
    "        return [arrowIndex, indicatorVR, timeBorderCounter]\n",
    "\n",
    "    # Условия для закрытие о time-barrier\n",
    "    if timeBorderCounter >= params['timeBarrier']:\n",
    "        return {'typeHolding': 'endPeriod', 'closePrice': dataTuple[\"OpenTuple\"][arrowIndex+1],\n",
    "                        'closeIndex': arrowIndex+1}\n",
    "\n",
    "    # Условия удержания позиции если мы ставли в ЛОНГ\n",
    "    elif openDict['typeOperation'] == 'BUY':\n",
    "        # Стоп лосс условие\n",
    "        if (dataTuple[\"OpenTuple\"][arrowIndex] > openDict['stopLossBorder']) and (dataTuple[\"LowTuple\"][arrowIndex] < openDict['stopLossBorder']):\n",
    "            return {'typeHolding': 'stopLoss', 'closePrice': openDict['stopLossBorder'],\n",
    "                        'closeIndex': arrowIndex + params['restAfterLoss']}\n",
    "\n",
    "        # Smart mean crossing\n",
    "        # Проверяем адекватное расположение между открытием и скользящей малой. Причина этого такая же как для open_position\n",
    "        # Читай в чем суть - выше!\n",
    "        elif (dataTuple[\"OpenTuple\"][arrowIndex] < dataTuple[\"LightMeanTuple\"][arrowIndex]) and (not indicatorVR):\n",
    "            # Проверяем что можно закрыть лонг о пересечение с малой скользящей\n",
    "            if dataTuple[\"HighTuple\"][arrowIndex] > dataTuple[\"LightMeanTuple\"][arrowIndex]:\n",
    "                # Проверяем можно ли продолжить удержание позиции. Делаем это через VariacneRatio за какой-то период\n",
    "                # arrowIndex - params['varianceLookBack'], где varianceLookBack - гиперпараметр стратегии.\n",
    "                # Временной лаг Q для VARIANCE_RATIO определяется как время что мы находимся в позиции\n",
    "                # Если VarianceRatio показывает что данные стали TrendFollowing - мы меняем режим стратегии на попытку закерыться\n",
    "                # О скользящее среднее за больший период. Так мы получим большую прибыль\n",
    "                if dataTuple[\"LightMeanTuple\"][arrowIndex] < dataTuple[\"FatMeanTuple\"][arrowIndex]:\n",
    "                    if not reverse_variance_ratio(logTuple=dataTuple[\"logTuple\"][arrowIndex - params['varianceLookBack']: arrowIndex],\n",
    "                                      retTuple=dataTuple[\"retTuple\"][arrowIndex - params['varianceLookBack']: arrowIndex],\n",
    "                                      params=params, timeBorderCounter=timeBorderCounter+1):\n",
    "                        #   Local Trend Following recursion\n",
    "                        return close_position(arrowIndex=arrowIndex+1, recursionFilter=recursionFilter+1,\n",
    "                                              openDict=openDict, params=params, dataTuple=dataTuple,\n",
    "                                              timeBorderCounter=timeBorderCounter+1, indicatorVR=True)\n",
    "\n",
    "                    else:\n",
    "                        # Если VR RATIO не показал возможность попытаться закрыться о большую скользяшку, то закрываемся\n",
    "                        # о малую\n",
    "                        return {'typeHolding': 'lightCross', 'closePrice': dataTuple[\"LightMeanTuple\"][arrowIndex],\n",
    "                                'closeIndex': arrowIndex }\n",
    "                        pass\n",
    "\n",
    "                else:\n",
    "                    # Может быть так, что скольщяшее среднее за больший период находится выше чем скользящее за малый период\n",
    "                    # Если учесть что мы торгуем на тех инструментах что показывают большую склонность к meanReversion\n",
    "                    # такая ситуцация говорит нам что нужно как можно скорей сбрасывать позицию.\n",
    "                    return {'typeHolding': 'lightCrossEmergent', 'closePrice': dataTuple[\"LightMeanTuple\"][arrowIndex],\n",
    "                                'closeIndex': arrowIndex + params['restAfterFatProfit']}\n",
    "\n",
    "        # Определяет режим работы в случае альтернативной стратегии на которую мы переключаеся в случае выполнения каких-то условий\n",
    "        if indicatorVR:\n",
    "            # Аналогично тому что было раньше\n",
    "            if dataTuple[\"OpenTuple\"][arrowIndex] < dataTuple[\"FatMeanTuple\"][arrowIndex]:\n",
    "                # Аналогично тому что было раньше\n",
    "                if dataTuple[\"HighTuple\"][arrowIndex] > dataTuple[\"FatMeanTuple\"][arrowIndex]:\n",
    "                    return {'typeHolding': 'fatExtraProfit', 'closePrice': dataTuple[\"FatMeanTuple\"][arrowIndex],\n",
    "                            'closeIndex': arrowIndex}\n",
    "                # Даем возможность переключить режим стратегии снова на нулевой. Делаем это если данные снова начали показывать\n",
    "                # склонность к meanReversion\n",
    "                # if variance_ratio(logTuple=dataTuple[\"logTuple\"][arrowIndex - params['varianceLookBack']:arrowIndex],\n",
    "                #       retTuple=dataTuple[\"retTuple\"][arrowIndex - params['varianceLookBack']:arrowIndex],params=params):\n",
    "                #     indicatorVR = False\n",
    "                # ANOTHER LOGIC\n",
    "                # if not reverse_variance_ratio(logTuple=dataTuple[\"logTuple\"][arrowIndex - params['varianceLookBack']:arrowIndex],\n",
    "                #       retTuple=dataTuple[\"retTuple\"][arrowIndex - params['varianceLookBack']:arrowIndex],\n",
    "                #                           params=params, timeBorderCounter=timeBorderCounter):\n",
    "                #     indicatorVR = False\n",
    "    \"\"\"=================================================================================\"\"\"\n",
    "    # Все аналогично, не считая симмертричность\n",
    "    if openDict['typeOperation'] == 'SELL':\n",
    "        # Stop Loss\n",
    "        if (dataTuple[\"OpenTuple\"][arrowIndex] < openDict['stopLossBorder']) and (dataTuple[\"HighTuple\"][arrowIndex] > openDict['stopLossBorder']):\n",
    "            return {'typeHolding': 'stopLoss', 'closePrice': openDict['stopLossBorder'],\n",
    "                        'closeIndex': arrowIndex + params['restAfterLoss']}\n",
    "\n",
    "        # Smart mean crossing\n",
    "        # Проверяем адекватное расположение между открытием и скользящей малой\n",
    "        elif (dataTuple[\"OpenTuple\"][arrowIndex] > dataTuple[\"LightMeanTuple\"][arrowIndex]) and (not indicatorVR):\n",
    "            # Проверяем что можно закрыть шорт о пересечение с малой скользящей\n",
    "            if dataTuple[\"LowTuple\"][arrowIndex] < dataTuple[\"LightMeanTuple\"][arrowIndex]:\n",
    "                # Проверяем можно ли продолжить удержание позиции\n",
    "                if dataTuple[\"LightMeanTuple\"][arrowIndex] > dataTuple[\"FatMeanTuple\"][arrowIndex]:\n",
    "                    if not reverse_variance_ratio(logTuple=dataTuple[\"logTuple\"][arrowIndex - params['varianceLookBack']: arrowIndex],\n",
    "                                      retTuple=dataTuple[\"retTuple\"][arrowIndex - params['varianceLookBack']: arrowIndex],\n",
    "                                      params=params, timeBorderCounter=timeBorderCounter+1):\n",
    "                        #   Local Trend Following recursion\n",
    "                        return close_position(arrowIndex=arrowIndex+1, recursionFilter=recursionFilter+1,\n",
    "                                              openDict=openDict, params=params, dataTuple=dataTuple,\n",
    "                                              timeBorderCounter=timeBorderCounter+1, indicatorVR=True)\n",
    "\n",
    "                    else:\n",
    "                        # small MA\n",
    "                        return {'typeHolding': 'lightCross', 'closePrice': dataTuple[\"LightMeanTuple\"][arrowIndex],\n",
    "                                'closeIndex': arrowIndex }\n",
    "                        pass\n",
    "\n",
    "                else:\n",
    "                    # emergent exit\n",
    "                    return {'typeHolding': 'lightCrossEmergent', 'closePrice': dataTuple[\"LightMeanTuple\"][arrowIndex],\n",
    "                                'closeIndex': arrowIndex + params['restAfterFatProfit']}\n",
    "\n",
    "        # Ждем пересечение с толстой скользящей\n",
    "        if indicatorVR:\n",
    "            if dataTuple[\"OpenTuple\"][arrowIndex] > dataTuple[\"FatMeanTuple\"][arrowIndex]:\n",
    "                if dataTuple[\"LowTuple\"][arrowIndex] < dataTuple[\"FatMeanTuple\"][arrowIndex]:\n",
    "                    return {'typeHolding': 'fatExtraProfit', 'closePrice': dataTuple[\"FatMeanTuple\"][arrowIndex],\n",
    "                            'closeIndex': arrowIndex}\n",
    "                # if variance_ratio(logTuple=dataTuple[\"logTuple\"][arrowIndex - params['varianceLookBack']:arrowIndex],\n",
    "                #       retTuple=dataTuple[\"retTuple\"][arrowIndex - params['varianceLookBack']:arrowIndex],params=params):\n",
    "                #     indicatorVR = False\n",
    "                # ANOTHER LOGIC\n",
    "                # if not reverse_variance_ratio(logTuple=dataTuple[\"logTuple\"][arrowIndex - params['varianceLookBack']:arrowIndex],\n",
    "                #       retTuple=dataTuple[\"retTuple\"][arrowIndex - params['varianceLookBack']:arrowIndex],\n",
    "                #                           params=params, timeBorderCounter=timeBorderCounter):\n",
    "                #     indicatorVR = False\n",
    "\n",
    "\n",
    "    if not NOT_NONE_SAVER:\n",
    "        # Trailing StopLoss\n",
    "        if openDict['typeOperation'] == 'BUY':\n",
    "            delta = dataTuple[\"OpenTuple\"][arrowIndex] - dataTuple[\"OpenTuple\"][arrowIndex-1]\n",
    "            if delta > 0:\n",
    "                openDict['stopLossBorder'] = openDict['stopLossBorder'] + delta\n",
    "        if openDict['typeOperation'] == 'SELL':\n",
    "            delta = dataTuple[\"OpenTuple\"][arrowIndex] - dataTuple[\"OpenTuple\"][arrowIndex-1]\n",
    "            if delta < 0:\n",
    "                openDict['stopLossBorder'] = openDict['stopLossBorder'] - delta\n",
    "\n",
    "        return close_position(arrowIndex=arrowIndex + 1, recursionFilter=recursionFilter + 1,\n",
    "                              openDict=openDict, params=params, dataTuple=dataTuple,\n",
    "                              timeBorderCounter=timeBorderCounter + 1, indicatorVR=indicatorVR)\n",
    "\n",
    "\n",
    "\n",
    "# Начиная с этого момента просто запускается стратегия в парадигме рекурсии\n",
    "startParams = create_grid(initParameters)\n",
    "cookedData = cook_data(df=inpData.copy(), params=startParams)\n",
    "\n",
    "openStore = {\"LBandTuple\": cookedData.LBBand, \"HBandTuple\": cookedData.HBBand,\n",
    "             \"LowTuple\": cookedData.low, \"HighTuple\": cookedData.high, \"OpenTuple\": cookedData.open,\n",
    "             \"logTuple\": cookedData.logOpenPrice, \"retTuple\": cookedData.retOpenPrice}\n",
    "\n",
    "\n",
    "\n",
    "RESULT = list()\n",
    "openPOS = open_position(arrowIndex=startParams['scanHalfTime'], recursionFilter=0, dataTuple=openStore, params=startParams)\n",
    "\n",
    "startParams = openPOS[\"params\"]\n",
    "openPOS = openPOS[\"openDict\"]\n",
    "\n",
    "\n",
    "cookedDataLocal = cook_data(df=cookedData, params=startParams)\n",
    "\n",
    "holdStore = {\"LowTuple\": cookedDataLocal.low, \"HighTuple\": cookedDataLocal.high, \"OpenTuple\": cookedDataLocal.open,\n",
    "         \"LightMeanTuple\": cookedDataLocal.rollMean, \"FatMeanTuple\": cookedDataLocal.fatMean,\n",
    "         \"logTuple\": cookedDataLocal.logOpenPrice, \"retTuple\": cookedDataLocal.retOpenPrice}\n",
    "\n",
    "closePos = close_position(arrowIndex=openPOS['openIndex'], recursionFilter=0, openDict=openPOS,\n",
    "                          dataTuple=holdStore, params=startParams, timeBorderCounter=0, indicatorVR=False)\n",
    "\n",
    "RESULT.append({**openPOS, **closePos})\n",
    "openPOS = closePos['closeIndex']\n",
    "\n",
    "for i in tqdm(range(350)):\n",
    "    while type(openPOS) is not dict:\n",
    "            openPOS = open_position(arrowIndex=openPOS, recursionFilter=0, dataTuple=openStore, params=startParams)\n",
    "\n",
    "    startParams = openPOS[\"params\"]\n",
    "    openPOS = openPOS[\"openDict\"]\n",
    "\n",
    "    cookedDataLocal = cook_data(df=cookedData, params=startParams)\n",
    "\n",
    "    holdStore = {\"LowTuple\": cookedDataLocal.low, \"HighTuple\": cookedDataLocal.high, \"OpenTuple\": cookedDataLocal.open,\n",
    "             \"LightMeanTuple\": cookedDataLocal.rollMean, \"FatMeanTuple\": cookedDataLocal.fatMean,\n",
    "             \"logTuple\": cookedDataLocal.logOpenPrice, \"retTuple\": cookedDataLocal.retOpenPrice}\n",
    "\n",
    "    closePos = int(openPOS['openIndex'] + 1)\n",
    "    indicatorVR = False\n",
    "\n",
    "    timeBR = 0\n",
    "    while type(closePos) is not dict:\n",
    "            closePos = close_position(arrowIndex=closePos, recursionFilter=0, openDict=openPOS, dataTuple=holdStore,\n",
    "                                      params=startParams, timeBorderCounter=timeBR, indicatorVR=indicatorVR)\n",
    "            if type(closePos) == list:\n",
    "                indicatorVR = closePos[1]\n",
    "                closePos = closePos[0]\n",
    "                timeBR = closePos[2]\n",
    "\n",
    "    total_dict = {**openPOS, **closePos}\n",
    "    RESULT.append(total_dict)\n",
    "    openPOS = closePos['closeIndex'] + 1\n",
    "# RESULT содержит в себе всю нужную статистику\n",
    "RESULT = pd.DataFrame(RESULT)"
   ],
   "metadata": {
    "collapsed": false,
    "pycharm": {
     "name": "#%%\n"
    }
   }
  },
  {
   "cell_type": "code",
   "execution_count": 5,
   "outputs": [
    {
     "name": "stdout",
     "output_type": "stream",
     "text": [
      "Total pnl: 646.83\n"
     ]
    },
    {
     "name": "stderr",
     "output_type": "stream",
     "text": [
      "/var/folders/_r/6hvfrncn0gb3rk22vwnq62gh0000gn/T/ipykernel_2447/2496978375.py:2: SettingWithCopyWarning: \n",
      "A value is trying to be set on a copy of a slice from a DataFrame.\n",
      "Try using .loc[row_indexer,col_indexer] = value instead\n",
      "\n",
      "See the caveats in the documentation: https://pandas.pydata.org/pandas-docs/stable/user_guide/indexing.html#returning-a-view-versus-a-copy\n",
      "  copy_df.loc[copy_df.typeHolding == 'stopLoss', 'closeIndex'] = copy_df[copy_df.typeHolding == 'stopLoss']['closeIndex'] = copy_df[copy_df.typeHolding == 'stopLoss']['closeIndex'] - startParams[\"restAfterLoss\"]\n"
     ]
    }
   ],
   "source": [
    "copy_df = RESULT.copy()\n",
    "copy_df.loc[copy_df.typeHolding == 'stopLoss', 'closeIndex'] = copy_df[copy_df.typeHolding == 'stopLoss']['closeIndex'] = copy_df[copy_df.typeHolding == 'stopLoss']['closeIndex'] - startParams[\"restAfterLoss\"]\n",
    "copy_df['profit'] = (RESULT[\"position\"] * (RESULT[\"closePrice\"] - RESULT[\"openPrice\"]) - startParams['slippage'] if (RESULT[\"typeOperation\"] == 'BUY').bool else abs(RESULT[\"position\"]) * (RESULT[\"openPrice\"] - RESULT[\"closePrice\"]) - - startParams['slippage'])\n",
    "print('Total pnl:', round(copy_df.profit.cumsum().iloc[-1], 2))"
   ],
   "metadata": {
    "collapsed": false,
    "pycharm": {
     "name": "#%%\n"
    }
   }
  },
  {
   "cell_type": "code",
   "execution_count": 6,
   "outputs": [
    {
     "name": "stdout",
     "output_type": "stream",
     "text": [
      "W=64.67%, L = 35.33%\n",
      "average profit of a positive trade: 10.36\n",
      "average profit of a negative trade: -13.76\n"
     ]
    }
   ],
   "source": [
    "print(f\"W={copy_df[copy_df.profit > 0].shape[0] / copy_df.shape[0]:.2%}, L = {copy_df[copy_df.profit < 0].shape[0] / copy_df.shape[0]:.2%}\")\n",
    "print(f'average profit of a positive trade: {copy_df[copy_df.profit > 0].profit.mean():.2f}')\n",
    "print(f'average profit of a negative trade: {copy_df[copy_df.profit < 0].profit.mean():.2f}')"
   ],
   "metadata": {
    "collapsed": false,
    "pycharm": {
     "name": "#%%\n"
    }
   }
  },
  {
   "cell_type": "code",
   "execution_count": 7,
   "outputs": [
    {
     "data": {
      "text/plain": "               position                                                  \\\n                  count        mean         std         min         25%   \ntypeHolding                                                               \nfatExtraProfit     30.0 -130.013451  124.962573 -182.719194 -179.727405   \nlightCross         16.0  -90.174978  161.280173 -183.895321 -181.400659   \nstopLoss           78.0  170.438973   57.055765 -179.655678  177.196554   \n\n                                                   openPrice              ...  \\\n                       50%         75%         max     count        mean  ...   \ntypeHolding                                                               ...   \nfatExtraProfit -176.900204 -175.564525  185.394453      30.0  111.845015  ...   \nlightCross     -180.276361  -87.082621  182.114737      16.0  110.933512  ...   \nstopLoss        179.605899  181.542741  185.527912      78.0  111.377642  ...   \n\n               closeIndex           profit                                   \\\n                      75%       max  count       mean        std        min   \ntypeHolding                                                                   \nfatExtraProfit   133083.5  185499.0   30.0 -15.221016  14.538865 -51.767194   \nlightCross       129315.0  166329.0   16.0 -26.147630  21.983424 -76.097666   \nstopLoss         135639.5  185557.0   78.0 -10.651769   8.948836 -47.851891   \n\n                                                           \n                      25%        50%        75%       max  \ntypeHolding                                                \nfatExtraProfit -24.843049 -10.133290  -2.878793 -0.212316  \nlightCross     -33.510163 -18.711249 -11.375425 -0.776175  \nstopLoss       -13.336875  -7.989002  -4.638585 -0.374888  \n\n[3 rows x 64 columns]",
      "text/html": "<div>\n<style scoped>\n    .dataframe tbody tr th:only-of-type {\n        vertical-align: middle;\n    }\n\n    .dataframe tbody tr th {\n        vertical-align: top;\n    }\n\n    .dataframe thead tr th {\n        text-align: left;\n    }\n\n    .dataframe thead tr:last-of-type th {\n        text-align: right;\n    }\n</style>\n<table border=\"1\" class=\"dataframe\">\n  <thead>\n    <tr>\n      <th></th>\n      <th colspan=\"8\" halign=\"left\">position</th>\n      <th colspan=\"2\" halign=\"left\">openPrice</th>\n      <th>...</th>\n      <th colspan=\"2\" halign=\"left\">closeIndex</th>\n      <th colspan=\"8\" halign=\"left\">profit</th>\n    </tr>\n    <tr>\n      <th></th>\n      <th>count</th>\n      <th>mean</th>\n      <th>std</th>\n      <th>min</th>\n      <th>25%</th>\n      <th>50%</th>\n      <th>75%</th>\n      <th>max</th>\n      <th>count</th>\n      <th>mean</th>\n      <th>...</th>\n      <th>75%</th>\n      <th>max</th>\n      <th>count</th>\n      <th>mean</th>\n      <th>std</th>\n      <th>min</th>\n      <th>25%</th>\n      <th>50%</th>\n      <th>75%</th>\n      <th>max</th>\n    </tr>\n    <tr>\n      <th>typeHolding</th>\n      <th></th>\n      <th></th>\n      <th></th>\n      <th></th>\n      <th></th>\n      <th></th>\n      <th></th>\n      <th></th>\n      <th></th>\n      <th></th>\n      <th></th>\n      <th></th>\n      <th></th>\n      <th></th>\n      <th></th>\n      <th></th>\n      <th></th>\n      <th></th>\n      <th></th>\n      <th></th>\n      <th></th>\n    </tr>\n  </thead>\n  <tbody>\n    <tr>\n      <th>fatExtraProfit</th>\n      <td>30.0</td>\n      <td>-130.013451</td>\n      <td>124.962573</td>\n      <td>-182.719194</td>\n      <td>-179.727405</td>\n      <td>-176.900204</td>\n      <td>-175.564525</td>\n      <td>185.394453</td>\n      <td>30.0</td>\n      <td>111.845015</td>\n      <td>...</td>\n      <td>133083.5</td>\n      <td>185499.0</td>\n      <td>30.0</td>\n      <td>-15.221016</td>\n      <td>14.538865</td>\n      <td>-51.767194</td>\n      <td>-24.843049</td>\n      <td>-10.133290</td>\n      <td>-2.878793</td>\n      <td>-0.212316</td>\n    </tr>\n    <tr>\n      <th>lightCross</th>\n      <td>16.0</td>\n      <td>-90.174978</td>\n      <td>161.280173</td>\n      <td>-183.895321</td>\n      <td>-181.400659</td>\n      <td>-180.276361</td>\n      <td>-87.082621</td>\n      <td>182.114737</td>\n      <td>16.0</td>\n      <td>110.933512</td>\n      <td>...</td>\n      <td>129315.0</td>\n      <td>166329.0</td>\n      <td>16.0</td>\n      <td>-26.147630</td>\n      <td>21.983424</td>\n      <td>-76.097666</td>\n      <td>-33.510163</td>\n      <td>-18.711249</td>\n      <td>-11.375425</td>\n      <td>-0.776175</td>\n    </tr>\n    <tr>\n      <th>stopLoss</th>\n      <td>78.0</td>\n      <td>170.438973</td>\n      <td>57.055765</td>\n      <td>-179.655678</td>\n      <td>177.196554</td>\n      <td>179.605899</td>\n      <td>181.542741</td>\n      <td>185.527912</td>\n      <td>78.0</td>\n      <td>111.377642</td>\n      <td>...</td>\n      <td>135639.5</td>\n      <td>185557.0</td>\n      <td>78.0</td>\n      <td>-10.651769</td>\n      <td>8.948836</td>\n      <td>-47.851891</td>\n      <td>-13.336875</td>\n      <td>-7.989002</td>\n      <td>-4.638585</td>\n      <td>-0.374888</td>\n    </tr>\n  </tbody>\n</table>\n<p>3 rows × 64 columns</p>\n</div>"
     },
     "execution_count": 7,
     "metadata": {},
     "output_type": "execute_result"
    }
   ],
   "source": [
    "copy_df[copy_df.profit < 0].groupby(by='typeHolding').describe()"
   ],
   "metadata": {
    "collapsed": false,
    "pycharm": {
     "name": "#%%\n"
    }
   }
  },
  {
   "cell_type": "code",
   "execution_count": 8,
   "outputs": [
    {
     "data": {
      "text/plain": "                   position                                                  \\\n                      count        mean         std         min         25%   \ntypeHolding                                                                   \nfatExtraProfit        161.0  -63.375041  168.777909 -184.925126 -180.536844   \nlightCross             28.0  -89.511740  157.929035 -183.895321 -181.033177   \nlightCrossEmergent     69.0   13.065469  180.555439 -182.890563 -179.649851   \nstopLoss               93.0  172.032740   52.334493 -179.655678  177.317433   \n\n                                                       openPrice              \\\n                           50%         75%         max     count        mean   \ntypeHolding                                                                    \nfatExtraProfit     -177.006364  179.130551  186.239593     161.0  111.272548   \nlightCross         -177.250245  -86.957098  182.114737      28.0  111.724707   \nlightCrossEmergent  175.601688  179.924670  185.031376      69.0  111.314450   \nstopLoss            179.988046  181.607149  185.527912      93.0  111.306060   \n\n                    ... closeIndex           profit                        \\\n                    ...        75%       max  count       mean        std   \ntypeHolding         ...                                                     \nfatExtraProfit      ...  144543.00  187140.0  161.0   6.826418  24.117927   \nlightCross          ...  125639.75  166329.0   28.0 -11.787169  24.045616   \nlightCrossEmergent  ...  148313.00  185285.0   69.0   8.376304   6.582102   \nstopLoss            ...  135906.00  185557.0   93.0  -7.528462  11.595553   \n\n                                                                           \n                          min        25%       50%        75%         max  \ntypeHolding                                                                \nfatExtraProfit     -51.767194   1.629773  5.845175  10.196524  222.765963  \nlightCross         -76.097666 -21.967647 -5.880087   5.023172   29.257744  \nlightCrossEmergent   0.696836   3.831975  6.585845  10.747332   39.454145  \nstopLoss           -47.851891 -12.491047 -6.774742  -1.973456   34.790411  \n\n[4 rows x 64 columns]",
      "text/html": "<div>\n<style scoped>\n    .dataframe tbody tr th:only-of-type {\n        vertical-align: middle;\n    }\n\n    .dataframe tbody tr th {\n        vertical-align: top;\n    }\n\n    .dataframe thead tr th {\n        text-align: left;\n    }\n\n    .dataframe thead tr:last-of-type th {\n        text-align: right;\n    }\n</style>\n<table border=\"1\" class=\"dataframe\">\n  <thead>\n    <tr>\n      <th></th>\n      <th colspan=\"8\" halign=\"left\">position</th>\n      <th colspan=\"2\" halign=\"left\">openPrice</th>\n      <th>...</th>\n      <th colspan=\"2\" halign=\"left\">closeIndex</th>\n      <th colspan=\"8\" halign=\"left\">profit</th>\n    </tr>\n    <tr>\n      <th></th>\n      <th>count</th>\n      <th>mean</th>\n      <th>std</th>\n      <th>min</th>\n      <th>25%</th>\n      <th>50%</th>\n      <th>75%</th>\n      <th>max</th>\n      <th>count</th>\n      <th>mean</th>\n      <th>...</th>\n      <th>75%</th>\n      <th>max</th>\n      <th>count</th>\n      <th>mean</th>\n      <th>std</th>\n      <th>min</th>\n      <th>25%</th>\n      <th>50%</th>\n      <th>75%</th>\n      <th>max</th>\n    </tr>\n    <tr>\n      <th>typeHolding</th>\n      <th></th>\n      <th></th>\n      <th></th>\n      <th></th>\n      <th></th>\n      <th></th>\n      <th></th>\n      <th></th>\n      <th></th>\n      <th></th>\n      <th></th>\n      <th></th>\n      <th></th>\n      <th></th>\n      <th></th>\n      <th></th>\n      <th></th>\n      <th></th>\n      <th></th>\n      <th></th>\n      <th></th>\n    </tr>\n  </thead>\n  <tbody>\n    <tr>\n      <th>fatExtraProfit</th>\n      <td>161.0</td>\n      <td>-63.375041</td>\n      <td>168.777909</td>\n      <td>-184.925126</td>\n      <td>-180.536844</td>\n      <td>-177.006364</td>\n      <td>179.130551</td>\n      <td>186.239593</td>\n      <td>161.0</td>\n      <td>111.272548</td>\n      <td>...</td>\n      <td>144543.00</td>\n      <td>187140.0</td>\n      <td>161.0</td>\n      <td>6.826418</td>\n      <td>24.117927</td>\n      <td>-51.767194</td>\n      <td>1.629773</td>\n      <td>5.845175</td>\n      <td>10.196524</td>\n      <td>222.765963</td>\n    </tr>\n    <tr>\n      <th>lightCross</th>\n      <td>28.0</td>\n      <td>-89.511740</td>\n      <td>157.929035</td>\n      <td>-183.895321</td>\n      <td>-181.033177</td>\n      <td>-177.250245</td>\n      <td>-86.957098</td>\n      <td>182.114737</td>\n      <td>28.0</td>\n      <td>111.724707</td>\n      <td>...</td>\n      <td>125639.75</td>\n      <td>166329.0</td>\n      <td>28.0</td>\n      <td>-11.787169</td>\n      <td>24.045616</td>\n      <td>-76.097666</td>\n      <td>-21.967647</td>\n      <td>-5.880087</td>\n      <td>5.023172</td>\n      <td>29.257744</td>\n    </tr>\n    <tr>\n      <th>lightCrossEmergent</th>\n      <td>69.0</td>\n      <td>13.065469</td>\n      <td>180.555439</td>\n      <td>-182.890563</td>\n      <td>-179.649851</td>\n      <td>175.601688</td>\n      <td>179.924670</td>\n      <td>185.031376</td>\n      <td>69.0</td>\n      <td>111.314450</td>\n      <td>...</td>\n      <td>148313.00</td>\n      <td>185285.0</td>\n      <td>69.0</td>\n      <td>8.376304</td>\n      <td>6.582102</td>\n      <td>0.696836</td>\n      <td>3.831975</td>\n      <td>6.585845</td>\n      <td>10.747332</td>\n      <td>39.454145</td>\n    </tr>\n    <tr>\n      <th>stopLoss</th>\n      <td>93.0</td>\n      <td>172.032740</td>\n      <td>52.334493</td>\n      <td>-179.655678</td>\n      <td>177.317433</td>\n      <td>179.988046</td>\n      <td>181.607149</td>\n      <td>185.527912</td>\n      <td>93.0</td>\n      <td>111.306060</td>\n      <td>...</td>\n      <td>135906.00</td>\n      <td>185557.0</td>\n      <td>93.0</td>\n      <td>-7.528462</td>\n      <td>11.595553</td>\n      <td>-47.851891</td>\n      <td>-12.491047</td>\n      <td>-6.774742</td>\n      <td>-1.973456</td>\n      <td>34.790411</td>\n    </tr>\n  </tbody>\n</table>\n<p>4 rows × 64 columns</p>\n</div>"
     },
     "execution_count": 8,
     "metadata": {},
     "output_type": "execute_result"
    }
   ],
   "source": [
    "copy_df.groupby(by='typeHolding').describe()"
   ],
   "metadata": {
    "collapsed": false,
    "pycharm": {
     "name": "#%%\n"
    }
   }
  },
  {
   "cell_type": "code",
   "execution_count": null,
   "outputs": [],
   "source": [
    "copy = copy_df.copy()\n",
    "copy.index = copy.openIndex\n",
    "stepDF = pd.DataFrame(index=pd.RangeIndex(min(copy_df.openIndex), max(copy_df.openIndex)))\n",
    "stepPnl = stepDF.merge(copy, left_index=True, right_index=True, how='outer').profit.replace(np.nan, 0).cumsum()\n",
    "del copy, stepDF\n",
    "\n",
    "plt.figure(figsize=(18,12))\n",
    "plt.style.use('Solarize_Light2')\n",
    "plt.subplot(2,1,1)\n",
    "plt.plot(stepPnl)\n",
    "plt.title(f'Total Pnl for {pairName}')\n",
    "plt.subplot(2,1,2)\n",
    "plt.plot(range(stepPnl.index[0], openStore[\"OpenTuple\"].iloc[min(RESULT.openIndex):max(RESULT.openIndex)].shape[0] + stepPnl.index[0]), openStore[\"OpenTuple\"].iloc[min(RESULT.openIndex)+stepPnl.index[0]:max(RESULT.openIndex)+stepPnl.index[0]])\n",
    "plt.show()"
   ],
   "metadata": {
    "collapsed": false,
    "pycharm": {
     "name": "#%%\n"
    }
   }
  },
  {
   "cell_type": "code",
   "execution_count": 10,
   "outputs": [
    {
     "name": "stderr",
     "output_type": "stream",
     "text": [
      "No handles with labels found to put in legend.\n"
     ]
    },
    {
     "data": {
      "text/plain": "<Figure size 864x648 with 1 Axes>",
      "image/png": "[encoded data removed]"
     },
     "metadata": {},
     "output_type": "display_data"
    }
   ],
   "source": [
    "\"\"\"MARKOUT\"\"\"\n",
    "copy_df['ownTime'] = copy_df.closeIndex - copy_df.openIndex\n",
    "plt.figure(figsize=(12,9))\n",
    "plt.title('MarkOut')\n",
    "ax = plt.subplot(1,1,1)\n",
    "plt.plot(copy_df.groupby(by='ownTime').profit.mean().values, 'o')\n",
    "plt.legend(loc='lower left')\n",
    "plt.show()\n",
    "\n"
   ],
   "metadata": {
    "collapsed": false,
    "pycharm": {
     "name": "#%%\n"
    }
   }
  },
  {
   "cell_type": "code",
   "execution_count": 22,
   "outputs": [
    {
     "data": {
      "text/plain": "<Figure size 1152x648 with 2 Axes>",
      "image/png": "[encoded data removed]"
     },
     "metadata": {},
     "output_type": "display_data"
    }
   ],
   "source": [
    "a = [((x + 1)* 1500, get_half_time(openStore[\"OpenTuple\"].iloc[x*1500:(x + 1)* 1500])) for x in range(150, 250)]\n",
    "plt.figure(figsize=(16,9))\n",
    "plt.subplot(2,1,1)\n",
    "plt.title('Half life throw time')\n",
    "plt.plot(np.array(a)[:,0], np.array(a)[:,1])\n",
    "plt.subplot(2,1,2)\n",
    "plt.title('real data')\n",
    "plt.plot(openStore[\"OpenTuple\"].iloc[int(min(np.array(a)[:,0])):int(max(np.array(a)[:,0]))])\n",
    "plt.show()"
   ],
   "metadata": {
    "collapsed": false,
    "pycharm": {
     "name": "#%%\n"
    }
   }
  },
  {
   "cell_type": "code",
   "execution_count": 14,
   "outputs": [],
   "source": [],
   "metadata": {
    "collapsed": false,
    "pycharm": {
     "name": "#%%\n"
    }
   }
  }
 ],
 "metadata": {
  "kernelspec": {
   "display_name": "Python 3",
   "language": "python",
   "name": "python3"
  },
  "language_info": {
   "codemirror_mode": {
    "name": "ipython",
    "version": 2
   },
   "file_extension": ".py",
   "mimetype": "text/x-python",
   "name": "python",
   "nbconvert_exporter": "python",
   "pygments_lexer": "ipython2",
   "version": "2.7.6"
  }
 },
 "nbformat": 4,
 "nbformat_minor": 0
}