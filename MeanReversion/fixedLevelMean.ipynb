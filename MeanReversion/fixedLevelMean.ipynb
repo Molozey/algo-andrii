{
 "cells": [
  {
   "cell_type": "code",
   "execution_count": 6,
   "metadata": {
    "collapsed": true
   },
   "outputs": [],
   "source": [
    "import platform\n",
    "\n",
    "global systemDivide\n",
    "if platform.platform().split('-')[0] == 'macOS':\n",
    "    systemDivide = '/'\n",
    "else:\n",
    "    systemDivide = '\\\\'\n",
    "\n",
    "import sys\n",
    "import threading\n",
    "\n",
    "threading.stack_size(2**27)\n",
    "sys.setrecursionlimit(10 ** 5)"
   ]
  },
  {
   "cell_type": "code",
   "execution_count": 7,
   "outputs": [],
   "source": [
    "import pandas as pd\n",
    "import numpy as np\n",
    "from tqdm.notebook import tqdm\n",
    "\n",
    "pairName = 'CHFJPY.csv'\n",
    "\n",
    "inpData = pd.read_csv(f\"testData{systemDivide}{pairName}\", index_col=1)\n",
    "# Какие колонки нужны для работы\n",
    "columns = ['open', 'high', 'low', 'close']\n",
    "inpData = inpData[columns]\n",
    "inpData.index = pd.to_datetime(inpData.index)\n",
    "\n",
    "# initParameters = {\n",
    "#     'yThreshold': 300,\n",
    "#     'rollingMean': 500,\n",
    "#     'fatRollingMean': 2500,\n",
    "#     'timeBarrier': 1100,\n",
    "#     'varianceRatioFilter': 1.1,\n",
    "#     'restAfterLoss': 350,\n",
    "#     'restAfterFatProfit' : 50,\n",
    "#     'stopLossPercent': 1,\n",
    "#     'takeProfitPercent': 10,\n",
    "#     'varianceRatioCarreteParameter': 20,\n",
    "#     }\n",
    "\n",
    "initParameters = {\n",
    "    'yThreshold': 140,\n",
    "    'rollingMean': 500,\n",
    "    'fatRollingMean': 2500,\n",
    "    'timeBarrier': 1100,\n",
    "    'varianceRatioFilter': 1.1,\n",
    "    'restAfterLoss': 350,\n",
    "    'restAfterFatProfit' : 50,\n",
    "    'stopLossPercent': 1,\n",
    "    'takeProfitPercent': 10,\n",
    "    'varianceRatioCarreteParameter': 20,\n",
    "    }"
   ],
   "metadata": {
    "collapsed": false,
    "pycharm": {
     "name": "#%%\n"
    }
   }
  },
  {
   "cell_type": "markdown",
   "source": [
    "# Проверим распределение доходностей на нормальность"
   ],
   "metadata": {
    "collapsed": false,
    "pycharm": {
     "name": "#%% md\n"
    }
   }
  },
  {
   "cell_type": "code",
   "execution_count": 8,
   "outputs": [
    {
     "name": "stdout",
     "output_type": "stream",
     "text": [
      "3 sigma anomalies 1.275%\n"
     ]
    },
    {
     "data": {
      "text/plain": "<Figure size 864x432 with 2 Axes>",
      "image/png": "[encoded data removed]"
     },
     "metadata": {
      "needs_background": "light"
     },
     "output_type": "display_data"
    }
   ],
   "source": [
    "import matplotlib.pylab as plt\n",
    "from scipy.stats import zscore, probplot\n",
    "\n",
    "plt.style.use(style='fast')\n",
    "plt.figure(figsize=(12,6))\n",
    "plt.subplot(2,1,1)\n",
    "plt.title('Гистограмма доходностей')\n",
    "abs_Z_scores = np.abs(zscore(inpData.open.pct_change().iloc[1:]))\n",
    "filtered = (abs_Z_scores < 3)\n",
    "print(f'3 sigma anomalies {(1 - sum(filtered) / inpData.shape[0]):.3%}')\n",
    "bars = plt.hist(inpData.open.pct_change().values[1:][filtered], density=True, )\n",
    "ax = plt.subplot(2,1,2)\n",
    "\n",
    "probplot(inpData.open.pct_change().values[1:][filtered], plot=ax)\n",
    "plt.title(f'Q-Q plot')\n",
    "plt.show()\n",
    "del abs_Z_scores, filtered, bars"
   ],
   "metadata": {
    "collapsed": false,
    "pycharm": {
     "name": "#%%\n"
    }
   }
  },
  {
   "cell_type": "code",
   "execution_count": 9,
   "outputs": [
    {
     "data": {
      "text/plain": "  0%|          | 0/450 [00:00<?, ?it/s]",
      "application/vnd.jupyter.widget-view+json": {
       "version_major": 2,
       "version_minor": 0,
       "model_id": "3116bb8c8e6d4c3587bac4930d5d5c3f"
      }
     },
     "metadata": {},
     "output_type": "display_data"
    }
   ],
   "source": [
    "def create_grid(params: initParameters):\n",
    "    \"\"\"\n",
    "    Создает удобную сетку для дальнейших расчетов\n",
    "    :param params: начальные init параметры\n",
    "    :return: словарь из параметров использующийся везде\n",
    "    \"\"\"\n",
    "    capital = 20_000\n",
    "    slippage = .2\n",
    "    retParams = {\n",
    "        'capital': capital,\n",
    "        'slippage': slippage,\n",
    "        'slippagePerCapital': slippage / capital,\n",
    "        'yThreshold': round(params['yThreshold'] / 100, 2),\n",
    "        'rollingMean': params['rollingMean'],\n",
    "        'fatRollingMean': params['fatRollingMean'],\n",
    "        'timeBarrier': params['timeBarrier'],\n",
    "        'varianceRatioFilter': params['varianceRatioFilter'],\n",
    "        'restAfterLoss': params['restAfterLoss'],\n",
    "        'restAfterFatProfit' : params['restAfterFatProfit'],\n",
    "        'stopLossThreshold': round(params['stopLossPercent'] / 100, 3),\n",
    "        'takeProfitThreshold': round(params['takeProfitPercent'] / 100, 3),\n",
    "        'varianceLookBack': params['rollingMean'] * 2,\n",
    "        'varianceRatioCarrete': int((params['rollingMean'] * 2) // params['varianceRatioCarreteParameter']) + 1,\n",
    "    }\n",
    "    return retParams\n",
    "\n",
    "def cook_data(df: pd.DataFrame, params) -> pd.DataFrame:\n",
    "    \"\"\"\n",
    "    Подготавливает данные для дальнейшего рассчета стратегии.\n",
    "    :param df: должен быть open, close, low, high\n",
    "    :param params: список параметров из create_grid\n",
    "    :return: данные с полосами Болинджера + логарифмы + возвраты\n",
    "    \"\"\"\n",
    "    df['rollMean'] = df['open'].rolling(window=params['rollingMean']).mean()\n",
    "    df['rollingStd'] = df['open'].rolling(window=params['rollingMean']).std()\n",
    "    df['HBBand'] = df['rollMean'] + df['rollingStd'] * params['yThreshold']\n",
    "    df['LBBand'] = df['rollMean'] - df['rollingStd'] * params['yThreshold']\n",
    "    df['fatMean'] = df['open'].rolling(window=params['fatRollingMean']).mean()\n",
    "    df['logOpenPrice'] = np.log(df['open'])\n",
    "    df['retOpenPrice'] = df['logOpenPrice'].diff()\n",
    "    return df.iloc[max(params['varianceLookBack'], params['fatRollingMean']):]\n",
    "\n",
    "def variance_ratio(logTuple: tuple, retTuple: tuple, params: dict) -> bool:\n",
    "    \"\"\"\n",
    "    Возвращает значение variacne ratio. Необходимо для понимания того, можно ли открывать сделку\n",
    "    :param logTuple: tuple из цен открытия включая проверяемую точку\n",
    "    :param retTuple: tuple из цен открытия включая проверяемую точку\n",
    "    :param params: список параметров из create_grid\n",
    "    :return: Можно ли открывать сделку. Фактически является фильтром\n",
    "    \"\"\"\n",
    "    buffer_size = len(retTuple)\n",
    "    means = (1 / buffer_size) * np.sum(retTuple)\n",
    "    # сдвиг во времени q\n",
    "    m = params['varianceRatioCarrete'] * (buffer_size - params['varianceRatioCarrete'] + 1 ) * (1 - (params['varianceRatioCarrete'] / buffer_size))\n",
    "    sigma_a = (1 / (buffer_size - 1)) * np.sum(np.square(np.subtract(retTuple, means)))\n",
    "    subtract_returns = np.subtract(logTuple, np.roll(logTuple, params['varianceRatioCarrete']))[params['varianceRatioCarrete']:]\n",
    "    _buff_ = np.sum(np.square(subtract_returns - params['varianceRatioCarrete'] * means))\n",
    "\n",
    "    sigma_b = (1 / m) * _buff_\n",
    "    result = (sigma_b / sigma_a)\n",
    "    if result < params['varianceRatioFilter']:\n",
    "        return True\n",
    "    else:\n",
    "        return False\n",
    "\n",
    "def reverse_variance_ratio(logTuple: tuple, retTuple: tuple, params: dict, timeBorderCounter: int) -> bool:\n",
    "    \"\"\"\n",
    "    Возвращает значение variacne ratio. Необходимо для понимания того, можно ли открывать сделку\n",
    "    :param logTuple: tuple из цен открытия включая проверяемую точку\n",
    "    :param retTuple: tuple из цен открытия включая проверяемую точку\n",
    "    :param params: список параметров из create_grid\n",
    "    :return: Можно ли открывать сделку. Фактически является фильтром\n",
    "    \"\"\"\n",
    "    if timeBorderCounter < params[\"varianceLookBack\"]:\n",
    "        buffer_size = len(retTuple)\n",
    "        means = (1 / buffer_size) * np.sum(retTuple)\n",
    "        # сдвиг во времени q\n",
    "        m = timeBorderCounter * (buffer_size - timeBorderCounter + 1 ) * (1 - (timeBorderCounter / buffer_size))\n",
    "        sigma_a = (1 / (buffer_size - 1)) * np.sum(np.square(np.subtract(retTuple, means)))\n",
    "        subtract_returns = np.subtract(logTuple, np.roll(logTuple, timeBorderCounter))[timeBorderCounter:]\n",
    "        _buff_ = np.sum(np.square(subtract_returns - timeBorderCounter * means))\n",
    "        sigma_b = (1 / m) * _buff_\n",
    "        result = (sigma_b / sigma_a)\n",
    "        if result > params['varianceRatioFilter']:\n",
    "            return True\n",
    "        else:\n",
    "            return False\n",
    "    else:\n",
    "        return False\n",
    "\n",
    "\n",
    "def open_position(arrowIndex, recursionFilter, LBandTuple, HBandTuple, LowTuple,\n",
    "                 HighTuple, OpenTuple, params, logTuple, retTuple, MeanTuple, StdTuple) -> dict:\n",
    "    \"\"\"\n",
    "    Возвращает список с типом сделанной сделки\n",
    "    :param arrowIndex: Навигация по полному массиву данных\n",
    "    :param recursionFilter: ограничитель ошибок связанных с забитием памяти и превышением лимита рекурсии\n",
    "    :param LBandTuple: нижняя граница болинджера\n",
    "    :param HBandTuple: верхняя полоса болинджера\n",
    "    :param LowTuple: low цена\n",
    "    :param HighTuple: high цена\n",
    "    :param OpenTuple: open цена\n",
    "    :param params: список параметров полученных с помощью create_grid\n",
    "    :param logTuple: необходим для расчета Variance ratio\n",
    "    :param retTuple: необходим для расчета Variance ratio\n",
    "    :param MeanTuple:\n",
    "    :param StdTuple:\n",
    "    :return: список о сделанной сделке\n",
    "    \"\"\"\n",
    "    LOGIC_BOOL = False\n",
    "    _recursion_limit = 10_000\n",
    "\n",
    "    openDict = {\n",
    "        'typeOperation': None,\n",
    "        'position': None,\n",
    "        'openPrice': None,\n",
    "        'openIndex': None,\n",
    "        'stopLossBorder': None,\n",
    "        'takeProfitBorder': None,\n",
    "        'movingAverageLevel': None,\n",
    "        'STD': None\n",
    "    }\n",
    "    if recursionFilter > _recursion_limit:\n",
    "        return arrowIndex\n",
    "\n",
    "        # Текущее открытие должно находится выше нижней полосы Болинджера,\n",
    "        # тогда в случае если LOW пересекает полосу покупаем контракт по цене LBBand\n",
    "    if (OpenTuple[arrowIndex] > LBandTuple[arrowIndex]) and (LowTuple[arrowIndex] < LBandTuple[arrowIndex]):\n",
    "        if variance_ratio(logTuple=logTuple[arrowIndex - params['varianceLookBack']:arrowIndex],\n",
    "                      retTuple=retTuple[arrowIndex - params['varianceLookBack']:arrowIndex],params=params):\n",
    "            openDict['typeOperation'] = 'BUY'\n",
    "            openDict['position'] = params['capital'] / LBandTuple[arrowIndex]\n",
    "            openDict['openPrice'] = LBandTuple[arrowIndex]\n",
    "            openDict['openIndex'] = arrowIndex\n",
    "            openDict['stopLossBorder'] = LBandTuple[arrowIndex] - 5 * StdTuple[arrowIndex]\n",
    "            openDict['takeProfitBorder'] = LBandTuple[arrowIndex] + 12 * StdTuple[arrowIndex]\n",
    "            openDict['movingAverageLevel'] = MeanTuple[arrowIndex]\n",
    "            LOGIC_BOOL = True\n",
    "            return openDict\n",
    "\n",
    "    elif (OpenTuple[arrowIndex] < HBandTuple[arrowIndex]) and (HighTuple[arrowIndex] > HBandTuple[arrowIndex]):\n",
    "        if variance_ratio(logTuple=logTuple[arrowIndex - params['varianceLookBack']:arrowIndex],\n",
    "                      retTuple=retTuple[arrowIndex - params['varianceLookBack']:arrowIndex],params=params):\n",
    "            openDict['typeOperation'] = 'SELL'\n",
    "            openDict['position'] = -1 * (params['capital'] / HBandTuple[arrowIndex])\n",
    "            openDict['openPrice'] = HBandTuple[arrowIndex]\n",
    "            openDict['openIndex'] = arrowIndex\n",
    "            openDict['stopLossBorder'] = HBandTuple[arrowIndex] + 5 * StdTuple[arrowIndex]\n",
    "            openDict['takeProfitBorder'] = HBandTuple[arrowIndex] - 12 * StdTuple[arrowIndex]\n",
    "            openDict['movingAverageLevel'] = MeanTuple[arrowIndex]\n",
    "            LOGIC_BOOL = True\n",
    "            return openDict\n",
    "\n",
    "    if not LOGIC_BOOL:\n",
    "        return open_position(arrowIndex=arrowIndex+1, recursionFilter=recursionFilter+1, LBandTuple=LBandTuple,\n",
    "                     HBandTuple=HBandTuple, LowTuple=LowTuple, HighTuple=HighTuple, OpenTuple=OpenTuple, params=params,\n",
    "                     logTuple=logTuple, retTuple=retTuple, MeanTuple=MeanTuple, StdTuple=StdTuple)\n",
    "\n",
    "\n",
    "def close_position(arrowIndex, recursionFilter, openDict, LowTuple, HighTuple, OpenTuple, LightMeanTuple, FatMeanTuple,\n",
    "                   params, logTuple, retTuple, timeBorderCounter, indicatorVR) -> dict:\n",
    "    \"\"\"\n",
    "\n",
    "    :param arrowIndex:\n",
    "    :param recursionFilter:\n",
    "    :param openDict:\n",
    "    :param LowTuple:\n",
    "    :param HighTuple:\n",
    "    :param OpenTuple:\n",
    "    :param LightMeanTuple:\n",
    "    :param FatMeanTuple:\n",
    "    :param params:\n",
    "    :param logTuple:\n",
    "    :param retTuple:\n",
    "    :param timeBorderCounter:\n",
    "    :param indicatorVR:\n",
    "    :return:\n",
    "    \"\"\"\n",
    "    _recursion_limit = 10_000\n",
    "    NOT_NONE_SAVER = False\n",
    "\n",
    "    if recursionFilter > _recursion_limit:\n",
    "        return [arrowIndex, indicatorVR]\n",
    "\n",
    "    if timeBorderCounter >= params['timeBarrier']:\n",
    "        return {'typeHolding': 'endPeriod', 'closePrice': OpenTuple[arrowIndex+1],\n",
    "                        'closeIndex': arrowIndex+1}\n",
    "\n",
    "    elif openDict['typeOperation'] == 'BUY':\n",
    "        # Stop Loss\n",
    "        if LowTuple[arrowIndex] < openDict['stopLossBorder']:\n",
    "            return {'typeHolding': 'stopLoss', 'closePrice': openDict['stopLossBorder'],\n",
    "                        'closeIndex': arrowIndex + params['restAfterLoss']}\n",
    "        # Take profit\n",
    "        if HighTuple[arrowIndex] > openDict['takeProfitBorder']:\n",
    "            return {'typeHolding': 'takeProfit', 'closePrice': openDict['takeProfitBorder'],\n",
    "                        'closeIndex': arrowIndex}\n",
    "        # Crossing MA\n",
    "        if OpenTuple[arrowIndex] < openDict['movingAverageLevel']:\n",
    "            if HighTuple[arrowIndex] > openDict['movingAverageLevel']:\n",
    "               return {'typeHolding': 'meanCross', 'closePrice': openDict['movingAverageLevel'],\n",
    "                        'closeIndex': arrowIndex}\n",
    "    \"\"\"=================================================================================\"\"\"\n",
    "\n",
    "    if openDict['typeOperation'] == 'SELL':\n",
    "        # Stop Loss\n",
    "        if HighTuple[arrowIndex] > openDict['stopLossBorder']:\n",
    "            return {'typeHolding': 'stopLoss', 'closePrice': openDict['stopLossBorder'],\n",
    "                        'closeIndex': arrowIndex + params['restAfterLoss']}\n",
    "        # Take profit\n",
    "        if LowTuple[arrowIndex] < openDict['takeProfitBorder']:\n",
    "            return {'typeHolding': 'takeProfit', 'closePrice': openDict['takeProfitBorder'],\n",
    "                        'closeIndex': arrowIndex}\n",
    "        # Crossing MA\n",
    "        if HighTuple[arrowIndex] > openDict['movingAverageLevel']:\n",
    "            if LowTuple[arrowIndex] < openDict['movingAverageLevel']:\n",
    "               return {'typeHolding': 'meanCross', 'closePrice': openDict['movingAverageLevel'],\n",
    "                        'closeIndex': arrowIndex}\n",
    "\n",
    "\n",
    "    if not NOT_NONE_SAVER:\n",
    "        return close_position(arrowIndex=arrowIndex + 1, recursionFilter=recursionFilter + 1,\n",
    "                              openDict=openDict, LowTuple=LowTuple, HighTuple=HighTuple,\n",
    "                              OpenTuple=OpenTuple, LightMeanTuple=LightMeanTuple,\n",
    "                              FatMeanTuple=FatMeanTuple, params=params, logTuple=logTuple,\n",
    "                              retTuple=retTuple, timeBorderCounter=timeBorderCounter + 1,\n",
    "                              indicatorVR=indicatorVR)\n",
    "\n",
    "\n",
    "startParams = create_grid(initParameters)\n",
    "cookedData = cook_data(df=inpData.copy(), params=startParams)\n",
    "\n",
    "RESULT = list()\n",
    "openPOS = open_position(arrowIndex=startParams['varianceLookBack'], recursionFilter=0, LBandTuple=cookedData.LBBand, HBandTuple=cookedData.HBBand,\n",
    "             LowTuple=cookedData.low, HighTuple=cookedData.high, OpenTuple=cookedData.open , params=startParams,\n",
    "             logTuple=cookedData.logOpenPrice, retTuple=cookedData.retOpenPrice, MeanTuple=cookedData.rollMean,\n",
    "                        StdTuple=cookedData.rollingStd)\n",
    "\n",
    "closePos = close_position(arrowIndex=openPOS['openIndex'], recursionFilter=0, openDict=openPOS, LowTuple=cookedData.low,\n",
    "                          HighTuple=cookedData.high, OpenTuple=cookedData.open, LightMeanTuple=cookedData.rollMean,\n",
    "                          FatMeanTuple=cookedData.fatMean, params=startParams, logTuple=cookedData.logOpenPrice,\n",
    "                          retTuple=cookedData.retOpenPrice, timeBorderCounter=0, indicatorVR=False)\n",
    "RESULT.append({**openPOS, **closePos})\n",
    "openPOS = startParams['varianceLookBack'] + closePos['closeIndex']\n",
    "for i in tqdm(range(450)):\n",
    "    while type(openPOS) is not dict:\n",
    "            openPOS = open_position(arrowIndex=openPOS, recursionFilter=0, LBandTuple=cookedData.LBBand, HBandTuple=cookedData.HBBand,\n",
    "             LowTuple=cookedData.low, HighTuple=cookedData.high, OpenTuple=cookedData.open , params=startParams,\n",
    "             logTuple=cookedData.logOpenPrice, retTuple=cookedData.retOpenPrice, MeanTuple=cookedData.rollMean,\n",
    "                                    StdTuple=cookedData.rollingStd)\n",
    "\n",
    "    closePos = int(openPOS['openIndex'] + 1)\n",
    "    indicatorVR = False\n",
    "    while type(closePos) is not dict:\n",
    "            closePos = close_position(arrowIndex=closePos, recursionFilter=0, openDict=openPOS, LowTuple=cookedData.low,\n",
    "                              HighTuple=cookedData.high, OpenTuple=cookedData.open, LightMeanTuple=cookedData.rollMean,\n",
    "                              FatMeanTuple=cookedData.fatMean, params=startParams, logTuple=cookedData.logOpenPrice,\n",
    "                              retTuple=cookedData.retOpenPrice, timeBorderCounter=0, indicatorVR=indicatorVR)\n",
    "            if type(closePos) == list:\n",
    "                indicatorVR = closePos[1]\n",
    "                closePos = closePos[0]\n",
    "\n",
    "    total_dict = {**openPOS, **closePos}\n",
    "    RESULT.append(total_dict)\n",
    "    openPOS = closePos['closeIndex'] + 1\n",
    "\n",
    "RESULT = pd.DataFrame(RESULT)"
   ],
   "metadata": {
    "collapsed": false,
    "pycharm": {
     "name": "#%%\n"
    }
   }
  },
  {
   "cell_type": "code",
   "execution_count": 10,
   "outputs": [
    {
     "data": {
      "text/plain": "    typeOperation    position   openPrice  openIndex  stopLossBorder  \\\n0             BUY  177.500823  112.675534       1005      112.383883   \n1            SELL -177.077366  112.944983       2702      113.505042   \n2            SELL -176.158566  113.534076       3941      114.452011   \n3             BUY  176.502056  113.313128       4380      112.721884   \n4            SELL -176.228469  113.489041       5123      113.759124   \n..            ...         ...         ...        ...             ...   \n446          SELL -178.941799  111.768185     157889      111.903602   \n447           BUY  179.068011  111.689407     157989      111.537310   \n448           BUY  179.064086  111.691856     158076      111.551797   \n449           BUY  179.162889  111.630261     158303      111.365221   \n450          SELL -179.280101  111.557277     159421      111.755333   \n\n     takeProfitBorder  movingAverageLevel   STD typeHolding  closePrice  \\\n0          113.375495          112.757196  None   meanCross  112.757196   \n1          111.600841          112.788166  None   endPeriod  113.439000   \n2          111.331031          113.277054  None   meanCross  113.277054   \n3          114.732113          113.478676  None   meanCross  113.478676   \n4          112.840842          113.413418  None   meanCross  113.413418   \n..                ...                 ...   ...         ...         ...   \n446        111.443184          111.730268  None   meanCross  111.730268   \n447        112.054439          111.731994  None   meanCross  111.731994   \n448        112.027996          111.731072  None   meanCross  111.731072   \n449        112.266357          111.704472  None   endPeriod  111.525000   \n450        111.081945          111.501822  None   meanCross  111.501822   \n\n     closeIndex     profit  \n0          1562  14.295092  \n1          3804 -87.679305  \n2          4336  45.076614  \n3          5043  29.019608  \n4          5143  13.126972  \n..          ...        ...  \n446      157971   6.584896  \n447      158055   7.425985  \n448      158237   6.822249  \n449      159405 -19.058827  \n450      159434   9.742066  \n\n[451 rows x 12 columns]",
      "text/html": "<div>\n<style scoped>\n    .dataframe tbody tr th:only-of-type {\n        vertical-align: middle;\n    }\n\n    .dataframe tbody tr th {\n        vertical-align: top;\n    }\n\n    .dataframe thead th {\n        text-align: right;\n    }\n</style>\n<table border=\"1\" class=\"dataframe\">\n  <thead>\n    <tr style=\"text-align: right;\">\n      <th></th>\n      <th>typeOperation</th>\n      <th>position</th>\n      <th>openPrice</th>\n      <th>openIndex</th>\n      <th>stopLossBorder</th>\n      <th>takeProfitBorder</th>\n      <th>movingAverageLevel</th>\n      <th>STD</th>\n      <th>typeHolding</th>\n      <th>closePrice</th>\n      <th>closeIndex</th>\n      <th>profit</th>\n    </tr>\n  </thead>\n  <tbody>\n    <tr>\n      <th>0</th>\n      <td>BUY</td>\n      <td>177.500823</td>\n      <td>112.675534</td>\n      <td>1005</td>\n      <td>112.383883</td>\n      <td>113.375495</td>\n      <td>112.757196</td>\n      <td>None</td>\n      <td>meanCross</td>\n      <td>112.757196</td>\n      <td>1562</td>\n      <td>14.295092</td>\n    </tr>\n    <tr>\n      <th>1</th>\n      <td>SELL</td>\n      <td>-177.077366</td>\n      <td>112.944983</td>\n      <td>2702</td>\n      <td>113.505042</td>\n      <td>111.600841</td>\n      <td>112.788166</td>\n      <td>None</td>\n      <td>endPeriod</td>\n      <td>113.439000</td>\n      <td>3804</td>\n      <td>-87.679305</td>\n    </tr>\n    <tr>\n      <th>2</th>\n      <td>SELL</td>\n      <td>-176.158566</td>\n      <td>113.534076</td>\n      <td>3941</td>\n      <td>114.452011</td>\n      <td>111.331031</td>\n      <td>113.277054</td>\n      <td>None</td>\n      <td>meanCross</td>\n      <td>113.277054</td>\n      <td>4336</td>\n      <td>45.076614</td>\n    </tr>\n    <tr>\n      <th>3</th>\n      <td>BUY</td>\n      <td>176.502056</td>\n      <td>113.313128</td>\n      <td>4380</td>\n      <td>112.721884</td>\n      <td>114.732113</td>\n      <td>113.478676</td>\n      <td>None</td>\n      <td>meanCross</td>\n      <td>113.478676</td>\n      <td>5043</td>\n      <td>29.019608</td>\n    </tr>\n    <tr>\n      <th>4</th>\n      <td>SELL</td>\n      <td>-176.228469</td>\n      <td>113.489041</td>\n      <td>5123</td>\n      <td>113.759124</td>\n      <td>112.840842</td>\n      <td>113.413418</td>\n      <td>None</td>\n      <td>meanCross</td>\n      <td>113.413418</td>\n      <td>5143</td>\n      <td>13.126972</td>\n    </tr>\n    <tr>\n      <th>...</th>\n      <td>...</td>\n      <td>...</td>\n      <td>...</td>\n      <td>...</td>\n      <td>...</td>\n      <td>...</td>\n      <td>...</td>\n      <td>...</td>\n      <td>...</td>\n      <td>...</td>\n      <td>...</td>\n      <td>...</td>\n    </tr>\n    <tr>\n      <th>446</th>\n      <td>SELL</td>\n      <td>-178.941799</td>\n      <td>111.768185</td>\n      <td>157889</td>\n      <td>111.903602</td>\n      <td>111.443184</td>\n      <td>111.730268</td>\n      <td>None</td>\n      <td>meanCross</td>\n      <td>111.730268</td>\n      <td>157971</td>\n      <td>6.584896</td>\n    </tr>\n    <tr>\n      <th>447</th>\n      <td>BUY</td>\n      <td>179.068011</td>\n      <td>111.689407</td>\n      <td>157989</td>\n      <td>111.537310</td>\n      <td>112.054439</td>\n      <td>111.731994</td>\n      <td>None</td>\n      <td>meanCross</td>\n      <td>111.731994</td>\n      <td>158055</td>\n      <td>7.425985</td>\n    </tr>\n    <tr>\n      <th>448</th>\n      <td>BUY</td>\n      <td>179.064086</td>\n      <td>111.691856</td>\n      <td>158076</td>\n      <td>111.551797</td>\n      <td>112.027996</td>\n      <td>111.731072</td>\n      <td>None</td>\n      <td>meanCross</td>\n      <td>111.731072</td>\n      <td>158237</td>\n      <td>6.822249</td>\n    </tr>\n    <tr>\n      <th>449</th>\n      <td>BUY</td>\n      <td>179.162889</td>\n      <td>111.630261</td>\n      <td>158303</td>\n      <td>111.365221</td>\n      <td>112.266357</td>\n      <td>111.704472</td>\n      <td>None</td>\n      <td>endPeriod</td>\n      <td>111.525000</td>\n      <td>159405</td>\n      <td>-19.058827</td>\n    </tr>\n    <tr>\n      <th>450</th>\n      <td>SELL</td>\n      <td>-179.280101</td>\n      <td>111.557277</td>\n      <td>159421</td>\n      <td>111.755333</td>\n      <td>111.081945</td>\n      <td>111.501822</td>\n      <td>None</td>\n      <td>meanCross</td>\n      <td>111.501822</td>\n      <td>159434</td>\n      <td>9.742066</td>\n    </tr>\n  </tbody>\n</table>\n<p>451 rows × 12 columns</p>\n</div>"
     },
     "execution_count": 10,
     "metadata": {},
     "output_type": "execute_result"
    }
   ],
   "source": [
    "copy_df = RESULT.copy()\n",
    "copy_df['profit'] = (RESULT[\"position\"] * (RESULT[\"closePrice\"] - RESULT[\"openPrice\"]) - startParams['slippage'] if (RESULT[\"typeOperation\"] == 'BUY').bool else abs(RESULT[\"position\"]) * (RESULT[\"openPrice\"] - RESULT[\"closePrice\"]) - startParams['slippage'])\n",
    "copy_df"
   ],
   "metadata": {
    "collapsed": false,
    "pycharm": {
     "name": "#%%\n"
    }
   }
  },
  {
   "cell_type": "code",
   "execution_count": 11,
   "outputs": [
    {
     "data": {
      "text/plain": "Empty DataFrame\nColumns: [typeOperation, position, openPrice, openIndex, stopLossBorder, takeProfitBorder, movingAverageLevel, STD, typeHolding, closePrice, closeIndex, profit]\nIndex: []",
      "text/html": "<div>\n<style scoped>\n    .dataframe tbody tr th:only-of-type {\n        vertical-align: middle;\n    }\n\n    .dataframe tbody tr th {\n        vertical-align: top;\n    }\n\n    .dataframe thead th {\n        text-align: right;\n    }\n</style>\n<table border=\"1\" class=\"dataframe\">\n  <thead>\n    <tr style=\"text-align: right;\">\n      <th></th>\n      <th>typeOperation</th>\n      <th>position</th>\n      <th>openPrice</th>\n      <th>openIndex</th>\n      <th>stopLossBorder</th>\n      <th>takeProfitBorder</th>\n      <th>movingAverageLevel</th>\n      <th>STD</th>\n      <th>typeHolding</th>\n      <th>closePrice</th>\n      <th>closeIndex</th>\n      <th>profit</th>\n    </tr>\n  </thead>\n  <tbody>\n  </tbody>\n</table>\n</div>"
     },
     "execution_count": 11,
     "metadata": {},
     "output_type": "execute_result"
    }
   ],
   "source": [
    "copy_df[(copy_df.typeHolding == 'fatExtraProfit') & (copy_df.profit > 0)]"
   ],
   "metadata": {
    "collapsed": false,
    "pycharm": {
     "name": "#%%\n"
    }
   }
  },
  {
   "cell_type": "code",
   "execution_count": 12,
   "outputs": [
    {
     "name": "stdout",
     "output_type": "stream",
     "text": [
      "W=78.94%, L = 21.06%\n",
      "average profit of a positive trade: 14.46\n",
      "average profit of a negative trade: -47.91\n"
     ]
    }
   ],
   "source": [
    "print(f\"W={copy_df[copy_df.profit > 0].shape[0] / copy_df.shape[0]:.2%}, L = {copy_df[copy_df.profit < 0].shape[0] / copy_df.shape[0]:.2%}\")\n",
    "print(f'average profit of a positive trade: {copy_df[copy_df.profit > 0].profit.mean():.2f}')\n",
    "print(f'average profit of a negative trade: {copy_df[copy_df.profit < 0].profit.mean():.2f}')"
   ],
   "metadata": {
    "collapsed": false,
    "pycharm": {
     "name": "#%%\n"
    }
   }
  },
  {
   "cell_type": "code",
   "execution_count": 13,
   "outputs": [
    {
     "data": {
      "text/plain": "            position                                                 \\\n               count       mean         std         min         25%   \ntypeHolding                                                           \nendPeriod       31.0 -40.588729  177.118132 -182.027936 -179.715023   \nmeanCross      351.0  -6.589835  179.435816 -183.522830 -179.661141   \nstopLoss        69.0   7.425238  180.728566 -182.545752 -180.530875   \n\n                                                openPrice              ...  \\\n                    50%         75%         max     count        mean  ...   \ntypeHolding                                                            ...   \nendPeriod   -176.471768  176.753012  183.835030      31.0  111.823834  ...   \nmeanCross   -175.667938  179.538629  183.983585     351.0  111.570532  ...   \nstopLoss     175.067846  179.408255  182.509632      69.0  111.403952  ...   \n\n            closeIndex           profit                                    \\\n                   75%       max  count       mean        std         min   \ntypeHolding                                                                 \nendPeriod     117521.5  159405.0   31.0 -32.378816  49.142335  -95.243565   \nmeanCross     128307.0  159434.0  351.0  14.043934   7.688441    3.160301   \nstopLoss      125774.0  155996.0   69.0 -48.272313  32.520678 -268.559832   \n\n                                                          \n                   25%        50%        75%         max  \ntypeHolding                                               \nendPeriod   -61.801603 -35.604272 -11.385312  166.870435  \nmeanCross     9.070976  12.642677  16.063102   53.253834  \nstopLoss    -55.251083 -43.078016 -33.130239  -11.561322  \n\n[3 rows x 72 columns]",
      "text/html": "<div>\n<style scoped>\n    .dataframe tbody tr th:only-of-type {\n        vertical-align: middle;\n    }\n\n    .dataframe tbody tr th {\n        vertical-align: top;\n    }\n\n    .dataframe thead tr th {\n        text-align: left;\n    }\n\n    .dataframe thead tr:last-of-type th {\n        text-align: right;\n    }\n</style>\n<table border=\"1\" class=\"dataframe\">\n  <thead>\n    <tr>\n      <th></th>\n      <th colspan=\"8\" halign=\"left\">position</th>\n      <th colspan=\"2\" halign=\"left\">openPrice</th>\n      <th>...</th>\n      <th colspan=\"2\" halign=\"left\">closeIndex</th>\n      <th colspan=\"8\" halign=\"left\">profit</th>\n    </tr>\n    <tr>\n      <th></th>\n      <th>count</th>\n      <th>mean</th>\n      <th>std</th>\n      <th>min</th>\n      <th>25%</th>\n      <th>50%</th>\n      <th>75%</th>\n      <th>max</th>\n      <th>count</th>\n      <th>mean</th>\n      <th>...</th>\n      <th>75%</th>\n      <th>max</th>\n      <th>count</th>\n      <th>mean</th>\n      <th>std</th>\n      <th>min</th>\n      <th>25%</th>\n      <th>50%</th>\n      <th>75%</th>\n      <th>max</th>\n    </tr>\n    <tr>\n      <th>typeHolding</th>\n      <th></th>\n      <th></th>\n      <th></th>\n      <th></th>\n      <th></th>\n      <th></th>\n      <th></th>\n      <th></th>\n      <th></th>\n      <th></th>\n      <th></th>\n      <th></th>\n      <th></th>\n      <th></th>\n      <th></th>\n      <th></th>\n      <th></th>\n      <th></th>\n      <th></th>\n      <th></th>\n      <th></th>\n    </tr>\n  </thead>\n  <tbody>\n    <tr>\n      <th>endPeriod</th>\n      <td>31.0</td>\n      <td>-40.588729</td>\n      <td>177.118132</td>\n      <td>-182.027936</td>\n      <td>-179.715023</td>\n      <td>-176.471768</td>\n      <td>176.753012</td>\n      <td>183.835030</td>\n      <td>31.0</td>\n      <td>111.823834</td>\n      <td>...</td>\n      <td>117521.5</td>\n      <td>159405.0</td>\n      <td>31.0</td>\n      <td>-32.378816</td>\n      <td>49.142335</td>\n      <td>-95.243565</td>\n      <td>-61.801603</td>\n      <td>-35.604272</td>\n      <td>-11.385312</td>\n      <td>166.870435</td>\n    </tr>\n    <tr>\n      <th>meanCross</th>\n      <td>351.0</td>\n      <td>-6.589835</td>\n      <td>179.435816</td>\n      <td>-183.522830</td>\n      <td>-179.661141</td>\n      <td>-175.667938</td>\n      <td>179.538629</td>\n      <td>183.983585</td>\n      <td>351.0</td>\n      <td>111.570532</td>\n      <td>...</td>\n      <td>128307.0</td>\n      <td>159434.0</td>\n      <td>351.0</td>\n      <td>14.043934</td>\n      <td>7.688441</td>\n      <td>3.160301</td>\n      <td>9.070976</td>\n      <td>12.642677</td>\n      <td>16.063102</td>\n      <td>53.253834</td>\n    </tr>\n    <tr>\n      <th>stopLoss</th>\n      <td>69.0</td>\n      <td>7.425238</td>\n      <td>180.728566</td>\n      <td>-182.545752</td>\n      <td>-180.530875</td>\n      <td>175.067846</td>\n      <td>179.408255</td>\n      <td>182.509632</td>\n      <td>69.0</td>\n      <td>111.403952</td>\n      <td>...</td>\n      <td>125774.0</td>\n      <td>155996.0</td>\n      <td>69.0</td>\n      <td>-48.272313</td>\n      <td>32.520678</td>\n      <td>-268.559832</td>\n      <td>-55.251083</td>\n      <td>-43.078016</td>\n      <td>-33.130239</td>\n      <td>-11.561322</td>\n    </tr>\n  </tbody>\n</table>\n<p>3 rows × 72 columns</p>\n</div>"
     },
     "execution_count": 13,
     "metadata": {},
     "output_type": "execute_result"
    }
   ],
   "source": [
    "copy_df.groupby(by='typeHolding').describe()"
   ],
   "metadata": {
    "collapsed": false,
    "pycharm": {
     "name": "#%%\n"
    }
   }
  },
  {
   "cell_type": "code",
   "execution_count": 14,
   "outputs": [
    {
     "data": {
      "text/plain": "<Figure size 1008x576 with 1 Axes>",
      "image/png": "[encoded data removed]"
     },
     "metadata": {
      "needs_background": "light"
     },
     "output_type": "display_data"
    }
   ],
   "source": [
    "plt.figure(figsize=(14,8))\n",
    "plt.style.use('Solarize_Light2')\n",
    "plt.plot(copy_df.profit.cumsum())\n",
    "plt.title(f'Total Pnl for {pairName}')\n",
    "plt.show()"
   ],
   "metadata": {
    "collapsed": false,
    "pycharm": {
     "name": "#%%\n"
    }
   }
  }
 ],
 "metadata": {
  "kernelspec": {
   "display_name": "Python 3",
   "language": "python",
   "name": "python3"
  },
  "language_info": {
   "codemirror_mode": {
    "name": "ipython",
    "version": 2
   },
   "file_extension": ".py",
   "mimetype": "text/x-python",
   "name": "python",
   "nbconvert_exporter": "python",
   "pygments_lexer": "ipython2",
   "version": "2.7.6"
  }
 },
 "nbformat": 4,
 "nbformat_minor": 0
}