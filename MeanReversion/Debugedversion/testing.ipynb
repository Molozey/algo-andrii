{
 "cells": [
  {
   "cell_type": "code",
   "execution_count": 1,
   "metadata": {
    "collapsed": true
   },
   "outputs": [],
   "source": [
    "from stableVersion import _estimator, create_strategy_config, strategy_real_time_optimize"
   ]
  },
  {
   "cell_type": "code",
   "execution_count": 2,
   "outputs": [
    {
     "data": {
      "text/plain": "                        open     high      low    close\ntime                                                   \n2018-11-01 00:15:00  111.975  111.998  111.975  111.997\n2018-11-01 00:16:00  111.997  112.000  111.995  111.996\n2018-11-01 00:17:00  111.996  112.011  111.995  112.003\n2018-11-01 00:18:00  112.003  112.004  111.981  111.982\n2018-11-01 00:19:00  111.982  111.989  111.962  111.965\n...                      ...      ...      ...      ...\n2021-11-13 00:55:00  123.669  123.672  123.660  123.665\n2021-11-13 00:56:00  123.665  123.670  123.661  123.670\n2021-11-13 00:57:00  123.670  123.673  123.657  123.660\n2021-11-13 00:58:00  123.660  123.668  123.659  123.665\n2021-11-13 00:59:00  123.665  123.669  123.622  123.640\n\n[1078891 rows x 4 columns]",
      "text/html": "<div>\n<style scoped>\n    .dataframe tbody tr th:only-of-type {\n        vertical-align: middle;\n    }\n\n    .dataframe tbody tr th {\n        vertical-align: top;\n    }\n\n    .dataframe thead th {\n        text-align: right;\n    }\n</style>\n<table border=\"1\" class=\"dataframe\">\n  <thead>\n    <tr style=\"text-align: right;\">\n      <th></th>\n      <th>open</th>\n      <th>high</th>\n      <th>low</th>\n      <th>close</th>\n    </tr>\n    <tr>\n      <th>time</th>\n      <th></th>\n      <th></th>\n      <th></th>\n      <th></th>\n    </tr>\n  </thead>\n  <tbody>\n    <tr>\n      <th>2018-11-01 00:15:00</th>\n      <td>111.975</td>\n      <td>111.998</td>\n      <td>111.975</td>\n      <td>111.997</td>\n    </tr>\n    <tr>\n      <th>2018-11-01 00:16:00</th>\n      <td>111.997</td>\n      <td>112.000</td>\n      <td>111.995</td>\n      <td>111.996</td>\n    </tr>\n    <tr>\n      <th>2018-11-01 00:17:00</th>\n      <td>111.996</td>\n      <td>112.011</td>\n      <td>111.995</td>\n      <td>112.003</td>\n    </tr>\n    <tr>\n      <th>2018-11-01 00:18:00</th>\n      <td>112.003</td>\n      <td>112.004</td>\n      <td>111.981</td>\n      <td>111.982</td>\n    </tr>\n    <tr>\n      <th>2018-11-01 00:19:00</th>\n      <td>111.982</td>\n      <td>111.989</td>\n      <td>111.962</td>\n      <td>111.965</td>\n    </tr>\n    <tr>\n      <th>...</th>\n      <td>...</td>\n      <td>...</td>\n      <td>...</td>\n      <td>...</td>\n    </tr>\n    <tr>\n      <th>2021-11-13 00:55:00</th>\n      <td>123.669</td>\n      <td>123.672</td>\n      <td>123.660</td>\n      <td>123.665</td>\n    </tr>\n    <tr>\n      <th>2021-11-13 00:56:00</th>\n      <td>123.665</td>\n      <td>123.670</td>\n      <td>123.661</td>\n      <td>123.670</td>\n    </tr>\n    <tr>\n      <th>2021-11-13 00:57:00</th>\n      <td>123.670</td>\n      <td>123.673</td>\n      <td>123.657</td>\n      <td>123.660</td>\n    </tr>\n    <tr>\n      <th>2021-11-13 00:58:00</th>\n      <td>123.660</td>\n      <td>123.668</td>\n      <td>123.659</td>\n      <td>123.665</td>\n    </tr>\n    <tr>\n      <th>2021-11-13 00:59:00</th>\n      <td>123.665</td>\n      <td>123.669</td>\n      <td>123.622</td>\n      <td>123.640</td>\n    </tr>\n  </tbody>\n</table>\n<p>1078891 rows × 4 columns</p>\n</div>"
     },
     "execution_count": 2,
     "metadata": {},
     "output_type": "execute_result"
    }
   ],
   "source": [
    "import threading\n",
    "import sys\n",
    "import pandas as pd\n",
    "import platform\n",
    "import numpy as np\n",
    "from sklearn.model_selection import ParameterGrid\n",
    "global RecursionBorder\n",
    "\n",
    "if platform.platform().split('-')[0] == 'macOS':\n",
    "    systemDivide = '/'\n",
    "else:\n",
    "    systemDivide = '\\\\'\n",
    "\n",
    "threading.stack_size(2**27)\n",
    "sys.setrecursionlimit(10 ** 5)\n",
    "\n",
    "pairName = 'CHFJPY.csv'\n",
    "\n",
    "inpData = pd.read_csv(f\"../testData{systemDivide}{pairName}\", index_col=1)\n",
    "# Какие колонки нужны для работы\n",
    "columns = ['open', 'high', 'low', 'close']\n",
    "inpData = inpData[columns]\n",
    "inpData.index = pd.to_datetime(inpData.index)\n",
    "# inpData = inpData.loc['2021-01-01':]\n",
    "inpData"
   ],
   "metadata": {
    "collapsed": false,
    "pycharm": {
     "name": "#%%\n"
    }
   }
  },
  {
   "cell_type": "code",
   "execution_count": 3,
   "outputs": [],
   "source": [
    "RecursionBorder = 1000\n",
    "grid_params = {\n",
    "    # Оптимизировать !!!\n",
    "    'yThreshold': [150],\n",
    "    # Оптимизировать !\n",
    "    'varianceRatioFilter': [0.85],\n",
    "    'reverseVarianceRatioFilter': [1.0],\n",
    "    # Оптимизировать !!\n",
    "    'restAfterLoss': [324],\n",
    "    # Оптимизировать !\n",
    "    'restAfterFatProfit' : [1],\n",
    "    # Оптимизировать !!\n",
    "    'stopLossStdMultiplier': [108_00],\n",
    "    # Оптимизировать !\n",
    "    'takeProfitStdMultiplier': [4050],\n",
    "    # Оптимизировать !!\n",
    "    'varianceRatioCarreteParameter': [18],\n",
    "    # Оптимизировать !!!\n",
    "    'scanHalfTime': [1500],\n",
    "    # Оптимизировать 0!\n",
    "    'halfToFat': [3],\n",
    "    # Оптимизировать 0!\n",
    "    'halfToLight': [1],\n",
    "    # Оптимизировать 0!\n",
    "    'halfToTime': [1],\n",
    "    }\n",
    "\n",
    "grid_params = ParameterGrid(grid_params)\n",
    "grid_params = pd.DataFrame(grid_params).sample(frac=1, random_state=9).reset_index(drop=True)"
   ],
   "metadata": {
    "collapsed": false,
    "pycharm": {
     "name": "#%%\n"
    }
   }
  },
  {
   "cell_type": "code",
   "execution_count": 4,
   "outputs": [
    {
     "name": "stderr",
     "output_type": "stream",
     "text": [
      "                                         \r"
     ]
    },
    {
     "name": "stdout",
     "output_type": "stream",
     "text": [
      "OPTIMIZATION:0:10080\n",
      "0 of 0\n",
      "TRADE:10080:30240\n",
      "Position after trade period: 20769\n",
      "OPTIMIZATION:10689:20769\n",
      "0 of 0\n",
      "TRADE:20769:40929\n",
      "Position after trade period: 32373\n",
      "OPTIMIZATION:22293:32373\n",
      "0 of 0\n",
      "TRADE:32373:52533\n",
      "Position after trade period: 43817\n",
      "OPTIMIZATION:33737:43817\n",
      "0 of 0\n",
      "ValueError 585\n",
      "openIndex\n",
      "6590    76.157704\n",
      "Name: profit, dtype: float64\n",
      "TRADE:43817:63977\n",
      "Position after trade period: 54988\n",
      "OPTIMIZATION:44908:54988\n",
      "0 of 0\n",
      "ValueError 585\n",
      "openIndex\n",
      "6706    26.045474\n",
      "Name: profit, dtype: float64\n",
      "TRADE:54988:75148\n",
      "Position after trade period: 65808\n",
      "TOTAL PNL =  -153.87903262177218\n",
      "DD DIV TOTAL PNL =  -0.4043459303244352\n",
      "========================================================================================================================================================================================================\n"
     ]
    },
    {
     "data": {
      "text/plain": "<Figure size 864x360 with 1 Axes>",
      "image/png": "[encoded data removed]"
     },
     "metadata": {
      "needs_background": "light"
     },
     "output_type": "display_data"
    }
   ],
   "source": [
    "totalResult, RealTimeOptimizeTrades, paramsEvolution = strategy_real_time_optimize(realTimeData=inpData.iloc[450_000:890_000].copy(), parameters=create_strategy_config(grid_params.iloc[0]), show=True,\n",
    "                                                                                   savePath='', update=False)"
   ],
   "metadata": {
    "collapsed": false,
    "pycharm": {
     "name": "#%%\n"
    }
   }
  },
  {
   "cell_type": "code",
   "execution_count": 5,
   "outputs": [
    {
     "data": {
      "text/plain": "                    count       mean        std         min        25%  \\\ntypeHolding                                                              \nendPeriod            31.0 -41.322726  64.463296 -214.245096 -62.514330   \nfatExtraProfit        1.0   7.483905        NaN    7.483905   7.483905   \nlightCross          219.0   1.491421  14.747577  -47.030386  -2.075207   \nlightCrossEmergent  186.0   5.306454  11.982103  -47.787372  -0.778793   \nstopLoss             45.0  -4.310670  15.365580  -28.707950 -13.776248   \n\n                          50%        75%         max  \ntypeHolding                                           \nendPeriod          -32.872196 -19.166268  134.680522  \nfatExtraProfit       7.483905   7.483905    7.483905  \nlightCross           0.022250   3.840167   77.449361  \nlightCrossEmergent   2.349017   7.655836   66.397535  \nstopLoss            -7.407560  -2.178920   54.753778  ",
      "text/html": "<div>\n<style scoped>\n    .dataframe tbody tr th:only-of-type {\n        vertical-align: middle;\n    }\n\n    .dataframe tbody tr th {\n        vertical-align: top;\n    }\n\n    .dataframe thead th {\n        text-align: right;\n    }\n</style>\n<table border=\"1\" class=\"dataframe\">\n  <thead>\n    <tr style=\"text-align: right;\">\n      <th></th>\n      <th>count</th>\n      <th>mean</th>\n      <th>std</th>\n      <th>min</th>\n      <th>25%</th>\n      <th>50%</th>\n      <th>75%</th>\n      <th>max</th>\n    </tr>\n    <tr>\n      <th>typeHolding</th>\n      <th></th>\n      <th></th>\n      <th></th>\n      <th></th>\n      <th></th>\n      <th></th>\n      <th></th>\n      <th></th>\n    </tr>\n  </thead>\n  <tbody>\n    <tr>\n      <th>endPeriod</th>\n      <td>31.0</td>\n      <td>-41.322726</td>\n      <td>64.463296</td>\n      <td>-214.245096</td>\n      <td>-62.514330</td>\n      <td>-32.872196</td>\n      <td>-19.166268</td>\n      <td>134.680522</td>\n    </tr>\n    <tr>\n      <th>fatExtraProfit</th>\n      <td>1.0</td>\n      <td>7.483905</td>\n      <td>NaN</td>\n      <td>7.483905</td>\n      <td>7.483905</td>\n      <td>7.483905</td>\n      <td>7.483905</td>\n      <td>7.483905</td>\n    </tr>\n    <tr>\n      <th>lightCross</th>\n      <td>219.0</td>\n      <td>1.491421</td>\n      <td>14.747577</td>\n      <td>-47.030386</td>\n      <td>-2.075207</td>\n      <td>0.022250</td>\n      <td>3.840167</td>\n      <td>77.449361</td>\n    </tr>\n    <tr>\n      <th>lightCrossEmergent</th>\n      <td>186.0</td>\n      <td>5.306454</td>\n      <td>11.982103</td>\n      <td>-47.787372</td>\n      <td>-0.778793</td>\n      <td>2.349017</td>\n      <td>7.655836</td>\n      <td>66.397535</td>\n    </tr>\n    <tr>\n      <th>stopLoss</th>\n      <td>45.0</td>\n      <td>-4.310670</td>\n      <td>15.365580</td>\n      <td>-28.707950</td>\n      <td>-13.776248</td>\n      <td>-7.407560</td>\n      <td>-2.178920</td>\n      <td>54.753778</td>\n    </tr>\n  </tbody>\n</table>\n</div>"
     },
     "execution_count": 5,
     "metadata": {},
     "output_type": "execute_result"
    }
   ],
   "source": [
    "slippage = 2\n",
    "trades = RealTimeOptimizeTrades[0]\n",
    "for i in range(1, len(RealTimeOptimizeTrades)):\n",
    "    trades = trades.append(RealTimeOptimizeTrades[i], ignore_index=True)\n",
    "trades['profit'] = (trades[\"position\"] * (trades[\"closePrice\"] -\n",
    "                                    trades[\"openPrice\"]) - slippage\n",
    "                 if (trades[\"typeOperation\"] == 'BUY').bool\n",
    "                 else abs(trades[\"position\"]) * (trades[\"openPrice\"] -\n",
    "                                              trades[\"closePrice\"]) - slippage)\n",
    "trades['own_time'] = trades['closeIndex'] - trades['openIndex']\n",
    "trades.groupby(by='typeHolding').describe().profit"
   ],
   "metadata": {
    "collapsed": false,
    "pycharm": {
     "name": "#%%\n"
    }
   }
  },
  {
   "cell_type": "code",
   "execution_count": 6,
   "outputs": [
    {
     "data": {
      "text/plain": "    typeOperation  position  openPrice  openIndex  stopLossBorder  \\\n0             BUY   178.193    112.238      10237         102.075   \n1            SELL  -178.025    112.344      10432         115.977   \n2             BUY   178.086    112.305      10711         109.289   \n3            SELL  -178.020    112.347      10826         114.131   \n4            SELL  -178.080    112.309      10962         114.057   \n..            ...       ...        ...        ...             ...   \n477          SELL  -180.104    111.047      63814         111.088   \n478           BUY   180.252    110.956      64146         111.050   \n479           BUY   180.440    110.840      64756         110.812   \n480           BUY   180.413    110.857      65090         110.836   \n481          SELL  -180.252    110.956      65807         110.986   \n\n     takeProfitBorder         typeHolding  closePrice  closeIndex     profit  \\\n0             116.490          lightCross  112.353647       10387  18.607435   \n1             111.112  lightCrossEmergent  112.341523       10687  -1.559038   \n2             113.513  lightCrossEmergent  112.348953       10718   5.827361   \n3             111.657  lightCrossEmergent  112.322766       10837   2.314144   \n4             111.638  lightCrossEmergent  112.292320       10981   0.970374   \n..                ...                 ...         ...         ...        ...   \n477           111.028            stopLoss  111.088000       63819  -9.384264   \n478           110.974            stopLoss  111.050000       64172  14.943688   \n479           110.853            stopLoss  110.812000       64758  -7.052320   \n480           110.867            stopLoss  110.836000       65091  -5.788673   \n481           110.942            stopLoss  110.986000       65808  -7.407560   \n\n     own_time  \n0         150  \n1         255  \n2           7  \n3          11  \n4          19  \n..        ...  \n477         5  \n478        26  \n479         2  \n480         1  \n481         1  \n\n[482 rows x 11 columns]",
      "text/html": "<div>\n<style scoped>\n    .dataframe tbody tr th:only-of-type {\n        vertical-align: middle;\n    }\n\n    .dataframe tbody tr th {\n        vertical-align: top;\n    }\n\n    .dataframe thead th {\n        text-align: right;\n    }\n</style>\n<table border=\"1\" class=\"dataframe\">\n  <thead>\n    <tr style=\"text-align: right;\">\n      <th></th>\n      <th>typeOperation</th>\n      <th>position</th>\n      <th>openPrice</th>\n      <th>openIndex</th>\n      <th>stopLossBorder</th>\n      <th>takeProfitBorder</th>\n      <th>typeHolding</th>\n      <th>closePrice</th>\n      <th>closeIndex</th>\n      <th>profit</th>\n      <th>own_time</th>\n    </tr>\n  </thead>\n  <tbody>\n    <tr>\n      <th>0</th>\n      <td>BUY</td>\n      <td>178.193</td>\n      <td>112.238</td>\n      <td>10237</td>\n      <td>102.075</td>\n      <td>116.490</td>\n      <td>lightCross</td>\n      <td>112.353647</td>\n      <td>10387</td>\n      <td>18.607435</td>\n      <td>150</td>\n    </tr>\n    <tr>\n      <th>1</th>\n      <td>SELL</td>\n      <td>-178.025</td>\n      <td>112.344</td>\n      <td>10432</td>\n      <td>115.977</td>\n      <td>111.112</td>\n      <td>lightCrossEmergent</td>\n      <td>112.341523</td>\n      <td>10687</td>\n      <td>-1.559038</td>\n      <td>255</td>\n    </tr>\n    <tr>\n      <th>2</th>\n      <td>BUY</td>\n      <td>178.086</td>\n      <td>112.305</td>\n      <td>10711</td>\n      <td>109.289</td>\n      <td>113.513</td>\n      <td>lightCrossEmergent</td>\n      <td>112.348953</td>\n      <td>10718</td>\n      <td>5.827361</td>\n      <td>7</td>\n    </tr>\n    <tr>\n      <th>3</th>\n      <td>SELL</td>\n      <td>-178.020</td>\n      <td>112.347</td>\n      <td>10826</td>\n      <td>114.131</td>\n      <td>111.657</td>\n      <td>lightCrossEmergent</td>\n      <td>112.322766</td>\n      <td>10837</td>\n      <td>2.314144</td>\n      <td>11</td>\n    </tr>\n    <tr>\n      <th>4</th>\n      <td>SELL</td>\n      <td>-178.080</td>\n      <td>112.309</td>\n      <td>10962</td>\n      <td>114.057</td>\n      <td>111.638</td>\n      <td>lightCrossEmergent</td>\n      <td>112.292320</td>\n      <td>10981</td>\n      <td>0.970374</td>\n      <td>19</td>\n    </tr>\n    <tr>\n      <th>...</th>\n      <td>...</td>\n      <td>...</td>\n      <td>...</td>\n      <td>...</td>\n      <td>...</td>\n      <td>...</td>\n      <td>...</td>\n      <td>...</td>\n      <td>...</td>\n      <td>...</td>\n      <td>...</td>\n    </tr>\n    <tr>\n      <th>477</th>\n      <td>SELL</td>\n      <td>-180.104</td>\n      <td>111.047</td>\n      <td>63814</td>\n      <td>111.088</td>\n      <td>111.028</td>\n      <td>stopLoss</td>\n      <td>111.088000</td>\n      <td>63819</td>\n      <td>-9.384264</td>\n      <td>5</td>\n    </tr>\n    <tr>\n      <th>478</th>\n      <td>BUY</td>\n      <td>180.252</td>\n      <td>110.956</td>\n      <td>64146</td>\n      <td>111.050</td>\n      <td>110.974</td>\n      <td>stopLoss</td>\n      <td>111.050000</td>\n      <td>64172</td>\n      <td>14.943688</td>\n      <td>26</td>\n    </tr>\n    <tr>\n      <th>479</th>\n      <td>BUY</td>\n      <td>180.440</td>\n      <td>110.840</td>\n      <td>64756</td>\n      <td>110.812</td>\n      <td>110.853</td>\n      <td>stopLoss</td>\n      <td>110.812000</td>\n      <td>64758</td>\n      <td>-7.052320</td>\n      <td>2</td>\n    </tr>\n    <tr>\n      <th>480</th>\n      <td>BUY</td>\n      <td>180.413</td>\n      <td>110.857</td>\n      <td>65090</td>\n      <td>110.836</td>\n      <td>110.867</td>\n      <td>stopLoss</td>\n      <td>110.836000</td>\n      <td>65091</td>\n      <td>-5.788673</td>\n      <td>1</td>\n    </tr>\n    <tr>\n      <th>481</th>\n      <td>SELL</td>\n      <td>-180.252</td>\n      <td>110.956</td>\n      <td>65807</td>\n      <td>110.986</td>\n      <td>110.942</td>\n      <td>stopLoss</td>\n      <td>110.986000</td>\n      <td>65808</td>\n      <td>-7.407560</td>\n      <td>1</td>\n    </tr>\n  </tbody>\n</table>\n<p>482 rows × 11 columns</p>\n</div>"
     },
     "execution_count": 6,
     "metadata": {},
     "output_type": "execute_result"
    }
   ],
   "source": [
    "import matplotlib.pyplot as plt\n",
    "trades"
   ],
   "metadata": {
    "collapsed": false,
    "pycharm": {
     "name": "#%%\n"
    }
   }
  },
  {
   "cell_type": "code",
   "execution_count": 7,
   "outputs": [
    {
     "ename": "IndentationError",
     "evalue": "unexpected indent (1130132792.py, line 2)",
     "output_type": "error",
     "traceback": [
      "\u001B[0;36m  File \u001B[0;32m\"/var/folders/_r/6hvfrncn0gb3rk22vwnq62gh0000gn/T/ipykernel_1535/1130132792.py\"\u001B[0;36m, line \u001B[0;32m2\u001B[0m\n\u001B[0;31m    savePath='', update=False)\u001B[0m\n\u001B[0m    ^\u001B[0m\n\u001B[0;31mIndentationError\u001B[0m\u001B[0;31m:\u001B[0m unexpected indent\n"
     ]
    }
   ],
   "source": [
    "\n",
    "# totalResult, RealTimeOptimizeTrades, paramsEvolution = strategy_real_time_optimize(realTimeData=inpData.iloc[0:400_000].copy(), parameters=create_strategy_config(grid_params.iloc[0]), show=True,\n",
    "                                                                                   savePath='', update=False)"
   ],
   "metadata": {
    "collapsed": false,
    "pycharm": {
     "name": "#%%\n"
    }
   }
  },
  {
   "cell_type": "code",
   "execution_count": null,
   "outputs": [],
   "source": [
    "slippage = 2\n",
    "trades = RealTimeOptimizeTrades[0]\n",
    "for i in range(1, len(RealTimeOptimizeTrades)):\n",
    "    trades = trades.append(RealTimeOptimizeTrades[i], ignore_index=True)\n",
    "trades['profit'] = (trades[\"position\"] * (trades[\"closePrice\"] -\n",
    "                                    trades[\"openPrice\"]) - slippage\n",
    "                 if (trades[\"typeOperation\"] == 'BUY').bool\n",
    "                 else abs(trades[\"position\"]) * (trades[\"openPrice\"] -\n",
    "                                              trades[\"closePrice\"]) - slippage)\n",
    "trades['own_time'] = trades['closeIndex'] - trades['openIndex']"
   ],
   "metadata": {
    "collapsed": false,
    "pycharm": {
     "name": "#%%\n"
    }
   }
  },
  {
   "cell_type": "code",
   "execution_count": null,
   "outputs": [],
   "source": [
    "trades.groupby(by='typeHolding').describe().profit"
   ],
   "metadata": {
    "collapsed": false,
    "pycharm": {
     "name": "#%%\n"
    }
   }
  },
  {
   "cell_type": "code",
   "execution_count": null,
   "outputs": [],
   "source": [
    "trades[trades.typeHolding == 'stopLoss']"
   ],
   "metadata": {
    "collapsed": false,
    "pycharm": {
     "name": "#%%\n"
    }
   }
  },
  {
   "cell_type": "code",
   "execution_count": null,
   "outputs": [],
   "source": [
    "import matplotlib.pylab as plt\n",
    "\n",
    "plt.figure(figsize=(12,7))\n",
    "plt.style.use('Solarize_Light2')\n",
    "plt.title('MarkOut')\n",
    "plt.hlines(y=0, xmin=0, xmax=max(trades['own_time']), colors='red')\n",
    "plt.plot(trades.groupby(by='own_time').profit.mean() / 20_000, '--')\n",
    "plt.show()"
   ],
   "metadata": {
    "collapsed": false,
    "pycharm": {
     "name": "#%%\n"
    }
   }
  },
  {
   "cell_type": "code",
   "execution_count": null,
   "outputs": [],
   "source": [
    "plt.plot(inpData.iloc[:400_000].copy().open)"
   ],
   "metadata": {
    "collapsed": false,
    "pycharm": {
     "name": "#%%\n"
    }
   }
  },
  {
   "cell_type": "code",
   "execution_count": null,
   "outputs": [],
   "source": [
    "_estimator(_DATAFRAME=inpData.iloc[20_000:30_000].copy(),\n",
    "           _gridParams=create_strategy_config(grid_params.iloc[0]),\n",
    "           show=True)"
   ],
   "metadata": {
    "collapsed": false,
    "pycharm": {
     "name": "#%%\n"
    }
   }
  },
  {
   "cell_type": "code",
   "execution_count": null,
   "outputs": [],
   "source": [
    "totalResult, RealTimeOptimizeTrades, paramsEvolution = strategy_real_time_optimize(realTimeData=inpData.iloc[:400_000].copy(), parameters=create_strategy_config(grid_params.iloc[0]), show=True)"
   ],
   "metadata": {
    "collapsed": false,
    "pycharm": {
     "name": "#%%\n"
    }
   }
  }
 ],
 "metadata": {
  "kernelspec": {
   "display_name": "Python 3",
   "language": "python",
   "name": "python3"
  },
  "language_info": {
   "codemirror_mode": {
    "name": "ipython",
    "version": 2
   },
   "file_extension": ".py",
   "mimetype": "text/x-python",
   "name": "python",
   "nbconvert_exporter": "python",
   "pygments_lexer": "ipython2",
   "version": "2.7.6"
  }
 },
 "nbformat": 4,
 "nbformat_minor": 0
}