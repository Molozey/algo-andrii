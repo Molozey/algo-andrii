{
 "cells": [
  {
   "cell_type": "code",
   "execution_count": 310,
   "metadata": {
    "collapsed": true
   },
   "outputs": [],
   "source": [
    "import platform\n",
    "\n",
    "global systemDivide\n",
    "if platform.platform().split('-')[0] == 'macOS':\n",
    "    systemDivide = '/'\n",
    "else:\n",
    "    systemDivide = '\\\\'\n",
    "\n",
    "import sys\n",
    "import threading\n",
    "\n",
    "threading.stack_size(2**27)\n",
    "sys.setrecursionlimit(10 ** 5)"
   ]
  },
  {
   "cell_type": "code",
   "execution_count": 311,
   "outputs": [],
   "source": [
    "import pandas as pd\n",
    "import numpy as np\n",
    "from tqdm.notebook import tqdm\n",
    "\n",
    "pairName = 'CHFJPY.csv'\n",
    "\n",
    "inpData = pd.read_csv(f\"testData{systemDivide}{pairName}\", index_col=1)\n",
    "# Какие колонки нужны для работы\n",
    "columns = ['open', 'high', 'low', 'close']\n",
    "inpData = inpData[columns]\n",
    "inpData.index = pd.to_datetime(inpData.index)\n",
    "\n",
    "# initParameters = {\n",
    "#     'yThreshold': 300,\n",
    "#     'rollingMean': 500,\n",
    "#     'fatRollingMean': 2500,\n",
    "#     'timeBarrier': 1100,\n",
    "#     'varianceRatioFilter': 1.1,\n",
    "#     'restAfterLoss': 350,\n",
    "#     'restAfterFatProfit' : 50,\n",
    "#     'stopLossPercent': 1,\n",
    "#     'takeProfitPercent': 10,\n",
    "#     'varianceRatioCarreteParameter': 20,\n",
    "#     }\n",
    "initParameters = {\n",
    "    'yThreshold': 240,\n",
    "    'rollingMean': 600,\n",
    "    'fatRollingMean': 1800,\n",
    "    'timeBarrier': 800,\n",
    "    'varianceRatioFilter': 1.0,\n",
    "    'restAfterLoss': 150,\n",
    "    'restAfterFatProfit' : 50,\n",
    "    'stopLossPercent': .25,\n",
    "    'takeProfitPercent': 10,\n",
    "    'varianceRatioCarreteParameter': 10,\n",
    "    }"
   ],
   "metadata": {
    "collapsed": false,
    "pycharm": {
     "name": "#%%\n"
    }
   }
  },
  {
   "cell_type": "markdown",
   "source": [
    "# Проверим распределение доходностей на нормальность"
   ],
   "metadata": {
    "collapsed": false,
    "pycharm": {
     "name": "#%% md\n"
    }
   }
  },
  {
   "cell_type": "code",
   "execution_count": 312,
   "outputs": [
    {
     "name": "stdout",
     "output_type": "stream",
     "text": [
      "3 sigma anomalies 1.275%\n"
     ]
    },
    {
     "data": {
      "text/plain": "<Figure size 864x432 with 2 Axes>",
      "image/png": "[encoded data removed]"
     },
     "metadata": {
      "needs_background": "light"
     },
     "output_type": "display_data"
    }
   ],
   "source": [
    "import matplotlib.pylab as plt\n",
    "from scipy.stats import zscore, probplot\n",
    "\n",
    "plt.style.use(style='fast')\n",
    "plt.figure(figsize=(12,6))\n",
    "plt.subplot(2,1,1)\n",
    "plt.title('Гистограмма доходностей')\n",
    "abs_Z_scores = np.abs(zscore(inpData.open.pct_change().iloc[1:]))\n",
    "filtered = (abs_Z_scores < 3)\n",
    "print(f'3 sigma anomalies {(1 - sum(filtered) / inpData.shape[0]):.3%}')\n",
    "bars = plt.hist(inpData.open.pct_change().values[1:][filtered], density=True, )\n",
    "ax = plt.subplot(2,1,2)\n",
    "\n",
    "probplot(inpData.open.pct_change().values[1:][filtered], plot=ax)\n",
    "plt.title(f'Q-Q plot')\n",
    "plt.show()\n",
    "del abs_Z_scores, filtered, bars"
   ],
   "metadata": {
    "collapsed": false,
    "pycharm": {
     "name": "#%%\n"
    }
   }
  },
  {
   "cell_type": "code",
   "execution_count": 313,
   "outputs": [
    {
     "data": {
      "text/plain": "  0%|          | 0/450 [00:00<?, ?it/s]",
      "application/vnd.jupyter.widget-view+json": {
       "version_major": 2,
       "version_minor": 0,
       "model_id": "b4ca48d8ac6c41eaaac958bb2a78853e"
      }
     },
     "metadata": {},
     "output_type": "display_data"
    }
   ],
   "source": [
    "def create_grid(params: initParameters):\n",
    "    \"\"\"\n",
    "    Создает удобную сетку для дальнейших расчетов\n",
    "    :param params: начальные init параметры\n",
    "    :return: словарь из параметров использующийся везде\n",
    "    \"\"\"\n",
    "    capital = 20_000\n",
    "    slippage = 2\n",
    "    retParams = {\n",
    "        'capital': capital,\n",
    "        'slippagePerCapital': slippage / capital,\n",
    "        'yThreshold': round(params['yThreshold'] / 100, 2),\n",
    "        'rollingMean': params['rollingMean'],\n",
    "        'fatRollingMean': params['fatRollingMean'],\n",
    "        'timeBarrier': params['timeBarrier'],\n",
    "        'varianceRatioFilter': params['varianceRatioFilter'],\n",
    "        'restAfterLoss': params['restAfterLoss'],\n",
    "        'restAfterFatProfit' : params['restAfterFatProfit'],\n",
    "        'stopLossThreshold': round(params['stopLossPercent'] / 100, 3),\n",
    "        'takeProfitThreshold': round(params['takeProfitPercent'] / 100, 3),\n",
    "        'varianceLookBack': params['rollingMean'] * 2,\n",
    "        'varianceRatioCarrete': int((params['rollingMean'] * 2) // params['varianceRatioCarreteParameter']) + 1,\n",
    "    }\n",
    "    return retParams\n",
    "\n",
    "def cook_data(df: pd.DataFrame, params) -> pd.DataFrame:\n",
    "    \"\"\"\n",
    "    Подготавливает данные для дальнейшего рассчета стратегии.\n",
    "    :param df: должен быть open, close, low, high\n",
    "    :param params: список параметров из create_grid\n",
    "    :return: данные с полосами Болинджера + логарифмы + возвраты\n",
    "    \"\"\"\n",
    "    df['rollMean'] = df['open'].rolling(window=params['rollingMean']).mean()\n",
    "    df['rollingStd'] = df['open'].rolling(window=params['rollingMean']).std()\n",
    "    df['HBBand'] = df['rollMean'] + df['rollingStd'] * params['yThreshold']\n",
    "    df['LBBand'] = df['rollMean'] - df['rollingStd'] * params['yThreshold']\n",
    "    df['fatMean'] = df['open'].rolling(window=params['fatRollingMean']).mean()\n",
    "    df['logOpenPrice'] = np.log(df['open'])\n",
    "    df['retOpenPrice'] = df['logOpenPrice'].diff()\n",
    "    return df.iloc[max(params['varianceLookBack'], params['fatRollingMean']):]\n",
    "\n",
    "def variance_ratio(logTuple: tuple, retTuple: tuple, params: dict) -> bool:\n",
    "    \"\"\"\n",
    "    Возвращает значение variacne ratio. Необходимо для понимания того, можно ли открывать сделку\n",
    "    :param logTuple: tuple из цен открытия включая проверяемую точку\n",
    "    :param retTuple: tuple из цен открытия включая проверяемую точку\n",
    "    :param params: список параметров из create_grid\n",
    "    :return: Можно ли открывать сделку. Фактически является фильтром\n",
    "    \"\"\"\n",
    "    buffer_size = len(retTuple)\n",
    "    means = (1 / buffer_size) * np.sum(retTuple)\n",
    "    # сдвиг во времени q\n",
    "    m = params['varianceRatioCarrete'] * (buffer_size - params['varianceRatioCarrete'] + 1 ) * (1 - (params['varianceRatioCarrete'] / buffer_size))\n",
    "    sigma_a = (1 / (buffer_size - 1)) * np.sum(np.square(np.subtract(retTuple, means)))\n",
    "    subtract_returns = np.subtract(logTuple, np.roll(logTuple, params['varianceRatioCarrete']))[params['varianceRatioCarrete']:]\n",
    "    _buff_ = np.sum(np.square(subtract_returns - params['varianceRatioCarrete'] * means))\n",
    "\n",
    "    sigma_b = (1 / m) * _buff_\n",
    "    result = (sigma_b / sigma_a)\n",
    "    if result < params['varianceRatioFilter']:\n",
    "        return True\n",
    "    else:\n",
    "        return False\n",
    "\n",
    "def reverse_variance_ratio(logTuple: tuple, retTuple: tuple, params: dict, timeBorderCounter: int) -> bool:\n",
    "    \"\"\"\n",
    "    Возвращает значение variacne ratio. Необходимо для понимания того, можно ли открывать сделку\n",
    "    :param logTuple: tuple из цен открытия включая проверяемую точку\n",
    "    :param retTuple: tuple из цен открытия включая проверяемую точку\n",
    "    :param params: список параметров из create_grid\n",
    "    :return: Можно ли открывать сделку. Фактически является фильтром\n",
    "    \"\"\"\n",
    "    if timeBorderCounter < params[\"varianceLookBack\"]:\n",
    "        buffer_size = len(retTuple)\n",
    "        means = (1 / buffer_size) * np.sum(retTuple)\n",
    "        # сдвиг во времени q\n",
    "        m = timeBorderCounter * (buffer_size - timeBorderCounter + 1 ) * (1 - (timeBorderCounter / buffer_size))\n",
    "        sigma_a = (1 / (buffer_size - 1)) * np.sum(np.square(np.subtract(retTuple, means)))\n",
    "        subtract_returns = np.subtract(logTuple, np.roll(logTuple, timeBorderCounter))[timeBorderCounter:]\n",
    "        _buff_ = np.sum(np.square(subtract_returns - timeBorderCounter * means))\n",
    "        sigma_b = (1 / m) * _buff_\n",
    "        result = (sigma_b / sigma_a)\n",
    "        if result > params['varianceRatioFilter']:\n",
    "            return True\n",
    "        else:\n",
    "            return False\n",
    "    else:\n",
    "        return False\n",
    "\n",
    "\n",
    "def open_position(arrowIndex, recursionFilter, LBandTuple, HBandTuple, LowTuple,\n",
    "                 HighTuple, OpenTuple, params, logTuple, retTuple) -> dict:\n",
    "    \"\"\"\n",
    "    Возвращает список с типом сделанной сделки\n",
    "    :param arrowIndex: Навигация по полному массиву данных\n",
    "    :param recursionFilter: ограничитель ошибок связанных с забитием памяти и превышением лимита рекурсии\n",
    "    :param LBandTuple: нижняя граница болинджера\n",
    "    :param HBandTuple: верхняя полоса болинджера\n",
    "    :param LowTuple: low цена\n",
    "    :param HighTuple: high цена\n",
    "    :param OpenTuple: open цена\n",
    "    :param params: список параметров полученных с помощью create_grid\n",
    "    :param logTuple: необходим для расчета Variance ratio\n",
    "    :param retTuple: необходим для расчета Variance ratio\n",
    "    :return: список о сделанной сделке\n",
    "    \"\"\"\n",
    "    LOGIC_BOOL = False\n",
    "    _recursion_limit = 10_000\n",
    "\n",
    "    openDict = {\n",
    "        'typeOperation': None,\n",
    "        'position': None,\n",
    "        'openPrice': None,\n",
    "        'openIndex': None,\n",
    "        'stopLossBorder': None,\n",
    "        'takeProfitBorder': None\n",
    "    }\n",
    "    if recursionFilter > _recursion_limit:\n",
    "        return arrowIndex\n",
    "\n",
    "        # Текущее открытие должно находится выше нижней полосы Болинджера,\n",
    "        # тогда в случае если LOW пересекает полосу покупаем контракт по цене LBBand\n",
    "    if (OpenTuple[arrowIndex] > LBandTuple[arrowIndex]) and (LowTuple[arrowIndex] < LBandTuple[arrowIndex]):\n",
    "        if variance_ratio(logTuple=logTuple[arrowIndex - params['varianceLookBack']:arrowIndex],\n",
    "                      retTuple=retTuple[arrowIndex - params['varianceLookBack']:arrowIndex],params=params):\n",
    "            openDict['typeOperation'] = 'BUY'\n",
    "            openDict['position'] = params['capital'] / LBandTuple[arrowIndex]\n",
    "            openDict['openPrice'] = LBandTuple[arrowIndex]\n",
    "            openDict['openIndex'] = arrowIndex\n",
    "            openDict['stopLossBorder'] = LBandTuple[arrowIndex] * (1 - params['stopLossThreshold'])\n",
    "            openDict['takeProfitBorder'] = LBandTuple[arrowIndex] * (1 + params['takeProfitThreshold'])\n",
    "            LOGIC_BOOL = True\n",
    "            return openDict\n",
    "\n",
    "    elif (OpenTuple[arrowIndex] < HBandTuple[arrowIndex]) and (HighTuple[arrowIndex] > HBandTuple[arrowIndex]):\n",
    "        if variance_ratio(logTuple=logTuple[arrowIndex - params['varianceLookBack']:arrowIndex],\n",
    "                      retTuple=retTuple[arrowIndex - params['varianceLookBack']:arrowIndex],params=params):\n",
    "            openDict['typeOperation'] = 'SELL'\n",
    "            openDict['position'] = -1 * (params['capital'] / HBandTuple[arrowIndex])\n",
    "            openDict['openPrice'] = HBandTuple[arrowIndex]\n",
    "            openDict['openIndex'] = arrowIndex\n",
    "            openDict['stopLossBorder'] = HBandTuple[arrowIndex] * (1 + params['stopLossThreshold'])\n",
    "            openDict['takeProfitBorder'] = HBandTuple[arrowIndex] * (1 - params['takeProfitThreshold'])\n",
    "            LOGIC_BOOL = True\n",
    "            return openDict\n",
    "\n",
    "    if not LOGIC_BOOL:\n",
    "        return open_position(arrowIndex=arrowIndex+1, recursionFilter=recursionFilter+1, LBandTuple=LBandTuple,\n",
    "                     HBandTuple=HBandTuple, LowTuple=LowTuple, HighTuple=HighTuple, OpenTuple=OpenTuple, params=params,\n",
    "                     logTuple=logTuple, retTuple=retTuple)\n",
    "\n",
    "\n",
    "def close_position(arrowIndex, recursionFilter, openDict, LowTuple, HighTuple, OpenTuple, LightMeanTuple, FatMeanTuple,\n",
    "                   params, logTuple, retTuple, timeBorderCounter, indicatorVR) -> dict:\n",
    "    \"\"\"\n",
    "\n",
    "    :param arrowIndex:\n",
    "    :param recursionFilter:\n",
    "    :param openDict:\n",
    "    :param LowTuple:\n",
    "    :param HighTuple:\n",
    "    :param OpenTuple:\n",
    "    :param LightMeanTuple:\n",
    "    :param FatMeanTuple:\n",
    "    :param params:\n",
    "    :param logTuple:\n",
    "    :param retTuple:\n",
    "    :param timeBorderCounter:\n",
    "    :param indicatorVR:\n",
    "    :return:\n",
    "    \"\"\"\n",
    "    _recursion_limit = 10_000\n",
    "    NOT_NONE_SAVER = False\n",
    "\n",
    "    if recursionFilter > _recursion_limit:\n",
    "        return [arrowIndex, indicatorVR]\n",
    "\n",
    "    if timeBorderCounter >= params['timeBarrier']:\n",
    "        return {'typeHolding': 'endPeriod', 'closePrice': OpenTuple[arrowIndex+1],\n",
    "                        'closeIndex': arrowIndex+1}\n",
    "\n",
    "    elif openDict['typeOperation'] == 'BUY':\n",
    "        # Stop Loss\n",
    "        if LowTuple[arrowIndex] < openDict['stopLossBorder']:\n",
    "            return {'typeHolding': 'stopLoss', 'closePrice': openDict['stopLossBorder'],\n",
    "                        'closeIndex': arrowIndex + params['restAfterLoss']}\n",
    "\n",
    "        # Smart mean crossing\n",
    "        # Проверяем адекватное расположение между открытием и скользящей малой\n",
    "        elif (OpenTuple[arrowIndex] < LightMeanTuple[arrowIndex]) and (not indicatorVR):\n",
    "            # Проверяем что можно закрыть лонг о пересечение с малой скользящей\n",
    "            if HighTuple[arrowIndex] > LightMeanTuple[arrowIndex]:\n",
    "                # Проверяем можно ли продолжить удержание позиции\n",
    "                if LightMeanTuple[arrowIndex] < FatMeanTuple[arrowIndex]:\n",
    "                    if not reverse_variance_ratio(logTuple=logTuple[arrowIndex - params['varianceLookBack']: arrowIndex],\n",
    "                                      retTuple=retTuple[arrowIndex - params['varianceLookBack']: arrowIndex],\n",
    "                                      params=params, timeBorderCounter=timeBorderCounter+1):\n",
    "                        #   Local Trend Following recursion\n",
    "                        return close_position(arrowIndex=arrowIndex+1, recursionFilter=recursionFilter+1,\n",
    "                                              openDict=openDict, LowTuple=LowTuple, HighTuple=HighTuple,\n",
    "                                              OpenTuple=OpenTuple, LightMeanTuple=LightMeanTuple,\n",
    "                                              FatMeanTuple=FatMeanTuple, params=params, logTuple=logTuple,\n",
    "                                              retTuple=retTuple, timeBorderCounter=timeBorderCounter+1,\n",
    "                                              indicatorVR=True)\n",
    "\n",
    "                    else:\n",
    "                        # small MA\n",
    "                        return {'typeHolding': 'lightCross', 'closePrice': LightMeanTuple[arrowIndex],\n",
    "                                'closeIndex': arrowIndex }\n",
    "\n",
    "                else:\n",
    "                    # emergent exit\n",
    "                    return {'typeHolding': 'lightCrossEmergent', 'closePrice': LightMeanTuple[arrowIndex],\n",
    "                                'closeIndex': arrowIndex + params['restAfterFatProfit']}\n",
    "\n",
    "        # Ждем пересечение с толстой скользящей\n",
    "        if indicatorVR:\n",
    "            if OpenTuple[arrowIndex] < FatMeanTuple[arrowIndex]:\n",
    "                if HighTuple[arrowIndex] > FatMeanTuple[arrowIndex]:\n",
    "                    return {'typeHolding': 'fatExtraProfit', 'closePrice': FatMeanTuple[arrowIndex],\n",
    "                            'closeIndex': arrowIndex}\n",
    "                if variance_ratio(logTuple=logTuple[arrowIndex - params['varianceLookBack']:arrowIndex],\n",
    "                      retTuple=retTuple[arrowIndex - params['varianceLookBack']:arrowIndex],params=params):\n",
    "                    indicatorVR = False\n",
    "    \"\"\"=================================================================================\"\"\"\n",
    "\n",
    "    if openDict['typeOperation'] == 'SELL':\n",
    "        # Stop Loss\n",
    "        if HighTuple[arrowIndex] > openDict['stopLossBorder']:\n",
    "            return {'typeHolding': 'stopLoss', 'closePrice': openDict['stopLossBorder'],\n",
    "                        'closeIndex': arrowIndex + params['restAfterLoss']}\n",
    "\n",
    "        # Smart mean crossing\n",
    "        # Проверяем адекватное расположение между открытием и скользящей малой\n",
    "        elif (OpenTuple[arrowIndex] > LightMeanTuple[arrowIndex]) and (not indicatorVR):\n",
    "            # Проверяем что можно закрыть шорт о пересечение с малой скользящей\n",
    "            if LowTuple[arrowIndex] < LightMeanTuple[arrowIndex]:\n",
    "                # Проверяем можно ли продолжить удержание позиции\n",
    "                if LightMeanTuple[arrowIndex] > FatMeanTuple[arrowIndex]:\n",
    "                    if not reverse_variance_ratio(logTuple=logTuple[arrowIndex - params['varianceLookBack']: arrowIndex],\n",
    "                                      retTuple=retTuple[arrowIndex - params['varianceLookBack']: arrowIndex],\n",
    "                                      params=params, timeBorderCounter=timeBorderCounter+1):\n",
    "                        #   Local Trend Following recursion\n",
    "                        return close_position(arrowIndex=arrowIndex+1, recursionFilter=recursionFilter+1,\n",
    "                                              openDict=openDict, LowTuple=LowTuple, HighTuple=HighTuple,\n",
    "                                              OpenTuple=OpenTuple, LightMeanTuple=LightMeanTuple,\n",
    "                                              FatMeanTuple=FatMeanTuple, params=params, logTuple=logTuple,\n",
    "                                              retTuple=retTuple, timeBorderCounter=timeBorderCounter+1,\n",
    "                                              indicatorVR=True)\n",
    "\n",
    "                    else:\n",
    "                        # small MA\n",
    "                        return {'typeHolding': 'lightCross', 'closePrice': LightMeanTuple[arrowIndex],\n",
    "                                'closeIndex': arrowIndex }\n",
    "\n",
    "                else:\n",
    "                    # emergent exit\n",
    "                    return {'typeHolding': 'lightCrossEmergent', 'closePrice': LightMeanTuple[arrowIndex],\n",
    "                                'closeIndex': arrowIndex + params['restAfterFatProfit']}\n",
    "\n",
    "        # Ждем пересечение с толстой скользящей\n",
    "        if indicatorVR:\n",
    "            if OpenTuple[arrowIndex] > FatMeanTuple[arrowIndex]:\n",
    "                if LowTuple[arrowIndex] < FatMeanTuple[arrowIndex]:\n",
    "                    return {'typeHolding': 'fatExtraProfit', 'closePrice': FatMeanTuple[arrowIndex],\n",
    "                            'closeIndex': arrowIndex}\n",
    "                if variance_ratio(logTuple=logTuple[arrowIndex - params['varianceLookBack']:arrowIndex],\n",
    "                      retTuple=retTuple[arrowIndex - params['varianceLookBack']:arrowIndex],params=params):\n",
    "                    indicatorVR = False\n",
    "\n",
    "\n",
    "\n",
    "    if not NOT_NONE_SAVER:\n",
    "        return close_position(arrowIndex=arrowIndex + 1, recursionFilter=recursionFilter + 1,\n",
    "                              openDict=openDict, LowTuple=LowTuple, HighTuple=HighTuple,\n",
    "                              OpenTuple=OpenTuple, LightMeanTuple=LightMeanTuple,\n",
    "                              FatMeanTuple=FatMeanTuple, params=params, logTuple=logTuple,\n",
    "                              retTuple=retTuple, timeBorderCounter=timeBorderCounter + 1,\n",
    "                              indicatorVR=indicatorVR)\n",
    "\n",
    "\n",
    "startParams = create_grid(initParameters)\n",
    "cookedData = cook_data(df=inpData.copy(), params=startParams)\n",
    "\n",
    "RESULT = list()\n",
    "openPOS = open_position(arrowIndex=startParams['varianceLookBack'], recursionFilter=0, LBandTuple=cookedData.LBBand, HBandTuple=cookedData.HBBand,\n",
    "             LowTuple=cookedData.low, HighTuple=cookedData.high, OpenTuple=cookedData.open , params=startParams,\n",
    "             logTuple=cookedData.logOpenPrice, retTuple=cookedData.retOpenPrice)\n",
    "\n",
    "closePos = close_position(arrowIndex=openPOS['openIndex'], recursionFilter=0, openDict=openPOS, LowTuple=cookedData.low,\n",
    "                          HighTuple=cookedData.high, OpenTuple=cookedData.open, LightMeanTuple=cookedData.rollMean,\n",
    "                          FatMeanTuple=cookedData.fatMean, params=startParams, logTuple=cookedData.logOpenPrice,\n",
    "                          retTuple=cookedData.retOpenPrice, timeBorderCounter=0, indicatorVR=False)\n",
    "RESULT.append({**openPOS, **closePos})\n",
    "openPOS = startParams['varianceLookBack'] + closePos['closeIndex']\n",
    "for i in tqdm(range(450)):\n",
    "    while type(openPOS) is not dict:\n",
    "            openPOS = open_position(arrowIndex=openPOS, recursionFilter=0, LBandTuple=cookedData.LBBand, HBandTuple=cookedData.HBBand,\n",
    "             LowTuple=cookedData.low, HighTuple=cookedData.high, OpenTuple=cookedData.open , params=startParams,\n",
    "             logTuple=cookedData.logOpenPrice, retTuple=cookedData.retOpenPrice)\n",
    "\n",
    "    closePos = int(openPOS['openIndex'] + 1)\n",
    "    indicatorVR = False\n",
    "    while type(closePos) is not dict:\n",
    "            closePos = close_position(arrowIndex=closePos, recursionFilter=0, openDict=openPOS, LowTuple=cookedData.low,\n",
    "                              HighTuple=cookedData.high, OpenTuple=cookedData.open, LightMeanTuple=cookedData.rollMean,\n",
    "                              FatMeanTuple=cookedData.fatMean, params=startParams, logTuple=cookedData.logOpenPrice,\n",
    "                              retTuple=cookedData.retOpenPrice, timeBorderCounter=0, indicatorVR=indicatorVR)\n",
    "            if type(closePos) == list:\n",
    "                indicatorVR = closePos[1]\n",
    "                closePos = closePos[0]\n",
    "\n",
    "    total_dict = {**openPOS, **closePos}\n",
    "    RESULT.append(total_dict)\n",
    "    openPOS = closePos['closeIndex'] + 1\n",
    "\n",
    "RESULT = pd.DataFrame(RESULT)"
   ],
   "metadata": {
    "collapsed": false,
    "pycharm": {
     "name": "#%%\n"
    }
   }
  },
  {
   "cell_type": "code",
   "execution_count": 314,
   "outputs": [
    {
     "data": {
      "text/plain": "    typeOperation    position   openPrice  openIndex  stopLossBorder  \\\n2            SELL -176.222695  113.492760       5744      113.833238   \n3            SELL -176.128507  113.553452       6308      113.894112   \n4             BUY  176.520058  113.301572       6437      112.961667   \n25           SELL -175.760427  113.791258      24092      114.132631   \n32            BUY  175.930521  113.681241      29422      113.340198   \n66           SELL -179.795041  111.237773      64135      111.571487   \n71            BUY  181.630278  110.113799      66876      109.783458   \n85           SELL -181.192962  110.379563      80713      110.710702   \n87            BUY  181.608976  110.126715      82058      109.796335   \n88            BUY  181.596041  110.134559      82510      109.804156   \n97            BUY  182.677304  109.482676      92910      109.154228   \n101          SELL -181.793401  110.014995      96388      110.345040   \n104          SELL -181.653583  110.099672      99306      110.429971   \n105           BUY  181.807007  110.006761      99887      109.676741   \n114          SELL -180.297041  110.928055     109754      111.260839   \n154          SELL -178.998125  111.733014     150457      112.068213   \n157          SELL -179.123947  111.654529     152502      111.989493   \n163          SELL -178.910049  111.788019     158563      112.123384   \n169          SELL -181.235165  110.353860     164298      110.684922   \n175          SELL -181.923978  109.936031     169186      110.265839   \n180          SELL -182.415438  109.639843     172756      109.968763   \n189           BUY  183.977924  108.708695     180721      108.382568   \n202          SELL -184.050999  108.665533     191477      108.991530   \n212          SELL -182.952740  109.317849     199499      109.645803   \n214          SELL -182.924697  109.334608     199821      109.662611   \n215          SELL -182.911358  109.342581     199862      109.670609   \n239          SELL -183.831292  108.795406     222856      109.121792   \n250          SELL -181.302964  110.312593     233840      110.643530   \n256           BUY  183.081326  109.241070     240780      108.913347   \n257          SELL -182.912395  109.341961     241179      109.669987   \n258          SELL -182.826307  109.393448     241454      109.721628   \n259          SELL -182.634422  109.508381     242518      109.836907   \n262           BUY  182.961784  109.312445     243057      108.984508   \n266           BUY  183.023493  109.275589     244384      108.947762   \n273           BUY  182.641435  109.504177     249374      109.175665   \n279           BUY  183.082613  109.240302     255607      108.912581   \n284           BUY  182.187818  109.776824     259467      109.447493   \n291           BUY  182.971000  109.306939     264988      108.979018   \n293          SELL -182.313552  109.701115     267853      110.030218   \n294           BUY  182.462890  109.611330     267875      109.282496   \n297          SELL -182.245552  109.742047     268857      110.071273   \n299          SELL -182.384867  109.658221     269748      109.987195   \n321           BUY  184.194768  108.580717     288119      108.254975   \n338           BUY  186.684023  107.132896     301525      106.811497   \n356          SELL -183.566522  108.952329     317808      109.279186   \n374          SELL -185.277424  107.946233     337958      108.270072   \n390          SELL -181.309692  110.308499     350991      110.639425   \n396          SELL -182.266420  109.729483     355147      110.058671   \n402          SELL -182.494096  109.592587     359345      109.921364   \n413           BUY  182.240450  109.745120     370805      109.415885   \n419           BUY  182.278019  109.722501     376700      109.393333   \n426          SELL -182.483463  109.598972     382768      109.927769   \n440          SELL -181.637802  110.109238     395039      110.439566   \n442           BUY  181.998156  109.891224     395770      109.561550   \n\n     takeProfitBorder     typeHolding  closePrice  closeIndex  \n2          102.143484  fatExtraProfit  113.398048        6131  \n3          102.198107  fatExtraProfit  113.418885        6364  \n4          124.631729  fatExtraProfit  113.389747        6560  \n25         102.412132  fatExtraProfit  113.672534       24199  \n32         125.049365  fatExtraProfit  113.756188       29687  \n66         100.113996  fatExtraProfit  110.968843       64825  \n71         121.125179  fatExtraProfit  110.231580       67187  \n85          99.341607  fatExtraProfit  110.265994       81506  \n87         121.139387  fatExtraProfit  110.278227       82146  \n88         121.148015  fatExtraProfit  110.213790       83298  \n97         120.430943  fatExtraProfit  109.650632       93030  \n101         99.013495  fatExtraProfit  109.892782       96421  \n104         99.089705  fatExtraProfit  110.040096       99617  \n105        121.007437  fatExtraProfit  110.045088      100118  \n114         99.835249  fatExtraProfit  110.824066      110251  \n154        100.559712  fatExtraProfit  111.661704      150928  \n157        100.489076  fatExtraProfit  111.572836      152527  \n163        100.609218  fatExtraProfit  111.731491      158757  \n169         99.318474  fatExtraProfit  110.371476      164791  \n175         98.942428  fatExtraProfit  109.762709      169620  \n180         98.675859  fatExtraProfit  109.569382      172963  \n189        119.579564  fatExtraProfit  108.928563      180861  \n202         97.798980  fatExtraProfit  108.596763      191617  \n212         98.386064  fatExtraProfit  109.222164      199549  \n214         98.401147  fatExtraProfit  109.210557      199846  \n215         98.408323  fatExtraProfit  109.213527      199929  \n239         97.915865  fatExtraProfit  108.703450      223100  \n250         99.281333  fatExtraProfit  110.231321      234470  \n256        120.165177  fatExtraProfit  109.289026      241130  \n257         98.407765  fatExtraProfit  109.288937      241271  \n258         98.454103  fatExtraProfit  109.309729      241590  \n259         98.557543  fatExtraProfit  109.410492      242900  \n262        120.243690  fatExtraProfit  109.417801      243091  \n266        120.203148  fatExtraProfit  109.410694      244420  \n273        120.454595  fatExtraProfit  109.568222      249506  \n279        120.164333  fatExtraProfit  109.352568      256088  \n284        120.754506  fatExtraProfit  109.858353      259654  \n291        120.237633  fatExtraProfit  109.434993      265675  \n293         98.731004  fatExtraProfit  109.648366      267868  \n294        120.572463  fatExtraProfit  109.613983      268202  \n297         98.767843  fatExtraProfit  109.618732      268919  \n299         98.692399  fatExtraProfit  109.564095      269842  \n321        119.438789  fatExtraProfit  108.645345      288598  \n338        117.846186  fatExtraProfit  107.253746      301840  \n356         98.057096  fatExtraProfit  108.897997      317895  \n374         97.151610  fatExtraProfit  107.814785      338730  \n390         99.277649  fatExtraProfit  110.122789      351742  \n396         98.756534  fatExtraProfit  109.661169      355535  \n402         98.633328  fatExtraProfit  109.493541      360141  \n413        120.719632  fatExtraProfit  109.823719      370932  \n419        120.694751  fatExtraProfit  109.842362      377140  \n426         98.639075  fatExtraProfit  109.490418      382774  \n440         99.098314  fatExtraProfit  110.022601      395592  \n442        120.880346  fatExtraProfit  110.013412      395912  ",
      "text/html": "<div>\n<style scoped>\n    .dataframe tbody tr th:only-of-type {\n        vertical-align: middle;\n    }\n\n    .dataframe tbody tr th {\n        vertical-align: top;\n    }\n\n    .dataframe thead th {\n        text-align: right;\n    }\n</style>\n<table border=\"1\" class=\"dataframe\">\n  <thead>\n    <tr style=\"text-align: right;\">\n      <th></th>\n      <th>typeOperation</th>\n      <th>position</th>\n      <th>openPrice</th>\n      <th>openIndex</th>\n      <th>stopLossBorder</th>\n      <th>takeProfitBorder</th>\n      <th>typeHolding</th>\n      <th>closePrice</th>\n      <th>closeIndex</th>\n    </tr>\n  </thead>\n  <tbody>\n    <tr>\n      <th>2</th>\n      <td>SELL</td>\n      <td>-176.222695</td>\n      <td>113.492760</td>\n      <td>5744</td>\n      <td>113.833238</td>\n      <td>102.143484</td>\n      <td>fatExtraProfit</td>\n      <td>113.398048</td>\n      <td>6131</td>\n    </tr>\n    <tr>\n      <th>3</th>\n      <td>SELL</td>\n      <td>-176.128507</td>\n      <td>113.553452</td>\n      <td>6308</td>\n      <td>113.894112</td>\n      <td>102.198107</td>\n      <td>fatExtraProfit</td>\n      <td>113.418885</td>\n      <td>6364</td>\n    </tr>\n    <tr>\n      <th>4</th>\n      <td>BUY</td>\n      <td>176.520058</td>\n      <td>113.301572</td>\n      <td>6437</td>\n      <td>112.961667</td>\n      <td>124.631729</td>\n      <td>fatExtraProfit</td>\n      <td>113.389747</td>\n      <td>6560</td>\n    </tr>\n    <tr>\n      <th>25</th>\n      <td>SELL</td>\n      <td>-175.760427</td>\n      <td>113.791258</td>\n      <td>24092</td>\n      <td>114.132631</td>\n      <td>102.412132</td>\n      <td>fatExtraProfit</td>\n      <td>113.672534</td>\n      <td>24199</td>\n    </tr>\n    <tr>\n      <th>32</th>\n      <td>BUY</td>\n      <td>175.930521</td>\n      <td>113.681241</td>\n      <td>29422</td>\n      <td>113.340198</td>\n      <td>125.049365</td>\n      <td>fatExtraProfit</td>\n      <td>113.756188</td>\n      <td>29687</td>\n    </tr>\n    <tr>\n      <th>66</th>\n      <td>SELL</td>\n      <td>-179.795041</td>\n      <td>111.237773</td>\n      <td>64135</td>\n      <td>111.571487</td>\n      <td>100.113996</td>\n      <td>fatExtraProfit</td>\n      <td>110.968843</td>\n      <td>64825</td>\n    </tr>\n    <tr>\n      <th>71</th>\n      <td>BUY</td>\n      <td>181.630278</td>\n      <td>110.113799</td>\n      <td>66876</td>\n      <td>109.783458</td>\n      <td>121.125179</td>\n      <td>fatExtraProfit</td>\n      <td>110.231580</td>\n      <td>67187</td>\n    </tr>\n    <tr>\n      <th>85</th>\n      <td>SELL</td>\n      <td>-181.192962</td>\n      <td>110.379563</td>\n      <td>80713</td>\n      <td>110.710702</td>\n      <td>99.341607</td>\n      <td>fatExtraProfit</td>\n      <td>110.265994</td>\n      <td>81506</td>\n    </tr>\n    <tr>\n      <th>87</th>\n      <td>BUY</td>\n      <td>181.608976</td>\n      <td>110.126715</td>\n      <td>82058</td>\n      <td>109.796335</td>\n      <td>121.139387</td>\n      <td>fatExtraProfit</td>\n      <td>110.278227</td>\n      <td>82146</td>\n    </tr>\n    <tr>\n      <th>88</th>\n      <td>BUY</td>\n      <td>181.596041</td>\n      <td>110.134559</td>\n      <td>82510</td>\n      <td>109.804156</td>\n      <td>121.148015</td>\n      <td>fatExtraProfit</td>\n      <td>110.213790</td>\n      <td>83298</td>\n    </tr>\n    <tr>\n      <th>97</th>\n      <td>BUY</td>\n      <td>182.677304</td>\n      <td>109.482676</td>\n      <td>92910</td>\n      <td>109.154228</td>\n      <td>120.430943</td>\n      <td>fatExtraProfit</td>\n      <td>109.650632</td>\n      <td>93030</td>\n    </tr>\n    <tr>\n      <th>101</th>\n      <td>SELL</td>\n      <td>-181.793401</td>\n      <td>110.014995</td>\n      <td>96388</td>\n      <td>110.345040</td>\n      <td>99.013495</td>\n      <td>fatExtraProfit</td>\n      <td>109.892782</td>\n      <td>96421</td>\n    </tr>\n    <tr>\n      <th>104</th>\n      <td>SELL</td>\n      <td>-181.653583</td>\n      <td>110.099672</td>\n      <td>99306</td>\n      <td>110.429971</td>\n      <td>99.089705</td>\n      <td>fatExtraProfit</td>\n      <td>110.040096</td>\n      <td>99617</td>\n    </tr>\n    <tr>\n      <th>105</th>\n      <td>BUY</td>\n      <td>181.807007</td>\n      <td>110.006761</td>\n      <td>99887</td>\n      <td>109.676741</td>\n      <td>121.007437</td>\n      <td>fatExtraProfit</td>\n      <td>110.045088</td>\n      <td>100118</td>\n    </tr>\n    <tr>\n      <th>114</th>\n      <td>SELL</td>\n      <td>-180.297041</td>\n      <td>110.928055</td>\n      <td>109754</td>\n      <td>111.260839</td>\n      <td>99.835249</td>\n      <td>fatExtraProfit</td>\n      <td>110.824066</td>\n      <td>110251</td>\n    </tr>\n    <tr>\n      <th>154</th>\n      <td>SELL</td>\n      <td>-178.998125</td>\n      <td>111.733014</td>\n      <td>150457</td>\n      <td>112.068213</td>\n      <td>100.559712</td>\n      <td>fatExtraProfit</td>\n      <td>111.661704</td>\n      <td>150928</td>\n    </tr>\n    <tr>\n      <th>157</th>\n      <td>SELL</td>\n      <td>-179.123947</td>\n      <td>111.654529</td>\n      <td>152502</td>\n      <td>111.989493</td>\n      <td>100.489076</td>\n      <td>fatExtraProfit</td>\n      <td>111.572836</td>\n      <td>152527</td>\n    </tr>\n    <tr>\n      <th>163</th>\n      <td>SELL</td>\n      <td>-178.910049</td>\n      <td>111.788019</td>\n      <td>158563</td>\n      <td>112.123384</td>\n      <td>100.609218</td>\n      <td>fatExtraProfit</td>\n      <td>111.731491</td>\n      <td>158757</td>\n    </tr>\n    <tr>\n      <th>169</th>\n      <td>SELL</td>\n      <td>-181.235165</td>\n      <td>110.353860</td>\n      <td>164298</td>\n      <td>110.684922</td>\n      <td>99.318474</td>\n      <td>fatExtraProfit</td>\n      <td>110.371476</td>\n      <td>164791</td>\n    </tr>\n    <tr>\n      <th>175</th>\n      <td>SELL</td>\n      <td>-181.923978</td>\n      <td>109.936031</td>\n      <td>169186</td>\n      <td>110.265839</td>\n      <td>98.942428</td>\n      <td>fatExtraProfit</td>\n      <td>109.762709</td>\n      <td>169620</td>\n    </tr>\n    <tr>\n      <th>180</th>\n      <td>SELL</td>\n      <td>-182.415438</td>\n      <td>109.639843</td>\n      <td>172756</td>\n      <td>109.968763</td>\n      <td>98.675859</td>\n      <td>fatExtraProfit</td>\n      <td>109.569382</td>\n      <td>172963</td>\n    </tr>\n    <tr>\n      <th>189</th>\n      <td>BUY</td>\n      <td>183.977924</td>\n      <td>108.708695</td>\n      <td>180721</td>\n      <td>108.382568</td>\n      <td>119.579564</td>\n      <td>fatExtraProfit</td>\n      <td>108.928563</td>\n      <td>180861</td>\n    </tr>\n    <tr>\n      <th>202</th>\n      <td>SELL</td>\n      <td>-184.050999</td>\n      <td>108.665533</td>\n      <td>191477</td>\n      <td>108.991530</td>\n      <td>97.798980</td>\n      <td>fatExtraProfit</td>\n      <td>108.596763</td>\n      <td>191617</td>\n    </tr>\n    <tr>\n      <th>212</th>\n      <td>SELL</td>\n      <td>-182.952740</td>\n      <td>109.317849</td>\n      <td>199499</td>\n      <td>109.645803</td>\n      <td>98.386064</td>\n      <td>fatExtraProfit</td>\n      <td>109.222164</td>\n      <td>199549</td>\n    </tr>\n    <tr>\n      <th>214</th>\n      <td>SELL</td>\n      <td>-182.924697</td>\n      <td>109.334608</td>\n      <td>199821</td>\n      <td>109.662611</td>\n      <td>98.401147</td>\n      <td>fatExtraProfit</td>\n      <td>109.210557</td>\n      <td>199846</td>\n    </tr>\n    <tr>\n      <th>215</th>\n      <td>SELL</td>\n      <td>-182.911358</td>\n      <td>109.342581</td>\n      <td>199862</td>\n      <td>109.670609</td>\n      <td>98.408323</td>\n      <td>fatExtraProfit</td>\n      <td>109.213527</td>\n      <td>199929</td>\n    </tr>\n    <tr>\n      <th>239</th>\n      <td>SELL</td>\n      <td>-183.831292</td>\n      <td>108.795406</td>\n      <td>222856</td>\n      <td>109.121792</td>\n      <td>97.915865</td>\n      <td>fatExtraProfit</td>\n      <td>108.703450</td>\n      <td>223100</td>\n    </tr>\n    <tr>\n      <th>250</th>\n      <td>SELL</td>\n      <td>-181.302964</td>\n      <td>110.312593</td>\n      <td>233840</td>\n      <td>110.643530</td>\n      <td>99.281333</td>\n      <td>fatExtraProfit</td>\n      <td>110.231321</td>\n      <td>234470</td>\n    </tr>\n    <tr>\n      <th>256</th>\n      <td>BUY</td>\n      <td>183.081326</td>\n      <td>109.241070</td>\n      <td>240780</td>\n      <td>108.913347</td>\n      <td>120.165177</td>\n      <td>fatExtraProfit</td>\n      <td>109.289026</td>\n      <td>241130</td>\n    </tr>\n    <tr>\n      <th>257</th>\n      <td>SELL</td>\n      <td>-182.912395</td>\n      <td>109.341961</td>\n      <td>241179</td>\n      <td>109.669987</td>\n      <td>98.407765</td>\n      <td>fatExtraProfit</td>\n      <td>109.288937</td>\n      <td>241271</td>\n    </tr>\n    <tr>\n      <th>258</th>\n      <td>SELL</td>\n      <td>-182.826307</td>\n      <td>109.393448</td>\n      <td>241454</td>\n      <td>109.721628</td>\n      <td>98.454103</td>\n      <td>fatExtraProfit</td>\n      <td>109.309729</td>\n      <td>241590</td>\n    </tr>\n    <tr>\n      <th>259</th>\n      <td>SELL</td>\n      <td>-182.634422</td>\n      <td>109.508381</td>\n      <td>242518</td>\n      <td>109.836907</td>\n      <td>98.557543</td>\n      <td>fatExtraProfit</td>\n      <td>109.410492</td>\n      <td>242900</td>\n    </tr>\n    <tr>\n      <th>262</th>\n      <td>BUY</td>\n      <td>182.961784</td>\n      <td>109.312445</td>\n      <td>243057</td>\n      <td>108.984508</td>\n      <td>120.243690</td>\n      <td>fatExtraProfit</td>\n      <td>109.417801</td>\n      <td>243091</td>\n    </tr>\n    <tr>\n      <th>266</th>\n      <td>BUY</td>\n      <td>183.023493</td>\n      <td>109.275589</td>\n      <td>244384</td>\n      <td>108.947762</td>\n      <td>120.203148</td>\n      <td>fatExtraProfit</td>\n      <td>109.410694</td>\n      <td>244420</td>\n    </tr>\n    <tr>\n      <th>273</th>\n      <td>BUY</td>\n      <td>182.641435</td>\n      <td>109.504177</td>\n      <td>249374</td>\n      <td>109.175665</td>\n      <td>120.454595</td>\n      <td>fatExtraProfit</td>\n      <td>109.568222</td>\n      <td>249506</td>\n    </tr>\n    <tr>\n      <th>279</th>\n      <td>BUY</td>\n      <td>183.082613</td>\n      <td>109.240302</td>\n      <td>255607</td>\n      <td>108.912581</td>\n      <td>120.164333</td>\n      <td>fatExtraProfit</td>\n      <td>109.352568</td>\n      <td>256088</td>\n    </tr>\n    <tr>\n      <th>284</th>\n      <td>BUY</td>\n      <td>182.187818</td>\n      <td>109.776824</td>\n      <td>259467</td>\n      <td>109.447493</td>\n      <td>120.754506</td>\n      <td>fatExtraProfit</td>\n      <td>109.858353</td>\n      <td>259654</td>\n    </tr>\n    <tr>\n      <th>291</th>\n      <td>BUY</td>\n      <td>182.971000</td>\n      <td>109.306939</td>\n      <td>264988</td>\n      <td>108.979018</td>\n      <td>120.237633</td>\n      <td>fatExtraProfit</td>\n      <td>109.434993</td>\n      <td>265675</td>\n    </tr>\n    <tr>\n      <th>293</th>\n      <td>SELL</td>\n      <td>-182.313552</td>\n      <td>109.701115</td>\n      <td>267853</td>\n      <td>110.030218</td>\n      <td>98.731004</td>\n      <td>fatExtraProfit</td>\n      <td>109.648366</td>\n      <td>267868</td>\n    </tr>\n    <tr>\n      <th>294</th>\n      <td>BUY</td>\n      <td>182.462890</td>\n      <td>109.611330</td>\n      <td>267875</td>\n      <td>109.282496</td>\n      <td>120.572463</td>\n      <td>fatExtraProfit</td>\n      <td>109.613983</td>\n      <td>268202</td>\n    </tr>\n    <tr>\n      <th>297</th>\n      <td>SELL</td>\n      <td>-182.245552</td>\n      <td>109.742047</td>\n      <td>268857</td>\n      <td>110.071273</td>\n      <td>98.767843</td>\n      <td>fatExtraProfit</td>\n      <td>109.618732</td>\n      <td>268919</td>\n    </tr>\n    <tr>\n      <th>299</th>\n      <td>SELL</td>\n      <td>-182.384867</td>\n      <td>109.658221</td>\n      <td>269748</td>\n      <td>109.987195</td>\n      <td>98.692399</td>\n      <td>fatExtraProfit</td>\n      <td>109.564095</td>\n      <td>269842</td>\n    </tr>\n    <tr>\n      <th>321</th>\n      <td>BUY</td>\n      <td>184.194768</td>\n      <td>108.580717</td>\n      <td>288119</td>\n      <td>108.254975</td>\n      <td>119.438789</td>\n      <td>fatExtraProfit</td>\n      <td>108.645345</td>\n      <td>288598</td>\n    </tr>\n    <tr>\n      <th>338</th>\n      <td>BUY</td>\n      <td>186.684023</td>\n      <td>107.132896</td>\n      <td>301525</td>\n      <td>106.811497</td>\n      <td>117.846186</td>\n      <td>fatExtraProfit</td>\n      <td>107.253746</td>\n      <td>301840</td>\n    </tr>\n    <tr>\n      <th>356</th>\n      <td>SELL</td>\n      <td>-183.566522</td>\n      <td>108.952329</td>\n      <td>317808</td>\n      <td>109.279186</td>\n      <td>98.057096</td>\n      <td>fatExtraProfit</td>\n      <td>108.897997</td>\n      <td>317895</td>\n    </tr>\n    <tr>\n      <th>374</th>\n      <td>SELL</td>\n      <td>-185.277424</td>\n      <td>107.946233</td>\n      <td>337958</td>\n      <td>108.270072</td>\n      <td>97.151610</td>\n      <td>fatExtraProfit</td>\n      <td>107.814785</td>\n      <td>338730</td>\n    </tr>\n    <tr>\n      <th>390</th>\n      <td>SELL</td>\n      <td>-181.309692</td>\n      <td>110.308499</td>\n      <td>350991</td>\n      <td>110.639425</td>\n      <td>99.277649</td>\n      <td>fatExtraProfit</td>\n      <td>110.122789</td>\n      <td>351742</td>\n    </tr>\n    <tr>\n      <th>396</th>\n      <td>SELL</td>\n      <td>-182.266420</td>\n      <td>109.729483</td>\n      <td>355147</td>\n      <td>110.058671</td>\n      <td>98.756534</td>\n      <td>fatExtraProfit</td>\n      <td>109.661169</td>\n      <td>355535</td>\n    </tr>\n    <tr>\n      <th>402</th>\n      <td>SELL</td>\n      <td>-182.494096</td>\n      <td>109.592587</td>\n      <td>359345</td>\n      <td>109.921364</td>\n      <td>98.633328</td>\n      <td>fatExtraProfit</td>\n      <td>109.493541</td>\n      <td>360141</td>\n    </tr>\n    <tr>\n      <th>413</th>\n      <td>BUY</td>\n      <td>182.240450</td>\n      <td>109.745120</td>\n      <td>370805</td>\n      <td>109.415885</td>\n      <td>120.719632</td>\n      <td>fatExtraProfit</td>\n      <td>109.823719</td>\n      <td>370932</td>\n    </tr>\n    <tr>\n      <th>419</th>\n      <td>BUY</td>\n      <td>182.278019</td>\n      <td>109.722501</td>\n      <td>376700</td>\n      <td>109.393333</td>\n      <td>120.694751</td>\n      <td>fatExtraProfit</td>\n      <td>109.842362</td>\n      <td>377140</td>\n    </tr>\n    <tr>\n      <th>426</th>\n      <td>SELL</td>\n      <td>-182.483463</td>\n      <td>109.598972</td>\n      <td>382768</td>\n      <td>109.927769</td>\n      <td>98.639075</td>\n      <td>fatExtraProfit</td>\n      <td>109.490418</td>\n      <td>382774</td>\n    </tr>\n    <tr>\n      <th>440</th>\n      <td>SELL</td>\n      <td>-181.637802</td>\n      <td>110.109238</td>\n      <td>395039</td>\n      <td>110.439566</td>\n      <td>99.098314</td>\n      <td>fatExtraProfit</td>\n      <td>110.022601</td>\n      <td>395592</td>\n    </tr>\n    <tr>\n      <th>442</th>\n      <td>BUY</td>\n      <td>181.998156</td>\n      <td>109.891224</td>\n      <td>395770</td>\n      <td>109.561550</td>\n      <td>120.880346</td>\n      <td>fatExtraProfit</td>\n      <td>110.013412</td>\n      <td>395912</td>\n    </tr>\n  </tbody>\n</table>\n</div>"
     },
     "execution_count": 314,
     "metadata": {},
     "output_type": "execute_result"
    }
   ],
   "source": [
    "RESULT[RESULT.typeHolding == 'fatExtraProfit']"
   ],
   "metadata": {
    "collapsed": false,
    "pycharm": {
     "name": "#%%\n"
    }
   }
  },
  {
   "cell_type": "code",
   "execution_count": 315,
   "outputs": [
    {
     "data": {
      "text/plain": "    typeOperation    position   openPrice  openIndex  stopLossBorder  \\\n0             BUY  177.624625  112.597000       1848      112.259209   \n5             BUY  176.715814  113.176062       6737      112.836534   \n7             BUY  177.468126  112.696294       9292      112.358205   \n11            BUY  177.398125  112.740763      12320      112.402541   \n13            BUY  177.724592  112.533667      13992      112.196066   \n..            ...         ...         ...        ...             ...   \n428           BUY  182.957693  109.314889     384189      108.986945   \n429           BUY  183.445846  109.024001     385015      108.696929   \n447           BUY  182.383426  109.659087     398828      109.330110   \n448           BUY  182.589829  109.535126     399920      109.206521   \n450           BUY  181.343294  110.288060     402819      109.957196   \n\n     takeProfitBorder typeHolding  closePrice  closeIndex  \n0          123.856700   endPeriod     112.740        2649  \n5          124.493669   endPeriod     113.226        7539  \n7          123.965923   endPeriod     112.782       10094  \n11         124.014839   endPeriod     112.632       13122  \n13         123.787034   endPeriod     112.835       14794  \n..                ...         ...         ...         ...  \n428        120.246378   endPeriod     109.067      384991  \n429        119.926401   endPeriod     109.180      385817  \n447        120.624996   endPeriod     109.580      399630  \n448        120.488639   endPeriod     109.942      400722  \n450        121.316866   endPeriod     110.517      403621  \n\n[80 rows x 9 columns]",
      "text/html": "<div>\n<style scoped>\n    .dataframe tbody tr th:only-of-type {\n        vertical-align: middle;\n    }\n\n    .dataframe tbody tr th {\n        vertical-align: top;\n    }\n\n    .dataframe thead th {\n        text-align: right;\n    }\n</style>\n<table border=\"1\" class=\"dataframe\">\n  <thead>\n    <tr style=\"text-align: right;\">\n      <th></th>\n      <th>typeOperation</th>\n      <th>position</th>\n      <th>openPrice</th>\n      <th>openIndex</th>\n      <th>stopLossBorder</th>\n      <th>takeProfitBorder</th>\n      <th>typeHolding</th>\n      <th>closePrice</th>\n      <th>closeIndex</th>\n    </tr>\n  </thead>\n  <tbody>\n    <tr>\n      <th>0</th>\n      <td>BUY</td>\n      <td>177.624625</td>\n      <td>112.597000</td>\n      <td>1848</td>\n      <td>112.259209</td>\n      <td>123.856700</td>\n      <td>endPeriod</td>\n      <td>112.740</td>\n      <td>2649</td>\n    </tr>\n    <tr>\n      <th>5</th>\n      <td>BUY</td>\n      <td>176.715814</td>\n      <td>113.176062</td>\n      <td>6737</td>\n      <td>112.836534</td>\n      <td>124.493669</td>\n      <td>endPeriod</td>\n      <td>113.226</td>\n      <td>7539</td>\n    </tr>\n    <tr>\n      <th>7</th>\n      <td>BUY</td>\n      <td>177.468126</td>\n      <td>112.696294</td>\n      <td>9292</td>\n      <td>112.358205</td>\n      <td>123.965923</td>\n      <td>endPeriod</td>\n      <td>112.782</td>\n      <td>10094</td>\n    </tr>\n    <tr>\n      <th>11</th>\n      <td>BUY</td>\n      <td>177.398125</td>\n      <td>112.740763</td>\n      <td>12320</td>\n      <td>112.402541</td>\n      <td>124.014839</td>\n      <td>endPeriod</td>\n      <td>112.632</td>\n      <td>13122</td>\n    </tr>\n    <tr>\n      <th>13</th>\n      <td>BUY</td>\n      <td>177.724592</td>\n      <td>112.533667</td>\n      <td>13992</td>\n      <td>112.196066</td>\n      <td>123.787034</td>\n      <td>endPeriod</td>\n      <td>112.835</td>\n      <td>14794</td>\n    </tr>\n    <tr>\n      <th>...</th>\n      <td>...</td>\n      <td>...</td>\n      <td>...</td>\n      <td>...</td>\n      <td>...</td>\n      <td>...</td>\n      <td>...</td>\n      <td>...</td>\n      <td>...</td>\n    </tr>\n    <tr>\n      <th>428</th>\n      <td>BUY</td>\n      <td>182.957693</td>\n      <td>109.314889</td>\n      <td>384189</td>\n      <td>108.986945</td>\n      <td>120.246378</td>\n      <td>endPeriod</td>\n      <td>109.067</td>\n      <td>384991</td>\n    </tr>\n    <tr>\n      <th>429</th>\n      <td>BUY</td>\n      <td>183.445846</td>\n      <td>109.024001</td>\n      <td>385015</td>\n      <td>108.696929</td>\n      <td>119.926401</td>\n      <td>endPeriod</td>\n      <td>109.180</td>\n      <td>385817</td>\n    </tr>\n    <tr>\n      <th>447</th>\n      <td>BUY</td>\n      <td>182.383426</td>\n      <td>109.659087</td>\n      <td>398828</td>\n      <td>109.330110</td>\n      <td>120.624996</td>\n      <td>endPeriod</td>\n      <td>109.580</td>\n      <td>399630</td>\n    </tr>\n    <tr>\n      <th>448</th>\n      <td>BUY</td>\n      <td>182.589829</td>\n      <td>109.535126</td>\n      <td>399920</td>\n      <td>109.206521</td>\n      <td>120.488639</td>\n      <td>endPeriod</td>\n      <td>109.942</td>\n      <td>400722</td>\n    </tr>\n    <tr>\n      <th>450</th>\n      <td>BUY</td>\n      <td>181.343294</td>\n      <td>110.288060</td>\n      <td>402819</td>\n      <td>109.957196</td>\n      <td>121.316866</td>\n      <td>endPeriod</td>\n      <td>110.517</td>\n      <td>403621</td>\n    </tr>\n  </tbody>\n</table>\n<p>80 rows × 9 columns</p>\n</div>"
     },
     "execution_count": 315,
     "metadata": {},
     "output_type": "execute_result"
    }
   ],
   "source": [
    "RESULT[(RESULT.typeOperation == 'BUY') & (RESULT.typeHolding == 'endPeriod')]"
   ],
   "metadata": {
    "collapsed": false,
    "pycharm": {
     "name": "#%%\n"
    }
   }
  },
  {
   "cell_type": "code",
   "execution_count": 316,
   "outputs": [
    {
     "data": {
      "text/plain": "0       23.400254\n1      -38.599746\n2      -23.909278\n3       -2.208188\n4       11.356465\n          ...    \n446   -595.718389\n447   -612.142583\n448   -539.851574\n449   -601.851574\n450   -562.334803\nLength: 451, dtype: float64"
     },
     "execution_count": 316,
     "metadata": {},
     "output_type": "execute_result"
    }
   ],
   "source": [
    "(RESULT[\"position\"] * (RESULT[\"closePrice\"] - RESULT[\"openPrice\"]) - 2 if (RESULT[\"typeOperation\"] == 'BUY').bool else abs(RESULT[\"position\"]) * (RESULT[\"openPrice\"] - RESULT[\"closePrice\"]) - 2).cumsum()"
   ],
   "metadata": {
    "collapsed": false,
    "pycharm": {
     "name": "#%%\n"
    }
   }
  },
  {
   "cell_type": "code",
   "execution_count": 317,
   "outputs": [
    {
     "data": {
      "text/plain": "    typeOperation    position   openPrice  openIndex  stopLossBorder  \\\n0             BUY  177.624625  112.597000       1848      112.259209   \n1            SELL -176.597164  113.252102       4053      113.591858   \n2            SELL -176.222695  113.492760       5744      113.833238   \n3            SELL -176.128507  113.553452       6308      113.894112   \n4             BUY  176.520058  113.301572       6437      112.961667   \n..            ...         ...         ...        ...             ...   \n446           BUY  181.680251  110.083512     398126      109.753261   \n447           BUY  182.383426  109.659087     398828      109.330110   \n448           BUY  182.589829  109.535126     399920      109.206521   \n449          SELL -181.554513  110.159751     401359      110.490231   \n450           BUY  181.343294  110.288060     402819      109.957196   \n\n     takeProfitBorder     typeHolding  closePrice  closeIndex     profit  \n0          123.856700       endPeriod  112.740000        2649  23.400254  \n1          101.926891        stopLoss  113.591858        4716 -62.000000  \n2          102.143484  fatExtraProfit  113.398048        6131  14.690468  \n3          102.198107  fatExtraProfit  113.418885        6364  21.701089  \n4          124.631729  fatExtraProfit  113.389747        6560  13.564654  \n..                ...             ...         ...         ...        ...  \n446        121.091863        stopLoss  109.753261      398825 -62.000000  \n447        120.624996       endPeriod  109.580000      399630 -16.424193  \n448        120.488639       endPeriod  109.942000      400722  72.291009  \n449         99.143776        stopLoss  110.490231      401978 -62.000000  \n450        121.316866       endPeriod  110.517000      403621  39.516770  \n\n[451 rows x 10 columns]",
      "text/html": "<div>\n<style scoped>\n    .dataframe tbody tr th:only-of-type {\n        vertical-align: middle;\n    }\n\n    .dataframe tbody tr th {\n        vertical-align: top;\n    }\n\n    .dataframe thead th {\n        text-align: right;\n    }\n</style>\n<table border=\"1\" class=\"dataframe\">\n  <thead>\n    <tr style=\"text-align: right;\">\n      <th></th>\n      <th>typeOperation</th>\n      <th>position</th>\n      <th>openPrice</th>\n      <th>openIndex</th>\n      <th>stopLossBorder</th>\n      <th>takeProfitBorder</th>\n      <th>typeHolding</th>\n      <th>closePrice</th>\n      <th>closeIndex</th>\n      <th>profit</th>\n    </tr>\n  </thead>\n  <tbody>\n    <tr>\n      <th>0</th>\n      <td>BUY</td>\n      <td>177.624625</td>\n      <td>112.597000</td>\n      <td>1848</td>\n      <td>112.259209</td>\n      <td>123.856700</td>\n      <td>endPeriod</td>\n      <td>112.740000</td>\n      <td>2649</td>\n      <td>23.400254</td>\n    </tr>\n    <tr>\n      <th>1</th>\n      <td>SELL</td>\n      <td>-176.597164</td>\n      <td>113.252102</td>\n      <td>4053</td>\n      <td>113.591858</td>\n      <td>101.926891</td>\n      <td>stopLoss</td>\n      <td>113.591858</td>\n      <td>4716</td>\n      <td>-62.000000</td>\n    </tr>\n    <tr>\n      <th>2</th>\n      <td>SELL</td>\n      <td>-176.222695</td>\n      <td>113.492760</td>\n      <td>5744</td>\n      <td>113.833238</td>\n      <td>102.143484</td>\n      <td>fatExtraProfit</td>\n      <td>113.398048</td>\n      <td>6131</td>\n      <td>14.690468</td>\n    </tr>\n    <tr>\n      <th>3</th>\n      <td>SELL</td>\n      <td>-176.128507</td>\n      <td>113.553452</td>\n      <td>6308</td>\n      <td>113.894112</td>\n      <td>102.198107</td>\n      <td>fatExtraProfit</td>\n      <td>113.418885</td>\n      <td>6364</td>\n      <td>21.701089</td>\n    </tr>\n    <tr>\n      <th>4</th>\n      <td>BUY</td>\n      <td>176.520058</td>\n      <td>113.301572</td>\n      <td>6437</td>\n      <td>112.961667</td>\n      <td>124.631729</td>\n      <td>fatExtraProfit</td>\n      <td>113.389747</td>\n      <td>6560</td>\n      <td>13.564654</td>\n    </tr>\n    <tr>\n      <th>...</th>\n      <td>...</td>\n      <td>...</td>\n      <td>...</td>\n      <td>...</td>\n      <td>...</td>\n      <td>...</td>\n      <td>...</td>\n      <td>...</td>\n      <td>...</td>\n      <td>...</td>\n    </tr>\n    <tr>\n      <th>446</th>\n      <td>BUY</td>\n      <td>181.680251</td>\n      <td>110.083512</td>\n      <td>398126</td>\n      <td>109.753261</td>\n      <td>121.091863</td>\n      <td>stopLoss</td>\n      <td>109.753261</td>\n      <td>398825</td>\n      <td>-62.000000</td>\n    </tr>\n    <tr>\n      <th>447</th>\n      <td>BUY</td>\n      <td>182.383426</td>\n      <td>109.659087</td>\n      <td>398828</td>\n      <td>109.330110</td>\n      <td>120.624996</td>\n      <td>endPeriod</td>\n      <td>109.580000</td>\n      <td>399630</td>\n      <td>-16.424193</td>\n    </tr>\n    <tr>\n      <th>448</th>\n      <td>BUY</td>\n      <td>182.589829</td>\n      <td>109.535126</td>\n      <td>399920</td>\n      <td>109.206521</td>\n      <td>120.488639</td>\n      <td>endPeriod</td>\n      <td>109.942000</td>\n      <td>400722</td>\n      <td>72.291009</td>\n    </tr>\n    <tr>\n      <th>449</th>\n      <td>SELL</td>\n      <td>-181.554513</td>\n      <td>110.159751</td>\n      <td>401359</td>\n      <td>110.490231</td>\n      <td>99.143776</td>\n      <td>stopLoss</td>\n      <td>110.490231</td>\n      <td>401978</td>\n      <td>-62.000000</td>\n    </tr>\n    <tr>\n      <th>450</th>\n      <td>BUY</td>\n      <td>181.343294</td>\n      <td>110.288060</td>\n      <td>402819</td>\n      <td>109.957196</td>\n      <td>121.316866</td>\n      <td>endPeriod</td>\n      <td>110.517000</td>\n      <td>403621</td>\n      <td>39.516770</td>\n    </tr>\n  </tbody>\n</table>\n<p>451 rows × 10 columns</p>\n</div>"
     },
     "execution_count": 317,
     "metadata": {},
     "output_type": "execute_result"
    }
   ],
   "source": [
    "copy_df = RESULT.copy()\n",
    "copy_df['profit'] = (RESULT[\"position\"] * (RESULT[\"closePrice\"] - RESULT[\"openPrice\"]) - 2 if (RESULT[\"typeOperation\"] == 'BUY').bool else abs(RESULT[\"position\"]) * (RESULT[\"openPrice\"] - RESULT[\"closePrice\"]) - 2)\n",
    "copy_df"
   ],
   "metadata": {
    "collapsed": false,
    "pycharm": {
     "name": "#%%\n"
    }
   }
  },
  {
   "cell_type": "code",
   "execution_count": 318,
   "outputs": [
    {
     "data": {
      "text/plain": "    typeOperation    position   openPrice  openIndex  stopLossBorder  \\\n2            SELL -176.222695  113.492760       5744      113.833238   \n3            SELL -176.128507  113.553452       6308      113.894112   \n4             BUY  176.520058  113.301572       6437      112.961667   \n25           SELL -175.760427  113.791258      24092      114.132631   \n32            BUY  175.930521  113.681241      29422      113.340198   \n66           SELL -179.795041  111.237773      64135      111.571487   \n71            BUY  181.630278  110.113799      66876      109.783458   \n85           SELL -181.192962  110.379563      80713      110.710702   \n87            BUY  181.608976  110.126715      82058      109.796335   \n88            BUY  181.596041  110.134559      82510      109.804156   \n97            BUY  182.677304  109.482676      92910      109.154228   \n101          SELL -181.793401  110.014995      96388      110.345040   \n104          SELL -181.653583  110.099672      99306      110.429971   \n105           BUY  181.807007  110.006761      99887      109.676741   \n114          SELL -180.297041  110.928055     109754      111.260839   \n154          SELL -178.998125  111.733014     150457      112.068213   \n157          SELL -179.123947  111.654529     152502      111.989493   \n163          SELL -178.910049  111.788019     158563      112.123384   \n175          SELL -181.923978  109.936031     169186      110.265839   \n180          SELL -182.415438  109.639843     172756      109.968763   \n189           BUY  183.977924  108.708695     180721      108.382568   \n202          SELL -184.050999  108.665533     191477      108.991530   \n212          SELL -182.952740  109.317849     199499      109.645803   \n214          SELL -182.924697  109.334608     199821      109.662611   \n215          SELL -182.911358  109.342581     199862      109.670609   \n239          SELL -183.831292  108.795406     222856      109.121792   \n250          SELL -181.302964  110.312593     233840      110.643530   \n256           BUY  183.081326  109.241070     240780      108.913347   \n257          SELL -182.912395  109.341961     241179      109.669987   \n258          SELL -182.826307  109.393448     241454      109.721628   \n259          SELL -182.634422  109.508381     242518      109.836907   \n262           BUY  182.961784  109.312445     243057      108.984508   \n266           BUY  183.023493  109.275589     244384      108.947762   \n273           BUY  182.641435  109.504177     249374      109.175665   \n279           BUY  183.082613  109.240302     255607      108.912581   \n284           BUY  182.187818  109.776824     259467      109.447493   \n291           BUY  182.971000  109.306939     264988      108.979018   \n293          SELL -182.313552  109.701115     267853      110.030218   \n297          SELL -182.245552  109.742047     268857      110.071273   \n299          SELL -182.384867  109.658221     269748      109.987195   \n321           BUY  184.194768  108.580717     288119      108.254975   \n338           BUY  186.684023  107.132896     301525      106.811497   \n356          SELL -183.566522  108.952329     317808      109.279186   \n374          SELL -185.277424  107.946233     337958      108.270072   \n390          SELL -181.309692  110.308499     350991      110.639425   \n396          SELL -182.266420  109.729483     355147      110.058671   \n402          SELL -182.494096  109.592587     359345      109.921364   \n413           BUY  182.240450  109.745120     370805      109.415885   \n419           BUY  182.278019  109.722501     376700      109.393333   \n426          SELL -182.483463  109.598972     382768      109.927769   \n440          SELL -181.637802  110.109238     395039      110.439566   \n442           BUY  181.998156  109.891224     395770      109.561550   \n\n     takeProfitBorder     typeHolding  closePrice  closeIndex     profit  \n2          102.143484  fatExtraProfit  113.398048        6131  14.690468  \n3          102.198107  fatExtraProfit  113.418885        6364  21.701089  \n4          124.631729  fatExtraProfit  113.389747        6560  13.564654  \n25         102.412132  fatExtraProfit  113.672534       24199  18.866918  \n32         125.049365  fatExtraProfit  113.756188       29687  11.185367  \n66         100.113996  fatExtraProfit  110.968843       64825  46.352387  \n71         121.125179  fatExtraProfit  110.231580       67187  19.392548  \n85          99.341607  fatExtraProfit  110.265994       81506  18.577943  \n87         121.139387  fatExtraProfit  110.278227       82146  25.515839  \n88         121.148015  fatExtraProfit  110.213790       83298  12.387952  \n97         120.430943  fatExtraProfit  109.650632       93030  28.681738  \n101         99.013495  fatExtraProfit  109.892782       96421  20.217428  \n104         99.089705  fatExtraProfit  110.040096       99617   8.822246  \n105        121.007437  fatExtraProfit  110.045088      100118   4.968173  \n114         99.835249  fatExtraProfit  110.824066      110251  16.748925  \n154        100.559712  fatExtraProfit  111.661704      150928  10.764230  \n157        100.489076  fatExtraProfit  111.572836      152527  12.633280  \n163        100.609218  fatExtraProfit  111.731491      158757   8.113495  \n175         98.942428  fatExtraProfit  109.762709      169620  29.531376  \n180         98.675859  fatExtraProfit  109.569382      172963  10.853130  \n189        119.579564  fatExtraProfit  108.928563      180861  38.450897  \n202         97.798980  fatExtraProfit  108.596763      191617  10.657313  \n212         98.386064  fatExtraProfit  109.222164      199549  15.505789  \n214         98.401147  fatExtraProfit  109.210557      199846  20.691965  \n215         98.408323  fatExtraProfit  109.213527      199929  21.605409  \n239         97.915865  fatExtraProfit  108.703450      223100  14.904369  \n250         99.281333  fatExtraProfit  110.231321      234470  12.734881  \n256        120.165177  fatExtraProfit  109.289026      241130   6.779824  \n257         98.407765  fatExtraProfit  109.288937      241271   7.698855  \n258         98.454103  fatExtraProfit  109.309729      241590  13.305897  \n259         98.557543  fatExtraProfit  109.410492      242900  15.877946  \n262        120.243690  fatExtraProfit  109.417801      243091  17.275964  \n266        120.203148  fatExtraProfit  109.410694      244420  22.727509  \n273        120.454595  fatExtraProfit  109.568222      249506   9.697199  \n279        120.164333  fatExtraProfit  109.352568      256088  18.553945  \n284        120.754506  fatExtraProfit  109.858353      259654  12.853659  \n291        120.237633  fatExtraProfit  109.434993      265675  21.430191  \n293         98.731004  fatExtraProfit  109.648366      267868   7.616963  \n297         98.767843  fatExtraProfit  109.618732      268919  20.473717  \n299         98.692399  fatExtraProfit  109.564095      269842  15.167128  \n321        119.438789  fatExtraProfit  108.645345      288598   9.904091  \n338        117.846186  fatExtraProfit  107.253746      301840  20.560776  \n356         98.057096  fatExtraProfit  108.897997      317895   7.973419  \n374         97.151610  fatExtraProfit  107.814785      338730  22.354331  \n390         99.277649  fatExtraProfit  110.122789      351742  31.671118  \n396         98.756534  fatExtraProfit  109.661169      355535  10.451322  \n402         98.633328  fatExtraProfit  109.493541      360141  16.075225  \n413        120.719632  fatExtraProfit  109.823719      370932  12.323912  \n419        120.694751  fatExtraProfit  109.842362      377140  19.848150  \n426         98.639075  fatExtraProfit  109.490418      382774  17.809245  \n440         99.098314  fatExtraProfit  110.022601      395592  13.736694  \n442        120.880346  fatExtraProfit  110.013412      395912  20.238008  ",
      "text/html": "<div>\n<style scoped>\n    .dataframe tbody tr th:only-of-type {\n        vertical-align: middle;\n    }\n\n    .dataframe tbody tr th {\n        vertical-align: top;\n    }\n\n    .dataframe thead th {\n        text-align: right;\n    }\n</style>\n<table border=\"1\" class=\"dataframe\">\n  <thead>\n    <tr style=\"text-align: right;\">\n      <th></th>\n      <th>typeOperation</th>\n      <th>position</th>\n      <th>openPrice</th>\n      <th>openIndex</th>\n      <th>stopLossBorder</th>\n      <th>takeProfitBorder</th>\n      <th>typeHolding</th>\n      <th>closePrice</th>\n      <th>closeIndex</th>\n      <th>profit</th>\n    </tr>\n  </thead>\n  <tbody>\n    <tr>\n      <th>2</th>\n      <td>SELL</td>\n      <td>-176.222695</td>\n      <td>113.492760</td>\n      <td>5744</td>\n      <td>113.833238</td>\n      <td>102.143484</td>\n      <td>fatExtraProfit</td>\n      <td>113.398048</td>\n      <td>6131</td>\n      <td>14.690468</td>\n    </tr>\n    <tr>\n      <th>3</th>\n      <td>SELL</td>\n      <td>-176.128507</td>\n      <td>113.553452</td>\n      <td>6308</td>\n      <td>113.894112</td>\n      <td>102.198107</td>\n      <td>fatExtraProfit</td>\n      <td>113.418885</td>\n      <td>6364</td>\n      <td>21.701089</td>\n    </tr>\n    <tr>\n      <th>4</th>\n      <td>BUY</td>\n      <td>176.520058</td>\n      <td>113.301572</td>\n      <td>6437</td>\n      <td>112.961667</td>\n      <td>124.631729</td>\n      <td>fatExtraProfit</td>\n      <td>113.389747</td>\n      <td>6560</td>\n      <td>13.564654</td>\n    </tr>\n    <tr>\n      <th>25</th>\n      <td>SELL</td>\n      <td>-175.760427</td>\n      <td>113.791258</td>\n      <td>24092</td>\n      <td>114.132631</td>\n      <td>102.412132</td>\n      <td>fatExtraProfit</td>\n      <td>113.672534</td>\n      <td>24199</td>\n      <td>18.866918</td>\n    </tr>\n    <tr>\n      <th>32</th>\n      <td>BUY</td>\n      <td>175.930521</td>\n      <td>113.681241</td>\n      <td>29422</td>\n      <td>113.340198</td>\n      <td>125.049365</td>\n      <td>fatExtraProfit</td>\n      <td>113.756188</td>\n      <td>29687</td>\n      <td>11.185367</td>\n    </tr>\n    <tr>\n      <th>66</th>\n      <td>SELL</td>\n      <td>-179.795041</td>\n      <td>111.237773</td>\n      <td>64135</td>\n      <td>111.571487</td>\n      <td>100.113996</td>\n      <td>fatExtraProfit</td>\n      <td>110.968843</td>\n      <td>64825</td>\n      <td>46.352387</td>\n    </tr>\n    <tr>\n      <th>71</th>\n      <td>BUY</td>\n      <td>181.630278</td>\n      <td>110.113799</td>\n      <td>66876</td>\n      <td>109.783458</td>\n      <td>121.125179</td>\n      <td>fatExtraProfit</td>\n      <td>110.231580</td>\n      <td>67187</td>\n      <td>19.392548</td>\n    </tr>\n    <tr>\n      <th>85</th>\n      <td>SELL</td>\n      <td>-181.192962</td>\n      <td>110.379563</td>\n      <td>80713</td>\n      <td>110.710702</td>\n      <td>99.341607</td>\n      <td>fatExtraProfit</td>\n      <td>110.265994</td>\n      <td>81506</td>\n      <td>18.577943</td>\n    </tr>\n    <tr>\n      <th>87</th>\n      <td>BUY</td>\n      <td>181.608976</td>\n      <td>110.126715</td>\n      <td>82058</td>\n      <td>109.796335</td>\n      <td>121.139387</td>\n      <td>fatExtraProfit</td>\n      <td>110.278227</td>\n      <td>82146</td>\n      <td>25.515839</td>\n    </tr>\n    <tr>\n      <th>88</th>\n      <td>BUY</td>\n      <td>181.596041</td>\n      <td>110.134559</td>\n      <td>82510</td>\n      <td>109.804156</td>\n      <td>121.148015</td>\n      <td>fatExtraProfit</td>\n      <td>110.213790</td>\n      <td>83298</td>\n      <td>12.387952</td>\n    </tr>\n    <tr>\n      <th>97</th>\n      <td>BUY</td>\n      <td>182.677304</td>\n      <td>109.482676</td>\n      <td>92910</td>\n      <td>109.154228</td>\n      <td>120.430943</td>\n      <td>fatExtraProfit</td>\n      <td>109.650632</td>\n      <td>93030</td>\n      <td>28.681738</td>\n    </tr>\n    <tr>\n      <th>101</th>\n      <td>SELL</td>\n      <td>-181.793401</td>\n      <td>110.014995</td>\n      <td>96388</td>\n      <td>110.345040</td>\n      <td>99.013495</td>\n      <td>fatExtraProfit</td>\n      <td>109.892782</td>\n      <td>96421</td>\n      <td>20.217428</td>\n    </tr>\n    <tr>\n      <th>104</th>\n      <td>SELL</td>\n      <td>-181.653583</td>\n      <td>110.099672</td>\n      <td>99306</td>\n      <td>110.429971</td>\n      <td>99.089705</td>\n      <td>fatExtraProfit</td>\n      <td>110.040096</td>\n      <td>99617</td>\n      <td>8.822246</td>\n    </tr>\n    <tr>\n      <th>105</th>\n      <td>BUY</td>\n      <td>181.807007</td>\n      <td>110.006761</td>\n      <td>99887</td>\n      <td>109.676741</td>\n      <td>121.007437</td>\n      <td>fatExtraProfit</td>\n      <td>110.045088</td>\n      <td>100118</td>\n      <td>4.968173</td>\n    </tr>\n    <tr>\n      <th>114</th>\n      <td>SELL</td>\n      <td>-180.297041</td>\n      <td>110.928055</td>\n      <td>109754</td>\n      <td>111.260839</td>\n      <td>99.835249</td>\n      <td>fatExtraProfit</td>\n      <td>110.824066</td>\n      <td>110251</td>\n      <td>16.748925</td>\n    </tr>\n    <tr>\n      <th>154</th>\n      <td>SELL</td>\n      <td>-178.998125</td>\n      <td>111.733014</td>\n      <td>150457</td>\n      <td>112.068213</td>\n      <td>100.559712</td>\n      <td>fatExtraProfit</td>\n      <td>111.661704</td>\n      <td>150928</td>\n      <td>10.764230</td>\n    </tr>\n    <tr>\n      <th>157</th>\n      <td>SELL</td>\n      <td>-179.123947</td>\n      <td>111.654529</td>\n      <td>152502</td>\n      <td>111.989493</td>\n      <td>100.489076</td>\n      <td>fatExtraProfit</td>\n      <td>111.572836</td>\n      <td>152527</td>\n      <td>12.633280</td>\n    </tr>\n    <tr>\n      <th>163</th>\n      <td>SELL</td>\n      <td>-178.910049</td>\n      <td>111.788019</td>\n      <td>158563</td>\n      <td>112.123384</td>\n      <td>100.609218</td>\n      <td>fatExtraProfit</td>\n      <td>111.731491</td>\n      <td>158757</td>\n      <td>8.113495</td>\n    </tr>\n    <tr>\n      <th>175</th>\n      <td>SELL</td>\n      <td>-181.923978</td>\n      <td>109.936031</td>\n      <td>169186</td>\n      <td>110.265839</td>\n      <td>98.942428</td>\n      <td>fatExtraProfit</td>\n      <td>109.762709</td>\n      <td>169620</td>\n      <td>29.531376</td>\n    </tr>\n    <tr>\n      <th>180</th>\n      <td>SELL</td>\n      <td>-182.415438</td>\n      <td>109.639843</td>\n      <td>172756</td>\n      <td>109.968763</td>\n      <td>98.675859</td>\n      <td>fatExtraProfit</td>\n      <td>109.569382</td>\n      <td>172963</td>\n      <td>10.853130</td>\n    </tr>\n    <tr>\n      <th>189</th>\n      <td>BUY</td>\n      <td>183.977924</td>\n      <td>108.708695</td>\n      <td>180721</td>\n      <td>108.382568</td>\n      <td>119.579564</td>\n      <td>fatExtraProfit</td>\n      <td>108.928563</td>\n      <td>180861</td>\n      <td>38.450897</td>\n    </tr>\n    <tr>\n      <th>202</th>\n      <td>SELL</td>\n      <td>-184.050999</td>\n      <td>108.665533</td>\n      <td>191477</td>\n      <td>108.991530</td>\n      <td>97.798980</td>\n      <td>fatExtraProfit</td>\n      <td>108.596763</td>\n      <td>191617</td>\n      <td>10.657313</td>\n    </tr>\n    <tr>\n      <th>212</th>\n      <td>SELL</td>\n      <td>-182.952740</td>\n      <td>109.317849</td>\n      <td>199499</td>\n      <td>109.645803</td>\n      <td>98.386064</td>\n      <td>fatExtraProfit</td>\n      <td>109.222164</td>\n      <td>199549</td>\n      <td>15.505789</td>\n    </tr>\n    <tr>\n      <th>214</th>\n      <td>SELL</td>\n      <td>-182.924697</td>\n      <td>109.334608</td>\n      <td>199821</td>\n      <td>109.662611</td>\n      <td>98.401147</td>\n      <td>fatExtraProfit</td>\n      <td>109.210557</td>\n      <td>199846</td>\n      <td>20.691965</td>\n    </tr>\n    <tr>\n      <th>215</th>\n      <td>SELL</td>\n      <td>-182.911358</td>\n      <td>109.342581</td>\n      <td>199862</td>\n      <td>109.670609</td>\n      <td>98.408323</td>\n      <td>fatExtraProfit</td>\n      <td>109.213527</td>\n      <td>199929</td>\n      <td>21.605409</td>\n    </tr>\n    <tr>\n      <th>239</th>\n      <td>SELL</td>\n      <td>-183.831292</td>\n      <td>108.795406</td>\n      <td>222856</td>\n      <td>109.121792</td>\n      <td>97.915865</td>\n      <td>fatExtraProfit</td>\n      <td>108.703450</td>\n      <td>223100</td>\n      <td>14.904369</td>\n    </tr>\n    <tr>\n      <th>250</th>\n      <td>SELL</td>\n      <td>-181.302964</td>\n      <td>110.312593</td>\n      <td>233840</td>\n      <td>110.643530</td>\n      <td>99.281333</td>\n      <td>fatExtraProfit</td>\n      <td>110.231321</td>\n      <td>234470</td>\n      <td>12.734881</td>\n    </tr>\n    <tr>\n      <th>256</th>\n      <td>BUY</td>\n      <td>183.081326</td>\n      <td>109.241070</td>\n      <td>240780</td>\n      <td>108.913347</td>\n      <td>120.165177</td>\n      <td>fatExtraProfit</td>\n      <td>109.289026</td>\n      <td>241130</td>\n      <td>6.779824</td>\n    </tr>\n    <tr>\n      <th>257</th>\n      <td>SELL</td>\n      <td>-182.912395</td>\n      <td>109.341961</td>\n      <td>241179</td>\n      <td>109.669987</td>\n      <td>98.407765</td>\n      <td>fatExtraProfit</td>\n      <td>109.288937</td>\n      <td>241271</td>\n      <td>7.698855</td>\n    </tr>\n    <tr>\n      <th>258</th>\n      <td>SELL</td>\n      <td>-182.826307</td>\n      <td>109.393448</td>\n      <td>241454</td>\n      <td>109.721628</td>\n      <td>98.454103</td>\n      <td>fatExtraProfit</td>\n      <td>109.309729</td>\n      <td>241590</td>\n      <td>13.305897</td>\n    </tr>\n    <tr>\n      <th>259</th>\n      <td>SELL</td>\n      <td>-182.634422</td>\n      <td>109.508381</td>\n      <td>242518</td>\n      <td>109.836907</td>\n      <td>98.557543</td>\n      <td>fatExtraProfit</td>\n      <td>109.410492</td>\n      <td>242900</td>\n      <td>15.877946</td>\n    </tr>\n    <tr>\n      <th>262</th>\n      <td>BUY</td>\n      <td>182.961784</td>\n      <td>109.312445</td>\n      <td>243057</td>\n      <td>108.984508</td>\n      <td>120.243690</td>\n      <td>fatExtraProfit</td>\n      <td>109.417801</td>\n      <td>243091</td>\n      <td>17.275964</td>\n    </tr>\n    <tr>\n      <th>266</th>\n      <td>BUY</td>\n      <td>183.023493</td>\n      <td>109.275589</td>\n      <td>244384</td>\n      <td>108.947762</td>\n      <td>120.203148</td>\n      <td>fatExtraProfit</td>\n      <td>109.410694</td>\n      <td>244420</td>\n      <td>22.727509</td>\n    </tr>\n    <tr>\n      <th>273</th>\n      <td>BUY</td>\n      <td>182.641435</td>\n      <td>109.504177</td>\n      <td>249374</td>\n      <td>109.175665</td>\n      <td>120.454595</td>\n      <td>fatExtraProfit</td>\n      <td>109.568222</td>\n      <td>249506</td>\n      <td>9.697199</td>\n    </tr>\n    <tr>\n      <th>279</th>\n      <td>BUY</td>\n      <td>183.082613</td>\n      <td>109.240302</td>\n      <td>255607</td>\n      <td>108.912581</td>\n      <td>120.164333</td>\n      <td>fatExtraProfit</td>\n      <td>109.352568</td>\n      <td>256088</td>\n      <td>18.553945</td>\n    </tr>\n    <tr>\n      <th>284</th>\n      <td>BUY</td>\n      <td>182.187818</td>\n      <td>109.776824</td>\n      <td>259467</td>\n      <td>109.447493</td>\n      <td>120.754506</td>\n      <td>fatExtraProfit</td>\n      <td>109.858353</td>\n      <td>259654</td>\n      <td>12.853659</td>\n    </tr>\n    <tr>\n      <th>291</th>\n      <td>BUY</td>\n      <td>182.971000</td>\n      <td>109.306939</td>\n      <td>264988</td>\n      <td>108.979018</td>\n      <td>120.237633</td>\n      <td>fatExtraProfit</td>\n      <td>109.434993</td>\n      <td>265675</td>\n      <td>21.430191</td>\n    </tr>\n    <tr>\n      <th>293</th>\n      <td>SELL</td>\n      <td>-182.313552</td>\n      <td>109.701115</td>\n      <td>267853</td>\n      <td>110.030218</td>\n      <td>98.731004</td>\n      <td>fatExtraProfit</td>\n      <td>109.648366</td>\n      <td>267868</td>\n      <td>7.616963</td>\n    </tr>\n    <tr>\n      <th>297</th>\n      <td>SELL</td>\n      <td>-182.245552</td>\n      <td>109.742047</td>\n      <td>268857</td>\n      <td>110.071273</td>\n      <td>98.767843</td>\n      <td>fatExtraProfit</td>\n      <td>109.618732</td>\n      <td>268919</td>\n      <td>20.473717</td>\n    </tr>\n    <tr>\n      <th>299</th>\n      <td>SELL</td>\n      <td>-182.384867</td>\n      <td>109.658221</td>\n      <td>269748</td>\n      <td>109.987195</td>\n      <td>98.692399</td>\n      <td>fatExtraProfit</td>\n      <td>109.564095</td>\n      <td>269842</td>\n      <td>15.167128</td>\n    </tr>\n    <tr>\n      <th>321</th>\n      <td>BUY</td>\n      <td>184.194768</td>\n      <td>108.580717</td>\n      <td>288119</td>\n      <td>108.254975</td>\n      <td>119.438789</td>\n      <td>fatExtraProfit</td>\n      <td>108.645345</td>\n      <td>288598</td>\n      <td>9.904091</td>\n    </tr>\n    <tr>\n      <th>338</th>\n      <td>BUY</td>\n      <td>186.684023</td>\n      <td>107.132896</td>\n      <td>301525</td>\n      <td>106.811497</td>\n      <td>117.846186</td>\n      <td>fatExtraProfit</td>\n      <td>107.253746</td>\n      <td>301840</td>\n      <td>20.560776</td>\n    </tr>\n    <tr>\n      <th>356</th>\n      <td>SELL</td>\n      <td>-183.566522</td>\n      <td>108.952329</td>\n      <td>317808</td>\n      <td>109.279186</td>\n      <td>98.057096</td>\n      <td>fatExtraProfit</td>\n      <td>108.897997</td>\n      <td>317895</td>\n      <td>7.973419</td>\n    </tr>\n    <tr>\n      <th>374</th>\n      <td>SELL</td>\n      <td>-185.277424</td>\n      <td>107.946233</td>\n      <td>337958</td>\n      <td>108.270072</td>\n      <td>97.151610</td>\n      <td>fatExtraProfit</td>\n      <td>107.814785</td>\n      <td>338730</td>\n      <td>22.354331</td>\n    </tr>\n    <tr>\n      <th>390</th>\n      <td>SELL</td>\n      <td>-181.309692</td>\n      <td>110.308499</td>\n      <td>350991</td>\n      <td>110.639425</td>\n      <td>99.277649</td>\n      <td>fatExtraProfit</td>\n      <td>110.122789</td>\n      <td>351742</td>\n      <td>31.671118</td>\n    </tr>\n    <tr>\n      <th>396</th>\n      <td>SELL</td>\n      <td>-182.266420</td>\n      <td>109.729483</td>\n      <td>355147</td>\n      <td>110.058671</td>\n      <td>98.756534</td>\n      <td>fatExtraProfit</td>\n      <td>109.661169</td>\n      <td>355535</td>\n      <td>10.451322</td>\n    </tr>\n    <tr>\n      <th>402</th>\n      <td>SELL</td>\n      <td>-182.494096</td>\n      <td>109.592587</td>\n      <td>359345</td>\n      <td>109.921364</td>\n      <td>98.633328</td>\n      <td>fatExtraProfit</td>\n      <td>109.493541</td>\n      <td>360141</td>\n      <td>16.075225</td>\n    </tr>\n    <tr>\n      <th>413</th>\n      <td>BUY</td>\n      <td>182.240450</td>\n      <td>109.745120</td>\n      <td>370805</td>\n      <td>109.415885</td>\n      <td>120.719632</td>\n      <td>fatExtraProfit</td>\n      <td>109.823719</td>\n      <td>370932</td>\n      <td>12.323912</td>\n    </tr>\n    <tr>\n      <th>419</th>\n      <td>BUY</td>\n      <td>182.278019</td>\n      <td>109.722501</td>\n      <td>376700</td>\n      <td>109.393333</td>\n      <td>120.694751</td>\n      <td>fatExtraProfit</td>\n      <td>109.842362</td>\n      <td>377140</td>\n      <td>19.848150</td>\n    </tr>\n    <tr>\n      <th>426</th>\n      <td>SELL</td>\n      <td>-182.483463</td>\n      <td>109.598972</td>\n      <td>382768</td>\n      <td>109.927769</td>\n      <td>98.639075</td>\n      <td>fatExtraProfit</td>\n      <td>109.490418</td>\n      <td>382774</td>\n      <td>17.809245</td>\n    </tr>\n    <tr>\n      <th>440</th>\n      <td>SELL</td>\n      <td>-181.637802</td>\n      <td>110.109238</td>\n      <td>395039</td>\n      <td>110.439566</td>\n      <td>99.098314</td>\n      <td>fatExtraProfit</td>\n      <td>110.022601</td>\n      <td>395592</td>\n      <td>13.736694</td>\n    </tr>\n    <tr>\n      <th>442</th>\n      <td>BUY</td>\n      <td>181.998156</td>\n      <td>109.891224</td>\n      <td>395770</td>\n      <td>109.561550</td>\n      <td>120.880346</td>\n      <td>fatExtraProfit</td>\n      <td>110.013412</td>\n      <td>395912</td>\n      <td>20.238008</td>\n    </tr>\n  </tbody>\n</table>\n</div>"
     },
     "execution_count": 318,
     "metadata": {},
     "output_type": "execute_result"
    }
   ],
   "source": [
    "copy_df[(copy_df.typeHolding == 'fatExtraProfit') & (copy_df.profit > 0)]"
   ],
   "metadata": {
    "collapsed": false,
    "pycharm": {
     "name": "#%%\n"
    }
   }
  },
  {
   "cell_type": "code",
   "execution_count": 319,
   "outputs": [
    {
     "name": "stdout",
     "output_type": "stream",
     "text": [
      "W=59.20%, L = 40.80%\n",
      "average profit of a positive trade: 23.83\n",
      "average profit of a negative trade: -37.64\n"
     ]
    }
   ],
   "source": [
    "print(f\"W={copy_df[copy_df.profit > 0].shape[0] / copy_df.shape[0]:.2%}, L = {copy_df[copy_df.profit < 0].shape[0] / copy_df.shape[0]:.2%}\")\n",
    "print(f'average profit of a positive trade: {copy_df[copy_df.profit > 0].profit.mean():.2f}')\n",
    "print(f'average profit of a negative trade: {copy_df[copy_df.profit < 0].profit.mean():.2f}')"
   ],
   "metadata": {
    "collapsed": false,
    "pycharm": {
     "name": "#%%\n"
    }
   }
  },
  {
   "cell_type": "code",
   "execution_count": 320,
   "outputs": [
    {
     "name": "stdout",
     "output_type": "stream",
     "text": [
      "average profit of a negative trade: -37.64\n"
     ]
    },
    {
     "data": {
      "text/plain": "(array([ 95.,  59., 173.,  89.,  25.,   5.,   3.,   1.,   0.,   1.]),\n array([-62.        , -35.29215417,  -8.58430834,  18.1235375 ,\n         44.83138333,  71.53922916,  98.24707499, 124.95492083,\n        151.66276666, 178.37061249, 205.07845832]),\n <BarContainer object of 10 artists>)"
     },
     "execution_count": 320,
     "metadata": {},
     "output_type": "execute_result"
    },
    {
     "data": {
      "text/plain": "<Figure size 432x288 with 1 Axes>",
      "image/png": "[encoded data removed]"
     },
     "metadata": {
      "needs_background": "light"
     },
     "output_type": "display_data"
    }
   ],
   "source": [
    "print(f'average profit of a negative trade: {copy_df[(copy_df.profit < 0) & (copy_df.profit > -400)].profit.mean():.2f}')\n",
    "plt.hist(copy_df[(copy_df.profit > -1000)].profit.values)"
   ],
   "metadata": {
    "collapsed": false,
    "pycharm": {
     "name": "#%%\n"
    }
   }
  },
  {
   "cell_type": "code",
   "execution_count": 321,
   "outputs": [
    {
     "data": {
      "text/plain": "                   position                                                 \\\n                      count       mean         std         min         25%   \ntypeHolding                                                                  \nendPeriod              76.0  -9.514404  182.510175 -185.354129 -182.150532   \nfatExtraProfit          2.0   0.613863  257.173360 -181.235165  -90.310651   \nlightCross             19.0  -9.830625  186.731345 -183.912735 -182.496614   \nlightCrossEmergent      4.0   0.446540  207.373043 -181.520113 -177.924419   \nstopLoss               83.0  28.650461  180.436210 -186.122740 -180.862564   \n\n                                                       openPrice              \\\n                           50%         75%         max     count        mean   \ntypeHolding                                                                    \nendPeriod          -175.763389  182.144680  185.454932      76.0  110.189175   \nfatExtraProfit        0.613863   91.538376  182.462890       2.0  109.982595   \nlightCross         -179.153594  182.103249  183.682389      19.0  109.889735   \nlightCrossEmergent    0.128990  178.499949  183.048295       4.0  111.403929   \nstopLoss            178.737924  182.660748  186.374770      83.0  110.166944   \n\n                    ... closeIndex           profit                           \\\n                    ...        75%       max  count       mean           std   \ntypeHolding         ...                                                        \nendPeriod           ...  300985.50  399630.0   76.0 -18.956288  1.339964e+01   \nfatExtraProfit      ...  242349.25  268202.0    2.0  -3.354249  2.599876e+00   \nlightCross          ...  303755.00  392793.0   19.0 -16.420701  9.681656e+00   \nlightCrossEmergent  ...  148898.75  228359.0    4.0  -5.222942  2.687931e+00   \nstopLoss            ...  300260.00  401978.0   83.0 -62.000000  1.306729e-12   \n\n                                                                           \n                          min        25%        50%        75%        max  \ntypeHolding                                                                \nendPeriod          -49.612678 -27.187045 -16.807163  -7.886094  -0.580029  \nfatExtraProfit      -5.192639  -4.273444  -3.354249  -2.435054  -1.515860  \nlightCross         -38.178029 -21.743216 -17.102414 -10.355102  -0.189519  \nlightCrossEmergent  -8.205376  -6.834687  -5.366855  -3.755110  -1.952682  \nstopLoss           -62.000000 -62.000000 -62.000000 -62.000000 -62.000000  \n\n[5 rows x 64 columns]",
      "text/html": "<div>\n<style scoped>\n    .dataframe tbody tr th:only-of-type {\n        vertical-align: middle;\n    }\n\n    .dataframe tbody tr th {\n        vertical-align: top;\n    }\n\n    .dataframe thead tr th {\n        text-align: left;\n    }\n\n    .dataframe thead tr:last-of-type th {\n        text-align: right;\n    }\n</style>\n<table border=\"1\" class=\"dataframe\">\n  <thead>\n    <tr>\n      <th></th>\n      <th colspan=\"8\" halign=\"left\">position</th>\n      <th colspan=\"2\" halign=\"left\">openPrice</th>\n      <th>...</th>\n      <th colspan=\"2\" halign=\"left\">closeIndex</th>\n      <th colspan=\"8\" halign=\"left\">profit</th>\n    </tr>\n    <tr>\n      <th></th>\n      <th>count</th>\n      <th>mean</th>\n      <th>std</th>\n      <th>min</th>\n      <th>25%</th>\n      <th>50%</th>\n      <th>75%</th>\n      <th>max</th>\n      <th>count</th>\n      <th>mean</th>\n      <th>...</th>\n      <th>75%</th>\n      <th>max</th>\n      <th>count</th>\n      <th>mean</th>\n      <th>std</th>\n      <th>min</th>\n      <th>25%</th>\n      <th>50%</th>\n      <th>75%</th>\n      <th>max</th>\n    </tr>\n    <tr>\n      <th>typeHolding</th>\n      <th></th>\n      <th></th>\n      <th></th>\n      <th></th>\n      <th></th>\n      <th></th>\n      <th></th>\n      <th></th>\n      <th></th>\n      <th></th>\n      <th></th>\n      <th></th>\n      <th></th>\n      <th></th>\n      <th></th>\n      <th></th>\n      <th></th>\n      <th></th>\n      <th></th>\n      <th></th>\n      <th></th>\n    </tr>\n  </thead>\n  <tbody>\n    <tr>\n      <th>endPeriod</th>\n      <td>76.0</td>\n      <td>-9.514404</td>\n      <td>182.510175</td>\n      <td>-185.354129</td>\n      <td>-182.150532</td>\n      <td>-175.763389</td>\n      <td>182.144680</td>\n      <td>185.454932</td>\n      <td>76.0</td>\n      <td>110.189175</td>\n      <td>...</td>\n      <td>300985.50</td>\n      <td>399630.0</td>\n      <td>76.0</td>\n      <td>-18.956288</td>\n      <td>1.339964e+01</td>\n      <td>-49.612678</td>\n      <td>-27.187045</td>\n      <td>-16.807163</td>\n      <td>-7.886094</td>\n      <td>-0.580029</td>\n    </tr>\n    <tr>\n      <th>fatExtraProfit</th>\n      <td>2.0</td>\n      <td>0.613863</td>\n      <td>257.173360</td>\n      <td>-181.235165</td>\n      <td>-90.310651</td>\n      <td>0.613863</td>\n      <td>91.538376</td>\n      <td>182.462890</td>\n      <td>2.0</td>\n      <td>109.982595</td>\n      <td>...</td>\n      <td>242349.25</td>\n      <td>268202.0</td>\n      <td>2.0</td>\n      <td>-3.354249</td>\n      <td>2.599876e+00</td>\n      <td>-5.192639</td>\n      <td>-4.273444</td>\n      <td>-3.354249</td>\n      <td>-2.435054</td>\n      <td>-1.515860</td>\n    </tr>\n    <tr>\n      <th>lightCross</th>\n      <td>19.0</td>\n      <td>-9.830625</td>\n      <td>186.731345</td>\n      <td>-183.912735</td>\n      <td>-182.496614</td>\n      <td>-179.153594</td>\n      <td>182.103249</td>\n      <td>183.682389</td>\n      <td>19.0</td>\n      <td>109.889735</td>\n      <td>...</td>\n      <td>303755.00</td>\n      <td>392793.0</td>\n      <td>19.0</td>\n      <td>-16.420701</td>\n      <td>9.681656e+00</td>\n      <td>-38.178029</td>\n      <td>-21.743216</td>\n      <td>-17.102414</td>\n      <td>-10.355102</td>\n      <td>-0.189519</td>\n    </tr>\n    <tr>\n      <th>lightCrossEmergent</th>\n      <td>4.0</td>\n      <td>0.446540</td>\n      <td>207.373043</td>\n      <td>-181.520113</td>\n      <td>-177.924419</td>\n      <td>0.128990</td>\n      <td>178.499949</td>\n      <td>183.048295</td>\n      <td>4.0</td>\n      <td>111.403929</td>\n      <td>...</td>\n      <td>148898.75</td>\n      <td>228359.0</td>\n      <td>4.0</td>\n      <td>-5.222942</td>\n      <td>2.687931e+00</td>\n      <td>-8.205376</td>\n      <td>-6.834687</td>\n      <td>-5.366855</td>\n      <td>-3.755110</td>\n      <td>-1.952682</td>\n    </tr>\n    <tr>\n      <th>stopLoss</th>\n      <td>83.0</td>\n      <td>28.650461</td>\n      <td>180.436210</td>\n      <td>-186.122740</td>\n      <td>-180.862564</td>\n      <td>178.737924</td>\n      <td>182.660748</td>\n      <td>186.374770</td>\n      <td>83.0</td>\n      <td>110.166944</td>\n      <td>...</td>\n      <td>300260.00</td>\n      <td>401978.0</td>\n      <td>83.0</td>\n      <td>-62.000000</td>\n      <td>1.306729e-12</td>\n      <td>-62.000000</td>\n      <td>-62.000000</td>\n      <td>-62.000000</td>\n      <td>-62.000000</td>\n      <td>-62.000000</td>\n    </tr>\n  </tbody>\n</table>\n<p>5 rows × 64 columns</p>\n</div>"
     },
     "execution_count": 321,
     "metadata": {},
     "output_type": "execute_result"
    }
   ],
   "source": [
    "copy_df[copy_df.profit < 0].groupby(by='typeHolding').describe()"
   ],
   "metadata": {
    "collapsed": false,
    "pycharm": {
     "name": "#%%\n"
    }
   }
  },
  {
   "cell_type": "code",
   "execution_count": 322,
   "outputs": [
    {
     "data": {
      "text/plain": "                   position                                                 \\\n                      count       mean         std         min         25%   \ntypeHolding                                                                  \nendPeriod             166.0  -6.148507  182.041885 -185.354129 -181.761969   \nfatExtraProfit         54.0 -40.041130  178.941019 -185.277424 -182.367038   \nlightCross             35.0  -5.485139  184.895764 -184.160753 -182.546503   \nlightCrossEmergent    113.0  -1.584539  182.861174 -186.351155 -182.429620   \nstopLoss               83.0  28.650461  180.436210 -186.122740 -180.862564   \n\n                                                       openPrice              \\\n                           50%         75%         max     count        mean   \ntypeHolding                                                                    \nendPeriod          -175.627729  182.587817  186.968384     166.0  110.170303   \nfatExtraProfit     -179.459494  182.140402  186.684023      54.0  110.071316   \nlightCross         -179.153594  182.298705  184.237698      35.0  109.710836   \nlightCrossEmergent -175.698868  182.461692  185.467352     113.0  109.882341   \nstopLoss            178.737924  182.660748  186.374770      83.0  110.166944   \n\n                    ... closeIndex           profit                           \\\n                    ...        75%       max  count       mean           std   \ntypeHolding         ...                                                        \nendPeriod           ...  310609.50  403621.0  166.0  11.439293  3.843252e+01   \nfatExtraProfit      ...  268739.75  395912.0   54.0  16.181785  8.696446e+00   \nlightCross          ...  285163.00  392793.0   35.0  -1.837868  1.905732e+01   \nlightCrossEmergent  ...  301379.00  397524.0  113.0  16.595147  1.191793e+01   \nstopLoss            ...  300260.00  401978.0   83.0 -62.000000  1.306729e-12   \n\n                                                                            \n                          min        25%        50%        75%         max  \ntypeHolding                                                                 \nendPeriod          -49.612678 -14.860923   3.725316  29.941924  205.078458  \nfatExtraProfit      -5.192639  10.786455  15.336458  20.414789   46.352387  \nlightCross         -38.178029 -17.243775  -1.815371  11.866667   35.832576  \nlightCrossEmergent  -8.205376  10.189683  13.633567  21.328587   63.733377  \nstopLoss           -62.000000 -62.000000 -62.000000 -62.000000  -62.000000  \n\n[5 rows x 64 columns]",
      "text/html": "<div>\n<style scoped>\n    .dataframe tbody tr th:only-of-type {\n        vertical-align: middle;\n    }\n\n    .dataframe tbody tr th {\n        vertical-align: top;\n    }\n\n    .dataframe thead tr th {\n        text-align: left;\n    }\n\n    .dataframe thead tr:last-of-type th {\n        text-align: right;\n    }\n</style>\n<table border=\"1\" class=\"dataframe\">\n  <thead>\n    <tr>\n      <th></th>\n      <th colspan=\"8\" halign=\"left\">position</th>\n      <th colspan=\"2\" halign=\"left\">openPrice</th>\n      <th>...</th>\n      <th colspan=\"2\" halign=\"left\">closeIndex</th>\n      <th colspan=\"8\" halign=\"left\">profit</th>\n    </tr>\n    <tr>\n      <th></th>\n      <th>count</th>\n      <th>mean</th>\n      <th>std</th>\n      <th>min</th>\n      <th>25%</th>\n      <th>50%</th>\n      <th>75%</th>\n      <th>max</th>\n      <th>count</th>\n      <th>mean</th>\n      <th>...</th>\n      <th>75%</th>\n      <th>max</th>\n      <th>count</th>\n      <th>mean</th>\n      <th>std</th>\n      <th>min</th>\n      <th>25%</th>\n      <th>50%</th>\n      <th>75%</th>\n      <th>max</th>\n    </tr>\n    <tr>\n      <th>typeHolding</th>\n      <th></th>\n      <th></th>\n      <th></th>\n      <th></th>\n      <th></th>\n      <th></th>\n      <th></th>\n      <th></th>\n      <th></th>\n      <th></th>\n      <th></th>\n      <th></th>\n      <th></th>\n      <th></th>\n      <th></th>\n      <th></th>\n      <th></th>\n      <th></th>\n      <th></th>\n      <th></th>\n      <th></th>\n    </tr>\n  </thead>\n  <tbody>\n    <tr>\n      <th>endPeriod</th>\n      <td>166.0</td>\n      <td>-6.148507</td>\n      <td>182.041885</td>\n      <td>-185.354129</td>\n      <td>-181.761969</td>\n      <td>-175.627729</td>\n      <td>182.587817</td>\n      <td>186.968384</td>\n      <td>166.0</td>\n      <td>110.170303</td>\n      <td>...</td>\n      <td>310609.50</td>\n      <td>403621.0</td>\n      <td>166.0</td>\n      <td>11.439293</td>\n      <td>3.843252e+01</td>\n      <td>-49.612678</td>\n      <td>-14.860923</td>\n      <td>3.725316</td>\n      <td>29.941924</td>\n      <td>205.078458</td>\n    </tr>\n    <tr>\n      <th>fatExtraProfit</th>\n      <td>54.0</td>\n      <td>-40.041130</td>\n      <td>178.941019</td>\n      <td>-185.277424</td>\n      <td>-182.367038</td>\n      <td>-179.459494</td>\n      <td>182.140402</td>\n      <td>186.684023</td>\n      <td>54.0</td>\n      <td>110.071316</td>\n      <td>...</td>\n      <td>268739.75</td>\n      <td>395912.0</td>\n      <td>54.0</td>\n      <td>16.181785</td>\n      <td>8.696446e+00</td>\n      <td>-5.192639</td>\n      <td>10.786455</td>\n      <td>15.336458</td>\n      <td>20.414789</td>\n      <td>46.352387</td>\n    </tr>\n    <tr>\n      <th>lightCross</th>\n      <td>35.0</td>\n      <td>-5.485139</td>\n      <td>184.895764</td>\n      <td>-184.160753</td>\n      <td>-182.546503</td>\n      <td>-179.153594</td>\n      <td>182.298705</td>\n      <td>184.237698</td>\n      <td>35.0</td>\n      <td>109.710836</td>\n      <td>...</td>\n      <td>285163.00</td>\n      <td>392793.0</td>\n      <td>35.0</td>\n      <td>-1.837868</td>\n      <td>1.905732e+01</td>\n      <td>-38.178029</td>\n      <td>-17.243775</td>\n      <td>-1.815371</td>\n      <td>11.866667</td>\n      <td>35.832576</td>\n    </tr>\n    <tr>\n      <th>lightCrossEmergent</th>\n      <td>113.0</td>\n      <td>-1.584539</td>\n      <td>182.861174</td>\n      <td>-186.351155</td>\n      <td>-182.429620</td>\n      <td>-175.698868</td>\n      <td>182.461692</td>\n      <td>185.467352</td>\n      <td>113.0</td>\n      <td>109.882341</td>\n      <td>...</td>\n      <td>301379.00</td>\n      <td>397524.0</td>\n      <td>113.0</td>\n      <td>16.595147</td>\n      <td>1.191793e+01</td>\n      <td>-8.205376</td>\n      <td>10.189683</td>\n      <td>13.633567</td>\n      <td>21.328587</td>\n      <td>63.733377</td>\n    </tr>\n    <tr>\n      <th>stopLoss</th>\n      <td>83.0</td>\n      <td>28.650461</td>\n      <td>180.436210</td>\n      <td>-186.122740</td>\n      <td>-180.862564</td>\n      <td>178.737924</td>\n      <td>182.660748</td>\n      <td>186.374770</td>\n      <td>83.0</td>\n      <td>110.166944</td>\n      <td>...</td>\n      <td>300260.00</td>\n      <td>401978.0</td>\n      <td>83.0</td>\n      <td>-62.000000</td>\n      <td>1.306729e-12</td>\n      <td>-62.000000</td>\n      <td>-62.000000</td>\n      <td>-62.000000</td>\n      <td>-62.000000</td>\n      <td>-62.000000</td>\n    </tr>\n  </tbody>\n</table>\n<p>5 rows × 64 columns</p>\n</div>"
     },
     "execution_count": 322,
     "metadata": {},
     "output_type": "execute_result"
    }
   ],
   "source": [
    "copy_df.groupby(by='typeHolding').describe()"
   ],
   "metadata": {
    "collapsed": false,
    "pycharm": {
     "name": "#%%\n"
    }
   }
  },
  {
   "cell_type": "code",
   "execution_count": 323,
   "outputs": [
    {
     "data": {
      "text/plain": "-562.3348034236566"
     },
     "execution_count": 323,
     "metadata": {},
     "output_type": "execute_result"
    }
   ],
   "source": [
    "copy_df.profit.cumsum().iloc[-1]"
   ],
   "metadata": {
    "collapsed": false,
    "pycharm": {
     "name": "#%%\n"
    }
   }
  },
  {
   "cell_type": "code",
   "execution_count": null,
   "outputs": [],
   "source": [
    "plt.figure(figsize=(14,8))\n",
    "plt.style.use('Solarize_Light2')\n",
    "plt.plot(copy_df.profit.cumsum())\n",
    "plt.title(f'Total Pnl for {pairName}')\n",
    "plt.show()"
   ],
   "metadata": {
    "collapsed": false,
    "pycharm": {
     "name": "#%%\n"
    }
   }
  }
 ],
 "metadata": {
  "kernelspec": {
   "display_name": "Python 3",
   "language": "python",
   "name": "python3"
  },
  "language_info": {
   "codemirror_mode": {
    "name": "ipython",
    "version": 2
   },
   "file_extension": ".py",
   "mimetype": "text/x-python",
   "name": "python",
   "nbconvert_exporter": "python",
   "pygments_lexer": "ipython2",
   "version": "2.7.6"
  }
 },
 "nbformat": 4,
 "nbformat_minor": 0
}