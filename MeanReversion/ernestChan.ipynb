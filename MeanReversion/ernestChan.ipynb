{
 "cells": [
  {
   "cell_type": "code",
   "execution_count": 82,
   "metadata": {
    "collapsed": true
   },
   "outputs": [],
   "source": [
    "import platform\n",
    "\n",
    "global systemDivide\n",
    "if platform.platform().split('-')[0] == 'macOS':\n",
    "    systemDivide = '/'\n",
    "else:\n",
    "    systemDivide = '\\\\'\n",
    "\n",
    "import sys\n",
    "import threading\n",
    "\n",
    "threading.stack_size(2**27)\n",
    "sys.setrecursionlimit(10 ** 5)"
   ]
  },
  {
   "cell_type": "code",
   "execution_count": 83,
   "outputs": [],
   "source": [
    "import pandas as pd\n",
    "import numpy as np\n",
    "from tqdm.notebook import tqdm\n",
    "\n",
    "pairName = 'CHFJPY.csv'\n",
    "\n",
    "inpData = pd.read_csv(f\"testData{systemDivide}{pairName}\", index_col=1)\n",
    "# Какие колонки нужны для работы\n",
    "columns = ['open', 'high', 'low', 'close']\n",
    "inpData = inpData[columns]\n",
    "inpData.index = pd.to_datetime(inpData.index)\n",
    "\n",
    "\n",
    "initParameters = {\n",
    "    # Оптимизировать\n",
    "    'yThreshold': 300,\n",
    "    # Оптимизировать\n",
    "    'yBackThreshold': 0,\n",
    "    # Оптимизировать\n",
    "    'varianceRatioFilter': 1.0,\n",
    "    # Оптимизировать\n",
    "    'restAfterLoss': 910,\n",
    "    # Оптимизировать\n",
    "    'varianceRatioCarreteParameter': 10,\n",
    "    # Оптимизировать\n",
    "    'stopLossM': 700,\n",
    "    # Оптимизировать\n",
    "    'scanHalfTime': 1500\n",
    "    }\n",
    "\n",
    "def create_grid(params: initParameters):\n",
    "    \"\"\"\n",
    "    Создает удобную сетку для дальнейших расчетов\n",
    "    :param params: начальные init параметры\n",
    "    :return: словарь из параметров использующийся везде\n",
    "    \"\"\"\n",
    "    capital = 20_000\n",
    "    slippage = 2\n",
    "    retParams = {\n",
    "        # Капитал\n",
    "        'capital': capital,\n",
    "        'slippage': slippage,\n",
    "        # Можно использовать для стоп лоссов и тейков с учетом слипэджа\n",
    "        'slippagePerCapital': slippage / capital,\n",
    "        # То какой размах мы будем брать для построения полос Боллинджера. Это и есть X Threshold из файла Евгения\n",
    "        'yThreshold': round(params['yThreshold'] / 100, 2),\n",
    "        'yBackThreshold': round(params['yBackThreshold'] / 100, 2),\n",
    "        # Период за который мы строим малую скользяшку\n",
    "        'rollingMean': None,\n",
    "        # Период за который мы строим большую скользяшку\n",
    "        'fatRollingMean': None,\n",
    "        # Временной барьер, Максимальное время сколько мы можем держать позицию\n",
    "        'timeBarrier': None,\n",
    "        # Параметр для определения того что данные MeanReversion/TrendFollowing\n",
    "        # Используется в VRratio тестах для открытия/удержания позиции\n",
    "        'varianceRatioFilter': params['varianceRatioFilter'],\n",
    "        # Сколько времени мы не торгуем после срабатывания стоп лосса\n",
    "        'restAfterLoss': params['restAfterLoss'],\n",
    "        # Сколько времени мы не торгуем после закрытия позиции о большую скользяшку\n",
    "        'restAfterFatProfit' : 0,\n",
    "        # Процент стоп лосса\n",
    "        'stopLossStdMultiplier': params['stopLossM'],\n",
    "        # Процент тэйк профита\n",
    "        'takeProfitStdMultiplier': None,\n",
    "        # Нужно чтобы пересчитывать VR границы в автоматическом режиме\n",
    "        'varianceRatioCarreteParameter': params['varianceRatioCarreteParameter'],\n",
    "        # Тот период за который мы будем считать Variance Ratio. Те ставя тут к примеру 1500, мы должны будем передавать в функцию\n",
    "        # VR Ratio 1500 точек данных. Сейчас этот гипермараметр связан с гиперпараметров периода малой скользяшки\n",
    "        'varianceLookBack': None,\n",
    "        # Чему будет равен временной лаг Q; Q = varianceLookBack // PARAM + 1\n",
    "        'varianceRatioCarrete': None,\n",
    "        # Параметр по которому мы будем искать период полураспада\n",
    "        'scanHalfTime': params['scanHalfTime'],\n",
    "\n",
    "        'dynamicHalfTime': None,\n",
    "        'dynamicOperation': None,\n",
    "        \"dynamicStopLoss\": None,\n",
    "        'dynamicSTD': None,\n",
    "    }\n",
    "    return retParams"
   ],
   "metadata": {
    "collapsed": false,
    "pycharm": {
     "name": "#%%\n"
    }
   }
  },
  {
   "cell_type": "markdown",
   "source": [
    "# Проверим распределение доходностей на нормальность"
   ],
   "metadata": {
    "collapsed": false
   }
  },
  {
   "cell_type": "code",
   "execution_count": 84,
   "outputs": [
    {
     "name": "stdout",
     "output_type": "stream",
     "text": [
      "3 sigma anomalies 1.275%\n"
     ]
    },
    {
     "data": {
      "text/plain": "<Figure size 864x432 with 2 Axes>",
      "image/png": "[encoded data removed]"
     },
     "metadata": {
      "needs_background": "light"
     },
     "output_type": "display_data"
    }
   ],
   "source": [
    "import matplotlib.pylab as plt\n",
    "from scipy.stats import zscore, probplot\n",
    "from sklearn import linear_model\n",
    "\n",
    "plt.style.use(style='fast')\n",
    "plt.figure(figsize=(12,6))\n",
    "plt.subplot(2,1,1)\n",
    "plt.title('Гистограмма доходностей')\n",
    "abs_Z_scores = np.abs(zscore(inpData.open.pct_change().iloc[1:]))\n",
    "filtered = (abs_Z_scores < 3)\n",
    "print(f'3 sigma anomalies {(1 - sum(filtered) / inpData.shape[0]):.3%}')\n",
    "bars = plt.hist(inpData.open.pct_change().values[1:][filtered], density=True, )\n",
    "ax = plt.subplot(2,1,2)\n",
    "\n",
    "probplot(inpData.open.pct_change().values[1:][filtered], plot=ax)\n",
    "plt.title(f'Q-Q plot')\n",
    "plt.show()\n",
    "del abs_Z_scores, filtered, bars"
   ],
   "metadata": {
    "collapsed": false,
    "pycharm": {
     "name": "#%%\n"
    }
   }
  },
  {
   "cell_type": "code",
   "execution_count": 85,
   "outputs": [],
   "source": [
    "def get_half_time(openTuple: pd.Series) -> float:\n",
    "    df_open = openTuple.to_frame()\n",
    "    df_lag = df_open.shift(1)\n",
    "    df_delta = df_open - df_lag\n",
    "    linear_regression_model = linear_model.LinearRegression()\n",
    "    df_delta = df_delta.values.reshape(len(df_delta), 1)\n",
    "    df_lag = df_lag.values.reshape(len(df_lag), 1)\n",
    "    linear_regression_model.fit(df_lag[1:], df_delta[1:])\n",
    "    half_life = -np.log(2) / linear_regression_model.coef_.item()\n",
    "    return half_life\n",
    "\n",
    "def varianceRatio(df:pd.DataFrame, params: dict) -> bool:\n",
    "    \"\"\"\n",
    "    Возвращает значение variacne ratio. Необходимо для понимания того, можно ли открывать сделку\n",
    "    :param df\n",
    "    :param params: список параметров из create_grid\n",
    "    :return: Можно ли открывать сделку. Фактически является фильтром\n",
    "    \"\"\"\n",
    "    logTuple = np.log(df.close)\n",
    "    retTuple = logTuple.diff().iloc[1:]\n",
    "    logTuple = logTuple.iloc[1:]\n",
    "\n",
    "    buffer_size = len(retTuple)\n",
    "    means = (1 / buffer_size) * np.sum(retTuple)\n",
    "    # сдвиг во времени q\n",
    "    m = params['varianceRatioCarrete'] * (buffer_size - params['varianceRatioCarrete'] + 1 ) * (1 - (params['varianceRatioCarrete'] / buffer_size))\n",
    "    sigma_a = (1 / (buffer_size - 1)) * np.sum(np.square(np.subtract(retTuple, means)))\n",
    "    subtract_returns = np.subtract(logTuple, np.roll(logTuple, params['varianceRatioCarrete']))[params['varianceRatioCarrete']:]\n",
    "    _buff_ = np.sum(np.square(subtract_returns - params['varianceRatioCarrete'] * means))\n",
    "    try:\n",
    "        sigma_b = (1 / m) * _buff_\n",
    "    except ZeroDivisionError:\n",
    "        return False\n",
    "\n",
    "    result = (sigma_b / sigma_a)\n",
    "    if result < params['varianceRatioFilter']:\n",
    "        return True\n",
    "    else:\n",
    "        return False\n",
    "\n",
    "def open_position(locator, dataFrame, params):\n",
    "    statement = False\n",
    "    half_time = int(get_half_time(dataFrame.close.iloc[locator-params['scanHalfTime']:locator]))\n",
    "    if (half_time > params['scanHalfTime']) or (half_time < 0):\n",
    "        return {'operation': None, 'locator': locator+1}\n",
    "\n",
    "\n",
    "    params['dynamicHalfTime'] =  half_time\n",
    "    params[\"rollingMean\"] = half_time\n",
    "    params[\"timeBarrier\"] = half_time\n",
    "    params[\"varianceLookBack\"] = half_time\n",
    "    params[\"varianceRatioCarrete\"] = int(half_time // params['varianceRatioCarreteParameter']) + 1\n",
    "    # Считаем локальные барьеры открытия сделки\n",
    "    bands_roll = dataFrame.close.iloc[locator-half_time:locator].rolling(half_time)\n",
    "    bands_mean = bands_roll.mean().iloc[-1]\n",
    "    bands_std = bands_roll.std().iloc[-1]\n",
    "    params[\"dynamicSTD\"] = bands_std\n",
    "    low_band = bands_mean - bands_std * params['yThreshold']\n",
    "    high_band = bands_mean + bands_std * params['yThreshold']\n",
    "    # Добавляем дополнительную единицу, связанную с diff\n",
    "    if dataFrame.close.iloc[locator] < low_band:\n",
    "        if varianceRatio(dataFrame.iloc[locator - params['varianceLookBack'] - 1: locator], params=params):\n",
    "            return {'operation': 'buy', 'locator': locator+1}\n",
    "    elif dataFrame.close.iloc[locator] > high_band:\n",
    "        if varianceRatio(dataFrame.iloc[locator - params['varianceLookBack'] - 1: locator], params=params):\n",
    "            return {'operation': \"sell\", 'locator': locator+1}\n",
    "    else:\n",
    "        return {'operation': None, 'locator':locator+1}\n",
    "\n",
    "    if not statement:\n",
    "        return {'operation': None, 'locator':locator+1}\n",
    "\n",
    "def close_position(locator, dataFrame, params, timeBarrier):\n",
    "    statement = False\n",
    "\n",
    "    bands_roll = dataFrame.close.iloc[locator-params['dynamicHalfTime']:locator].rolling(params['dynamicHalfTime'])\n",
    "    bands_mean = bands_roll.mean().iloc[-1]\n",
    "    bands_std = bands_roll.std().iloc[-1]\n",
    "    low_band = bands_mean - bands_std * params['yBackThreshold']\n",
    "    high_band = bands_mean + bands_std * params['yBackThreshold']\n",
    "    if timeBarrier > params['timeBarrier']:\n",
    "        return {'hold': 'time', 'locator': locator+1}\n",
    "\n",
    "    elif params[\"dynamicOperation\"] == 'buy':\n",
    "        if dataFrame.close.iloc[locator] < params['dynamicStopLoss']:\n",
    "            return {'hold': 'stopLoss', 'locator': locator+1}\n",
    "        elif dataFrame.close.iloc[locator] > high_band:\n",
    "            return {'hold': 'band', 'locator': locator+1}\n",
    "        else:\n",
    "            delta = dataFrame.close.iloc[locator] - dataFrame.close.iloc[locator - 1]\n",
    "            if delta > 0:\n",
    "                params['dynamicStopLoss'] += delta\n",
    "                return {'hold': None, 'locator': locator+1}\n",
    "\n",
    "    elif params[\"dynamicOperation\"] == 'sell':\n",
    "        if dataFrame.close.iloc[locator] > params['dynamicStopLoss']:\n",
    "            return {'hold': 'stopLoss', 'locator': locator+1}\n",
    "        elif dataFrame.close.iloc[locator] < low_band:\n",
    "            return {'hold': 'band', 'locator': locator+1}\n",
    "        else:\n",
    "            delta = dataFrame.close.iloc[locator] - dataFrame.close.iloc[locator - 1]\n",
    "            if delta < 0:\n",
    "                params['dynamicStopLoss'] += delta\n",
    "                return {'hold': None, 'locator': locator+1}\n",
    "\n",
    "    if not statement:\n",
    "        return {'hold': None, 'locator': locator+1}"
   ],
   "metadata": {
    "collapsed": false,
    "pycharm": {
     "name": "#%%\n"
    }
   }
  },
  {
   "cell_type": "code",
   "execution_count": null,
   "outputs": [
    {
     "data": {
      "text/plain": "  0%|          | 0/179815 [00:00<?, ?it/s]",
      "application/vnd.jupyter.widget-view+json": {
       "version_major": 2,
       "version_minor": 0,
       "model_id": "4b901329deac4c9c8b18f24abb1bae58"
      }
     },
     "metadata": {},
     "output_type": "display_data"
    }
   ],
   "source": [
    "RESULTS = list()\n",
    "parameters = create_grid(initParameters)\n",
    "\n",
    "data = inpData.copy()\n",
    "\n",
    "openDict = {'operation': None, 'locator': parameters[\"scanHalfTime\"]}\n",
    "\n",
    "simplifier = 6\n",
    "\n",
    "barTqdm = tqdm(total=int(data.shape[0] // simplifier))\n",
    "while openDict[\"locator\"] < int(data.shape[0] // simplifier):\n",
    "    while openDict[\"operation\"] is None:\n",
    "        openDict = open_position(locator=openDict[\"locator\"] + 1, dataFrame=data, params=parameters)\n",
    "\n",
    "    openPrice = data.close.iloc[openDict['locator']]\n",
    "    openIndex = openDict['locator']\n",
    "\n",
    "\n",
    "    parameters['dynamicOperation'] = openDict[\"operation\"]\n",
    "    if parameters['dynamicOperation'] == 'buy':\n",
    "        parameters[\"dynamicStopLoss\"] = openPrice - parameters[\"dynamicSTD\"] * parameters[\"stopLossStdMultiplier\"]\n",
    "        # print(f'operation={parameters[\"dynamicOperation\"]} open={openPrice}, SL={parameters[\"dynamicStopLoss\"]}')\n",
    "    if parameters['dynamicOperation'] == 'sell':\n",
    "        parameters[\"dynamicStopLoss\"] = openPrice + parameters[\"dynamicSTD\"] * parameters[\"stopLossStdMultiplier\"]\n",
    "\n",
    "    closeDict = {'hold': None, 'locator': openDict['locator']}\n",
    "    timeB = 1\n",
    "    while closeDict[\"hold\"] is None:\n",
    "        timeB += 1\n",
    "        closeDict = close_position(locator=closeDict[\"locator\"]+1, dataFrame=data, params=parameters,\n",
    "                                   timeBarrier=timeB)\n",
    "\n",
    "    closePrice = data.close.iloc[closeDict[\"locator\"]]\n",
    "    closeIndex = closeDict[\"locator\"]\n",
    "    openDict = {'operation': None, 'locator': closeDict[\"locator\"]}\n",
    "    if closeDict[\"hold\"] == 'stopLoss':\n",
    "        openDict[\"locator\"] += parameters[\"restAfterLoss\"]\n",
    "\n",
    "    barTqdm.update(closeIndex - barTqdm.last_print_n)\n",
    "    RESULTS.append({'operation': parameters['dynamicOperation'],\n",
    "                    'hold': closeDict['hold'],\n",
    "                    'open': openPrice,\n",
    "                    'close': closePrice,\n",
    "                    'openIndex': openIndex,\n",
    "                    'closeIndex': closeIndex})"
   ],
   "metadata": {
    "collapsed": false,
    "pycharm": {
     "name": "#%%\n",
     "is_executing": true
    }
   }
  },
  {
   "cell_type": "code",
   "execution_count": null,
   "outputs": [],
   "source": [
    "stat = pd.DataFrame(RESULTS)\n",
    "def profit_calculation(line, params):\n",
    "    if line.operation == 'sell':\n",
    "        position = params['capital'] / line.open\n",
    "        return position * (line.open - line.close) - params['slippage']\n",
    "    if line.operation == 'buy':\n",
    "        position = params['capital'] / line.open\n",
    "        return position * (line.close - line.open) - params['slippage']\n",
    "stat['profit'] = stat.apply(lambda x: profit_calculation(x, params=parameters), axis=1)\n",
    "stat"
   ],
   "metadata": {
    "collapsed": false,
    "pycharm": {
     "name": "#%%\n",
     "is_executing": true
    }
   }
  },
  {
   "cell_type": "code",
   "execution_count": null,
   "outputs": [],
   "source": [
    "plt.figure(figsize=(12,5))\n",
    "plt.plot(stat.profit.cumsum())\n",
    "plt.show()"
   ],
   "metadata": {
    "collapsed": false,
    "pycharm": {
     "name": "#%%\n",
     "is_executing": true
    }
   }
  }
 ],
 "metadata": {
  "kernelspec": {
   "display_name": "Python 3",
   "language": "python",
   "name": "python3"
  },
  "language_info": {
   "codemirror_mode": {
    "name": "ipython",
    "version": 2
   },
   "file_extension": ".py",
   "mimetype": "text/x-python",
   "name": "python",
   "nbconvert_exporter": "python",
   "pygments_lexer": "ipython2",
   "version": "2.7.6"
  }
 },
 "nbformat": 4,
 "nbformat_minor": 0
}