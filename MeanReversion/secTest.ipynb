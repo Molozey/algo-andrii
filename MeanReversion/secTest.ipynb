{
 "cells": [
  {
   "cell_type": "code",
   "execution_count": 1,
   "metadata": {
    "collapsed": true
   },
   "outputs": [],
   "source": [
    "import platform\n",
    "\n",
    "global systemDivide\n",
    "if platform.platform().split('-')[0] == 'macOS':\n",
    "    systemDivide = '/'\n",
    "else:\n",
    "    systemDivide = '\\\\'"
   ]
  },
  {
   "cell_type": "code",
   "execution_count": 2,
   "outputs": [],
   "source": [
    "import pandas as pd\n",
    "import numpy as np\n",
    "from tqdm.notebook import tqdm\n",
    "pairName = 'CHFJPY.csv'\n",
    "\n",
    "inpData = pd.read_csv(f\"testData{systemDivide}{pairName}\", index_col=1)\n",
    "# Какие колонки нужны для работы\n",
    "columns = ['open', 'high', 'low', 'close']\n",
    "inpData = inpData[columns]\n",
    "inpData.index = pd.to_datetime(inpData.index)\n",
    "\n",
    "initParameters = {\n",
    "    'yThreshold': 200,\n",
    "    'rollingMean': 500,\n",
    "    'fatRollingMean': 2500,\n",
    "    'timeBarrier': 600,\n",
    "    'varianceRatioFilter': 1.1,\n",
    "    'restAfterLoss': 350,\n",
    "    'restAfterFatProfit' : 350,\n",
    "    'stopLossPercent': 20,\n",
    "    'takeProfitPercent': 20,\n",
    "    'varianceRatioCarreteParameter': 40,\n",
    "    }"
   ],
   "metadata": {
    "collapsed": false,
    "pycharm": {
     "name": "#%%\n"
    }
   }
  },
  {
   "cell_type": "markdown",
   "source": [
    "# Проверим распределение доходностей на нормальность"
   ],
   "metadata": {
    "collapsed": false,
    "pycharm": {
     "name": "#%% md\n"
    }
   }
  },
  {
   "cell_type": "code",
   "execution_count": 3,
   "outputs": [
    {
     "name": "stdout",
     "output_type": "stream",
     "text": [
      "3 sigma anomalies 1.275%\n"
     ]
    },
    {
     "data": {
      "text/plain": "<Figure size 864x432 with 2 Axes>",
      "image/png": "[encoded data removed]"
     },
     "metadata": {
      "needs_background": "light"
     },
     "output_type": "display_data"
    }
   ],
   "source": [
    "import matplotlib.pylab as plt\n",
    "from scipy.stats import zscore, probplot\n",
    "\n",
    "plt.style.use(style='fast')\n",
    "plt.figure(figsize=(12,6))\n",
    "plt.subplot(2,1,1)\n",
    "plt.title('Гистограмма доходностей')\n",
    "abs_Z_scores = np.abs(zscore(inpData.open.pct_change().iloc[1:]))\n",
    "filtered = (abs_Z_scores < 3)\n",
    "print(f'3 sigma anomalies {(1 - sum(filtered) / inpData.shape[0]):.3%}')\n",
    "bars = plt.hist(inpData.open.pct_change().values[1:][filtered], density=True, )\n",
    "ax = plt.subplot(2,1,2)\n",
    "\n",
    "probplot(inpData.open.pct_change().values[1:][filtered], plot=ax)\n",
    "plt.title(f'Q-Q plot')\n",
    "plt.show()\n",
    "del abs_Z_scores, filtered, bars"
   ],
   "metadata": {
    "collapsed": false,
    "pycharm": {
     "name": "#%%\n"
    }
   }
  },
  {
   "cell_type": "code",
   "execution_count": 4,
   "outputs": [
    {
     "data": {
      "text/plain": "  0%|          | 0/450 [00:00<?, ?it/s]",
      "application/vnd.jupyter.widget-view+json": {
       "version_major": 2,
       "version_minor": 0,
       "model_id": "980b1b63f28746c6897b5494a29393c6"
      }
     },
     "metadata": {},
     "output_type": "display_data"
    }
   ],
   "source": [
    "def create_grid(params: initParameters):\n",
    "    \"\"\"\n",
    "    Создает удобную сетку для дальнейших расчетов\n",
    "    :param params: начальные init параметры\n",
    "    :return: словарь из параметров использующийся везде\n",
    "    \"\"\"\n",
    "    capital = 20_000\n",
    "    slippage = 2\n",
    "    retParams = {\n",
    "        'capital': capital,\n",
    "        'slippagePerCapital': slippage / capital,\n",
    "        'yThreshold': round(params['yThreshold'] / 100, 2),\n",
    "        'rollingMean': params['rollingMean'],\n",
    "        'fatRollingMean': params['fatRollingMean'],\n",
    "        'timeBarrier': params['timeBarrier'],\n",
    "        'varianceRatioFilter': params['varianceRatioFilter'],\n",
    "        'restAfterLoss': params['restAfterLoss'],\n",
    "        'restAfterFatProfit' : params['restAfterFatProfit'],\n",
    "        'stopLossThreshold': round(params['stopLossPercent'] / 100, 3),\n",
    "        'takeProfitThreshold': round(params['takeProfitPercent'] / 100, 3),\n",
    "        'varianceLookBack': params['rollingMean'] * 2,\n",
    "        'varianceRatioCarrete': int((params['rollingMean'] * 2) // params['varianceRatioCarreteParameter']) + 1,\n",
    "    }\n",
    "    return retParams\n",
    "\n",
    "def cook_data(df: pd.DataFrame, params) -> pd.DataFrame:\n",
    "    \"\"\"\n",
    "    Подготавливает данные для дальнейшего рассчета стратегии.\n",
    "    :param df: должен быть open, close, low, high\n",
    "    :param params: список параметров из create_grid\n",
    "    :return: данные с полосами Болинджера + логарифмы + возвраты\n",
    "    \"\"\"\n",
    "    df['rollMean'] = df['open'].rolling(window=params['rollingMean']).mean()\n",
    "    df['rollingStd'] = df['open'].rolling(window=params['rollingMean']).std()\n",
    "    df['HBBand'] = df['rollMean'] + df['rollingStd'] * params['yThreshold']\n",
    "    df['LBBand'] = df['rollMean'] - df['rollingStd'] * params['yThreshold']\n",
    "    df['fatMean'] = df['open'].rolling(window=params['fatRollingMean']).mean()\n",
    "    df['logOpenPrice'] = np.log(df['open'])\n",
    "    df['retOpenPrice'] = df['logOpenPrice'].diff()\n",
    "    return df.iloc[max(params['varianceLookBack'], params['fatRollingMean']):]\n",
    "\n",
    "def variance_ratio(logTuple: tuple, retTuple: tuple, params: dict) -> bool:\n",
    "    \"\"\"\n",
    "    Возвращает значение variacne ratio. Необходимо для понимания того, можно ли открывать сделку\n",
    "    :param logTuple: tuple из цен открытия включая проверяемую точку\n",
    "    :param retTuple: tuple из цен открытия включая проверяемую точку\n",
    "    :param params: список параметров из create_grid\n",
    "    :return: Можно ли открывать сделку. Фактически является фильтром\n",
    "    \"\"\"\n",
    "    buffer_size = len(retTuple)\n",
    "    means = (1 / buffer_size) * np.sum(retTuple)\n",
    "    # сдвиг во времени q\n",
    "    m = params['varianceRatioCarrete'] * (buffer_size - params['varianceRatioCarrete'] + 1 ) * (1 - (params['varianceRatioCarrete'] / buffer_size))\n",
    "    sigma_a = (1 / (buffer_size - 1)) * np.sum(np.square(np.subtract(retTuple, means)))\n",
    "    subtract_returns = np.subtract(logTuple, np.roll(logTuple, params['varianceRatioCarrete']))[params['varianceRatioCarrete']:]\n",
    "    _buff_ = np.sum(np.square(subtract_returns - params['varianceRatioCarrete'] * means))\n",
    "    sigma_b = (1 / m) * _buff_\n",
    "    result = (sigma_b / sigma_a)\n",
    "    if result < params['varianceRatioFilter']:\n",
    "        return True\n",
    "    else:\n",
    "        return False\n",
    "\n",
    "def reverse_variance_ratio(logTuple: tuple, retTuple: tuple, params: dict, timeBorderCounter: int) -> bool:\n",
    "    \"\"\"\n",
    "    Возвращает значение variacne ratio. Необходимо для понимания того, можно ли открывать сделку\n",
    "    :param logTuple: tuple из цен открытия включая проверяемую точку\n",
    "    :param retTuple: tuple из цен открытия включая проверяемую точку\n",
    "    :param params: список параметров из create_grid\n",
    "    :return: Можно ли открывать сделку. Фактически является фильтром\n",
    "    \"\"\"\n",
    "    buffer_size = len(retTuple)\n",
    "    means = (1 / buffer_size) * np.sum(retTuple)\n",
    "    # сдвиг во времени q\n",
    "    m = timeBorderCounter * (buffer_size - timeBorderCounter + 1 ) * (1 - (timeBorderCounter / buffer_size))\n",
    "    sigma_a = (1 / (buffer_size - 1)) * np.sum(np.square(np.subtract(retTuple, means)))\n",
    "    subtract_returns = np.subtract(logTuple, np.roll(logTuple, timeBorderCounter))[timeBorderCounter:]\n",
    "    _buff_ = np.sum(np.square(subtract_returns - timeBorderCounter * means))\n",
    "    sigma_b = (1 / m) * _buff_\n",
    "    result = (sigma_b / sigma_a)\n",
    "    if result > params['varianceRatioFilter']:\n",
    "        return True\n",
    "    else:\n",
    "        return False\n",
    "\n",
    "def open_position(arrowIndex, recursionFilter, LBandTuple, HBandTuple, LowTuple,\n",
    "                 HighTuple, OpenTuple, params, logTuple, retTuple) -> dict:\n",
    "    \"\"\"\n",
    "    Возвращает список с типом сделанной сделки\n",
    "    :param arrowIndex: Навигация по полному массиву данных\n",
    "    :param recursionFilter: ограничитель ошибок связанных с забитием памяти и превышением лимита рекурсии\n",
    "    :param LBandTuple: нижняя граница болинджера\n",
    "    :param HBandTuple: верхняя полоса болинджера\n",
    "    :param LowTuple: low цена\n",
    "    :param HighTuple: high цена\n",
    "    :param OpenTuple: open цена\n",
    "    :param params: список параметров полученных с помощью create_grid\n",
    "    :param logTuple: необходим для расчета Variance ratio\n",
    "    :param retTuple: необходим для расчета Variance ratio\n",
    "    :return: список о сделанной сделке\n",
    "    \"\"\"\n",
    "    _recursion_limit = 10_000\n",
    "\n",
    "    openDict = {\n",
    "        'typeOperation': None,\n",
    "        'position': None,\n",
    "        'openPrice': None,\n",
    "        'openIndex': None,\n",
    "        'stopLossBorder': None,\n",
    "        'takeProfitBorder': None\n",
    "    }\n",
    "    if recursionFilter > _recursion_limit:\n",
    "        return arrowIndex\n",
    "\n",
    "    if variance_ratio(logTuple=logTuple[arrowIndex - params['varianceLookBack']:arrowIndex],\n",
    "                      retTuple=retTuple[arrowIndex - params['varianceLookBack']:arrowIndex],params=params):\n",
    "        # Текущее открытие должно находится выше нижней полосы Болинджера,\n",
    "        # тогда в случае если LOW пересекает полосу покупаем контракт по цене LBBand\n",
    "        if (OpenTuple[arrowIndex] > LBandTuple[arrowIndex]) and (LowTuple[arrowIndex] < LBandTuple[arrowIndex]):\n",
    "            openDict['typeOperation'] = 'BUY'\n",
    "            openDict['position'] = params['capital'] / LBandTuple[arrowIndex]\n",
    "            openDict['openPrice'] = LBandTuple[arrowIndex]\n",
    "            openDict['openIndex'] = arrowIndex\n",
    "            openDict['stopLossBorder'] = LBandTuple[arrowIndex] * (1 - params['stopLossThreshold'])\n",
    "            openDict['takeProfitBorder'] = LBandTuple[arrowIndex] * (1 + params['takeProfitThreshold'])\n",
    "            return openDict\n",
    "\n",
    "        elif (OpenTuple[arrowIndex] < HBandTuple[arrowIndex]) and (HighTuple[arrowIndex] > HBandTuple[arrowIndex]):\n",
    "            openDict['typeOperation'] = 'SELL'\n",
    "            openDict['position'] = -1 * (params['capital'] / HBandTuple[arrowIndex])\n",
    "            openDict['openPrice'] = HBandTuple[arrowIndex]\n",
    "            openDict['openIndex'] = arrowIndex\n",
    "            openDict['stopLossBorder'] = HBandTuple[arrowIndex] * (1 + params['stopLossThreshold'])\n",
    "            openDict['takeProfitBorder'] = HBandTuple[arrowIndex] * (1 - params['takeProfitThreshold'])\n",
    "            return openDict\n",
    "\n",
    "        else:\n",
    "            return open_position(arrowIndex=arrowIndex+1, recursionFilter=recursionFilter+1, LBandTuple=LBandTuple,\n",
    "                         HBandTuple=HBandTuple, LowTuple=LowTuple, HighTuple=HighTuple, OpenTuple=OpenTuple, params=params,\n",
    "                         logTuple=logTuple, retTuple=retTuple)\n",
    "    else:\n",
    "        return open_position(arrowIndex=arrowIndex+1, recursionFilter=recursionFilter+1, LBandTuple=LBandTuple,\n",
    "                         HBandTuple=HBandTuple, LowTuple=LowTuple, HighTuple=HighTuple, OpenTuple=OpenTuple, params=params,\n",
    "                         logTuple=logTuple, retTuple=retTuple)\n",
    "\n",
    "\n",
    "def close_position(arrowIndex, recursionFilter, openDict, LowTuple, HighTuple, OpenTuple, LightMeanTuple, FatMeanTuple,\n",
    "                   params, logTuple, retTuple, timeBorderCounter, indicatorVR) -> dict:\n",
    "    \"\"\"\n",
    "\n",
    "    :param arrowIndex:\n",
    "    :param recursionFilter:\n",
    "    :param openDict:\n",
    "    :param LowTuple:\n",
    "    :param HighTuple:\n",
    "    :param OpenTuple:\n",
    "    :param LightMeanTuple:\n",
    "    :param FatMeanTuple:\n",
    "    :param params:\n",
    "    :param logTuple:\n",
    "    :param retTuple:\n",
    "    :param timeBorderCounter:\n",
    "    :param indicatorVR:\n",
    "    :return:\n",
    "    \"\"\"\n",
    "    _recursion_limit = 10_000\n",
    "    NOT_NONE_SAVER = True\n",
    "\n",
    "    if recursionFilter > _recursion_limit:\n",
    "        return [arrowIndex, indicatorVR]\n",
    "\n",
    "    if timeBorderCounter >= params['timeBarrier']:\n",
    "        return {'typeHolding': 'endPeriod', 'closePrice': OpenTuple[arrowIndex+1],\n",
    "                        'closeIndex': arrowIndex+1}\n",
    "\n",
    "    elif openDict['typeOperation'] == 'BUY':\n",
    "        # Stop Loss\n",
    "        if LowTuple[arrowIndex] < openDict['stopLossBorder']:\n",
    "            return {'typeHolding': 'stopLoss', 'closePrice': openDict['stopLossBorder'],\n",
    "                        'closeIndex': arrowIndex + params['restAfterLoss']}\n",
    "\n",
    "        # Smart mean crossing\n",
    "        # Проверяем адекватное расположение между открытием и скользящей малой\n",
    "        elif (OpenTuple[arrowIndex] < LightMeanTuple[arrowIndex]) and (not indicatorVR):\n",
    "            # Проверяем что можно закрыть лонг о пересечение с малой скользящей\n",
    "            if HighTuple[arrowIndex] > LightMeanTuple[arrowIndex]:\n",
    "                # Проверяем можно ли продолжить удержание позиции\n",
    "                if LightMeanTuple[arrowIndex] < FatMeanTuple[arrowIndex]:\n",
    "                    if not reverse_variance_ratio(logTuple=logTuple[arrowIndex - params['varianceLookBack']: arrowIndex],\n",
    "                                      retTuple=retTuple[arrowIndex - params['varianceLookBack']: arrowIndex],\n",
    "                                      params=params, timeBorderCounter=timeBorderCounter+1):\n",
    "                        #   Local Trend Following recursion\n",
    "                        return close_position(arrowIndex=arrowIndex+1, recursionFilter=recursionFilter+1,\n",
    "                                              openDict=openDict, LowTuple=LowTuple, HighTuple=HighTuple,\n",
    "                                              OpenTuple=OpenTuple, LightMeanTuple=LightMeanTuple,\n",
    "                                              FatMeanTuple=FatMeanTuple, params=params, logTuple=logTuple,\n",
    "                                              retTuple=retTuple, timeBorderCounter=timeBorderCounter+1,\n",
    "                                              indicatorVR=True)\n",
    "\n",
    "                    else:\n",
    "                        # small MA\n",
    "                        return {'typeHolding': 'lightCross', 'closePrice': LightMeanTuple[arrowIndex],\n",
    "                                'closeIndex': arrowIndex }\n",
    "\n",
    "                else:\n",
    "                    # emergent exit\n",
    "                    return {'typeHolding': 'lightCrossEmergent', 'closePrice': LightMeanTuple[arrowIndex],\n",
    "                                'closeIndex': arrowIndex + params['restAfterFatProfit']}\n",
    "\n",
    "        # Ждем пересечение с толстой скользящей\n",
    "        if indicatorVR:\n",
    "            if OpenTuple[arrowIndex] < FatMeanTuple[arrowIndex]:\n",
    "                if HighTuple[arrowIndex] > FatMeanTuple[arrowIndex]:\n",
    "                    return {'typeHolding': 'fatExtraProfit', 'closePrice': FatMeanTuple[arrowIndex],\n",
    "                            'closeIndex': arrowIndex}\n",
    "        else:\n",
    "            # Recursion next\n",
    "            return close_position(arrowIndex=arrowIndex+1, recursionFilter=recursionFilter+1,\n",
    "                      openDict=openDict, LowTuple=LowTuple, HighTuple=HighTuple,\n",
    "                      OpenTuple=OpenTuple, LightMeanTuple=LightMeanTuple,\n",
    "                      FatMeanTuple=FatMeanTuple, params=params, logTuple=logTuple,\n",
    "                      retTuple=retTuple, timeBorderCounter=timeBorderCounter+1,\n",
    "                      indicatorVR=indicatorVR)\n",
    "\n",
    "    \"\"\"=================================================================================\"\"\"\n",
    "\n",
    "    if openDict['typeOperation'] == 'SELL':\n",
    "        # Stop Loss\n",
    "        if HighTuple[arrowIndex] > openDict['stopLossBorder']:\n",
    "            return {'typeHolding': 'stopLoss', 'closePrice': openDict['stopLossBorder'],\n",
    "                        'closeIndex': arrowIndex + params['restAfterLoss']}\n",
    "\n",
    "        # Smart mean crossing\n",
    "        # Проверяем адекватное расположение между открытием и скользящей малой\n",
    "        elif (OpenTuple[arrowIndex] > LightMeanTuple[arrowIndex]) and (not indicatorVR):\n",
    "            # Проверяем что можно закрыть шорт о пересечение с малой скользящей\n",
    "            if LowTuple[arrowIndex] < LightMeanTuple[arrowIndex]:\n",
    "                # Проверяем можно ли продолжить удержание позиции\n",
    "                if LightMeanTuple[arrowIndex] > FatMeanTuple[arrowIndex]:\n",
    "                    if not reverse_variance_ratio(logTuple=logTuple[arrowIndex - params['varianceLookBack']: arrowIndex],\n",
    "                                      retTuple=retTuple[arrowIndex - params['varianceLookBack']: arrowIndex],\n",
    "                                      params=params, timeBorderCounter=timeBorderCounter+1):\n",
    "                        #   Local Trend Following recursion\n",
    "                        return close_position(arrowIndex=arrowIndex+1, recursionFilter=recursionFilter+1,\n",
    "                                              openDict=openDict, LowTuple=LowTuple, HighTuple=HighTuple,\n",
    "                                              OpenTuple=OpenTuple, LightMeanTuple=LightMeanTuple,\n",
    "                                              FatMeanTuple=FatMeanTuple, params=params, logTuple=logTuple,\n",
    "                                              retTuple=retTuple, timeBorderCounter=timeBorderCounter+1,\n",
    "                                              indicatorVR=True)\n",
    "\n",
    "                    else:\n",
    "                        # small MA\n",
    "                        return {'typeHolding': 'lightCross', 'closePrice': LightMeanTuple[arrowIndex],\n",
    "                                'closeIndex': arrowIndex }\n",
    "\n",
    "                else:\n",
    "                    # emergent exit\n",
    "                    return {'typeHolding': 'lightCrossEmergent', 'closePrice': LightMeanTuple[arrowIndex],\n",
    "                                'closeIndex': arrowIndex + params['restAfterFatProfit']}\n",
    "            else:\n",
    "                return close_position(arrowIndex=arrowIndex+1, recursionFilter=recursionFilter+1,\n",
    "                      openDict=openDict, LowTuple=LowTuple, HighTuple=HighTuple,\n",
    "                      OpenTuple=OpenTuple, LightMeanTuple=LightMeanTuple,\n",
    "                      FatMeanTuple=FatMeanTuple, params=params, logTuple=logTuple,\n",
    "                      retTuple=retTuple, timeBorderCounter=timeBorderCounter+1,\n",
    "                      indicatorVR=indicatorVR)\n",
    "\n",
    "        # Ждем пересечение с толстой скользящей\n",
    "        if indicatorVR:\n",
    "            if OpenTuple[arrowIndex] > FatMeanTuple[arrowIndex]:\n",
    "                if LowTuple[arrowIndex] < FatMeanTuple[arrowIndex]:\n",
    "                    return {'typeHolding': 'fatExtraProfit', 'closePrice': FatMeanTuple[arrowIndex],\n",
    "                            'closeIndex': arrowIndex}\n",
    "        else:\n",
    "            # Recursion next\n",
    "            return close_position(arrowIndex=arrowIndex+1, recursionFilter=recursionFilter+1,\n",
    "                      openDict=openDict, LowTuple=LowTuple, HighTuple=HighTuple,\n",
    "                      OpenTuple=OpenTuple, LightMeanTuple=LightMeanTuple,\n",
    "                      FatMeanTuple=FatMeanTuple, params=params, logTuple=logTuple,\n",
    "                      retTuple=retTuple, timeBorderCounter=timeBorderCounter+1,\n",
    "                      indicatorVR=indicatorVR)\n",
    "\n",
    "    if NOT_NONE_SAVER:\n",
    "        return close_position(arrowIndex=arrowIndex + 1, recursionFilter=recursionFilter + 1,\n",
    "                              openDict=openDict, LowTuple=LowTuple, HighTuple=HighTuple,\n",
    "                              OpenTuple=OpenTuple, LightMeanTuple=LightMeanTuple,\n",
    "                              FatMeanTuple=FatMeanTuple, params=params, logTuple=logTuple,\n",
    "                              retTuple=retTuple, timeBorderCounter=timeBorderCounter + 1,\n",
    "                              indicatorVR=indicatorVR)\n",
    "\n",
    "\n",
    "startParams = create_grid(initParameters)\n",
    "cookedData = cook_data(df=inpData.copy(), params=startParams)\n",
    "\n",
    "RESULT = list()\n",
    "openPOS = open_position(arrowIndex=startParams['varianceLookBack'], recursionFilter=0, LBandTuple=cookedData.LBBand, HBandTuple=cookedData.HBBand,\n",
    "             LowTuple=cookedData.low, HighTuple=cookedData.high, OpenTuple=cookedData.open , params=startParams,\n",
    "             logTuple=cookedData.logOpenPrice, retTuple=cookedData.retOpenPrice)\n",
    "\n",
    "closePos = close_position(arrowIndex=openPOS['openIndex'], recursionFilter=0, openDict=openPOS, LowTuple=cookedData.low,\n",
    "                          HighTuple=cookedData.high, OpenTuple=cookedData.open, LightMeanTuple=cookedData.rollMean,\n",
    "                          FatMeanTuple=cookedData.fatMean, params=startParams, logTuple=cookedData.logOpenPrice,\n",
    "                          retTuple=cookedData.retOpenPrice, timeBorderCounter=0, indicatorVR=False)\n",
    "RESULT.append({**openPOS, **closePos})\n",
    "openPOS = startParams['varianceLookBack'] + closePos['closeIndex']\n",
    "for i in tqdm(range(450)):\n",
    "    while type(openPOS) is not dict:\n",
    "            openPOS = open_position(arrowIndex=openPOS, recursionFilter=0, LBandTuple=cookedData.LBBand, HBandTuple=cookedData.HBBand,\n",
    "             LowTuple=cookedData.low, HighTuple=cookedData.high, OpenTuple=cookedData.open , params=startParams,\n",
    "             logTuple=cookedData.logOpenPrice, retTuple=cookedData.retOpenPrice)\n",
    "\n",
    "    closePos = int(openPOS['openIndex'] + 1)\n",
    "    indicatorVR = False\n",
    "    while type(closePos) is not dict:\n",
    "            closePos = close_position(arrowIndex=closePos, recursionFilter=0, openDict=openPOS, LowTuple=cookedData.low,\n",
    "                              HighTuple=cookedData.high, OpenTuple=cookedData.open, LightMeanTuple=cookedData.rollMean,\n",
    "                              FatMeanTuple=cookedData.fatMean, params=startParams, logTuple=cookedData.logOpenPrice,\n",
    "                              retTuple=cookedData.retOpenPrice, timeBorderCounter=0, indicatorVR=indicatorVR)\n",
    "            if type(closePos) == list:\n",
    "                indicatorVR = closePos[1]\n",
    "                closePos = closePos[0]\n",
    "\n",
    "    total_dict = {**openPOS, **closePos}\n",
    "    RESULT.append(total_dict)\n",
    "    openPOS = closePos['closeIndex'] + 1\n",
    "\n",
    "RESULT = pd.DataFrame(RESULT)"
   ],
   "metadata": {
    "collapsed": false,
    "pycharm": {
     "name": "#%%\n"
    }
   }
  },
  {
   "cell_type": "code",
   "execution_count": 5,
   "outputs": [
    {
     "data": {
      "text/plain": "    typeOperation    position   openPrice  openIndex  stopLossBorder  \\\n0             BUY  177.600397  112.612361       1148       90.089888   \n5            SELL -176.271095  113.461597       5037      136.153917   \n9            SELL -176.608149  113.245057       7420      135.894069   \n15            BUY  177.323673  112.788099      11610       90.230479   \n18            BUY  177.635791  112.589923      13286       90.071938   \n..            ...         ...         ...        ...             ...   \n436           BUY  184.115701  108.627346     274726       86.901877   \n438          SELL -183.559916  108.956249     276106      130.747499   \n439           BUY  183.843361  108.788263     276276       87.030611   \n440           BUY  184.281079  108.529862     276913       86.823889   \n445          SELL -184.006263  108.691953     279912      130.430343   \n\n     takeProfitBorder     typeHolding  closePrice  closeIndex  \n0          135.134833  fatExtraProfit  112.746086        1561  \n5           90.769278  fatExtraProfit  113.305717        5305  \n9           90.596046  fatExtraProfit  113.218331        7694  \n15         135.345719  fatExtraProfit  112.942720       11927  \n18         135.107907  fatExtraProfit  112.725958       13858  \n..                ...             ...         ...         ...  \n436        130.352816  fatExtraProfit  108.933532      275213  \n438         87.165000  fatExtraProfit  108.841194      276127  \n439        130.545916  fatExtraProfit  108.797693      276594  \n440        130.235834  fatExtraProfit  108.770349      277117  \n445         86.953562  fatExtraProfit  108.522440      280090  \n\n[101 rows x 9 columns]",
      "text/html": "<div>\n<style scoped>\n    .dataframe tbody tr th:only-of-type {\n        vertical-align: middle;\n    }\n\n    .dataframe tbody tr th {\n        vertical-align: top;\n    }\n\n    .dataframe thead th {\n        text-align: right;\n    }\n</style>\n<table border=\"1\" class=\"dataframe\">\n  <thead>\n    <tr style=\"text-align: right;\">\n      <th></th>\n      <th>typeOperation</th>\n      <th>position</th>\n      <th>openPrice</th>\n      <th>openIndex</th>\n      <th>stopLossBorder</th>\n      <th>takeProfitBorder</th>\n      <th>typeHolding</th>\n      <th>closePrice</th>\n      <th>closeIndex</th>\n    </tr>\n  </thead>\n  <tbody>\n    <tr>\n      <th>0</th>\n      <td>BUY</td>\n      <td>177.600397</td>\n      <td>112.612361</td>\n      <td>1148</td>\n      <td>90.089888</td>\n      <td>135.134833</td>\n      <td>fatExtraProfit</td>\n      <td>112.746086</td>\n      <td>1561</td>\n    </tr>\n    <tr>\n      <th>5</th>\n      <td>SELL</td>\n      <td>-176.271095</td>\n      <td>113.461597</td>\n      <td>5037</td>\n      <td>136.153917</td>\n      <td>90.769278</td>\n      <td>fatExtraProfit</td>\n      <td>113.305717</td>\n      <td>5305</td>\n    </tr>\n    <tr>\n      <th>9</th>\n      <td>SELL</td>\n      <td>-176.608149</td>\n      <td>113.245057</td>\n      <td>7420</td>\n      <td>135.894069</td>\n      <td>90.596046</td>\n      <td>fatExtraProfit</td>\n      <td>113.218331</td>\n      <td>7694</td>\n    </tr>\n    <tr>\n      <th>15</th>\n      <td>BUY</td>\n      <td>177.323673</td>\n      <td>112.788099</td>\n      <td>11610</td>\n      <td>90.230479</td>\n      <td>135.345719</td>\n      <td>fatExtraProfit</td>\n      <td>112.942720</td>\n      <td>11927</td>\n    </tr>\n    <tr>\n      <th>18</th>\n      <td>BUY</td>\n      <td>177.635791</td>\n      <td>112.589923</td>\n      <td>13286</td>\n      <td>90.071938</td>\n      <td>135.107907</td>\n      <td>fatExtraProfit</td>\n      <td>112.725958</td>\n      <td>13858</td>\n    </tr>\n    <tr>\n      <th>...</th>\n      <td>...</td>\n      <td>...</td>\n      <td>...</td>\n      <td>...</td>\n      <td>...</td>\n      <td>...</td>\n      <td>...</td>\n      <td>...</td>\n      <td>...</td>\n    </tr>\n    <tr>\n      <th>436</th>\n      <td>BUY</td>\n      <td>184.115701</td>\n      <td>108.627346</td>\n      <td>274726</td>\n      <td>86.901877</td>\n      <td>130.352816</td>\n      <td>fatExtraProfit</td>\n      <td>108.933532</td>\n      <td>275213</td>\n    </tr>\n    <tr>\n      <th>438</th>\n      <td>SELL</td>\n      <td>-183.559916</td>\n      <td>108.956249</td>\n      <td>276106</td>\n      <td>130.747499</td>\n      <td>87.165000</td>\n      <td>fatExtraProfit</td>\n      <td>108.841194</td>\n      <td>276127</td>\n    </tr>\n    <tr>\n      <th>439</th>\n      <td>BUY</td>\n      <td>183.843361</td>\n      <td>108.788263</td>\n      <td>276276</td>\n      <td>87.030611</td>\n      <td>130.545916</td>\n      <td>fatExtraProfit</td>\n      <td>108.797693</td>\n      <td>276594</td>\n    </tr>\n    <tr>\n      <th>440</th>\n      <td>BUY</td>\n      <td>184.281079</td>\n      <td>108.529862</td>\n      <td>276913</td>\n      <td>86.823889</td>\n      <td>130.235834</td>\n      <td>fatExtraProfit</td>\n      <td>108.770349</td>\n      <td>277117</td>\n    </tr>\n    <tr>\n      <th>445</th>\n      <td>SELL</td>\n      <td>-184.006263</td>\n      <td>108.691953</td>\n      <td>279912</td>\n      <td>130.430343</td>\n      <td>86.953562</td>\n      <td>fatExtraProfit</td>\n      <td>108.522440</td>\n      <td>280090</td>\n    </tr>\n  </tbody>\n</table>\n<p>101 rows × 9 columns</p>\n</div>"
     },
     "execution_count": 5,
     "metadata": {},
     "output_type": "execute_result"
    }
   ],
   "source": [
    "RESULT[RESULT.typeHolding == 'fatExtraProfit']"
   ],
   "metadata": {
    "collapsed": false,
    "pycharm": {
     "name": "#%%\n"
    }
   }
  },
  {
   "cell_type": "code",
   "execution_count": 6,
   "outputs": [
    {
     "data": {
      "text/plain": "    typeOperation    position   openPrice  openIndex  stopLossBorder  \\\n8             BUY  177.031040  112.974538       6381       90.379631   \n10            BUY  176.745460  113.157079       7787       90.525663   \n11            BUY  177.447007  112.709706       8589       90.167765   \n29            BUY  176.583856  113.260637      20449       90.608509   \n36            BUY  175.108141  114.215135      25557       91.372108   \n..            ...         ...         ...        ...             ...   \n417           BUY  182.931854  109.330330     263884       87.464264   \n429           BUY  184.787664  108.232333     270030       86.585866   \n442           BUY  184.080139  108.648332     277910       86.918665   \n443           BUY  184.464142  108.422156     278756       86.737725   \n446           BUY  184.254558  108.545483     280093       86.836387   \n\n     takeProfitBorder typeHolding  closePrice  closeIndex  \n8          135.569446   endPeriod     113.021        6983  \n10         135.788495   endPeriod     112.756        8389  \n11         135.251648   endPeriod     112.749        9191  \n29         135.912764   endPeriod     113.160       21051  \n36         137.058162   endPeriod     113.904       26159  \n..                ...         ...         ...         ...  \n417        131.196396   endPeriod     109.331      264486  \n429        129.878800   endPeriod     108.435      270632  \n442        130.377998   endPeriod     108.512      278512  \n443        130.106587   endPeriod     108.474      279358  \n446        130.254580   endPeriod     108.863      280695  \n\n[76 rows x 9 columns]",
      "text/html": "<div>\n<style scoped>\n    .dataframe tbody tr th:only-of-type {\n        vertical-align: middle;\n    }\n\n    .dataframe tbody tr th {\n        vertical-align: top;\n    }\n\n    .dataframe thead th {\n        text-align: right;\n    }\n</style>\n<table border=\"1\" class=\"dataframe\">\n  <thead>\n    <tr style=\"text-align: right;\">\n      <th></th>\n      <th>typeOperation</th>\n      <th>position</th>\n      <th>openPrice</th>\n      <th>openIndex</th>\n      <th>stopLossBorder</th>\n      <th>takeProfitBorder</th>\n      <th>typeHolding</th>\n      <th>closePrice</th>\n      <th>closeIndex</th>\n    </tr>\n  </thead>\n  <tbody>\n    <tr>\n      <th>8</th>\n      <td>BUY</td>\n      <td>177.031040</td>\n      <td>112.974538</td>\n      <td>6381</td>\n      <td>90.379631</td>\n      <td>135.569446</td>\n      <td>endPeriod</td>\n      <td>113.021</td>\n      <td>6983</td>\n    </tr>\n    <tr>\n      <th>10</th>\n      <td>BUY</td>\n      <td>176.745460</td>\n      <td>113.157079</td>\n      <td>7787</td>\n      <td>90.525663</td>\n      <td>135.788495</td>\n      <td>endPeriod</td>\n      <td>112.756</td>\n      <td>8389</td>\n    </tr>\n    <tr>\n      <th>11</th>\n      <td>BUY</td>\n      <td>177.447007</td>\n      <td>112.709706</td>\n      <td>8589</td>\n      <td>90.167765</td>\n      <td>135.251648</td>\n      <td>endPeriod</td>\n      <td>112.749</td>\n      <td>9191</td>\n    </tr>\n    <tr>\n      <th>29</th>\n      <td>BUY</td>\n      <td>176.583856</td>\n      <td>113.260637</td>\n      <td>20449</td>\n      <td>90.608509</td>\n      <td>135.912764</td>\n      <td>endPeriod</td>\n      <td>113.160</td>\n      <td>21051</td>\n    </tr>\n    <tr>\n      <th>36</th>\n      <td>BUY</td>\n      <td>175.108141</td>\n      <td>114.215135</td>\n      <td>25557</td>\n      <td>91.372108</td>\n      <td>137.058162</td>\n      <td>endPeriod</td>\n      <td>113.904</td>\n      <td>26159</td>\n    </tr>\n    <tr>\n      <th>...</th>\n      <td>...</td>\n      <td>...</td>\n      <td>...</td>\n      <td>...</td>\n      <td>...</td>\n      <td>...</td>\n      <td>...</td>\n      <td>...</td>\n      <td>...</td>\n    </tr>\n    <tr>\n      <th>417</th>\n      <td>BUY</td>\n      <td>182.931854</td>\n      <td>109.330330</td>\n      <td>263884</td>\n      <td>87.464264</td>\n      <td>131.196396</td>\n      <td>endPeriod</td>\n      <td>109.331</td>\n      <td>264486</td>\n    </tr>\n    <tr>\n      <th>429</th>\n      <td>BUY</td>\n      <td>184.787664</td>\n      <td>108.232333</td>\n      <td>270030</td>\n      <td>86.585866</td>\n      <td>129.878800</td>\n      <td>endPeriod</td>\n      <td>108.435</td>\n      <td>270632</td>\n    </tr>\n    <tr>\n      <th>442</th>\n      <td>BUY</td>\n      <td>184.080139</td>\n      <td>108.648332</td>\n      <td>277910</td>\n      <td>86.918665</td>\n      <td>130.377998</td>\n      <td>endPeriod</td>\n      <td>108.512</td>\n      <td>278512</td>\n    </tr>\n    <tr>\n      <th>443</th>\n      <td>BUY</td>\n      <td>184.464142</td>\n      <td>108.422156</td>\n      <td>278756</td>\n      <td>86.737725</td>\n      <td>130.106587</td>\n      <td>endPeriod</td>\n      <td>108.474</td>\n      <td>279358</td>\n    </tr>\n    <tr>\n      <th>446</th>\n      <td>BUY</td>\n      <td>184.254558</td>\n      <td>108.545483</td>\n      <td>280093</td>\n      <td>86.836387</td>\n      <td>130.254580</td>\n      <td>endPeriod</td>\n      <td>108.863</td>\n      <td>280695</td>\n    </tr>\n  </tbody>\n</table>\n<p>76 rows × 9 columns</p>\n</div>"
     },
     "execution_count": 6,
     "metadata": {},
     "output_type": "execute_result"
    }
   ],
   "source": [
    "RESULT[(RESULT.typeOperation == 'BUY') & (RESULT.typeHolding == 'endPeriod')]"
   ],
   "metadata": {
    "collapsed": false,
    "pycharm": {
     "name": "#%%\n"
    }
   }
  },
  {
   "cell_type": "code",
   "execution_count": 7,
   "outputs": [
    {
     "data": {
      "text/plain": "0       21.749684\n1       34.769687\n2      -35.405433\n3      -23.296429\n4      -16.076900\n          ...    \n446   -121.322675\n447   -197.491895\n448   -214.449749\n449   -233.068965\n450   -216.960012\nLength: 451, dtype: float64"
     },
     "execution_count": 7,
     "metadata": {},
     "output_type": "execute_result"
    }
   ],
   "source": [
    "(RESULT[\"position\"] * (RESULT[\"closePrice\"] - RESULT[\"openPrice\"]) - 2 if (RESULT[\"typeOperation\"] == 'BUY').bool else abs(RESULT[\"position\"]) * (RESULT[\"openPrice\"] - RESULT[\"closePrice\"]) - 2).cumsum()"
   ],
   "metadata": {
    "collapsed": false,
    "pycharm": {
     "name": "#%%\n"
    }
   }
  },
  {
   "cell_type": "code",
   "execution_count": 8,
   "outputs": [
    {
     "data": {
      "text/plain": "    typeOperation    position   openPrice  openIndex  stopLossBorder  \\\n0             BUY  177.600397  112.612361       1148       90.089888   \n1            SELL -176.783221  113.132909       3089      135.759491   \n2            SELL -176.681356  113.198135       3270      135.837762   \n3            SELL -176.152059  113.538270       3884      136.245924   \n4             BUY  176.505628  113.310834       4309       90.648667   \n..            ...         ...         ...        ...             ...   \n446           BUY  184.254558  108.545483     280093       86.836387   \n447          SELL -183.785398  108.822574     280706      130.587088   \n448           BUY  183.125728  109.214583     281343       87.371666   \n449           BUY  183.595394  108.935195     282051       87.148156   \n450          SELL -183.684970  108.882071     282829      130.658485   \n\n     takeProfitBorder         typeHolding  closePrice  closeIndex     profit  \n0          135.134833      fatExtraProfit  112.746086        1561  21.749684  \n1           90.506327          lightCross  113.047946        3247  13.020003  \n2           90.558508           endPeriod  113.584000        3872 -70.175121  \n3           90.830616          lightCross  113.458174        4155  12.109004  \n4          135.973001  lightCrossEmergent  113.363068        4934   7.219529  \n..                ...                 ...         ...         ...        ...  \n446        130.254580           endPeriod  108.863000      280695  56.503901  \n447         87.058059          lightCross  109.226138      281151 -76.169220  \n448        131.057499  lightCrossEmergent  109.132902      281990 -16.957854  \n449        130.722234          lightCross  108.844674      282534 -18.619216  \n450         87.105657  lightCrossEmergent  108.783484      283219  16.108953  \n\n[451 rows x 10 columns]",
      "text/html": "<div>\n<style scoped>\n    .dataframe tbody tr th:only-of-type {\n        vertical-align: middle;\n    }\n\n    .dataframe tbody tr th {\n        vertical-align: top;\n    }\n\n    .dataframe thead th {\n        text-align: right;\n    }\n</style>\n<table border=\"1\" class=\"dataframe\">\n  <thead>\n    <tr style=\"text-align: right;\">\n      <th></th>\n      <th>typeOperation</th>\n      <th>position</th>\n      <th>openPrice</th>\n      <th>openIndex</th>\n      <th>stopLossBorder</th>\n      <th>takeProfitBorder</th>\n      <th>typeHolding</th>\n      <th>closePrice</th>\n      <th>closeIndex</th>\n      <th>profit</th>\n    </tr>\n  </thead>\n  <tbody>\n    <tr>\n      <th>0</th>\n      <td>BUY</td>\n      <td>177.600397</td>\n      <td>112.612361</td>\n      <td>1148</td>\n      <td>90.089888</td>\n      <td>135.134833</td>\n      <td>fatExtraProfit</td>\n      <td>112.746086</td>\n      <td>1561</td>\n      <td>21.749684</td>\n    </tr>\n    <tr>\n      <th>1</th>\n      <td>SELL</td>\n      <td>-176.783221</td>\n      <td>113.132909</td>\n      <td>3089</td>\n      <td>135.759491</td>\n      <td>90.506327</td>\n      <td>lightCross</td>\n      <td>113.047946</td>\n      <td>3247</td>\n      <td>13.020003</td>\n    </tr>\n    <tr>\n      <th>2</th>\n      <td>SELL</td>\n      <td>-176.681356</td>\n      <td>113.198135</td>\n      <td>3270</td>\n      <td>135.837762</td>\n      <td>90.558508</td>\n      <td>endPeriod</td>\n      <td>113.584000</td>\n      <td>3872</td>\n      <td>-70.175121</td>\n    </tr>\n    <tr>\n      <th>3</th>\n      <td>SELL</td>\n      <td>-176.152059</td>\n      <td>113.538270</td>\n      <td>3884</td>\n      <td>136.245924</td>\n      <td>90.830616</td>\n      <td>lightCross</td>\n      <td>113.458174</td>\n      <td>4155</td>\n      <td>12.109004</td>\n    </tr>\n    <tr>\n      <th>4</th>\n      <td>BUY</td>\n      <td>176.505628</td>\n      <td>113.310834</td>\n      <td>4309</td>\n      <td>90.648667</td>\n      <td>135.973001</td>\n      <td>lightCrossEmergent</td>\n      <td>113.363068</td>\n      <td>4934</td>\n      <td>7.219529</td>\n    </tr>\n    <tr>\n      <th>...</th>\n      <td>...</td>\n      <td>...</td>\n      <td>...</td>\n      <td>...</td>\n      <td>...</td>\n      <td>...</td>\n      <td>...</td>\n      <td>...</td>\n      <td>...</td>\n      <td>...</td>\n    </tr>\n    <tr>\n      <th>446</th>\n      <td>BUY</td>\n      <td>184.254558</td>\n      <td>108.545483</td>\n      <td>280093</td>\n      <td>86.836387</td>\n      <td>130.254580</td>\n      <td>endPeriod</td>\n      <td>108.863000</td>\n      <td>280695</td>\n      <td>56.503901</td>\n    </tr>\n    <tr>\n      <th>447</th>\n      <td>SELL</td>\n      <td>-183.785398</td>\n      <td>108.822574</td>\n      <td>280706</td>\n      <td>130.587088</td>\n      <td>87.058059</td>\n      <td>lightCross</td>\n      <td>109.226138</td>\n      <td>281151</td>\n      <td>-76.169220</td>\n    </tr>\n    <tr>\n      <th>448</th>\n      <td>BUY</td>\n      <td>183.125728</td>\n      <td>109.214583</td>\n      <td>281343</td>\n      <td>87.371666</td>\n      <td>131.057499</td>\n      <td>lightCrossEmergent</td>\n      <td>109.132902</td>\n      <td>281990</td>\n      <td>-16.957854</td>\n    </tr>\n    <tr>\n      <th>449</th>\n      <td>BUY</td>\n      <td>183.595394</td>\n      <td>108.935195</td>\n      <td>282051</td>\n      <td>87.148156</td>\n      <td>130.722234</td>\n      <td>lightCross</td>\n      <td>108.844674</td>\n      <td>282534</td>\n      <td>-18.619216</td>\n    </tr>\n    <tr>\n      <th>450</th>\n      <td>SELL</td>\n      <td>-183.684970</td>\n      <td>108.882071</td>\n      <td>282829</td>\n      <td>130.658485</td>\n      <td>87.105657</td>\n      <td>lightCrossEmergent</td>\n      <td>108.783484</td>\n      <td>283219</td>\n      <td>16.108953</td>\n    </tr>\n  </tbody>\n</table>\n<p>451 rows × 10 columns</p>\n</div>"
     },
     "execution_count": 8,
     "metadata": {},
     "output_type": "execute_result"
    }
   ],
   "source": [
    "copy_df = RESULT.copy()\n",
    "copy_df['profit'] = (RESULT[\"position\"] * (RESULT[\"closePrice\"] - RESULT[\"openPrice\"]) - 2 if (RESULT[\"typeOperation\"] == 'BUY').bool else abs(RESULT[\"position\"]) * (RESULT[\"openPrice\"] - RESULT[\"closePrice\"]) - 2)\n",
    "copy_df"
   ],
   "metadata": {
    "collapsed": false,
    "pycharm": {
     "name": "#%%\n"
    }
   }
  },
  {
   "cell_type": "code",
   "execution_count": 9,
   "outputs": [
    {
     "data": {
      "text/plain": "    typeOperation    position   openPrice  openIndex  stopLossBorder  \\\n0             BUY  177.600397  112.612361       1148       90.089888   \n5            SELL -176.271095  113.461597       5037      136.153917   \n9            SELL -176.608149  113.245057       7420      135.894069   \n15            BUY  177.323673  112.788099      11610       90.230479   \n18            BUY  177.635791  112.589923      13286       90.071938   \n..            ...         ...         ...        ...             ...   \n426           BUY  182.560256  109.552870     268221       87.642296   \n436           BUY  184.115701  108.627346     274726       86.901877   \n438          SELL -183.559916  108.956249     276106      130.747499   \n440           BUY  184.281079  108.529862     276913       86.823889   \n445          SELL -184.006263  108.691953     279912      130.430343   \n\n     takeProfitBorder     typeHolding  closePrice  closeIndex     profit  \n0          135.134833  fatExtraProfit  112.746086        1561  21.749684  \n5           90.769278  fatExtraProfit  113.305717        5305  25.477123  \n9           90.596046  fatExtraProfit  113.218331        7694   2.720039  \n15         135.345719  fatExtraProfit  112.942720       11927  25.417962  \n18         135.107907  fatExtraProfit  112.725958       13858  22.164676  \n..                ...             ...         ...         ...        ...  \n426        131.463444  fatExtraProfit  109.592365      268572   5.210278  \n436        130.352816  fatExtraProfit  108.933532      275213  54.373511  \n438         87.165000  fatExtraProfit  108.841194      276127  19.119630  \n440        130.235834  fatExtraProfit  108.770349      277117  42.317271  \n445         86.953562  fatExtraProfit  108.522440      280090  29.191326  \n\n[94 rows x 10 columns]",
      "text/html": "<div>\n<style scoped>\n    .dataframe tbody tr th:only-of-type {\n        vertical-align: middle;\n    }\n\n    .dataframe tbody tr th {\n        vertical-align: top;\n    }\n\n    .dataframe thead th {\n        text-align: right;\n    }\n</style>\n<table border=\"1\" class=\"dataframe\">\n  <thead>\n    <tr style=\"text-align: right;\">\n      <th></th>\n      <th>typeOperation</th>\n      <th>position</th>\n      <th>openPrice</th>\n      <th>openIndex</th>\n      <th>stopLossBorder</th>\n      <th>takeProfitBorder</th>\n      <th>typeHolding</th>\n      <th>closePrice</th>\n      <th>closeIndex</th>\n      <th>profit</th>\n    </tr>\n  </thead>\n  <tbody>\n    <tr>\n      <th>0</th>\n      <td>BUY</td>\n      <td>177.600397</td>\n      <td>112.612361</td>\n      <td>1148</td>\n      <td>90.089888</td>\n      <td>135.134833</td>\n      <td>fatExtraProfit</td>\n      <td>112.746086</td>\n      <td>1561</td>\n      <td>21.749684</td>\n    </tr>\n    <tr>\n      <th>5</th>\n      <td>SELL</td>\n      <td>-176.271095</td>\n      <td>113.461597</td>\n      <td>5037</td>\n      <td>136.153917</td>\n      <td>90.769278</td>\n      <td>fatExtraProfit</td>\n      <td>113.305717</td>\n      <td>5305</td>\n      <td>25.477123</td>\n    </tr>\n    <tr>\n      <th>9</th>\n      <td>SELL</td>\n      <td>-176.608149</td>\n      <td>113.245057</td>\n      <td>7420</td>\n      <td>135.894069</td>\n      <td>90.596046</td>\n      <td>fatExtraProfit</td>\n      <td>113.218331</td>\n      <td>7694</td>\n      <td>2.720039</td>\n    </tr>\n    <tr>\n      <th>15</th>\n      <td>BUY</td>\n      <td>177.323673</td>\n      <td>112.788099</td>\n      <td>11610</td>\n      <td>90.230479</td>\n      <td>135.345719</td>\n      <td>fatExtraProfit</td>\n      <td>112.942720</td>\n      <td>11927</td>\n      <td>25.417962</td>\n    </tr>\n    <tr>\n      <th>18</th>\n      <td>BUY</td>\n      <td>177.635791</td>\n      <td>112.589923</td>\n      <td>13286</td>\n      <td>90.071938</td>\n      <td>135.107907</td>\n      <td>fatExtraProfit</td>\n      <td>112.725958</td>\n      <td>13858</td>\n      <td>22.164676</td>\n    </tr>\n    <tr>\n      <th>...</th>\n      <td>...</td>\n      <td>...</td>\n      <td>...</td>\n      <td>...</td>\n      <td>...</td>\n      <td>...</td>\n      <td>...</td>\n      <td>...</td>\n      <td>...</td>\n      <td>...</td>\n    </tr>\n    <tr>\n      <th>426</th>\n      <td>BUY</td>\n      <td>182.560256</td>\n      <td>109.552870</td>\n      <td>268221</td>\n      <td>87.642296</td>\n      <td>131.463444</td>\n      <td>fatExtraProfit</td>\n      <td>109.592365</td>\n      <td>268572</td>\n      <td>5.210278</td>\n    </tr>\n    <tr>\n      <th>436</th>\n      <td>BUY</td>\n      <td>184.115701</td>\n      <td>108.627346</td>\n      <td>274726</td>\n      <td>86.901877</td>\n      <td>130.352816</td>\n      <td>fatExtraProfit</td>\n      <td>108.933532</td>\n      <td>275213</td>\n      <td>54.373511</td>\n    </tr>\n    <tr>\n      <th>438</th>\n      <td>SELL</td>\n      <td>-183.559916</td>\n      <td>108.956249</td>\n      <td>276106</td>\n      <td>130.747499</td>\n      <td>87.165000</td>\n      <td>fatExtraProfit</td>\n      <td>108.841194</td>\n      <td>276127</td>\n      <td>19.119630</td>\n    </tr>\n    <tr>\n      <th>440</th>\n      <td>BUY</td>\n      <td>184.281079</td>\n      <td>108.529862</td>\n      <td>276913</td>\n      <td>86.823889</td>\n      <td>130.235834</td>\n      <td>fatExtraProfit</td>\n      <td>108.770349</td>\n      <td>277117</td>\n      <td>42.317271</td>\n    </tr>\n    <tr>\n      <th>445</th>\n      <td>SELL</td>\n      <td>-184.006263</td>\n      <td>108.691953</td>\n      <td>279912</td>\n      <td>130.430343</td>\n      <td>86.953562</td>\n      <td>fatExtraProfit</td>\n      <td>108.522440</td>\n      <td>280090</td>\n      <td>29.191326</td>\n    </tr>\n  </tbody>\n</table>\n<p>94 rows × 10 columns</p>\n</div>"
     },
     "execution_count": 9,
     "metadata": {},
     "output_type": "execute_result"
    }
   ],
   "source": [
    "copy_df[(copy_df.typeHolding == 'fatExtraProfit') & (copy_df.profit > 0)]"
   ],
   "metadata": {
    "collapsed": false,
    "pycharm": {
     "name": "#%%\n"
    }
   }
  },
  {
   "cell_type": "code",
   "execution_count": 10,
   "outputs": [
    {
     "name": "stdout",
     "output_type": "stream",
     "text": [
      "W=62.53%, L = 37.47%\n",
      "average profit of a positive trade: 18.96\n",
      "average profit of a negative trade: -32.92\n"
     ]
    }
   ],
   "source": [
    "print(f\"W={copy_df[copy_df.profit > 0].shape[0] / copy_df.shape[0]:.2%}, L = {copy_df[copy_df.profit < 0].shape[0] / copy_df.shape[0]:.2%}\")\n",
    "print(f'average profit of a positive trade: {copy_df[copy_df.profit > 0].profit.mean():.2f}')\n",
    "print(f'average profit of a negative trade: {copy_df[copy_df.profit < 0].profit.mean():.2f}')"
   ],
   "metadata": {
    "collapsed": false,
    "pycharm": {
     "name": "#%%\n"
    }
   }
  },
  {
   "cell_type": "code",
   "execution_count": 11,
   "outputs": [
    {
     "name": "stdout",
     "output_type": "stream",
     "text": [
      "average profit of a negative trade: -32.92\n"
     ]
    },
    {
     "data": {
      "text/plain": "(array([  1.,   0.,   0.,   0.,   0.,   0.,   2.,  11.,  45., 110.]),\n array([-3.62695919e+02, -3.26437249e+02, -2.90178579e+02, -2.53919909e+02,\n        -2.17661239e+02, -1.81402568e+02, -1.45143898e+02, -1.08885228e+02,\n        -7.26265579e+01, -3.63678877e+01, -1.09217505e-01]),\n <BarContainer object of 10 artists>)"
     },
     "execution_count": 11,
     "metadata": {},
     "output_type": "execute_result"
    },
    {
     "data": {
      "text/plain": "<Figure size 432x288 with 1 Axes>",
      "image/png": "[encoded data removed]"
     },
     "metadata": {
      "needs_background": "light"
     },
     "output_type": "display_data"
    }
   ],
   "source": [
    "print(f'average profit of a negative trade: {copy_df[(copy_df.profit < 0) & (copy_df.profit > -400)].profit.mean():.2f}')\n",
    "plt.hist(copy_df[(copy_df.profit < 0) & (copy_df.profit > -400)].profit.values)"
   ],
   "metadata": {
    "collapsed": false,
    "pycharm": {
     "name": "#%%\n"
    }
   }
  },
  {
   "cell_type": "code",
   "execution_count": 12,
   "outputs": [
    {
     "data": {
      "text/plain": "                   position                                                 \\\n                      count       mean         std         min         25%   \ntypeHolding                                                                  \nendPeriod             118.0 -15.341577  180.750206 -185.462391 -181.583401   \nfatExtraProfit          7.0  79.233105  177.876859 -181.548834    0.429520   \nlightCross             27.0  33.242106  182.349186 -184.406650 -182.642366   \nlightCrossEmergent     17.0  32.067015  183.384996 -183.897309 -178.765238   \n\n                                                       openPrice              \\\n                           50%         75%         max     count        mean   \ntypeHolding                                                                    \nendPeriod          -175.972725  180.421590  185.593208     118.0  110.756138   \nfatExtraProfit      183.135878  183.864759  184.456131       7.0  109.446996   \nlightCross          179.274650  182.078310  184.691416      27.0  109.909932   \nlightCrossEmergent  178.953876  181.789592  183.125728      17.0  110.659730   \n\n                    ... closeIndex           profit                        \\\n                    ...        75%       max  count       mean        std   \ntypeHolding         ...                                                     \nendPeriod           ...  190669.25  278512.0  118.0 -38.830945  40.368944   \nfatExtraProfit      ...  235927.50  276594.0    7.0  -4.394711   6.316535   \nlightCross          ...  250309.50  282534.0   27.0 -30.562071  22.315580   \nlightCrossEmergent  ...  232165.00  281990.0   17.0  -7.406959   6.907891   \n\n                                                                           \n                           min        25%        50%        75%       max  \ntypeHolding                                                                \nendPeriod          -362.695919 -55.721429 -29.635453 -14.814100 -0.833538  \nfatExtraProfit      -16.784893  -5.964249  -1.234400  -0.352985 -0.109218  \nlightCross          -84.479794 -45.876792 -26.009943 -13.583926 -0.154275  \nlightCrossEmergent  -21.659967 -14.999944  -3.692953  -1.991007 -0.162630  \n\n[4 rows x 64 columns]",
      "text/html": "<div>\n<style scoped>\n    .dataframe tbody tr th:only-of-type {\n        vertical-align: middle;\n    }\n\n    .dataframe tbody tr th {\n        vertical-align: top;\n    }\n\n    .dataframe thead tr th {\n        text-align: left;\n    }\n\n    .dataframe thead tr:last-of-type th {\n        text-align: right;\n    }\n</style>\n<table border=\"1\" class=\"dataframe\">\n  <thead>\n    <tr>\n      <th></th>\n      <th colspan=\"8\" halign=\"left\">position</th>\n      <th colspan=\"2\" halign=\"left\">openPrice</th>\n      <th>...</th>\n      <th colspan=\"2\" halign=\"left\">closeIndex</th>\n      <th colspan=\"8\" halign=\"left\">profit</th>\n    </tr>\n    <tr>\n      <th></th>\n      <th>count</th>\n      <th>mean</th>\n      <th>std</th>\n      <th>min</th>\n      <th>25%</th>\n      <th>50%</th>\n      <th>75%</th>\n      <th>max</th>\n      <th>count</th>\n      <th>mean</th>\n      <th>...</th>\n      <th>75%</th>\n      <th>max</th>\n      <th>count</th>\n      <th>mean</th>\n      <th>std</th>\n      <th>min</th>\n      <th>25%</th>\n      <th>50%</th>\n      <th>75%</th>\n      <th>max</th>\n    </tr>\n    <tr>\n      <th>typeHolding</th>\n      <th></th>\n      <th></th>\n      <th></th>\n      <th></th>\n      <th></th>\n      <th></th>\n      <th></th>\n      <th></th>\n      <th></th>\n      <th></th>\n      <th></th>\n      <th></th>\n      <th></th>\n      <th></th>\n      <th></th>\n      <th></th>\n      <th></th>\n      <th></th>\n      <th></th>\n      <th></th>\n      <th></th>\n    </tr>\n  </thead>\n  <tbody>\n    <tr>\n      <th>endPeriod</th>\n      <td>118.0</td>\n      <td>-15.341577</td>\n      <td>180.750206</td>\n      <td>-185.462391</td>\n      <td>-181.583401</td>\n      <td>-175.972725</td>\n      <td>180.421590</td>\n      <td>185.593208</td>\n      <td>118.0</td>\n      <td>110.756138</td>\n      <td>...</td>\n      <td>190669.25</td>\n      <td>278512.0</td>\n      <td>118.0</td>\n      <td>-38.830945</td>\n      <td>40.368944</td>\n      <td>-362.695919</td>\n      <td>-55.721429</td>\n      <td>-29.635453</td>\n      <td>-14.814100</td>\n      <td>-0.833538</td>\n    </tr>\n    <tr>\n      <th>fatExtraProfit</th>\n      <td>7.0</td>\n      <td>79.233105</td>\n      <td>177.876859</td>\n      <td>-181.548834</td>\n      <td>0.429520</td>\n      <td>183.135878</td>\n      <td>183.864759</td>\n      <td>184.456131</td>\n      <td>7.0</td>\n      <td>109.446996</td>\n      <td>...</td>\n      <td>235927.50</td>\n      <td>276594.0</td>\n      <td>7.0</td>\n      <td>-4.394711</td>\n      <td>6.316535</td>\n      <td>-16.784893</td>\n      <td>-5.964249</td>\n      <td>-1.234400</td>\n      <td>-0.352985</td>\n      <td>-0.109218</td>\n    </tr>\n    <tr>\n      <th>lightCross</th>\n      <td>27.0</td>\n      <td>33.242106</td>\n      <td>182.349186</td>\n      <td>-184.406650</td>\n      <td>-182.642366</td>\n      <td>179.274650</td>\n      <td>182.078310</td>\n      <td>184.691416</td>\n      <td>27.0</td>\n      <td>109.909932</td>\n      <td>...</td>\n      <td>250309.50</td>\n      <td>282534.0</td>\n      <td>27.0</td>\n      <td>-30.562071</td>\n      <td>22.315580</td>\n      <td>-84.479794</td>\n      <td>-45.876792</td>\n      <td>-26.009943</td>\n      <td>-13.583926</td>\n      <td>-0.154275</td>\n    </tr>\n    <tr>\n      <th>lightCrossEmergent</th>\n      <td>17.0</td>\n      <td>32.067015</td>\n      <td>183.384996</td>\n      <td>-183.897309</td>\n      <td>-178.765238</td>\n      <td>178.953876</td>\n      <td>181.789592</td>\n      <td>183.125728</td>\n      <td>17.0</td>\n      <td>110.659730</td>\n      <td>...</td>\n      <td>232165.00</td>\n      <td>281990.0</td>\n      <td>17.0</td>\n      <td>-7.406959</td>\n      <td>6.907891</td>\n      <td>-21.659967</td>\n      <td>-14.999944</td>\n      <td>-3.692953</td>\n      <td>-1.991007</td>\n      <td>-0.162630</td>\n    </tr>\n  </tbody>\n</table>\n<p>4 rows × 64 columns</p>\n</div>"
     },
     "execution_count": 12,
     "metadata": {},
     "output_type": "execute_result"
    }
   ],
   "source": [
    "copy_df[copy_df.profit < 0].groupby(by='typeHolding').describe()"
   ],
   "metadata": {
    "collapsed": false,
    "pycharm": {
     "name": "#%%\n"
    }
   }
  },
  {
   "cell_type": "code",
   "execution_count": 13,
   "outputs": [
    {
     "data": {
      "text/plain": "                   position                                                 \\\n                      count       mean         std         min         25%   \ntypeHolding                                                                  \nendPeriod             156.0  -4.535065  181.288649 -185.462391 -181.430974   \nfatExtraProfit        101.0 -12.412853  181.822643 -184.150582 -181.914992   \nlightCross             38.0  38.191524  179.958056 -184.406650 -181.528092   \nlightCrossEmergent    156.0 -11.767639  181.244222 -184.754345 -182.411866   \n\n                                                       openPrice              \\\n                           50%         75%         max     count        mean   \ntypeHolding                                                                    \nendPeriod          -175.431492  181.408372  185.593208     156.0  110.679483   \nfatExtraProfit     -176.271095  182.177700  185.009428     101.0  110.314824   \nlightCross          179.558055  182.360407  184.691416      38.0  110.141389   \nlightCrossEmergent -175.980933  181.180939  184.450672     156.0  110.501982   \n\n                    ... closeIndex           profit                        \\\n                    ...        75%       max  count       mean        std   \ntypeHolding         ...                                                     \nendPeriod           ...   191950.5  280695.0  156.0 -24.729886  43.757830   \nfatExtraProfit      ...   242892.0  280090.0  101.0  24.168491  17.385409   \nlightCross          ...   237021.0  282534.0   38.0 -17.947383  27.694927   \nlightCrossEmergent  ...   223248.5  283219.0  156.0  12.063367  11.379064   \n\n                                                                            \n                           min        25%        50%        75%        max  \ntypeHolding                                                                 \nendPeriod          -362.695919 -48.505954 -19.665197  -1.047581  60.220822  \nfatExtraProfit      -16.784893  12.946743  22.061809  35.654560  71.198387  \nlightCross          -84.479794 -29.355686 -15.152895   3.768617  29.896450  \nlightCrossEmergent  -21.659967   6.387172  10.519721  17.607725  57.801317  \n\n[4 rows x 64 columns]",
      "text/html": "<div>\n<style scoped>\n    .dataframe tbody tr th:only-of-type {\n        vertical-align: middle;\n    }\n\n    .dataframe tbody tr th {\n        vertical-align: top;\n    }\n\n    .dataframe thead tr th {\n        text-align: left;\n    }\n\n    .dataframe thead tr:last-of-type th {\n        text-align: right;\n    }\n</style>\n<table border=\"1\" class=\"dataframe\">\n  <thead>\n    <tr>\n      <th></th>\n      <th colspan=\"8\" halign=\"left\">position</th>\n      <th colspan=\"2\" halign=\"left\">openPrice</th>\n      <th>...</th>\n      <th colspan=\"2\" halign=\"left\">closeIndex</th>\n      <th colspan=\"8\" halign=\"left\">profit</th>\n    </tr>\n    <tr>\n      <th></th>\n      <th>count</th>\n      <th>mean</th>\n      <th>std</th>\n      <th>min</th>\n      <th>25%</th>\n      <th>50%</th>\n      <th>75%</th>\n      <th>max</th>\n      <th>count</th>\n      <th>mean</th>\n      <th>...</th>\n      <th>75%</th>\n      <th>max</th>\n      <th>count</th>\n      <th>mean</th>\n      <th>std</th>\n      <th>min</th>\n      <th>25%</th>\n      <th>50%</th>\n      <th>75%</th>\n      <th>max</th>\n    </tr>\n    <tr>\n      <th>typeHolding</th>\n      <th></th>\n      <th></th>\n      <th></th>\n      <th></th>\n      <th></th>\n      <th></th>\n      <th></th>\n      <th></th>\n      <th></th>\n      <th></th>\n      <th></th>\n      <th></th>\n      <th></th>\n      <th></th>\n      <th></th>\n      <th></th>\n      <th></th>\n      <th></th>\n      <th></th>\n      <th></th>\n      <th></th>\n    </tr>\n  </thead>\n  <tbody>\n    <tr>\n      <th>endPeriod</th>\n      <td>156.0</td>\n      <td>-4.535065</td>\n      <td>181.288649</td>\n      <td>-185.462391</td>\n      <td>-181.430974</td>\n      <td>-175.431492</td>\n      <td>181.408372</td>\n      <td>185.593208</td>\n      <td>156.0</td>\n      <td>110.679483</td>\n      <td>...</td>\n      <td>191950.5</td>\n      <td>280695.0</td>\n      <td>156.0</td>\n      <td>-24.729886</td>\n      <td>43.757830</td>\n      <td>-362.695919</td>\n      <td>-48.505954</td>\n      <td>-19.665197</td>\n      <td>-1.047581</td>\n      <td>60.220822</td>\n    </tr>\n    <tr>\n      <th>fatExtraProfit</th>\n      <td>101.0</td>\n      <td>-12.412853</td>\n      <td>181.822643</td>\n      <td>-184.150582</td>\n      <td>-181.914992</td>\n      <td>-176.271095</td>\n      <td>182.177700</td>\n      <td>185.009428</td>\n      <td>101.0</td>\n      <td>110.314824</td>\n      <td>...</td>\n      <td>242892.0</td>\n      <td>280090.0</td>\n      <td>101.0</td>\n      <td>24.168491</td>\n      <td>17.385409</td>\n      <td>-16.784893</td>\n      <td>12.946743</td>\n      <td>22.061809</td>\n      <td>35.654560</td>\n      <td>71.198387</td>\n    </tr>\n    <tr>\n      <th>lightCross</th>\n      <td>38.0</td>\n      <td>38.191524</td>\n      <td>179.958056</td>\n      <td>-184.406650</td>\n      <td>-181.528092</td>\n      <td>179.558055</td>\n      <td>182.360407</td>\n      <td>184.691416</td>\n      <td>38.0</td>\n      <td>110.141389</td>\n      <td>...</td>\n      <td>237021.0</td>\n      <td>282534.0</td>\n      <td>38.0</td>\n      <td>-17.947383</td>\n      <td>27.694927</td>\n      <td>-84.479794</td>\n      <td>-29.355686</td>\n      <td>-15.152895</td>\n      <td>3.768617</td>\n      <td>29.896450</td>\n    </tr>\n    <tr>\n      <th>lightCrossEmergent</th>\n      <td>156.0</td>\n      <td>-11.767639</td>\n      <td>181.244222</td>\n      <td>-184.754345</td>\n      <td>-182.411866</td>\n      <td>-175.980933</td>\n      <td>181.180939</td>\n      <td>184.450672</td>\n      <td>156.0</td>\n      <td>110.501982</td>\n      <td>...</td>\n      <td>223248.5</td>\n      <td>283219.0</td>\n      <td>156.0</td>\n      <td>12.063367</td>\n      <td>11.379064</td>\n      <td>-21.659967</td>\n      <td>6.387172</td>\n      <td>10.519721</td>\n      <td>17.607725</td>\n      <td>57.801317</td>\n    </tr>\n  </tbody>\n</table>\n<p>4 rows × 64 columns</p>\n</div>"
     },
     "execution_count": 13,
     "metadata": {},
     "output_type": "execute_result"
    }
   ],
   "source": [
    "copy_df.groupby(by='typeHolding').describe()"
   ],
   "metadata": {
    "collapsed": false,
    "pycharm": {
     "name": "#%%\n"
    }
   }
  }
 ],
 "metadata": {
  "kernelspec": {
   "display_name": "Python 3",
   "language": "python",
   "name": "python3"
  },
  "language_info": {
   "codemirror_mode": {
    "name": "ipython",
    "version": 2
   },
   "file_extension": ".py",
   "mimetype": "text/x-python",
   "name": "python",
   "nbconvert_exporter": "python",
   "pygments_lexer": "ipython2",
   "version": "2.7.6"
  }
 },
 "nbformat": 4,
 "nbformat_minor": 0
}