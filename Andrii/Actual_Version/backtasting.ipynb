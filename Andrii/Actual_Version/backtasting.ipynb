{
 "cells": [
  {
   "cell_type": "code",
   "execution_count": 0,
   "metadata": {
    "collapsed": true
   },
   "outputs": [],
   "source": []
  },
  {
   "cell_type": "code",
   "execution_count": 1,
   "outputs": [],
   "source": [
    "import pandas as pd\n",
    "import numpy as np\n",
    "\n",
    "from scipy import stats\n",
    "import matplotlib.pylab as plt\n",
    "from tqdm.notebook import tqdm\n",
    "from scipy.special import gamma\n",
    "\n",
    "from joblib import Parallel, delayed\n",
    "\n",
    "import datetime"
   ],
   "metadata": {
    "collapsed": false,
    "pycharm": {
     "name": "#%%\n"
    }
   }
  },
  {
   "cell_type": "code",
   "execution_count": 2,
   "outputs": [
    {
     "data": {
      "text/plain": "                           date      time      open      high       low  \\\n2011-12-19 09:30:00  12/19/2011   9:30:00  1215.875  1216.375  1215.625   \n2011-12-19 09:31:00  12/19/2011   9:31:00  1215.875  1217.125  1215.875   \n2011-12-19 09:32:00  12/19/2011   9:32:00  1217.125  1217.875  1217.125   \n2011-12-19 09:33:00  12/19/2011   9:33:00  1217.625  1218.375  1217.625   \n2011-12-19 09:34:00  12/19/2011   9:34:00  1218.125  1218.375  1217.625   \n...                         ...       ...       ...       ...       ...   \n2015-12-16 16:10:00  12/16/2015  16:10:00  2070.125  2070.375  2069.875   \n2015-12-16 16:11:00  12/16/2015  16:11:00  2070.125  2070.875  2069.125   \n2015-12-16 16:12:00  12/16/2015  16:12:00  2069.250  2072.125  2069.125   \n2015-12-16 16:13:00  12/16/2015  16:13:00  2072.125  2072.625  2071.625   \n2015-12-16 16:14:00  12/16/2015  16:14:00  2072.000  2072.375  2071.125   \n\n                        close  \n2011-12-19 09:30:00  1215.875  \n2011-12-19 09:31:00  1217.125  \n2011-12-19 09:32:00  1217.625  \n2011-12-19 09:33:00  1218.125  \n2011-12-19 09:34:00  1217.875  \n...                       ...  \n2015-12-16 16:10:00  2070.125  \n2015-12-16 16:11:00  2069.250  \n2015-12-16 16:12:00  2072.125  \n2015-12-16 16:13:00  2072.000  \n2015-12-16 16:14:00  2072.125  \n\n[390552 rows x 6 columns]",
      "text/html": "<div>\n<style scoped>\n    .dataframe tbody tr th:only-of-type {\n        vertical-align: middle;\n    }\n\n    .dataframe tbody tr th {\n        vertical-align: top;\n    }\n\n    .dataframe thead th {\n        text-align: right;\n    }\n</style>\n<table border=\"1\" class=\"dataframe\">\n  <thead>\n    <tr style=\"text-align: right;\">\n      <th></th>\n      <th>date</th>\n      <th>time</th>\n      <th>open</th>\n      <th>high</th>\n      <th>low</th>\n      <th>close</th>\n    </tr>\n  </thead>\n  <tbody>\n    <tr>\n      <th>2011-12-19 09:30:00</th>\n      <td>12/19/2011</td>\n      <td>9:30:00</td>\n      <td>1215.875</td>\n      <td>1216.375</td>\n      <td>1215.625</td>\n      <td>1215.875</td>\n    </tr>\n    <tr>\n      <th>2011-12-19 09:31:00</th>\n      <td>12/19/2011</td>\n      <td>9:31:00</td>\n      <td>1215.875</td>\n      <td>1217.125</td>\n      <td>1215.875</td>\n      <td>1217.125</td>\n    </tr>\n    <tr>\n      <th>2011-12-19 09:32:00</th>\n      <td>12/19/2011</td>\n      <td>9:32:00</td>\n      <td>1217.125</td>\n      <td>1217.875</td>\n      <td>1217.125</td>\n      <td>1217.625</td>\n    </tr>\n    <tr>\n      <th>2011-12-19 09:33:00</th>\n      <td>12/19/2011</td>\n      <td>9:33:00</td>\n      <td>1217.625</td>\n      <td>1218.375</td>\n      <td>1217.625</td>\n      <td>1218.125</td>\n    </tr>\n    <tr>\n      <th>2011-12-19 09:34:00</th>\n      <td>12/19/2011</td>\n      <td>9:34:00</td>\n      <td>1218.125</td>\n      <td>1218.375</td>\n      <td>1217.625</td>\n      <td>1217.875</td>\n    </tr>\n    <tr>\n      <th>...</th>\n      <td>...</td>\n      <td>...</td>\n      <td>...</td>\n      <td>...</td>\n      <td>...</td>\n      <td>...</td>\n    </tr>\n    <tr>\n      <th>2015-12-16 16:10:00</th>\n      <td>12/16/2015</td>\n      <td>16:10:00</td>\n      <td>2070.125</td>\n      <td>2070.375</td>\n      <td>2069.875</td>\n      <td>2070.125</td>\n    </tr>\n    <tr>\n      <th>2015-12-16 16:11:00</th>\n      <td>12/16/2015</td>\n      <td>16:11:00</td>\n      <td>2070.125</td>\n      <td>2070.875</td>\n      <td>2069.125</td>\n      <td>2069.250</td>\n    </tr>\n    <tr>\n      <th>2015-12-16 16:12:00</th>\n      <td>12/16/2015</td>\n      <td>16:12:00</td>\n      <td>2069.250</td>\n      <td>2072.125</td>\n      <td>2069.125</td>\n      <td>2072.125</td>\n    </tr>\n    <tr>\n      <th>2015-12-16 16:13:00</th>\n      <td>12/16/2015</td>\n      <td>16:13:00</td>\n      <td>2072.125</td>\n      <td>2072.625</td>\n      <td>2071.625</td>\n      <td>2072.000</td>\n    </tr>\n    <tr>\n      <th>2015-12-16 16:14:00</th>\n      <td>12/16/2015</td>\n      <td>16:14:00</td>\n      <td>2072.000</td>\n      <td>2072.375</td>\n      <td>2071.125</td>\n      <td>2072.125</td>\n    </tr>\n  </tbody>\n</table>\n<p>390552 rows × 6 columns</p>\n</div>"
     },
     "execution_count": 2,
     "metadata": {},
     "output_type": "execute_result"
    }
   ],
   "source": [
    "input_data = pd.read_csv('STORAGE_data/es-1min_FULL.csv')\n",
    "input_data.index = pd.to_datetime(input_data.date + ' ' + input_data.time)\n",
    "input_data"
   ],
   "metadata": {
    "collapsed": false,
    "pycharm": {
     "name": "#%%\n"
    }
   }
  },
  {
   "cell_type": "code",
   "execution_count": 3,
   "outputs": [],
   "source": [
    "data = input_data.drop(['date', 'time'], axis=1)"
   ],
   "metadata": {
    "collapsed": false,
    "pycharm": {
     "name": "#%%\n"
    }
   }
  },
  {
   "cell_type": "code",
   "execution_count": 3,
   "outputs": [],
   "source": [],
   "metadata": {
    "collapsed": false,
    "pycharm": {
     "name": "#%%\n"
    }
   }
  },
  {
   "cell_type": "code",
   "execution_count": 4,
   "outputs": [
    {
     "data": {
      "text/plain": "<Figure size 864x360 with 1 Axes>",
      "image/png": "[encoded data removed]"
     },
     "metadata": {},
     "output_type": "display_data"
    }
   ],
   "source": [
    "plt.style.use('dark_background')\n",
    "plt.figure(figsize=(12,5))\n",
    "plt.plot(data.close, 'o', markersize=.3, color='red', alpha=.6)\n",
    "plt.title('Input data')\n",
    "plt.show()"
   ],
   "metadata": {
    "collapsed": false,
    "pycharm": {
     "name": "#%%\n"
    }
   }
  },
  {
   "cell_type": "code",
   "execution_count": 5,
   "outputs": [],
   "source": [
    "def _start_duplicates_removing(inp_data):\n",
    "    #   Clean duplicates\n",
    "    ret_data = inp_data.reset_index().drop_duplicates(subset='index', keep='first').set_index('index')\n",
    "    #   Check success of cleaning\n",
    "    assert len(ret_data.index) == len(ret_data.index.unique())\n",
    "    print(f'Duplicates at {1 - (ret_data.shape[0] / inp_data.shape[0]):.2%} of data')\n",
    "    return ret_data\n",
    "\n",
    "def normalize_data(inp_data: pd.DataFrame, show=True):\n",
    "    #   Calculate the right numbers of observations intra day\n",
    "    NORMAL_MINUTES = (15 - 9) * 60 + 30\n",
    "    #   Checks for duplicates\n",
    "    if show:\n",
    "        plt.style.use('dark_background')\n",
    "        plt.figure(figsize=(12,8))\n",
    "        plt.subplot(2,1,1)\n",
    "        plt.plot(inp_data.close, 'o', markersize=.3, color='red', alpha=.6)\n",
    "        plt.title('Input data')\n",
    "\n",
    "    if len(inp_data.index) != len(inp_data.index.unique()):\n",
    "        inp_data = _start_duplicates_removing(inp_data)\n",
    "    #   In data not of all information about trade-day. For example at date 2011-12-19 data ends at 15:59. At date 2015-12-19 data ends at 16:14. Notice that normal trade day ends at 16:30.\n",
    "    #   At start lets drop lines with days with zero observations.\n",
    "    mask = ~np.in1d(inp_data.index.date,inp_data.resample('1D').count().query(f'open < {NORMAL_MINUTES}').index.date)\n",
    "\n",
    "    if show:\n",
    "        plt.subplot(2,1,2)\n",
    "        plt.plot(inp_data.loc[mask,:].close, 'o', markersize=.3, color='red', alpha=.6)\n",
    "        plt.title('Cut data')\n",
    "        plt.show()\n",
    "    #   Shows percent of \"bad\" dotes\n",
    "    print(f\"Bad days at {1 - (len(mask) / len(inp_data)):.2%} observations\")\n",
    "    return inp_data.loc[mask,:]"
   ],
   "metadata": {
    "collapsed": false,
    "pycharm": {
     "name": "#%%\n"
    }
   }
  },
  {
   "cell_type": "code",
   "execution_count": 6,
   "outputs": [],
   "source": [
    "#nrm = normalize_data(data)"
   ],
   "metadata": {
    "collapsed": false,
    "pycharm": {
     "name": "#%%\n"
    }
   }
  },
  {
   "cell_type": "code",
   "execution_count": 7,
   "outputs": [
    {
     "data": {
      "text/plain": "\"THRESHOLD = 0.014\\n#THRESHOLD = 0.0001\\n\\ndef order_logic(OP, CL, X):\\n    if (OP / CL) - 1 > X:\\n        return True, 'LONG'\\n    if (OP / CL) - 1 < -1 * X:\\n        return True, 'SHORT',\\n    else:\\n        return False, 'FALSE',\\n\\n# def order_return(inp_data: pd.DataFrame, MONEY, OP, TYPE):\\n#     SLIPADGE = 10\\n#     CLOSE = inp_data.iloc[-1].close\\n#     if TYPE == 'SHORT':\\n#         return (2 * MONEY) - ((MONEY / OP) * CLOSE) - SLIPADGE\\n#     if TYPE == 'LONG':\\n#         return (MONEY / OP) * CLOSE - SLIPADGE\\n\\ndef order_return(inp_data: pd.DataFrame, MONEY, OP, TYPE, INDEX):\\n    loss_data = inp_data.loc[INDEX:]\\n    SLIPADGE = 20\\n    BATCH = 1\\n    LOSS_PERCENT = 0.05\\n    CLOSE = inp_data.iloc[-1].close\\n\\n    if TYPE == 'SHORT':\\n        for _ in loss_data.index:\\n            if (loss_data.loc[_,:].open / OP) - 1 > LOSS_PERCENT:\\n                return BATCH * (OP - loss_data.loc[_,:].close) - SLIPADGE\\n        return BATCH * (OP - CLOSE) - SLIPADGE\\n    if TYPE == 'LONG':\\n        for _ in loss_data.index:\\n            if (loss_data.loc[_,:].open / OP) - 1 < -1 * LOSS_PERCENT:\\n                return BATCH * (loss_data.loc[_,:].close - OP) - SLIPADGE\\n        return BATCH * (CLOSE - OP) - SLIPADGE\\n\\nMONEY = 10\\nMONEY_ARRAY = list()\\nDATES_ARRAY = list()\\n\\n\\nALL_index_array = nrm.index\\nfor index in tqdm(np.unique(nrm.index[:].date)):\\n    _true_index = pd.to_datetime(index) + datetime.timedelta(hours=14, minutes=30, seconds=0) # '2012-01-01' -> '2012-01-01 14:30:00'\\n    CURRENT = nrm.loc[_true_index,:].open\\n    back_index = _true_index - datetime.timedelta(days=1) + datetime.timedelta(minutes=30)\\n    forward_index = _true_index + datetime.timedelta(minutes=59)\\n    if (back_index in ALL_index_array) and (forward_index in ALL_index_array):\\n        DAY_BACK_CLOSE = nrm.loc[back_index,:].close\\n        DAY_CURRENT_CLOSE = nrm.loc[forward_index, :].close\\n        CURRENT_data = nrm.loc[index.strftime('%Y-%m-%d'): index.strftime('%Y-%m-%d')]\\n        if order_logic(CURRENT, DAY_BACK_CLOSE, THRESHOLD)[0]:\\n            TYPE = order_logic(CURRENT, DAY_BACK_CLOSE, THRESHOLD)[1]\\n            MONEY = MONEY + order_return(CURRENT_data, MONEY, CURRENT, TYPE, _true_index)\\n            if MONEY < 0:\\n                MONEY = 10\\n            MONEY_ARRAY.append(MONEY)\\n            DATES_ARRAY.append(index)\\n\\nMONEY_ARRAY\\n\\ndef sharpe(MNY_RET):\\n    MNY_RET = np.array(MNY_RET)\\n    #LMNY = (np.diff(MNY_RET) / MNY_RET[:-1])\\n    LMNY = np.diff(np.log(MNY_RET))\\n    print(LMNY[:10])\\n    SHARPE = np.nanmean(LMNY)/ np.nanstd(LMNY)\\n    print('SHARPE:', SHARPE)\\n    return SHARPE\\n\\nsharpe(MONEY_ARRAY)\\n\""
     },
     "execution_count": 7,
     "metadata": {},
     "output_type": "execute_result"
    }
   ],
   "source": [
    "\"\"\"THRESHOLD = 0.014\n",
    "#THRESHOLD = 0.0001\n",
    "\n",
    "def order_logic(OP, CL, X):\n",
    "    if (OP / CL) - 1 > X:\n",
    "        return True, 'LONG'\n",
    "    if (OP / CL) - 1 < -1 * X:\n",
    "        return True, 'SHORT',\n",
    "    else:\n",
    "        return False, 'FALSE',\n",
    "\n",
    "# def order_return(inp_data: pd.DataFrame, MONEY, OP, TYPE):\n",
    "#     SLIPADGE = 10\n",
    "#     CLOSE = inp_data.iloc[-1].close\n",
    "#     if TYPE == 'SHORT':\n",
    "#         return (2 * MONEY) - ((MONEY / OP) * CLOSE) - SLIPADGE\n",
    "#     if TYPE == 'LONG':\n",
    "#         return (MONEY / OP) * CLOSE - SLIPADGE\n",
    "\n",
    "def order_return(inp_data: pd.DataFrame, MONEY, OP, TYPE, INDEX):\n",
    "    loss_data = inp_data.loc[INDEX:]\n",
    "    SLIPADGE = 20\n",
    "    BATCH = 1\n",
    "    LOSS_PERCENT = 0.05\n",
    "    CLOSE = inp_data.iloc[-1].close\n",
    "\n",
    "    if TYPE == 'SHORT':\n",
    "        for _ in loss_data.index:\n",
    "            if (loss_data.loc[_,:].open / OP) - 1 > LOSS_PERCENT:\n",
    "                return BATCH * (OP - loss_data.loc[_,:].close) - SLIPADGE\n",
    "        return BATCH * (OP - CLOSE) - SLIPADGE\n",
    "    if TYPE == 'LONG':\n",
    "        for _ in loss_data.index:\n",
    "            if (loss_data.loc[_,:].open / OP) - 1 < -1 * LOSS_PERCENT:\n",
    "                return BATCH * (loss_data.loc[_,:].close - OP) - SLIPADGE\n",
    "        return BATCH * (CLOSE - OP) - SLIPADGE\n",
    "\n",
    "MONEY = 10\n",
    "MONEY_ARRAY = list()\n",
    "DATES_ARRAY = list()\n",
    "\n",
    "\n",
    "ALL_index_array = nrm.index\n",
    "for index in tqdm(np.unique(nrm.index[:].date)):\n",
    "    _true_index = pd.to_datetime(index) + datetime.timedelta(hours=14, minutes=30, seconds=0) # '2012-01-01' -> '2012-01-01 14:30:00'\n",
    "    CURRENT = nrm.loc[_true_index,:].open\n",
    "    back_index = _true_index - datetime.timedelta(days=1) + datetime.timedelta(minutes=30)\n",
    "    forward_index = _true_index + datetime.timedelta(minutes=59)\n",
    "    if (back_index in ALL_index_array) and (forward_index in ALL_index_array):\n",
    "        DAY_BACK_CLOSE = nrm.loc[back_index,:].close\n",
    "        DAY_CURRENT_CLOSE = nrm.loc[forward_index, :].close\n",
    "        CURRENT_data = nrm.loc[index.strftime('%Y-%m-%d'): index.strftime('%Y-%m-%d')]\n",
    "        if order_logic(CURRENT, DAY_BACK_CLOSE, THRESHOLD)[0]:\n",
    "            TYPE = order_logic(CURRENT, DAY_BACK_CLOSE, THRESHOLD)[1]\n",
    "            MONEY = MONEY + order_return(CURRENT_data, MONEY, CURRENT, TYPE, _true_index)\n",
    "            if MONEY < 0:\n",
    "                MONEY = 10\n",
    "            MONEY_ARRAY.append(MONEY)\n",
    "            DATES_ARRAY.append(index)\n",
    "\n",
    "MONEY_ARRAY\n",
    "\n",
    "def sharpe(MNY_RET):\n",
    "    MNY_RET = np.array(MNY_RET)\n",
    "    #LMNY = (np.diff(MNY_RET) / MNY_RET[:-1])\n",
    "    LMNY = np.diff(np.log(MNY_RET))\n",
    "    print(LMNY[:10])\n",
    "    SHARPE = np.nanmean(LMNY)/ np.nanstd(LMNY)\n",
    "    print('SHARPE:', SHARPE)\n",
    "    return SHARPE\n",
    "\n",
    "sharpe(MONEY_ARRAY)\n",
    "\"\"\""
   ],
   "metadata": {
    "collapsed": false,
    "pycharm": {
     "name": "#%%\n"
    }
   }
  },
  {
   "cell_type": "code",
   "execution_count": 7,
   "outputs": [],
   "source": [],
   "metadata": {
    "collapsed": false,
    "pycharm": {
     "name": "#%%\n"
    }
   }
  },
  {
   "cell_type": "code",
   "execution_count": 25,
   "outputs": [],
   "source": [
    "def backtest(nrm: pd.DataFrame, THRESHOLD, LOSS_PERCENT, MINUTES_TO_CLOSE, LOOKBACK=1, TAKE_PROFIT=False):\n",
    "    SHORT = 0\n",
    "    LONG = 0\n",
    "    STOP_LOSS = 0\n",
    "    if TAKE_PROFIT:\n",
    "        TAKE_PROF = 0\n",
    "\n",
    "    THRESHOLD = THRESHOLD\n",
    "    #THRESHOLD = 0.0001\n",
    "\n",
    "    def order_logic(OP, CL, X):\n",
    "        if (OP / CL) - 1 > X:\n",
    "            return True, 'LONG'\n",
    "        if (OP / CL) - 1 < -1 * X:\n",
    "            return True, 'SHORT',\n",
    "        else:\n",
    "            return False, 'FALSE',\n",
    "\n",
    "\n",
    "\n",
    "    def order_return(inp_data: pd.DataFrame, OP, TYPE, INDEX, LOSS_PERCENT, TAKE_PROFIT):\n",
    "        loss_data = inp_data.loc[INDEX:]\n",
    "        SLIPADGE = 20\n",
    "        BATCH = 50\n",
    "        LOSS_PERCENT = LOSS_PERCENT\n",
    "        THR_TAKE_PROFIT = 0.004\n",
    "        CLOSE = loss_data.iloc[-1].close\n",
    "        #print(f\"TYPE:{TYPE}| START:{OP}| CLOSE:{CLOSE}\")\n",
    "        if TYPE == 'SHORT':\n",
    "            for _ in loss_data.index:\n",
    "                if (loss_data.loc[_,:].open / OP) - 1 > LOSS_PERCENT:\n",
    "                    return BATCH * (OP - loss_data.loc[_,:].close) - SLIPADGE, 'LOSS'\n",
    "\n",
    "                if  TAKE_PROFIT:\n",
    "                    if (OP / (loss_data.loc[_,:].open + SLIPADGE)) - 1 > THR_TAKE_PROFIT:\n",
    "                        return BATCH * (OP - loss_data.loc[_,:].close) - SLIPADGE, 'TAKE'\n",
    "            return BATCH * (OP - CLOSE) - SLIPADGE, 'NULL'\n",
    "        if TYPE == 'LONG':\n",
    "            for _ in loss_data.index:\n",
    "                if (loss_data.loc[_,:].open / OP) - 1 < -1 * LOSS_PERCENT:\n",
    "                    return BATCH * (loss_data.loc[_,:].close - OP) - SLIPADGE, 'LOSS'\n",
    "\n",
    "                if  TAKE_PROFIT:\n",
    "                    if (loss_data.loc[_,:].open / (OP + SLIPADGE)) - 1 > THR_TAKE_PROFIT:\n",
    "                        return BATCH * (OP - loss_data.loc[_,:].close) - SLIPADGE, 'TAKE'\n",
    "            return BATCH * (CLOSE - OP) - SLIPADGE, 'NULL'\n",
    "\n",
    "    MONEY = 0\n",
    "    MONEY_ARRAY = list()\n",
    "    DATES_ARRAY = list()\n",
    "\n",
    "\n",
    "    C0 = 0\n",
    "    C1 = 0\n",
    "    C2 = 0\n",
    "    ALL_index_array = nrm.index\n",
    "    ALL_index_dates_array = np.unique(nrm.index.date)\n",
    "    for _ARROW_, index in enumerate(tqdm(np.unique(nrm.index[:].date)[LOOKBACK:])):\n",
    "        C0 += 1\n",
    "        #print(index)\n",
    "        _true_index = nrm.loc[index.strftime('%Y-%m-%d')].iloc[-1].name - datetime.timedelta(minutes=MINUTES_TO_CLOSE)\n",
    "        if (index - datetime.timedelta(days=LOOKBACK)) in ALL_index_dates_array:\n",
    "            C1 += 1\n",
    "            #   Здесь можно поменять lookback назад. Но нужно менять логику взятия последнего значения. Сейчас выбирается весь день удовлетворяющий АКТУАЛЬНЫЙ_ДЕНЬ - ТАЙМШИФТНАЗАД\n",
    "            back_index = nrm.loc[(index - datetime.timedelta(days=LOOKBACK)).strftime('%Y-%m-%d')].iloc[-1].name\n",
    "            forward_index = nrm.loc[index.strftime('%Y-%m-%d')].iloc[-1].name\n",
    "            #print(_true_index)\n",
    "            #print(nrm.loc[_true_index:index.strftime('%Y-%m-%d'),:])\n",
    "            #print(nrm.loc[_true_index:index.strftime('%Y-%m-%d'),:].iloc[0])\n",
    "            #CURRENT = nrm.loc[_true_index,:].open\n",
    "            CURRENT = nrm.loc[_true_index:index.strftime('%Y-%m-%d'),:].iloc[0].open\n",
    "            DAY_BACK_CLOSE = nrm.loc[back_index,:].close\n",
    "            DAY_CURRENT_CLOSE = nrm.loc[forward_index, :].close\n",
    "            #print(F\"ARROW: {_ARROW_} TRUE: {_true_index}, back: {back_index} forward: {forward_index}\")\n",
    "            CURRENT_data = nrm.loc[index.strftime('%Y-%m-%d')]\n",
    "            if order_logic(CURRENT, DAY_BACK_CLOSE, THRESHOLD)[0]:\n",
    "                TYPE = order_logic(CURRENT, DAY_BACK_CLOSE, THRESHOLD)[1]\n",
    "                if TYPE == 'SHORT':\n",
    "                    SHORT += 1\n",
    "                if TYPE == 'LONG':\n",
    "                    LONG += 1\n",
    "\n",
    "                RET = order_return(CURRENT_data, CURRENT, TYPE, _true_index, LOSS_PERCENT=LOSS_PERCENT, TAKE_PROFIT=TAKE_PROFIT)\n",
    "                if RET[1] == 'LOSS':\n",
    "                    STOP_LOSS += 1\n",
    "                if TAKE_PROFIT:\n",
    "                    if RET[1] == 'TAKE':\n",
    "                        TAKE_PROF += 1\n",
    "                MONEY = MONEY + RET[0]\n",
    "                if MONEY < 0:\n",
    "                    MONEY = 0\n",
    "                MONEY_ARRAY.append(MONEY)\n",
    "                DATES_ARRAY.append(index)\n",
    "\n",
    "\n",
    "        if (index - datetime.timedelta(days=LOOKBACK)) not in ALL_index_dates_array:\n",
    "            C2 += 1\n",
    "            back_index = nrm.loc[:index - datetime.timedelta(days=LOOKBACK)].iloc[-1].name.date()\n",
    "            forward_index = nrm.loc[index.strftime('%Y-%m-%d')].iloc[-1].name\n",
    "            #print(_true_index)\n",
    "            #print(nrm.loc[_true_index:index.strftime('%Y-%m-%d'),:])\n",
    "            #print(nrm.loc[_true_index:index.strftime('%Y-%m-%d'),:].iloc[0])\n",
    "            #CURRENT = nrm.loc[_true_index,:].open\n",
    "            CURRENT = nrm.loc[_true_index:index.strftime('%Y-%m-%d'),:].iloc[0].open\n",
    "            DAY_BACK_CLOSE = nrm.loc[back_index.strftime('%Y-%m-%d'),:].close[-1]\n",
    "            DAY_CURRENT_CLOSE = nrm.loc[forward_index, :].close\n",
    "            #print(F\"ARROW: {_ARROW_} TRUE: {_true_index}, back: {back_index} forward: {forward_index}\")\n",
    "            CURRENT_data = nrm.loc[index.strftime('%Y-%m-%d')]\n",
    "            if order_logic(CURRENT, DAY_BACK_CLOSE, THRESHOLD)[0]:\n",
    "                TYPE = order_logic(CURRENT, DAY_BACK_CLOSE, THRESHOLD)[1]\n",
    "                if TYPE == 'SHORT':\n",
    "                    SHORT += 1\n",
    "                if TYPE == 'LONG':\n",
    "                    LONG += 1\n",
    "\n",
    "                RET = order_return(CURRENT_data, CURRENT, TYPE, _true_index, LOSS_PERCENT=LOSS_PERCENT, TAKE_PROFIT=TAKE_PROFIT)\n",
    "                if RET[1] == 'LOSS':\n",
    "                    STOP_LOSS += 1\n",
    "\n",
    "                if TAKE_PROFIT:\n",
    "                    if RET[1] == 'TAKE':\n",
    "                        TAKE_PROF += 1\n",
    "                MONEY = MONEY + RET[0]\n",
    "                if MONEY < 0:\n",
    "                    MONEY = 0\n",
    "                MONEY_ARRAY.append(MONEY)\n",
    "                DATES_ARRAY.append(index)\n",
    "\n",
    "    return_dict = [('HOLD', int(MINUTES_TO_CLOSE)),\n",
    "         ('LOOKBACK', int(LOOKBACK)),\n",
    "         ('THRESHOLD', THRESHOLD),\n",
    "         ('STOP_LOSS_PERCENT', LOSS_PERCENT),\n",
    "         ('LOOKBACK_THROUGH_WEEKENS', int(C2)),\n",
    "         ('LOOKBACK_NORMAL', int(C1)),\n",
    "         ('SUMMARY_TRADE_DAYS', int(C0)),\n",
    "         ('TOTAL_TRADES', int(len(MONEY_ARRAY))),\n",
    "         ('SHORT_TRADES', int(SHORT)),\n",
    "         ('LONG_TRADES', int(LONG)),\n",
    "         ('STOP_LOSS_TRADES', int(STOP_LOSS))]\n",
    "\n",
    "    if TAKE_PROFIT:\n",
    "        return_dict.append(('TAKE_PROFIT_TRADES', TAKE_PROF))\n",
    "\n",
    "    DF = pd.DataFrame.from_dict(return_dict)\n",
    "    \"\"\"\n",
    "    DF = DF.T\n",
    "    DF.columns = DF.iloc[0].values\n",
    "    DF = DF.drop([0])\"\"\"\n",
    "\n",
    "    return DATES_ARRAY, MONEY_ARRAY, DF\n",
    "\n",
    "def sharpe(MONEY_ARRAY, DATES_ARRAY, BEAUTIFUL_PNL=True):\n",
    "    MONEY_DF = pd.DataFrame(columns=['date', 'pnl'])\n",
    "\n",
    "    for e, _ in enumerate(pd.date_range(min(DATES_ARRAY), max(DATES_ARRAY))):\n",
    "        if _.date() in DATES_ARRAY:\n",
    "            MONEY_DF = MONEY_DF.append([{'date': _.date(), 'pnl': MONEY_ARRAY[DATES_ARRAY.index(_)]}])\n",
    "        if _.date() not in DATES_ARRAY:\n",
    "            MONEY_DF = MONEY_DF.append([{'date': _.date(), 'pnl': MONEY_DF.iloc[-1].pnl}])\n",
    "\n",
    "    if BEAUTIFUL_PNL:\n",
    "        plt.figure(figsize=(18, 10))\n",
    "        plt.xticks(rotation=90)\n",
    "        plt.grid(alpha=.1)\n",
    "        plt.plot(MONEY_DF.set_index('date'))\n",
    "        plt.show()\n",
    "\n",
    "    MNY_RET = MONEY_DF.pnl.pct_change()[1:].replace([np.inf, -np.inf, np.nan], 0).values\n",
    "    MNY_RET = np.subtract(np.array(MNY_RET), 0.05/252)\n",
    "    SHARPE = np.mean(MNY_RET)/ np.std(MNY_RET)\n",
    "    print('SHARPE:', round(np.sqrt(len(MNY_RET)) * SHARPE, 3))\n",
    "    return round(np.sqrt(len(MNY_RET)) * SHARPE, 3)"
   ],
   "metadata": {
    "collapsed": false,
    "pycharm": {
     "name": "#%%\n"
    }
   }
  },
  {
   "cell_type": "code",
   "execution_count": 9,
   "outputs": [
    {
     "name": "stdout",
     "output_type": "stream",
     "text": [
      "Duplicates at 6.18% of data\n",
      "Bad days at 0.00% observations\n"
     ]
    }
   ],
   "source": [
    "ddd = normalize_data(data, show=False)"
   ],
   "metadata": {
    "collapsed": false,
    "pycharm": {
     "name": "#%%\n"
    }
   }
  },
  {
   "cell_type": "code",
   "execution_count": 27,
   "outputs": [
    {
     "data": {
      "text/plain": "  0%|          | 0/902 [00:00<?, ?it/s]",
      "application/vnd.jupyter.widget-view+json": {
       "version_major": 2,
       "version_minor": 0,
       "model_id": "afc280848d634bb5b3137e57ce81fcbf"
      }
     },
     "metadata": {},
     "output_type": "display_data"
    },
    {
     "data": {
      "text/plain": "<Figure size 1296x720 with 1 Axes>",
      "image/png": "[encoded data removed]"
     },
     "metadata": {},
     "output_type": "display_data"
    }
   ],
   "source": [
    "\n",
    "#DATES_ARRAY, MONEY_ARRAY, INFO = backtest(nrm=ddd,THRESHOLD=0.012, LOSS_PERCENT=0.004, MINUTES_TO_CLOSE=120, LOOKBACK=1, TAKE_PROFIT=False)\n",
    "DATES_ARRAY, MONEY_ARRAY, INFO = backtest(nrm=ddd,THRESHOLD=0.014, LOSS_PERCENT=0.004, MINUTES_TO_CLOSE=45, LOOKBACK=1, TAKE_PROFIT=False)\n",
    "plt.figure(figsize=(18, 10))\n",
    "plt.xticks(rotation=90)\n",
    "plt.grid(alpha=0.1)\n",
    "plt.plot(DATES_ARRAY, MONEY_ARRAY, linestyle='-', color='blue')\n",
    "plt.plot(DATES_ARRAY, MONEY_ARRAY, marker='o', markersize=2.5, color='red')\n",
    "plt.show()"
   ],
   "metadata": {
    "collapsed": false,
    "pycharm": {
     "name": "#%%\n"
    }
   }
  },
  {
   "cell_type": "code",
   "execution_count": 28,
   "outputs": [
    {
     "data": {
      "text/plain": "                           0        1\n0                       HOLD   45.000\n1                   LOOKBACK    1.000\n2                  THRESHOLD    0.014\n3          STOP_LOSS_PERCENT    0.004\n4   LOOKBACK_THROUGH_WEEKENS  209.000\n5            LOOKBACK_NORMAL  693.000\n6         SUMMARY_TRADE_DAYS  902.000\n7               TOTAL_TRADES   77.000\n8               SHORT_TRADES   39.000\n9                LONG_TRADES   38.000\n10          STOP_LOSS_TRADES    7.000",
      "text/html": "<div>\n<style scoped>\n    .dataframe tbody tr th:only-of-type {\n        vertical-align: middle;\n    }\n\n    .dataframe tbody tr th {\n        vertical-align: top;\n    }\n\n    .dataframe thead th {\n        text-align: right;\n    }\n</style>\n<table border=\"1\" class=\"dataframe\">\n  <thead>\n    <tr style=\"text-align: right;\">\n      <th></th>\n      <th>0</th>\n      <th>1</th>\n    </tr>\n  </thead>\n  <tbody>\n    <tr>\n      <th>0</th>\n      <td>HOLD</td>\n      <td>45.000</td>\n    </tr>\n    <tr>\n      <th>1</th>\n      <td>LOOKBACK</td>\n      <td>1.000</td>\n    </tr>\n    <tr>\n      <th>2</th>\n      <td>THRESHOLD</td>\n      <td>0.014</td>\n    </tr>\n    <tr>\n      <th>3</th>\n      <td>STOP_LOSS_PERCENT</td>\n      <td>0.004</td>\n    </tr>\n    <tr>\n      <th>4</th>\n      <td>LOOKBACK_THROUGH_WEEKENS</td>\n      <td>209.000</td>\n    </tr>\n    <tr>\n      <th>5</th>\n      <td>LOOKBACK_NORMAL</td>\n      <td>693.000</td>\n    </tr>\n    <tr>\n      <th>6</th>\n      <td>SUMMARY_TRADE_DAYS</td>\n      <td>902.000</td>\n    </tr>\n    <tr>\n      <th>7</th>\n      <td>TOTAL_TRADES</td>\n      <td>77.000</td>\n    </tr>\n    <tr>\n      <th>8</th>\n      <td>SHORT_TRADES</td>\n      <td>39.000</td>\n    </tr>\n    <tr>\n      <th>9</th>\n      <td>LONG_TRADES</td>\n      <td>38.000</td>\n    </tr>\n    <tr>\n      <th>10</th>\n      <td>STOP_LOSS_TRADES</td>\n      <td>7.000</td>\n    </tr>\n  </tbody>\n</table>\n</div>"
     },
     "execution_count": 28,
     "metadata": {},
     "output_type": "execute_result"
    }
   ],
   "source": [
    "INFO"
   ],
   "metadata": {
    "collapsed": false,
    "pycharm": {
     "name": "#%%\n"
    }
   }
  },
  {
   "cell_type": "code",
   "execution_count": 29,
   "outputs": [
    {
     "data": {
      "text/plain": "<Figure size 1296x720 with 1 Axes>",
      "image/png": "[encoded data removed]"
     },
     "metadata": {},
     "output_type": "display_data"
    },
    {
     "name": "stdout",
     "output_type": "stream",
     "text": [
      "SHARPE: 1.607\n"
     ]
    },
    {
     "data": {
      "text/plain": "1.607"
     },
     "execution_count": 29,
     "metadata": {},
     "output_type": "execute_result"
    }
   ],
   "source": [
    "sharpe(MONEY_ARRAY, DATES_ARRAY)"
   ],
   "metadata": {
    "collapsed": false,
    "pycharm": {
     "name": "#%%\n"
    }
   }
  },
  {
   "cell_type": "code",
   "execution_count": null,
   "outputs": [],
   "source": [
    "DATES_ARRAY, MONEY_ARRAY = backtest(nrm=ddd,THRESHOLD=0.012, LOSS_PERCENT=0.004, MINUTES_TO_CLOSE=45)\n",
    "plt.figure(figsize=(8, 4))\n",
    "plt.xticks(rotation=90)\n",
    "plt.plot(DATES_ARRAY, MONEY_ARRAY, linestyle='-', color='blue')\n",
    "plt.plot(DATES_ARRAY, MONEY_ARRAY, marker='o', markersize=2.5, color='red')\n",
    "plt.show()"
   ],
   "metadata": {
    "collapsed": false,
    "pycharm": {
     "name": "#%%\n"
    }
   }
  },
  {
   "cell_type": "code",
   "execution_count": null,
   "outputs": [],
   "source": [
    "DATES_ARRAY, MONEY_ARRAY = backtest(nrm=data.drop_duplicates(),THRESHOLD=0.012, LOSS_PERCENT=0.004,  MINUTES_TO_CLOSE=45)\n",
    "plt.figure(figsize=(8, 4))\n",
    "plt.xticks(rotation=90)\n",
    "plt.plot(DATES_ARRAY, MONEY_ARRAY, linestyle='-', color='blue')\n",
    "plt.plot(DATES_ARRAY, MONEY_ARRAY, marker='o', markersize=2.5, color='red')\n",
    "plt.show()"
   ],
   "metadata": {
    "collapsed": false,
    "pycharm": {
     "name": "#%%\n"
    }
   }
  },
  {
   "cell_type": "code",
   "execution_count": null,
   "outputs": [],
   "source": [],
   "metadata": {
    "collapsed": false,
    "pycharm": {
     "name": "#%%\n"
    }
   }
  },
  {
   "cell_type": "code",
   "execution_count": null,
   "outputs": [],
   "source": [
    "data"
   ],
   "metadata": {
    "collapsed": false,
    "pycharm": {
     "name": "#%%\n"
    }
   }
  }
 ],
 "metadata": {
  "kernelspec": {
   "display_name": "Python 3",
   "language": "python",
   "name": "python3"
  },
  "language_info": {
   "codemirror_mode": {
    "name": "ipython",
    "version": 2
   },
   "file_extension": ".py",
   "mimetype": "text/x-python",
   "name": "python",
   "nbconvert_exporter": "python",
   "pygments_lexer": "ipython2",
   "version": "2.7.6"
  }
 },
 "nbformat": 4,
 "nbformat_minor": 0
}