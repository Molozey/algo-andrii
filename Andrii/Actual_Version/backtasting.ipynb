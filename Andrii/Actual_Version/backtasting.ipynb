{
 "cells": [
  {
   "cell_type": "code",
   "execution_count": 1,
   "metadata": {
    "collapsed": true
   },
   "outputs": [],
   "source": []
  },
  {
   "cell_type": "code",
   "execution_count": 2,
   "outputs": [],
   "source": [
    "import pandas as pd\n",
    "import numpy as np\n",
    "\n",
    "import matplotlib.pylab as plt\n",
    "from tqdm.notebook import tqdm\n",
    "from scipy.special import gamma\n",
    "\n",
    "from joblib import Parallel, delayed\n",
    "\n",
    "import datetime"
   ],
   "metadata": {
    "collapsed": false,
    "pycharm": {
     "name": "#%%\n"
    }
   }
  },
  {
   "cell_type": "code",
   "execution_count": 3,
   "outputs": [
    {
     "data": {
      "text/plain": "                           date      time      open      high       low  \\\n2011-12-19 09:30:00  12/19/2011   9:30:00  1215.875  1216.375  1215.625   \n2011-12-19 09:31:00  12/19/2011   9:31:00  1215.875  1217.125  1215.875   \n2011-12-19 09:32:00  12/19/2011   9:32:00  1217.125  1217.875  1217.125   \n2011-12-19 09:33:00  12/19/2011   9:33:00  1217.625  1218.375  1217.625   \n2011-12-19 09:34:00  12/19/2011   9:34:00  1218.125  1218.375  1217.625   \n...                         ...       ...       ...       ...       ...   \n2015-12-16 16:10:00  12/16/2015  16:10:00  2070.125  2070.375  2069.875   \n2015-12-16 16:11:00  12/16/2015  16:11:00  2070.125  2070.875  2069.125   \n2015-12-16 16:12:00  12/16/2015  16:12:00  2069.250  2072.125  2069.125   \n2015-12-16 16:13:00  12/16/2015  16:13:00  2072.125  2072.625  2071.625   \n2015-12-16 16:14:00  12/16/2015  16:14:00  2072.000  2072.375  2071.125   \n\n                        close  \n2011-12-19 09:30:00  1215.875  \n2011-12-19 09:31:00  1217.125  \n2011-12-19 09:32:00  1217.625  \n2011-12-19 09:33:00  1218.125  \n2011-12-19 09:34:00  1217.875  \n...                       ...  \n2015-12-16 16:10:00  2070.125  \n2015-12-16 16:11:00  2069.250  \n2015-12-16 16:12:00  2072.125  \n2015-12-16 16:13:00  2072.000  \n2015-12-16 16:14:00  2072.125  \n\n[390552 rows x 6 columns]",
      "text/html": "<div>\n<style scoped>\n    .dataframe tbody tr th:only-of-type {\n        vertical-align: middle;\n    }\n\n    .dataframe tbody tr th {\n        vertical-align: top;\n    }\n\n    .dataframe thead th {\n        text-align: right;\n    }\n</style>\n<table border=\"1\" class=\"dataframe\">\n  <thead>\n    <tr style=\"text-align: right;\">\n      <th></th>\n      <th>date</th>\n      <th>time</th>\n      <th>open</th>\n      <th>high</th>\n      <th>low</th>\n      <th>close</th>\n    </tr>\n  </thead>\n  <tbody>\n    <tr>\n      <th>2011-12-19 09:30:00</th>\n      <td>12/19/2011</td>\n      <td>9:30:00</td>\n      <td>1215.875</td>\n      <td>1216.375</td>\n      <td>1215.625</td>\n      <td>1215.875</td>\n    </tr>\n    <tr>\n      <th>2011-12-19 09:31:00</th>\n      <td>12/19/2011</td>\n      <td>9:31:00</td>\n      <td>1215.875</td>\n      <td>1217.125</td>\n      <td>1215.875</td>\n      <td>1217.125</td>\n    </tr>\n    <tr>\n      <th>2011-12-19 09:32:00</th>\n      <td>12/19/2011</td>\n      <td>9:32:00</td>\n      <td>1217.125</td>\n      <td>1217.875</td>\n      <td>1217.125</td>\n      <td>1217.625</td>\n    </tr>\n    <tr>\n      <th>2011-12-19 09:33:00</th>\n      <td>12/19/2011</td>\n      <td>9:33:00</td>\n      <td>1217.625</td>\n      <td>1218.375</td>\n      <td>1217.625</td>\n      <td>1218.125</td>\n    </tr>\n    <tr>\n      <th>2011-12-19 09:34:00</th>\n      <td>12/19/2011</td>\n      <td>9:34:00</td>\n      <td>1218.125</td>\n      <td>1218.375</td>\n      <td>1217.625</td>\n      <td>1217.875</td>\n    </tr>\n    <tr>\n      <th>...</th>\n      <td>...</td>\n      <td>...</td>\n      <td>...</td>\n      <td>...</td>\n      <td>...</td>\n      <td>...</td>\n    </tr>\n    <tr>\n      <th>2015-12-16 16:10:00</th>\n      <td>12/16/2015</td>\n      <td>16:10:00</td>\n      <td>2070.125</td>\n      <td>2070.375</td>\n      <td>2069.875</td>\n      <td>2070.125</td>\n    </tr>\n    <tr>\n      <th>2015-12-16 16:11:00</th>\n      <td>12/16/2015</td>\n      <td>16:11:00</td>\n      <td>2070.125</td>\n      <td>2070.875</td>\n      <td>2069.125</td>\n      <td>2069.250</td>\n    </tr>\n    <tr>\n      <th>2015-12-16 16:12:00</th>\n      <td>12/16/2015</td>\n      <td>16:12:00</td>\n      <td>2069.250</td>\n      <td>2072.125</td>\n      <td>2069.125</td>\n      <td>2072.125</td>\n    </tr>\n    <tr>\n      <th>2015-12-16 16:13:00</th>\n      <td>12/16/2015</td>\n      <td>16:13:00</td>\n      <td>2072.125</td>\n      <td>2072.625</td>\n      <td>2071.625</td>\n      <td>2072.000</td>\n    </tr>\n    <tr>\n      <th>2015-12-16 16:14:00</th>\n      <td>12/16/2015</td>\n      <td>16:14:00</td>\n      <td>2072.000</td>\n      <td>2072.375</td>\n      <td>2071.125</td>\n      <td>2072.125</td>\n    </tr>\n  </tbody>\n</table>\n<p>390552 rows × 6 columns</p>\n</div>"
     },
     "execution_count": 3,
     "metadata": {},
     "output_type": "execute_result"
    }
   ],
   "source": [
    "input_data = pd.read_csv('STORAGE_data/es-1min_FULL.csv')\n",
    "input_data.index = pd.to_datetime(input_data.date + ' ' + input_data.time)\n",
    "input_data"
   ],
   "metadata": {
    "collapsed": false,
    "pycharm": {
     "name": "#%%\n"
    }
   }
  },
  {
   "cell_type": "code",
   "execution_count": 4,
   "outputs": [],
   "source": [
    "data = input_data.drop(['date', 'time'], axis=1)"
   ],
   "metadata": {
    "collapsed": false,
    "pycharm": {
     "name": "#%%\n"
    }
   }
  },
  {
   "cell_type": "code",
   "execution_count": 4,
   "outputs": [],
   "source": [],
   "metadata": {
    "collapsed": false,
    "pycharm": {
     "name": "#%%\n"
    }
   }
  },
  {
   "cell_type": "code",
   "execution_count": 5,
   "outputs": [
    {
     "data": {
      "text/plain": "<Figure size 864x360 with 1 Axes>",
      "image/png": "[encoded data removed]"
     },
     "metadata": {},
     "output_type": "display_data"
    }
   ],
   "source": [
    "plt.style.use('dark_background')\n",
    "plt.figure(figsize=(12,5))\n",
    "plt.plot(data.close, 'o', markersize=.3, color='red', alpha=.6)\n",
    "plt.title('Input data')\n",
    "plt.show()"
   ],
   "metadata": {
    "collapsed": false,
    "pycharm": {
     "name": "#%%\n"
    }
   }
  },
  {
   "cell_type": "code",
   "execution_count": 6,
   "outputs": [],
   "source": [
    "def _start_duplicates_removing(inp_data):\n",
    "    #   Clean duplicates\n",
    "    ret_data = inp_data.reset_index().drop_duplicates(subset='index', keep='first').set_index('index')\n",
    "    #   Check success of cleaning\n",
    "    assert len(ret_data.index) == len(ret_data.index.unique())\n",
    "    print(f'Duplicates at {1 - (ret_data.shape[0] / inp_data.shape[0]):.2%} of data')\n",
    "    return ret_data\n",
    "\n",
    "def normalize_data(inp_data: pd.DataFrame, show=True):\n",
    "    #   Calculate the right numbers of observations intra day\n",
    "    NORMAL_MINUTES = (15 - 9) * 60 + 30\n",
    "    #   Checks for duplicates\n",
    "    if show:\n",
    "        plt.style.use('dark_background')\n",
    "        plt.figure(figsize=(12,8))\n",
    "        plt.subplot(2,1,1)\n",
    "        plt.plot(inp_data.close, 'o', markersize=.3, color='red', alpha=.6)\n",
    "        plt.title('Input data')\n",
    "\n",
    "    if len(inp_data.index) != len(inp_data.index.unique()):\n",
    "        inp_data = _start_duplicates_removing(inp_data)\n",
    "    #   In data not of all information about trade-day. For example at date 2011-12-19 data ends at 15:59. At date 2015-12-19 data ends at 16:14. Notice that normal trade day ends at 16:30.\n",
    "    #   At start lets drop lines with days with zero observations.\n",
    "    mask = ~np.in1d(inp_data.index.date,inp_data.resample('1D').count().query(f'open < {NORMAL_MINUTES}').index.date)\n",
    "\n",
    "    if show:\n",
    "        plt.subplot(2,1,2)\n",
    "        plt.plot(inp_data.loc[mask,:].close, 'o', markersize=.3, color='red', alpha=.6)\n",
    "        plt.title('Cut data')\n",
    "        plt.show()\n",
    "    #   Shows percent of \"bad\" dotes\n",
    "    print(f\"Bad days at {1 - (len(mask) / len(inp_data)):.2%} observations\")\n",
    "    return inp_data.loc[mask,:]"
   ],
   "metadata": {
    "collapsed": false,
    "pycharm": {
     "name": "#%%\n"
    }
   }
  },
  {
   "cell_type": "code",
   "execution_count": 7,
   "outputs": [],
   "source": [
    "#nrm = normalize_data(data)"
   ],
   "metadata": {
    "collapsed": false,
    "pycharm": {
     "name": "#%%\n"
    }
   }
  },
  {
   "cell_type": "code",
   "execution_count": 8,
   "outputs": [
    {
     "data": {
      "text/plain": "\"THRESHOLD = 0.014\\n#THRESHOLD = 0.0001\\n\\ndef order_logic(OP, CL, X):\\n    if (OP / CL) - 1 > X:\\n        return True, 'LONG'\\n    if (OP / CL) - 1 < -1 * X:\\n        return True, 'SHORT',\\n    else:\\n        return False, 'FALSE',\\n\\n# def order_return(inp_data: pd.DataFrame, MONEY, OP, TYPE):\\n#     SLIPADGE = 10\\n#     CLOSE = inp_data.iloc[-1].close\\n#     if TYPE == 'SHORT':\\n#         return (2 * MONEY) - ((MONEY / OP) * CLOSE) - SLIPADGE\\n#     if TYPE == 'LONG':\\n#         return (MONEY / OP) * CLOSE - SLIPADGE\\n\\ndef order_return(inp_data: pd.DataFrame, MONEY, OP, TYPE, INDEX):\\n    loss_data = inp_data.loc[INDEX:]\\n    SLIPADGE = 20\\n    BATCH = 1\\n    LOSS_PERCENT = 0.05\\n    CLOSE = inp_data.iloc[-1].close\\n\\n    if TYPE == 'SHORT':\\n        for _ in loss_data.index:\\n            if (loss_data.loc[_,:].open / OP) - 1 > LOSS_PERCENT:\\n                return BATCH * (OP - loss_data.loc[_,:].close) - SLIPADGE\\n        return BATCH * (OP - CLOSE) - SLIPADGE\\n    if TYPE == 'LONG':\\n        for _ in loss_data.index:\\n            if (loss_data.loc[_,:].open / OP) - 1 < -1 * LOSS_PERCENT:\\n                return BATCH * (loss_data.loc[_,:].close - OP) - SLIPADGE\\n        return BATCH * (CLOSE - OP) - SLIPADGE\\n\\nMONEY = 10\\nMONEY_ARRAY = list()\\nDATES_ARRAY = list()\\n\\n\\nALL_index_array = nrm.index\\nfor index in tqdm(np.unique(nrm.index[:].date)):\\n    _true_index = pd.to_datetime(index) + datetime.timedelta(hours=14, minutes=30, seconds=0) # '2012-01-01' -> '2012-01-01 14:30:00'\\n    CURRENT = nrm.loc[_true_index,:].open\\n    back_index = _true_index - datetime.timedelta(days=1) + datetime.timedelta(minutes=30)\\n    forward_index = _true_index + datetime.timedelta(minutes=59)\\n    if (back_index in ALL_index_array) and (forward_index in ALL_index_array):\\n        DAY_BACK_CLOSE = nrm.loc[back_index,:].close\\n        DAY_CURRENT_CLOSE = nrm.loc[forward_index, :].close\\n        CURRENT_data = nrm.loc[index.strftime('%Y-%m-%d'): index.strftime('%Y-%m-%d')]\\n        if order_logic(CURRENT, DAY_BACK_CLOSE, THRESHOLD)[0]:\\n            TYPE = order_logic(CURRENT, DAY_BACK_CLOSE, THRESHOLD)[1]\\n            MONEY = MONEY + order_return(CURRENT_data, MONEY, CURRENT, TYPE, _true_index)\\n            if MONEY < 0:\\n                MONEY = 10\\n            MONEY_ARRAY.append(MONEY)\\n            DATES_ARRAY.append(index)\\n\\nMONEY_ARRAY\\n\""
     },
     "execution_count": 8,
     "metadata": {},
     "output_type": "execute_result"
    }
   ],
   "source": [
    "\"\"\"THRESHOLD = 0.014\n",
    "#THRESHOLD = 0.0001\n",
    "\n",
    "def order_logic(OP, CL, X):\n",
    "    if (OP / CL) - 1 > X:\n",
    "        return True, 'LONG'\n",
    "    if (OP / CL) - 1 < -1 * X:\n",
    "        return True, 'SHORT',\n",
    "    else:\n",
    "        return False, 'FALSE',\n",
    "\n",
    "# def order_return(inp_data: pd.DataFrame, MONEY, OP, TYPE):\n",
    "#     SLIPADGE = 10\n",
    "#     CLOSE = inp_data.iloc[-1].close\n",
    "#     if TYPE == 'SHORT':\n",
    "#         return (2 * MONEY) - ((MONEY / OP) * CLOSE) - SLIPADGE\n",
    "#     if TYPE == 'LONG':\n",
    "#         return (MONEY / OP) * CLOSE - SLIPADGE\n",
    "\n",
    "def order_return(inp_data: pd.DataFrame, MONEY, OP, TYPE, INDEX):\n",
    "    loss_data = inp_data.loc[INDEX:]\n",
    "    SLIPADGE = 20\n",
    "    BATCH = 1\n",
    "    LOSS_PERCENT = 0.05\n",
    "    CLOSE = inp_data.iloc[-1].close\n",
    "\n",
    "    if TYPE == 'SHORT':\n",
    "        for _ in loss_data.index:\n",
    "            if (loss_data.loc[_,:].open / OP) - 1 > LOSS_PERCENT:\n",
    "                return BATCH * (OP - loss_data.loc[_,:].close) - SLIPADGE\n",
    "        return BATCH * (OP - CLOSE) - SLIPADGE\n",
    "    if TYPE == 'LONG':\n",
    "        for _ in loss_data.index:\n",
    "            if (loss_data.loc[_,:].open / OP) - 1 < -1 * LOSS_PERCENT:\n",
    "                return BATCH * (loss_data.loc[_,:].close - OP) - SLIPADGE\n",
    "        return BATCH * (CLOSE - OP) - SLIPADGE\n",
    "\n",
    "MONEY = 10\n",
    "MONEY_ARRAY = list()\n",
    "DATES_ARRAY = list()\n",
    "\n",
    "\n",
    "ALL_index_array = nrm.index\n",
    "for index in tqdm(np.unique(nrm.index[:].date)):\n",
    "    _true_index = pd.to_datetime(index) + datetime.timedelta(hours=14, minutes=30, seconds=0) # '2012-01-01' -> '2012-01-01 14:30:00'\n",
    "    CURRENT = nrm.loc[_true_index,:].open\n",
    "    back_index = _true_index - datetime.timedelta(days=1) + datetime.timedelta(minutes=30)\n",
    "    forward_index = _true_index + datetime.timedelta(minutes=59)\n",
    "    if (back_index in ALL_index_array) and (forward_index in ALL_index_array):\n",
    "        DAY_BACK_CLOSE = nrm.loc[back_index,:].close\n",
    "        DAY_CURRENT_CLOSE = nrm.loc[forward_index, :].close\n",
    "        CURRENT_data = nrm.loc[index.strftime('%Y-%m-%d'): index.strftime('%Y-%m-%d')]\n",
    "        if order_logic(CURRENT, DAY_BACK_CLOSE, THRESHOLD)[0]:\n",
    "            TYPE = order_logic(CURRENT, DAY_BACK_CLOSE, THRESHOLD)[1]\n",
    "            MONEY = MONEY + order_return(CURRENT_data, MONEY, CURRENT, TYPE, _true_index)\n",
    "            if MONEY < 0:\n",
    "                MONEY = 10\n",
    "            MONEY_ARRAY.append(MONEY)\n",
    "            DATES_ARRAY.append(index)\n",
    "\n",
    "MONEY_ARRAY\n",
    "\n",
    "def sharpe(MNY_RET):\n",
    "    MNY_RET = np.array(MNY_RET)\n",
    "    #LMNY = (np.diff(MNY_RET) / MNY_RET[:-1])\n",
    "    LMNY = np.diff(np.log(MNY_RET))\n",
    "    print(LMNY[:10])\n",
    "    SHARPE = np.nanmean(LMNY)/ np.nanstd(LMNY)\n",
    "    print('SHARPE:', SHARPE)\n",
    "    return SHARPE\n",
    "\n",
    "sharpe(MONEY_ARRAY)\n",
    "\"\"\""
   ],
   "metadata": {
    "collapsed": false,
    "pycharm": {
     "name": "#%%\n"
    }
   }
  },
  {
   "cell_type": "code",
   "execution_count": null,
   "outputs": [],
   "source": [],
   "metadata": {
    "collapsed": false,
    "pycharm": {
     "name": "#%%\n"
    }
   }
  },
  {
   "cell_type": "code",
   "execution_count": 72,
   "outputs": [],
   "source": [
    "def backtest(nrm: pd.DataFrame, THRESHOLD, LOSS_PERCENT, MINUTES_TO_CLOSE):\n",
    "    SHORT = 0\n",
    "    LONG = 0\n",
    "    STOP_LOSS = 0\n",
    "\n",
    "\n",
    "    THRESHOLD = THRESHOLD\n",
    "    #THRESHOLD = 0.0001\n",
    "\n",
    "    def order_logic(OP, CL, X):\n",
    "        if (OP / CL) - 1 > X:\n",
    "            return True, 'LONG'\n",
    "        if (OP / CL) - 1 < -1 * X:\n",
    "            return True, 'SHORT',\n",
    "        else:\n",
    "            return False, 'FALSE',\n",
    "\n",
    "\n",
    "\n",
    "    def order_return(inp_data: pd.DataFrame, OP, TYPE, INDEX, LOSS_PERCENT):\n",
    "        loss_data = inp_data.loc[INDEX:]\n",
    "        SLIPADGE = 20\n",
    "        BATCH = 50\n",
    "        LOSS_PERCENT = LOSS_PERCENT\n",
    "        CLOSE = loss_data.iloc[-1].close\n",
    "        #print(f\"TYPE:{TYPE}| START:{OP}| CLOSE:{CLOSE}\")\n",
    "        if TYPE == 'SHORT':\n",
    "            for _ in loss_data.index:\n",
    "                if (loss_data.loc[_,:].open / OP) - 1 > LOSS_PERCENT:\n",
    "                    return BATCH * (OP - loss_data.loc[_,:].close) - SLIPADGE, 'LOSS'\n",
    "            return BATCH * (OP - CLOSE) - SLIPADGE, 'NULL'\n",
    "        if TYPE == 'LONG':\n",
    "            for _ in loss_data.index:\n",
    "                if (loss_data.loc[_,:].open / OP) - 1 < -1 * LOSS_PERCENT:\n",
    "                    return BATCH * (loss_data.loc[_,:].close - OP) - SLIPADGE, 'LOSS'\n",
    "            return BATCH * (CLOSE - OP) - SLIPADGE, 'NULL'\n",
    "\n",
    "    MONEY = 0\n",
    "    MONEY_ARRAY = list()\n",
    "    DATES_ARRAY = list()\n",
    "\n",
    "\n",
    "    C0 = 0\n",
    "    C1 = 0\n",
    "    C2 = 0\n",
    "    ALL_index_array = nrm.index\n",
    "    ALL_index_dates_array = np.unique(nrm.index.date)\n",
    "    #for _ARROW_, index in enumerate(tqdm(np.unique(nrm.index[:].date)[300:302])):\n",
    "    for _ARROW_, index in enumerate(tqdm(np.unique(nrm.index[:].date)[2:])):\n",
    "        C0 += 1\n",
    "        #print(index)\n",
    "        _true_index = nrm.loc[index.strftime('%Y-%m-%d')].iloc[-1].name - datetime.timedelta(minutes=MINUTES_TO_CLOSE)\n",
    "        if (index - datetime.timedelta(days=1)) in ALL_index_dates_array:\n",
    "            C1 += 1\n",
    "            back_index = nrm.loc[(index - datetime.timedelta(days=1)).strftime('%Y-%m-%d')].iloc[-1].name\n",
    "            forward_index = nrm.loc[index.strftime('%Y-%m-%d')].iloc[-1].name\n",
    "            #print(_true_index)\n",
    "            #print(nrm.loc[_true_index:index.strftime('%Y-%m-%d'),:])\n",
    "            #print(nrm.loc[_true_index:index.strftime('%Y-%m-%d'),:].iloc[0])\n",
    "            #CURRENT = nrm.loc[_true_index,:].open\n",
    "            CURRENT = nrm.loc[_true_index:index.strftime('%Y-%m-%d'),:].iloc[0].open\n",
    "            DAY_BACK_CLOSE = nrm.loc[back_index,:].close\n",
    "            DAY_CURRENT_CLOSE = nrm.loc[forward_index, :].close\n",
    "            #print(F\"ARROW: {_ARROW_} TRUE: {_true_index}, back: {back_index} forward: {forward_index}\")\n",
    "            CURRENT_data = nrm.loc[index.strftime('%Y-%m-%d')]\n",
    "            if order_logic(CURRENT, DAY_BACK_CLOSE, THRESHOLD)[0]:\n",
    "                TYPE = order_logic(CURRENT, DAY_BACK_CLOSE, THRESHOLD)[1]\n",
    "                if TYPE == 'SHORT':\n",
    "                    SHORT += 1\n",
    "                if TYPE == 'LONG':\n",
    "                    LONG += 1\n",
    "\n",
    "                RET = order_return(CURRENT_data, CURRENT, TYPE, _true_index, LOSS_PERCENT=LOSS_PERCENT)\n",
    "                if RET[1] == 'LOSS':\n",
    "                    STOP_LOSS += 1\n",
    "\n",
    "                MONEY = MONEY + RET[0]\n",
    "                if MONEY < 0:\n",
    "                    MONEY = 0\n",
    "                MONEY_ARRAY.append(MONEY)\n",
    "                DATES_ARRAY.append(index)\n",
    "\n",
    "\n",
    "        if (index - datetime.timedelta(days=1)) not in ALL_index_dates_array:\n",
    "            C2 += 1\n",
    "            back_index = nrm.loc[:index - datetime.timedelta(days=1)].iloc[-1].name.date()\n",
    "            forward_index = nrm.loc[index.strftime('%Y-%m-%d')].iloc[-1].name\n",
    "            #print(_true_index)\n",
    "            #print(nrm.loc[_true_index:index.strftime('%Y-%m-%d'),:])\n",
    "            #print(nrm.loc[_true_index:index.strftime('%Y-%m-%d'),:].iloc[0])\n",
    "            #CURRENT = nrm.loc[_true_index,:].open\n",
    "            CURRENT = nrm.loc[_true_index:index.strftime('%Y-%m-%d'),:].iloc[0].open\n",
    "            DAY_BACK_CLOSE = nrm.loc[back_index.strftime('%Y-%m-%d'),:].close[-1]\n",
    "            DAY_CURRENT_CLOSE = nrm.loc[forward_index, :].close\n",
    "            #print(F\"ARROW: {_ARROW_} TRUE: {_true_index}, back: {back_index} forward: {forward_index}\")\n",
    "            CURRENT_data = nrm.loc[index.strftime('%Y-%m-%d')]\n",
    "            if order_logic(CURRENT, DAY_BACK_CLOSE, THRESHOLD)[0]:\n",
    "                TYPE = order_logic(CURRENT, DAY_BACK_CLOSE, THRESHOLD)[1]\n",
    "                if TYPE == 'SHORT':\n",
    "                    SHORT += 1\n",
    "                if TYPE == 'LONG':\n",
    "                    LONG += 1\n",
    "\n",
    "                RET = order_return(CURRENT_data, CURRENT, TYPE, _true_index, LOSS_PERCENT=LOSS_PERCENT)\n",
    "                if RET[1] == 'LOSS':\n",
    "                    STOP_LOSS += 1\n",
    "\n",
    "                MONEY = MONEY + RET[0]\n",
    "                if MONEY < 0:\n",
    "                    MONEY = 0\n",
    "                MONEY_ARRAY.append(MONEY)\n",
    "                DATES_ARRAY.append(index)\n",
    "    print('MINUTES TO CLOSE', MINUTES_TO_CLOSE)\n",
    "    print('X=', THRESHOLD)\n",
    "    print('STOP LOSS:', LOSS_PERCENT)\n",
    "    print('COUNT OF TRADES:', len(MONEY_ARRAY))\n",
    "    print('ALL', C0)\n",
    "    print('TRADE_NRM', C1)\n",
    "    print('TRADE_WEEKENDS_LOOKBACK', C2)\n",
    "    print(f'SHORTS: {SHORT}')\n",
    "    print(f\"LONGS: {LONG}\")\n",
    "    print(f\"STOP LOSS: {STOP_LOSS}\")\n",
    "\n",
    "\n",
    "    return DATES_ARRAY, MONEY_ARRAY\n",
    "\n",
    "def sharpe(MNY_RET):\n",
    "    MNY_RET = np.array(MNY_RET)\n",
    "    #LMNY = (np.diff(MNY_RET) / MNY_RET[:-1])\n",
    "    LMNY = np.diff(MNY_RET)\n",
    "    print(LMNY[:10])\n",
    "    SHARPE = np.nanmean(LMNY)/ np.nanstd(LMNY)\n",
    "    print('SHARPE:', SHARPE)\n",
    "    return SHARPE"
   ],
   "metadata": {
    "collapsed": false,
    "pycharm": {
     "name": "#%%\n"
    }
   }
  },
  {
   "cell_type": "code",
   "execution_count": 13,
   "outputs": [
    {
     "name": "stdout",
     "output_type": "stream",
     "text": [
      "Duplicates at 6.18% of data\n",
      "Bad days at 0.00% observations\n"
     ]
    }
   ],
   "source": [
    "ddd = normalize_data(data, show=False)"
   ],
   "metadata": {
    "collapsed": false,
    "pycharm": {
     "name": "#%%\n"
    }
   }
  },
  {
   "cell_type": "code",
   "execution_count": 74,
   "outputs": [
    {
     "data": {
      "text/plain": "  0%|          | 0/901 [00:00<?, ?it/s]",
      "application/vnd.jupyter.widget-view+json": {
       "version_major": 2,
       "version_minor": 0,
       "model_id": "9e4d3c2ec4f44e1b8c0f590acc8a1cf9"
      }
     },
     "metadata": {},
     "output_type": "display_data"
    },
    {
     "name": "stdout",
     "output_type": "stream",
     "text": [
      "MINUTES TO CLOSE 120\n",
      "X= 0.012\n",
      "STOP LOSS: 0.004\n",
      "COUNT OF TRADES: 95\n",
      "ALL 901\n",
      "TRADE_NRM 692\n",
      "TRADE_WEEKENDS_LOOKBACK 209\n",
      "SHORTS: 47\n",
      "LONGS: 48\n",
      "STOP LOSS: 19\n"
     ]
    },
    {
     "data": {
      "text/plain": "<Figure size 576x288 with 1 Axes>",
      "image/png": "[encoded data removed]"
     },
     "metadata": {},
     "output_type": "display_data"
    }
   ],
   "source": [
    "DATES_ARRAY, MONEY_ARRAY = backtest(nrm=ddd,THRESHOLD=0.012, LOSS_PERCENT=0.004, MINUTES_TO_CLOSE=120)\n",
    "plt.figure(figsize=(8, 4))\n",
    "plt.xticks(rotation=90)\n",
    "plt.plot(DATES_ARRAY, MONEY_ARRAY, linestyle='-', color='blue')\n",
    "plt.plot(DATES_ARRAY, MONEY_ARRAY, marker='o', markersize=2.5, color='red')\n",
    "plt.show()"
   ],
   "metadata": {
    "collapsed": false,
    "pycharm": {
     "name": "#%%\n"
    }
   }
  },
  {
   "cell_type": "code",
   "execution_count": 68,
   "outputs": [
    {
     "data": {
      "text/plain": "  0%|          | 0/901 [00:00<?, ?it/s]",
      "application/vnd.jupyter.widget-view+json": {
       "version_major": 2,
       "version_minor": 0,
       "model_id": "2e0c847b60e84256933cc9ee80662d96"
      }
     },
     "metadata": {},
     "output_type": "display_data"
    },
    {
     "name": "stdout",
     "output_type": "stream",
     "text": [
      "X= 0.012\n",
      "STOP LOSS: 0.004\n",
      "COUNT OF TRADES: 116\n",
      "ALL 901\n",
      "TRADE_NRM 692\n",
      "TRADE_WEEKENDS_LOOKBACK 209\n",
      "SHORTS: 51\n",
      "LONGS: 65\n",
      "STOP LOSS: 10\n"
     ]
    },
    {
     "data": {
      "text/plain": "<Figure size 576x288 with 1 Axes>",
      "image/png": "[encoded data removed]"
     },
     "metadata": {},
     "output_type": "display_data"
    }
   ],
   "source": [
    "DATES_ARRAY, MONEY_ARRAY = backtest(nrm=ddd,THRESHOLD=0.012, LOSS_PERCENT=0.004, MINUTES_TO_CLOSE=45)\n",
    "plt.figure(figsize=(8, 4))\n",
    "plt.xticks(rotation=90)\n",
    "plt.plot(DATES_ARRAY, MONEY_ARRAY, linestyle='-', color='blue')\n",
    "plt.plot(DATES_ARRAY, MONEY_ARRAY, marker='o', markersize=2.5, color='red')\n",
    "plt.show()"
   ],
   "metadata": {
    "collapsed": false,
    "pycharm": {
     "name": "#%%\n"
    }
   }
  },
  {
   "cell_type": "code",
   "execution_count": 66,
   "outputs": [
    {
     "data": {
      "text/plain": "  0%|          | 0/916 [00:00<?, ?it/s]",
      "application/vnd.jupyter.widget-view+json": {
       "version_major": 2,
       "version_minor": 0,
       "model_id": "5c17acf82eed4a8aad521f1a36fb341c"
      }
     },
     "metadata": {},
     "output_type": "display_data"
    },
    {
     "name": "stdout",
     "output_type": "stream",
     "text": [
      "X= 0.012\n",
      "STOP LOSS: 0.004\n",
      "COUNT OF TRADES: 113\n",
      "ALL 916\n",
      "TRADE_NRM 706\n",
      "TRADE_WEEKENDS_LOOKBACK 210\n",
      "SHORTS: 49\n",
      "LONGS: 64\n",
      "STOP LOSS: 8\n"
     ]
    },
    {
     "data": {
      "text/plain": "<Figure size 576x288 with 1 Axes>",
      "image/png": "[encoded data removed]"
     },
     "metadata": {},
     "output_type": "display_data"
    }
   ],
   "source": [
    "DATES_ARRAY, MONEY_ARRAY = backtest(nrm=data.drop_duplicates(),THRESHOLD=0.012, LOSS_PERCENT=0.004,  MINUTES_TO_CLOSE=45)\n",
    "plt.figure(figsize=(8, 4))\n",
    "plt.xticks(rotation=90)\n",
    "plt.plot(DATES_ARRAY, MONEY_ARRAY, linestyle='-', color='blue')\n",
    "plt.plot(DATES_ARRAY, MONEY_ARRAY, marker='o', markersize=2.5, color='red')\n",
    "plt.show()"
   ],
   "metadata": {
    "collapsed": false,
    "pycharm": {
     "name": "#%%\n"
    }
   }
  },
  {
   "cell_type": "code",
   "execution_count": 34,
   "outputs": [
    {
     "data": {
      "text/plain": "                         open      high       low     close\n2011-12-19 09:30:00  1215.875  1216.375  1215.625  1215.875\n2011-12-19 09:31:00  1215.875  1217.125  1215.875  1217.125\n2011-12-19 09:32:00  1217.125  1217.875  1217.125  1217.625\n2011-12-19 09:33:00  1217.625  1218.375  1217.625  1218.125\n2011-12-19 09:34:00  1218.125  1218.375  1217.625  1217.875\n...                       ...       ...       ...       ...\n2015-12-16 16:07:00  2072.125  2072.875  2071.375  2071.375\n2015-12-16 16:11:00  2070.125  2070.875  2069.125  2069.250\n2015-12-16 16:12:00  2069.250  2072.125  2069.125  2072.125\n2015-12-16 16:13:00  2072.125  2072.625  2071.625  2072.000\n2015-12-16 16:14:00  2072.000  2072.375  2071.125  2072.125\n\n[141206 rows x 4 columns]",
      "text/html": "<div>\n<style scoped>\n    .dataframe tbody tr th:only-of-type {\n        vertical-align: middle;\n    }\n\n    .dataframe tbody tr th {\n        vertical-align: top;\n    }\n\n    .dataframe thead th {\n        text-align: right;\n    }\n</style>\n<table border=\"1\" class=\"dataframe\">\n  <thead>\n    <tr style=\"text-align: right;\">\n      <th></th>\n      <th>open</th>\n      <th>high</th>\n      <th>low</th>\n      <th>close</th>\n    </tr>\n  </thead>\n  <tbody>\n    <tr>\n      <th>2011-12-19 09:30:00</th>\n      <td>1215.875</td>\n      <td>1216.375</td>\n      <td>1215.625</td>\n      <td>1215.875</td>\n    </tr>\n    <tr>\n      <th>2011-12-19 09:31:00</th>\n      <td>1215.875</td>\n      <td>1217.125</td>\n      <td>1215.875</td>\n      <td>1217.125</td>\n    </tr>\n    <tr>\n      <th>2011-12-19 09:32:00</th>\n      <td>1217.125</td>\n      <td>1217.875</td>\n      <td>1217.125</td>\n      <td>1217.625</td>\n    </tr>\n    <tr>\n      <th>2011-12-19 09:33:00</th>\n      <td>1217.625</td>\n      <td>1218.375</td>\n      <td>1217.625</td>\n      <td>1218.125</td>\n    </tr>\n    <tr>\n      <th>2011-12-19 09:34:00</th>\n      <td>1218.125</td>\n      <td>1218.375</td>\n      <td>1217.625</td>\n      <td>1217.875</td>\n    </tr>\n    <tr>\n      <th>...</th>\n      <td>...</td>\n      <td>...</td>\n      <td>...</td>\n      <td>...</td>\n    </tr>\n    <tr>\n      <th>2015-12-16 16:07:00</th>\n      <td>2072.125</td>\n      <td>2072.875</td>\n      <td>2071.375</td>\n      <td>2071.375</td>\n    </tr>\n    <tr>\n      <th>2015-12-16 16:11:00</th>\n      <td>2070.125</td>\n      <td>2070.875</td>\n      <td>2069.125</td>\n      <td>2069.250</td>\n    </tr>\n    <tr>\n      <th>2015-12-16 16:12:00</th>\n      <td>2069.250</td>\n      <td>2072.125</td>\n      <td>2069.125</td>\n      <td>2072.125</td>\n    </tr>\n    <tr>\n      <th>2015-12-16 16:13:00</th>\n      <td>2072.125</td>\n      <td>2072.625</td>\n      <td>2071.625</td>\n      <td>2072.000</td>\n    </tr>\n    <tr>\n      <th>2015-12-16 16:14:00</th>\n      <td>2072.000</td>\n      <td>2072.375</td>\n      <td>2071.125</td>\n      <td>2072.125</td>\n    </tr>\n  </tbody>\n</table>\n<p>141206 rows × 4 columns</p>\n</div>"
     },
     "execution_count": 34,
     "metadata": {},
     "output_type": "execute_result"
    }
   ],
   "source": [],
   "metadata": {
    "collapsed": false,
    "pycharm": {
     "name": "#%%\n"
    }
   }
  },
  {
   "cell_type": "code",
   "execution_count": 35,
   "outputs": [
    {
     "data": {
      "text/plain": "                         open      high       low     close\n2011-12-19 09:30:00  1215.875  1216.375  1215.625  1215.875\n2011-12-19 09:31:00  1215.875  1217.125  1215.875  1217.125\n2011-12-19 09:32:00  1217.125  1217.875  1217.125  1217.625\n2011-12-19 09:33:00  1217.625  1218.375  1217.625  1218.125\n2011-12-19 09:34:00  1218.125  1218.375  1217.625  1217.875\n...                       ...       ...       ...       ...\n2015-12-16 16:10:00  2070.125  2070.375  2069.875  2070.125\n2015-12-16 16:11:00  2070.125  2070.875  2069.125  2069.250\n2015-12-16 16:12:00  2069.250  2072.125  2069.125  2072.125\n2015-12-16 16:13:00  2072.125  2072.625  2071.625  2072.000\n2015-12-16 16:14:00  2072.000  2072.375  2071.125  2072.125\n\n[390552 rows x 4 columns]",
      "text/html": "<div>\n<style scoped>\n    .dataframe tbody tr th:only-of-type {\n        vertical-align: middle;\n    }\n\n    .dataframe tbody tr th {\n        vertical-align: top;\n    }\n\n    .dataframe thead th {\n        text-align: right;\n    }\n</style>\n<table border=\"1\" class=\"dataframe\">\n  <thead>\n    <tr style=\"text-align: right;\">\n      <th></th>\n      <th>open</th>\n      <th>high</th>\n      <th>low</th>\n      <th>close</th>\n    </tr>\n  </thead>\n  <tbody>\n    <tr>\n      <th>2011-12-19 09:30:00</th>\n      <td>1215.875</td>\n      <td>1216.375</td>\n      <td>1215.625</td>\n      <td>1215.875</td>\n    </tr>\n    <tr>\n      <th>2011-12-19 09:31:00</th>\n      <td>1215.875</td>\n      <td>1217.125</td>\n      <td>1215.875</td>\n      <td>1217.125</td>\n    </tr>\n    <tr>\n      <th>2011-12-19 09:32:00</th>\n      <td>1217.125</td>\n      <td>1217.875</td>\n      <td>1217.125</td>\n      <td>1217.625</td>\n    </tr>\n    <tr>\n      <th>2011-12-19 09:33:00</th>\n      <td>1217.625</td>\n      <td>1218.375</td>\n      <td>1217.625</td>\n      <td>1218.125</td>\n    </tr>\n    <tr>\n      <th>2011-12-19 09:34:00</th>\n      <td>1218.125</td>\n      <td>1218.375</td>\n      <td>1217.625</td>\n      <td>1217.875</td>\n    </tr>\n    <tr>\n      <th>...</th>\n      <td>...</td>\n      <td>...</td>\n      <td>...</td>\n      <td>...</td>\n    </tr>\n    <tr>\n      <th>2015-12-16 16:10:00</th>\n      <td>2070.125</td>\n      <td>2070.375</td>\n      <td>2069.875</td>\n      <td>2070.125</td>\n    </tr>\n    <tr>\n      <th>2015-12-16 16:11:00</th>\n      <td>2070.125</td>\n      <td>2070.875</td>\n      <td>2069.125</td>\n      <td>2069.250</td>\n    </tr>\n    <tr>\n      <th>2015-12-16 16:12:00</th>\n      <td>2069.250</td>\n      <td>2072.125</td>\n      <td>2069.125</td>\n      <td>2072.125</td>\n    </tr>\n    <tr>\n      <th>2015-12-16 16:13:00</th>\n      <td>2072.125</td>\n      <td>2072.625</td>\n      <td>2071.625</td>\n      <td>2072.000</td>\n    </tr>\n    <tr>\n      <th>2015-12-16 16:14:00</th>\n      <td>2072.000</td>\n      <td>2072.375</td>\n      <td>2071.125</td>\n      <td>2072.125</td>\n    </tr>\n  </tbody>\n</table>\n<p>390552 rows × 4 columns</p>\n</div>"
     },
     "execution_count": 35,
     "metadata": {},
     "output_type": "execute_result"
    }
   ],
   "source": [
    "data"
   ],
   "metadata": {
    "collapsed": false,
    "pycharm": {
     "name": "#%%\n"
    }
   }
  }
 ],
 "metadata": {
  "kernelspec": {
   "display_name": "Python 3",
   "language": "python",
   "name": "python3"
  },
  "language_info": {
   "codemirror_mode": {
    "name": "ipython",
    "version": 2
   },
   "file_extension": ".py",
   "mimetype": "text/x-python",
   "name": "python",
   "nbconvert_exporter": "python",
   "pygments_lexer": "ipython2",
   "version": "2.7.6"
  }
 },
 "nbformat": 4,
 "nbformat_minor": 0
}