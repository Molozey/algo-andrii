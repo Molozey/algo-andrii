{
 "cells": [
  {
   "cell_type": "code",
   "execution_count": 29,
   "metadata": {
    "collapsed": true
   },
   "outputs": [],
   "source": [
    "import pandas as pd\n",
    "import matplotlib.pylab as plt\n",
    "import numpy as np\n",
    "from scipy import stats"
   ]
  },
  {
   "cell_type": "code",
   "source": [
    "raw_data = pd.read_csv('STORAGE_data/es-1min_FULL.csv')"
   ],
   "metadata": {
    "collapsed": false,
    "pycharm": {
     "name": "#%%\n"
    }
   },
   "execution_count": 2,
   "outputs": []
  },
  {
   "cell_type": "code",
   "source": [
    "raw_data.info()\n",
    "df = raw_data\n",
    "raw_data.index = pd.to_datetime(raw_data.date + ' ' + raw_data.time)\n",
    "\n",
    "resamled = raw_data.open.resample('1H').first()\n",
    "resamled.dropna(inplace=True)"
   ],
   "metadata": {
    "collapsed": false,
    "pycharm": {
     "name": "#%%\n"
    }
   },
   "execution_count": 3,
   "outputs": [
    {
     "name": "stdout",
     "output_type": "stream",
     "text": [
      "<class 'pandas.core.frame.DataFrame'>\n",
      "RangeIndex: 390552 entries, 0 to 390551\n",
      "Data columns (total 6 columns):\n",
      " #   Column  Non-Null Count   Dtype  \n",
      "---  ------  --------------   -----  \n",
      " 0   date    390552 non-null  object \n",
      " 1   time    390552 non-null  object \n",
      " 2   open    390552 non-null  float64\n",
      " 3   high    390552 non-null  float64\n",
      " 4   low     390552 non-null  float64\n",
      " 5   close   390552 non-null  float64\n",
      "dtypes: float64(4), object(2)\n",
      "memory usage: 17.9+ MB\n"
     ]
    }
   ]
  },
  {
   "cell_type": "code",
   "source": [
    "\"\"\"\n",
    "Source: https://mingze-gao.com/measures/lomackinlay1988/\n",
    "\"\"\"\n",
    "def variance_ratio_test(log_prices, time_lag):\n",
    "    rets = np.diff(log_prices)\n",
    "    T = len(rets)\n",
    "    mean_log_ret = np.mean(rets)\n",
    "    sqr_subtraction = np.square(rets - mean_log_ret)\n",
    "    Var_1 = np.sum(sqr_subtraction) / (T-1)\n",
    "    rets_q_lag = (log_prices - np.roll(log_prices, time_lag))[time_lag:]\n",
    "    m_const= time_lag * (T - time_lag + 1) * (1 - time_lag / T)\n",
    "    Var_k = 1 / m_const * np.sum(np.square(rets_q_lag - time_lag * mean_log_ret))\n",
    "    VR = Var_k /Var_1\n",
    "    a_array = np.array([round((2*(time_lag - i) / time_lag) ** 2, 4) for i in range(1, time_lag)])\n",
    "    b_arr = np.empty(time_lag - 1, dtype=np.float64)\n",
    "    for j in range(1, time_lag):\n",
    "        b_arr[j - 1] = np.sum((sqr_subtraction * np.roll(sqr_subtraction, j))[j+1:])\n",
    "    delta_array = T * b_arr / np.square(np.sum(sqr_subtraction))\n",
    "    #assert len(delta_array) == len(a_array) == time_lag - 1\n",
    "    phi1 = 2 * (2 * time_lag - 1) * (time_lag - 1) / (3 * time_lag * T)\n",
    "    phi2 = np.sum(a_array * delta_array) / T\n",
    "\n",
    "    VR_STAT_HOMO = (VR - 1) / np.sqrt(phi1)\n",
    "    VR_STAT_HETERO = (VR - 1) / np.sqrt(phi2)\n",
    "    return VR, VR_STAT_HOMO, VR_STAT_HETERO\n",
    "\n",
    "def estimator(input_data):\n",
    "    for time_lag in [5, 6, 8, 10, 15, 20, 30, 40, 50]:\n",
    "        vr, homo, hetero = variance_ratio_test(np.log(input_data), time_lag)\n",
    "        print(f\"Variance Ration for time_lag={time_lag}: {vr} \\n HOMO: {homo}, p_value = {stats.norm.cdf(homo)} \\n HETERO: {hetero}, p_value = {stats.norm.cdf(hetero)} \\n--------\")"
   ],
   "metadata": {
    "collapsed": false,
    "pycharm": {
     "name": "#%%\n"
    }
   },
   "execution_count": 86,
   "outputs": []
  },
  {
   "cell_type": "code",
   "execution_count": 54,
   "outputs": [
    {
     "data": {
      "text/plain": "array([1215.875, 1215.875, 1209.875, ..., 2055.25 , 2069.875, 2072.625])"
     },
     "execution_count": 54,
     "metadata": {},
     "output_type": "execute_result"
    }
   ],
   "source": [
    "working = resamled.dropna().values"
   ],
   "metadata": {
    "collapsed": false,
    "pycharm": {
     "name": "#%%\n"
    }
   }
  },
  {
   "cell_type": "code",
   "execution_count": 89,
   "outputs": [
    {
     "name": "stdout",
     "output_type": "stream",
     "text": [
      "==================\n",
      "SIZE IS: 300\n",
      "Variance Ration for time_lag=5: 0.9268041842761074 \n",
      " HOMO: -0.5776984876080697, p_value = 0.28173385021059083 \n",
      " HETERO: -0.7319170199518807, p_value = 0.2321096085824581 \n",
      "--------\n",
      "Variance Ration for time_lag=6: 0.8934804342904803 \n",
      " HOMO: -0.7450834060967471, p_value = 0.22811064997816594 \n",
      " HETERO: -0.9338925814766251, p_value = 0.17517965297571658 \n",
      "--------\n",
      "Variance Ration for time_lag=8: 0.7316676340769268 \n",
      " HOMO: -1.5685726112601441, p_value = 0.058373779232643544 \n",
      " HETERO: -1.9160923489926898, p_value = 0.02767667100150867 \n",
      "--------\n",
      "Variance Ration for time_lag=10: 0.6141697732519136 \n",
      " HOMO: -1.9759657687094507, p_value = 0.024079327165239105 \n",
      " HETERO: -2.330538587492898, p_value = 0.00988885151209006 \n",
      "--------\n",
      "Variance Ration for time_lag=15: 0.5387202644803738 \n",
      " HOMO: -1.8777086739217432, p_value = 0.030210514737337574 \n",
      " HETERO: -2.138903481070187, p_value = 0.016221743036807876 \n",
      "--------\n",
      "Variance Ration for time_lag=20: 0.532135530075962 \n",
      " HOMO: -1.6278230103905036, p_value = 0.05178120997061231 \n",
      " HETERO: -1.8201112431395698, p_value = 0.034371032886497434 \n",
      "--------\n",
      "Variance Ration for time_lag=30: 0.3723270377145989 \n",
      " HOMO: -1.7601523816506117, p_value = 0.03919098665780754 \n",
      " HETERO: -1.9252015742303423, p_value = 0.02710207262039545 \n",
      "--------\n",
      "Variance Ration for time_lag=40: 0.2865018314969889 \n",
      " HOMO: -1.7217029866697282, p_value = 0.04256166801600682 \n",
      " HETERO: -1.868481169591143, p_value = 0.030847516216446408 \n",
      "--------\n",
      "Variance Ration for time_lag=50: 0.2750681820898025 \n",
      " HOMO: -1.5586469365458955, p_value = 0.059539983712169335 \n",
      " HETERO: -1.6873560283297853, p_value = 0.04576745677658882 \n",
      "--------\n",
      "=====================\n",
      "==================\n",
      "SIZE IS: 600\n",
      "Variance Ration for time_lag=5: 1.0185892902920095 \n",
      " HOMO: 0.20766131602062146, p_value = 0.5822532877382599 \n",
      " HETERO: 0.25994712723083296, p_value = 0.6025477209138539 \n",
      "--------\n",
      "Variance Ration for time_lag=6: 1.0029995562422027 \n",
      " HOMO: 0.029696846257990576, p_value = 0.5118455864322424 \n",
      " HETERO: 0.036874994574616356, p_value = 0.5147076611888389 \n",
      "--------\n",
      "Variance Ration for time_lag=8: 0.9207824194012586 \n",
      " HOMO: -0.6554370075845742, p_value = 0.256093215519131 \n",
      " HETERO: -0.7982909308413475, p_value = 0.21235083986081732 \n",
      "--------\n",
      "Variance Ration for time_lag=10: 0.8702137440843586 \n",
      " HOMO: -0.9407834949832766, p_value = 0.17340791036461206 \n",
      " HETERO: -1.1109148892386111, p_value = 0.13330249297330393 \n",
      "--------\n",
      "Variance Ration for time_lag=15: 0.8533690598712246 \n",
      " HOMO: -0.8448260028797874, p_value = 0.19910399705876858 \n",
      " HETERO: -0.9593273346525882, p_value = 0.16869693454853607 \n",
      "--------\n",
      "Variance Ration for time_lag=20: 0.8114921869632536 \n",
      " HOMO: -0.9283126949000761, p_value = 0.17662269540397874 \n",
      " HETERO: -1.0285299919610913, p_value = 0.15185029512282905 \n",
      "--------\n",
      "Variance Ration for time_lag=30: 0.6876987029623975 \n",
      " HOMO: -1.2395625628379512, p_value = 0.10756861745586499 \n",
      " HETERO: -1.3397376332264288, p_value = 0.0901653290073029 \n",
      "--------\n",
      "Variance Ration for time_lag=40: 0.646745483309296 \n",
      " HOMO: -1.2065099577570182, p_value = 0.11381046096145897 \n",
      " HETERO: -1.2910877343326206, p_value = 0.0983366283838788 \n",
      "--------\n",
      "Variance Ration for time_lag=50: 0.6310686851118298 \n",
      " HOMO: -1.1227263752707346, p_value = 0.13077686131659855 \n",
      " HETERO: -1.1958638397833241, p_value = 0.11587484912037832 \n",
      "--------\n",
      "=====================\n",
      "==================\n",
      "SIZE IS: 800\n",
      "Variance Ration for time_lag=5: 1.0405733546893638 \n",
      " HOMO: 0.5234722794890047, p_value = 0.6996771816497174 \n",
      " HETERO: 0.6396943181948757, p_value = 0.7388143249686254 \n",
      "--------\n",
      "Variance Ration for time_lag=6: 1.0228831860162189 \n",
      " HOMO: 0.26165545333859525, p_value = 0.6032064563443302 \n",
      " HETERO: 0.3158794422808645, p_value = 0.623952991845071 \n",
      "--------\n",
      "Variance Ration for time_lag=8: 0.983026755773549 \n",
      " HOMO: -0.16219379048780952, p_value = 0.4355766247648152 \n",
      " HETERO: -0.1901477023494909, p_value = 0.4245966954149443 \n",
      "--------\n",
      "Variance Ration for time_lag=10: 0.9693039664733339 \n",
      " HOMO: -0.2569823075591233, p_value = 0.3985962155256644 \n",
      " HETERO: -0.2916401159949521, p_value = 0.38528089999171744 \n",
      "--------\n",
      "Variance Ration for time_lag=15: 0.9932412874711312 \n",
      " HOMO: -0.04497442366965122, p_value = 0.48206384763748455 \n",
      " HETERO: -0.04930084396419156, p_value = 0.4803397734756343 \n",
      "--------\n",
      "Variance Ration for time_lag=20: 0.9897440344433686 \n",
      " HOMO: -0.05833127464753411, p_value = 0.47674237817613213 \n",
      " HETERO: -0.06260344698607863, p_value = 0.47504114225303823 \n",
      "--------\n",
      "Variance Ration for time_lag=30: 0.9281610864993346 \n",
      " HOMO: -0.3293171870904573, p_value = 0.37095797728429775 \n",
      " HETERO: -0.3459172209785619, p_value = 0.3647024631113409 \n",
      "--------\n",
      "Variance Ration for time_lag=40: 0.9007732308931181 \n",
      " HOMO: -0.3914100894394453, p_value = 0.3477470678616348 \n",
      " HETERO: -0.40787345894215343, p_value = 0.3416832895709211 \n",
      "--------\n",
      "Variance Ration for time_lag=50: 0.8852299406003027 \n",
      " HOMO: -0.40338244169329107, p_value = 0.3433334507748703 \n",
      " HETERO: -0.41863471459138557, p_value = 0.3377415574965786 \n",
      "--------\n",
      "=====================\n",
      "==================\n",
      "SIZE IS: 1200\n",
      "Variance Ration for time_lag=5: 1.0570291798330116 \n",
      " HOMO: 0.9013347158010014, p_value = 0.8162948095108743 \n",
      " HETERO: 1.095121474073467, p_value = 0.8632682889978189 \n",
      "--------\n",
      "Variance Ration for time_lag=6: 1.0485264834626815 \n",
      " HOMO: 0.6797172978387528, p_value = 0.7516582594450543 \n",
      " HETERO: 0.8214519002945228, p_value = 0.7943055443865807 \n",
      "--------\n",
      "Variance Ration for time_lag=8: 1.0294464738982203 \n",
      " HOMO: 0.3446980782774141, p_value = 0.634839318494986 \n",
      " HETERO: 0.4068149326552795, p_value = 0.6579280407980269 \n",
      "--------\n",
      "Variance Ration for time_lag=10: 1.0211939328495188 \n",
      " HOMO: 0.2173545419569632, p_value = 0.586033972711928 \n",
      " HETERO: 0.24736735195993956, p_value = 0.5976880307343814 \n",
      "--------\n",
      "Variance Ration for time_lag=15: 1.0448420652478585 \n",
      " HOMO: 0.36553034815130464, p_value = 0.6426422214102698 \n",
      " HETERO: 0.3994535823764044, p_value = 0.6552204903327847 \n",
      "--------\n",
      "Variance Ration for time_lag=20: 1.066735645099571 \n",
      " HOMO: 0.4649636242748403, p_value = 0.6790212468527004 \n",
      " HETERO: 0.49867482381519973, p_value = 0.6909957582251971 \n",
      "--------\n",
      "Variance Ration for time_lag=30: 0.9593798781763122 \n",
      " HOMO: -0.22810356099184725, p_value = 0.40978286589812996 \n",
      " HETERO: -0.24026884958108702, p_value = 0.4050609211008244 \n",
      "--------\n",
      "Variance Ration for time_lag=40: 0.8385873845898467 \n",
      " HOMO: -0.7799681024092495, p_value = 0.21770482532391106 \n",
      " HETERO: -0.8095740235379915, p_value = 0.20909252137500256 \n",
      "--------\n",
      "Variance Ration for time_lag=50: 0.7306489223625741 \n",
      " HOMO: -1.1596937146711028, p_value = 0.12308676505765831 \n",
      " HETERO: -1.1908219253951853, p_value = 0.11686174982002939 \n",
      "--------\n",
      "=====================\n",
      "==================\n",
      "SIZE IS: 2000\n",
      "Variance Ration for time_lag=5: 1.1001761999099728 \n",
      " HOMO: 2.0443268444739786, p_value = 0.9795393655091017 \n",
      " HETERO: 2.237380295455807, p_value = 0.987369252365185 \n",
      "--------\n",
      "Variance Ration for time_lag=6: 1.1088400547023713 \n",
      " HOMO: 1.9684983650188554, p_value = 0.9754946379760694 \n",
      " HETERO: 2.1545803208770007, p_value = 0.9844026548183009 \n",
      "--------\n",
      "Variance Ration for time_lag=8: 1.1082260131638466 \n",
      " HOMO: 1.6358144142294333, p_value = 0.9490607828262104 \n",
      " HETERO: 1.7656357475035038, p_value = 0.9612715106630105 \n",
      "--------\n",
      "Variance Ration for time_lag=10: 1.1080577676113883 \n",
      " HOMO: 1.4309022365728419, p_value = 0.9237708820112405 \n",
      " HETERO: 1.5081641420999952, p_value = 0.9342437389232842 \n",
      "--------\n",
      "Variance Ration for time_lag=15: 1.1358976458923593 \n",
      " HOMO: 1.4303640062825247, p_value = 0.9236937134271127 \n",
      " HETERO: 1.4699013175516773, p_value = 0.9292057586531584 \n",
      "--------\n",
      "Variance Ration for time_lag=20: 1.1509439130911951 \n",
      " HOMO: 1.3579179367032663, p_value = 0.9127551374085277 \n",
      " HETERO: 1.3821127402235565, p_value = 0.9165314563913737 \n",
      "--------\n",
      "Variance Ration for time_lag=30: 1.0328457125492472 \n",
      " HOMO: 0.2381586374642816, p_value = 0.5941209716536282 \n",
      " HETERO: 0.24010438484520974, p_value = 0.5948753324912716 \n",
      "--------\n",
      "Variance Ration for time_lag=40: 0.9012748776003526 \n",
      " HOMO: -0.6159760888873621, p_value = 0.26895515059170566 \n",
      " HETERO: -0.6137669777300551, p_value = 0.26968466080002007 \n",
      "--------\n",
      "Variance Ration for time_lag=50: 0.7920332818848652 \n",
      " HOMO: -1.1561527853218034, p_value = 0.12380933413060613 \n",
      " HETERO: -1.1409139964322743, p_value = 0.126952857168264 \n",
      "--------\n",
      "=====================\n",
      "==================\n",
      "SIZE IS: 5000\n",
      "Variance Ration for time_lag=5: 1.049123429493516 \n",
      " HOMO: 1.5852933163598444, p_value = 0.9435501465503695 \n",
      " HETERO: 1.4552763334095868, p_value = 0.9272036120800087 \n",
      "--------\n",
      "Variance Ration for time_lag=6: 1.046754225469494 \n",
      " HOMO: 1.3372184043274247, p_value = 0.9094243219529661 \n",
      " HETERO: 1.2270086349688303, p_value = 0.8900903272737751 \n",
      "--------\n",
      "Variance Ration for time_lag=8: 1.0367106214043307 \n",
      " HOMO: 0.8774639398198565, p_value = 0.8098826515380229 \n",
      " HETERO: 0.7893961363533137, p_value = 0.7850597433138159 \n",
      "--------\n",
      "Variance Ration for time_lag=10: 1.0271915571821206 \n",
      " HOMO: 0.5694075506158188, p_value = 0.7154602030471541 \n",
      " HETERO: 0.5023455685730792, p_value = 0.6922877698341038 \n",
      "--------\n",
      "Variance Ration for time_lag=15: 1.032798903194194 \n",
      " HOMO: 0.5459201590142027, p_value = 0.7074395897370536 \n",
      " HETERO: 0.47332137878499325, p_value = 0.682008044060294 \n",
      "--------\n",
      "Variance Ration for time_lag=20: 1.037351408687214 \n",
      " HOMO: 0.5313737267920942, p_value = 0.7024200878698035 \n",
      " HETERO: 0.46143863680573427, p_value = 0.6777580315503106 \n",
      "--------\n",
      "Variance Ration for time_lag=30: 0.9901793022057722 \n",
      " HOMO: -0.11260694270861552, p_value = 0.4551710902892837 \n",
      " HETERO: -0.09869576376211987, p_value = 0.46068991623623906 \n",
      "--------\n",
      "Variance Ration for time_lag=40: 0.9225538312423093 \n",
      " HOMO: -0.764137094292493, p_value = 0.22239277443545913 \n",
      " HETERO: -0.6745079649746818, p_value = 0.24999421180564063 \n",
      "--------\n",
      "Variance Ration for time_lag=50: 0.8560100410554454 \n",
      " HOMO: -1.2658690178597372, p_value = 0.10277999011556754 \n",
      " HETERO: -1.1237696797058043, p_value = 0.13055537369366904 \n",
      "--------\n",
      "=====================\n",
      "==================\n",
      "SIZE IS: 7000\n",
      "Variance Ration for time_lag=5: 0.980774148846939 \n",
      " HOMO: -0.7341468737255836, p_value = 0.23142961405969842 \n",
      " HETERO: -0.418250100032764, p_value = 0.3378821346009715 \n",
      "--------\n",
      "Variance Ration for time_lag=6: 0.9793735177018218 \n",
      " HOMO: -0.6980444446629812, p_value = 0.24257469981230884 \n",
      " HETERO: -0.4070849087775757, p_value = 0.3419728134643938 \n",
      "--------\n",
      "Variance Ration for time_lag=8: 0.9890859029216141 \n",
      " HOMO: -0.3086752315927775, p_value = 0.3787842933388692 \n",
      " HETERO: -0.18426522215571423, p_value = 0.42690269771760014 \n",
      "--------\n",
      "Variance Ration for time_lag=10: 0.9844469539055886 \n",
      " HOMO: -0.3853727749264447, p_value = 0.34998062517195094 \n",
      " HETERO: -0.22814936194733343, p_value = 0.4097650632791791 \n",
      "--------\n",
      "Variance Ration for time_lag=15: 0.9816817099884562 \n",
      " HOMO: -0.36077062553413236, p_value = 0.35913546171619265 \n",
      " HETERO: -0.2094420042931632, p_value = 0.41705160255713436 \n",
      "--------\n",
      "Variance Ration for time_lag=20: 0.9870703336944384 \n",
      " HOMO: -0.21764908047691656, p_value = 0.41385127018622575 \n",
      " HETERO: -0.12604700239027333, p_value = 0.44984735936020087 \n",
      "--------\n",
      "Variance Ration for time_lag=30: 0.9570971225516784 \n",
      " HOMO: -0.5820840105602533, p_value = 0.2802550473498602 \n",
      " HETERO: -0.3409177926809874, p_value = 0.36658273487512993 \n",
      "--------\n",
      "Variance Ration for time_lag=40: 0.8940141766436275 \n",
      " HOMO: -1.237358513528657, p_value = 0.10797700674730398 \n",
      " HETERO: -0.7411554639993858, p_value = 0.22929959167489034 \n",
      "--------\n",
      "Variance Ration for time_lag=50: 0.8287578843054767 \n",
      " HOMO: -1.7813266939323325, p_value = 0.03742954804909273 \n",
      " HETERO: -1.0928760754166233, p_value = 0.13722410697146342 \n",
      "--------\n",
      "=====================\n"
     ]
    }
   ],
   "source": [
    "for batch_size in [300, 600, 800, 1200, 2000, 5000, 7000]:\n",
    "    print('==================')\n",
    "    print('SIZE IS:', batch_size)\n",
    "    estimator(np.log(working[:batch_size]))\n",
    "    print('=====================')"
   ],
   "metadata": {
    "collapsed": false,
    "pycharm": {
     "name": "#%%\n"
    }
   }
  },
  {
   "cell_type": "code",
   "execution_count": 27,
   "outputs": [
    {
     "data": {
      "text/plain": "array([1215.875, 1215.875, 1209.875, ..., 2055.25 , 2069.875, 2072.625])"
     },
     "execution_count": 27,
     "metadata": {},
     "output_type": "execute_result"
    }
   ],
   "source": [],
   "metadata": {
    "collapsed": false,
    "pycharm": {
     "name": "#%%\n"
    }
   }
  },
  {
   "cell_type": "code",
   "execution_count": 75,
   "outputs": [
    {
     "name": "stdout",
     "output_type": "stream",
     "text": [
      "PDF 0.15865525393145707 CDF 0.8413447460685429 \n",
      " SUM: 1.0\n"
     ]
    },
    {
     "data": {
      "text/plain": "<Figure size 432x288 with 1 Axes>",
      "image/png": "[encoded data removed]"
     },
     "metadata": {
      "needs_background": "light"
     },
     "output_type": "display_data"
    }
   ],
   "source": [
    "def _worker(x):\n",
    "    return stats.norm.pdf(x)\n",
    "X = np.arange(-4,4,0.1)\n",
    "_worker(X)\n",
    "plt.plot(X, _worker(X))\n",
    "print(f'PDF {stats.norm.sf(1)} CDF {stats.norm.cdf(1)} \\n SUM: {stats.norm.sf(1) + stats.norm.cdf(1)}')"
   ],
   "metadata": {
    "collapsed": false,
    "pycharm": {
     "name": "#%%\n"
    }
   }
  },
  {
   "cell_type": "code",
   "execution_count": 88,
   "outputs": [
    {
     "data": {
      "text/plain": "array([7.10321926, 7.10321926, 7.09827233, ..., 7.62815277, 7.6352435 ,\n       7.6365712 ])"
     },
     "execution_count": 88,
     "metadata": {},
     "output_type": "execute_result"
    }
   ],
   "source": [],
   "metadata": {
    "collapsed": false,
    "pycharm": {
     "name": "#%%\n"
    }
   }
  }
 ],
 "metadata": {
  "kernelspec": {
   "name": "pycharm-ff4755e4",
   "language": "python",
   "display_name": "PyCharm (algo)"
  },
  "language_info": {
   "codemirror_mode": {
    "name": "ipython",
    "version": 2
   },
   "file_extension": ".py",
   "mimetype": "text/x-python",
   "name": "python",
   "nbconvert_exporter": "python",
   "pygments_lexer": "ipython2",
   "version": "2.7.6"
  }
 },
 "nbformat": 4,
 "nbformat_minor": 0
}