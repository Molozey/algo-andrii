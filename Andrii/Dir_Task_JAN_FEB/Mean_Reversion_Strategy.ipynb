{
 "cells": [
  {
   "cell_type": "code",
   "execution_count": 76,
   "metadata": {
    "collapsed": true
   },
   "outputs": [],
   "source": [
    "import pandas as pd\n",
    "\n",
    "\n",
    "\n",
    "import datetime"
   ]
  },
  {
   "cell_type": "code",
   "execution_count": 138,
   "outputs": [],
   "source": [
    "global _WEEK_DICT, _HOLIDAY\n",
    "_WEEK_DICT = {0:'ПН', 1:'ВТ', 2:'СР', 3:'ЧТ', 4:'ПТ', 5:'СБ', 6:'ВС'}\n",
    "_HOLIDAY_MARKERS = [5,6]"
   ],
   "metadata": {
    "collapsed": false,
    "pycharm": {
     "name": "#%%\n"
    }
   }
  },
  {
   "cell_type": "code",
   "execution_count": null,
   "outputs": [],
   "source": [
    "\"\"\"=================================================================================================================================================\"\"\"\n",
    "class CompatibleException(Exception):\n",
    "    def __init__(self, message):\n",
    "        self.message = message\n",
    "        super().__init__(self.message)\n",
    "    def __str__(self):\n",
    "        return f\"{self.message}\"\n",
    "\n",
    "\"\"\"=================================================================================================================================================\"\"\"\n",
    "class StrategyErrors:\n",
    "    def __init__(self):\n",
    "        self.message = None\n",
    "\n",
    "    def UnCompatibleFilter(self, Strategy, Filter):\n",
    "        self.message = f\"Filter ({Filter.FilterIndex()}) not compatible with strategy ({Strategy.StrategyIndex()})\"\n",
    "        raise CompatibleException(self.message)\n",
    "\n",
    "    def WrongIndicesType(self):\n",
    "        self.message = f\"Change DataFrame index to pandas datetime format\"\n",
    "        raise TypeError(self.message)\n",
    "\n",
    "\"\"\"=================================================================================================================================================\"\"\"\n",
    "class StrategyHorizon:\n",
    "    @classmethod\n",
    "    def StrategyIndex(cls):\n",
    "        return 'StrategyHorizon'\n",
    "\n",
    "    def __init__(self):\n",
    "        self._start = None\n",
    "        self._end = None\n",
    "        self.input_data = None\n",
    "\n",
    "        self.filters = list()\n",
    "        pass\n",
    "\n",
    "    def input_params(self, start_horizon:datetime.timedelta, end_horizon: datetime.timedelta):\n",
    "        self._start = start_horizon\n",
    "        self._end = end_horizon\n",
    "\n",
    "    def apply_filters(self, single_filter):\n",
    "        if self.StrategyIndex not in single_filter.compatible:\n",
    "            raise StrategyErrors().UnCompatibleFilter(Strategy=self, Filter=single_filter)\n",
    "        self.filters.append(single_filter)\n",
    "\n",
    "    def transfer_data(self, data: pd.DataFrame):\n",
    "        if type(data.index) != pd.core.indexes.datetimes.DatetimeIndex:\n",
    "            raise StrategyErrors().WrongIndicesType()\n",
    "        self.input_data = data\n",
    "\n",
    "    def _making_horizon(self):\n",
    "        for dot_on_all_data in self.input_data.index:\n",
    "            logical_filter = True\n",
    "            #   SELECT BORDERS\n",
    "            buffer_data = self.input_data.loc[dot_on_all_data + self._start: dot_on_all_data + self._end]\n",
    "            for single_filter in self.filters:\n",
    "                if not single_filter.apply_buffer_data(data=buffer_data).condition():\n",
    "                    logical_filter = False\n",
    "                    break\n",
    "\n",
    "\"\"\"=================================================================================================================================================\"\"\"\n",
    "class CentralDotFilter:\n",
    "    def __init__(self):\n",
    "        self.compatible = [StrategyHorizon.StrategyIndex]\n",
    "        self.buffer_data = None\n",
    "\n",
    "\n",
    "    @classmethod\n",
    "    def FilterIndex(cls):\n",
    "        return 'CentralDotFilter'\n",
    "\n",
    "    def apply_buffer_data(self, data: pd.DataFrame):\n",
    "        if type(data.index) != pd.core.indexes.datetimes.DatetimeIndex:\n",
    "            raise StrategyErrors().WrongIndicesType()\n",
    "        self.buffer_data = data\n",
    "\n",
    "    def condition(self, CentralDotCoords):\n",
    "        pass\n",
    "\n",
    "\"\"\"--------------------------------------------------------------------------------------------------------------------------------------------------\"\"\"\n",
    "class ConsistingTime:\n",
    "    def __init__(self):\n",
    "        self.compatible = [StrategyHorizon.StrategyIndex]\n",
    "        self.buffer_data = None\n",
    "\n",
    "\n",
    "    @classmethod\n",
    "    def FilterIndex(cls):\n",
    "        return 'ConsistingTime'\n",
    "\n",
    "    def apply_buffer_data(self, data: pd.DataFrame):\n",
    "        if type(data.index) != pd.core.indexes.datetimes.DatetimeIndex:\n",
    "            raise StrategyErrors().WrongIndicesType()\n",
    "        self.buffer_data = data\n",
    "\n",
    "    def condition(self, *consist_time):\n",
    "        for time in consist_time:\n",
    "            if not time in self.buffer_data.index.time:\n",
    "                return False\n",
    "\n",
    "        return True\n",
    "\n",
    "\"\"\"--------------------------------------------------------------------------------------------------------------------------------------------------\"\"\"\n",
    "class NoHolidays:\n",
    "    def __init__(self):\n",
    "        self.compatible = [StrategyHorizon.StrategyIndex]\n",
    "        self.buffer_data = None\n",
    "\n",
    "\n",
    "    @classmethod\n",
    "    def FilterIndex(cls):\n",
    "        return 'NoHolidays'\n",
    "\n",
    "    def apply_buffer_data(self, data: pd.DataFrame):\n",
    "        if type(data.index) != pd.core.indexes.datetimes.DatetimeIndex:\n",
    "            raise StrategyErrors().WrongIndicesType()\n",
    "        self.buffer_data = data\n",
    "\n",
    "    def condition(self):\n",
    "        for holiday in self.buffer_data.index.dayofweek:\n",
    "            if holiday in _HOLIDAY_MARKERS:\n",
    "                return False\n",
    "\n",
    "        return True\n",
    "\"\"\"=================================================================================================================================================\"\"\"\n",
    "#StrategyHorizon().apply_filters(CentralDotFilter())"
   ],
   "metadata": {
    "collapsed": false,
    "pycharm": {
     "name": "#%%\n"
    }
   }
  },
  {
   "cell_type": "code",
   "execution_count": null,
   "outputs": [],
   "source": [
    "StrategyHorizon()"
   ],
   "metadata": {
    "collapsed": false,
    "pycharm": {
     "name": "#%%\n"
    }
   }
  },
  {
   "cell_type": "code",
   "execution_count": 69,
   "outputs": [],
   "source": [
    "data = pd.read_csv('zip_data/AUDCAD.csv', index_col=0)\n",
    "data.index = pd.to_datetime(data.index)"
   ],
   "metadata": {
    "collapsed": false,
    "pycharm": {
     "name": "#%%\n"
    }
   }
  },
  {
   "cell_type": "code",
   "execution_count": 100,
   "outputs": [
    {
     "data": {
      "text/plain": "array([datetime.time(0, 0), datetime.time(1, 0), datetime.time(2, 0), ...,\n       datetime.time(22, 0), datetime.time(23, 0), datetime.time(0, 0)],\n      dtype=object)"
     },
     "execution_count": 100,
     "metadata": {},
     "output_type": "execute_result"
    }
   ],
   "source": [
    "data.resample('1H').first().index.time"
   ],
   "metadata": {
    "collapsed": false,
    "pycharm": {
     "name": "#%%\n"
    }
   }
  },
  {
   "cell_type": "code",
   "execution_count": 70,
   "outputs": [
    {
     "data": {
      "text/plain": "pandas.core.indexes.datetimes.DatetimeIndex"
     },
     "execution_count": 70,
     "metadata": {},
     "output_type": "execute_result"
    }
   ],
   "source": [
    "hor = StrategyHorizon()\n",
    "hor.input_params(datetime.timedelta(hours=-12))"
   ],
   "metadata": {
    "collapsed": false,
    "pycharm": {
     "name": "#%%\n"
    }
   }
  },
  {
   "cell_type": "code",
   "execution_count": 91,
   "outputs": [
    {
     "data": {
      "text/plain": "1"
     },
     "execution_count": 91,
     "metadata": {},
     "output_type": "execute_result"
    }
   ],
   "source": [
    "(datetime.datetime(year=2020, month=12, day=1, hour=10, minute=20) - datetime.timedelta(hours=-12)).weekday()"
   ],
   "metadata": {
    "collapsed": false,
    "pycharm": {
     "name": "#%%\n"
    }
   }
  },
  {
   "cell_type": "code",
   "execution_count": 103,
   "outputs": [],
   "source": [
    "d = data.resample('1H').first()"
   ],
   "metadata": {
    "collapsed": false,
    "pycharm": {
     "name": "#%%\n"
    }
   }
  },
  {
   "cell_type": "code",
   "execution_count": 139,
   "outputs": [
    {
     "data": {
      "text/plain": "False"
     },
     "execution_count": 139,
     "metadata": {},
     "output_type": "execute_result"
    }
   ],
   "source": [
    "d.index.dayofweek[0] in _HOLIDAY_MARKERS"
   ],
   "metadata": {
    "collapsed": false,
    "pycharm": {
     "name": "#%%\n"
    }
   }
  },
  {
   "cell_type": "code",
   "execution_count": 112,
   "outputs": [
    {
     "name": "stdout",
     "output_type": "stream",
     "text": [
      "                         open      high       low     close\n",
      "time                                                       \n",
      "2018-11-01 00:00:00  0.931100  0.931135  0.930670  0.931025\n",
      "2018-11-01 01:00:00  0.931275  0.931330  0.930935  0.931175\n",
      "2018-11-01 02:00:00  0.931645  0.931725  0.931540  0.931690\n",
      "2018-11-01 03:00:00  0.931975  0.932060  0.931935  0.931935\n",
      "2018-11-01 04:00:00  0.934755  0.935005  0.934565  0.934570\n",
      "2018-11-01 05:00:00  0.935190  0.935255  0.935075  0.935080\n",
      "2018-11-01 06:00:00  0.935530  0.935580  0.935440  0.935445\n",
      "2018-11-01 07:00:00  0.936920  0.936940  0.936800  0.936880\n",
      "2018-11-01 08:00:00  0.936950  0.936950  0.936830  0.936865\n",
      "2018-11-01 09:00:00  0.936520  0.936565  0.936505  0.936565\n",
      "2018-11-01 10:00:00  0.937380  0.937535  0.937315  0.937515\n",
      "2018-11-01 11:00:00  0.937930  0.937935  0.937760  0.937765\n",
      "2018-11-01 12:00:00  0.937890  0.938245  0.937890  0.938180\n",
      "2018-11-01 13:00:00  0.938350  0.938420  0.938195  0.938245\n",
      "2018-11-01 14:00:00  0.938550  0.938610  0.938285  0.938350\n",
      "2018-11-01 15:00:00  0.939375  0.939760  0.939285  0.939585\n",
      "2018-11-01 16:00:00  0.939495  0.939565  0.939375  0.939445\n",
      "2018-11-01 17:00:00  0.939295  0.939895  0.939270  0.939865\n",
      "2018-11-01 18:00:00  0.942600  0.942680  0.942535  0.942640\n",
      "2018-11-01 19:00:00  0.942275  0.942335  0.942075  0.942140\n",
      "2018-11-01 20:00:00  0.942205  0.942270  0.942025  0.942195\n",
      "2018-11-01 21:00:00  0.942930  0.943070  0.942895  0.943030\n",
      "2018-11-01 22:00:00  0.943120  0.943165  0.943050  0.943065\n",
      "2018-11-01 23:00:00  0.943680  0.943690  0.943505  0.943515\n",
      "2018-11-02 00:00:00  0.942955  0.943045  0.942955  0.943040\n",
      "2018-11-02 01:00:00  0.942280  0.942380  0.942265  0.942335\n",
      "2018-11-02 02:00:00  0.942200  0.942445  0.942175  0.942385\n",
      "2018-11-02 03:00:00  0.943185  0.943295  0.943160  0.943205\n",
      "2018-11-02 04:00:00  0.943615  0.943615  0.943210  0.943225\n",
      "2018-11-02 05:00:00  0.942375  0.942520  0.942340  0.942370\n",
      "2018-11-02 06:00:00  0.942790  0.942790  0.942625  0.942735\n",
      "2018-11-02 07:00:00  0.942355  0.942495  0.942300  0.942495\n",
      "2018-11-02 08:00:00  0.946855  0.947185  0.946840  0.947140\n",
      "2018-11-02 09:00:00  0.946740  0.946760  0.946650  0.946735\n",
      "2018-11-02 10:00:00  0.945295  0.945320  0.945030  0.945260\n",
      "2018-11-02 11:00:00  0.944875  0.944885  0.944395  0.944495\n",
      "2018-11-02 12:00:00  0.944370  0.944375  0.944135  0.944230\n"
     ]
    }
   ],
   "source": [
    "for _ in d.index[12:13]:\n",
    "    print(d.loc[_+datetime.timedelta(hours=-12) : _+datetime.timedelta(hours=0)])"
   ],
   "metadata": {
    "collapsed": false,
    "pycharm": {
     "name": "#%%\n"
    }
   }
  },
  {
   "cell_type": "code",
   "execution_count": 116,
   "outputs": [
    {
     "ename": "TypeError",
     "evalue": "unsupported operand type(s) for +=: 'datetime.time' and 'datetime.time'",
     "output_type": "error",
     "traceback": [
      "\u001B[0;31m---------------------------------------------------------------------------\u001B[0m",
      "\u001B[0;31mTypeError\u001B[0m                                 Traceback (most recent call last)",
      "\u001B[0;32m/var/folders/_r/6hvfrncn0gb3rk22vwnq62gh0000gn/T/ipykernel_796/2127516961.py\u001B[0m in \u001B[0;36m<module>\u001B[0;34m\u001B[0m\n\u001B[1;32m      2\u001B[0m \u001B[0mresult\u001B[0m \u001B[0;34m=\u001B[0m \u001B[0;34m[\u001B[0m\u001B[0mtimesum\u001B[0m\u001B[0;34m]\u001B[0m\u001B[0;34m\u001B[0m\u001B[0;34m\u001B[0m\u001B[0m\n\u001B[1;32m      3\u001B[0m \u001B[0;32mfor\u001B[0m \u001B[0m_\u001B[0m \u001B[0;32min\u001B[0m \u001B[0md\u001B[0m\u001B[0;34m.\u001B[0m\u001B[0mindex\u001B[0m\u001B[0;34m.\u001B[0m\u001B[0mtime\u001B[0m\u001B[0;34m[\u001B[0m\u001B[0;36m1\u001B[0m\u001B[0;34m:\u001B[0m\u001B[0;34m]\u001B[0m\u001B[0;34m:\u001B[0m\u001B[0;34m\u001B[0m\u001B[0;34m\u001B[0m\u001B[0m\n\u001B[0;32m----> 4\u001B[0;31m     \u001B[0mtimesum\u001B[0m \u001B[0;34m+=\u001B[0m \u001B[0m_\u001B[0m\u001B[0;34m\u001B[0m\u001B[0;34m\u001B[0m\u001B[0m\n\u001B[0m\u001B[1;32m      5\u001B[0m     \u001B[0mresult\u001B[0m\u001B[0;34m.\u001B[0m\u001B[0mappend\u001B[0m\u001B[0;34m(\u001B[0m\u001B[0mtimesum\u001B[0m\u001B[0;34m)\u001B[0m\u001B[0;34m\u001B[0m\u001B[0;34m\u001B[0m\u001B[0m\n\u001B[1;32m      6\u001B[0m \u001B[0mresult\u001B[0m\u001B[0;34m\u001B[0m\u001B[0;34m\u001B[0m\u001B[0m\n",
      "\u001B[0;31mTypeError\u001B[0m: unsupported operand type(s) for +=: 'datetime.time' and 'datetime.time'"
     ]
    }
   ],
   "source": [
    "timesum = d.index.time[0]\n",
    "result = [timesum]\n",
    "for _ in d.index.time[1:]:\n",
    "    timesum += _\n",
    "    result.append(timesum)\n",
    "result"
   ],
   "metadata": {
    "collapsed": false,
    "pycharm": {
     "name": "#%%\n"
    }
   }
  },
  {
   "cell_type": "code",
   "execution_count": 115,
   "outputs": [
    {
     "data": {
      "text/plain": "array([datetime.time(0, 0), datetime.time(1, 0), datetime.time(2, 0), ...,\n       datetime.time(22, 0), datetime.time(23, 0), datetime.time(0, 0)],\n      dtype=object)"
     },
     "execution_count": 115,
     "metadata": {},
     "output_type": "execute_result"
    }
   ],
   "source": [
    "d.index.time"
   ],
   "metadata": {
    "collapsed": false,
    "pycharm": {
     "name": "#%%\n"
    }
   }
  }
 ],
 "metadata": {
  "kernelspec": {
   "display_name": "Python 3",
   "language": "python",
   "name": "python3"
  },
  "language_info": {
   "codemirror_mode": {
    "name": "ipython",
    "version": 2
   },
   "file_extension": ".py",
   "mimetype": "text/x-python",
   "name": "python",
   "nbconvert_exporter": "python",
   "pygments_lexer": "ipython2",
   "version": "2.7.6"
  }
 },
 "nbformat": 4,
 "nbformat_minor": 0
}