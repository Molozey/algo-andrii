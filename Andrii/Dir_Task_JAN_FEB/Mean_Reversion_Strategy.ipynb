{
 "cells": [
  {
   "cell_type": "code",
   "execution_count": 60,
   "metadata": {
    "collapsed": true
   },
   "outputs": [],
   "source": [
    "class CompatibleException(Exception):\n",
    "    def __init__(self, message):\n",
    "        self.message = message\n",
    "        super().__init__(self.message)\n",
    "    def __str__(self):\n",
    "        return f\"{self.message}\"\n",
    "\n",
    "\n",
    "class StrategyErrors:\n",
    "    def __init__(self):\n",
    "        self.message = None\n",
    "\n",
    "    def UnCompatibleFilter(self, Strategy, Filter):\n",
    "        self.message = f\"Filter ({Filter.FilterIndex()}) not compatible with strategy ({Strategy.StrategyIndex()})\"\n",
    "        raise CompatibleException(self.message)\n",
    "\n",
    "\n",
    "class StrategyHorizon:\n",
    "    @classmethod\n",
    "    def StrategyIndex(cls):\n",
    "        return 'StrategyHorizon'\n",
    "\n",
    "    def __init__(self):\n",
    "        self._start = None\n",
    "        self._end = None\n",
    "        pass\n",
    "\n",
    "    def input_params(self, start_horizon, end_horizon):\n",
    "        self._start = start_horizon\n",
    "        self._end = end_horizon\n",
    "\n",
    "    def apply_filters(self, single_filter):\n",
    "        if self.StrategyIndex not in single_filter.compatible:\n",
    "            raise StrategyErrors().UnCompatibleFilter(Strategy=self, Filter=single_filter)\n",
    "\n",
    "\n",
    "class CentralDotFilter:\n",
    "    @classmethod\n",
    "    def FilterIndex(cls):\n",
    "        return 'CentralDotFilter'\n",
    "\n",
    "    def __init__(self):\n",
    "        self.compatible = [StrategyHorizon.StrategyIndex]\n",
    "\n",
    "\n",
    "\n",
    "StrategyHorizon().apply_filters(CentralDotFilter())"
   ]
  }
 ],
 "metadata": {
  "kernelspec": {
   "display_name": "Python 3",
   "language": "python",
   "name": "python3"
  },
  "language_info": {
   "codemirror_mode": {
    "name": "ipython",
    "version": 2
   },
   "file_extension": ".py",
   "mimetype": "text/x-python",
   "name": "python",
   "nbconvert_exporter": "python",
   "pygments_lexer": "ipython2",
   "version": "2.7.6"
  }
 },
 "nbformat": 4,
 "nbformat_minor": 0
}