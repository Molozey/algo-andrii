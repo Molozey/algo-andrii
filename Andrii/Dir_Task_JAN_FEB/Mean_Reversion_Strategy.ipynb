{
 "cells": [
  {
   "cell_type": "code",
   "execution_count": 1,
   "metadata": {
    "collapsed": true
   },
   "outputs": [],
   "source": [
    "import pandas as pd\n",
    "\n",
    "\n",
    "from tqdm import tqdm\n",
    "import datetime\n",
    "\n",
    "\n",
    "from AvailableErrors import *\n",
    "from Andrii.Dir_Task_JAN_FEB.tools_functions import createTimeDifference"
   ]
  },
  {
   "cell_type": "code",
   "execution_count": 2,
   "outputs": [],
   "source": [
    "global _WEEK_DICT, _HOLIDAY\n",
    "_WEEK_DICT = {0:'ПН', 1:'ВТ', 2:'СР', 3:'ЧТ', 4:'ПТ', 5:'СБ', 6:'ВС'}\n",
    "_HOLIDAY_MARKERS = [5,6]"
   ],
   "metadata": {
    "collapsed": false,
    "pycharm": {
     "name": "#%%\n"
    }
   }
  },
  {
   "cell_type": "code",
   "execution_count": 62,
   "outputs": [],
   "source": [
    "class StrategyExtractor:\n",
    "    @classmethod\n",
    "    def ExtractorIndex(cls):\n",
    "        return 'StrategyExtractor'\n",
    "\n",
    "    def __init__(self):\n",
    "        self.compatible = [HubTrendFollowingStrategy.StrategyIndex()]\n",
    "\n",
    "        self._start = None\n",
    "        self._end = None\n",
    "        self.input_data = None\n",
    "\n",
    "        self.filters = list()\n",
    "        self.after_filters = list()\n",
    "\n",
    "        pass\n",
    "\n",
    "    def input_params(self, start_horizon:datetime.timedelta, end_horizon: datetime.timedelta):\n",
    "        self._start = start_horizon\n",
    "        self._end = end_horizon\n",
    "\n",
    "    def apply_filters(self, single_filter):\n",
    "        if self.ExtractorIndex not in single_filter.compatible:\n",
    "            raise StrategyErrors().UnCompatibleFilter(Strategy=self, Filter=single_filter)\n",
    "        self.filters.append(single_filter)\n",
    "\n",
    "    def transfer_data(self, data: pd.DataFrame):\n",
    "        if type(data.index) != pd.core.indexes.datetimes.DatetimeIndex:\n",
    "            raise StrategyErrors().WrongIndicesType()\n",
    "        self.input_data = data\n",
    "\n",
    "    def making_horizon(self):\n",
    "        for dot_on_all_data in tqdm(self.input_data.index):\n",
    "            logical_filter = True\n",
    "            #   SELECT BORDERS\n",
    "            buffer_data = self.input_data.loc[dot_on_all_data + self._start: dot_on_all_data + self._end]\n",
    "            for single_filter in self.filters:\n",
    "                FILTER = single_filter\n",
    "                FILTER.apply_buffer_data(buffer_data=buffer_data)\n",
    "                if not FILTER.condition():\n",
    "                    logical_filter = False\n",
    "                    break\n",
    "\n",
    "\n",
    "            if logical_filter:\n",
    "                self.after_filters.append(buffer_data)\n",
    "                break   #   This break scares me\n",
    "\n",
    "\"\"\"=================================================================================================================================================\"\"\"\n",
    "class CentralDotFilter:\n",
    "    def __init__(self):\n",
    "        self.compatible = [StrategyExtractor.ExtractorIndex]\n",
    "        self.buffer_data = None\n",
    "\n",
    "\n",
    "    @classmethod\n",
    "    def FilterIndex(cls):\n",
    "        return 'CentralDotFilter'\n",
    "\n",
    "    def apply_buffer_data(self, buffer_data: pd.DataFrame):\n",
    "        if type(buffer_data.index) != pd.core.indexes.datetimes.DatetimeIndex:\n",
    "            raise StrategyErrors().WrongIndicesType()\n",
    "        self.buffer_data = buffer_data.copy()\n",
    "\n",
    "    def condition(self, CentralDotCoords):\n",
    "        pass\n",
    "\n",
    "\"\"\"--------------------------------------------------------------------------------------------------------------------------------------------------\"\"\"\n",
    "class ConsistingTime:\n",
    "    def __init__(self,*consist_time):\n",
    "        self.compatible = [StrategyExtractor.ExtractorIndex]\n",
    "        self.buffer_data = None\n",
    "        for _ in consist_time:\n",
    "            if type(_) != pd._libs.tslibs.timedeltas.Timedelta:\n",
    "                raise FilterErrors().WrongShiftedType()\n",
    "        self.consist_time = [_ for _ in consist_time]\n",
    "\n",
    "    @classmethod\n",
    "    def FilterIndex(cls):\n",
    "        return 'ConsistingTime'\n",
    "\n",
    "    def apply_buffer_data(self, buffer_data: pd.DataFrame):\n",
    "        # if type(buffer_data.index) != pd.core.indexes.datetimes.DatetimeIndex:\n",
    "        #     raise StrategyErrors().WrongIndicesType()\n",
    "        #\n",
    "        # ZERO_TIME = buffer_data.index[0].to_numpy()\n",
    "        # ZERO_TIME = ZERO_TIME.astype('datetime64[s]').item().date()\n",
    "        # self.buffer_data = buffer_data.index - pd.to_datetime(ZERO_TIME)\n",
    "\n",
    "        # Если не использовать вызов функции - будет быстрей. Но так зависимости выглядят понятней\n",
    "        self.buffer_data = createTimeDifference(buffer_data.index)\n",
    "\n",
    "\n",
    "        return None\n",
    "\n",
    "    def condition(self):\n",
    "        for timedelta in self.consist_time:\n",
    "            #if not timedelta in self.buffer_data.index:\n",
    "            if not timedelta in self.buffer_data:\n",
    "                return False\n",
    "\n",
    "        return True\n",
    "\n",
    "\"\"\"--------------------------------------------------------------------------------------------------------------------------------------------------\"\"\"\n",
    "class NoHolidays:\n",
    "    def __init__(self):\n",
    "        self.compatible = [StrategyExtractor.ExtractorIndex]\n",
    "        self.buffer_data = None\n",
    "\n",
    "\n",
    "    @classmethod\n",
    "    def FilterIndex(cls):\n",
    "        return 'NoHolidays'\n",
    "\n",
    "    def apply_buffer_data(self, buffer_data: pd.DataFrame):\n",
    "        if type(buffer_data.index) != pd.core.indexes.datetimes.DatetimeIndex:\n",
    "            raise StrategyErrors().WrongIndicesType()\n",
    "        self.buffer_data = buffer_data.copy()\n",
    "        return None\n",
    "\n",
    "    def condition(self):\n",
    "        for holiday in self.buffer_data.index.dayofweek:\n",
    "            if holiday in _HOLIDAY_MARKERS:\n",
    "                return False\n",
    "\n",
    "        return True\n",
    "\n",
    "\"\"\"--------------------------------------------------------------------------------------------------------------------------------------------------\"\"\"\n",
    "class LeftBorder:\n",
    "    def __init__(self, left_border:pd._libs.tslibs.timedeltas.Timedelta):\n",
    "        self.compatible = [StrategyExtractor.ExtractorIndex]\n",
    "\n",
    "        if type(left_border) != pd._libs.tslibs.timedeltas.Timedelta:\n",
    "            raise FilterErrors().WrongShiftedType()\n",
    "        self.buffer_data = None\n",
    "        self._left_border = left_border\n",
    "\n",
    "    @classmethod\n",
    "    def FilterIndex(cls):\n",
    "        return 'LeftBorder'\n",
    "\n",
    "    def apply_buffer_data(self, buffer_data: pd.DataFrame):\n",
    "        if type(buffer_data.index) != pd.core.indexes.datetimes.DatetimeIndex:\n",
    "            raise StrategyErrors().WrongIndicesType()\n",
    "        self.buffer_data = createTimeDifference(buffer_data.index)\n",
    "        return None\n",
    "\n",
    "    def condition(self):\n",
    "        if self.buffer_data[0] != self._left_border:\n",
    "            return False\n",
    "\n",
    "        return True\n",
    "\n",
    "\"\"\"--------------------------------------------------------------------------------------------------------------------------------------------------\"\"\"\n",
    "\n",
    "class RightBorder:\n",
    "    def __init__(self, right_border:pd._libs.tslibs.timedeltas.Timedelta):\n",
    "        self.compatible = [StrategyExtractor.ExtractorIndex]\n",
    "\n",
    "        if type(right_border) != pd._libs.tslibs.timedeltas.Timedelta:\n",
    "            raise FilterErrors().WrongShiftedType()\n",
    "        self.buffer_data = None\n",
    "        self._right_border = right_border\n",
    "\n",
    "    @classmethod\n",
    "    def FilterIndex(cls):\n",
    "        return 'RightBorder'\n",
    "\n",
    "    def apply_buffer_data(self, buffer_data: pd.DataFrame):\n",
    "        if type(buffer_data.index) != pd.core.indexes.datetimes.DatetimeIndex:\n",
    "            raise StrategyErrors().WrongIndicesType()\n",
    "        self.buffer_data = createTimeDifference(buffer_data.index)\n",
    "        return None\n",
    "\n",
    "    def condition(self):\n",
    "        if self.buffer_data[0] != self._right_border:\n",
    "            return False\n",
    "\n",
    "        return True\n",
    "\n",
    "\"\"\"=================================================================================================================================================\"\"\"\n",
    "\n",
    "class HubTrendFollowingStrategy:\n",
    "    @classmethod\n",
    "    def StrategyIndex(cls):\n",
    "        return 'HubTrendFollowingStrategy'\n",
    "    def __init__(self):\n",
    "        self.all_data = None\n",
    "        self.central_dot_position = None\n",
    "        self.lookback = None\n",
    "        self.potential_hold = None\n",
    "        self.extractor = None\n",
    "\n",
    "    def add_extractor(self, method):\n",
    "        if self.StrategyIndex() not in method.compatible:\n",
    "            raise StrategyErrors().UnCompatibleExtractor(HubStrategy=self, StrategyExtractor=method)\n",
    "        self.extractor = method\n",
    "\n",
    "    def transfer_data(self, raw_data:pd.DataFrame):\n",
    "        if type(raw_data) != pd.DataFrame:\n",
    "            raise TypeError('Input Data must have type pandas DataFrame')\n",
    "        self.all_data = raw_data.copy()\n",
    "\n",
    "    def create_lookback_center(self, splitDot_position:int):\n",
    "        if type(splitDot_position) != int:\n",
    "            raise SplitDataErrors().WrongCentralDotTypeError()\n",
    "\n",
    "        self.central_dot_position = splitDot_position\n",
    "\n",
    "    def testing_simulation(self):\n",
    "        self.extractor.transfer_data(self.all_data)\n",
    "        self.extractor.making_horizon()\n",
    "        return self.extractor.after_filters\n",
    "\n",
    "    def add_Rules_constructor(self, rulesConstructor):\n",
    "        if self.StrategyIndex not in rulesConstructor.compatible:\n",
    "            raise StrategyErrors().UnCompatibleRulesConstructor(HubStrategy=self, RulesConstructor=rulesConstructor)\n",
    "\"\"\"=================================================================================================================================================\"\"\"\n",
    "\n",
    "class TrendFollowingStrategyRulesConstructor:\n",
    "    def __init__(self):\n",
    "        self.compatible = [HubTrendFollowingStrategy.StrategyIndex]\n",
    "\n",
    "        self.opening_rules = list()\n",
    "        self.holding_rules = list()\n",
    "\n",
    "    @classmethod\n",
    "    def StrategyRuleConstructorType(cls):\n",
    "        return 'TrendFollowConstructor'\n",
    "\n",
    "    def add_opening_rule(self, opening_rule):\n",
    "        if self.StrategyRuleConstructorType not in opening_rule.compatible:\n",
    "            raise RulesConstructorErrors().UnCompatibleComplexRule(RuleConstructor=self, ComplexRule=opening_rule)\n",
    "        self.opening_rules.append(opening_rule)\n",
    "\n",
    "    def add_hold_rule(self, hold_rule):\n",
    "        if self.StrategyRuleConstructorType not in hold_rule.compatible:\n",
    "            raise RulesConstructorErrors().UnCompatibleComplexRule(RuleConstructor=self, ComplexRule=hold_rule)\n",
    "        self.opening_rules.append(hold_rule)\n",
    "\n",
    "\"\"\"=================================================================================================================================================\"\"\"\n",
    "\n",
    "class OpeningCrossHighLowRule:\n",
    "    def __init__(self):\n",
    "        self.compatible = [TrendFollowingStrategyRulesConstructor.StrategyRuleConstructorType]\n",
    "\n",
    "        self.low = None\n",
    "        self.high = None\n",
    "\n",
    "    @classmethod\n",
    "    def RuleIndex(cls):\n",
    "        return 'OpeningCrossHighLowRule'\n",
    "\n",
    "    def add_low_calculation(self, low):\n",
    "        if self.RuleIndex not in low.compatible:\n",
    "            raise SmallWorkers().UnCompatibleRuleBlock(ComplexRule=self, Worker=low)\n",
    "        self.low = low\n",
    "\n",
    "    def add_high_calculation(self, high):\n",
    "        self.high = high\n",
    "\n",
    "\n",
    "\n",
    "\"\"\"=================================================================================================================================================\"\"\"\n",
    "\n",
    "class CalculateLow:\n",
    "    def __init__(self):\n",
    "        self.compatible = [OpeningCrossHighLowRule.RuleIndex]\n",
    "\n",
    "    @classmethod\n",
    "    def WorkerIndex(self):\n",
    "        return 'CalculateLow'\n",
    "\n",
    "    def testing(self):\n",
    "        print('LOWER')\n",
    "\n",
    "\"\"\"--------------------------------------------------------------------------------------------------------------------------------------------------\"\"\"\n",
    "\n",
    "class CalculateHigh:\n",
    "    def __init__(self):\n",
    "        self.compatible = [OpeningCrossHighLowRule.RuleIndex]\n",
    "\n",
    "    @classmethod\n",
    "    def WorkerIndex(self):\n",
    "        return 'CalculateHigh'\n",
    "    def testing(self):\n",
    "        print('HIGHER')\n",
    "\"\"\"=================================================================================================================================================\"\"\"\n",
    "\n",
    "\"\"\"\n",
    "horizon = StrategyExtractor()\n",
    "constime = ConsistingTime(pd.Timedelta(days=0, hours=22), pd.Timedelta(days=1, hours=8), pd.Timedelta(days=1, hours=22))\n",
    "horizon.apply_filters(constime)\n",
    "nodolidays = NoHolidays()\n",
    "horizon.apply_filters(nodolidays)\n",
    "horizon.transfer_data(d.iloc[:1000])\n",
    "horizon.input_params(start_horizon=datetime.timedelta(hours=-12), end_horizon=datetime.timedelta(hours=19))\n",
    "horizon._making_horizon()\n",
    "horizon.after_filters\n",
    "\"\"\"\n",
    "\n",
    "r = CrossHighLowRule()\n",
    "r.RuleIndex()\n",
    "r.add_low_calculation(CalculateLow())\n",
    "r.add_high_calculation(CalculateHigh())"
   ],
   "metadata": {
    "collapsed": false,
    "pycharm": {
     "name": "#%%\n"
    }
   }
  },
  {
   "cell_type": "code",
   "execution_count": null,
   "outputs": [],
   "source": [
    "d = pd.read_csv('zip_data/AUDCAD.csv', index_col=0)\n",
    "d.index = pd.to_datetime(d.index)\n",
    "d = d.resample('1T').first()\n"
   ],
   "metadata": {
    "collapsed": false,
    "pycharm": {
     "name": "#%%\n"
    }
   }
  },
  {
   "cell_type": "code",
   "execution_count": 49,
   "outputs": [],
   "source": [
    "horizon = StrategyExtractor()\n",
    "\n",
    "constime = ConsistingTime(pd.Timedelta(days=0, hours=22), pd.Timedelta(days=1, hours=8), pd.Timedelta(days=1, hours=22))\n",
    "horizon.apply_filters(constime)\n",
    "\n",
    "nodolidays = NoHolidays()\n",
    "horizon.apply_filters(nodolidays)\n",
    "\n",
    "leftBorder = LeftBorder(pd.Timedelta(hours=15))\n",
    "horizon.apply_filters(leftBorder)\n",
    "\n",
    "horizon.input_params(start_horizon=datetime.timedelta(hours=-12), end_horizon=datetime.timedelta(hours=19))"
   ],
   "metadata": {
    "collapsed": false,
    "pycharm": {
     "name": "#%%\n"
    }
   }
  },
  {
   "cell_type": "code",
   "execution_count": 20,
   "outputs": [
    {
     "data": {
      "text/plain": "                         open      high       low     close\ntime                                                       \n2018-11-01 00:00:00  0.931100  0.931135  0.930670  0.931025\n2018-11-01 01:00:00  0.931275  0.931330  0.930935  0.931175\n2018-11-01 02:00:00  0.931645  0.931725  0.931540  0.931690\n2018-11-01 03:00:00  0.931975  0.932060  0.931935  0.931935\n2018-11-01 04:00:00  0.934755  0.935005  0.934565  0.934570\n...                       ...       ...       ...       ...\n2021-11-12 20:00:00  0.919545  0.919645  0.919530  0.919600\n2021-11-12 21:00:00  0.920485  0.920535  0.920420  0.920475\n2021-11-12 22:00:00  0.920465  0.920510  0.920415  0.920415\n2021-11-12 23:00:00  0.920185  0.920255  0.920155  0.920180\n2021-11-13 00:00:00  0.920195  0.920225  0.920155  0.920165\n\n[26593 rows x 4 columns]",
      "text/html": "<div>\n<style scoped>\n    .dataframe tbody tr th:only-of-type {\n        vertical-align: middle;\n    }\n\n    .dataframe tbody tr th {\n        vertical-align: top;\n    }\n\n    .dataframe thead th {\n        text-align: right;\n    }\n</style>\n<table border=\"1\" class=\"dataframe\">\n  <thead>\n    <tr style=\"text-align: right;\">\n      <th></th>\n      <th>open</th>\n      <th>high</th>\n      <th>low</th>\n      <th>close</th>\n    </tr>\n    <tr>\n      <th>time</th>\n      <th></th>\n      <th></th>\n      <th></th>\n      <th></th>\n    </tr>\n  </thead>\n  <tbody>\n    <tr>\n      <th>2018-11-01 00:00:00</th>\n      <td>0.931100</td>\n      <td>0.931135</td>\n      <td>0.930670</td>\n      <td>0.931025</td>\n    </tr>\n    <tr>\n      <th>2018-11-01 01:00:00</th>\n      <td>0.931275</td>\n      <td>0.931330</td>\n      <td>0.930935</td>\n      <td>0.931175</td>\n    </tr>\n    <tr>\n      <th>2018-11-01 02:00:00</th>\n      <td>0.931645</td>\n      <td>0.931725</td>\n      <td>0.931540</td>\n      <td>0.931690</td>\n    </tr>\n    <tr>\n      <th>2018-11-01 03:00:00</th>\n      <td>0.931975</td>\n      <td>0.932060</td>\n      <td>0.931935</td>\n      <td>0.931935</td>\n    </tr>\n    <tr>\n      <th>2018-11-01 04:00:00</th>\n      <td>0.934755</td>\n      <td>0.935005</td>\n      <td>0.934565</td>\n      <td>0.934570</td>\n    </tr>\n    <tr>\n      <th>...</th>\n      <td>...</td>\n      <td>...</td>\n      <td>...</td>\n      <td>...</td>\n    </tr>\n    <tr>\n      <th>2021-11-12 20:00:00</th>\n      <td>0.919545</td>\n      <td>0.919645</td>\n      <td>0.919530</td>\n      <td>0.919600</td>\n    </tr>\n    <tr>\n      <th>2021-11-12 21:00:00</th>\n      <td>0.920485</td>\n      <td>0.920535</td>\n      <td>0.920420</td>\n      <td>0.920475</td>\n    </tr>\n    <tr>\n      <th>2021-11-12 22:00:00</th>\n      <td>0.920465</td>\n      <td>0.920510</td>\n      <td>0.920415</td>\n      <td>0.920415</td>\n    </tr>\n    <tr>\n      <th>2021-11-12 23:00:00</th>\n      <td>0.920185</td>\n      <td>0.920255</td>\n      <td>0.920155</td>\n      <td>0.920180</td>\n    </tr>\n    <tr>\n      <th>2021-11-13 00:00:00</th>\n      <td>0.920195</td>\n      <td>0.920225</td>\n      <td>0.920155</td>\n      <td>0.920165</td>\n    </tr>\n  </tbody>\n</table>\n<p>26593 rows × 4 columns</p>\n</div>"
     },
     "execution_count": 20,
     "metadata": {},
     "output_type": "execute_result"
    }
   ],
   "source": [],
   "metadata": {
    "collapsed": false,
    "pycharm": {
     "name": "#%%\n"
    }
   }
  },
  {
   "cell_type": "code",
   "execution_count": 50,
   "outputs": [
    {
     "name": "stderr",
     "output_type": "stream",
     "text": [
      "  0%|          | 1605/1595565 [00:00<11:50, 2242.00it/s]\n"
     ]
    },
    {
     "data": {
      "text/plain": "[                         open      high       low     close\n time                                                       \n 2018-11-01 15:00:00  0.939375  0.939760  0.939285  0.939585\n 2018-11-01 15:01:00  0.939585  0.939610  0.939380  0.939450\n 2018-11-01 15:02:00  0.939450  0.939505  0.939360  0.939440\n 2018-11-01 15:03:00  0.939440  0.939575  0.939370  0.939575\n 2018-11-01 15:04:00  0.939575  0.939675  0.939545  0.939640\n ...                       ...       ...       ...       ...\n 2018-11-02 21:56:00  0.943025  0.943135  0.942845  0.942860\n 2018-11-02 21:57:00  0.942860  0.942870  0.942730  0.942835\n 2018-11-02 21:58:00  0.942835  0.942910  0.942780  0.942880\n 2018-11-02 21:59:00  0.942880  0.942960  0.942810  0.942945\n 2018-11-02 22:00:00  0.942945  0.943245  0.942945  0.943105\n \n [1861 rows x 4 columns]]"
     },
     "execution_count": 50,
     "metadata": {},
     "output_type": "execute_result"
    }
   ],
   "source": [
    "TF = HubTrendFollowingStrategy()\n",
    "TF.add_extractor(horizon)\n",
    "TF.extractor.after_filters.clear()\n",
    "TF.transfer_data(d)\n",
    "TF.testing_simulation()"
   ],
   "metadata": {
    "collapsed": false,
    "pycharm": {
     "name": "#%%\n"
    }
   }
  },
  {
   "cell_type": "code",
   "execution_count": null,
   "outputs": [],
   "source": [
    "horizon = StrategyExtractor()\n",
    "\n",
    "constime = ConsistingTime(pd.Timedelta(days=0, hours=22), pd.Timedelta(days=1, hours=8), pd.Timedelta(days=1, hours=22))\n",
    "horizon.apply_filters(constime)\n",
    "\n",
    "nodolidays = NoHolidays()\n",
    "horizon.apply_filters(nodolidays)\n",
    "\n",
    "leftBorder = LeftBorder(pd.Timedelta(hours=15))\n",
    "horizon.apply_filters(leftBorder)\n",
    "\n",
    "horizon.transfer_data(d)\n",
    "\n",
    "horizon.input_params(start_horizon=datetime.timedelta(hours=-12), end_horizon=datetime.timedelta(hours=19))\n",
    "horizon._making_horizon()\n",
    "#horizon.after_filters\n",
    "\n",
    "TF = HubTrendFollowingStrategy()\n",
    "TF.extract_data_method(horizon)"
   ],
   "metadata": {
    "collapsed": false,
    "pycharm": {
     "name": "#%%\n"
    }
   }
  },
  {
   "cell_type": "code",
   "execution_count": 11,
   "outputs": [
    {
     "data": {
      "text/plain": "[                         open      high       low     close\n time                                                       \n 2018-11-01 15:00:00  0.939375  0.939760  0.939285  0.939585\n 2018-11-01 16:00:00  0.939495  0.939565  0.939375  0.939445\n 2018-11-01 17:00:00  0.939295  0.939895  0.939270  0.939865\n 2018-11-01 18:00:00  0.942600  0.942680  0.942535  0.942640\n 2018-11-01 19:00:00  0.942275  0.942335  0.942075  0.942140\n 2018-11-01 20:00:00  0.942205  0.942270  0.942025  0.942195\n 2018-11-01 21:00:00  0.942930  0.943070  0.942895  0.943030\n 2018-11-01 22:00:00  0.943120  0.943165  0.943050  0.943065\n 2018-11-01 23:00:00  0.943680  0.943690  0.943505  0.943515\n 2018-11-02 00:00:00  0.942955  0.943045  0.942955  0.943040\n 2018-11-02 01:00:00  0.942280  0.942380  0.942265  0.942335\n 2018-11-02 02:00:00  0.942200  0.942445  0.942175  0.942385\n 2018-11-02 03:00:00  0.943185  0.943295  0.943160  0.943205\n 2018-11-02 04:00:00  0.943615  0.943615  0.943210  0.943225\n 2018-11-02 05:00:00  0.942375  0.942520  0.942340  0.942370\n 2018-11-02 06:00:00  0.942790  0.942790  0.942625  0.942735\n 2018-11-02 07:00:00  0.942355  0.942495  0.942300  0.942495\n 2018-11-02 08:00:00  0.946855  0.947185  0.946840  0.947140\n 2018-11-02 09:00:00  0.946740  0.946760  0.946650  0.946735\n 2018-11-02 10:00:00  0.945295  0.945320  0.945030  0.945260\n 2018-11-02 11:00:00  0.944875  0.944885  0.944395  0.944495\n 2018-11-02 12:00:00  0.944370  0.944375  0.944135  0.944230\n 2018-11-02 13:00:00  0.945925  0.945960  0.945835  0.945955\n 2018-11-02 14:00:00  0.947105  0.947170  0.947065  0.947150\n 2018-11-02 15:00:00  0.945525  0.945615  0.945405  0.945430\n 2018-11-02 16:00:00  0.944865  0.945095  0.944845  0.945015\n 2018-11-02 17:00:00  0.944800  0.945135  0.944800  0.945120\n 2018-11-02 18:00:00  0.944890  0.944895  0.944715  0.944730\n 2018-11-02 19:00:00  0.943565  0.943815  0.943545  0.943770\n 2018-11-02 20:00:00  0.942925  0.942995  0.942880  0.942955\n 2018-11-02 21:00:00  0.942565  0.942570  0.942380  0.942500\n 2018-11-02 22:00:00  0.942945  0.943245  0.942945  0.943105,\n                          open      high       low     close\n time                                                       \n 2018-11-05 15:00:00  0.942210  0.942330  0.942145  0.942190\n 2018-11-05 16:00:00  0.941645  0.941760  0.941605  0.941740\n 2018-11-05 17:00:00  0.942055  0.942200  0.942000  0.942050\n 2018-11-05 18:00:00  0.942630  0.942630  0.942145  0.942190\n 2018-11-05 19:00:00  0.943180  0.943340  0.943050  0.943110\n 2018-11-05 20:00:00  0.942790  0.942815  0.942705  0.942775\n 2018-11-05 21:00:00  0.944325  0.944350  0.944165  0.944170\n 2018-11-05 22:00:00  0.945125  0.945215  0.945105  0.945180\n 2018-11-05 23:00:00  0.945880  0.946065  0.945830  0.945840\n 2018-11-06 00:00:00  0.945030  0.945125  0.944950  0.944990\n 2018-11-06 01:00:00  0.945425  0.945550  0.945415  0.945430\n 2018-11-06 02:00:00  0.945445  0.945505  0.945305  0.945330\n 2018-11-06 03:00:00  0.945530  0.945580  0.945410  0.945455\n 2018-11-06 04:00:00  0.945460  0.945620  0.945460  0.945530\n 2018-11-06 05:00:00  0.945125  0.945185  0.945095  0.945165\n 2018-11-06 06:00:00  0.945690  0.945725  0.945590  0.945615\n 2018-11-06 07:00:00  0.945590  0.945635  0.945540  0.945570\n 2018-11-06 08:00:00  0.945895  0.945990  0.945855  0.945885\n 2018-11-06 09:00:00  0.946280  0.946370  0.946250  0.946340\n 2018-11-06 10:00:00  0.946615  0.946745  0.946575  0.946745\n 2018-11-06 11:00:00  0.947200  0.947300  0.947105  0.947275\n 2018-11-06 12:00:00  0.948610  0.948690  0.948560  0.948645\n 2018-11-06 13:00:00  0.948870  0.948950  0.948805  0.948835\n 2018-11-06 14:00:00  0.949235  0.949280  0.949190  0.949195\n 2018-11-06 15:00:00  0.949340  0.949580  0.949275  0.949580\n 2018-11-06 16:00:00  0.949615  0.949815  0.949575  0.949810\n 2018-11-06 17:00:00  0.949095  0.949235  0.949035  0.949060\n 2018-11-06 18:00:00  0.949125  0.949250  0.949120  0.949250\n 2018-11-06 19:00:00  0.948095  0.948250  0.947990  0.947990\n 2018-11-06 20:00:00  0.948255  0.948445  0.948170  0.948400\n 2018-11-06 21:00:00  0.948480  0.948505  0.948395  0.948490\n 2018-11-06 22:00:00  0.947995  0.948045  0.947990  0.947995,\n                          open      high       low     close\n time                                                       \n 2018-11-06 15:00:00  0.949340  0.949580  0.949275  0.949580\n 2018-11-06 16:00:00  0.949615  0.949815  0.949575  0.949810\n 2018-11-06 17:00:00  0.949095  0.949235  0.949035  0.949060\n 2018-11-06 18:00:00  0.949125  0.949250  0.949120  0.949250\n 2018-11-06 19:00:00  0.948095  0.948250  0.947990  0.947990\n 2018-11-06 20:00:00  0.948255  0.948445  0.948170  0.948400\n 2018-11-06 21:00:00  0.948480  0.948505  0.948395  0.948490\n 2018-11-06 22:00:00  0.947995  0.948045  0.947990  0.947995\n 2018-11-06 23:00:00  0.948195  0.948330  0.948195  0.948220\n 2018-11-07 00:00:00  0.948280  0.948500  0.948270  0.948445\n 2018-11-07 01:00:00  0.949775  0.950150  0.949775  0.950150\n 2018-11-07 02:00:00  0.949560  0.949755  0.949515  0.949750\n 2018-11-07 03:00:00  0.949995  0.949995  0.949720  0.949795\n 2018-11-07 04:00:00  0.950845  0.951055  0.950685  0.950955\n 2018-11-07 05:00:00  0.949015  0.949175  0.948900  0.948900\n 2018-11-07 06:00:00  0.950340  0.950465  0.950090  0.950355\n 2018-11-07 07:00:00  0.951735  0.951755  0.951410  0.951570\n 2018-11-07 08:00:00  0.952235  0.952445  0.952175  0.952345\n 2018-11-07 09:00:00  0.951680  0.951680  0.951535  0.951645\n 2018-11-07 10:00:00  0.951025  0.951115  0.951015  0.951030\n 2018-11-07 11:00:00  0.951600  0.951855  0.951565  0.951825\n 2018-11-07 12:00:00  0.953590  0.953740  0.953535  0.953705\n 2018-11-07 13:00:00  0.952665  0.952730  0.952660  0.952700\n 2018-11-07 14:00:00  0.952990  0.953025  0.952845  0.952860\n 2018-11-07 15:00:00  0.953580  0.953640  0.953490  0.953520\n 2018-11-07 16:00:00  0.953850  0.953890  0.953675  0.953840\n 2018-11-07 17:00:00  0.952830  0.952895  0.952590  0.952690\n 2018-11-07 18:00:00  0.952830  0.952840  0.952295  0.952320\n 2018-11-07 19:00:00  0.954795  0.954915  0.954490  0.954575\n 2018-11-07 20:00:00  0.954550  0.954675  0.954500  0.954655\n 2018-11-07 21:00:00  0.954285  0.954380  0.954225  0.954365\n 2018-11-07 22:00:00  0.954230  0.954315  0.954170  0.954295,\n                          open      high       low     close\n time                                                       \n 2018-11-07 15:00:00  0.953580  0.953640  0.953490  0.953520\n 2018-11-07 16:00:00  0.953850  0.953890  0.953675  0.953840\n 2018-11-07 17:00:00  0.952830  0.952895  0.952590  0.952690\n 2018-11-07 18:00:00  0.952830  0.952840  0.952295  0.952320\n 2018-11-07 19:00:00  0.954795  0.954915  0.954490  0.954575\n 2018-11-07 20:00:00  0.954550  0.954675  0.954500  0.954655\n 2018-11-07 21:00:00  0.954285  0.954380  0.954225  0.954365\n 2018-11-07 22:00:00  0.954230  0.954315  0.954170  0.954295\n 2018-11-07 23:00:00  0.954315  0.954620  0.953930  0.954370\n 2018-11-08 00:00:00  0.954420  0.954700  0.954410  0.954695\n 2018-11-08 01:00:00  0.954175  0.954365  0.954175  0.954305\n 2018-11-08 02:00:00  0.953605  0.953975  0.953575  0.953830\n 2018-11-08 03:00:00  0.954120  0.954255  0.954090  0.954220\n 2018-11-08 04:00:00  0.954145  0.954145  0.954020  0.954095\n 2018-11-08 05:00:00  0.953585  0.953590  0.953370  0.953415\n 2018-11-08 06:00:00  0.953875  0.953975  0.953865  0.953940\n 2018-11-08 07:00:00  0.954985  0.955070  0.954865  0.955015\n 2018-11-08 08:00:00  0.954350  0.954380  0.954310  0.954355\n 2018-11-08 09:00:00  0.955770  0.955775  0.955650  0.955710\n 2018-11-08 10:00:00  0.955615  0.955620  0.955410  0.955525\n 2018-11-08 11:00:00  0.955795  0.955870  0.955570  0.955860\n 2018-11-08 12:00:00  0.954145  0.954390  0.954095  0.954370\n 2018-11-08 13:00:00  0.954060  0.954080  0.953635  0.953665\n 2018-11-08 14:00:00  0.954145  0.954205  0.953945  0.954075\n 2018-11-08 15:00:00  0.954595  0.954675  0.954555  0.954635\n 2018-11-08 16:00:00  0.955655  0.955680  0.955510  0.955620\n 2018-11-08 17:00:00  0.954890  0.955085  0.954845  0.955000\n 2018-11-08 18:00:00  0.955085  0.955170  0.954965  0.955035\n 2018-11-08 19:00:00  0.955310  0.955365  0.955025  0.955030\n 2018-11-08 20:00:00  0.955465  0.955505  0.955330  0.955340\n 2018-11-08 21:00:00  0.954430  0.954700  0.954420  0.954680\n 2018-11-08 22:00:00  0.954065  0.954755  0.954005  0.954640,\n                          open      high       low     close\n time                                                       \n 2018-11-08 15:00:00  0.954595  0.954675  0.954555  0.954635\n 2018-11-08 16:00:00  0.955655  0.955680  0.955510  0.955620\n 2018-11-08 17:00:00  0.954890  0.955085  0.954845  0.955000\n 2018-11-08 18:00:00  0.955085  0.955170  0.954965  0.955035\n 2018-11-08 19:00:00  0.955310  0.955365  0.955025  0.955030\n 2018-11-08 20:00:00  0.955465  0.955505  0.955330  0.955340\n 2018-11-08 21:00:00  0.954430  0.954700  0.954420  0.954680\n 2018-11-08 22:00:00  0.954065  0.954755  0.954005  0.954640\n 2018-11-08 23:00:00  0.955615  0.955715  0.955535  0.955715\n 2018-11-09 00:00:00  0.954915  0.954915  0.954770  0.954775\n 2018-11-09 01:00:00  0.954450  0.954640  0.954450  0.954500\n 2018-11-09 02:00:00  0.954590  0.954925  0.954555  0.954770\n 2018-11-09 03:00:00  0.955015  0.955195  0.954985  0.955155\n 2018-11-09 04:00:00  0.954360  0.954505  0.954295  0.954300\n 2018-11-09 05:00:00  0.953615  0.953660  0.953515  0.953515\n 2018-11-09 06:00:00  0.953955  0.954045  0.953910  0.953950\n 2018-11-09 07:00:00  0.954310  0.954350  0.954150  0.954160\n 2018-11-09 08:00:00  0.954465  0.954465  0.954195  0.954195\n 2018-11-09 09:00:00  0.954805  0.954815  0.954615  0.954635\n 2018-11-09 10:00:00  0.954995  0.955020  0.954850  0.954880\n 2018-11-09 11:00:00  0.955065  0.955065  0.954870  0.954905\n 2018-11-09 12:00:00  0.955005  0.955060  0.954895  0.954970\n 2018-11-09 13:00:00  0.955540  0.955640  0.955540  0.955610\n 2018-11-09 14:00:00  0.955360  0.955490  0.955340  0.955425\n 2018-11-09 15:00:00  0.955425  0.955535  0.955420  0.955445\n 2018-11-09 16:00:00  0.955430  0.955430  0.955275  0.955355\n 2018-11-09 17:00:00  0.955030  0.955190  0.955000  0.955085\n 2018-11-09 18:00:00  0.955660  0.955825  0.955590  0.955745\n 2018-11-09 19:00:00  0.956165  0.956515  0.956140  0.956395\n 2018-11-09 20:00:00  0.955955  0.956000  0.955620  0.955655\n 2018-11-09 21:00:00  0.955575  0.955670  0.955520  0.955655\n 2018-11-09 22:00:00  0.954835  0.955100  0.954835  0.955060,\n                          open      high       low     close\n time                                                       \n 2018-11-12 15:00:00  0.951225  0.951245  0.951115  0.951245\n 2018-11-12 16:00:00  0.951815  0.951835  0.951575  0.951575\n 2018-11-12 17:00:00  0.952515  0.952560  0.952415  0.952440\n 2018-11-12 18:00:00  0.951915  0.952055  0.951860  0.952010\n 2018-11-12 19:00:00  0.951990  0.952090  0.951910  0.951935\n 2018-11-12 20:00:00  0.951395  0.951430  0.951290  0.951300\n 2018-11-12 21:00:00  0.950580  0.950625  0.950500  0.950550\n 2018-11-12 22:00:00  0.950615  0.950685  0.950610  0.950675\n 2018-11-12 23:00:00  0.950985  0.950985  0.950860  0.950915\n 2018-11-13 00:00:00  0.951040  0.951050  0.950905  0.950925\n 2018-11-13 01:00:00  0.950400  0.950500  0.950320  0.950465\n 2018-11-13 02:00:00  0.949920  0.950105  0.949905  0.950105\n 2018-11-13 03:00:00  0.950160  0.950270  0.950020  0.950220\n 2018-11-13 04:00:00  0.949700  0.949815  0.949665  0.949770\n 2018-11-13 05:00:00  0.950180  0.950200  0.950125  0.950180\n 2018-11-13 06:00:00  0.950240  0.950255  0.950180  0.950235\n 2018-11-13 07:00:00  0.953280  0.953715  0.953230  0.953715\n 2018-11-13 08:00:00  0.953475  0.953475  0.953315  0.953330\n 2018-11-13 09:00:00  0.953360  0.953365  0.953290  0.953340\n 2018-11-13 10:00:00  0.953850  0.953850  0.953625  0.953710\n 2018-11-13 11:00:00  0.953995  0.954210  0.953960  0.954005\n 2018-11-13 12:00:00  0.952740  0.952740  0.952515  0.952630\n 2018-11-13 13:00:00  0.952160  0.952200  0.952135  0.952160\n 2018-11-13 14:00:00  0.953080  0.953110  0.952890  0.952900\n 2018-11-13 15:00:00  0.952875  0.952895  0.952740  0.952775\n 2018-11-13 16:00:00  0.953085  0.953085  0.952935  0.952980\n 2018-11-13 17:00:00  0.954305  0.954380  0.954215  0.954365\n 2018-11-13 18:00:00  0.953675  0.953840  0.953645  0.953830\n 2018-11-13 19:00:00  0.954610  0.954640  0.954365  0.954465\n 2018-11-13 20:00:00  0.954585  0.954750  0.954570  0.954665\n 2018-11-13 21:00:00  0.954525  0.954610  0.954495  0.954610\n 2018-11-13 22:00:00  0.954220  0.954360  0.954110  0.954360,\n                          open      high       low     close\n time                                                       \n 2018-11-13 15:00:00  0.952875  0.952895  0.952740  0.952775\n 2018-11-13 16:00:00  0.953085  0.953085  0.952935  0.952980\n 2018-11-13 17:00:00  0.954305  0.954380  0.954215  0.954365\n 2018-11-13 18:00:00  0.953675  0.953840  0.953645  0.953830\n 2018-11-13 19:00:00  0.954610  0.954640  0.954365  0.954465\n 2018-11-13 20:00:00  0.954585  0.954750  0.954570  0.954665\n 2018-11-13 21:00:00  0.954525  0.954610  0.954495  0.954610\n 2018-11-13 22:00:00  0.954220  0.954360  0.954110  0.954360\n 2018-11-13 23:00:00  0.954635  0.954645  0.954320  0.954335\n 2018-11-14 00:00:00  0.954840  0.954885  0.954685  0.954765\n 2018-11-14 01:00:00  0.955300  0.955330  0.955245  0.955245\n 2018-11-14 02:00:00  0.955420  0.955545  0.955305  0.955365\n 2018-11-14 03:00:00  0.956205  0.956205  0.955980  0.956000\n 2018-11-14 04:00:00  0.955920  0.955965  0.955850  0.955855\n 2018-11-14 05:00:00  0.956060  0.956060  0.955455  0.955645\n 2018-11-14 06:00:00  0.955180  0.955195  0.955050  0.955105\n 2018-11-14 07:00:00  0.956195  0.956285  0.956185  0.956195\n 2018-11-14 08:00:00  0.955705  0.955745  0.955645  0.955700\n 2018-11-14 09:00:00  0.955690  0.955735  0.955675  0.955700\n 2018-11-14 10:00:00  0.955850  0.955940  0.955730  0.955785\n 2018-11-14 11:00:00  0.955375  0.955375  0.955140  0.955270\n 2018-11-14 12:00:00  0.953215  0.953335  0.953100  0.953145\n 2018-11-14 13:00:00  0.951980  0.952015  0.951915  0.951920\n 2018-11-14 14:00:00  0.952170  0.952330  0.952165  0.952280\n 2018-11-14 15:00:00  0.952970  0.952985  0.952910  0.952930\n 2018-11-14 16:00:00  0.953945  0.953975  0.953920  0.953950\n 2018-11-14 17:00:00  0.954425  0.954515  0.954260  0.954260\n 2018-11-14 18:00:00  0.955455  0.955555  0.955385  0.955440\n 2018-11-14 19:00:00  0.954970  0.955095  0.954865  0.954885\n 2018-11-14 20:00:00  0.955480  0.955740  0.955480  0.955730\n 2018-11-14 21:00:00  0.955950  0.956030  0.955830  0.955930\n 2018-11-14 22:00:00  0.956005  0.956065  0.955885  0.955990,\n                          open      high       low     close\n time                                                       \n 2018-11-14 15:00:00  0.952970  0.952985  0.952910  0.952930\n 2018-11-14 16:00:00  0.953945  0.953975  0.953920  0.953950\n 2018-11-14 17:00:00  0.954425  0.954515  0.954260  0.954260\n 2018-11-14 18:00:00  0.955455  0.955555  0.955385  0.955440\n 2018-11-14 19:00:00  0.954970  0.955095  0.954865  0.954885\n 2018-11-14 20:00:00  0.955480  0.955740  0.955480  0.955730\n 2018-11-14 21:00:00  0.955950  0.956030  0.955830  0.955930\n 2018-11-14 22:00:00  0.956005  0.956065  0.955885  0.955990\n 2018-11-14 23:00:00  0.958435  0.958675  0.958385  0.958580\n 2018-11-15 00:00:00  0.958405  0.958510  0.958245  0.958360\n 2018-11-15 01:00:00  0.957600  0.957730  0.957505  0.957700\n 2018-11-15 02:00:00  0.957925  0.958020  0.957825  0.957980\n 2018-11-15 03:00:00  0.958125  0.958335  0.958095  0.958320\n 2018-11-15 04:00:00  0.963690  0.964100  0.963655  0.963980\n 2018-11-15 05:00:00  0.962310  0.962380  0.962240  0.962345\n 2018-11-15 06:00:00  0.962180  0.962235  0.962105  0.962115\n 2018-11-15 07:00:00  0.962430  0.962465  0.962430  0.962460\n 2018-11-15 08:00:00  0.962610  0.962690  0.962535  0.962560\n 2018-11-15 09:00:00  0.962340  0.962340  0.962240  0.962250\n 2018-11-15 10:00:00  0.962815  0.962900  0.962650  0.962665\n 2018-11-15 11:00:00  0.963585  0.963635  0.963400  0.963455\n 2018-11-15 12:00:00  0.962735  0.962760  0.962560  0.962575\n 2018-11-15 13:00:00  0.960825  0.960855  0.960270  0.960445\n 2018-11-15 14:00:00  0.960800  0.960820  0.960690  0.960790\n 2018-11-15 15:00:00  0.961070  0.961100  0.960915  0.961025\n 2018-11-15 16:00:00  0.960560  0.960595  0.960475  0.960485\n 2018-11-15 17:00:00  0.961525  0.961835  0.961445  0.961750\n 2018-11-15 18:00:00  0.961450  0.961910  0.961435  0.961875\n 2018-11-15 19:00:00  0.960125  0.960225  0.960050  0.960115\n 2018-11-15 20:00:00  0.958815  0.958915  0.958615  0.958655\n 2018-11-15 21:00:00  0.959045  0.959380  0.959005  0.959365\n 2018-11-15 22:00:00  0.959130  0.959200  0.959025  0.959110,\n                          open      high       low     close\n time                                                       \n 2018-11-15 15:00:00  0.961070  0.961100  0.960915  0.961025\n 2018-11-15 16:00:00  0.960560  0.960595  0.960475  0.960485\n 2018-11-15 17:00:00  0.961525  0.961835  0.961445  0.961750\n 2018-11-15 18:00:00  0.961450  0.961910  0.961435  0.961875\n 2018-11-15 19:00:00  0.960125  0.960225  0.960050  0.960115\n 2018-11-15 20:00:00  0.958815  0.958915  0.958615  0.958655\n 2018-11-15 21:00:00  0.959045  0.959380  0.959005  0.959365\n 2018-11-15 22:00:00  0.959130  0.959200  0.959025  0.959110\n 2018-11-15 23:00:00  0.960010  0.960255  0.960010  0.960170\n 2018-11-16 00:00:00  0.959680  0.959730  0.959525  0.959720\n 2018-11-16 01:00:00  0.958900  0.958915  0.958735  0.958905\n 2018-11-16 02:00:00  0.958760  0.958965  0.958740  0.958760\n 2018-11-16 03:00:00  0.957890  0.957910  0.957885  0.957900\n 2018-11-16 04:00:00  0.959340  0.959485  0.959290  0.959450\n 2018-11-16 05:00:00  0.958330  0.958430  0.957930  0.957930\n 2018-11-16 06:00:00  0.956010  0.956065  0.955870  0.955915\n 2018-11-16 07:00:00  0.956775  0.956780  0.956650  0.956665\n 2018-11-16 08:00:00  0.956720  0.956830  0.956685  0.956810\n 2018-11-16 09:00:00  0.957750  0.957750  0.957520  0.957640\n 2018-11-16 10:00:00  0.958115  0.958155  0.957985  0.958040\n 2018-11-16 11:00:00  0.957120  0.957215  0.956955  0.957170\n 2018-11-16 12:00:00  0.956415  0.956510  0.956320  0.956435\n 2018-11-16 13:00:00  0.955630  0.955720  0.955620  0.955705\n 2018-11-16 14:00:00  0.955380  0.955415  0.955335  0.955385\n 2018-11-16 15:00:00  0.955405  0.955405  0.955210  0.955210\n 2018-11-16 16:00:00  0.957225  0.957535  0.957195  0.957460\n 2018-11-16 17:00:00  0.958505  0.958920  0.958465  0.958875\n 2018-11-16 18:00:00  0.960640  0.960920  0.960565  0.960830\n 2018-11-16 19:00:00  0.960980  0.961140  0.960895  0.961085\n 2018-11-16 20:00:00  0.963280  0.963350  0.963160  0.963205\n 2018-11-16 21:00:00  0.964210  0.964440  0.964115  0.964270\n 2018-11-16 22:00:00  0.964050  0.964370  0.964050  0.964130,\n                          open      high       low     close\n time                                                       \n 2018-11-19 15:00:00  0.961420  0.961525  0.961300  0.961365\n 2018-11-19 16:00:00  0.961515  0.961575  0.961460  0.961510\n 2018-11-19 17:00:00  0.960805  0.961115  0.960805  0.961100\n 2018-11-19 18:00:00  0.962150  0.962210  0.962055  0.962145\n 2018-11-19 19:00:00  0.961515  0.961875  0.961510  0.961735\n 2018-11-19 20:00:00  0.961350  0.961570  0.961345  0.961355\n 2018-11-19 21:00:00  0.961815  0.961980  0.961815  0.961980\n 2018-11-19 22:00:00  0.962000  0.962105  0.961880  0.961975\n 2018-11-19 23:00:00  0.960735  0.960865  0.960720  0.960755\n 2018-11-20 00:00:00  0.960800  0.960900  0.960785  0.960895\n 2018-11-20 01:00:00  0.960750  0.960820  0.960580  0.960820\n 2018-11-20 02:00:00  0.960150  0.960675  0.960145  0.960545\n 2018-11-20 03:00:00  0.960930  0.961025  0.960865  0.960945\n 2018-11-20 04:00:00  0.960845  0.960845  0.960295  0.960295\n 2018-11-20 05:00:00  0.960730  0.960760  0.960625  0.960665\n 2018-11-20 06:00:00  0.960145  0.960145  0.960010  0.960025\n 2018-11-20 07:00:00  0.959475  0.959610  0.959475  0.959580\n 2018-11-20 08:00:00  0.958155  0.958155  0.958080  0.958080\n 2018-11-20 09:00:00  0.958425  0.958490  0.958385  0.958395\n 2018-11-20 10:00:00  0.958975  0.959115  0.958965  0.959115\n 2018-11-20 11:00:00  0.959315  0.959655  0.959315  0.959490\n 2018-11-20 12:00:00  0.959750  0.959755  0.959580  0.959750\n 2018-11-20 13:00:00  0.956630  0.956915  0.956415  0.956530\n 2018-11-20 14:00:00  0.957565  0.957760  0.957505  0.957755\n 2018-11-20 15:00:00  0.958660  0.958860  0.958585  0.958860\n 2018-11-20 16:00:00  0.958715  0.958830  0.958525  0.958555\n 2018-11-20 17:00:00  0.959870  0.959870  0.959480  0.959535\n 2018-11-20 18:00:00  0.960350  0.960800  0.960300  0.960790\n 2018-11-20 19:00:00  0.960745  0.960855  0.960605  0.960790\n 2018-11-20 20:00:00  0.959625  0.959780  0.959625  0.959780\n 2018-11-20 21:00:00  0.960510  0.960515  0.960190  0.960245\n 2018-11-20 22:00:00  0.960490  0.960600  0.960435  0.960465]"
     },
     "execution_count": 11,
     "metadata": {},
     "output_type": "execute_result"
    }
   ],
   "source": [
    "horizon.after_filters"
   ],
   "metadata": {
    "collapsed": false,
    "pycharm": {
     "name": "#%%\n"
    }
   }
  },
  {
   "cell_type": "code",
   "execution_count": null,
   "outputs": [],
   "source": [
    "\"\"\"d = pd.read_csv('zip_data/AUDCAD.csv', index_col=0)\n",
    "d.index = pd.to_datetime(d.index)\n",
    "d = d.resample('1H').first()\n",
    "d = d.iloc[:150_0]\n",
    "horizon = StrategyExtractor()\n",
    "constime = ConsistingTime(pd.Timedelta(days=0, hours=22), pd.Timedelta(days=1, hours=8), pd.Timedelta(days=1, hours=22))\n",
    "horizon.apply_filters(constime)\n",
    "#nodolidays = NoHolidays()\n",
    "#horizon.apply_filters(nodolidays)\n",
    "horizon.transfer_data(d)\n",
    "horizon.input_params(start_horizon=datetime.timedelta(hours=-12), end_horizon=datetime.timedelta(hours=19))\n",
    "horizon._making_horizon()\n",
    "horizon.after_filters\"\"\""
   ],
   "metadata": {
    "collapsed": false,
    "pycharm": {
     "name": "#%%\n"
    }
   }
  },
  {
   "cell_type": "code",
   "execution_count": 70,
   "outputs": [
    {
     "data": {
      "text/plain": "'<__main__.TrendFollowingStrategy object at 0x11ec65f70>'"
     },
     "execution_count": 70,
     "metadata": {},
     "output_type": "execute_result"
    }
   ],
   "source": [],
   "metadata": {
    "collapsed": false,
    "pycharm": {
     "name": "#%%\n"
    }
   }
  }
 ],
 "metadata": {
  "kernelspec": {
   "display_name": "Python 3",
   "language": "python",
   "name": "python3"
  },
  "language_info": {
   "codemirror_mode": {
    "name": "ipython",
    "version": 2
   },
   "file_extension": ".py",
   "mimetype": "text/x-python",
   "name": "python",
   "nbconvert_exporter": "python",
   "pygments_lexer": "ipython2",
   "version": "2.7.6"
  }
 },
 "nbformat": 4,
 "nbformat_minor": 0
}