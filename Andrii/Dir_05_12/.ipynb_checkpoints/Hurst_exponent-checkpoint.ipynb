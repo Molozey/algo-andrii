{
 "cells": [
  {
   "cell_type": "code",
   "execution_count": 1,
   "metadata": {
    "collapsed": true
   },
   "outputs": [],
   "source": [
    "import pandas as pd\n",
    "import numpy as np\n",
    "\n",
    "from scipy import stats\n",
    "import matplotlib.pylab as plt\n",
    "from tqdm.notebook import tqdm\n",
    "from scipy.special import gamma\n",
    "\n",
    "from joblib import Parallel, delayed\n",
    "\n",
    "import datetime\n",
    "\n",
    "import glob\n",
    "\n",
    "from matplotlib.cm import rainbow"
   ]
  },
  {
   "cell_type": "code",
   "execution_count": 5,
   "metadata": {
    "pycharm": {
     "name": "#%%\n"
    }
   },
   "outputs": [],
   "source": [
    "def get_hurst_exponent(time_series, max_lag=100):\n",
    "\n",
    "    lags = range(10, max_lag)\n",
    "\n",
    "    #   For every X we calculate X minus X_SHIFTED_Q. Then we calculate STD.\n",
    "    tau = [np.std(np.subtract(time_series[lag:], time_series[:-lag])) for lag in lags]\n",
    "\n",
    "    # log()\n",
    "    reg = np.polyfit(np.log(lags), np.log(tau), 1)\n",
    "\n",
    "    return reg[0]"
   ]
  },
  {
   "cell_type": "code",
   "execution_count": null,
   "metadata": {
    "pycharm": {
     "is_executing": true,
     "name": "#%%\n"
    }
   },
   "outputs": [
    {
     "data": {
      "application/vnd.jupyter.widget-view+json": {
       "model_id": "85002d30d1a64d8b9361d4438dfe0f19",
       "version_major": 2,
       "version_minor": 0
      },
      "text/plain": [
       "  0%|          | 0/15 [00:00<?, ?it/s]"
      ]
     },
     "metadata": {},
     "output_type": "display_data"
    },
    {
     "data": {
      "application/vnd.jupyter.widget-view+json": {
       "model_id": "2fbaddf284ee4ea6a410309ec32860a5",
       "version_major": 2,
       "version_minor": 0
      },
      "text/plain": [
       "  0%|          | 0/6 [00:00<?, ?it/s]"
      ]
     },
     "metadata": {},
     "output_type": "display_data"
    }
   ],
   "source": [
    "RESULTS_HURST = list()\n",
    "files = glob.glob('zip_data/*.csv')[:]\n",
    "colors = rainbow(np.linspace(0, 1, len(files)))\n",
    "plt.figure(figsize=(16,8))\n",
    "plt.grid()\n",
    "plt.ylabel('Hurst')\n",
    "plt.xlabel('Lag Q')\n",
    "plt.style.use('classic')\n",
    "LAGS = np.arange(20, 50_000, 9000)\n",
    "for arrow, _ in tqdm(enumerate(files[:]), total=len(files)):\n",
    "    RES = list()\n",
    "    name = _.split('/')[1][:-4]\n",
    "    if name != ('ES-21.12' or ' NQ-21.12'):\n",
    "        data = pd.read_csv(_).dropna()\n",
    "        for _ in tqdm(LAGS, leave=False):\n",
    "            RES.append(get_hurst_exponent(data.close.values, max_lag=_))\n",
    "        plt.plot(LAGS, RES, color=colors[arrow], linewidth=5, label=name)\n",
    "        RESULTS_HURST.append([name, (LAGS, RES)])\n",
    "plt.legend(loc='lower right')\n",
    "plt.show()"
   ]
  }
 ],
 "metadata": {
  "kernelspec": {
   "display_name": "Python 3 (ipykernel)",
   "language": "python",
   "name": "python3"
  },
  "language_info": {
   "codemirror_mode": {
    "name": "ipython",
    "version": 2
   },
   "file_extension": ".py",
   "mimetype": "text/x-python",
   "name": "python",
   "nbconvert_exporter": "python",
   "pygments_lexer": "ipython2",
   "version": "2.7.6"
  }
 },
 "nbformat": 4,
 "nbformat_minor": 1
}
