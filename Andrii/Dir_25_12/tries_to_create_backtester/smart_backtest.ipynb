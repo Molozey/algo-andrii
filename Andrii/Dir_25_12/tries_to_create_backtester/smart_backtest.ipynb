{
 "cells": [
  {
   "cell_type": "code",
   "execution_count": 32,
   "metadata": {
    "collapsed": true
   },
   "outputs": [],
   "source": [
    "from datetime import timedelta\n",
    "import pandas as pd\n",
    "from abc import ABC, abstractmethod"
   ]
  },
  {
   "cell_type": "code",
   "execution_count": null,
   "outputs": [],
   "source": [
    "def es_open_condition(input_data, percent):\n",
    "    if (input_data.loc[0] / input_data.loc[-1]) - 1 > percent:\n",
    "        return {'key': True, 'type': 'LONG'}\n",
    "    if (input_data.loc[0] / input_data.loc[-1]) - 1 < -1 * percent:\n",
    "        return {'key': True, 'type': 'SHORT'}\n",
    "    else:\n",
    "        return {'key': False, 'type': None}\n",
    "\n",
    "\n",
    "def es_close_condition(input_data):\n",
    "    if input_data."
   ],
   "metadata": {
    "collapsed": false,
    "pycharm": {
     "name": "#%%\n"
    }
   }
  },
  {
   "cell_type": "code",
   "execution_count": null,
   "outputs": [],
   "source": [
    "class BaseIndicators(ABC):\n",
    "\n",
    "    def __init__(self, open_condition, close_condition, max_hold_period:None or timedelta):\n",
    "        self.look_back_period = None\n",
    "        self.open_condition = open_condition\n",
    "        self.close_condition = close_condition\n",
    "        self.max_hold_period = max_hold_period\n",
    "\n",
    "\n",
    "'''    def open_logical(self, series):\n",
    "        if self.open_condition(series):\n",
    "            return True\n",
    "        else:\n",
    "            return False\n",
    "\n",
    "    def close_logical(self, series):\n",
    "        if self.close_condition(series):\n",
    "            return True\n",
    "        else:\n",
    "            return False'''\n",
    "\n",
    "\n",
    "class Indicators_Based_On_LookBack(BaseIndicators):\n",
    "\n",
    "    def __init__(self, lookback, open_condition, close_condition, max_hold_period:(None or timedelta)=None):\n",
    "        \"\"\"\n",
    "\n",
    "        :param lookback: in seconds\n",
    "        \"\"\"\n",
    "        super().__init__(open_condition=open_condition, close_condition=close_condition, max_hold_period=max_hold_period)\n",
    "        self.look_back_period = lookback\n",
    "\n",
    "    def calculate_logical(self):\n",
    "        return None\n",
    "\n",
    "'''    def open_logical(self, series):\n",
    "        if self.open_condition(series):\n",
    "            return True\n",
    "        else:\n",
    "            return False\n",
    "\n",
    "    def close_logical(self, series):\n",
    "        if self.close_condition(series):\n",
    "            return True\n",
    "        else:\n",
    "            return False'''\n",
    "\n",
    "\n",
    "ES_ind = Indicators_Based_On_LookBack(540, es_open_condition(), es_open_condition(), max_hold_period=None)\n",
    "\n",
    "ES_ind.calculate_logical()\n",
    "\n",
    "\n",
    "class BaseStrategy(ABC):\n",
    "    @abstractmethod\n",
    "    def __init__(self, input_data: pd.Series, strategy_name='UnNamed Strategy', start_money=None):\n",
    "        self.strategy_name = strategy_name\n",
    "        self.data = input_data\n",
    "        self.start_money = start_money\n",
    "        self.open_indicators = list()\n",
    "        self.pre_close_indicators = list()\n",
    "        self.close_indicators = list()\n",
    "        self.strategy_logic = list()\n",
    "\n",
    "    @abstractmethod\n",
    "    def create_open_indicators(self, indicator: BaseIndicators):\n",
    "        #   Strategies with LookBack\n",
    "        if indicator.look_back_period:\n",
    "            _index_array = self.data.index\n",
    "            for index in _index_array:\n",
    "                if self.data.loc[index - indicator.look_back_period: index].shape[0] != 0 :\n",
    "\n",
    "\n",
    "                    if indicator.open_logical(self.data[index - indicator.look_back_period: index]):\n",
    "                        self.open_indicators.append(index)\n",
    "                        if indicator.max_hold_period:\n",
    "                            self.pre_close_indicators.append(index+indicator.max_hold_period)\n",
    "                        else:\n",
    "                            self.pre_close_indicators.append(None)\n",
    "\n",
    "        #   Strategies without LookBack\n",
    "        else:\n",
    "            print('Not realized yet')\n",
    "\n",
    "    @abstractmethod\n",
    "    def create_close_indicators(self, indicator):\n",
    "        pass\n",
    "\n",
    "    @abstractmethod\n",
    "    def calculate_profit(self):\n",
    "        profit_estimator()\n",
    "\n",
    "def profit_estimator(Strategy: BaseStrategy):\n",
    "    for _ in zip(Strategy.open_indicators, Strategy.close_indicators):\n",
    "        Strategy.hold_logic()"
   ],
   "metadata": {
    "collapsed": false,
    "pycharm": {
     "name": "#%%\n"
    }
   }
  },
  {
   "cell_type": "code",
   "execution_count": 37,
   "outputs": [],
   "source": [
    "tests = pd.read_csv('zip_data/AUDCAD.csv', index_col=0)\n",
    "tests.index = pd.to_datetime(tests.index)"
   ],
   "metadata": {
    "collapsed": false,
    "pycharm": {
     "name": "#%%\n"
    }
   }
  },
  {
   "cell_type": "code",
   "execution_count": 50,
   "outputs": [
    {
     "ename": "SyntaxError",
     "evalue": "invalid syntax (1662948237.py, line 2)",
     "output_type": "error",
     "traceback": [
      "\u001B[0;36m  File \u001B[0;32m\"/var/folders/_r/6hvfrncn0gb3rk22vwnq62gh0000gn/T/ipykernel_4805/1662948237.py\"\u001B[0;36m, line \u001B[0;32m2\u001B[0m\n\u001B[0;31m    [index - timedelta(seconds=120):index] in tests.index\u001B[0m\n\u001B[0m                                   ^\u001B[0m\n\u001B[0;31mSyntaxError\u001B[0m\u001B[0;31m:\u001B[0m invalid syntax\n"
     ]
    }
   ],
   "source": [
    "index = tests.open.index[1]\n",
    "[index - timedelta(seconds=120):index] in tests.index"
   ],
   "metadata": {
    "collapsed": false,
    "pycharm": {
     "name": "#%%\n"
    }
   }
  },
  {
   "cell_type": "code",
   "execution_count": 52,
   "outputs": [
    {
     "data": {
      "text/plain": "Timestamp('2018-11-01 00:14:00')"
     },
     "execution_count": 52,
     "metadata": {},
     "output_type": "execute_result"
    }
   ],
   "source": [
    "index - timedelta(seconds=120)"
   ],
   "metadata": {
    "collapsed": false,
    "pycharm": {
     "name": "#%%\n"
    }
   }
  },
  {
   "cell_type": "code",
   "execution_count": 55,
   "outputs": [
    {
     "data": {
      "text/plain": "<function Timestamp.time>"
     },
     "execution_count": 55,
     "metadata": {},
     "output_type": "execute_result"
    }
   ],
   "source": [
    "tests.loc[index - timedelta(seconds=60): index].index[0]"
   ],
   "metadata": {
    "collapsed": false,
    "pycharm": {
     "name": "#%%\n"
    }
   }
  }
 ],
 "metadata": {
  "kernelspec": {
   "display_name": "Python 3",
   "language": "python",
   "name": "python3"
  },
  "language_info": {
   "codemirror_mode": {
    "name": "ipython",
    "version": 2
   },
   "file_extension": ".py",
   "mimetype": "text/x-python",
   "name": "python",
   "nbconvert_exporter": "python",
   "pygments_lexer": "ipython2",
   "version": "2.7.6"
  }
 },
 "nbformat": 4,
 "nbformat_minor": 0
}