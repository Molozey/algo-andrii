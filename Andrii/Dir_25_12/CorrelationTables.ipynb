{
 "cells": [
  {
   "cell_type": "code",
   "execution_count": 1,
   "metadata": {
    "collapsed": true
   },
   "outputs": [],
   "source": [
    "from glob import glob\n",
    "import pandas as pd\n",
    "import numpy as np\n",
    "import datetime\n",
    "import matplotlib.pyplot as plt\n",
    "import seaborn as sns"
   ]
  },
  {
   "cell_type": "code",
   "execution_count": 149,
   "outputs": [],
   "source": [
    "\n",
    "class CorrelationTables:\n",
    "    def __init__(self, show_logs, show_graphs):\n",
    "        print('Please add data primitives in format of data path')\n",
    "        self.primitives_list = list()\n",
    "        self.correlation_results = list()\n",
    "        self.total_result = list()\n",
    "        self.warning_logs = show_logs\n",
    "        self.graphs = show_graphs\n",
    "\n",
    "    def add_research_primitive(self, primitive_path, index_col=0, data_freq='1T'):\n",
    "        primitive_name = primitive_path.split('/')[-1].split('.')[0]\n",
    "        primitive_data = pd.read_csv(primitive_path, index_col=index_col)\n",
    "        primitive_data.index = pd.to_datetime(primitive_data.index)\n",
    "        if self.warning_logs:\n",
    "            print(f'====    Added {primitive_name}  ====')\n",
    "        self.primitives_list.append({\"Primitive_name\": primitive_name, \"Primitive_content\": primitive_data, \"Primitive_volume\": primitive_data.shape[0],\n",
    "                                     \"Primitive_Frequency\": data_freq})\n",
    "        del primitive_name\n",
    "        del primitive_data\n",
    "\n",
    "    def make_correlation_table(self, table_data_slices, show_logs=False):\n",
    "        if self.warning_logs:\n",
    "            print('=' * 10)\n",
    "            print('Be careful. In one correlation table can be only dataframes with similar shapes')\n",
    "        #TODO Need to make method to guarantee sync records from datetimes\n",
    "        # Таким образом находятся пары между которыми можно будет считать корреляцию. Этот способ не очень хороший, но по крайней мере он практически полностью\n",
    "        # гарантирует отсутствие сдвига во времени в кусках данных\n",
    "        unique_shapes = np.unique(np.array([primitive[\"Primitive_volume\"] for primitive in self.primitives_list]))\n",
    "        for similar_shapes in unique_shapes:\n",
    "            # Собираем список из пар имеющих одинаковые размеры\n",
    "            buffer_primitives = list(filter(lambda primitive: primitive[\"Primitive_volume\"] == similar_shapes, self.primitives_list))\n",
    "            # Если не соберется хотя бы 2 переходим к следующему набору примитивов\n",
    "            if len(buffer_primitives) >= 2:\n",
    "                res = self._complete_correlation(buffer_primitives, year_of_correlation=table_data_slices, log_show=show_logs)\n",
    "                self.correlation_results.append(res)\n",
    "            else:\n",
    "                if self.warning_logs:\n",
    "                    print(f\"Cannot find a pair (similar shape) to {[primitive['Primitive_name'] for primitive in buffer_primitives]}. Shape={similar_shapes}\")\n",
    "                continue\n",
    "\n",
    "    def _complete_correlation(self, similar_primitives, year_of_correlation, log_show=True):\n",
    "        if self.warning_logs:\n",
    "            print('=' * 10)\n",
    "        correlation_dict = {'Primitives_list': [primitive['Primitive_name'] for primitive in similar_primitives], 'Shape': similar_primitives[0][\"Primitive_volume\"]}\n",
    "        if log_show:\n",
    "            print('-' * 5 + '   EXTEND_INFO    ' + '-' * 5)\n",
    "            print('Primitives total:', len(similar_primitives))\n",
    "            print('Primitives objects:', [primitive['Primitive_name'] for primitive in similar_primitives])\n",
    "            print('Primitives shape:', similar_primitives[0][\"Primitive_volume\"])\n",
    "            print('-' * 5 + '   END_EXTEND_INFO    ' + '-' * 5)\n",
    "\n",
    "        results = list()\n",
    "        # Вырезаем из данных куски на которых будем считать корреляцию. Скорее всего будет корректно работать для разбитий любой ширины\n",
    "        for borders in year_of_correlation:\n",
    "            extend_info=False\n",
    "            if log_show:\n",
    "                extend_info = True\n",
    "                print(\"Current Borders:\", borders)\n",
    "            #   Собирается список из \"разбитых\" примитивов\n",
    "            work_primitives = [{\"Primitive_name\": primitive[\"Primitive_name\"],\"Primitive_content\": primitive[\"Primitive_content\"].loc[borders[0]: borders[1]], \"Primitive_Freq\": primitive[\"Primitive_Frequency\"]} for primitive in similar_primitives]\n",
    "            # Проверяется условие на наличие данных в примитиве\n",
    "            if work_primitives[0][\"Primitive_content\"].shape[0] == 0:\n",
    "                continue\n",
    "\n",
    "            # Проверка что размер всех \"разбитых\" примитивов совпадает\n",
    "            if len(np.unique([work_primitive[\"Primitive_content\"].shape[0] for work_primitive in work_primitives])) > 1:\n",
    "                continue\n",
    "\n",
    "            carretes, corrs =  self._calculate_correlation(work_primitives, extend_info=extend_info, borders=borders)\n",
    "\n",
    "            results.append({\"borders\": borders, \"timesum\": carretes, \"corr_tables\": corrs})\n",
    "        correlation_dict['results'] = results\n",
    "        return correlation_dict\n",
    "\n",
    "\n",
    "    def _calculate_correlation(self, primitives, borders, list_return_summary=['5T', '30T', '1H', '6H', '1D'],extend_info=True):\n",
    "        return_correlations = list()\n",
    "        # Логарифмируем, считаем доходность, ресемплим в зависимости от входной частоты данных\n",
    "        # Тут можно выбрать с каким столбцом будем работать. Сейчас выбран столбец open\n",
    "        logged_primitives = [[primitive[\"Primitive_name\"], np.log(primitive[\"Primitive_content\"].open).diff()[1:].resample(primitive[\"Primitive_Freq\"]).first()] for primitive in primitives]\n",
    "        # Переменная зависящая от количества объектов в \"пачке\". Нужна для адекватной отрисовки heatmapa\n",
    "        WIDTH_CONST = 2 * len(primitives)\n",
    "        if self.graphs:\n",
    "            fig, ax = plt.subplots(1, len(list_return_summary), figsize=(len(list_return_summary) * WIDTH_CONST ,WIDTH_CONST))\n",
    "            fig.suptitle(f\"{datetime.date.strftime(borders[0], '%Y-%m')}:{datetime.date.strftime(borders[1], '%Y-%m')}\")\n",
    "\n",
    "        # Меняем частоту данных для взятия корреляции за различные временные промежутки\n",
    "        for number, research_carret in enumerate(list_return_summary):\n",
    "            if extend_info:\n",
    "                print('Current Research Resample:', research_carret)\n",
    "\n",
    "            corr_df = pd.DataFrame()\n",
    "            # Создаем массив из примитивов преобразованных под временные промежутки\n",
    "            resampled_primitives = [[primitive[0], primitive[1].resample(research_carret).sum()] for primitive in logged_primitives]\n",
    "            for obj in resampled_primitives:\n",
    "                corr_df[f\"{obj[0]}\"] = obj[1]\n",
    "            correlation = corr_df.corr()\n",
    "            # Отрисовка\n",
    "            if self.graphs:\n",
    "                sns.heatmap(correlation, ax=ax[number], annot=True, fmt=\".2g\")\n",
    "                ax[number].title.set_text(f\"{research_carret}\")\n",
    "\n",
    "            return_correlations.append(correlation)\n",
    "        return list_return_summary, return_correlations\n",
    "\n",
    "    def unstable_matrix(self):\n",
    "        # Очень некрасивый метод. Но пока что так\n",
    "        for buff in self.correlation_results:\n",
    "            big = pd.DataFrame()\n",
    "            #print(buff[\"results\"])\n",
    "            # Проверяем что удалось разбить данные на хотя бы 2 \"пачки\". Иначе нельзя говорить о стабильности во времени\n",
    "            if len(buff[\"results\"]) == 1:\n",
    "                if self.warning_logs:\n",
    "                    print(f'No sense to calculate unstable factor for {buff[\"Primitives_list\"]}. \\n It has only one object inside. Skip...')\n",
    "                continue\n",
    "            if len(buff[\"results\"]) > 1:\n",
    "                # Очень плохой кусок кода, пока что не понял как его можно поправить чтобы работало\n",
    "                # DONT TOUCH\n",
    "                timesum = buff[\"results\"][0][\"timesum\"]\n",
    "                _obj = list()\n",
    "                for i in range(len(timesum)):\n",
    "                    _return = list()\n",
    "                    for _b in buff[\"results\"]:\n",
    "                        _return.append(list(filter(lambda x: x[0] == timesum[i], list(zip(_b[\"timesum\"], _b[\"corr_tables\"])))))\n",
    "                    _obj.append((timesum[i], _return))\n",
    "                # DONT TOUCH\n",
    "\n",
    "                results = list()\n",
    "\n",
    "                # Связываю все матрицы корреляций за все доступные временные промежутки. Готовый метод не нашел, поэтому написал свое очень некрасивое решение\n",
    "                # Нужно поправить чтобы пробегаться только по верхнетреугольной матрице.\n",
    "                for _ in _obj[:]:\n",
    "                    array_of_df = list()\n",
    "                    for __ in _[1]:\n",
    "                        array_of_df.append(__[0][1])\n",
    "\n",
    "                    #   So dumb... sry\n",
    "                    i,j = array_of_df[0].shape\n",
    "                    pdf = pd.DataFrame()\n",
    "                    for _ in range(i):\n",
    "                        for __ in range(j):\n",
    "                            elements = [df.iloc[_,__] for df in array_of_df]\n",
    "                            # print(array_of_df[0].index[_])\n",
    "                            # print(f\"i={_}, j={__}, std={np.std(elements) / np.mean(elements)}\")\n",
    "                            #   Calculate CV Ratio\n",
    "                            #   Стандартное отклонение на модуль среднего. Как я понимаю это хоть как-то нормализует показатель\n",
    "                            pdf.loc[array_of_df[0].index[_], array_of_df[0].index[__]] = np.std(elements) / abs(np.mean(elements))\n",
    "\n",
    "                    results.append(pdf)\n",
    "                #   Сверху я считаю показатель для всех частот разбития (пример: 5минут, 10минут, 30минут, 1час) для которых мы считаем корреляцию.\n",
    "                #   Этот показатель берется из выборки корреляций для разных временных промежутков (пример: 2018-2019;2019-2020;2020-2021).\n",
    "                #   results.append(pdf) собирает таблицу устойчивости для данных по примеру:\n",
    "                #   Returns за 10минут для 2019, 2020, 2021 дают корреляции за [P_10min_2019, P_10min_2020, P_10min_2021] по ним и считаем устойчивость на 10минутной частоте returns\n",
    "                #   Снизу усредняются показатели устойчивости за все частоты разбиения возвратов\n",
    "                big = pd.concat(results)\n",
    "                big = pd.pivot_table(big, index=big.index, aggfunc={np.mean})\n",
    "            self.total_result.append(big)\n"
   ],
   "metadata": {
    "collapsed": false,
    "pycharm": {
     "name": "#%%\n"
    }
   }
  },
  {
   "cell_type": "code",
   "execution_count": 150,
   "outputs": [
    {
     "name": "stdout",
     "output_type": "stream",
     "text": [
      "Please add data primitives in format of data path\n",
      "No sense to calculate unstable factor for ['NQ-21', 'ES-21']. \n",
      " It has only one object inside. Skip...\n"
     ]
    },
    {
     "data": {
      "text/plain": "[          AUDCAD    AUDUSD    EURCHF    EURGBP    EURUSD    GBPJPY    USDCHF  \\\n             mean      mean      mean      mean      mean      mean      mean   \n AUDCAD  0.000000  0.093794  0.612686  0.645316  0.216511  0.432266  0.337272   \n AUDUSD  0.093794  0.000000  0.457008  0.411396  0.172067  0.124779  0.295504   \n EURCHF  0.612686  0.457008  0.000000  0.724673  0.405937  0.194127  0.324640   \n EURGBP  0.645316  0.411396  0.724673  0.000000  0.159863  0.054065  0.185829   \n EURUSD  0.216511  0.172067  0.405937  0.159863  0.000000  0.099763  0.084669   \n GBPJPY  0.432266  0.124779  0.194127  0.054065  0.099763  0.000000  2.317176   \n USDCHF  0.337272  0.295504  0.324640  0.185829  0.084669  2.317176  0.000000   \n USDJPY  1.350700  1.321030  0.409411  0.940081  0.205214  0.143183  0.052682   \n \n           USDJPY  \n             mean  \n AUDCAD  1.350700  \n AUDUSD  1.321030  \n EURCHF  0.409411  \n EURGBP  0.940081  \n EURUSD  0.205214  \n GBPJPY  0.143183  \n USDCHF  0.052682  \n USDJPY  0.000000  ]"
     },
     "execution_count": 150,
     "metadata": {},
     "output_type": "execute_result"
    }
   ],
   "source": [
    "years = [2019, 2020, 2021]\n",
    "#years = [2019]\n",
    "#   Тут можно задать границы по которым будут резаться данные\n",
    "borders_list = [[datetime.datetime(year=x, month=1, day=1), datetime.datetime(year=x+1, month=1, day=1)] for x in years]\n",
    "\n",
    "\n",
    "data_path = glob('zip_data/*.csv')[:]\n",
    "TestCorr = CorrelationTables(show_logs=False, show_graphs=False)\n",
    "for _ in data_path:\n",
    "    TestCorr.add_research_primitive(_)\n",
    "\n",
    "TestCorr.make_correlation_table(table_data_slices=borders_list, show_logs=False)\n",
    "TestCorr.unstable_matrix()\n",
    "TestCorr.total_result"
   ],
   "metadata": {
    "collapsed": false,
    "pycharm": {
     "name": "#%%\n"
    }
   }
  },
  {
   "cell_type": "code",
   "execution_count": 145,
   "outputs": [
    {
     "data": {
      "text/plain": "[{'Primitives_list': ['NQ-21', 'ES-21'],\n  'Shape': 401,\n  'results': [{'borders': [datetime.datetime(2021, 1, 1, 0, 0),\n     datetime.datetime(2022, 1, 1, 0, 0)],\n    'timesum': ['5T', '30T', '1H', '6H', '1D'],\n    'corr_tables': [          NQ-21     ES-21\n     NQ-21  1.000000  0.884906\n     ES-21  0.884906  1.000000,\n               NQ-21     ES-21\n     NQ-21  1.000000  0.876161\n     ES-21  0.876161  1.000000,\n               NQ-21     ES-21\n     NQ-21  1.000000  0.788137\n     ES-21  0.788137  1.000000,\n               NQ-21     ES-21\n     NQ-21  1.000000  0.965953\n     ES-21  0.965953  1.000000,\n            NQ-21  ES-21\n     NQ-21    1.0   -1.0\n     ES-21   -1.0    1.0]}]},\n {'Primitives_list': ['AUDCAD',\n   'EURUSD',\n   'USDCHF',\n   'EURGBP',\n   'EURCHF',\n   'USDJPY'],\n  'Shape': 1107391,\n  'results': [{'borders': [datetime.datetime(2019, 1, 1, 0, 0),\n     datetime.datetime(2020, 1, 1, 0, 0)],\n    'timesum': ['5T', '30T', '1H', '6H', '1D'],\n    'corr_tables': [          AUDCAD    EURUSD    USDCHF    EURGBP    EURCHF    USDJPY\n     AUDCAD  1.000000  0.212305 -0.134066 -0.027068  0.077501  0.186707\n     EURUSD  0.212305  1.000000 -0.648539  0.147549  0.334252 -0.262891\n     USDCHF -0.134066 -0.648539  1.000000 -0.103500  0.488800  0.433244\n     EURGBP -0.027068  0.147549 -0.103500  1.000000  0.037638 -0.076682\n     EURCHF  0.077501  0.334252  0.488800  0.037638  1.000000  0.234539\n     USDJPY  0.186707 -0.262891  0.433244 -0.076682  0.234539  1.000000,\n               AUDCAD    EURUSD    USDCHF    EURGBP    EURCHF    USDJPY\n     AUDCAD  1.000000  0.219099 -0.135916 -0.071659  0.087216  0.051618\n     EURUSD  0.219099  1.000000 -0.654059  0.140058  0.340120 -0.303149\n     USDCHF -0.135916 -0.654059  1.000000 -0.119352  0.484586  0.494797\n     EURGBP -0.071659  0.140058 -0.119352  1.000000  0.012894 -0.133076\n     EURCHF  0.087216  0.340120  0.484586  0.012894  1.000000  0.268004\n     USDJPY  0.051618 -0.303149  0.494797 -0.133076  0.268004  1.000000,\n               AUDCAD    EURUSD    USDCHF    EURGBP    EURCHF    USDJPY\n     AUDCAD  1.000000  0.214474 -0.130901 -0.104084  0.092313  0.080490\n     EURUSD  0.214474  1.000000 -0.667632  0.158835  0.341599 -0.301040\n     USDCHF -0.130901 -0.667632  1.000000 -0.126397  0.469294  0.496217\n     EURGBP -0.104084  0.158835 -0.126397  1.000000  0.027751 -0.139696\n     EURCHF  0.092313  0.341599  0.469294  0.027751  1.000000  0.271628\n     USDJPY  0.080490 -0.301040  0.496217 -0.139696  0.271628  1.000000,\n               AUDCAD    EURUSD    USDCHF    EURGBP    EURCHF    USDJPY\n     AUDCAD  1.000000  0.221794 -0.128205 -0.056455  0.088768  0.005152\n     EURUSD  0.221794  1.000000 -0.668317  0.161632  0.284374 -0.302408\n     USDCHF -0.128205 -0.668317  1.000000 -0.122937  0.522626  0.525825\n     EURGBP -0.056455  0.161632 -0.122937  1.000000  0.026628 -0.141295\n     EURCHF  0.088768  0.284374  0.522626  0.026628  1.000000  0.330572\n     USDJPY  0.005152 -0.302408  0.525825 -0.141295  0.330572  1.000000,\n               AUDCAD    EURUSD    USDCHF    EURGBP    EURCHF    USDJPY\n     AUDCAD  1.000000  0.203350 -0.091046 -0.036856  0.131921 -0.022064\n     EURUSD  0.203350  1.000000 -0.730556  0.168842  0.243856 -0.344617\n     USDCHF -0.091046 -0.730556  1.000000 -0.151045  0.483655  0.564530\n     EURGBP -0.036856  0.168842 -0.151045  1.000000  0.002519 -0.113394\n     EURCHF  0.131921  0.243856  0.483655  0.002519  1.000000  0.362167\n     USDJPY -0.022064 -0.344617  0.564530 -0.113394  0.362167  1.000000]},\n   {'borders': [datetime.datetime(2020, 1, 1, 0, 0),\n     datetime.datetime(2021, 1, 1, 0, 0)],\n    'timesum': ['5T', '30T', '1H', '6H', '1D'],\n    'corr_tables': [          AUDCAD    EURUSD    USDCHF    EURGBP    EURCHF    USDJPY\n     AUDCAD  1.000000  0.324518 -0.251079 -0.111279  0.134236 -0.115347\n     EURUSD  0.324518  1.000000 -0.785410  0.213858  0.389522 -0.402834\n     USDCHF -0.251079 -0.785410  1.000000 -0.135256  0.249287  0.474311\n     EURGBP -0.111279  0.213858 -0.135256  1.000000  0.130375 -0.032168\n     EURCHF  0.134236  0.389522  0.249287  0.130375  1.000000  0.071166\n     USDJPY -0.115347 -0.402834  0.474311 -0.032168  0.071166  1.000000,\n               AUDCAD    EURUSD    USDCHF    EURGBP    EURCHF    USDJPY\n     AUDCAD  1.000000  0.347508 -0.262960 -0.132918  0.158217 -0.133212\n     EURUSD  0.347508  1.000000 -0.804463  0.183511  0.369721 -0.424851\n     USDCHF -0.262960 -0.804463  1.000000 -0.125793  0.248386  0.500579\n     EURGBP -0.132918  0.183511 -0.125793  1.000000  0.099110 -0.009916\n     EURCHF  0.158217  0.369721  0.248386  0.099110  1.000000  0.088979\n     USDJPY -0.133212 -0.424851  0.500579 -0.009916  0.088979  1.000000,\n               AUDCAD    EURUSD    USDCHF    EURGBP    EURCHF    USDJPY\n     AUDCAD  1.000000  0.340589 -0.258069 -0.205657  0.162928 -0.128618\n     EURUSD  0.340589  1.000000 -0.814470  0.144685  0.378024 -0.427550\n     USDCHF -0.258069 -0.814470  1.000000 -0.091722  0.225823  0.504335\n     EURGBP -0.205657  0.144685 -0.091722  1.000000  0.092564 -0.016416\n     EURCHF  0.162928  0.378024  0.225823  0.092564  1.000000  0.083781\n     USDJPY -0.128618 -0.427550  0.504335 -0.016416  0.083781  1.000000,\n               AUDCAD    EURUSD    USDCHF    EURGBP    EURCHF    USDJPY\n     AUDCAD  1.000000  0.336062 -0.270361 -0.308410  0.151580 -0.227371\n     EURUSD  0.336062  1.000000 -0.830593  0.173771  0.407616 -0.453058\n     USDCHF -0.270361 -0.830593  1.000000 -0.110137  0.169399  0.548976\n     EURGBP -0.308410  0.173771 -0.110137  1.000000  0.124440  0.030245\n     EURCHF  0.151580  0.407616  0.169399  0.124440  1.000000  0.094597\n     USDJPY -0.227371 -0.453058  0.548976  0.030245  0.094597  1.000000,\n               AUDCAD    EURUSD    USDCHF    EURGBP    EURCHF    USDJPY\n     AUDCAD  1.000000  0.422683 -0.391422 -0.222878  0.082172 -0.338757\n     EURUSD  0.422683  1.000000 -0.873450  0.104791  0.289724 -0.532479\n     USDCHF -0.391422 -0.873450  1.000000 -0.043408  0.212435  0.625242\n     EURGBP -0.222878  0.104791 -0.043408  1.000000  0.130770  0.074861\n     EURCHF  0.082172  0.289724  0.212435  0.130770  1.000000  0.153033\n     USDJPY -0.338757 -0.532479  0.625242  0.074861  0.153033  1.000000]},\n   {'borders': [datetime.datetime(2021, 1, 1, 0, 0),\n     datetime.datetime(2022, 1, 1, 0, 0)],\n    'timesum': ['5T', '30T', '1H', '6H', '1D'],\n    'corr_tables': [          AUDCAD    EURUSD    USDCHF    EURGBP    EURCHF    USDJPY\n     AUDCAD  1.000000  0.335491 -0.285555 -0.062782  0.004431 -0.270125\n     EURUSD  0.335491  1.000000 -0.769185  0.195927  0.138585 -0.485295\n     USDCHF -0.285555 -0.769185  1.000000 -0.119547  0.512843  0.533580\n     EURGBP -0.062782  0.195927 -0.119547  1.000000  0.070475 -0.026426\n     EURCHF  0.004431  0.138585  0.512843  0.070475  1.000000  0.176712\n     USDJPY -0.270125 -0.485295  0.533580 -0.026426  0.176712  1.000000,\n               AUDCAD    EURUSD    USDCHF    EURGBP    EURCHF    USDJPY\n     AUDCAD  1.000000  0.331343 -0.285462 -0.057376  0.001563 -0.273110\n     EURUSD  0.331343  1.000000 -0.789510  0.197459  0.121594 -0.492155\n     USDCHF -0.285462 -0.789510  1.000000 -0.131033  0.506283  0.545156\n     EURGBP -0.057376  0.197459 -0.131033  1.000000  0.059888 -0.044327\n     EURCHF  0.001563  0.121594  0.506283  0.059888  1.000000  0.191035\n     USDJPY -0.273110 -0.492155  0.545156 -0.044327  0.191035  1.000000,\n               AUDCAD    EURUSD    USDCHF    EURGBP    EURCHF    USDJPY\n     AUDCAD  1.000000  0.330491 -0.280582 -0.052945  0.007374 -0.286379\n     EURUSD  0.330491  1.000000 -0.789760  0.207707  0.118310 -0.487345\n     USDCHF -0.280582 -0.789760  1.000000 -0.141806  0.511841  0.545790\n     EURGBP -0.052945  0.207707 -0.141806  1.000000  0.059045 -0.052307\n     EURCHF  0.007374  0.118310  0.511841  0.059045  1.000000  0.201354\n     USDJPY -0.286379 -0.487345  0.545790 -0.052307  0.201354  1.000000,\n               AUDCAD    EURUSD    USDCHF    EURGBP    EURCHF    USDJPY\n     AUDCAD  1.000000  0.378090 -0.312620 -0.034790  0.023113 -0.331819\n     EURUSD  0.378090  1.000000 -0.803342  0.206163  0.101249 -0.521502\n     USDCHF -0.312620 -0.803342  1.000000 -0.155743  0.510617  0.591609\n     EURGBP -0.034790  0.206163 -0.155743  1.000000  0.037464 -0.107757\n     EURCHF  0.023113  0.101249  0.510617  0.037464  1.000000  0.235037\n     USDJPY -0.331819 -0.521502  0.591609 -0.107757  0.235037  1.000000,\n               AUDCAD    EURUSD    USDCHF    EURGBP    EURCHF    USDJPY\n     AUDCAD  1.000000  0.420194 -0.313151 -0.038295  0.086554 -0.406902\n     EURUSD  0.420194  1.000000 -0.803551  0.196596  0.105044 -0.530751\n     USDCHF -0.313151 -0.803551  1.000000 -0.170742  0.507129  0.584669\n     EURGBP -0.038295  0.196596 -0.170742  1.000000 -0.000735 -0.139692\n     EURCHF  0.086554  0.105044  0.507129 -0.000735  1.000000  0.208137\n     USDJPY -0.406902 -0.530751  0.584669 -0.139692  0.208137  1.000000]}]}]"
     },
     "execution_count": 145,
     "metadata": {},
     "output_type": "execute_result"
    }
   ],
   "source": [],
   "metadata": {
    "collapsed": false,
    "pycharm": {
     "name": "#%%\n"
    }
   }
  }
 ],
 "metadata": {
  "kernelspec": {
   "display_name": "Python 3",
   "language": "python",
   "name": "python3"
  },
  "language_info": {
   "codemirror_mode": {
    "name": "ipython",
    "version": 2
   },
   "file_extension": ".py",
   "mimetype": "text/x-python",
   "name": "python",
   "nbconvert_exporter": "python",
   "pygments_lexer": "ipython2",
   "version": "2.7.6"
  }
 },
 "nbformat": 4,
 "nbformat_minor": 0
}