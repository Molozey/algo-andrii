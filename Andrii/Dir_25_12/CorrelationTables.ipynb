{
 "cells": [
  {
   "cell_type": "code",
   "execution_count": 1,
   "metadata": {
    "collapsed": true
   },
   "outputs": [],
   "source": [
    "from glob import glob\n",
    "import pandas as pd\n",
    "import numpy as np\n",
    "import datetime\n",
    "import matplotlib.pyplot as plt\n",
    "import seaborn as sns"
   ]
  },
  {
   "cell_type": "code",
   "execution_count": 67,
   "outputs": [],
   "source": [
    "\n",
    "class CorrelationTables:\n",
    "    def __init__(self, show_logs, show_graphs):\n",
    "        print('Please add data primitives in format of data path')\n",
    "        self.primitives_list = list()\n",
    "        self.correlation_results = list()\n",
    "        self.total_result = list()\n",
    "        self.warning_logs = show_logs\n",
    "        self.graphs = show_graphs\n",
    "        self.unstable_freq = None\n",
    "\n",
    "\n",
    "    def add_research_primitive(self, primitive_path, index_col=0, data_freq='1T'):\n",
    "        primitive_name = primitive_path.split('/')[-1].split('.')[0]\n",
    "        primitive_data = pd.read_csv(primitive_path, index_col=index_col)\n",
    "        primitive_data.index = pd.to_datetime(primitive_data.index)\n",
    "        if self.warning_logs:\n",
    "            print(f'====    Added {primitive_name}  ====')\n",
    "        self.primitives_list.append({\"Primitive_name\": primitive_name, \"Primitive_content\": primitive_data, \"Primitive_volume\": primitive_data.shape[0],\n",
    "                                     \"Primitive_Frequency\": data_freq})\n",
    "        del primitive_name\n",
    "        del primitive_data\n",
    "\n",
    "    def make_correlation_table(self, table_data_slices, show_logs=False):\n",
    "        if self.warning_logs:\n",
    "            print('=' * 10)\n",
    "            print('Be careful. In one correlation table can be only dataframes with similar shapes')\n",
    "        #TODO Need to make method to guarantee sync records from datetimes\n",
    "        # Таким образом находятся пары между которыми можно будет считать корреляцию. Этот способ не очень хороший, но по крайней мере он практически полностью\n",
    "        # гарантирует отсутствие сдвига во времени в кусках данных\n",
    "        unique_shapes = np.unique(np.array([primitive[\"Primitive_volume\"] for primitive in self.primitives_list]))\n",
    "        for similar_shapes in unique_shapes:\n",
    "            # Собираем список из пар имеющих одинаковые размеры\n",
    "            buffer_primitives = list(filter(lambda primitive: primitive[\"Primitive_volume\"] == similar_shapes, self.primitives_list))\n",
    "            # Если не соберется хотя бы 2 переходим к следующему набору примитивов\n",
    "            if len(buffer_primitives) >= 2:\n",
    "                res = self._complete_correlation(buffer_primitives, year_of_correlation=table_data_slices, log_show=show_logs)\n",
    "                self.correlation_results.append(res)\n",
    "            else:\n",
    "                if self.warning_logs:\n",
    "                    print(f\"Cannot find a pair (similar shape) to {[primitive['Primitive_name'] for primitive in buffer_primitives]}. Shape={similar_shapes}\")\n",
    "                continue\n",
    "\n",
    "    def _complete_correlation(self, similar_primitives, year_of_correlation, log_show=True):\n",
    "        if self.warning_logs:\n",
    "            print('=' * 10)\n",
    "        correlation_dict = {'Primitives_list': [primitive['Primitive_name'] for primitive in similar_primitives], 'Shape': similar_primitives[0][\"Primitive_volume\"]}\n",
    "        if log_show:\n",
    "            print('-' * 5 + '   EXTEND_INFO    ' + '-' * 5)\n",
    "            print('Primitives total:', len(similar_primitives))\n",
    "            print('Primitives objects:', [primitive['Primitive_name'] for primitive in similar_primitives])\n",
    "            print('Primitives shape:', similar_primitives[0][\"Primitive_volume\"])\n",
    "            print('-' * 5 + '   END_EXTEND_INFO    ' + '-' * 5)\n",
    "\n",
    "        results = list()\n",
    "        # Вырезаем из данных куски на которых будем считать корреляцию. Скорее всего будет корректно работать для разбитий любой ширины\n",
    "        for borders in year_of_correlation:\n",
    "            extend_info=False\n",
    "            if log_show:\n",
    "                extend_info = True\n",
    "                print(\"Current Borders:\", borders)\n",
    "            #   Собирается список из \"разбитых\" примитивов\n",
    "            work_primitives = [{\"Primitive_name\": primitive[\"Primitive_name\"],\"Primitive_content\": primitive[\"Primitive_content\"].loc[borders[0]: borders[1]], \"Primitive_Freq\": primitive[\"Primitive_Frequency\"]} for primitive in similar_primitives]\n",
    "            # Проверяется условие на наличие данных в примитиве\n",
    "            if work_primitives[0][\"Primitive_content\"].shape[0] == 0:\n",
    "                continue\n",
    "\n",
    "            # Проверка что размер всех \"разбитых\" примитивов совпадает\n",
    "            if len(np.unique([work_primitive[\"Primitive_content\"].shape[0] for work_primitive in work_primitives])) > 1:\n",
    "                continue\n",
    "\n",
    "            carretes, corrs =  self._calculate_correlation(work_primitives, extend_info=extend_info, borders=borders)\n",
    "\n",
    "            results.append({\"borders\": borders, \"timesum\": carretes, \"corr_tables\": corrs})\n",
    "        correlation_dict['results'] = results\n",
    "        return correlation_dict\n",
    "\n",
    "\n",
    "    def _calculate_correlation(self, primitives, borders, list_return_summary=['5T', '30T', '1H', '6H', '1D'],extend_info=True):\n",
    "        return_correlations = list()\n",
    "        # Логарифмируем, считаем доходность, ресемплим в зависимости от входной частоты данных\n",
    "        # Тут можно выбрать с каким столбцом будем работать. Сейчас выбран столбец open\n",
    "        logged_primitives = [[primitive[\"Primitive_name\"], np.log(primitive[\"Primitive_content\"].open).diff()[1:].resample(primitive[\"Primitive_Freq\"]).first()] for primitive in primitives]\n",
    "        # Переменная зависящая от количества объектов в \"пачке\". Нужна для адекватной отрисовки heatmapa\n",
    "        WIDTH_CONST = 2 * len(primitives)\n",
    "        if self.graphs:\n",
    "            fig, ax = plt.subplots(1, len(list_return_summary), figsize=(len(list_return_summary) * WIDTH_CONST ,WIDTH_CONST))\n",
    "            fig.suptitle(f\"{datetime.date.strftime(borders[0], '%Y-%m')}:{datetime.date.strftime(borders[1], '%Y-%m')}\")\n",
    "\n",
    "        # Меняем частоту данных для взятия корреляции за различные временные промежутки\n",
    "        for number, research_carret in enumerate(list_return_summary):\n",
    "            if extend_info:\n",
    "                print('Current Research Resample:', research_carret)\n",
    "\n",
    "            corr_df = pd.DataFrame()\n",
    "            # Создаем массив из примитивов преобразованных под временные промежутки\n",
    "            resampled_primitives = [[primitive[0], primitive[1].resample(research_carret).sum()] for primitive in logged_primitives]\n",
    "            for obj in resampled_primitives:\n",
    "                corr_df[f\"{obj[0]}\"] = obj[1]\n",
    "            correlation = corr_df.corr()\n",
    "            # Отрисовка\n",
    "            if self.graphs:\n",
    "                sns.heatmap(correlation, ax=ax[number], annot=True, fmt=\".2g\")\n",
    "                ax[number].title.set_text(f\"{research_carret}\")\n",
    "\n",
    "            return_correlations.append(correlation)\n",
    "        return list_return_summary, return_correlations\n",
    "\n",
    "    def unstable_matrix_CV_from_freq(self, show=True):\n",
    "        results = []\n",
    "        for buff in self.correlation_results:\n",
    "            big = pd.DataFrame()\n",
    "            #print(buff[\"results\"])\n",
    "            # Очень плохой кусок кода, пока что не понял как его можно поправить чтобы работало\n",
    "            # DONT TOUCH\n",
    "            for i in range(len(buff['results'])):\n",
    "                _convert = lambda x: str(datetime.date.strftime(x[0], '%Y-%m')) + '     TO      ' + str(datetime.date.strftime(x[1], '%Y-%m'))\n",
    "                if show:\n",
    "                    print(_convert(buff['results'][i]['borders']))\n",
    "\n",
    "                corr_tables = buff['results'][i]['corr_tables']\n",
    "                dimx, dimy = corr_tables[0].shape\n",
    "                pdf = pd.DataFrame()\n",
    "                for _ in range(dimx):\n",
    "                    for __ in range(dimy):\n",
    "                        elements = [df.iloc[_,__] for df in corr_tables]\n",
    "                        # print(array_of_df[0].index[_])\n",
    "                        # print(f\"i={_}, j={__}, std={np.std(elements) / np.mean(elements)}\")\n",
    "                        #   Calculate CV Ratio\n",
    "                        #   Стандартное отклонение на модуль среднего. Как я понимаю это хоть как-то нормализует показатель\n",
    "                        pdf.loc[corr_tables[0].index[_], corr_tables[0].index[__]] = np.std(elements) / abs(np.mean(elements))\n",
    "                if show:\n",
    "                    print(pdf)\n",
    "                    print('=' * 20)\n",
    "                results.append({'Year': _convert(buff['results'][i]['borders']),\n",
    "                                'Primitives_list': buff['Primitives_list'],\n",
    "                                'Stable_Matrix': pdf})\n",
    "        self.unstable_freq = results\n",
    "\n",
    "    def unstable_matrix_from_years(self):\n",
    "        # Очень некрасивый метод. Но пока что так\n",
    "        for buff in self.correlation_results:\n",
    "            big = pd.DataFrame()\n",
    "            #print(buff[\"results\"])\n",
    "            # Проверяем что удалось разбить данные на хотя бы 2 \"пачки\". Иначе нельзя говорить о стабильности во времени\n",
    "            if len(buff[\"results\"]) == 1:\n",
    "                if self.warning_logs:\n",
    "                    print(f'No sense to calculate unstable factor for {buff[\"Primitives_list\"]}. \\n It has only one object inside. Skip...')\n",
    "                continue\n",
    "            if len(buff[\"results\"]) > 1:\n",
    "                # Очень плохой кусок кода, пока что не понял как его можно поправить чтобы работало\n",
    "                # DONT TOUCH\n",
    "                timesum = buff[\"results\"][0][\"timesum\"]\n",
    "                _obj = list()\n",
    "                for i in range(len(timesum)):\n",
    "                    _return = list()\n",
    "                    for _b in buff[\"results\"]:\n",
    "                        _return.append(list(filter(lambda x: x[0] == timesum[i], list(zip(_b[\"timesum\"], _b[\"corr_tables\"])))))\n",
    "                    _obj.append((timesum[i], _return))\n",
    "                # DONT TOUCH\n",
    "\n",
    "                results = list()\n",
    "\n",
    "                # Связываю все матрицы корреляций за все доступные временные промежутки. Готовый метод не нашел, поэтому написал свое очень некрасивое решение\n",
    "                # Нужно поправить чтобы пробегаться только по верхнетреугольной матрице.\n",
    "                for _ in _obj[:]:\n",
    "                    array_of_df = list()\n",
    "                    for __ in _[1]:\n",
    "                        array_of_df.append(__[0][1])\n",
    "\n",
    "                    #   So dumb... sry\n",
    "                    i,j = array_of_df[0].shape\n",
    "                    pdf = pd.DataFrame()\n",
    "                    for _ in range(i):\n",
    "                        for __ in range(j):\n",
    "                            elements = [df.iloc[_,__] for df in array_of_df]\n",
    "                            # print(array_of_df[0].index[_])\n",
    "                            # print(f\"i={_}, j={__}, std={np.std(elements) / np.mean(elements)}\")\n",
    "                            #   Calculate CV Ratio\n",
    "                            #   Стандартное отклонение на модуль среднего. Как я понимаю это хоть как-то нормализует показатель\n",
    "                            pdf.loc[array_of_df[0].index[_], array_of_df[0].index[__]] = np.std(elements) / abs(np.mean(elements))\n",
    "\n",
    "                    results.append(pdf)\n",
    "                #   Сверху я считаю показатель для всех частот разбития (пример: 5минут, 10минут, 30минут, 1час) для которых мы считаем корреляцию.\n",
    "                #   Этот показатель берется из выборки корреляций для разных временных промежутков (пример: 2018-2019;2019-2020;2020-2021).\n",
    "                #   results.append(pdf) собирает таблицу устойчивости для данных по примеру:\n",
    "                #   Returns за 10минут для 2019, 2020, 2021 дают корреляции за [P_10min_2019, P_10min_2020, P_10min_2021] по ним и считаем устойчивость на 10минутной частоте returns\n",
    "                #   Снизу усредняются показатели устойчивости за все частоты разбиения возвратов\n",
    "                big = pd.concat(results)\n",
    "                big = pd.pivot_table(big, index=big.index, aggfunc={np.mean})\n",
    "            self.total_result.append(big)\n"
   ],
   "metadata": {
    "collapsed": false,
    "pycharm": {
     "name": "#%%\n"
    }
   }
  },
  {
   "cell_type": "code",
   "execution_count": 68,
   "outputs": [
    {
     "name": "stdout",
     "output_type": "stream",
     "text": [
      "Please add data primitives in format of data path\n"
     ]
    },
    {
     "data": {
      "text/plain": "[{'Year': '2021-01     TO      2022-01',\n  'Primitives_list': ['NQ-21', 'ES-21'],\n  'Stable_Matrix':           NQ-21     ES-21\n  NQ-21  0.000000  1.498163\n  ES-21  1.498163  0.000000},\n {'Year': '2019-01     TO      2020-01',\n  'Primitives_list': ['AUDCAD',\n   'EURUSD',\n   'USDCHF',\n   'EURGBP',\n   'EURCHF',\n   'USDJPY',\n   'AUDUSD',\n   'GBPJPY'],\n  'Stable_Matrix':           AUDCAD    EURUSD    USDCHF    EURGBP    EURCHF    USDJPY    AUDUSD  \\\n  AUDCAD  0.000000  0.029751  0.134656  0.459881  0.197177  1.200845  0.024618   \n  EURUSD  0.029751  0.000000  0.043609  0.066155  0.125561  0.085411  0.049440   \n  USDCHF  0.134656  0.043609  0.000000  0.123146  0.036109  0.085690  0.077297   \n  EURGBP  0.459881  0.066155  0.123146  0.000000  0.573863  0.200312  0.286067   \n  EURCHF  0.197177  0.125561  0.036109  0.573863  0.000000  0.157637  0.042834   \n  USDJPY  1.200845  0.085411  0.085690  0.200312  0.157637  0.000000  1.134969   \n  AUDUSD  0.024618  0.049440  0.077297  0.286067  0.042834  1.134969  0.000000   \n  GBPJPY  0.243589  0.068445  0.300597  0.023662  0.056140  0.042197  0.106499   \n  \n            GBPJPY  \n  AUDCAD  0.243589  \n  EURUSD  0.068445  \n  USDCHF  0.300597  \n  EURGBP  0.023662  \n  EURCHF  0.056140  \n  USDJPY  0.042197  \n  AUDUSD  0.106499  \n  GBPJPY  0.000000  },\n {'Year': '2020-01     TO      2021-01',\n  'Primitives_list': ['AUDCAD',\n   'EURUSD',\n   'USDCHF',\n   'EURGBP',\n   'EURCHF',\n   'USDJPY',\n   'AUDUSD',\n   'GBPJPY'],\n  'Stable_Matrix':           AUDCAD    EURUSD    USDCHF    EURGBP    EURCHF    USDJPY    AUDUSD  \\\n  AUDCAD  0.000000  0.098834  0.183762  0.357516  0.213890  0.450275  0.041185   \n  EURUSD  0.098834  0.000000  0.036199  0.225370  0.110755  0.100566  0.024150   \n  USDCHF  0.183762  0.036199  0.000000  0.320733  0.132801  0.099903  0.038882   \n  EURGBP  0.357516  0.225370  0.320733  0.000000  0.141216  4.151451  0.346946   \n  EURCHF  0.213890  0.110755  0.132801  0.141216  0.000000  0.289258  0.038755   \n  USDJPY  0.450275  0.100566  0.099903  4.151451  0.289258  0.000000  0.195768   \n  AUDUSD  0.041185  0.024150  0.038882  0.346946  0.038755  0.195768  0.000000   \n  GBPJPY  0.193017  0.188199  0.361339  0.020899  0.046724  0.053779  0.113079   \n  \n            GBPJPY  \n  AUDCAD  0.193017  \n  EURUSD  0.188199  \n  USDCHF  0.361339  \n  EURGBP  0.020899  \n  EURCHF  0.046724  \n  USDJPY  0.053779  \n  AUDUSD  0.113079  \n  GBPJPY  0.000000  },\n {'Year': '2021-01     TO      2022-01',\n  'Primitives_list': ['AUDCAD',\n   'EURUSD',\n   'USDCHF',\n   'EURGBP',\n   'EURCHF',\n   'USDJPY',\n   'AUDUSD',\n   'GBPJPY'],\n  'Stable_Matrix':           AUDCAD    EURUSD    USDCHF    EURGBP    EURCHF    USDJPY    AUDUSD  \\\n  AUDCAD  0.000000  0.098366  0.048501  0.220977  1.294687  0.164473  0.019814   \n  EURUSD  0.098366  0.000000  0.015884  0.025304  0.113416  0.037562  0.022435   \n  USDCHF  0.048501  0.015884  0.000000  0.125339  0.005084  0.041698  0.023756   \n  EURGBP  0.220977  0.025304  0.125339  0.000000  0.560765  0.574746  0.122002   \n  EURCHF  1.294687  0.113416  0.005084  0.560765  0.000000  0.095986  0.282666   \n  USDJPY  0.164473  0.037562  0.041698  0.574746  0.095986  0.000000  0.017371   \n  AUDUSD  0.019814  0.022435  0.023756  0.122002  0.282666  0.017371  0.000000   \n  GBPJPY  0.241908  0.060473  0.231006  0.017857  0.103759  0.044498  0.045503   \n  \n            GBPJPY  \n  AUDCAD  0.241908  \n  EURUSD  0.060473  \n  USDCHF  0.231006  \n  EURGBP  0.017857  \n  EURCHF  0.103759  \n  USDJPY  0.044498  \n  AUDUSD  0.045503  \n  GBPJPY  0.000000  }]"
     },
     "execution_count": 68,
     "metadata": {},
     "output_type": "execute_result"
    }
   ],
   "source": [
    "years = [2019, 2020, 2021]\n",
    "#years = [2019]\n",
    "#   Тут можно задать границы по которым будут резаться данные\n",
    "borders_list = [[datetime.datetime(year=x, month=1, day=1), datetime.datetime(year=x+1, month=1, day=1)] for x in years]\n",
    "\n",
    "\n",
    "data_path = glob('zip_data/*.csv')[:]\n",
    "TestCorr = CorrelationTables(show_logs=False, show_graphs=False)\n",
    "for _ in data_path:\n",
    "    TestCorr.add_research_primitive(_)\n",
    "\n",
    "TestCorr.make_correlation_table(table_data_slices=borders_list, show_logs=False)\n",
    "#TestCorr.unstable_matrix_from_years()\n",
    "#TestCorr.total_result\n",
    "TestCorr.unstable_matrix_CV_from_freq(show=False)\n",
    "TestCorr.unstable_freq"
   ],
   "metadata": {
    "collapsed": false,
    "pycharm": {
     "name": "#%%\n"
    }
   }
  },
  {
   "cell_type": "code",
   "execution_count": 64,
   "outputs": [
    {
     "data": {
      "text/plain": "[{'Year': '2021-01     TO      2022-01',\n  'Primitives_list': ['NQ-21', 'ES-21'],\n  'Stable_Matrix':           NQ-21     ES-21\n  NQ-21  0.000000  1.498163\n  ES-21  1.498163  0.000000},\n {'Year': '2019-01     TO      2020-01',\n  'Primitives_list': ['AUDCAD',\n   'EURUSD',\n   'USDCHF',\n   'EURGBP',\n   'EURCHF',\n   'USDJPY',\n   'AUDUSD',\n   'GBPJPY'],\n  'Stable_Matrix':           AUDCAD    EURUSD    USDCHF    EURGBP    EURCHF    USDJPY    AUDUSD  \\\n  AUDCAD  0.000000  0.029751  0.134656  0.459881  0.197177  1.200845  0.024618   \n  EURUSD  0.029751  0.000000  0.043609  0.066155  0.125561  0.085411  0.049440   \n  USDCHF  0.134656  0.043609  0.000000  0.123146  0.036109  0.085690  0.077297   \n  EURGBP  0.459881  0.066155  0.123146  0.000000  0.573863  0.200312  0.286067   \n  EURCHF  0.197177  0.125561  0.036109  0.573863  0.000000  0.157637  0.042834   \n  USDJPY  1.200845  0.085411  0.085690  0.200312  0.157637  0.000000  1.134969   \n  AUDUSD  0.024618  0.049440  0.077297  0.286067  0.042834  1.134969  0.000000   \n  GBPJPY  0.243589  0.068445  0.300597  0.023662  0.056140  0.042197  0.106499   \n  \n            GBPJPY  \n  AUDCAD  0.243589  \n  EURUSD  0.068445  \n  USDCHF  0.300597  \n  EURGBP  0.023662  \n  EURCHF  0.056140  \n  USDJPY  0.042197  \n  AUDUSD  0.106499  \n  GBPJPY  0.000000  },\n {'Year': '2020-01     TO      2021-01',\n  'Primitives_list': ['AUDCAD',\n   'EURUSD',\n   'USDCHF',\n   'EURGBP',\n   'EURCHF',\n   'USDJPY',\n   'AUDUSD',\n   'GBPJPY'],\n  'Stable_Matrix':           AUDCAD    EURUSD    USDCHF    EURGBP    EURCHF    USDJPY    AUDUSD  \\\n  AUDCAD  0.000000  0.098834  0.183762  0.357516  0.213890  0.450275  0.041185   \n  EURUSD  0.098834  0.000000  0.036199  0.225370  0.110755  0.100566  0.024150   \n  USDCHF  0.183762  0.036199  0.000000  0.320733  0.132801  0.099903  0.038882   \n  EURGBP  0.357516  0.225370  0.320733  0.000000  0.141216  4.151451  0.346946   \n  EURCHF  0.213890  0.110755  0.132801  0.141216  0.000000  0.289258  0.038755   \n  USDJPY  0.450275  0.100566  0.099903  4.151451  0.289258  0.000000  0.195768   \n  AUDUSD  0.041185  0.024150  0.038882  0.346946  0.038755  0.195768  0.000000   \n  GBPJPY  0.193017  0.188199  0.361339  0.020899  0.046724  0.053779  0.113079   \n  \n            GBPJPY  \n  AUDCAD  0.193017  \n  EURUSD  0.188199  \n  USDCHF  0.361339  \n  EURGBP  0.020899  \n  EURCHF  0.046724  \n  USDJPY  0.053779  \n  AUDUSD  0.113079  \n  GBPJPY  0.000000  },\n {'Year': '2021-01     TO      2022-01',\n  'Primitives_list': ['AUDCAD',\n   'EURUSD',\n   'USDCHF',\n   'EURGBP',\n   'EURCHF',\n   'USDJPY',\n   'AUDUSD',\n   'GBPJPY'],\n  'Stable_Matrix':           AUDCAD    EURUSD    USDCHF    EURGBP    EURCHF    USDJPY    AUDUSD  \\\n  AUDCAD  0.000000  0.098366  0.048501  0.220977  1.294687  0.164473  0.019814   \n  EURUSD  0.098366  0.000000  0.015884  0.025304  0.113416  0.037562  0.022435   \n  USDCHF  0.048501  0.015884  0.000000  0.125339  0.005084  0.041698  0.023756   \n  EURGBP  0.220977  0.025304  0.125339  0.000000  0.560765  0.574746  0.122002   \n  EURCHF  1.294687  0.113416  0.005084  0.560765  0.000000  0.095986  0.282666   \n  USDJPY  0.164473  0.037562  0.041698  0.574746  0.095986  0.000000  0.017371   \n  AUDUSD  0.019814  0.022435  0.023756  0.122002  0.282666  0.017371  0.000000   \n  GBPJPY  0.241908  0.060473  0.231006  0.017857  0.103759  0.044498  0.045503   \n  \n            GBPJPY  \n  AUDCAD  0.241908  \n  EURUSD  0.060473  \n  USDCHF  0.231006  \n  EURGBP  0.017857  \n  EURCHF  0.103759  \n  USDJPY  0.044498  \n  AUDUSD  0.045503  \n  GBPJPY  0.000000  }]"
     },
     "execution_count": 64,
     "metadata": {},
     "output_type": "execute_result"
    }
   ],
   "source": [],
   "metadata": {
    "collapsed": false,
    "pycharm": {
     "name": "#%%\n"
    }
   }
  },
  {
   "cell_type": "code",
   "execution_count": 49,
   "outputs": [
    {
     "data": {
      "text/plain": "[{'borders': [datetime.datetime(2019, 1, 1, 0, 0),\n   datetime.datetime(2020, 1, 1, 0, 0)],\n  'timesum': ['5T', '30T', '1H', '6H', '1D'],\n  'corr_tables': [          AUDCAD    EURUSD    USDCHF    EURGBP    EURCHF    USDJPY    AUDUSD  \\\n   AUDCAD  1.000000  0.212305 -0.134066 -0.027068  0.077501  0.186707  0.752327   \n   EURUSD  0.212305  1.000000 -0.648539  0.147549  0.334252 -0.262891  0.432416   \n   USDCHF -0.134066 -0.648539  1.000000 -0.103500  0.488800  0.433244 -0.243952   \n   EURGBP -0.027068  0.147549 -0.103500  1.000000  0.037638 -0.076682 -0.052014   \n   EURCHF  0.077501  0.334252  0.488800  0.037638  1.000000  0.234539  0.194375   \n   USDJPY  0.186707 -0.262891  0.433244 -0.076682  0.234539  1.000000  0.189917   \n   AUDUSD  0.752327  0.432416 -0.243952 -0.052014  0.194375  0.189917  1.000000   \n   GBPJPY  0.245577  0.218520  0.028671 -0.718001  0.286008  0.558120  0.375457   \n   \n             GBPJPY  \n   AUDCAD  0.245577  \n   EURUSD  0.218520  \n   USDCHF  0.028671  \n   EURGBP -0.718001  \n   EURCHF  0.286008  \n   USDJPY  0.558120  \n   AUDUSD  0.375457  \n   GBPJPY  1.000000  ,\n             AUDCAD    EURUSD    USDCHF    EURGBP    EURCHF    USDJPY    AUDUSD  \\\n   AUDCAD  1.000000  0.219099 -0.135916 -0.071659  0.087216  0.051618  0.723324   \n   EURUSD  0.219099  1.000000 -0.654059  0.140058  0.340120 -0.303149  0.446781   \n   USDCHF -0.135916 -0.654059  1.000000 -0.119352  0.484586  0.494797 -0.244998   \n   EURGBP -0.071659  0.140058 -0.119352  1.000000  0.012894 -0.133076 -0.110725   \n   EURCHF  0.087216  0.340120  0.484586  0.012894  1.000000  0.268004  0.213594   \n   USDJPY  0.051618 -0.303149  0.494797 -0.133076  0.268004  1.000000  0.085013   \n   AUDUSD  0.723324  0.446781 -0.244998 -0.110725  0.213594  0.085013  1.000000   \n   GBPJPY  0.197926  0.223199  0.049823 -0.753589  0.321608  0.541014  0.362443   \n   \n             GBPJPY  \n   AUDCAD  0.197926  \n   EURUSD  0.223199  \n   USDCHF  0.049823  \n   EURGBP -0.753589  \n   EURCHF  0.321608  \n   USDJPY  0.541014  \n   AUDUSD  0.362443  \n   GBPJPY  1.000000  ,\n             AUDCAD    EURUSD    USDCHF    EURGBP    EURCHF    USDJPY    AUDUSD  \\\n   AUDCAD  1.000000  0.214474 -0.130901 -0.104084  0.092313  0.080490  0.728486   \n   EURUSD  0.214474  1.000000 -0.667632  0.158835  0.341599 -0.301040  0.440298   \n   USDCHF -0.130901 -0.667632  1.000000 -0.126397  0.469294  0.496217 -0.252390   \n   EURGBP -0.104084  0.158835 -0.126397  1.000000  0.027751 -0.139696 -0.130977   \n   EURCHF  0.092313  0.341599  0.469294  0.027751  1.000000  0.271628  0.206290   \n   USDJPY  0.080490 -0.301040  0.496217 -0.139696  0.271628  1.000000  0.110789   \n   AUDUSD  0.728486  0.440298 -0.252390 -0.130977  0.206290  0.110789  1.000000   \n   GBPJPY  0.239702  0.211149  0.052850 -0.744335  0.319075  0.557786  0.393300   \n   \n             GBPJPY  \n   AUDCAD  0.239702  \n   EURUSD  0.211149  \n   USDCHF  0.052850  \n   EURGBP -0.744335  \n   EURCHF  0.319075  \n   USDJPY  0.557786  \n   AUDUSD  0.393300  \n   GBPJPY  1.000000  ,\n             AUDCAD    EURUSD    USDCHF    EURGBP    EURCHF    USDJPY    AUDUSD  \\\n   AUDCAD  1.000000  0.221794 -0.128205 -0.056455  0.088768  0.005152  0.708819   \n   EURUSD  0.221794  1.000000 -0.668317  0.161632  0.284374 -0.302408  0.464822   \n   USDCHF -0.128205 -0.668317  1.000000 -0.122937  0.522626  0.525825 -0.264063   \n   EURGBP -0.056455  0.161632 -0.122937  1.000000  0.026628 -0.141295 -0.081025   \n   EURCHF  0.088768  0.284374  0.522626  0.026628  1.000000  0.330572  0.192152   \n   USDJPY  0.005152 -0.302408  0.525825 -0.141295  0.330572  1.000000  0.019083   \n   AUDUSD  0.708819  0.464822 -0.264063 -0.081025  0.192152  0.019083  1.000000   \n   GBPJPY  0.155220  0.188896  0.077234 -0.764121  0.315698  0.551008  0.301300   \n   \n             GBPJPY  \n   AUDCAD  0.155220  \n   EURUSD  0.188896  \n   USDCHF  0.077234  \n   EURGBP -0.764121  \n   EURCHF  0.315698  \n   USDJPY  0.551008  \n   AUDUSD  0.301300  \n   GBPJPY  1.000000  ,\n             AUDCAD    EURUSD    USDCHF    EURGBP    EURCHF    USDJPY    AUDUSD  \\\n   AUDCAD  1.000000  0.203350 -0.091046 -0.036856  0.131921 -0.022064  0.700822   \n   EURUSD  0.203350  1.000000 -0.730556  0.168842  0.243856 -0.344617  0.495696   \n   USDCHF -0.091046 -0.730556  1.000000 -0.151045  0.483655  0.564530 -0.298436   \n   EURGBP -0.036856  0.168842 -0.151045  1.000000  0.002519 -0.113394 -0.092842   \n   EURCHF  0.131921  0.243856  0.483655  0.002519  1.000000  0.362167  0.211130   \n   USDJPY -0.022064 -0.344617  0.564530 -0.113394  0.362167  1.000000 -0.048051   \n   AUDUSD  0.700822  0.495696 -0.298436 -0.092842  0.211130 -0.048051  1.000000   \n   GBPJPY  0.125035  0.190871  0.067663 -0.767478  0.341365  0.497061  0.307141   \n   \n             GBPJPY  \n   AUDCAD  0.125035  \n   EURUSD  0.190871  \n   USDCHF  0.067663  \n   EURGBP -0.767478  \n   EURCHF  0.341365  \n   USDJPY  0.497061  \n   AUDUSD  0.307141  \n   GBPJPY  1.000000  ]},\n {'borders': [datetime.datetime(2020, 1, 1, 0, 0),\n   datetime.datetime(2021, 1, 1, 0, 0)],\n  'timesum': ['5T', '30T', '1H', '6H', '1D'],\n  'corr_tables': [          AUDCAD    EURUSD    USDCHF    EURGBP    EURCHF    USDJPY    AUDUSD  \\\n   AUDCAD  1.000000  0.324518 -0.251079 -0.111279  0.134236 -0.115347  0.802959   \n   EURUSD  0.324518  1.000000 -0.785410  0.213858  0.389522 -0.402834  0.513261   \n   USDCHF -0.251079 -0.785410  1.000000 -0.135256  0.249287  0.474311 -0.379394   \n   EURGBP -0.111279  0.213858 -0.135256  1.000000  0.130375 -0.032168 -0.165991   \n   EURCHF  0.134236  0.389522  0.249287  0.130375  1.000000  0.071166  0.237657   \n   USDJPY -0.115347 -0.402834  0.474311 -0.032168  0.071166  1.000000 -0.124426   \n   AUDUSD  0.802959  0.513261 -0.379394 -0.165991  0.237657 -0.124426  1.000000   \n   GBPJPY  0.234594  0.241679 -0.109509 -0.667924  0.212352  0.431019  0.401714   \n   \n             GBPJPY  \n   AUDCAD  0.234594  \n   EURUSD  0.241679  \n   USDCHF -0.109509  \n   EURGBP -0.667924  \n   EURCHF  0.212352  \n   USDJPY  0.431019  \n   AUDUSD  0.401714  \n   GBPJPY  1.000000  ,\n             AUDCAD    EURUSD    USDCHF    EURGBP    EURCHF    USDJPY    AUDUSD  \\\n   AUDCAD  1.000000  0.347508 -0.262960 -0.132918  0.158217 -0.133212  0.809800   \n   EURUSD  0.347508  1.000000 -0.804463  0.183511  0.369721 -0.424851  0.537268   \n   USDCHF -0.262960 -0.804463  1.000000 -0.125793  0.248386  0.500579 -0.394796   \n   EURGBP -0.132918  0.183511 -0.125793  1.000000  0.099110 -0.009916 -0.191106   \n   EURCHF  0.158217  0.369721  0.248386  0.099110  1.000000  0.088979  0.260701   \n   USDJPY -0.133212 -0.424851  0.500579 -0.009916  0.088979  1.000000 -0.143845   \n   AUDUSD  0.809800  0.537268 -0.394796 -0.191106  0.260701 -0.143845  1.000000   \n   GBPJPY  0.259134  0.256113 -0.116089 -0.682278  0.237931  0.395970  0.429692   \n   \n             GBPJPY  \n   AUDCAD  0.259134  \n   EURUSD  0.256113  \n   USDCHF -0.116089  \n   EURGBP -0.682278  \n   EURCHF  0.237931  \n   USDJPY  0.395970  \n   AUDUSD  0.429692  \n   GBPJPY  1.000000  ,\n             AUDCAD    EURUSD    USDCHF    EURGBP    EURCHF    USDJPY    AUDUSD  \\\n   AUDCAD  1.000000  0.340589 -0.258069 -0.205657  0.162928 -0.128618  0.815365   \n   EURUSD  0.340589  1.000000 -0.814470  0.144685  0.378024 -0.427550  0.531461   \n   USDCHF -0.258069 -0.814470  1.000000 -0.091722  0.225823  0.504335 -0.394402   \n   EURGBP -0.205657  0.144685 -0.091722  1.000000  0.092564 -0.016416 -0.256595   \n   EURCHF  0.162928  0.378024  0.225823  0.092564  1.000000  0.083781  0.264290   \n   USDJPY -0.128618 -0.427550  0.504335 -0.016416  0.083781  1.000000 -0.131902   \n   AUDUSD  0.815365  0.531461 -0.394402 -0.256595  0.264290 -0.131902  1.000000   \n   GBPJPY  0.303331  0.267938 -0.133491 -0.699436  0.238128  0.400028  0.468156   \n   \n             GBPJPY  \n   AUDCAD  0.303331  \n   EURUSD  0.267938  \n   USDCHF -0.133491  \n   EURGBP -0.699436  \n   EURCHF  0.238128  \n   USDJPY  0.400028  \n   AUDUSD  0.468156  \n   GBPJPY  1.000000  ,\n             AUDCAD    EURUSD    USDCHF    EURGBP    EURCHF    USDJPY    AUDUSD  \\\n   AUDCAD  1.000000  0.336062 -0.270361 -0.308410  0.151580 -0.227371  0.809309   \n   EURUSD  0.336062  1.000000 -0.830593  0.173771  0.407616 -0.453058  0.516198   \n   USDCHF -0.270361 -0.830593  1.000000 -0.110137  0.169399  0.548976 -0.394520   \n   EURGBP -0.308410  0.173771 -0.110137  1.000000  0.124440  0.030245 -0.364450   \n   EURCHF  0.151580  0.407616  0.169399  0.124440  1.000000  0.094597  0.263897   \n   USDJPY -0.227371 -0.453058  0.548976  0.030245  0.094597  1.000000 -0.197407   \n   AUDUSD  0.809309  0.516198 -0.394520 -0.364450  0.263897 -0.197407  1.000000   \n   GBPJPY  0.328912  0.215450 -0.087047 -0.704622  0.238262  0.367978  0.518467   \n   \n             GBPJPY  \n   AUDCAD  0.328912  \n   EURUSD  0.215450  \n   USDCHF -0.087047  \n   EURGBP -0.704622  \n   EURCHF  0.238262  \n   USDJPY  0.367978  \n   AUDUSD  0.518467  \n   GBPJPY  1.000000  ,\n             AUDCAD    EURUSD    USDCHF    EURGBP    EURCHF    USDJPY    AUDUSD  \\\n   AUDCAD  1.000000  0.422683 -0.391422 -0.222878  0.082172 -0.338757  0.728287   \n   EURUSD  0.422683  1.000000 -0.873450  0.104791  0.289724 -0.532479  0.547173   \n   USDCHF -0.391422 -0.873450  1.000000 -0.043408  0.212435  0.625242 -0.426558   \n   EURGBP -0.222878  0.104791 -0.043408  1.000000  0.130770  0.074861 -0.414655   \n   EURCHF  0.082172  0.289724  0.212435  0.130770  1.000000  0.153033  0.254215   \n   USDJPY -0.338757 -0.532479  0.625242  0.074861  0.153033  1.000000 -0.193072   \n   AUDUSD  0.728287  0.547173 -0.426558 -0.414655  0.254215 -0.193072  1.000000   \n   GBPJPY  0.185390  0.148434 -0.033305 -0.673369  0.221772  0.419671  0.545367   \n   \n             GBPJPY  \n   AUDCAD  0.185390  \n   EURUSD  0.148434  \n   USDCHF -0.033305  \n   EURGBP -0.673369  \n   EURCHF  0.221772  \n   USDJPY  0.419671  \n   AUDUSD  0.545367  \n   GBPJPY  1.000000  ]},\n {'borders': [datetime.datetime(2021, 1, 1, 0, 0),\n   datetime.datetime(2022, 1, 1, 0, 0)],\n  'timesum': ['5T', '30T', '1H', '6H', '1D'],\n  'corr_tables': [          AUDCAD    EURUSD    USDCHF    EURGBP    EURCHF    USDJPY    AUDUSD  \\\n   AUDCAD  1.000000  0.335491 -0.285555 -0.062782  0.004431 -0.270125  0.635355   \n   EURUSD  0.335491  1.000000 -0.769185  0.195927  0.138585 -0.485295  0.668209   \n   USDCHF -0.285555 -0.769185  1.000000 -0.119547  0.512843  0.533580 -0.538236   \n   EURGBP -0.062782  0.195927 -0.119547  1.000000  0.070475 -0.026426 -0.180899   \n   EURCHF  0.004431  0.138585  0.512843  0.070475  1.000000  0.176712  0.061292   \n   USDJPY -0.270125 -0.485295  0.533580 -0.026426  0.176712  1.000000 -0.362389   \n   AUDUSD  0.635355  0.668209 -0.538236 -0.180899  0.061292 -0.362389  1.000000   \n   GBPJPY  0.108649  0.254749 -0.104411 -0.651982  0.180952  0.383695  0.390718   \n   \n             GBPJPY  \n   AUDCAD  0.108649  \n   EURUSD  0.254749  \n   USDCHF -0.104411  \n   EURGBP -0.651982  \n   EURCHF  0.180952  \n   USDJPY  0.383695  \n   AUDUSD  0.390718  \n   GBPJPY  1.000000  ,\n             AUDCAD    EURUSD    USDCHF    EURGBP    EURCHF    USDJPY    AUDUSD  \\\n   AUDCAD  1.000000  0.331343 -0.285462 -0.057376  0.001563 -0.273110  0.620372   \n   EURUSD  0.331343  1.000000 -0.789510  0.197459  0.121594 -0.492155  0.675587   \n   USDCHF -0.285462 -0.789510  1.000000 -0.131033  0.506283  0.545156 -0.551822   \n   EURGBP -0.057376  0.197459 -0.131033  1.000000  0.059888 -0.044327 -0.183547   \n   EURCHF  0.001563  0.121594  0.506283  0.059888  1.000000  0.191035  0.056312   \n   USDJPY -0.273110 -0.492155  0.545156 -0.044327  0.191035  1.000000 -0.354805   \n   AUDUSD  0.620372  0.675587 -0.551822 -0.183547  0.056312 -0.354805  1.000000   \n   GBPJPY  0.097714  0.256406 -0.105907 -0.651035  0.190879  0.395813  0.402508   \n   \n             GBPJPY  \n   AUDCAD  0.097714  \n   EURUSD  0.256406  \n   USDCHF -0.105907  \n   EURGBP -0.651035  \n   EURCHF  0.190879  \n   USDJPY  0.395813  \n   AUDUSD  0.402508  \n   GBPJPY  1.000000  ,\n             AUDCAD    EURUSD    USDCHF    EURGBP    EURCHF    USDJPY    AUDUSD  \\\n   AUDCAD  1.000000  0.330491 -0.280582 -0.052945  0.007374 -0.286379  0.619917   \n   EURUSD  0.330491  1.000000 -0.789760  0.207707  0.118310 -0.487345  0.673781   \n   USDCHF -0.280582 -0.789760  1.000000 -0.141806  0.511841  0.545790 -0.550831   \n   EURGBP -0.052945  0.207707 -0.141806  1.000000  0.059045 -0.052307 -0.184884   \n   EURCHF  0.007374  0.118310  0.511841  0.059045  1.000000  0.201354  0.051960   \n   USDJPY -0.286379 -0.487345  0.545790 -0.052307  0.201354  1.000000 -0.351436   \n   AUDUSD  0.619917  0.673781 -0.550831 -0.184884  0.051960 -0.351436  1.000000   \n   GBPJPY  0.079873  0.238821 -0.086108 -0.653130  0.195087  0.415343  0.395712   \n   \n             GBPJPY  \n   AUDCAD  0.079873  \n   EURUSD  0.238821  \n   USDCHF -0.086108  \n   EURGBP -0.653130  \n   EURCHF  0.195087  \n   USDJPY  0.415343  \n   AUDUSD  0.395712  \n   GBPJPY  1.000000  ,\n             AUDCAD    EURUSD    USDCHF    EURGBP    EURCHF    USDJPY    AUDUSD  \\\n   AUDCAD  1.000000  0.378090 -0.312620 -0.034790  0.023113 -0.331819  0.620307   \n   EURUSD  0.378090  1.000000 -0.803342  0.206163  0.101249 -0.521502  0.708291   \n   USDCHF -0.312620 -0.803342  1.000000 -0.155743  0.510617  0.591609 -0.575824   \n   EURGBP -0.034790  0.206163 -0.155743  1.000000  0.037464 -0.107757 -0.158996   \n   EURCHF  0.023113  0.101249  0.510617  0.037464  1.000000  0.235037  0.060909   \n   USDJPY -0.331819 -0.521502  0.591609 -0.107757  0.235037  1.000000 -0.346724   \n   AUDUSD  0.620307  0.708291 -0.575824 -0.158996  0.060909 -0.346724  1.000000   \n   GBPJPY  0.067005  0.216748 -0.053303 -0.681422  0.223182  0.428022  0.401480   \n   \n             GBPJPY  \n   AUDCAD  0.067005  \n   EURUSD  0.216748  \n   USDCHF -0.053303  \n   EURGBP -0.681422  \n   EURCHF  0.223182  \n   USDJPY  0.428022  \n   AUDUSD  0.401480  \n   GBPJPY  1.000000  ,\n             AUDCAD    EURUSD    USDCHF    EURGBP    EURCHF    USDJPY    AUDUSD  \\\n   AUDCAD  1.000000  0.420194 -0.313151 -0.038295  0.086554 -0.406902  0.651498   \n   EURUSD  0.420194  1.000000 -0.803551  0.196596  0.105044 -0.530751  0.696892   \n   USDCHF -0.313151 -0.803551  1.000000 -0.170742  0.507129  0.584669 -0.541956   \n   EURGBP -0.038295  0.196596 -0.170742  1.000000 -0.000735 -0.139692 -0.229189   \n   EURCHF  0.086554  0.105044  0.507129 -0.000735  1.000000  0.208137  0.104136   \n   USDJPY -0.406902 -0.530751  0.584669 -0.139692  0.208137  1.000000 -0.362523   \n   AUDUSD  0.651498  0.696892 -0.541956 -0.229189  0.104136 -0.362523  1.000000   \n   GBPJPY  0.054435  0.250816 -0.074811 -0.667070  0.237704  0.430637  0.442626   \n   \n             GBPJPY  \n   AUDCAD  0.054435  \n   EURUSD  0.250816  \n   USDCHF -0.074811  \n   EURGBP -0.667070  \n   EURCHF  0.237704  \n   USDJPY  0.430637  \n   AUDUSD  0.442626  \n   GBPJPY  1.000000  ]}]"
     },
     "execution_count": 49,
     "metadata": {},
     "output_type": "execute_result"
    }
   ],
   "source": [
    "i = 0\n",
    "indexer_batch = 1\n",
    "TestCorr.correlation_results[indexer_batch]['results']\n",
    "\n"
   ],
   "metadata": {
    "collapsed": false,
    "pycharm": {
     "name": "#%%\n"
    }
   }
  }
 ],
 "metadata": {
  "kernelspec": {
   "display_name": "Python 3",
   "language": "python",
   "name": "python3"
  },
  "language_info": {
   "codemirror_mode": {
    "name": "ipython",
    "version": 2
   },
   "file_extension": ".py",
   "mimetype": "text/x-python",
   "name": "python",
   "nbconvert_exporter": "python",
   "pygments_lexer": "ipython2",
   "version": "2.7.6"
  }
 },
 "nbformat": 4,
 "nbformat_minor": 0
}