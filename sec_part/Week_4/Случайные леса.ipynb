{
 "cells": [
  {
   "cell_type": "code",
   "execution_count": 24,
   "metadata": {
    "collapsed": true
   },
   "outputs": [],
   "source": [
    "from sklearn import ensemble, model_selection, datasets, metrics\n",
    "import numpy as np\n",
    "import pandas as pd\n",
    "import matplotlib.pylab as plt"
   ]
  },
  {
   "cell_type": "code",
   "execution_count": 25,
   "outputs": [],
   "source": [
    "raw_data = pd.read_csv('Bioshpehere.csv', header=0, sep=',')"
   ],
   "metadata": {
    "collapsed": false,
    "pycharm": {
     "name": "#%%\n"
    }
   }
  },
  {
   "cell_type": "code",
   "execution_count": 26,
   "outputs": [
    {
     "data": {
      "text/plain": "      Activity        D1        D2    D3   D4        D5        D6        D7  \\\n0            1  0.000000  0.497009  0.10  0.0  0.132956  0.678031  0.273166   \n1            1  0.366667  0.606291  0.05  0.0  0.111209  0.803455  0.106105   \n2            1  0.033300  0.480124  0.00  0.0  0.209791  0.610350  0.356453   \n3            1  0.000000  0.538825  0.00  0.5  0.196344  0.724230  0.235606   \n4            0  0.100000  0.517794  0.00  0.0  0.494734  0.781422  0.154361   \n...        ...       ...       ...   ...  ...       ...       ...       ...   \n3746         1  0.033300  0.506409  0.10  0.0  0.209887  0.633426  0.297659   \n3747         1  0.133333  0.651023  0.15  0.0  0.151154  0.766505  0.170876   \n3748         0  0.200000  0.520564  0.00  0.0  0.179949  0.768785  0.177341   \n3749         1  0.100000  0.765646  0.00  0.0  0.536954  0.634936  0.342713   \n3750         0  0.133333  0.533952  0.00  0.0  0.347966  0.757971  0.230667   \n\n            D8        D9  ...  D1767  D1768  D1769  D1770  D1771  D1772  \\\n0     0.585445  0.743663  ...      0      0      0      0      0      0   \n1     0.411754  0.836582  ...      1      1      1      1      0      1   \n2     0.517720  0.679051  ...      0      0      0      0      0      0   \n3     0.288764  0.805110  ...      0      0      0      0      0      0   \n4     0.303809  0.812646  ...      0      0      0      0      0      0   \n...        ...       ...  ...    ...    ...    ...    ...    ...    ...   \n3746  0.376124  0.727093  ...      0      0      0      0      0      0   \n3747  0.404546  0.787935  ...      0      0      1      0      1      0   \n3748  0.471179  0.872241  ...      0      0      0      0      0      0   \n3749  0.447162  0.672689  ...      0      0      0      0      0      0   \n3750  0.272652  0.854116  ...      0      0      0      0      0      0   \n\n      D1773  D1774  D1775  D1776  \n0         0      0      0      0  \n1         0      0      1      0  \n2         0      0      0      0  \n3         0      0      0      0  \n4         0      0      0      0  \n...     ...    ...    ...    ...  \n3746      0      0      0      0  \n3747      1      0      0      0  \n3748      0      0      0      0  \n3749      0      0      0      0  \n3750      0      0      0      0  \n\n[3751 rows x 1777 columns]",
      "text/html": "<div>\n<style scoped>\n    .dataframe tbody tr th:only-of-type {\n        vertical-align: middle;\n    }\n\n    .dataframe tbody tr th {\n        vertical-align: top;\n    }\n\n    .dataframe thead th {\n        text-align: right;\n    }\n</style>\n<table border=\"1\" class=\"dataframe\">\n  <thead>\n    <tr style=\"text-align: right;\">\n      <th></th>\n      <th>Activity</th>\n      <th>D1</th>\n      <th>D2</th>\n      <th>D3</th>\n      <th>D4</th>\n      <th>D5</th>\n      <th>D6</th>\n      <th>D7</th>\n      <th>D8</th>\n      <th>D9</th>\n      <th>...</th>\n      <th>D1767</th>\n      <th>D1768</th>\n      <th>D1769</th>\n      <th>D1770</th>\n      <th>D1771</th>\n      <th>D1772</th>\n      <th>D1773</th>\n      <th>D1774</th>\n      <th>D1775</th>\n      <th>D1776</th>\n    </tr>\n  </thead>\n  <tbody>\n    <tr>\n      <th>0</th>\n      <td>1</td>\n      <td>0.000000</td>\n      <td>0.497009</td>\n      <td>0.10</td>\n      <td>0.0</td>\n      <td>0.132956</td>\n      <td>0.678031</td>\n      <td>0.273166</td>\n      <td>0.585445</td>\n      <td>0.743663</td>\n      <td>...</td>\n      <td>0</td>\n      <td>0</td>\n      <td>0</td>\n      <td>0</td>\n      <td>0</td>\n      <td>0</td>\n      <td>0</td>\n      <td>0</td>\n      <td>0</td>\n      <td>0</td>\n    </tr>\n    <tr>\n      <th>1</th>\n      <td>1</td>\n      <td>0.366667</td>\n      <td>0.606291</td>\n      <td>0.05</td>\n      <td>0.0</td>\n      <td>0.111209</td>\n      <td>0.803455</td>\n      <td>0.106105</td>\n      <td>0.411754</td>\n      <td>0.836582</td>\n      <td>...</td>\n      <td>1</td>\n      <td>1</td>\n      <td>1</td>\n      <td>1</td>\n      <td>0</td>\n      <td>1</td>\n      <td>0</td>\n      <td>0</td>\n      <td>1</td>\n      <td>0</td>\n    </tr>\n    <tr>\n      <th>2</th>\n      <td>1</td>\n      <td>0.033300</td>\n      <td>0.480124</td>\n      <td>0.00</td>\n      <td>0.0</td>\n      <td>0.209791</td>\n      <td>0.610350</td>\n      <td>0.356453</td>\n      <td>0.517720</td>\n      <td>0.679051</td>\n      <td>...</td>\n      <td>0</td>\n      <td>0</td>\n      <td>0</td>\n      <td>0</td>\n      <td>0</td>\n      <td>0</td>\n      <td>0</td>\n      <td>0</td>\n      <td>0</td>\n      <td>0</td>\n    </tr>\n    <tr>\n      <th>3</th>\n      <td>1</td>\n      <td>0.000000</td>\n      <td>0.538825</td>\n      <td>0.00</td>\n      <td>0.5</td>\n      <td>0.196344</td>\n      <td>0.724230</td>\n      <td>0.235606</td>\n      <td>0.288764</td>\n      <td>0.805110</td>\n      <td>...</td>\n      <td>0</td>\n      <td>0</td>\n      <td>0</td>\n      <td>0</td>\n      <td>0</td>\n      <td>0</td>\n      <td>0</td>\n      <td>0</td>\n      <td>0</td>\n      <td>0</td>\n    </tr>\n    <tr>\n      <th>4</th>\n      <td>0</td>\n      <td>0.100000</td>\n      <td>0.517794</td>\n      <td>0.00</td>\n      <td>0.0</td>\n      <td>0.494734</td>\n      <td>0.781422</td>\n      <td>0.154361</td>\n      <td>0.303809</td>\n      <td>0.812646</td>\n      <td>...</td>\n      <td>0</td>\n      <td>0</td>\n      <td>0</td>\n      <td>0</td>\n      <td>0</td>\n      <td>0</td>\n      <td>0</td>\n      <td>0</td>\n      <td>0</td>\n      <td>0</td>\n    </tr>\n    <tr>\n      <th>...</th>\n      <td>...</td>\n      <td>...</td>\n      <td>...</td>\n      <td>...</td>\n      <td>...</td>\n      <td>...</td>\n      <td>...</td>\n      <td>...</td>\n      <td>...</td>\n      <td>...</td>\n      <td>...</td>\n      <td>...</td>\n      <td>...</td>\n      <td>...</td>\n      <td>...</td>\n      <td>...</td>\n      <td>...</td>\n      <td>...</td>\n      <td>...</td>\n      <td>...</td>\n      <td>...</td>\n    </tr>\n    <tr>\n      <th>3746</th>\n      <td>1</td>\n      <td>0.033300</td>\n      <td>0.506409</td>\n      <td>0.10</td>\n      <td>0.0</td>\n      <td>0.209887</td>\n      <td>0.633426</td>\n      <td>0.297659</td>\n      <td>0.376124</td>\n      <td>0.727093</td>\n      <td>...</td>\n      <td>0</td>\n      <td>0</td>\n      <td>0</td>\n      <td>0</td>\n      <td>0</td>\n      <td>0</td>\n      <td>0</td>\n      <td>0</td>\n      <td>0</td>\n      <td>0</td>\n    </tr>\n    <tr>\n      <th>3747</th>\n      <td>1</td>\n      <td>0.133333</td>\n      <td>0.651023</td>\n      <td>0.15</td>\n      <td>0.0</td>\n      <td>0.151154</td>\n      <td>0.766505</td>\n      <td>0.170876</td>\n      <td>0.404546</td>\n      <td>0.787935</td>\n      <td>...</td>\n      <td>0</td>\n      <td>0</td>\n      <td>1</td>\n      <td>0</td>\n      <td>1</td>\n      <td>0</td>\n      <td>1</td>\n      <td>0</td>\n      <td>0</td>\n      <td>0</td>\n    </tr>\n    <tr>\n      <th>3748</th>\n      <td>0</td>\n      <td>0.200000</td>\n      <td>0.520564</td>\n      <td>0.00</td>\n      <td>0.0</td>\n      <td>0.179949</td>\n      <td>0.768785</td>\n      <td>0.177341</td>\n      <td>0.471179</td>\n      <td>0.872241</td>\n      <td>...</td>\n      <td>0</td>\n      <td>0</td>\n      <td>0</td>\n      <td>0</td>\n      <td>0</td>\n      <td>0</td>\n      <td>0</td>\n      <td>0</td>\n      <td>0</td>\n      <td>0</td>\n    </tr>\n    <tr>\n      <th>3749</th>\n      <td>1</td>\n      <td>0.100000</td>\n      <td>0.765646</td>\n      <td>0.00</td>\n      <td>0.0</td>\n      <td>0.536954</td>\n      <td>0.634936</td>\n      <td>0.342713</td>\n      <td>0.447162</td>\n      <td>0.672689</td>\n      <td>...</td>\n      <td>0</td>\n      <td>0</td>\n      <td>0</td>\n      <td>0</td>\n      <td>0</td>\n      <td>0</td>\n      <td>0</td>\n      <td>0</td>\n      <td>0</td>\n      <td>0</td>\n    </tr>\n    <tr>\n      <th>3750</th>\n      <td>0</td>\n      <td>0.133333</td>\n      <td>0.533952</td>\n      <td>0.00</td>\n      <td>0.0</td>\n      <td>0.347966</td>\n      <td>0.757971</td>\n      <td>0.230667</td>\n      <td>0.272652</td>\n      <td>0.854116</td>\n      <td>...</td>\n      <td>0</td>\n      <td>0</td>\n      <td>0</td>\n      <td>0</td>\n      <td>0</td>\n      <td>0</td>\n      <td>0</td>\n      <td>0</td>\n      <td>0</td>\n      <td>0</td>\n    </tr>\n  </tbody>\n</table>\n<p>3751 rows × 1777 columns</p>\n</div>"
     },
     "execution_count": 26,
     "metadata": {},
     "output_type": "execute_result"
    }
   ],
   "source": [
    "raw_data"
   ],
   "metadata": {
    "collapsed": false,
    "pycharm": {
     "name": "#%%\n"
    }
   }
  },
  {
   "cell_type": "code",
   "execution_count": 27,
   "outputs": [
    {
     "name": "stdout",
     "output_type": "stream",
     "text": [
      "How many classes\n",
      "bioresponce class 1: 0.54\n",
      "bioresponce class 0: 0.46\n"
     ]
    }
   ],
   "source": [
    "bioresponce_target = raw_data.Activity.values\n",
    "print('How many classes')\n",
    "print('bioresponce class 1: {:.2f}\\nbioresponce class 0: {:.2f}'.format(sum(bioresponce_target) / float(len(bioresponce_target)),\n",
    "                                                                           1.0 - sum(bioresponce_target) / float(len(bioresponce_target))))"
   ],
   "metadata": {
    "collapsed": false,
    "pycharm": {
     "name": "#%%\n"
    }
   }
  },
  {
   "cell_type": "code",
   "source": [
    "bioresponce_data = raw_data.iloc[:,1:]"
   ],
   "metadata": {
    "collapsed": false,
    "pycharm": {
     "name": "#%%\n"
    }
   },
   "execution_count": 28,
   "outputs": []
  },
  {
   "cell_type": "markdown",
   "source": [
    "### Модель RandomForestClassifier\n",
    "##### Кривые обучения для деревьев малой глубины"
   ],
   "metadata": {
    "collapsed": false,
    "pycharm": {
     "name": "#%% md\n"
    }
   }
  },
  {
   "cell_type": "markdown",
   "source": [
    "#### Определим сколько данных нужно для достижения максимального качества"
   ],
   "metadata": {
    "collapsed": false,
    "pycharm": {
     "name": "#%% md\n"
    }
   }
  },
  {
   "cell_type": "code",
   "execution_count": 29,
   "outputs": [],
   "source": [
    "rf_classifier_low_depth = ensemble.RandomForestClassifier(n_estimators=50, max_depth=2, random_state=1)"
   ],
   "metadata": {
    "collapsed": false,
    "pycharm": {
     "name": "#%%\n"
    }
   }
  },
  {
   "cell_type": "code",
   "execution_count": 30,
   "outputs": [],
   "source": [
    "train_sizes, train_scores, test_scores = model_selection.learning_curve(rf_classifier_low_depth,\n",
    "                                                                        bioresponce_data, bioresponce_target,\n",
    "                                                                        train_sizes=np.arange(.1, 1., 0.05),\n",
    "                                                                        cv=3, scoring='accuracy')"
   ],
   "metadata": {
    "collapsed": false,
    "pycharm": {
     "name": "#%%\n"
    }
   }
  },
  {
   "cell_type": "code",
   "execution_count": 31,
   "outputs": [
    {
     "name": "stdout",
     "output_type": "stream",
     "text": [
      "[ 250  375  500  625  750  875 1000 1125 1250 1375 1500 1625 1750 1875\n",
      " 2000 2125 2250 2375]\n",
      "[0.74933333 0.72711111 0.72933333 0.72533333 0.71333333 0.69904762\n",
      " 0.69166667 0.69777778 0.68453333 0.68048485 0.68622222 0.68553846\n",
      " 0.69104762 0.68711111 0.68283333 0.68690196 0.69022222 0.68322807]\n",
      "[0.62356685 0.63476003 0.6382284  0.64649145 0.64195598 0.62942947\n",
      " 0.64089656 0.65316621 0.65369955 0.65369848 0.65422712 0.66222222\n",
      " 0.66248974 0.65928995 0.66248889 0.66222073 0.66728527 0.66301881]\n"
     ]
    }
   ],
   "source": [
    "print(train_sizes)\n",
    "print(train_scores.mean(axis=1))\n",
    "print(test_scores.mean(axis=1))"
   ],
   "metadata": {
    "collapsed": false,
    "pycharm": {
     "name": "#%%\n"
    }
   }
  },
  {
   "cell_type": "code",
   "execution_count": 36,
   "outputs": [
    {
     "data": {
      "text/plain": "(0.0, 1.05)"
     },
     "execution_count": 36,
     "metadata": {},
     "output_type": "execute_result"
    },
    {
     "data": {
      "text/plain": "<Figure size 432x288 with 1 Axes>",
      "image/png": "[encoded data removed]"
     },
     "metadata": {
      "needs_background": "light"
     },
     "output_type": "display_data"
    }
   ],
   "source": [
    "plt.grid(True)\n",
    "plt.plot(train_sizes, train_scores.mean(axis=1), 'g-', marker='o', label='train_scores')\n",
    "plt.plot(train_sizes, test_scores.mean(axis=1), 'b-', marker='o', label='test_scores')\n",
    "plt.legend(loc='lower right')\n",
    "plt.ylim(0, 1.05)\n"
   ],
   "metadata": {
    "collapsed": false,
    "pycharm": {
     "name": "#%%\n"
    }
   }
  },
  {
   "cell_type": "markdown",
   "source": [
    "### Попробуем увеличить глубину деревьев"
   ],
   "metadata": {
    "collapsed": false
   }
  },
  {
   "cell_type": "code",
   "execution_count": 42,
   "outputs": [],
   "source": [
    "rf_classifier_high_depth = ensemble.RandomForestClassifier(n_estimators=50, max_depth=10, random_state=1)"
   ],
   "metadata": {
    "collapsed": false,
    "pycharm": {
     "name": "#%%\n"
    }
   }
  },
  {
   "cell_type": "code",
   "execution_count": 43,
   "outputs": [],
   "source": [
    "train_sizes, train_scores, test_scores = model_selection.learning_curve(rf_classifier_high_depth,\n",
    "                                                                        bioresponce_data, bioresponce_target,\n",
    "                                                                        train_sizes=np.arange(.1, 1, .2),\n",
    "                                                                        cv=3, scoring='accuracy')"
   ],
   "metadata": {
    "collapsed": false,
    "pycharm": {
     "name": "#%%\n"
    }
   }
  },
  {
   "cell_type": "code",
   "execution_count": 44,
   "outputs": [
    {
     "data": {
      "text/plain": "<matplotlib.legend.Legend at 0x1231e7a90>"
     },
     "execution_count": 44,
     "metadata": {},
     "output_type": "execute_result"
    },
    {
     "data": {
      "text/plain": "<Figure size 432x288 with 1 Axes>",
      "image/png": "[encoded data removed]"
     },
     "metadata": {
      "needs_background": "light"
     },
     "output_type": "display_data"
    }
   ],
   "source": [
    "plt.grid(True)\n",
    "plt.plot(train_sizes, train_scores.mean(axis=1), 'g-', marker='o', label='Train Scores')\n",
    "plt.plot(train_sizes, test_scores.mean(axis=1), 'b-', marker='o', label='Test Scores')\n",
    "plt.ylim(0,1.05)\n",
    "plt.legend(loc='lower right')"
   ],
   "metadata": {
    "collapsed": false,
    "pycharm": {
     "name": "#%%\n"
    }
   }
  },
  {
   "cell_type": "code",
   "execution_count": null,
   "outputs": [],
   "source": [
    "datasets."
   ],
   "metadata": {
    "collapsed": false,
    "pycharm": {
     "name": "#%%\n"
    }
   }
  }
 ],
 "metadata": {
  "kernelspec": {
   "display_name": "Python 3",
   "language": "python",
   "name": "python3"
  },
  "language_info": {
   "codemirror_mode": {
    "name": "ipython",
    "version": 2
   },
   "file_extension": ".py",
   "mimetype": "text/x-python",
   "name": "python",
   "nbconvert_exporter": "python",
   "pygments_lexer": "ipython2",
   "version": "2.7.6"
  }
 },
 "nbformat": 4,
 "nbformat_minor": 0
}