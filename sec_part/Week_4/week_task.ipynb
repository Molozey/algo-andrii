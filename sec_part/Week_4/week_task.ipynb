{
 "cells": [
  {
   "cell_type": "markdown",
   "metadata": {},
   "source": [
    "# Градиентный бустинг своими руками\n",
    "\n",
    "**Внимание:** в тексте задания произошли изменения - поменялось число деревьев (теперь 50), правило изменения величины шага в задании 3 и добавился параметр `random_state` у решающего дерева. Правильные ответы не поменялись, но теперь их проще получить. Также исправлена опечатка в функции `gbm_predict`.\n",
    "\n",
    "В этом задании будет использоваться датасет `boston` из `sklearn.datasets`. Оставьте последние 25% объектов для контроля качества, разделив `X` и `y` на `X_train`, `y_train` и `X_test`, `y_test`.\n",
    "\n",
    "Целью задания будет реализовать простой вариант градиентного бустинга над регрессионными деревьями для случая квадратичной функции потерь."
   ]
  },
  {
   "cell_type": "code",
   "metadata": {
    "collapsed": true,
    "pycharm": {
     "name": "#%%\n"
    }
   },
   "source": [
    "from sklearn import datasets, model_selection, metrics, ensemble, preprocessing, tree\n",
    "import numpy as np\n",
    "\n",
    "raw_data = datasets.load_boston()\n",
    "boston_data = raw_data.data\n",
    "boston_target = raw_data.target\n",
    "scalar = preprocessing.StandardScaler()\n",
    "train_data = boston_data[:-int(boston_data.shape[0] / 4),:]\n",
    "test_data = boston_data[-int(boston_data.shape[0] / 4):, :]\n",
    "train_target = boston_target[:-int(boston_data.shape[0] / 4)]\n",
    "test_target = boston_target[-int(boston_data.shape[0] / 4):]\n",
    "print('SHAPE TARGET REAL:', boston_target.shape, 'SHAPE NEW:', train_target.shape, test_target.shape)\n",
    "print('SHAPE DATA REAL:', boston_data.shape, 'SHAPE NEW:', train_data.shape, test_data.shape)"
   ],
   "execution_count": 1,
   "outputs": [
    {
     "name": "stdout",
     "output_type": "stream",
     "text": [
      "SHAPE TARGET REAL: (506,) SHAPE NEW: (380,) (126,)\n",
      "SHAPE DATA REAL: (506, 13) SHAPE NEW: (380, 13) (126, 13)\n"
     ]
    }
   ]
  },
  {
   "cell_type": "code",
   "execution_count": 2,
   "outputs": [],
   "source": [
    "def write_answer_1(ans, number):\n",
    "    with open(\"answer_task_2_number_\"+str(number)+\".txt\", \"w\") as text_file:\n",
    "        text_file.write(str(ans))"
   ],
   "metadata": {
    "collapsed": false,
    "pycharm": {
     "name": "#%%\n"
    }
   }
  },
  {
   "cell_type": "markdown",
   "metadata": {},
   "source": [
    "## Задание 1\n",
    "\n",
    "Как вы уже знаете из лекций, **бустинг** - это метод построения композиций базовых алгоритмов с помощью последовательного добавления к текущей композиции нового алгоритма с некоторым коэффициентом. \n",
    "\n",
    "Градиентный бустинг обучает каждый новый алгоритм так, чтобы он приближал антиградиент ошибки по ответам композиции на обучающей выборке. Аналогично минимизации функций методом градиентного спуска, в градиентном бустинге мы подправляем композицию, изменяя алгоритм в направлении антиградиента ошибки.\n",
    "\n",
    "Воспользуйтесь формулой из лекций, задающей ответы на обучающей выборке, на которые нужно обучать новый алгоритм (фактически это лишь чуть более подробно расписанный градиент от ошибки), и получите частный ее случай, если функция потерь `L` - квадрат отклонения ответа композиции `a(x)` от правильного ответа `y` на данном `x`.\n",
    "\n",
    "Если вы давно не считали производную самостоятельно, вам поможет таблица производных элементарных функций (которую несложно найти в интернете) и правило дифференцирования сложной функции. После дифференцирования квадрата у вас возникнет множитель 2 — т.к. нам все равно предстоит выбирать коэффициент, с которым будет добавлен новый базовый алгоритм, проигноируйте этот множитель при дальнейшем построении алгоритма."
   ]
  },
  {
   "cell_type": "code",
   "execution_count": 3,
   "metadata": {
    "collapsed": true
   },
   "outputs": [],
   "source": [
    "def vector_s_finder(composition, real_target, x):\n",
    "    s = []\n",
    "    for i in range(len(real_target)):\n",
    "        s.append(-1*(np.dot(composition, x) - real_target))\n",
    "    return s\n",
    "\n",
    "composition = [1, 1, 1, 2]\n",
    "real_target = [0, 0, 0, 1]\n",
    "x = [1, 1, 1, 1]"
   ]
  },
  {
   "cell_type": "markdown",
   "metadata": {},
   "source": [
    "## Задание 2\n",
    "\n",
    "Заведите массив для объектов `DecisionTreeRegressor` (будем их использовать в качестве базовых алгоритмов) и для вещественных чисел (это будут коэффициенты перед базовыми алгоритмами). \n",
    "\n",
    "В цикле от обучите последовательно 50 решающих деревьев с параметрами `max_depth=5` и `random_state=42` (остальные параметры - по умолчанию). В бустинге зачастую используются сотни и тысячи деревьев, но мы ограничимся 50, чтобы алгоритм работал быстрее, и его было проще отлаживать (т.к. цель задания разобраться, как работает метод). Каждое дерево должно обучаться на одном и том же множестве объектов, но ответы, которые учится прогнозировать дерево, будут меняться в соответствие с полученным в задании 1 правилом. \n",
    "\n",
    "Попробуйте для начала всегда брать коэффициент равным 0.9. Обычно оправдано выбирать коэффициент значительно меньшим - порядка 0.05 или 0.1, но т.к. в нашем учебном примере на стандартном датасете будет всего 50 деревьев, возьмем для начала шаг побольше.\n",
    "\n",
    "В процессе реализации обучения вам потребуется функция, которая будет вычислять прогноз построенной на данный момент композиции деревьев на выборке `X`:\n",
    "\n",
    "```\n",
    "def gbm_predict(X):\n",
    "    return [sum([coeff * algo.predict([x])[0] for algo, coeff in zip(base_algorithms_list, coefficients_list)]) for x in X]\n",
    "(считаем, что base_algorithms_list - список с базовыми алгоритмами, coefficients_list - список с коэффициентами перед алгоритмами)\n",
    "```\n",
    "\n",
    "Эта же функция поможет вам получить прогноз на контрольной выборке и оценить качество работы вашего алгоритма с помощью `mean_squared_error` в `sklearn.metrics`. \n",
    "\n",
    "Возведите результат в степень 0.5, чтобы получить `RMSE`. Полученное значение `RMSE` — **ответ в пункте 2**."
   ]
  },
  {
   "cell_type": "code",
   "execution_count": 4,
   "metadata": {
    "collapsed": true
   },
   "outputs": [],
   "source": [
    "def s_finder(composition, y_real):\n",
    "    s_vector = []\n",
    "    for _ in range(len(y_real)):\n",
    "        s_vector.append(-1 * (composition[_] - y_real[_]))\n",
    "    return s_vector\n",
    "\n",
    "def gbm_predict(X):\n",
    "    return [sum([coeff * algo.predict([x])[0] for algo, coeff in zip(estimators_array, estimators_coffs_array)]) for x in X]\n",
    "n_iterations = 50\n",
    "estimators_array = []\n",
    "estimators_coffs_array = []\n",
    "target = train_target\n",
    "for i in range(n_iterations):\n",
    "    estimator = tree.DecisionTreeRegressor(max_depth=5, random_state=42)\n",
    "    estimator.fit(train_data, target)\n",
    "    estimators_array.append(estimator)\n",
    "    estimators_coffs_array.append(.9)\n",
    "    compose_predict = gbm_predict(train_data)\n",
    "    vectos_s = s_finder(compose_predict, train_target)\n",
    "#    print(vectos_s)\n",
    "    target = vectos_s"
   ]
  },
  {
   "cell_type": "code",
   "execution_count": 5,
   "outputs": [
    {
     "name": "stdout",
     "output_type": "stream",
     "text": [
      "-----\n",
      "Mean_Squared_Error: 29.759444504536617\n",
      "----------\n",
      "RMSE: 5.455221764927308\n"
     ]
    }
   ],
   "source": [
    "print('-----')\n",
    "error = metrics.mean_squared_error(test_target, gbm_predict(test_data))\n",
    "print('Mean_Squared_Error:', error)\n",
    "print('----------')\n",
    "print('RMSE:', np.sqrt(error))\n",
    "write_answer_1(np.sqrt(error), 2)"
   ],
   "metadata": {
    "collapsed": false,
    "pycharm": {
     "name": "#%%\n"
    }
   }
  },
  {
   "cell_type": "code",
   "source": [
    "'''\n",
    "estimators_array = []\n",
    "estimators_coffs_array = []\n",
    "target = train_target\n",
    "estimator = tree.DecisionTreeRegressor(max_depth=5, random_state=42)\n",
    "estimator.fit(train_data, target)\n",
    "estimators_array.append(estimator)\n",
    "estimators_coffs_array.append(.9)\n",
    "compose_predict = gbm_predict(train_data)\n",
    "print(len(compose_predict))\n",
    "target = s_finder(compose_predict, train_target)\n",
    "print(np.asmatrix(target).shape)\n",
    "estimator = tree.DecisionTreeRegressor(max_depth=5, random_state=42)\n",
    "estimator.fit(train_data, target)\n",
    "estimators_array.append(estimator)\n",
    "estimators_coffs_array.append(.9)\n",
    "compose_predict = gbm_predict(train_data)\n",
    "print(compose_predict)\n",
    "'''"
   ],
   "metadata": {
    "collapsed": false,
    "pycharm": {
     "name": "#%%\n"
    }
   },
   "execution_count": 6,
   "outputs": [
    {
     "data": {
      "text/plain": "'\\nestimators_array = []\\nestimators_coffs_array = []\\ntarget = train_target\\nestimator = tree.DecisionTreeRegressor(max_depth=5, random_state=42)\\nestimator.fit(train_data, target)\\nestimators_array.append(estimator)\\nestimators_coffs_array.append(.9)\\ncompose_predict = gbm_predict(train_data)\\nprint(len(compose_predict))\\ntarget = s_finder(compose_predict, train_target)\\nprint(np.asmatrix(target).shape)\\nestimator = tree.DecisionTreeRegressor(max_depth=5, random_state=42)\\nestimator.fit(train_data, target)\\nestimators_array.append(estimator)\\nestimators_coffs_array.append(.9)\\ncompose_predict = gbm_predict(train_data)\\nprint(compose_predict)\\n'"
     },
     "execution_count": 6,
     "metadata": {},
     "output_type": "execute_result"
    }
   ]
  },
  {
   "cell_type": "markdown",
   "metadata": {},
   "source": [
    "## Задание 3\n",
    "\n",
    "Вас может также беспокоить, что двигаясь с постоянным шагом, вблизи минимума ошибки ответы на обучающей выборке меняются слишком резко, перескакивая через минимум. \n",
    "\n",
    "Попробуйте уменьшать вес перед каждым алгоритмом с каждой следующей итерацией по формуле `0.9 / (1.0 + i)`, где `i` - номер итерации (от 0 до 49). Используйте качество работы алгоритма как **ответ в пункте 3**. \n",
    "\n",
    "В реальности часто применяется следующая стратегия выбора шага: как только выбран алгоритм, подберем коэффициент перед ним численным методом оптимизации таким образом, чтобы отклонение от правильных ответов было минимальным. Мы не будем предлагать вам реализовать это для выполнения задания, но рекомендуем попробовать разобраться с такой стратегией и реализовать ее при случае для себя."
   ]
  },
  {
   "cell_type": "code",
   "execution_count": 7,
   "metadata": {
    "collapsed": true
   },
   "outputs": [],
   "source": [
    "def s_finder(composition, y_real):\n",
    "    s_vector = []\n",
    "    for _ in range(len(y_real)):\n",
    "        s_vector.append(-1 * (composition[_] - y_real[_]))\n",
    "    return s_vector\n",
    "\n",
    "def gbm_predict(X):\n",
    "    return [sum([coeff * algo.predict([x])[0] for algo, coeff in zip(estimators_array, estimators_coffs_array)]) for x in X]\n",
    "n_iterations = 50\n",
    "estimators_array = []\n",
    "estimators_coffs_array = []\n",
    "target = train_target\n",
    "for i in range(n_iterations):\n",
    "    estimator = tree.DecisionTreeRegressor(max_depth=5, random_state=42)\n",
    "    estimator.fit(train_data, target)\n",
    "    estimators_array.append(estimator)\n",
    "    estimators_coffs_array.append(.9 / (1 + i))\n",
    "    compose_predict = gbm_predict(train_data)\n",
    "    vectos_s = s_finder(compose_predict, train_target)\n",
    "#    print(vectos_s)\n",
    "    target = vectos_s"
   ]
  },
  {
   "cell_type": "code",
   "execution_count": 8,
   "outputs": [
    {
     "name": "stdout",
     "output_type": "stream",
     "text": [
      "-----\n",
      "Mean_Squared_Error: 27.46843303673391\n",
      "----------\n",
      "RMSE: 5.241033584774468\n"
     ]
    }
   ],
   "source": [
    "print('-----')\n",
    "error = metrics.mean_squared_error(test_target, gbm_predict(test_data))\n",
    "print('Mean_Squared_Error:', error)\n",
    "print('----------')\n",
    "print('RMSE:', np.sqrt(error))\n",
    "write_answer_1(np.sqrt(error), 3)\n"
   ],
   "metadata": {
    "collapsed": false,
    "pycharm": {
     "name": "#%%\n"
    }
   }
  },
  {
   "cell_type": "markdown",
   "metadata": {},
   "source": [
    "## Задание 4\n",
    "\n",
    "Реализованный вами метод - градиентный бустинг над деревьями - очень популярен в машинном обучении. Он представлен как в самой библиотеке `sklearn`, так и в сторонней библиотеке `XGBoost`, которая имеет свой питоновский интерфейс. На практике `XGBoost` работает заметно лучше `GradientBoostingRegressor` из `sklearn`, но для этого задания вы можете использовать любую реализацию. \n",
    "\n",
    "Исследуйте, переобучается ли градиентный бустинг с ростом числа итераций (и подумайте, почему), а также с ростом глубины деревьев. На основе наблюдений выпишите через пробел номера правильных из приведенных ниже утверждений в порядке возрастания номера (это будет **ответ в п.4**):\n",
    "\n",
    "    1. С увеличением числа деревьев, начиная с некоторого момента, качество работы градиентного бустинга не меняется существенно.\n",
    "\n",
    "    2. С увеличением числа деревьев, начиная с некоторого момента, градиентный бустинг начинает переобучаться.\n",
    "\n",
    "    3. С ростом глубины деревьев, начиная с некоторого момента, качество работы градиентного бустинга на тестовой выборке начинает ухудшаться.\n",
    "\n",
    "    4. С ростом глубины деревьев, начиная с некоторого момента, качество работы градиентного бустинга перестает существенно изменяться"
   ]
  },
  {
   "cell_type": "code",
   "execution_count": 9,
   "metadata": {
    "collapsed": true
   },
   "outputs": [
    {
     "data": {
      "text/plain": "\"\\nimport matplotlib.pylab as plt\\n### ITERATIONS\\niterations = [2, 5, 8, 12, 14, 16, 18, 20, 25]\\nfor n_iterations in iterations:\\n    def s_finder(composition, y_real):\\n        s_vector = []\\n        for _ in range(len(y_real)):\\n            s_vector.append(-1 * (composition[_] - y_real[_]))\\n        return s_vector\\n\\n    def gbm_predict(X):\\n        return [sum([coeff * algo.predict([x])[0] for algo, coeff in zip(estimators_array, estimators_coffs_array)]) for x in X]\\n    n_iterations = n_iterations\\n    estimators_array = []\\n    estimators_coffs_array = []\\n    target = train_target\\n    for i in range(n_iterations):\\n        estimator = tree.DecisionTreeRegressor(max_depth=5, random_state=42)\\n        estimator.fit(train_data, target)\\n        estimators_array.append(estimator)\\n        estimators_coffs_array.append(.9 / (1 + i))\\n        compose_predict = gbm_predict(train_data)\\n        vectos_s = s_finder(compose_predict, train_target)\\n    #    print(vectos_s)\\n        target = vectos_s\\n    print('-----')\\n    error = metrics.mean_squared_error(test_target, gbm_predict(test_data))\\n    print('Mean_Squared_Error for iterations',str(n_iterations),':', error)\\n    print('----------')\\n    print('RMSE for iterations', str(n_iterations),':', np.sqrt(error))\\n    plt.plot(n_iterations, np.sqrt(error), 'b-', marker='o')\\n    plt.xlabel('Количество итераций')\\n    plt.ylabel('Значение RMSE')\\n    plt.title('Изменение кол-ва итераций')\\nplt.show()\\n#Глубина деревьев\\ntrees_depth = [1, 3, 5, 10, 15, 30, 50, 100, 150, 200, 300]\\nfor depth in trees_depth:\\n    def s_finder(composition, y_real):\\n        s_vector = []\\n        for _ in range(len(y_real)):\\n            s_vector.append(-1 * (composition[_] - y_real[_]))\\n        return s_vector\\n\\n    def gbm_predict(X):\\n        return [sum([coeff * algo.predict([x])[0] for algo, coeff in zip(estimators_array, estimators_coffs_array)]) for x in X]\\n    n_iterations = 20\\n    estimators_array = []\\n    estimators_coffs_array = []\\n    target = train_target\\n    for i in range(n_iterations):\\n        estimator = tree.DecisionTreeRegressor(max_depth=depth, random_state=42)\\n        estimator.fit(train_data, target)\\n        estimators_array.append(estimator)\\n        estimators_coffs_array.append(.9 / (1 + i))\\n        compose_predict = gbm_predict(train_data)\\n        vectos_s = s_finder(compose_predict, train_target)\\n    #    print(vectos_s)\\n        target = vectos_s\\n    print('-----')\\n    error = metrics.mean_squared_error(test_target, gbm_predict(test_data))\\n    print('Mean_Squared_Error for depth',str(depth),':', error)\\n    print('----------')\\n    print('RMSE for depth', str(depth),':', np.sqrt(error))\\n    plt.plot(depth, np.sqrt(error), 'b-', marker='o')\\n    plt.xlabel('Глубина дерева')\\n    plt.ylabel('Значение RMSE')\\n    plt.title('Изменение глубины деревьев')\\nplt.show()\\n\""
     },
     "execution_count": 9,
     "metadata": {},
     "output_type": "execute_result"
    }
   ],
   "source": [
    "'''\n",
    "import matplotlib.pylab as plt\n",
    "### ITERATIONS\n",
    "iterations = [2, 5, 8, 12, 14, 16, 18, 20, 25]\n",
    "for n_iterations in iterations:\n",
    "    def s_finder(composition, y_real):\n",
    "        s_vector = []\n",
    "        for _ in range(len(y_real)):\n",
    "            s_vector.append(-1 * (composition[_] - y_real[_]))\n",
    "        return s_vector\n",
    "\n",
    "    def gbm_predict(X):\n",
    "        return [sum([coeff * algo.predict([x])[0] for algo, coeff in zip(estimators_array, estimators_coffs_array)]) for x in X]\n",
    "    n_iterations = n_iterations\n",
    "    estimators_array = []\n",
    "    estimators_coffs_array = []\n",
    "    target = train_target\n",
    "    for i in range(n_iterations):\n",
    "        estimator = tree.DecisionTreeRegressor(max_depth=5, random_state=42)\n",
    "        estimator.fit(train_data, target)\n",
    "        estimators_array.append(estimator)\n",
    "        estimators_coffs_array.append(.9 / (1 + i))\n",
    "        compose_predict = gbm_predict(train_data)\n",
    "        vectos_s = s_finder(compose_predict, train_target)\n",
    "    #    print(vectos_s)\n",
    "        target = vectos_s\n",
    "    print('-----')\n",
    "    error = metrics.mean_squared_error(test_target, gbm_predict(test_data))\n",
    "    print('Mean_Squared_Error for iterations',str(n_iterations),':', error)\n",
    "    print('----------')\n",
    "    print('RMSE for iterations', str(n_iterations),':', np.sqrt(error))\n",
    "    plt.plot(n_iterations, np.sqrt(error), 'b-', marker='o')\n",
    "    plt.xlabel('Количество итераций')\n",
    "    plt.ylabel('Значение RMSE')\n",
    "    plt.title('Изменение кол-ва итераций')\n",
    "plt.show()\n",
    "#Глубина деревьев\n",
    "trees_depth = [1, 3, 5, 10, 15, 30, 50, 100, 150, 200, 300]\n",
    "for depth in trees_depth:\n",
    "    def s_finder(composition, y_real):\n",
    "        s_vector = []\n",
    "        for _ in range(len(y_real)):\n",
    "            s_vector.append(-1 * (composition[_] - y_real[_]))\n",
    "        return s_vector\n",
    "\n",
    "    def gbm_predict(X):\n",
    "        return [sum([coeff * algo.predict([x])[0] for algo, coeff in zip(estimators_array, estimators_coffs_array)]) for x in X]\n",
    "    n_iterations = 20\n",
    "    estimators_array = []\n",
    "    estimators_coffs_array = []\n",
    "    target = train_target\n",
    "    for i in range(n_iterations):\n",
    "        estimator = tree.DecisionTreeRegressor(max_depth=depth, random_state=42)\n",
    "        estimator.fit(train_data, target)\n",
    "        estimators_array.append(estimator)\n",
    "        estimators_coffs_array.append(.9 / (1 + i))\n",
    "        compose_predict = gbm_predict(train_data)\n",
    "        vectos_s = s_finder(compose_predict, train_target)\n",
    "    #    print(vectos_s)\n",
    "        target = vectos_s\n",
    "    print('-----')\n",
    "    error = metrics.mean_squared_error(test_target, gbm_predict(test_data))\n",
    "    print('Mean_Squared_Error for depth',str(depth),':', error)\n",
    "    print('----------')\n",
    "    print('RMSE for depth', str(depth),':', np.sqrt(error))\n",
    "    plt.plot(depth, np.sqrt(error), 'b-', marker='o')\n",
    "    plt.xlabel('Глубина дерева')\n",
    "    plt.ylabel('Значение RMSE')\n",
    "    plt.title('Изменение глубины деревьев')\n",
    "plt.show()\n",
    "'''"
   ]
  },
  {
   "cell_type": "markdown",
   "source": [
    "# Ответ на задание 4\n",
    "# 1 False\n",
    "# 2 True\n",
    "# 3 False\n",
    "# True"
   ],
   "metadata": {
    "collapsed": false,
    "pycharm": {
     "name": "#%% md\n"
    }
   }
  },
  {
   "cell_type": "markdown",
   "metadata": {},
   "source": [
    "## Задание 5\n",
    "\n",
    "Сравните получаемое с помощью градиентного бустинга качество с качеством работы линейной регрессии. \n",
    "\n",
    "Для этого обучите `LinearRegression` из `sklearn.linear_model` (с параметрами по умолчанию) на обучающей выборке и оцените для прогнозов полученного алгоритма на тестовой выборке `RMSE`. Полученное качество - ответ в **пункте 5**. \n",
    "\n",
    "В данном примере качество работы простой модели должно было оказаться хуже, но не стоит забывать, что так бывает не всегда. В заданиях к этому курсу вы еще встретите пример обратной ситуации."
   ]
  },
  {
   "cell_type": "code",
   "execution_count": 10,
   "metadata": {
    "collapsed": true
   },
   "outputs": [
    {
     "name": "stdout",
     "output_type": "stream",
     "text": [
      "TASK 5 RMSE =  7.819688142087423\n"
     ]
    }
   ],
   "source": [
    "from sklearn import linear_model\n",
    "linear_reg = linear_model.LinearRegression()\n",
    "linear_reg.fit(train_data, train_target)\n",
    "error = metrics.mean_squared_error(test_target, linear_reg.predict(test_data))\n",
    "print('TASK 5 RMSE = ', np.sqrt(error))\n",
    "write_answer_1(np.sqrt(error), 5)"
   ]
  }
 ],
 "metadata": {
  "kernelspec": {
   "display_name": "Python 3",
   "language": "python",
   "name": "python3"
  },
  "language_info": {
   "codemirror_mode": {
    "name": "ipython",
    "version": 3
   },
   "file_extension": ".py",
   "mimetype": "text/x-python",
   "name": "python",
   "nbconvert_exporter": "python",
   "pygments_lexer": "ipython3",
   "version": "3.6.8"
  }
 },
 "nbformat": 4,
 "nbformat_minor": 1
}