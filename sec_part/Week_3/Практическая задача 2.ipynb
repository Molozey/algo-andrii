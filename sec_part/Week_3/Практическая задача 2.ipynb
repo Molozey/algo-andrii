{
 "cells": [
  {
   "cell_type": "code",
   "execution_count": 1,
   "outputs": [],
   "source": [
    "from sklearn import model_selection, linear_model, metrics, datasets\n",
    "\n",
    "import numpy as np\n",
    "import pandas as pd\n",
    "import unittest\n",
    "import sys\n",
    "import matplotlib.pylab as plt"
   ],
   "metadata": {
    "collapsed": false,
    "pycharm": {
     "name": "#%%\n"
    }
   }
  },
  {
   "cell_type": "markdown",
   "source": [
    "#### Загрузка данных"
   ],
   "metadata": {
    "collapsed": false
   }
  },
  {
   "cell_type": "code",
   "execution_count": 2,
   "outputs": [
    {
     "data": {
      "text/plain": "              datetime  season  holiday  workingday  weather  temp   atemp  \\\n0  2011-01-01 00:00:00       1        0           0        1  9.84  14.395   \n1  2011-01-01 01:00:00       1        0           0        1  9.02  13.635   \n2  2011-01-01 02:00:00       1        0           0        1  9.02  13.635   \n3  2011-01-01 03:00:00       1        0           0        1  9.84  14.395   \n4  2011-01-01 04:00:00       1        0           0        1  9.84  14.395   \n\n   humidity  windspeed  casual  registered  count  \n0        81        0.0       3          13     16  \n1        80        0.0       8          32     40  \n2        80        0.0       5          27     32  \n3        75        0.0       3          10     13  \n4        75        0.0       0           1      1  ",
      "text/html": "<div>\n<style scoped>\n    .dataframe tbody tr th:only-of-type {\n        vertical-align: middle;\n    }\n\n    .dataframe tbody tr th {\n        vertical-align: top;\n    }\n\n    .dataframe thead th {\n        text-align: right;\n    }\n</style>\n<table border=\"1\" class=\"dataframe\">\n  <thead>\n    <tr style=\"text-align: right;\">\n      <th></th>\n      <th>datetime</th>\n      <th>season</th>\n      <th>holiday</th>\n      <th>workingday</th>\n      <th>weather</th>\n      <th>temp</th>\n      <th>atemp</th>\n      <th>humidity</th>\n      <th>windspeed</th>\n      <th>casual</th>\n      <th>registered</th>\n      <th>count</th>\n    </tr>\n  </thead>\n  <tbody>\n    <tr>\n      <th>0</th>\n      <td>2011-01-01 00:00:00</td>\n      <td>1</td>\n      <td>0</td>\n      <td>0</td>\n      <td>1</td>\n      <td>9.84</td>\n      <td>14.395</td>\n      <td>81</td>\n      <td>0.0</td>\n      <td>3</td>\n      <td>13</td>\n      <td>16</td>\n    </tr>\n    <tr>\n      <th>1</th>\n      <td>2011-01-01 01:00:00</td>\n      <td>1</td>\n      <td>0</td>\n      <td>0</td>\n      <td>1</td>\n      <td>9.02</td>\n      <td>13.635</td>\n      <td>80</td>\n      <td>0.0</td>\n      <td>8</td>\n      <td>32</td>\n      <td>40</td>\n    </tr>\n    <tr>\n      <th>2</th>\n      <td>2011-01-01 02:00:00</td>\n      <td>1</td>\n      <td>0</td>\n      <td>0</td>\n      <td>1</td>\n      <td>9.02</td>\n      <td>13.635</td>\n      <td>80</td>\n      <td>0.0</td>\n      <td>5</td>\n      <td>27</td>\n      <td>32</td>\n    </tr>\n    <tr>\n      <th>3</th>\n      <td>2011-01-01 03:00:00</td>\n      <td>1</td>\n      <td>0</td>\n      <td>0</td>\n      <td>1</td>\n      <td>9.84</td>\n      <td>14.395</td>\n      <td>75</td>\n      <td>0.0</td>\n      <td>3</td>\n      <td>10</td>\n      <td>13</td>\n    </tr>\n    <tr>\n      <th>4</th>\n      <td>2011-01-01 04:00:00</td>\n      <td>1</td>\n      <td>0</td>\n      <td>0</td>\n      <td>1</td>\n      <td>9.84</td>\n      <td>14.395</td>\n      <td>75</td>\n      <td>0.0</td>\n      <td>0</td>\n      <td>1</td>\n      <td>1</td>\n    </tr>\n  </tbody>\n</table>\n</div>"
     },
     "execution_count": 2,
     "metadata": {},
     "output_type": "execute_result"
    }
   ],
   "source": [
    "raw_data = pd.read_csv('Data_tests.csv', header = 0, sep=',')\n",
    "raw_data.head()"
   ],
   "metadata": {
    "collapsed": false,
    "pycharm": {
     "name": "#%%\n"
    }
   }
  },
  {
   "cell_type": "code",
   "execution_count": 3,
   "outputs": [],
   "source": [
    "raw_data.datetime = pd.to_datetime(raw_data['datetime'])"
   ],
   "metadata": {
    "collapsed": false,
    "pycharm": {
     "name": "#%%\n"
    }
   }
  },
  {
   "cell_type": "code",
   "execution_count": 4,
   "outputs": [
    {
     "data": {
      "text/plain": "             datetime  season  holiday  workingday  weather  temp   atemp  \\\n0 2011-01-01 00:00:00       1        0           0        1  9.84  14.395   \n1 2011-01-01 01:00:00       1        0           0        1  9.02  13.635   \n2 2011-01-01 02:00:00       1        0           0        1  9.02  13.635   \n3 2011-01-01 03:00:00       1        0           0        1  9.84  14.395   \n4 2011-01-01 04:00:00       1        0           0        1  9.84  14.395   \n\n   humidity  windspeed  casual  registered  count  \n0        81        0.0       3          13     16  \n1        80        0.0       8          32     40  \n2        80        0.0       5          27     32  \n3        75        0.0       3          10     13  \n4        75        0.0       0           1      1  ",
      "text/html": "<div>\n<style scoped>\n    .dataframe tbody tr th:only-of-type {\n        vertical-align: middle;\n    }\n\n    .dataframe tbody tr th {\n        vertical-align: top;\n    }\n\n    .dataframe thead th {\n        text-align: right;\n    }\n</style>\n<table border=\"1\" class=\"dataframe\">\n  <thead>\n    <tr style=\"text-align: right;\">\n      <th></th>\n      <th>datetime</th>\n      <th>season</th>\n      <th>holiday</th>\n      <th>workingday</th>\n      <th>weather</th>\n      <th>temp</th>\n      <th>atemp</th>\n      <th>humidity</th>\n      <th>windspeed</th>\n      <th>casual</th>\n      <th>registered</th>\n      <th>count</th>\n    </tr>\n  </thead>\n  <tbody>\n    <tr>\n      <th>0</th>\n      <td>2011-01-01 00:00:00</td>\n      <td>1</td>\n      <td>0</td>\n      <td>0</td>\n      <td>1</td>\n      <td>9.84</td>\n      <td>14.395</td>\n      <td>81</td>\n      <td>0.0</td>\n      <td>3</td>\n      <td>13</td>\n      <td>16</td>\n    </tr>\n    <tr>\n      <th>1</th>\n      <td>2011-01-01 01:00:00</td>\n      <td>1</td>\n      <td>0</td>\n      <td>0</td>\n      <td>1</td>\n      <td>9.02</td>\n      <td>13.635</td>\n      <td>80</td>\n      <td>0.0</td>\n      <td>8</td>\n      <td>32</td>\n      <td>40</td>\n    </tr>\n    <tr>\n      <th>2</th>\n      <td>2011-01-01 02:00:00</td>\n      <td>1</td>\n      <td>0</td>\n      <td>0</td>\n      <td>1</td>\n      <td>9.02</td>\n      <td>13.635</td>\n      <td>80</td>\n      <td>0.0</td>\n      <td>5</td>\n      <td>27</td>\n      <td>32</td>\n    </tr>\n    <tr>\n      <th>3</th>\n      <td>2011-01-01 03:00:00</td>\n      <td>1</td>\n      <td>0</td>\n      <td>0</td>\n      <td>1</td>\n      <td>9.84</td>\n      <td>14.395</td>\n      <td>75</td>\n      <td>0.0</td>\n      <td>3</td>\n      <td>10</td>\n      <td>13</td>\n    </tr>\n    <tr>\n      <th>4</th>\n      <td>2011-01-01 04:00:00</td>\n      <td>1</td>\n      <td>0</td>\n      <td>0</td>\n      <td>1</td>\n      <td>9.84</td>\n      <td>14.395</td>\n      <td>75</td>\n      <td>0.0</td>\n      <td>0</td>\n      <td>1</td>\n      <td>1</td>\n    </tr>\n  </tbody>\n</table>\n</div>"
     },
     "execution_count": 4,
     "metadata": {},
     "output_type": "execute_result"
    }
   ],
   "source": [
    "raw_data.head()"
   ],
   "metadata": {
    "collapsed": false,
    "pycharm": {
     "name": "#%%\n"
    }
   }
  },
  {
   "cell_type": "code",
   "execution_count": 5,
   "outputs": [
    {
     "name": "stdout",
     "output_type": "stream",
     "text": [
      "NULL status: False\n",
      "<class 'pandas.core.frame.DataFrame'>\n",
      "RangeIndex: 10886 entries, 0 to 10885\n",
      "Data columns (total 12 columns):\n",
      " #   Column      Non-Null Count  Dtype         \n",
      "---  ------      --------------  -----         \n",
      " 0   datetime    10886 non-null  datetime64[ns]\n",
      " 1   season      10886 non-null  int64         \n",
      " 2   holiday     10886 non-null  int64         \n",
      " 3   workingday  10886 non-null  int64         \n",
      " 4   weather     10886 non-null  int64         \n",
      " 5   temp        10886 non-null  float64       \n",
      " 6   atemp       10886 non-null  float64       \n",
      " 7   humidity    10886 non-null  int64         \n",
      " 8   windspeed   10886 non-null  float64       \n",
      " 9   casual      10886 non-null  int64         \n",
      " 10  registered  10886 non-null  int64         \n",
      " 11  count       10886 non-null  int64         \n",
      "dtypes: datetime64[ns](1), float64(3), int64(8)\n",
      "memory usage: 1020.7 KB\n"
     ]
    }
   ],
   "source": [
    "print('NULL status:', raw_data.isnull().values.any())\n",
    "raw_data.info()"
   ],
   "metadata": {
    "collapsed": false,
    "pycharm": {
     "name": "#%%\n"
    }
   }
  },
  {
   "cell_type": "markdown",
   "source": [
    "#### Добавление признака месяца и времени"
   ],
   "metadata": {
    "collapsed": false
   }
  },
  {
   "cell_type": "code",
   "execution_count": 6,
   "outputs": [],
   "source": [
    "raw_data['month'] = raw_data.datetime.apply(lambda x: x.month)\n",
    "raw_data['hour'] = raw_data.datetime.apply(lambda x: x.hour)"
   ],
   "metadata": {
    "collapsed": false,
    "pycharm": {
     "name": "#%%\n"
    }
   }
  },
  {
   "cell_type": "markdown",
   "source": [
    "#### Обчуение и тест"
   ],
   "metadata": {
    "collapsed": false
   }
  },
  {
   "cell_type": "code",
   "execution_count": 7,
   "outputs": [],
   "source": [
    "train_data = raw_data.iloc[:-1000, :]\n",
    "test_data = raw_data.iloc[-1000:, :]"
   ],
   "metadata": {
    "collapsed": false,
    "pycharm": {
     "name": "#%%\n"
    }
   }
  },
  {
   "cell_type": "code",
   "execution_count": 8,
   "outputs": [],
   "source": [
    "class MyExc(Exception):\n",
    "    def __init__(self, string):\n",
    "        print('У нас возникла проблема с :')\n",
    "        print(string)\n",
    "        a = input('Введите F чтобы продолжить выполнение')\n",
    "        if a == 'F':\n",
    "            pass\n",
    "        else:\n",
    "            sys.exit()\n",
    "\n",
    "try:\n",
    "    if list(train_data.shape)[0]+list(test_data.shape)[0] != list(raw_data.shape)[0]:\n",
    "        raise MyExc(\"Размер суммы теста и обучения не совпадает с исходным размером выборки\")\n",
    "except MyExc:\n",
    "    pass\n",
    "\n"
   ],
   "metadata": {
    "collapsed": false,
    "pycharm": {
     "name": "#%%\n"
    }
   }
  },
  {
   "cell_type": "code",
   "execution_count": 9,
   "outputs": [
    {
     "name": "stdout",
     "output_type": "stream",
     "text": [
      "Train Period\n",
      "train period form 2011-01-01 00:00:00 to 2012-10-16 06:00:00\n",
      "test period from 2012-10-16 07:00:00 to 2012-12-19 23:00:00\n"
     ]
    }
   ],
   "source": [
    "print('Train Period')\n",
    "print('train period form {} to {}'.format(train_data.datetime.min(), train_data.datetime.max()))\n",
    "print('test period from {} to {}'.format(test_data.datetime.min(), test_data.datetime.max()))"
   ],
   "metadata": {
    "collapsed": false,
    "pycharm": {
     "name": "#%%\n"
    }
   }
  },
  {
   "cell_type": "markdown",
   "source": [
    "#### Данные и целевая метка"
   ],
   "metadata": {
    "collapsed": false
   }
  },
  {
   "cell_type": "code",
   "execution_count": 10,
   "outputs": [],
   "source": [
    "train_labels = train_data['count'].values\n",
    "train_information = train_data.drop(['count','datetime'], axis=1)"
   ],
   "metadata": {
    "collapsed": false,
    "pycharm": {
     "name": "#%%\n"
    }
   }
  },
  {
   "cell_type": "code",
   "execution_count": 11,
   "outputs": [],
   "source": [
    "test_labels = test_data['count'].values\n",
    "test_information = test_data.drop(['count', 'datetime'], axis=1)\n",
    "### Уберем лишние признаки\n",
    "train_information.drop(['casual', 'registered'], axis=1, inplace=True)\n",
    "test_information.drop(['casual', 'registered'], axis=1, inplace=True)"
   ],
   "metadata": {
    "collapsed": false,
    "pycharm": {
     "name": "#%%\n"
    }
   }
  },
  {
   "cell_type": "code",
   "execution_count": 12,
   "outputs": [
    {
     "data": {
      "text/plain": "Text(0.5, 1.0, 'Test Labels')"
     },
     "execution_count": 12,
     "metadata": {},
     "output_type": "execute_result"
    },
    {
     "data": {
      "text/plain": "<Figure size 720x360 with 2 Axes>",
      "image/png": "[encoded data removed]"
     },
     "metadata": {
      "needs_background": "light"
     },
     "output_type": "display_data"
    }
   ],
   "source": [
    "plt.figure(figsize=(10,5))\n",
    "plt.subplot(1,2,1)\n",
    "plt.hist(train_labels, bins=10)\n",
    "plt.title('Train Labels')\n",
    "plt.subplot(1,2,2)\n",
    "plt.hist(test_labels)\n",
    "plt.title('Test Labels')"
   ],
   "metadata": {
    "collapsed": false,
    "pycharm": {
     "name": "#%%\n"
    }
   }
  },
  {
   "cell_type": "code",
   "execution_count": 13,
   "outputs": [],
   "source": [
    "# Бинарные признаки\n",
    "binary_data_columns = ['holiday', 'workingday']\n",
    "def includes_array(data, index):\n",
    "    return list([(column in index) for column in data.columns])\n",
    "\n",
    "binary_data_indices = np.array(includes_array(train_information, binary_data_columns))"
   ],
   "metadata": {
    "collapsed": false,
    "pycharm": {
     "name": "#%%\n"
    }
   }
  },
  {
   "cell_type": "code",
   "execution_count": 14,
   "outputs": [],
   "source": [
    "# Категориальные признаки\n",
    "categorial_data_columns = ['season', 'weather', 'month']\n",
    "categorial_data_indices = np.array(includes_array(train_information, categorial_data_columns))\n"
   ],
   "metadata": {
    "collapsed": false,
    "pycharm": {
     "name": "#%%\n"
    }
   }
  },
  {
   "cell_type": "code",
   "execution_count": 15,
   "outputs": [
    {
     "name": "stdout",
     "output_type": "stream",
     "text": [
      "[False  True  True False False False False False False False]\n",
      "[ True False False  True False False False False  True False]\n",
      "[False False False False  True  True  True  True False  True]\n"
     ]
    }
   ],
   "source": [
    "# Числовые признаки\n",
    "numeric_data_columns = ['temp', 'atemp', 'humidity', 'windspeed', 'hour']\n",
    "numeric_data_indices = np.array(includes_array(train_information, numeric_data_columns))\n",
    "\n",
    "print(binary_data_indices)\n",
    "print(categorial_data_indices)\n",
    "print(numeric_data_indices)"
   ],
   "metadata": {
    "collapsed": false,
    "pycharm": {
     "name": "#%%\n"
    }
   }
  },
  {
   "cell_type": "markdown",
   "source": [
    "#### Сборка Pipeline"
   ],
   "metadata": {
    "collapsed": false
   }
  },
  {
   "cell_type": "code",
   "execution_count": 16,
   "outputs": [],
   "source": [
    "from sklearn import pipeline\n",
    "from sklearn import preprocessing\n",
    "regressor = linear_model.SGDRegressor(random_state=0, max_iter=3, loss='squared_loss', penalty='l2')\n",
    "\n",
    "estimator = pipeline.Pipeline(steps=[\n",
    "    ('feature_processing', pipeline.FeatureUnion(transformer_list=[\n",
    "        #binary\n",
    "        ('binary_variables_processing', preprocessing.FunctionTransformer(lambda data: data.iloc[:, binary_data_indices])),\n",
    "        #numeric\n",
    "        ('numeric_variables_processing', pipeline.Pipeline(steps=[\n",
    "            ('selecting', preprocessing.FunctionTransformer(lambda data: data.iloc[:, numeric_data_indices])),\n",
    "            ('scaling', preprocessing.StandardScaler(with_mean=0.)),\n",
    "            ])),\n",
    "        #categorial\n",
    "        ('categorial_variables_processing', pipeline.Pipeline(steps=[\n",
    "            ('selecting', preprocessing.FunctionTransformer(lambda data: data.iloc[:, categorial_data_indices])),\n",
    "            ('hot_encoding', preprocessing.OneHotEncoder(handle_unknown='ignore')),\n",
    "            ])),\n",
    "        ])),\n",
    "    ('model_fitting', regressor),\n",
    "    ]\n",
    ")"
   ],
   "metadata": {
    "collapsed": false,
    "pycharm": {
     "name": "#%%\n"
    }
   }
  },
  {
   "cell_type": "code",
   "execution_count": 32,
   "outputs": [
    {
     "name": "stdout",
     "output_type": "stream",
     "text": [
      "[ True False False  True False False False False  True False]\n"
     ]
    }
   ],
   "source": [
    "print(categorial_data_indices)\n",
    "#estimator.fit(train_information, train_labels)"
   ],
   "metadata": {
    "collapsed": false,
    "pycharm": {
     "name": "#%%\n"
    }
   }
  },
  {
   "cell_type": "code",
   "execution_count": 18,
   "outputs": [
    {
     "data": {
      "text/plain": "120.17177172806858"
     },
     "execution_count": 18,
     "metadata": {},
     "output_type": "execute_result"
    }
   ],
   "source": [
    "metrics.mean_absolute_error(test_labels, estimator.predict(test_information))"
   ],
   "metadata": {
    "collapsed": false,
    "pycharm": {
     "name": "#%%\n"
    }
   }
  },
  {
   "cell_type": "markdown",
   "source": [
    "#### Подбор параметров"
   ],
   "metadata": {
    "collapsed": false
   }
  },
  {
   "cell_type": "code",
   "execution_count": 19,
   "outputs": [
    {
     "name": "stdout",
     "output_type": "stream",
     "text": [
      "memory\n",
      "steps\n",
      "verbose\n",
      "feature_processing\n",
      "model_fitting\n",
      "feature_processing__n_jobs\n",
      "feature_processing__transformer_list\n",
      "feature_processing__transformer_weights\n",
      "feature_processing__verbose\n",
      "feature_processing__binary_variables_processing\n",
      "feature_processing__numeric_variables_processing\n",
      "feature_processing__categorial_variables_processing\n",
      "feature_processing__binary_variables_processing__accept_sparse\n",
      "feature_processing__binary_variables_processing__check_inverse\n",
      "feature_processing__binary_variables_processing__func\n",
      "feature_processing__binary_variables_processing__inv_kw_args\n",
      "feature_processing__binary_variables_processing__inverse_func\n",
      "feature_processing__binary_variables_processing__kw_args\n",
      "feature_processing__binary_variables_processing__validate\n",
      "feature_processing__numeric_variables_processing__memory\n",
      "feature_processing__numeric_variables_processing__steps\n",
      "feature_processing__numeric_variables_processing__verbose\n",
      "feature_processing__numeric_variables_processing__selecting\n",
      "feature_processing__numeric_variables_processing__scaling\n",
      "feature_processing__numeric_variables_processing__selecting__accept_sparse\n",
      "feature_processing__numeric_variables_processing__selecting__check_inverse\n",
      "feature_processing__numeric_variables_processing__selecting__func\n",
      "feature_processing__numeric_variables_processing__selecting__inv_kw_args\n",
      "feature_processing__numeric_variables_processing__selecting__inverse_func\n",
      "feature_processing__numeric_variables_processing__selecting__kw_args\n",
      "feature_processing__numeric_variables_processing__selecting__validate\n",
      "feature_processing__numeric_variables_processing__scaling__copy\n",
      "feature_processing__numeric_variables_processing__scaling__with_mean\n",
      "feature_processing__numeric_variables_processing__scaling__with_std\n",
      "feature_processing__categorial_variables_processing__memory\n",
      "feature_processing__categorial_variables_processing__steps\n",
      "feature_processing__categorial_variables_processing__verbose\n",
      "feature_processing__categorial_variables_processing__selecting\n",
      "feature_processing__categorial_variables_processing__hot_encoding\n",
      "feature_processing__categorial_variables_processing__selecting__accept_sparse\n",
      "feature_processing__categorial_variables_processing__selecting__check_inverse\n",
      "feature_processing__categorial_variables_processing__selecting__func\n",
      "feature_processing__categorial_variables_processing__selecting__inv_kw_args\n",
      "feature_processing__categorial_variables_processing__selecting__inverse_func\n",
      "feature_processing__categorial_variables_processing__selecting__kw_args\n",
      "feature_processing__categorial_variables_processing__selecting__validate\n",
      "feature_processing__categorial_variables_processing__hot_encoding__categories\n",
      "feature_processing__categorial_variables_processing__hot_encoding__drop\n",
      "feature_processing__categorial_variables_processing__hot_encoding__dtype\n",
      "feature_processing__categorial_variables_processing__hot_encoding__handle_unknown\n",
      "feature_processing__categorial_variables_processing__hot_encoding__sparse\n",
      "model_fitting__alpha\n",
      "model_fitting__average\n",
      "model_fitting__early_stopping\n",
      "model_fitting__epsilon\n",
      "model_fitting__eta0\n",
      "model_fitting__fit_intercept\n",
      "model_fitting__l1_ratio\n",
      "model_fitting__learning_rate\n",
      "model_fitting__loss\n",
      "model_fitting__max_iter\n",
      "model_fitting__n_iter_no_change\n",
      "model_fitting__penalty\n",
      "model_fitting__power_t\n",
      "model_fitting__random_state\n",
      "model_fitting__shuffle\n",
      "model_fitting__tol\n",
      "model_fitting__validation_fraction\n",
      "model_fitting__verbose\n",
      "model_fitting__warm_start\n"
     ]
    }
   ],
   "source": [
    "for _ in estimator.get_params().keys():\n",
    "    print(_)"
   ],
   "metadata": {
    "collapsed": false,
    "pycharm": {
     "name": "#%%\n"
    }
   }
  },
  {
   "cell_type": "code",
   "execution_count": 20,
   "outputs": [
    {
     "name": "stderr",
     "output_type": "stream",
     "text": [
      "/Users/molozey/PycharmProjects/Coursera_Machine_2/venv/lib/python3.9/site-packages/sklearn/linear_model/_stochastic_gradient.py:1220: ConvergenceWarning: Maximum number of iteration reached before convergence. Consider increasing max_iter to improve the fit.\n",
      "  warnings.warn(\"Maximum number of iteration reached before \"\n",
      "/Users/molozey/PycharmProjects/Coursera_Machine_2/venv/lib/python3.9/site-packages/sklearn/linear_model/_stochastic_gradient.py:1220: ConvergenceWarning: Maximum number of iteration reached before convergence. Consider increasing max_iter to improve the fit.\n",
      "  warnings.warn(\"Maximum number of iteration reached before \"\n",
      "/Users/molozey/PycharmProjects/Coursera_Machine_2/venv/lib/python3.9/site-packages/sklearn/linear_model/_stochastic_gradient.py:1220: ConvergenceWarning: Maximum number of iteration reached before convergence. Consider increasing max_iter to improve the fit.\n",
      "  warnings.warn(\"Maximum number of iteration reached before \"\n",
      "/Users/molozey/PycharmProjects/Coursera_Machine_2/venv/lib/python3.9/site-packages/sklearn/linear_model/_stochastic_gradient.py:1220: ConvergenceWarning: Maximum number of iteration reached before convergence. Consider increasing max_iter to improve the fit.\n",
      "  warnings.warn(\"Maximum number of iteration reached before \"\n",
      "/Users/molozey/PycharmProjects/Coursera_Machine_2/venv/lib/python3.9/site-packages/sklearn/linear_model/_stochastic_gradient.py:1220: ConvergenceWarning: Maximum number of iteration reached before convergence. Consider increasing max_iter to improve the fit.\n",
      "  warnings.warn(\"Maximum number of iteration reached before \"\n",
      "/Users/molozey/PycharmProjects/Coursera_Machine_2/venv/lib/python3.9/site-packages/sklearn/linear_model/_stochastic_gradient.py:1220: ConvergenceWarning: Maximum number of iteration reached before convergence. Consider increasing max_iter to improve the fit.\n",
      "  warnings.warn(\"Maximum number of iteration reached before \"\n",
      "/Users/molozey/PycharmProjects/Coursera_Machine_2/venv/lib/python3.9/site-packages/sklearn/linear_model/_stochastic_gradient.py:1220: ConvergenceWarning: Maximum number of iteration reached before convergence. Consider increasing max_iter to improve the fit.\n",
      "  warnings.warn(\"Maximum number of iteration reached before \"\n",
      "/Users/molozey/PycharmProjects/Coursera_Machine_2/venv/lib/python3.9/site-packages/sklearn/linear_model/_stochastic_gradient.py:1220: ConvergenceWarning: Maximum number of iteration reached before convergence. Consider increasing max_iter to improve the fit.\n",
      "  warnings.warn(\"Maximum number of iteration reached before \"\n",
      "/Users/molozey/PycharmProjects/Coursera_Machine_2/venv/lib/python3.9/site-packages/sklearn/linear_model/_stochastic_gradient.py:1220: ConvergenceWarning: Maximum number of iteration reached before convergence. Consider increasing max_iter to improve the fit.\n",
      "  warnings.warn(\"Maximum number of iteration reached before \"\n",
      "/Users/molozey/PycharmProjects/Coursera_Machine_2/venv/lib/python3.9/site-packages/sklearn/linear_model/_stochastic_gradient.py:1220: ConvergenceWarning: Maximum number of iteration reached before convergence. Consider increasing max_iter to improve the fit.\n",
      "  warnings.warn(\"Maximum number of iteration reached before \"\n",
      "/Users/molozey/PycharmProjects/Coursera_Machine_2/venv/lib/python3.9/site-packages/sklearn/linear_model/_stochastic_gradient.py:1220: ConvergenceWarning: Maximum number of iteration reached before convergence. Consider increasing max_iter to improve the fit.\n",
      "  warnings.warn(\"Maximum number of iteration reached before \"\n",
      "/Users/molozey/PycharmProjects/Coursera_Machine_2/venv/lib/python3.9/site-packages/sklearn/linear_model/_stochastic_gradient.py:1220: ConvergenceWarning: Maximum number of iteration reached before convergence. Consider increasing max_iter to improve the fit.\n",
      "  warnings.warn(\"Maximum number of iteration reached before \"\n",
      "/Users/molozey/PycharmProjects/Coursera_Machine_2/venv/lib/python3.9/site-packages/sklearn/linear_model/_stochastic_gradient.py:1220: ConvergenceWarning: Maximum number of iteration reached before convergence. Consider increasing max_iter to improve the fit.\n",
      "  warnings.warn(\"Maximum number of iteration reached before \"\n",
      "/Users/molozey/PycharmProjects/Coursera_Machine_2/venv/lib/python3.9/site-packages/sklearn/linear_model/_stochastic_gradient.py:1220: ConvergenceWarning: Maximum number of iteration reached before convergence. Consider increasing max_iter to improve the fit.\n",
      "  warnings.warn(\"Maximum number of iteration reached before \"\n",
      "/Users/molozey/PycharmProjects/Coursera_Machine_2/venv/lib/python3.9/site-packages/sklearn/linear_model/_stochastic_gradient.py:1220: ConvergenceWarning: Maximum number of iteration reached before convergence. Consider increasing max_iter to improve the fit.\n",
      "  warnings.warn(\"Maximum number of iteration reached before \"\n",
      "/Users/molozey/PycharmProjects/Coursera_Machine_2/venv/lib/python3.9/site-packages/sklearn/linear_model/_stochastic_gradient.py:1220: ConvergenceWarning: Maximum number of iteration reached before convergence. Consider increasing max_iter to improve the fit.\n",
      "  warnings.warn(\"Maximum number of iteration reached before \"\n",
      "/Users/molozey/PycharmProjects/Coursera_Machine_2/venv/lib/python3.9/site-packages/sklearn/linear_model/_stochastic_gradient.py:1220: ConvergenceWarning: Maximum number of iteration reached before convergence. Consider increasing max_iter to improve the fit.\n",
      "  warnings.warn(\"Maximum number of iteration reached before \"\n",
      "/Users/molozey/PycharmProjects/Coursera_Machine_2/venv/lib/python3.9/site-packages/sklearn/linear_model/_stochastic_gradient.py:1220: ConvergenceWarning: Maximum number of iteration reached before convergence. Consider increasing max_iter to improve the fit.\n",
      "  warnings.warn(\"Maximum number of iteration reached before \"\n",
      "/Users/molozey/PycharmProjects/Coursera_Machine_2/venv/lib/python3.9/site-packages/sklearn/linear_model/_stochastic_gradient.py:1220: ConvergenceWarning: Maximum number of iteration reached before convergence. Consider increasing max_iter to improve the fit.\n",
      "  warnings.warn(\"Maximum number of iteration reached before \"\n",
      "/Users/molozey/PycharmProjects/Coursera_Machine_2/venv/lib/python3.9/site-packages/sklearn/linear_model/_stochastic_gradient.py:1220: ConvergenceWarning: Maximum number of iteration reached before convergence. Consider increasing max_iter to improve the fit.\n",
      "  warnings.warn(\"Maximum number of iteration reached before \"\n",
      "/Users/molozey/PycharmProjects/Coursera_Machine_2/venv/lib/python3.9/site-packages/sklearn/linear_model/_stochastic_gradient.py:1220: ConvergenceWarning: Maximum number of iteration reached before convergence. Consider increasing max_iter to improve the fit.\n",
      "  warnings.warn(\"Maximum number of iteration reached before \"\n",
      "/Users/molozey/PycharmProjects/Coursera_Machine_2/venv/lib/python3.9/site-packages/sklearn/linear_model/_stochastic_gradient.py:1220: ConvergenceWarning: Maximum number of iteration reached before convergence. Consider increasing max_iter to improve the fit.\n",
      "  warnings.warn(\"Maximum number of iteration reached before \"\n",
      "/Users/molozey/PycharmProjects/Coursera_Machine_2/venv/lib/python3.9/site-packages/sklearn/linear_model/_stochastic_gradient.py:1220: ConvergenceWarning: Maximum number of iteration reached before convergence. Consider increasing max_iter to improve the fit.\n",
      "  warnings.warn(\"Maximum number of iteration reached before \"\n",
      "/Users/molozey/PycharmProjects/Coursera_Machine_2/venv/lib/python3.9/site-packages/sklearn/linear_model/_stochastic_gradient.py:1220: ConvergenceWarning: Maximum number of iteration reached before convergence. Consider increasing max_iter to improve the fit.\n",
      "  warnings.warn(\"Maximum number of iteration reached before \"\n",
      "/Users/molozey/PycharmProjects/Coursera_Machine_2/venv/lib/python3.9/site-packages/sklearn/linear_model/_stochastic_gradient.py:1220: ConvergenceWarning: Maximum number of iteration reached before convergence. Consider increasing max_iter to improve the fit.\n",
      "  warnings.warn(\"Maximum number of iteration reached before \"\n"
     ]
    },
    {
     "data": {
      "text/plain": "GridSearchCV(cv=4,\n             estimator=Pipeline(steps=[('feature_processing',\n                                        FeatureUnion(transformer_list=[('binary_variables_processing',\n                                                                        FunctionTransformer(func=<function <lambda> at 0x124305670>)),\n                                                                       ('numeric_variables_processing',\n                                                                        Pipeline(steps=[('selecting',\n                                                                                         FunctionTransformer(func=<function <lambda> at 0x124305550>)),\n                                                                                        ('scaling',\n                                                                                         StandardScaler(with_mean=0.0))])),\n                                                                       ('categorial_variables_processing',\n                                                                        Pipeline(steps=[('selecting',\n                                                                                         FunctionTransformer(func=<function <lambda> at 0x12431e940>)),\n                                                                                        ('hot_encoding',\n                                                                                         OneHotEncoder(handle_unknown='ignore'))]))])),\n                                       ('model_fitting',\n                                        SGDRegressor(max_iter=3,\n                                                     random_state=0))]),\n             param_grid={'model_fitting__alpha': [0.0001, 0.001, 0.1],\n                         'model_fitting__eta0': [0.001, 0.05]},\n             scoring=make_scorer(mean_absolute_error))"
     },
     "execution_count": 20,
     "metadata": {},
     "output_type": "execute_result"
    }
   ],
   "source": [
    "params_grid = {\n",
    "    'model_fitting__eta0' : [0.001, 0.05],\n",
    "    'model_fitting__alpha' : [0.0001, 0.001, 0.1],\n",
    "}\n",
    "scorer = metrics.make_scorer(score_func=metrics.mean_absolute_error)\n",
    "grid_cv = model_selection.GridSearchCV(estimator, params_grid, scoring=scorer,\n",
    "cv=4)\n",
    "grid_cv.fit(train_information, train_labels)"
   ],
   "metadata": {
    "collapsed": false,
    "pycharm": {
     "name": "#%%\n"
    }
   }
  },
  {
   "cell_type": "code",
   "execution_count": 21,
   "outputs": [
    {
     "data": {
      "text/plain": "111.87846716526332"
     },
     "execution_count": 21,
     "metadata": {},
     "output_type": "execute_result"
    }
   ],
   "source": [
    "grid_cv.best_estimator_\n",
    "grid_cv.best_score_"
   ],
   "metadata": {
    "collapsed": false,
    "pycharm": {
     "name": "#%%\n"
    }
   }
  },
  {
   "cell_type": "code",
   "execution_count": 22,
   "outputs": [
    {
     "data": {
      "text/plain": "122.998863816993"
     },
     "execution_count": 22,
     "metadata": {},
     "output_type": "execute_result"
    }
   ],
   "source": [
    "metrics.mean_absolute_error(test_labels, grid_cv.best_estimator_.predict(test_information))"
   ],
   "metadata": {
    "collapsed": false,
    "pycharm": {
     "name": "#%%\n"
    }
   }
  },
  {
   "cell_type": "markdown",
   "source": [
    "#### Затравка на случайный лес"
   ],
   "metadata": {
    "collapsed": false,
    "pycharm": {
     "name": "#%% md\n"
    }
   }
  },
  {
   "cell_type": "code",
   "execution_count": 23,
   "outputs": [],
   "source": [
    "from sklearn.ensemble import RandomForestRegressor"
   ],
   "metadata": {
    "collapsed": false,
    "pycharm": {
     "name": "#%%\n"
    }
   }
  },
  {
   "cell_type": "code",
   "execution_count": 24,
   "outputs": [],
   "source": [
    "regressor = RandomForestRegressor(random_state=0, max_depth=20, n_estimators=20)"
   ],
   "metadata": {
    "collapsed": false,
    "pycharm": {
     "name": "#%%\n"
    }
   }
  },
  {
   "cell_type": "code",
   "execution_count": 25,
   "outputs": [],
   "source": [
    "estimator = pipeline.Pipeline(steps=[\n",
    "    ('feature_processing', pipeline.FeatureUnion(transformer_list=[\n",
    "        #binary\n",
    "        ('binary_values_process', preprocessing.FunctionTransformer(lambda data: data.iloc[:, binary_data_indices])),\n",
    "        #categorial\n",
    "        ('categorial_values_process', pipeline.Pipeline(steps=[\n",
    "            ('selection', preprocessing.FunctionTransformer(lambda data: data.iloc[:, categorial_data_indices])),\n",
    "            ('hot_encoding', preprocessing.OneHotEncoder(handle_unknown='ignore')),\n",
    "                ])),\n",
    "        #numbers\n",
    "        ('num_value_process', pipeline.Pipeline(steps=[\n",
    "            ('selection', preprocessing.FunctionTransformer(lambda data: data.iloc[:, numeric_data_indices])),\n",
    "            ('scaling', preprocessing.StandardScaler(with_mean=0., with_std=1.)),\n",
    "                ])),\n",
    "    ])),\n",
    "    ('model_fitting', regressor),\n",
    "])"
   ],
   "metadata": {
    "collapsed": false,
    "pycharm": {
     "name": "#%%\n"
    }
   }
  },
  {
   "cell_type": "code",
   "execution_count": 26,
   "outputs": [
    {
     "data": {
      "text/plain": "Pipeline(steps=[('feature_processing',\n                 FeatureUnion(transformer_list=[('binary_values_process',\n                                                 FunctionTransformer(func=<function <lambda> at 0x124140940>)),\n                                                ('categorial_values_process',\n                                                 Pipeline(steps=[('selection',\n                                                                  FunctionTransformer(func=<function <lambda> at 0x124140af0>)),\n                                                                 ('hot_encoding',\n                                                                  OneHotEncoder(handle_unknown='ignore'))])),\n                                                ('num_value_process',\n                                                 Pipeline(steps=[('selection',\n                                                                  FunctionTransformer(func=<function <lambda> at 0x124140ca0>)),\n                                                                 ('scaling',\n                                                                  StandardScaler(with_mean=0.0,\n                                                                                 with_std=1.0))]))])),\n                ('model_fitting',\n                 RandomForestRegressor(max_depth=20, n_estimators=20,\n                                       random_state=0))])"
     },
     "execution_count": 26,
     "metadata": {},
     "output_type": "execute_result"
    }
   ],
   "source": [
    "estimator.fit(train_information, train_labels)"
   ],
   "metadata": {
    "collapsed": false,
    "pycharm": {
     "name": "#%%\n"
    }
   }
  },
  {
   "cell_type": "code",
   "execution_count": 27,
   "outputs": [
    {
     "data": {
      "text/plain": "79.03952916983812"
     },
     "execution_count": 27,
     "metadata": {},
     "output_type": "execute_result"
    }
   ],
   "source": [
    "metrics.mean_absolute_error(test_labels, estimator.predict(test_information))"
   ],
   "metadata": {
    "collapsed": false,
    "pycharm": {
     "name": "#%%\n"
    }
   }
  },
  {
   "cell_type": "code",
   "execution_count": 28,
   "outputs": [
    {
     "data": {
      "text/plain": "array([525, 835, 355, 222, 228, 325, 328, 308, 346, 446])"
     },
     "execution_count": 28,
     "metadata": {},
     "output_type": "execute_result"
    }
   ],
   "source": [
    "test_labels[:10]"
   ],
   "metadata": {
    "collapsed": false,
    "pycharm": {
     "name": "#%%\n"
    }
   }
  },
  {
   "cell_type": "code",
   "execution_count": 29,
   "outputs": [
    {
     "data": {
      "text/plain": "array([410.5125    , 450.55      , 246.04      , 166.16803571,\n       212.68011905, 235.46529729, 227.41005919, 305.99032615,\n       273.35807507, 409.725     ])"
     },
     "execution_count": 29,
     "metadata": {},
     "output_type": "execute_result"
    }
   ],
   "source": [
    "estimator.predict(test_information)[:10]"
   ],
   "metadata": {
    "collapsed": false,
    "pycharm": {
     "name": "#%%\n"
    }
   }
  },
  {
   "cell_type": "code",
   "execution_count": 30,
   "outputs": [
    {
     "data": {
      "text/plain": "<matplotlib.collections.PathCollection at 0x1249a1e80>"
     },
     "execution_count": 30,
     "metadata": {},
     "output_type": "execute_result"
    },
    {
     "data": {
      "text/plain": "<Figure size 432x288 with 1 Axes>",
      "image/png": "[encoded data removed]"
     },
     "metadata": {
      "needs_background": "light"
     },
     "output_type": "display_data"
    }
   ],
   "source": [
    "plt.scatter(train_labels,estimator.predict(train_information), color = 'blue')\n",
    "plt.scatter(test_labels, estimator.predict(test_information), color='red')"
   ],
   "metadata": {
    "collapsed": false,
    "pycharm": {
     "name": "#%%\n"
    }
   }
  }
 ],
 "metadata": {
  "kernelspec": {
   "display_name": "Python 3",
   "language": "python",
   "name": "python3"
  },
  "language_info": {
   "codemirror_mode": {
    "name": "ipython",
    "version": 2
   },
   "file_extension": ".py",
   "mimetype": "text/x-python",
   "name": "python",
   "nbconvert_exporter": "python",
   "pygments_lexer": "ipython2",
   "version": "2.7.6"
  }
 },
 "nbformat": 4,
 "nbformat_minor": 0
}