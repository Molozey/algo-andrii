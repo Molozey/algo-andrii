{
 "cells": [
  {
   "cell_type": "code",
   "execution_count": 35,
   "metadata": {
    "collapsed": true,
    "pycharm": {
     "name": "#%%\n"
    }
   },
   "outputs": [],
   "source": [
    "from sklearn import datasets, model_selection, linear_model, metrics\n",
    "from matplotlib.colors import ListedColormap\n",
    "from matplotlib import pylab\n",
    "from numpy import sqrt"
   ]
  },
  {
   "cell_type": "markdown",
   "source": [
    "## Generation datasets"
   ],
   "metadata": {
    "collapsed": false
   }
  },
  {
   "cell_type": "code",
   "execution_count": 2,
   "outputs": [],
   "source": [
    "clf_data, clf_target = datasets.make_classification(n_features=2, n_informative=2,\n",
    "                                                    n_classes=2, n_redundant=0,\n",
    "                                                    n_clusters_per_class=1, random_state=7)\n",
    "\n",
    "reg_data, reg_target = datasets.make_regression(n_features=2, n_informative=1,\n",
    "                                                    n_targets=1, noise=5., random_state=7)"
   ],
   "metadata": {
    "collapsed": false,
    "pycharm": {
     "name": "#%%\n"
    }
   }
  },
  {
   "cell_type": "code",
   "execution_count": 3,
   "outputs": [
    {
     "data": {
      "text/plain": "<matplotlib.collections.PathCollection at 0x1198fd790>"
     },
     "execution_count": 3,
     "metadata": {},
     "output_type": "execute_result"
    },
    {
     "data": {
      "text/plain": "<Figure size 432x288 with 1 Axes>",
      "image/png": "[encoded data removed]"
     },
     "metadata": {
      "needs_background": "light"
     },
     "output_type": "display_data"
    }
   ],
   "source": [
    "colors = ListedColormap(['red', 'blue'])\n",
    "pylab.scatter(list(map(lambda x: x[0], clf_data)), list(map(lambda x: x[1], clf_data)), c=clf_target, cmap=colors)"
   ],
   "metadata": {
    "collapsed": false,
    "pycharm": {
     "name": "#%%\n"
    }
   }
  },
  {
   "cell_type": "code",
   "execution_count": 4,
   "outputs": [
    {
     "data": {
      "text/plain": "<matplotlib.collections.PathCollection at 0x119959fa0>"
     },
     "execution_count": 4,
     "metadata": {},
     "output_type": "execute_result"
    },
    {
     "data": {
      "text/plain": "<Figure size 432x288 with 1 Axes>",
      "image/png": "[encoded data removed]"
     },
     "metadata": {
      "needs_background": "light"
     },
     "output_type": "display_data"
    }
   ],
   "source": [
    "pylab.scatter(list(map(lambda x: x[1], reg_data)), reg_target, color='red')\n",
    "pylab.scatter(list(map(lambda x: x[0], reg_data)), reg_target, color='blue')"
   ],
   "metadata": {
    "collapsed": false,
    "pycharm": {
     "name": "#%%\n"
    }
   }
  },
  {
   "cell_type": "code",
   "execution_count": 5,
   "outputs": [],
   "source": [
    "clf_train_data, clf_test_data, clf_train_target, clf_test_target = model_selection.train_test_split(clf_data, clf_target, test_size=.3, random_state=1)\n",
    "reg_train_data, reg_test_data, reg_train_target, reg_test_target = model_selection.train_test_split(reg_data, reg_target, test_size=.3, random_state=1)"
   ],
   "metadata": {
    "collapsed": false,
    "pycharm": {
     "name": "#%%\n"
    }
   }
  },
  {
   "cell_type": "markdown",
   "source": [
    "### Метрики качества в задаче классификации\n",
    "##### Обучаем модель"
   ],
   "metadata": {
    "collapsed": false
   }
  },
  {
   "cell_type": "code",
   "execution_count": 6,
   "outputs": [
    {
     "name": "stdout",
     "output_type": "stream",
     "text": [
      "REAL TEST TARGET:\n",
      "[1 0 0 1 0 1 1 0 1 0 0 0 1 1 0 0 1 0 0 1 0 0 0 0 0 0 1 1 1 0]\n",
      "PREDICT TEST TARGET:\n",
      "[1 0 0 1 0 1 1 0 1 0 0 1 1 1 0 0 1 0 0 1 0 0 0 0 0 0 0 1 1 0]\n",
      "POSSIBILITIES:\n",
      "[[0.00000000e+00 1.00000000e+00]\n",
      " [9.99999997e-01 2.90779994e-09]\n",
      " [9.99990982e-01 9.01818055e-06]\n",
      " [0.00000000e+00 1.00000000e+00]\n",
      " [1.00000000e+00 7.01333183e-14]\n",
      " [5.16838702e-07 9.99999483e-01]\n",
      " [6.66133815e-16 1.00000000e+00]\n",
      " [1.00000000e+00 6.21822808e-13]\n",
      " [0.00000000e+00 1.00000000e+00]\n",
      " [9.99999998e-01 2.30155106e-09]\n",
      " [9.99999697e-01 3.03286910e-07]\n",
      " [4.06373790e-03 9.95936262e-01]\n",
      " [0.00000000e+00 1.00000000e+00]\n",
      " [9.84496051e-09 9.99999990e-01]\n",
      " [1.00000000e+00 2.85780656e-10]\n",
      " [9.96681204e-01 3.31879568e-03]\n",
      " [0.00000000e+00 1.00000000e+00]\n",
      " [1.00000000e+00 6.58409203e-15]\n",
      " [1.00000000e+00 1.62031980e-14]\n",
      " [7.25799421e-11 1.00000000e+00]\n",
      " [9.99999999e-01 1.11892650e-09]\n",
      " [9.99999727e-01 2.73211585e-07]\n",
      " [8.97506031e-01 1.02493969e-01]\n",
      " [1.00000000e+00 1.48816090e-12]\n",
      " [9.99999504e-01 4.96472653e-07]\n",
      " [9.94751478e-01 5.24852191e-03]\n",
      " [5.83291617e-01 4.16708383e-01]\n",
      " [8.46989145e-12 1.00000000e+00]\n",
      " [3.20094202e-02 9.67990580e-01]\n",
      " [1.00000000e+00 2.85626467e-13]]\n"
     ]
    }
   ],
   "source": [
    "clf_class = linear_model.SGDClassifier(loss='log', random_state=1)\n",
    "clf_class.fit(clf_train_data, clf_train_target)\n",
    "predictions = clf_class.predict(clf_test_data)\n",
    "possibility = clf_class.predict_proba(clf_test_data)\n",
    "print('REAL TEST TARGET:')\n",
    "print(clf_test_target)\n",
    "print('PREDICT TEST TARGET:')\n",
    "print(predictions)\n",
    "print('POSSIBILITIES:')\n",
    "print(possibility)"
   ],
   "metadata": {
    "collapsed": false,
    "pycharm": {
     "name": "#%%\n"
    }
   }
  },
  {
   "cell_type": "markdown",
   "source": [
    "#### Самописная метрика accuracy"
   ],
   "metadata": {
    "collapsed": false
   }
  },
  {
   "cell_type": "code",
   "execution_count": 7,
   "outputs": [
    {
     "name": "stdout",
     "output_type": "stream",
     "text": [
      "0.9333333333333333\n",
      "0.9333333333333333\n"
     ]
    }
   ],
   "source": [
    "success = 0\n",
    "for pair in zip(predictions, clf_test_target):\n",
    "    if pair[0] == pair[1]:\n",
    "        success += 1\n",
    "accuracy = success / len(clf_test_target)\n",
    "print(accuracy)\n",
    "#А можно просто использовать готовую метрику\n",
    "print(metrics.accuracy_score(clf_test_target, predictions))"
   ],
   "metadata": {
    "collapsed": false,
    "pycharm": {
     "name": "#%%\n"
    }
   }
  },
  {
   "cell_type": "markdown",
   "source": [
    "### Матрица из теор вера\n",
    "T=True\n",
    "F=False\n",
    "Принадлежность к классам T - действительно принадлежит классу и так и определили\n",
    "F - не принадлежит классу или другая логика\n",
    "\n",
    "    1   2\n",
    "\n",
    "1   T   F\n",
    "\n",
    "2   F   T"
   ],
   "metadata": {
    "collapsed": false
   }
  },
  {
   "cell_type": "code",
   "execution_count": 8,
   "outputs": [
    {
     "name": "stdout",
     "output_type": "stream",
     "text": [
      "[[17  1]\n",
      " [ 1 11]]\n"
     ]
    }
   ],
   "source": [
    "accuracy = metrics.confusion_matrix(predictions, clf_test_target)\n",
    "print(accuracy)"
   ],
   "metadata": {
    "collapsed": false,
    "pycharm": {
     "name": "#%%\n"
    }
   }
  },
  {
   "cell_type": "markdown",
   "source": [
    "#### Оценка точности классификации"
   ],
   "metadata": {
    "collapsed": false
   }
  },
  {
   "cell_type": "code",
   "execution_count": 9,
   "outputs": [
    {
     "name": "stdout",
     "output_type": "stream",
     "text": [
      "0.9444444444444444\n",
      "0.9166666666666666\n",
      "0.9166666666666666\n"
     ]
    }
   ],
   "source": [
    "# pos_label - оценивает точность для конкретного лкасса\n",
    "print(metrics.precision_score(clf_test_target, predictions, pos_label=0))\n",
    "print(metrics.precision_score(clf_test_target, predictions, pos_label=1))\n",
    "print(metrics.precision_score(clf_test_target, predictions))"
   ],
   "metadata": {
    "collapsed": false,
    "pycharm": {
     "name": "#%%\n"
    }
   }
  },
  {
   "cell_type": "markdown",
   "source": [
    "#### Оценка полноты"
   ],
   "metadata": {
    "collapsed": false
   }
  },
  {
   "cell_type": "code",
   "execution_count": 10,
   "outputs": [
    {
     "name": "stdout",
     "output_type": "stream",
     "text": [
      "0.9444444444444444\n",
      "0.9166666666666666\n",
      "0.9166666666666666\n"
     ]
    }
   ],
   "source": [
    "print(metrics.recall_score(predictions, clf_test_target, pos_label=0))\n",
    "print(metrics.recall_score(predictions, clf_test_target, pos_label=1))\n",
    "print(metrics.recall_score(predictions, clf_test_target, pos_label=1))"
   ],
   "metadata": {
    "collapsed": false,
    "pycharm": {
     "name": "#%%\n"
    }
   }
  },
  {
   "cell_type": "markdown",
   "source": [
    "### F мера"
   ],
   "metadata": {
    "collapsed": false
   }
  },
  {
   "cell_type": "code",
   "execution_count": 11,
   "outputs": [
    {
     "name": "stdout",
     "output_type": "stream",
     "text": [
      "0.9444444444444444\n",
      "0.9166666666666666\n",
      "0.9166666666666666\n"
     ]
    }
   ],
   "source": [
    "print(metrics.f1_score(predictions, clf_test_target, pos_label=0))\n",
    "print(metrics.f1_score(predictions, clf_test_target, pos_label=1))\n",
    "print(metrics.f1_score(predictions, clf_test_target))"
   ],
   "metadata": {
    "collapsed": false,
    "pycharm": {
     "name": "#%%\n"
    }
   }
  },
  {
   "cell_type": "markdown",
   "source": [
    "#### Вывод большого количества метрик"
   ],
   "metadata": {
    "collapsed": false
   }
  },
  {
   "cell_type": "code",
   "execution_count": 13,
   "outputs": [
    {
     "name": "stdout",
     "output_type": "stream",
     "text": [
      "              precision    recall  f1-score   support\n",
      "\n",
      "           0       0.94      0.94      0.94        18\n",
      "           1       0.92      0.92      0.92        12\n",
      "\n",
      "    accuracy                           0.93        30\n",
      "   macro avg       0.93      0.93      0.93        30\n",
      "weighted avg       0.93      0.93      0.93        30\n",
      "\n"
     ]
    }
   ],
   "source": [
    "print(metrics.classification_report(predictions, clf_test_target))"
   ],
   "metadata": {
    "collapsed": false,
    "pycharm": {
     "name": "#%%\n"
    }
   }
  },
  {
   "cell_type": "markdown",
   "source": [
    "### Roc кривая"
   ],
   "metadata": {
    "collapsed": false
   }
  },
  {
   "cell_type": "code",
   "execution_count": 16,
   "outputs": [
    {
     "data": {
      "text/plain": "array([2.00000000e+00, 1.00000000e+00, 9.99999483e-01, 9.95936262e-01,\n       4.16708383e-01, 6.58409203e-15])"
     },
     "execution_count": 16,
     "metadata": {},
     "output_type": "execute_result"
    }
   ],
   "source": [
    "fpr, tpr, _ = metrics.roc_curve(clf_test_target, possibility[:,1])"
   ],
   "metadata": {
    "collapsed": false,
    "pycharm": {
     "name": "#%%\n"
    }
   }
  },
  {
   "cell_type": "code",
   "execution_count": 24,
   "outputs": [
    {
     "data": {
      "text/plain": "<matplotlib.legend.Legend at 0x11adbc910>"
     },
     "execution_count": 24,
     "metadata": {},
     "output_type": "execute_result"
    },
    {
     "data": {
      "text/plain": "<Figure size 432x288 with 1 Axes>",
      "image/png": "[encoded data removed]"
     },
     "metadata": {
      "needs_background": "light"
     },
     "output_type": "display_data"
    }
   ],
   "source": [
    "pylab.plot(fpr,tpr, label='linear model')\n",
    "pylab.plot([0,1], [0,1], '--', color='grey', label='random curve')\n",
    "pylab.xlim([-.05, 1.05])\n",
    "pylab.ylim([-.05, 1.05])\n",
    "pylab.xlabel('False Positive Rate')\n",
    "pylab.ylabel('True Positive Rate')\n",
    "pylab.title('ROC CURVE')\n",
    "pylab.legend(loc='lower right')"
   ],
   "metadata": {
    "collapsed": false,
    "pycharm": {
     "name": "#%%\n"
    }
   }
  },
  {
   "cell_type": "markdown",
   "source": [
    "# Площадь под ROC кривой"
   ],
   "metadata": {
    "collapsed": false
   }
  },
  {
   "cell_type": "code",
   "execution_count": 26,
   "outputs": [
    {
     "name": "stdout",
     "output_type": "stream",
     "text": [
      "ТОЛЬКО ПРЕДСКАЗАНИЯ 0.9305555555555554\n",
      "ВЕРОЯТНОСТИ ПРИНАДЛЕЖНОСТИ К 0 КЛАССУ 0.9907407407407407\n"
     ]
    }
   ],
   "source": [
    "print('ТОЛЬКО ПРЕДСКАЗАНИЯ', metrics.roc_auc_score(clf_test_target, predictions))\n",
    "print('ВЕРОЯТНОСТИ ПРИНАДЛЕЖНОСТИ К 0 КЛАССУ', metrics.roc_auc_score(clf_test_target, possibility[:,1]))"
   ],
   "metadata": {
    "collapsed": false,
    "pycharm": {
     "name": "#%%\n"
    }
   }
  },
  {
   "cell_type": "markdown",
   "source": [
    "# Log-loss метрика (лучше когда меньше)"
   ],
   "metadata": {
    "collapsed": false
   }
  },
  {
   "cell_type": "code",
   "execution_count": 27,
   "outputs": [
    {
     "name": "stdout",
     "output_type": "stream",
     "text": [
      "0.21767621111290084\n"
     ]
    }
   ],
   "source": [
    "print(metrics.log_loss(clf_test_target, possibility[:,1]))"
   ],
   "metadata": {
    "collapsed": false,
    "pycharm": {
     "name": "#%%\n"
    }
   }
  },
  {
   "cell_type": "markdown",
   "source": [
    "### Метрики для регрессии"
   ],
   "metadata": {
    "collapsed": false
   }
  },
  {
   "cell_type": "code",
   "execution_count": 32,
   "outputs": [
    {
     "name": "stdout",
     "output_type": "stream",
     "text": [
      "PREDICT:\n",
      "[ -1.10528035   6.84771392 -51.8819882    5.60417362 -24.12443169\n",
      "  -8.21439926  64.29438474 -22.02061817  32.14714092 -40.45775375\n",
      " -17.57140062  32.58447477  28.63744348  -6.22246937  -2.85280197\n",
      " -82.00645827  88.75675598  16.18835816  24.48112293 -93.10222435\n",
      "  15.72456028  33.52957308 100.26217755  23.14060516 -44.74143963\n",
      " -98.70507076  90.50169093   1.00412665 -16.51947704 -23.75267054]\n",
      "REAL:\n",
      "[   2.67799047    7.06525927  -56.43389936   10.08001896  -22.46817716\n",
      "  -19.27471232   59.44372825  -21.60494574   32.54682713  -41.89798772\n",
      "  -18.16390935   32.75688783   31.04095773    2.39589626   -5.04783924\n",
      "  -70.20925097   86.69034305   18.50402992   32.31573461 -101.81138022\n",
      "   15.14628858   29.49813932   97.282674     25.88034991  -41.63332253\n",
      "  -92.11198201   86.7177122     2.13250832  -20.24967575  -27.32511755]\n",
      "3.726715120276786\n"
     ]
    }
   ],
   "source": [
    "regress = linear_model.SGDRegressor(random_state=1, n_iter_no_change=20)\n",
    "regress.fit(reg_train_data, reg_train_target)\n",
    "predictions = regress.predict(reg_test_data)\n",
    "print('PREDICT:')\n",
    "print(predictions)\n",
    "print('REAL:')\n",
    "print(reg_test_target)\n",
    "print(metrics.mean_absolute_error(reg_test_target, predictions))"
   ],
   "metadata": {
    "collapsed": false,
    "pycharm": {
     "name": "#%%\n"
    }
   }
  },
  {
   "cell_type": "code",
   "execution_count": 36,
   "outputs": [
    {
     "name": "stdout",
     "output_type": "stream",
     "text": [
      "23.526008778524464\n",
      "4.85036171625627\n"
     ]
    }
   ],
   "source": [
    "print(metrics.mean_squared_error(reg_test_target, predictions))\n",
    "# Чаще берут корень\n",
    "print(sqrt(metrics.mean_squared_error(reg_test_target, predictions)))"
   ],
   "metadata": {
    "collapsed": false,
    "pycharm": {
     "name": "#%%\n"
    }
   }
  },
  {
   "cell_type": "markdown",
   "source": [
    "Коэффициент детерминации R2 score"
   ],
   "metadata": {
    "collapsed": false
   }
  },
  {
   "cell_type": "code",
   "execution_count": 37,
   "outputs": [
    {
     "name": "stdout",
     "output_type": "stream",
     "text": [
      "0.9895784923331762\n"
     ]
    }
   ],
   "source": [
    "print(metrics.r2_score(reg_test_target, predictions))"
   ],
   "metadata": {
    "collapsed": false,
    "pycharm": {
     "name": "#%%\n"
    }
   }
  },
  {
   "cell_type": "code",
   "execution_count": null,
   "outputs": [],
   "source": [],
   "metadata": {
    "collapsed": false,
    "pycharm": {
     "name": "#%%\n"
    }
   }
  }
 ],
 "metadata": {
  "kernelspec": {
   "display_name": "Python 3",
   "language": "python",
   "name": "python3"
  },
  "language_info": {
   "codemirror_mode": {
    "name": "ipython",
    "version": 2
   },
   "file_extension": ".py",
   "mimetype": "text/x-python",
   "name": "python",
   "nbconvert_exporter": "python",
   "pygments_lexer": "ipython2",
   "version": "2.7.6"
  }
 },
 "nbformat": 4,
 "nbformat_minor": 0
}