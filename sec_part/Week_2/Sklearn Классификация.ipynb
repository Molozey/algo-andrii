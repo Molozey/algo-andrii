{
 "cells": [
  {
   "cell_type": "markdown",
   "source": [
    "## Классификация"
   ],
   "metadata": {
    "collapsed": false
   }
  },
  {
   "cell_type": "code",
   "execution_count": 1,
   "outputs": [],
   "source": [
    "from matplotlib.colors import ListedColormap\n",
    "from sklearn import datasets, linear_model, metrics, model_selection\n",
    "import numpy as np\n",
    "import matplotlib.pyplot as plt"
   ],
   "metadata": {
    "collapsed": false,
    "pycharm": {
     "name": "#%%\n"
    }
   }
  },
  {
   "cell_type": "code",
   "execution_count": 2,
   "outputs": [],
   "source": [
    "blobs = datasets.make_blobs(centers=2, cluster_std=5.5, random_state=1)\n",
    "colors = ListedColormap(['red', 'blue'])"
   ],
   "metadata": {
    "collapsed": false,
    "pycharm": {
     "name": "#%%\n"
    }
   }
  },
  {
   "cell_type": "code",
   "execution_count": 3,
   "outputs": [
    {
     "data": {
      "text/plain": "<matplotlib.collections.PathCollection at 0x12529b4c0>"
     },
     "execution_count": 3,
     "metadata": {},
     "output_type": "execute_result"
    },
    {
     "data": {
      "text/plain": "<Figure size 432x288 with 1 Axes>",
      "image/png": "[encoded data removed]"
     },
     "metadata": {
      "needs_background": "light"
     },
     "output_type": "display_data"
    }
   ],
   "source": [
    "plt.scatter(list(map(lambda x: x[0], blobs[0])), list(map(lambda x: x[1], blobs[0])), c=blobs[1], cmap=colors)\n"
   ],
   "metadata": {
    "collapsed": false,
    "pycharm": {
     "name": "#%%\n"
    }
   }
  },
  {
   "cell_type": "code",
   "execution_count": 4,
   "outputs": [],
   "source": [
    "train_data, test_data, train_values, test_values = model_selection.train_test_split(blobs[0], blobs[1], test_size=0.3, random_state=1)"
   ],
   "metadata": {
    "collapsed": false,
    "pycharm": {
     "name": "#%%\n"
    }
   }
  },
  {
   "cell_type": "markdown",
   "source": [
    "### Линейная классификация через RidgeClassifier"
   ],
   "metadata": {
    "collapsed": false
   }
  },
  {
   "cell_type": "code",
   "execution_count": 5,
   "outputs": [],
   "source": [
    "ridge_classifier = linear_model.RidgeClassifier(random_state=1)"
   ],
   "metadata": {
    "collapsed": false,
    "pycharm": {
     "name": "#%%\n"
    }
   }
  },
  {
   "cell_type": "code",
   "execution_count": 6,
   "outputs": [
    {
     "data": {
      "text/plain": "RidgeClassifier(random_state=1)"
     },
     "execution_count": 6,
     "metadata": {},
     "output_type": "execute_result"
    }
   ],
   "source": [
    "#Train classifier\n",
    "ridge_classifier.fit(train_data, train_values)"
   ],
   "metadata": {
    "collapsed": false,
    "pycharm": {
     "name": "#%%\n"
    }
   }
  },
  {
   "cell_type": "markdown",
   "source": [
    "### Применение RidgeClassifier"
   ],
   "metadata": {
    "collapsed": false
   }
  },
  {
   "cell_type": "code",
   "execution_count": 7,
   "outputs": [
    {
     "name": "stdout",
     "output_type": "stream",
     "text": [
      "REAL\n",
      "[0 0 0 1 0 0 0 0 0 1 0 1 0 1 1 1 0 0 0 1 0 0 0 1 1 1 1 0 0 1]\n",
      "PERDICT\n",
      "[0 0 0 1 0 1 0 0 0 1 0 1 0 1 1 1 1 0 1 1 1 0 0 1 1 1 1 0 0 1]\n"
     ]
    }
   ],
   "source": [
    "predict = ridge_classifier.predict(test_data)\n",
    "print('REAL')\n",
    "print(test_values)\n",
    "print('PERDICT')\n",
    "print(predict)"
   ],
   "metadata": {
    "collapsed": false,
    "pycharm": {
     "name": "#%%\n"
    }
   }
  },
  {
   "cell_type": "markdown",
   "source": [
    "### Оценка качества модели"
   ],
   "metadata": {
    "collapsed": false
   }
  },
  {
   "cell_type": "code",
   "execution_count": 8,
   "outputs": [
    {
     "data": {
      "text/plain": "0.8666666666666667"
     },
     "execution_count": 8,
     "metadata": {},
     "output_type": "execute_result"
    }
   ],
   "source": [
    "metrics.accuracy_score(test_values, predict)"
   ],
   "metadata": {
    "collapsed": false,
    "pycharm": {
     "name": "#%%\n"
    }
   }
  },
  {
   "cell_type": "code",
   "execution_count": 9,
   "outputs": [
    {
     "name": "stdout",
     "output_type": "stream",
     "text": [
      "RIDGE WEIGHT: [[-0.0854443  -0.07273219]]\n",
      "RIDGE ZERO: [-0.31250723]\n"
     ]
    }
   ],
   "source": [
    "print('RIDGE WEIGHT:', ridge_classifier.coef_)\n",
    "print('RIDGE ZERO:', ridge_classifier.intercept_)"
   ],
   "metadata": {
    "collapsed": false,
    "pycharm": {
     "name": "#%%\n"
    }
   }
  },
  {
   "cell_type": "markdown",
   "source": [
    "### LogisticRegression Логистическая регрессия"
   ],
   "metadata": {
    "collapsed": false
   }
  },
  {
   "cell_type": "code",
   "execution_count": 10,
   "outputs": [
    {
     "name": "stdout",
     "output_type": "stream",
     "text": [
      "LogReg WEIGHT: [[-0.42738572 -0.3117454 ]]\n",
      "LogReg ZERO: [-1.27059303]\n",
      "PREDICT:\n",
      "[0 1 1 1 0 1 0 0 0 1 0 1 0 1 1 1 1 0 1 1 1 0 0 1 1 1 1 0 0 1]\n",
      "REAL:\n",
      "[0 0 0 1 0 0 0 0 0 1 0 1 0 1 1 1 0 0 0 1 0 0 0 1 1 1 1 0 0 1]\n",
      "Вероятность принадлежности к классу: [[9.99254667e-01 7.45333217e-04]\n",
      " [4.08279523e-01 5.91720477e-01]\n",
      " [4.90541791e-01 5.09458209e-01]\n",
      " [3.78296027e-03 9.96217040e-01]\n",
      " [7.32221196e-01 2.67778804e-01]\n",
      " [2.44262899e-01 7.55737101e-01]\n",
      " [9.93761113e-01 6.23888724e-03]\n",
      " [9.78405579e-01 2.15944205e-02]\n",
      " [9.55344987e-01 4.46550128e-02]\n",
      " [1.68318566e-01 8.31681434e-01]\n",
      " [9.20548027e-01 7.94519726e-02]\n",
      " [8.49635842e-03 9.91503642e-01]\n",
      " [8.42172474e-01 1.57827526e-01]\n",
      " [4.78103481e-02 9.52189652e-01]\n",
      " [4.16878377e-03 9.95831216e-01]\n",
      " [7.76668489e-04 9.99223332e-01]\n",
      " [2.05937909e-01 7.94062091e-01]\n",
      " [9.31195721e-01 6.88042793e-02]\n",
      " [2.41180236e-01 7.58819764e-01]\n",
      " [8.27655095e-04 9.99172345e-01]\n",
      " [8.91142562e-02 9.10885744e-01]\n",
      " [9.95944524e-01 4.05547579e-03]\n",
      " [9.84077857e-01 1.59221428e-02]\n",
      " [3.02681109e-01 6.97318891e-01]\n",
      " [1.47440544e-03 9.98525595e-01]\n",
      " [7.78506108e-03 9.92214939e-01]\n",
      " [2.89544877e-01 7.10455123e-01]\n",
      " [8.84591004e-01 1.15408996e-01]\n",
      " [9.92724199e-01 7.27580141e-03]\n",
      " [3.34985738e-03 9.96650143e-01]]\n"
     ]
    }
   ],
   "source": [
    "log_regression = linear_model.LogisticRegression(random_state=1)\n",
    "log_regression.fit(train_data, train_values)\n",
    "print('LogReg WEIGHT:', log_regression.coef_)\n",
    "print('LogReg ZERO:', log_regression.intercept_)\n",
    "predict_log = log_regression.predict(test_data)\n",
    "print('PREDICT:')\n",
    "print(predict_log)\n",
    "print('REAL:')\n",
    "print(test_values)\n",
    "print('Вероятность принадлежности к классу:', log_regression.predict_proba(test_data))"
   ],
   "metadata": {
    "collapsed": false,
    "pycharm": {
     "name": "#%%\n"
    }
   }
  },
  {
   "cell_type": "code",
   "execution_count": 11,
   "outputs": [
    {
     "name": "stdout",
     "output_type": "stream",
     "text": [
      "Accuracy RIDGE 0.8666666666666667\n",
      "Accuracy LOG: 0.8\n"
     ]
    }
   ],
   "source": [
    "print('Accuracy RIDGE', metrics.accuracy_score(test_values, predict))\n",
    "print('Accuracy LOG:', metrics.accuracy_score(test_values, predict_log))\n"
   ],
   "metadata": {
    "collapsed": false,
    "pycharm": {
     "name": "#%%\n"
    }
   }
  },
  {
   "cell_type": "markdown",
   "source": [
    "### Оценка качества модели по кросс-валидации"
   ],
   "metadata": {
    "collapsed": false
   }
  },
  {
   "cell_type": "code",
   "execution_count": 12,
   "outputs": [],
   "source": [
    "ridge_cross = model_selection.cross_val_score(ridge_classifier, blobs[0], blobs[1], scoring='accuracy', cv=10)"
   ],
   "metadata": {
    "collapsed": false,
    "pycharm": {
     "name": "#%%\n"
    }
   }
  },
  {
   "cell_type": "code",
   "execution_count": 13,
   "outputs": [],
   "source": [
    "log_cross = model_selection.cross_val_score(log_regression, blobs[0], blobs[1], scoring='accuracy', cv=10)"
   ],
   "metadata": {
    "collapsed": false,
    "pycharm": {
     "name": "#%%\n"
    }
   }
  },
  {
   "cell_type": "code",
   "execution_count": 14,
   "outputs": [
    {
     "name": "stdout",
     "output_type": "stream",
     "text": [
      "Ridge mean:0.8800000000000001, max:1.0, min:0.7, std:0.08717797887081348\n",
      "Log mean:0.8800000000000001, max:1.0, min:0.7, std:0.08717797887081348\n"
     ]
    }
   ],
   "source": [
    "print('Ridge mean:{}, max:{}, min:{}, std:{}'.format(\n",
    "    ridge_cross.mean(), ridge_cross.max(), ridge_cross.min(), ridge_cross.std()\n",
    "))\n",
    "print('Log mean:{}, max:{}, min:{}, std:{}'.format(\n",
    "    log_cross.mean(), log_cross.max(), log_cross.min(), log_cross.std()\n",
    "))"
   ],
   "metadata": {
    "collapsed": false,
    "pycharm": {
     "name": "#%%\n"
    }
   }
  },
  {
   "cell_type": "code",
   "execution_count": 15,
   "outputs": [
    {
     "data": {
      "text/plain": "<generator object BaseShuffleSplit.split at 0x125394dd0>"
     },
     "execution_count": 15,
     "metadata": {},
     "output_type": "execute_result"
    }
   ],
   "source": [
    "scorer = metrics.make_scorer(metrics.accuracy_score)\n",
    "cv_strategy = model_selection.StratifiedShuffleSplit(n_splits=10, test_size=0.3, random_state=2)\n",
    "cv_strategy.split(blobs[0], blobs[1])"
   ],
   "metadata": {
    "collapsed": false,
    "pycharm": {
     "name": "#%%\n"
    }
   }
  },
  {
   "cell_type": "code",
   "execution_count": 16,
   "outputs": [],
   "source": [
    "ridge_scoring = model_selection.cross_val_score(ridge_classifier, blobs[0], blobs[1], scoring=scorer, cv=cv_strategy)\n",
    "lr_scoring = model_selection.cross_val_score(log_regression, blobs[0], blobs[1], scoring=scorer, cv=cv_strategy)"
   ],
   "metadata": {
    "collapsed": false,
    "pycharm": {
     "name": "#%%\n"
    }
   }
  },
  {
   "cell_type": "code",
   "execution_count": 17,
   "outputs": [
    {
     "name": "stdout",
     "output_type": "stream",
     "text": [
      "Ridge mean:0.8666666666666668, max:1.0, min:0.7666666666666667, std:0.06324555320336757\n",
      "Log mean:0.8666666666666668, max:1.0, min:0.7666666666666667, std:0.06666666666666665\n"
     ]
    }
   ],
   "source": [
    "print('Ridge mean:{}, max:{}, min:{}, std:{}'.format(\n",
    "    ridge_scoring.mean(), ridge_scoring.max(),\n",
    "    ridge_scoring.min(), ridge_scoring.std()\n",
    "))\n",
    "print('Log mean:{}, max:{}, min:{}, std:{}'.format(\n",
    "    lr_scoring.mean(), lr_scoring.max(), lr_scoring.min(),\n",
    "    lr_scoring.std()\n",
    "))"
   ],
   "metadata": {
    "collapsed": false,
    "pycharm": {
     "name": "#%%\n"
    }
   }
  }
 ],
 "metadata": {
  "kernelspec": {
   "display_name": "Python 3",
   "language": "python",
   "name": "python3"
  },
  "language_info": {
   "codemirror_mode": {
    "name": "ipython",
    "version": 2
   },
   "file_extension": ".py",
   "mimetype": "text/x-python",
   "name": "python",
   "nbconvert_exporter": "python",
   "pygments_lexer": "ipython2",
   "version": "2.7.6"
  }
 },
 "nbformat": 4,
 "nbformat_minor": 0
}