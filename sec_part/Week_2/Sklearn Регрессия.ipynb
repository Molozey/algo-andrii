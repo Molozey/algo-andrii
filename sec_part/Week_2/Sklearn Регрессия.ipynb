{
 "cells": [
  {
   "cell_type": "markdown",
   "source": [
    "### Задача регрессии"
   ],
   "metadata": {
    "collapsed": false
   }
  },
  {
   "cell_type": "code",
   "execution_count": 31,
   "outputs": [],
   "source": [
    "from matplotlib.colors import ListedColormap\n",
    "from sklearn import model_selection, linear_model, metrics, datasets\n",
    "from matplotlib import pylab\n",
    "import numpy as np"
   ],
   "metadata": {
    "collapsed": false,
    "pycharm": {
     "name": "#%%\n"
    }
   }
  },
  {
   "cell_type": "markdown",
   "source": [
    "### Линейная регрессия\n",
    "#### Генерация данных\n"
   ],
   "metadata": {
    "collapsed": false,
    "pycharm": {
     "name": "#%% md\n"
    }
   }
  },
  {
   "cell_type": "code",
   "execution_count": 32,
   "outputs": [],
   "source": [
    "data, target, cof = datasets.make_regression(n_features=2, n_informative=1,\n",
    "                                    n_targets=1, noise=5, coef=True, random_state=2)"
   ],
   "metadata": {
    "collapsed": false,
    "pycharm": {
     "name": "#%%\n"
    }
   }
  },
  {
   "cell_type": "code",
   "execution_count": 33,
   "outputs": [
    {
     "data": {
      "text/plain": "<Figure size 432x288 with 1 Axes>",
      "image/png": "[encoded data removed]"
     },
     "metadata": {
      "needs_background": "light"
     },
     "output_type": "display_data"
    },
    {
     "data": {
      "text/plain": "<Figure size 432x288 with 1 Axes>",
      "image/png": "[encoded data removed]"
     },
     "metadata": {
      "needs_background": "light"
     },
     "output_type": "display_data"
    }
   ],
   "source": [
    "pylab.scatter(list(map(lambda x: x[0], data)), target, color='r')\n",
    "pylab.plt.show()\n",
    "pylab.scatter(list(map(lambda x: x[1], data)), target, color='blue')\n",
    "pylab.plt.show()"
   ],
   "metadata": {
    "collapsed": false,
    "pycharm": {
     "name": "#%%\n"
    }
   }
  },
  {
   "cell_type": "code",
   "execution_count": 34,
   "outputs": [],
   "source": [
    "train_data, test_data, train_target, test_target = model_selection.train_test_split(data, target, test_size=0.3, random_state=1)"
   ],
   "metadata": {
    "collapsed": false,
    "pycharm": {
     "name": "#%%\n"
    }
   }
  },
  {
   "cell_type": "markdown",
   "source": [
    "#### LinearRegression"
   ],
   "metadata": {
    "collapsed": false,
    "pycharm": {
     "name": "#%% md\n"
    }
   }
  },
  {
   "cell_type": "code",
   "execution_count": 35,
   "outputs": [
    {
     "name": "stdout",
     "output_type": "stream",
     "text": [
      "TEST DATA\n",
      "[-105.77758163   38.36241814   64.19559505   22.13032804   41.1068411\n",
      "  -11.18242389   49.41686419   34.35183007  -10.27758354  -27.02798161\n",
      "   13.31981235   27.83791274   64.70214251   12.47089016  -21.48288019\n",
      "   45.05465366    5.86887774   41.95683853  160.09441244  -70.11132234\n",
      "  -21.47606913   12.42286854  -19.36956003   44.66274342  -57.46293828\n",
      "  -71.3715844   -19.16792315  -16.79027112  -80.80239408  -16.65927231]\n",
      "LINEAR APPROX\n",
      "[-102.08731432   41.75791534   70.30776568   20.29924507   36.90337067\n",
      "  -12.79770679   55.9654988    39.31388224   -7.44398949  -24.9817205\n",
      "   14.6587114    23.35833719   68.38408718   20.17159391  -24.30982582\n",
      "   42.58326287    4.87255646   44.03463444  157.53793198  -66.40747561\n",
      "  -17.74553868    6.93548541  -31.89889217   51.11352352  -54.60429128\n",
      "  -71.16643712  -10.9598118   -14.57744658  -78.31984997  -14.41232824]\n"
     ]
    }
   ],
   "source": [
    "linear_regression = linear_model.LinearRegression()\n",
    "linear_regression.fit(train_data, train_target)\n",
    "linear_answer = linear_regression.predict(test_data)\n",
    "print('TEST DATA')\n",
    "print(test_target)\n",
    "print('LINEAR APPROX')\n",
    "print(linear_answer)"
   ],
   "metadata": {
    "collapsed": false,
    "pycharm": {
     "name": "#%%\n"
    }
   }
  },
  {
   "cell_type": "code",
   "execution_count": 36,
   "outputs": [
    {
     "data": {
      "text/plain": "3.84948204462547"
     },
     "execution_count": 36,
     "metadata": {},
     "output_type": "execute_result"
    }
   ],
   "source": [
    "metrics.mean_absolute_error(test_target, linear_answer)"
   ],
   "metadata": {
    "collapsed": false,
    "pycharm": {
     "name": "#%%\n"
    }
   }
  },
  {
   "cell_type": "markdown",
   "source": [
    "#### Регрессия кросс-валидация"
   ],
   "metadata": {
    "collapsed": false
   }
  },
  {
   "cell_type": "code",
   "execution_count": 37,
   "outputs": [
    {
     "name": "stdout",
     "output_type": "stream",
     "text": [
      "mean -4.070071498779696, std:1.07371044928902\n"
     ]
    }
   ],
   "source": [
    "linear_scoring = model_selection.cross_val_score(linear_regression, data,\n",
    "                                                 target, scoring='neg_mean_absolute_error', cv=10)\n",
    "print('mean {}, std:{}'.format(linear_scoring.mean(), linear_scoring.std()))"
   ],
   "metadata": {
    "collapsed": false,
    "pycharm": {
     "name": "#%%\n"
    }
   }
  },
  {
   "cell_type": "markdown",
   "source": [
    "### Own scoring_method"
   ],
   "metadata": {
    "collapsed": false
   }
  },
  {
   "cell_type": "code",
   "execution_count": 38,
   "outputs": [
    {
     "name": "stdout",
     "output_type": "stream",
     "text": [
      "mean:4.070071498779696, std:1.07371044928902\n"
     ]
    }
   ],
   "source": [
    "scorer = metrics.make_scorer(metrics.mean_absolute_error, greater_is_better=True)\n",
    "linear_scoring = model_selection.cross_val_score(linear_regression, data, target,\n",
    "                                                 scoring=scorer, cv=10)\n",
    "print('mean:{}, std:{}'.format(linear_scoring.mean(), linear_scoring.std()))"
   ],
   "metadata": {
    "collapsed": false,
    "pycharm": {
     "name": "#%%\n"
    }
   }
  },
  {
   "cell_type": "code",
   "execution_count": 39,
   "outputs": [
    {
     "name": "stdout",
     "output_type": "stream",
     "text": [
      "COFF:\n",
      "[38.07925837  0.        ]\n",
      "PREDICT COFF:\n",
      "[38.31554726  0.32893633]\n"
     ]
    }
   ],
   "source": [
    "print('COFF:')\n",
    "print(cof)\n",
    "print('PREDICT COFF:')\n",
    "print(linear_regression.coef_)"
   ],
   "metadata": {
    "collapsed": false,
    "pycharm": {
     "name": "#%%\n"
    }
   }
  },
  {
   "cell_type": "markdown",
   "source": [
    "### Метод регрессии Lasso"
   ],
   "metadata": {
    "collapsed": false
   }
  },
  {
   "cell_type": "code",
   "execution_count": 40,
   "outputs": [
    {
     "name": "stdout",
     "output_type": "stream",
     "text": [
      "REAL TEST TARGET:\n",
      "[-105.77758163   38.36241814   64.19559505   22.13032804   41.1068411\n",
      "  -11.18242389   49.41686419   34.35183007  -10.27758354  -27.02798161\n",
      "   13.31981235   27.83791274   64.70214251   12.47089016  -21.48288019\n",
      "   45.05465366    5.86887774   41.95683853  160.09441244  -70.11132234\n",
      "  -21.47606913   12.42286854  -19.36956003   44.66274342  -57.46293828\n",
      "  -71.3715844   -19.16792315  -16.79027112  -80.80239408  -16.65927231]\n",
      "PREDICT TARGET:\n",
      "[-99.50127715  41.13394759  68.23366953  19.85968631  35.59744329\n",
      " -12.38683754  54.51364015  38.2935399   -7.32728979 -24.05255244\n",
      "  13.9936387   22.51244381  66.63871574  19.30880646 -23.94150588\n",
      "  41.46023314   4.40139974  43.53676796 153.07023927 -65.11338875\n",
      " -17.49771043   6.47574757 -31.19815655  49.58352965 -53.20348288\n",
      " -69.96958437 -11.60453946 -14.27585201 -76.39690171 -13.85825455]\n"
     ]
    }
   ],
   "source": [
    "data, target, cof = datasets.make_regression(n_features=2, n_informative=1,\n",
    "                                             n_targets=1, noise=5, coef=True, random_state=2)\n",
    "lasso_regression = linear_model.Lasso(random_state=3)\n",
    "lasso_regression.fit(train_data, train_target)\n",
    "predict = lasso_regression.predict(test_data)\n",
    "print('REAL TEST TARGET:')\n",
    "print(test_target)\n",
    "print('PREDICT TARGET:')\n",
    "print(predict)"
   ],
   "metadata": {
    "collapsed": false,
    "pycharm": {
     "name": "#%%\n"
    }
   }
  },
  {
   "cell_type": "code",
   "execution_count": 42,
   "outputs": [
    {
     "data": {
      "text/plain": "4.085051543335123"
     },
     "execution_count": 42,
     "metadata": {},
     "output_type": "execute_result"
    }
   ],
   "source": [
    "metrics.mean_absolute_error(test_target,predict)"
   ],
   "metadata": {
    "collapsed": false,
    "pycharm": {
     "name": "#%%\n"
    }
   }
  },
  {
   "cell_type": "code",
   "execution_count": 44,
   "outputs": [
    {
     "name": "stdout",
     "output_type": "stream",
     "text": [
      "mean:4.1544782466663985, std:1.0170354384993352\n"
     ]
    }
   ],
   "source": [
    "scorer = metrics.make_scorer(metrics.mean_absolute_error, greater_is_better=True)\n",
    "lasso_scoring = model_selection.cross_val_score(lasso_regression, data, target, scoring=scorer,\n",
    "                                                cv=10)\n",
    "print('mean:{}, std:{}'.format(lasso_scoring.mean(), lasso_scoring.std()))"
   ],
   "metadata": {
    "collapsed": false,
    "pycharm": {
     "name": "#%%\n"
    }
   }
  },
  {
   "cell_type": "code",
   "execution_count": 45,
   "outputs": [
    {
     "name": "stdout",
     "output_type": "stream",
     "text": [
      "REAL COFFS:\n",
      "[38.07925837  0.        ]\n",
      "PREDICT COFFS:\n",
      "[37.31770306  0.        ]\n"
     ]
    }
   ],
   "source": [
    "print('REAL COFFS:')\n",
    "print(cof)\n",
    "print('PREDICT COFFS:')\n",
    "print(lasso_regression.coef_)"
   ],
   "metadata": {
    "collapsed": false,
    "pycharm": {
     "name": "#%%\n"
    }
   }
  }
 ],
 "metadata": {
  "kernelspec": {
   "display_name": "Python 3",
   "language": "python",
   "name": "python3"
  },
  "language_info": {
   "codemirror_mode": {
    "name": "ipython",
    "version": 2
   },
   "file_extension": ".py",
   "mimetype": "text/x-python",
   "name": "python",
   "nbconvert_exporter": "python",
   "pygments_lexer": "ipython2",
   "version": "2.7.6"
  }
 },
 "nbformat": 4,
 "nbformat_minor": 0
}