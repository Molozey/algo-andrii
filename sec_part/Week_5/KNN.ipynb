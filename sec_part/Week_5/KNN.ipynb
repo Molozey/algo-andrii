{
 "cells": [
  {
   "cell_type": "code",
   "execution_count": 36,
   "metadata": {
    "collapsed": true
   },
   "outputs": [],
   "source": [
    "from sklearn import datasets, tree, metrics, ensemble\n",
    "digits = datasets.load_digits()"
   ]
  },
  {
   "cell_type": "code",
   "execution_count": 2,
   "outputs": [],
   "source": [
    "X = digits.data\n",
    "y = digits.target"
   ],
   "metadata": {
    "collapsed": false,
    "pycharm": {
     "name": "#%%\n"
    }
   }
  },
  {
   "cell_type": "code",
   "execution_count": 3,
   "outputs": [
    {
     "name": "stdout",
     "output_type": "stream",
     "text": [
      "X all: 1797 X train 1347 X_test 450\n",
      "-----\n",
      "y all: 1797 y train 1347 y_test 450\n"
     ]
    }
   ],
   "source": [
    "int(X.shape[0] * 3 / 4)\n",
    "X_train = X[:int(X.shape[0] * 3 / 4)]\n",
    "X_test = X[int(X.shape[0] * 3 / 4):]\n",
    "y_train = y[:int(X.shape[0] * 3 / 4)]\n",
    "y_test = y[int(X.shape[0] * 3 / 4):]\n",
    "print('X all:', X.shape[0], 'X train', X_train.shape[0], 'X_test', X_test.shape[0])\n",
    "print('-----')\n",
    "print('y all:', y.shape[0], 'y train', y_train.shape[0], 'y_test', y_test.shape[0])"
   ],
   "metadata": {
    "collapsed": false,
    "pycharm": {
     "name": "#%%\n"
    }
   }
  },
  {
   "cell_type": "code",
   "execution_count": 23,
   "outputs": [],
   "source": [
    "def classification(classification_object):\n",
    "    euclid_pars = [[],[],[]]\n",
    "    # 1 - Элемент обучающей выборки; 2 - Расстояние; 3 - метка обучающего элемента\n",
    "#    search_dot = X_test[0]\n",
    "    search_dot = classification_object\n",
    "    for i in range(X_train.shape[0]):\n",
    "        select_train = X_train[i,:]\n",
    "        euclid_pars[0].append(select_train)\n",
    "        distance = 0\n",
    "        for arrow in range(search_dot.shape[0]):\n",
    "            distance += (search_dot[arrow] - select_train[arrow]) ** 2\n",
    "        euclid_pars[1].append(distance)\n",
    "        euclid_pars[2].append(y_train[i])\n",
    "\n",
    "    euclid_para_dist_class = euclid_pars[1:]\n",
    "    classifier = (sorted(zip(euclid_para_dist_class[0], euclid_para_dist_class[1]), key=lambda x: x[0]))[0][1]\n",
    "    return classifier"
   ],
   "metadata": {
    "collapsed": false,
    "pycharm": {
     "name": "#%%\n"
    }
   }
  },
  {
   "cell_type": "code",
   "execution_count": 30,
   "outputs": [],
   "source": [
    "predictions = []\n",
    "real_y = []\n",
    "for _ in range(X_test.shape[0]):\n",
    "    real_y.append(y_test[_])\n",
    "    predictions.append(classification(X_test[_,:]))"
   ],
   "metadata": {
    "collapsed": false,
    "pycharm": {
     "name": "#%%\n"
    }
   }
  },
  {
   "cell_type": "code",
   "execution_count": 34,
   "outputs": [
    {
     "name": "stdout",
     "output_type": "stream",
     "text": [
      "SUMMARY ERROR =  0.03777777777777778\n",
      "METRIC =  0.0377777777777778\n"
     ]
    }
   ],
   "source": [
    "error_sum = 0\n",
    "for i in range(len(predictions)):\n",
    "    if predictions[i] != real_y[i]:\n",
    "        error_sum += 1\n",
    "\n",
    "print('SUMMARY ERROR = ', error_sum/ len(predictions))\n",
    "print('METRIC = ', 1 - metrics.accuracy_score(real_y, predictions))"
   ],
   "metadata": {
    "collapsed": false,
    "pycharm": {
     "name": "#%%\n"
    }
   }
  },
  {
   "cell_type": "code",
   "execution_count": 37,
   "outputs": [],
   "source": [
    "forest = ensemble.RandomForestClassifier(n_estimators=1000)\n",
    "forest.fit(X_train, y_train)\n",
    "predictions_forest = forest.predict(X_test)"
   ],
   "metadata": {
    "collapsed": false,
    "pycharm": {
     "name": "#%%\n"
    }
   }
  },
  {
   "cell_type": "code",
   "execution_count": 40,
   "outputs": [
    {
     "name": "stdout",
     "output_type": "stream",
     "text": [
      "FOREST ACCURACY:  0.06888888888888889\n"
     ]
    }
   ],
   "source": [
    "print('FOREST ACCURACY: ', 1 - metrics.accuracy_score(y_test, predictions_forest))"
   ],
   "metadata": {
    "collapsed": false,
    "pycharm": {
     "name": "#%%\n"
    }
   }
  }
 ],
 "metadata": {
  "kernelspec": {
   "display_name": "Python 3",
   "language": "python",
   "name": "python3"
  },
  "language_info": {
   "codemirror_mode": {
    "name": "ipython",
    "version": 2
   },
   "file_extension": ".py",
   "mimetype": "text/x-python",
   "name": "python",
   "nbconvert_exporter": "python",
   "pygments_lexer": "ipython2",
   "version": "2.7.6"
  }
 },
 "nbformat": 4,
 "nbformat_minor": 0
}