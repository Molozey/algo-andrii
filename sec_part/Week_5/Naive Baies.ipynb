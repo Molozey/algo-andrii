{
 "cells": [
  {
   "cell_type": "code",
   "execution_count": 1,
   "metadata": {
    "collapsed": true
   },
   "outputs": [],
   "source": [
    "from sklearn import datasets\n",
    "from sklearn.model_selection import cross_val_score\n",
    "digits = datasets.load_digits()\n",
    "breast = datasets.load_breast_cancer()"
   ]
  },
  {
   "cell_type": "code",
   "execution_count": 2,
   "outputs": [],
   "source": [
    "digits_data = digits.data\n",
    "digits_target = digits.target\n",
    "breast_data = breast.data\n",
    "breast_target = breast.target"
   ],
   "metadata": {
    "collapsed": false,
    "pycharm": {
     "name": "#%%\n"
    }
   }
  },
  {
   "cell_type": "code",
   "execution_count": 3,
   "outputs": [
    {
     "name": "stdout",
     "output_type": "stream",
     "text": [
      "[[1.799e+01 1.038e+01 1.228e+02 ... 2.654e-01 4.601e-01 1.189e-01]\n",
      " [2.057e+01 1.777e+01 1.329e+02 ... 1.860e-01 2.750e-01 8.902e-02]\n",
      " [1.969e+01 2.125e+01 1.300e+02 ... 2.430e-01 3.613e-01 8.758e-02]\n",
      " ...\n",
      " [1.660e+01 2.808e+01 1.083e+02 ... 1.418e-01 2.218e-01 7.820e-02]\n",
      " [2.060e+01 2.933e+01 1.401e+02 ... 2.650e-01 4.087e-01 1.240e-01]\n",
      " [7.760e+00 2.454e+01 4.792e+01 ... 0.000e+00 2.871e-01 7.039e-02]]\n",
      "-----\n",
      "[[ 0.  0.  5. ...  0.  0.  0.]\n",
      " [ 0.  0.  0. ... 10.  0.  0.]\n",
      " [ 0.  0.  0. ... 16.  9.  0.]\n",
      " ...\n",
      " [ 0.  0.  1. ...  6.  0.  0.]\n",
      " [ 0.  0.  2. ... 12.  0.  0.]\n",
      " [ 0.  0. 10. ... 12.  1.  0.]]\n"
     ]
    }
   ],
   "source": [
    "print(breast_data)\n",
    "print('-----')\n",
    "print(digits_data)\n",
    "\n",
    "#breast_data_train, breast_data_test, breast_target_train, breast_target_test ="
   ],
   "metadata": {
    "collapsed": false,
    "pycharm": {
     "name": "#%%\n"
    }
   }
  },
  {
   "cell_type": "code",
   "execution_count": 4,
   "outputs": [],
   "source": [
    "from sklearn.naive_bayes import BernoulliNB, MultinomialNB, GaussianNB"
   ],
   "metadata": {
    "collapsed": false,
    "pycharm": {
     "name": "#%%\n"
    }
   }
  },
  {
   "cell_type": "code",
   "execution_count": 5,
   "outputs": [],
   "source": [
    "bernoulli = BernoulliNB()\n",
    "multinomial = MultinomialNB()\n",
    "gaussian = GaussianNB()"
   ],
   "metadata": {
    "collapsed": false,
    "pycharm": {
     "name": "#%%\n"
    }
   }
  },
  {
   "cell_type": "code",
   "execution_count": 6,
   "outputs": [],
   "source": [
    "bernoulli_score = cross_val_score(bernoulli, digits_data, digits_target)\n",
    "multinomial_score = cross_val_score(multinomial, digits_data, digits_target)\n",
    "gaussian_score = cross_val_score(gaussian, digits_data, digits_target)"
   ],
   "metadata": {
    "collapsed": false,
    "pycharm": {
     "name": "#%%\n"
    }
   }
  },
  {
   "cell_type": "code",
   "execution_count": 7,
   "outputs": [
    {
     "name": "stdout",
     "output_type": "stream",
     "text": [
      "DIGITS:\n",
      "BERNOULLI:  0.8241736304549674\n",
      "MULTINOMIAL:  0.8703497369235531\n",
      "GAUSSIAN:  0.8069281956050759\n"
     ]
    }
   ],
   "source": [
    "print('DIGITS:')\n",
    "print('BERNOULLI: ', bernoulli_score.mean())\n",
    "print('MULTINOMIAL: ', multinomial_score.mean())\n",
    "print('GAUSSIAN: ', gaussian_score.mean())"
   ],
   "metadata": {
    "collapsed": false,
    "pycharm": {
     "name": "#%%\n"
    }
   }
  },
  {
   "cell_type": "code",
   "execution_count": 8,
   "outputs": [],
   "source": [
    "bernoulli = BernoulliNB()\n",
    "multinomial = MultinomialNB()\n",
    "gaussian = GaussianNB()"
   ],
   "metadata": {
    "collapsed": false,
    "pycharm": {
     "name": "#%%\n"
    }
   }
  },
  {
   "cell_type": "code",
   "execution_count": 9,
   "outputs": [],
   "source": [
    "bernoulli_score = cross_val_score(bernoulli, breast_data, breast_target)\n",
    "multinomial_score = cross_val_score(multinomial, breast_data, breast_target)\n",
    "gaussian_score = cross_val_score(gaussian, breast_data, breast_target)"
   ],
   "metadata": {
    "collapsed": false,
    "pycharm": {
     "name": "#%%\n"
    }
   }
  },
  {
   "cell_type": "code",
   "execution_count": 11,
   "outputs": [
    {
     "name": "stdout",
     "output_type": "stream",
     "text": [
      "BREAST:\n",
      "BERNOULLI:  0.6274181027790716\n",
      "MULTINOMIAL:  0.8963204471355379\n",
      "GAUSSIAN:  0.9385188635305075\n"
     ]
    }
   ],
   "source": [
    "print('BREAST:')\n",
    "print('BERNOULLI: ', bernoulli_score.mean())\n",
    "print('MULTINOMIAL: ', multinomial_score.mean())\n",
    "print('GAUSSIAN: ', gaussian_score.mean())"
   ],
   "metadata": {
    "collapsed": false,
    "pycharm": {
     "name": "#%%\n"
    }
   }
  }
 ],
 "metadata": {
  "kernelspec": {
   "display_name": "Python 3",
   "language": "python",
   "name": "python3"
  },
  "language_info": {
   "codemirror_mode": {
    "name": "ipython",
    "version": 2
   },
   "file_extension": ".py",
   "mimetype": "text/x-python",
   "name": "python",
   "nbconvert_exporter": "python",
   "pygments_lexer": "ipython2",
   "version": "2.7.6"
  }
 },
 "nbformat": 4,
 "nbformat_minor": 0
}