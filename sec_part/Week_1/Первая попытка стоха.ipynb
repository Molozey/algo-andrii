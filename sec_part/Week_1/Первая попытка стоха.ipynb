{
 "cells": [
  {
   "cell_type": "markdown",
   "metadata": {},
   "source": [
    "**Корректность проверена на Python 3.6:**\n",
    "+ numpy 1.15.4\n",
    "+ pandas 0.23.4"
   ]
  },
  {
   "cell_type": "markdown",
   "metadata": {},
   "source": [
    "# Линейная регрессия и стохастический градиентный спуск"
   ]
  },
  {
   "cell_type": "markdown",
   "metadata": {},
   "source": [
    "Задание основано на материалах лекций по линейной регрессии и градиентному спуску. Вы будете прогнозировать выручку компании в зависимости от уровня ее инвестиций в рекламу по TV, в газетах и по радио."
   ]
  },
  {
   "cell_type": "markdown",
   "metadata": {},
   "source": [
    "## Вы научитесь:\n",
    "- решать задачу восстановления линейной регрессии\n",
    "- реализовывать стохастический градиентный спуск для ее настройки\n",
    "- решать задачу линейной регрессии аналитически"
   ]
  },
  {
   "cell_type": "markdown",
   "metadata": {},
   "source": [
    "## Введение\n",
    "Линейная регрессия - один из наиболее хорошо изученных методов машинного обучения, позволяющий прогнозировать значения количественного признака в виде линейной комбинации прочих признаков с параметрами - весами модели. Оптимальные (в смысле минимальности некоторого функционала ошибки) параметры линейной регрессии можно найти аналитически с помощью нормального уравнения или численно с помощью методов оптимизации.  "
   ]
  },
  {
   "cell_type": "markdown",
   "metadata": {},
   "source": [
    "Линейная регрессия использует простой функционал качества - среднеквадратичную ошибку. Мы будем работать с выборкой, содержащей 3 признака. Для настройки параметров (весов) модели решается следующая задача:\n",
    "$$\\Large \\frac{1}{\\ell}\\sum_{i=1}^\\ell{{((w_0 + w_1x_{i1} + w_2x_{i2} +  w_3x_{i3}) - y_i)}^2} \\rightarrow \\min_{w_0, w_1, w_2, w_3},$$\n",
    "где $x_{i1}, x_{i2}, x_{i3}$ - значения признаков $i$-го объекта, $y_i$ - значение целевого признака $i$-го объекта, $\\ell$ - число объектов в обучающей выборке."
   ]
  },
  {
   "cell_type": "markdown",
   "metadata": {},
   "source": [
    "## Градиентный спуск\n",
    "Параметры $w_0, w_1, w_2, w_3$, по которым минимизируется среднеквадратичная ошибка, можно находить численно с помощью градиентного спуска.\n",
    "Градиентный шаг для весов будет выглядеть следующим образом:\n",
    "$$\\Large w_0 \\leftarrow w_0 - \\frac{2\\eta}{\\ell} \\sum_{i=1}^\\ell{{((w_0 + w_1x_{i1} + w_2x_{i2} +  w_3x_{i3}) - y_i)}}$$\n",
    "$$\\Large w_j \\leftarrow w_j - \\frac{2\\eta}{\\ell} \\sum_{i=1}^\\ell{{x_{ij}((w_0 + w_1x_{i1} + w_2x_{i2} +  w_3x_{i3}) - y_i)}},\\ j \\in \\{1,2,3\\}$$\n",
    "Здесь $\\eta$ - параметр, шаг градиентного спуска."
   ]
  },
  {
   "cell_type": "markdown",
   "metadata": {},
   "source": [
    "## Стохастический градиентный спуск\n",
    "Проблема градиентного спуска, описанного выше, в том, что на больших выборках считать на каждом шаге градиент по всем имеющимся данным может быть очень вычислительно сложно. \n",
    "В стохастическом варианте градиентного спуска поправки для весов вычисляются только с учетом одного случайно взятого объекта обучающей выборки:\n",
    "$$\\Large w_0 \\leftarrow w_0 - \\frac{2\\eta}{\\ell} {((w_0 + w_1x_{k1} + w_2x_{k2} +  w_3x_{k3}) - y_k)}$$\n",
    "$$\\Large w_j \\leftarrow w_j - \\frac{2\\eta}{\\ell} {x_{kj}((w_0 + w_1x_{k1} + w_2x_{k2} +  w_3x_{k3}) - y_k)},\\ j \\in \\{1,2,3\\},$$\n",
    "где $k$ - случайный индекс, $k \\in \\{1, \\ldots, \\ell\\}$."
   ]
  },
  {
   "cell_type": "markdown",
   "metadata": {},
   "source": [
    "## Нормальное уравнение \n",
    "Нахождение вектора оптимальных весов $w$ может быть сделано и аналитически.\n",
    "Мы хотим найти такой вектор весов $w$, чтобы вектор $y$, приближающий целевой признак, получался умножением матрицы $X$ (состоящей из всех признаков объектов обучающей выборки, кроме целевого) на вектор весов $w$. То есть, чтобы выполнялось матричное уравнение:\n",
    "$$\\Large y = Xw$$\n",
    "Домножением слева на $X^T$ получаем:\n",
    "$$\\Large X^Ty = X^TXw$$\n",
    "Это хорошо, поскольку теперь матрица $X^TX$ - квадратная, и можно найти решение (вектор $w$) в виде:\n",
    "$$\\Large w = {(X^TX)}^{-1}X^Ty$$\n",
    "Матрица ${(X^TX)}^{-1}X^T$ - [*псевдообратная*](https://ru.wikipedia.org/wiki/Псевдообратная_матрица) для матрицы $X$. В NumPy такую матрицу можно вычислить с помощью функции [numpy.linalg.pinv](http://docs.scipy.org/doc/numpy-1.10.0/reference/generated/numpy.linalg.pinv.html).\n",
    "\n",
    "Однако, нахождение псевдообратной матрицы - операция вычислительно сложная и нестабильная в случае малого определителя матрицы $X$ (проблема мультиколлинеарности). \n",
    "На практике лучше находить вектор весов $w$ решением матричного уравнения \n",
    "$$\\Large X^TXw = X^Ty$$Это может быть сделано с помощью функции [numpy.linalg.solve](http://docs.scipy.org/doc/numpy-1.10.1/reference/generated/numpy.linalg.solve.html).\n",
    "\n",
    "Но все же на практике для больших матриц $X$ быстрее работает градиентный спуск, особенно его стохастическая версия."
   ]
  },
  {
   "cell_type": "markdown",
   "metadata": {},
   "source": [
    "## Инструкции по выполнению"
   ]
  },
  {
   "cell_type": "markdown",
   "metadata": {},
   "source": [
    "**1. Загрузите данные из файла *advertising.csv* в объект pandas DataFrame. [Источник данных](http://www-bcf.usc.edu/~gareth/ISL/data.html).**"
   ]
  },
  {
   "cell_type": "code",
   "execution_count": 1,
   "metadata": {},
   "outputs": [],
   "source": [
    "import pandas as pd\n",
    "import numpy as np\n",
    "adver_data = pd.read_csv('Week_2_data.csv')"
   ]
  },
  {
   "cell_type": "markdown",
   "metadata": {
    "collapsed": true
   },
   "source": [
    "**Посмотрите на первые 5 записей и на статистику признаков в этом наборе данных.**"
   ]
  },
  {
   "cell_type": "code",
   "execution_count": 2,
   "metadata": {},
   "outputs": [
    {
     "name": "stdout",
     "output_type": "stream",
     "text": [
      "      TV  Radio  Newspaper  Sales\n",
      "1  230.1   37.8       69.2   22.1\n",
      "2   44.5   39.3       45.1   10.4\n",
      "3   17.2   45.9       69.3    9.3\n",
      "4  151.5   41.3       58.5   18.5\n",
      "5  180.8   10.8       58.4   12.9\n"
     ]
    }
   ],
   "source": [
    "print(adver_data.head(5))"
   ]
  },
  {
   "cell_type": "code",
   "execution_count": 3,
   "metadata": {},
   "outputs": [
    {
     "data": {
      "text/plain": "<AxesSubplot:title={'center':'Частота появления конкретного признака'}, ylabel='Frequency'>"
     },
     "execution_count": 3,
     "metadata": {},
     "output_type": "execute_result"
    },
    {
     "data": {
      "text/plain": "<Figure size 432x288 with 1 Axes>",
      "image/png": "[encoded data removed]"
     },
     "metadata": {
      "needs_background": "light"
     },
     "output_type": "display_data"
    },
    {
     "data": {
      "text/plain": "<Figure size 432x288 with 1 Axes>",
      "image/png": "[encoded data removed]"
     },
     "metadata": {
      "needs_background": "light"
     },
     "output_type": "display_data"
    },
    {
     "data": {
      "text/plain": "<Figure size 432x288 with 1 Axes>",
      "image/png": "[encoded data removed]"
     },
     "metadata": {
      "needs_background": "light"
     },
     "output_type": "display_data"
    }
   ],
   "source": [
    "adver_data.plot(y='TV', kind='hist', color='green', title='Частота появления конкретного признака')\n",
    "adver_data.plot(y='Radio', kind='hist', color='green', title='Частота появления конкретного признака')\n",
    "adver_data.plot(y='Newspaper', kind='hist', color='green', title='Частота появления конкретного признака')"
   ]
  },
  {
   "cell_type": "markdown",
   "metadata": {},
   "source": [
    "**Создайте массивы NumPy *X* из столбцов TV, Radio и Newspaper и *y* - из столбца Sales. Используйте атрибут *values* объекта pandas DataFrame.**"
   ]
  },
  {
   "cell_type": "code",
   "execution_count": 4,
   "metadata": {},
   "outputs": [],
   "source": [
    "X = adver_data.values[:,:-1]\n",
    "y = adver_data.values[:,3:]"
   ]
  },
  {
   "cell_type": "markdown",
   "metadata": {},
   "source": [
    "**Отмасштабируйте столбцы матрицы *X*, вычтя из каждого значения среднее по соответствующему столбцу и поделив результат на стандартное отклонение. Для определенности, используйте методы mean и std векторов NumPy (реализация std в Pandas может отличаться). Обратите внимание, что в numpy вызов функции .mean() без параметров возвращает среднее по всем элементам массива, а не по столбцам, как в pandas. Чтобы произвести вычисление по столбцам, необходимо указать параметр axis.**"
   ]
  },
  {
   "cell_type": "code",
   "execution_count": 5,
   "metadata": {},
   "outputs": [],
   "source": [
    "X_scalar = X\n",
    "means = np.mean(X_scalar,axis = 0)\n",
    "std = np.std(X_scalar,axis = 0)\n",
    "for i in range(0,3,1):\n",
    "    X_scalar[:,i] = X_scalar[:,i] - means[i]\n",
    "for i in range(0,3,1):\n",
    "    X_scalar[:,i] = X_scalar[:,i] / std[i]"
   ]
  },
  {
   "cell_type": "code",
   "execution_count": 5,
   "metadata": {},
   "outputs": [],
   "source": []
  },
  {
   "cell_type": "markdown",
   "metadata": {},
   "source": [
    "**Добавьте к матрице *X* столбец из единиц, используя методы *hstack*, *ones* и *reshape* библиотеки NumPy. Вектор из единиц нужен для того, чтобы не обрабатывать отдельно коэффициент $w_0$ линейной регрессии.**"
   ]
  },
  {
   "cell_type": "code",
   "execution_count": 6,
   "metadata": {},
   "outputs": [],
   "source": [
    "X = np.reshape(np.hstack((np.ones((len(X),1)), X_scalar)),(200,4))"
   ]
  },
  {
   "cell_type": "markdown",
   "metadata": {},
   "source": [
    "**2. Реализуйте функцию *mserror* - среднеквадратичную ошибку прогноза. Она принимает два аргумента - объекты Series *y* (значения целевого признака) и *y\\_pred* (предсказанные значения). Не используйте в этой функции циклы - тогда она будет вычислительно неэффективной.**"
   ]
  },
  {
   "cell_type": "code",
   "execution_count": 7,
   "metadata": {},
   "outputs": [],
   "source": [
    "def mserror(y, y_pred):\n",
    "    return np.average((y - y_pred)**2)\n"
   ]
  },
  {
   "cell_type": "markdown",
   "metadata": {},
   "source": [
    "**Какова среднеквадратичная ошибка прогноза значений Sales, если всегда предсказывать медианное значение Sales по исходной выборке? Полученный результат, округленный до 3 знаков после запятой, является ответом на *'1 задание'.***"
   ]
  },
  {
   "cell_type": "code",
   "execution_count": 8,
   "metadata": {},
   "outputs": [
    {
     "name": "stdout",
     "output_type": "stream",
     "text": [
      "27.086\n"
     ]
    }
   ],
   "source": [
    "answer1 = mserror(np.average(y),y)\n",
    "print(round(answer1, 3))"
   ]
  },
  {
   "cell_type": "markdown",
   "metadata": {},
   "source": [
    "**3. Реализуйте функцию *normal_equation*, которая по заданным матрицам (массивам NumPy) *X* и *y* вычисляет вектор весов $w$ согласно нормальному уравнению линейной регрессии.**"
   ]
  },
  {
   "cell_type": "code",
   "execution_count": 9,
   "metadata": {},
   "outputs": [],
   "source": [
    "def normal_equation(X, y):\n",
    "    X_TR = np.linalg.pinv(X)\n",
    "\n",
    "    return np.dot(X_TR, y)  # Ваш код здесь"
   ]
  },
  {
   "cell_type": "code",
   "execution_count": 10,
   "metadata": {},
   "outputs": [
    {
     "name": "stdout",
     "output_type": "stream",
     "text": [
      "[[14.0225    ]\n",
      " [ 3.91925365]\n",
      " [ 2.79206274]\n",
      " [-0.02253861]]\n"
     ]
    }
   ],
   "source": [
    "norm_eq_weights = normal_equation(X, y)\n",
    "print(norm_eq_weights)"
   ]
  },
  {
   "cell_type": "markdown",
   "metadata": {},
   "source": [
    "**Какие продажи предсказываются линейной моделью с весами, найденными с помощью нормального уравнения, в случае средних инвестиций в рекламу по ТВ, радио и в газетах? (то есть при нулевых значениях масштабированных признаков TV, Radio и Newspaper). Полученный результат, округленный до 3 знаков после запятой, является ответом на *'2 задание'*.**"
   ]
  },
  {
   "cell_type": "code",
   "execution_count": 11,
   "metadata": {},
   "outputs": [
    {
     "name": "stdout",
     "output_type": "stream",
     "text": [
      "20.524\n"
     ]
    }
   ],
   "source": [
    "answer2 = np.dot(X[0], norm_eq_weights)\n",
    "print(round(float(answer2), 3))"
   ]
  },
  {
   "cell_type": "markdown",
   "metadata": {},
   "source": [
    "**4. Напишите функцию *linear_prediction*, которая принимает на вход матрицу *X* и вектор весов линейной модели *w*, а возвращает вектор прогнозов в виде линейной комбинации столбцов матрицы *X* с весами *w*.**"
   ]
  },
  {
   "cell_type": "code",
   "execution_count": 12,
   "metadata": {},
   "outputs": [],
   "source": [
    "def linear_prediction(X, w):\n",
    "    return np.dot(X,w)"
   ]
  },
  {
   "cell_type": "markdown",
   "metadata": {},
   "source": [
    "**Какова среднеквадратичная ошибка прогноза значений Sales в виде линейной модели с весами, найденными с помощью нормального уравнения?\n",
    "Полученный результат, округленный до 3 знаков после запятой, является ответом на *'3 задание'***"
   ]
  },
  {
   "cell_type": "code",
   "execution_count": 13,
   "metadata": {},
   "outputs": [
    {
     "name": "stdout",
     "output_type": "stream",
     "text": [
      "2.784\n"
     ]
    }
   ],
   "source": [
    "def error(X,w,y):\n",
    "    return np.average((linear_prediction(X, w) - y)**2)\n",
    "answer3 = error(X, norm_eq_weights, y)\n",
    "print(round(answer3, 3))"
   ]
  },
  {
   "cell_type": "markdown",
   "metadata": {},
   "source": [
    "**5. Напишите функцию *stochastic_gradient_step*, реализующую шаг стохастического градиентного спуска для линейной регрессии. Функция должна принимать матрицу *X*, вектора *y* и *w*, число *train_ind* - индекс объекта обучающей выборки (строки матрицы *X*), по которому считается изменение весов, а также число *$\\eta$* (eta) - шаг градиентного спуска (по умолчанию *eta*=0.01). Результатом будет вектор обновленных весов. Наша реализация функции будет явно написана для данных с 3 признаками, но несложно модифицировать для любого числа признаков, можете это сделать.**"
   ]
  },
  {
   "cell_type": "code",
   "execution_count": 40,
   "metadata": {},
   "outputs": [
    {
     "name": "stdout",
     "output_type": "stream",
     "text": [
      "[[2.48385666e+00]\n",
      " [3.75528131e+00]\n",
      " [9.04608352e+00]\n",
      " [8.13911590e-01]\n",
      " [8.33314409e-02]\n",
      " [2.78609537e+01]\n",
      " [4.93366440e-03]\n",
      " [1.16002988e+00]\n",
      " [1.15059762e+00]\n",
      " [3.80581074e+00]\n",
      " [2.45768580e+00]\n",
      " [1.31953047e-02]\n",
      " [1.89646151e+00]\n",
      " [7.63350851e-01]\n",
      " [3.19941388e-01]\n",
      " [2.49861402e+00]\n",
      " [1.04753688e-01]\n",
      " [1.38072568e+00]\n",
      " [1.81796127e+00]\n",
      " [1.88292700e-01]\n",
      " [1.01540441e-02]\n",
      " [5.02001143e+00]\n",
      " [7.90588262e-01]\n",
      " [1.09397562e+00]\n",
      " [2.41330362e+00]\n",
      " [1.30323787e+01]\n",
      " [1.09950148e-04]\n",
      " [1.32635170e+00]\n",
      " [2.60649077e-01]\n",
      " [1.83867120e+00]\n",
      " [5.47250240e-02]\n",
      " [3.06813071e-01]\n",
      " [3.84597933e+00]\n",
      " [2.14408163e+00]\n",
      " [3.70627755e+00]\n",
      " [1.76973865e+01]\n",
      " [3.97643275e+00]\n",
      " [8.52811226e-01]\n",
      " [3.66029466e-02]\n",
      " [1.10752388e+00]\n",
      " [4.94329984e-02]\n",
      " [3.84094144e-02]\n",
      " [8.02463474e-01]\n",
      " [1.13179138e+00]\n",
      " [1.50450861e-01]\n",
      " [6.83943520e-02]\n",
      " [2.98119337e+00]\n",
      " [2.18262243e+00]\n",
      " [2.14218404e+00]\n",
      " [2.34651662e+00]\n",
      " [1.51588133e+00]\n",
      " [1.85010878e+00]\n",
      " [3.75206342e+00]\n",
      " [1.57577917e+00]\n",
      " [3.04258523e-02]\n",
      " [5.79552371e+00]\n",
      " [9.16704325e+00]\n",
      " [1.80975352e-01]\n",
      " [3.61740626e+00]\n",
      " [7.10291895e-02]\n",
      " [5.55943029e+00]\n",
      " [1.71433960e+00]\n",
      " [1.17562133e+00]\n",
      " [6.23007092e-01]\n",
      " [1.04502458e+00]\n",
      " [2.10526948e+00]\n",
      " [2.34225380e-01]\n",
      " [1.85774911e+00]\n",
      " [5.86438036e-03]\n",
      " [1.41868958e+00]\n",
      " [2.70922523e-01]\n",
      " [3.14374831e+00]\n",
      " [2.45501519e+00]\n",
      " [1.20344837e+00]\n",
      " [1.08446372e-01]\n",
      " [9.97499621e+00]\n",
      " [5.86807486e+00]\n",
      " [1.50619881e-01]\n",
      " [1.23433719e+01]\n",
      " [1.75482139e+00]\n",
      " [1.25370069e-01]\n",
      " [5.51282659e+00]\n",
      " [1.25796863e+00]\n",
      " [6.75424469e-01]\n",
      " [8.43890930e-01]\n",
      " [3.45666560e-04]\n",
      " [1.61035755e-01]\n",
      " [1.65010831e-01]\n",
      " [1.41307662e+00]\n",
      " [4.93973325e-02]\n",
      " [1.44184943e+00]\n",
      " [7.86064406e+00]\n",
      " [5.93428297e-02]\n",
      " [9.45612744e-01]\n",
      " [1.03607185e+00]\n",
      " [3.42317290e-01]\n",
      " [8.75566607e-01]\n",
      " [2.65436359e-02]\n",
      " [1.64196743e+00]\n",
      " [6.74180135e-02]\n",
      " [4.73479512e+00]\n",
      " [3.10820914e-01]\n",
      " [8.08886980e+00]\n",
      " [3.87026029e-03]\n",
      " [1.59114202e-01]\n",
      " [1.59664788e+00]\n",
      " [1.15342843e+00]\n",
      " [2.53286434e+00]\n",
      " [2.93348375e+00]\n",
      " [1.14637575e-02]\n",
      " [1.84925755e+00]\n",
      " [4.35237102e-01]\n",
      " [4.81320365e-02]\n",
      " [2.53790490e-01]\n",
      " [4.97160265e-01]\n",
      " [1.02201026e-01]\n",
      " [4.89526967e-02]\n",
      " [8.00450053e+00]\n",
      " [1.11493565e-01]\n",
      " [4.84297781e-02]\n",
      " [1.18786883e+00]\n",
      " [7.02372089e-01]\n",
      " [4.10652838e+00]\n",
      " [1.37379739e-02]\n",
      " [6.03129430e-02]\n",
      " [2.16869925e+00]\n",
      " [1.58179139e+01]\n",
      " [4.84145651e+00]\n",
      " [5.97562125e+00]\n",
      " [3.29746923e+00]\n",
      " [7.79280596e+01]\n",
      " [8.28172244e+00]\n",
      " [7.55782636e+00]\n",
      " [1.10940241e-01]\n",
      " [1.07496232e+00]\n",
      " [5.76678848e+00]\n",
      " [3.81610860e+00]\n",
      " [2.62676596e-03]\n",
      " [2.83679760e-02]\n",
      " [1.04964877e+00]\n",
      " [1.98911258e+00]\n",
      " [6.41554032e-01]\n",
      " [7.22722262e-01]\n",
      " [2.67387047e+00]\n",
      " [1.71260661e+00]\n",
      " [3.49826444e-01]\n",
      " [4.38577281e+00]\n",
      " [4.57591553e+00]\n",
      " [1.85874888e+00]\n",
      " [7.43810523e-02]\n",
      " [5.14022006e+00]\n",
      " [2.52957033e+00]\n",
      " [5.75998539e-02]\n",
      " [6.02329161e-01]\n",
      " [9.67922275e-03]\n",
      " [4.44180452e+00]\n",
      " [7.19984748e-03]\n",
      " [7.34257049e-03]\n",
      " [9.51228137e+00]\n",
      " [2.50852498e-01]\n",
      " [3.46581592e-02]\n",
      " [6.71564854e-02]\n",
      " [2.18856091e-03]\n",
      " [4.20375779e-01]\n",
      " [6.91733867e-01]\n",
      " [5.39968103e+00]\n",
      " [7.97720886e+00]\n",
      " [1.35314305e+00]\n",
      " [7.42058209e-03]\n",
      " [8.65275344e+00]\n",
      " [1.01006527e+00]\n",
      " [2.00863355e-02]\n",
      " [5.91726904e-05]\n",
      " [7.34078731e-02]\n",
      " [5.03714022e+00]\n",
      " [4.89794301e+00]\n",
      " [4.86764043e-02]\n",
      " [2.13486878e-01]\n",
      " [1.77324976e+01]\n",
      " [4.64165702e-02]\n",
      " [7.60378759e-03]\n",
      " [2.98632679e+00]\n",
      " [4.60244082e+00]\n",
      " [4.27207507e+00]\n",
      " [8.80821583e-01]\n",
      " [3.22917095e+00]\n",
      " [3.70426666e-01]\n",
      " [4.99780773e-02]\n",
      " [7.53121806e+00]\n",
      " [4.20391299e-01]\n",
      " [2.85325847e+00]\n",
      " [2.17851895e+00]\n",
      " [2.05569767e+00]\n",
      " [1.23886257e+00]\n",
      " [6.47541385e-01]\n",
      " [4.97137264e+00]\n",
      " [2.35526615e+00]\n",
      " [1.98223396e-04]\n",
      " [3.00217481e+00]\n",
      " [3.14422241e+00]]\n"
     ]
    },
    {
     "ename": "ValueError",
     "evalue": "Shape of array too small to calculate a numerical gradient, at least (edge_order + 1) elements are required.",
     "output_type": "error",
     "traceback": [
      "\u001B[0;31m---------------------------------------------------------------------------\u001B[0m",
      "\u001B[0;31mValueError\u001B[0m                                Traceback (most recent call last)",
      "\u001B[0;32m<ipython-input-40-cee4f297af7a>\u001B[0m in \u001B[0;36m<module>\u001B[0;34m\u001B[0m\n\u001B[1;32m     13\u001B[0m     \u001B[0;32mreturn\u001B[0m  \u001B[0mw\u001B[0m \u001B[0;34m-\u001B[0m \u001B[0meta\u001B[0m \u001B[0;34m*\u001B[0m \u001B[0mnp\u001B[0m\u001B[0;34m.\u001B[0m\u001B[0marray\u001B[0m\u001B[0;34m(\u001B[0m\u001B[0mgrad\u001B[0m\u001B[0;34m)\u001B[0m\u001B[0;34m\u001B[0m\u001B[0;34m\u001B[0m\u001B[0m\n\u001B[1;32m     14\u001B[0m \u001B[0mprint\u001B[0m\u001B[0;34m(\u001B[0m\u001B[0mfunctional\u001B[0m\u001B[0;34m(\u001B[0m\u001B[0mX\u001B[0m\u001B[0;34m,\u001B[0m\u001B[0mnorm_eq_weights\u001B[0m\u001B[0;34m,\u001B[0m\u001B[0my\u001B[0m\u001B[0;34m)\u001B[0m\u001B[0;34m)\u001B[0m\u001B[0;34m\u001B[0m\u001B[0;34m\u001B[0m\u001B[0m\n\u001B[0;32m---> 15\u001B[0;31m \u001B[0mprint\u001B[0m\u001B[0;34m(\u001B[0m\u001B[0;34m'MEM'\u001B[0m\u001B[0;34m,\u001B[0m \u001B[0mstochastic_gradient_step\u001B[0m\u001B[0;34m(\u001B[0m\u001B[0mX\u001B[0m\u001B[0;34m,\u001B[0m\u001B[0my\u001B[0m\u001B[0;34m,\u001B[0m\u001B[0mnorm_eq_weights\u001B[0m\u001B[0;34m,\u001B[0m\u001B[0mtrain_ind\u001B[0m\u001B[0;34m=\u001B[0m\u001B[0;36m1\u001B[0m\u001B[0;34m)\u001B[0m\u001B[0;34m)\u001B[0m\u001B[0;34m\u001B[0m\u001B[0;34m\u001B[0m\u001B[0m\n\u001B[0m\u001B[1;32m     16\u001B[0m \u001B[0;34m\u001B[0m\u001B[0m\n",
      "\u001B[0;32m<ipython-input-40-cee4f297af7a>\u001B[0m in \u001B[0;36mstochastic_gradient_step\u001B[0;34m(X, y, w, train_ind, eta)\u001B[0m\n\u001B[1;32m      4\u001B[0m \u001B[0;34m\u001B[0m\u001B[0m\n\u001B[1;32m      5\u001B[0m \u001B[0;32mdef\u001B[0m \u001B[0mstochastic_gradient_step\u001B[0m\u001B[0;34m(\u001B[0m\u001B[0mX\u001B[0m\u001B[0;34m,\u001B[0m \u001B[0my\u001B[0m\u001B[0;34m,\u001B[0m \u001B[0mw\u001B[0m\u001B[0;34m,\u001B[0m \u001B[0mtrain_ind\u001B[0m\u001B[0;34m,\u001B[0m \u001B[0meta\u001B[0m\u001B[0;34m=\u001B[0m\u001B[0;36m0.01\u001B[0m\u001B[0;34m)\u001B[0m\u001B[0;34m:\u001B[0m\u001B[0;34m\u001B[0m\u001B[0;34m\u001B[0m\u001B[0m\n\u001B[0;32m----> 6\u001B[0;31m     \u001B[0mgrad\u001B[0m \u001B[0;34m=\u001B[0m \u001B[0mnp\u001B[0m\u001B[0;34m.\u001B[0m\u001B[0mgradient\u001B[0m\u001B[0;34m(\u001B[0m\u001B[0mfunctional\u001B[0m\u001B[0;34m(\u001B[0m\u001B[0mX\u001B[0m\u001B[0;34m,\u001B[0m\u001B[0mw\u001B[0m\u001B[0;34m,\u001B[0m\u001B[0my\u001B[0m\u001B[0;34m)\u001B[0m\u001B[0;34m)\u001B[0m\u001B[0;34m\u001B[0m\u001B[0;34m\u001B[0m\u001B[0m\n\u001B[0m\u001B[1;32m      7\u001B[0m     \u001B[0mprint\u001B[0m\u001B[0;34m(\u001B[0m\u001B[0mgrad\u001B[0m\u001B[0;34m)\u001B[0m\u001B[0;34m\u001B[0m\u001B[0;34m\u001B[0m\u001B[0m\n\u001B[1;32m      8\u001B[0m     \u001B[0mprint\u001B[0m\u001B[0;34m(\u001B[0m\u001B[0mfunctional\u001B[0m\u001B[0;34m(\u001B[0m\u001B[0mX\u001B[0m\u001B[0;34m,\u001B[0m\u001B[0mw\u001B[0m\u001B[0;34m,\u001B[0m\u001B[0my\u001B[0m\u001B[0;34m)\u001B[0m\u001B[0;34m)\u001B[0m\u001B[0;34m\u001B[0m\u001B[0;34m\u001B[0m\u001B[0m\n",
      "\u001B[0;32m<__array_function__ internals>\u001B[0m in \u001B[0;36mgradient\u001B[0;34m(*args, **kwargs)\u001B[0m\n",
      "\u001B[0;32m~/PycharmProjects/Coursera_Machine_2/venv/lib/python3.9/site-packages/numpy/lib/function_base.py\u001B[0m in \u001B[0;36mgradient\u001B[0;34m(f, axis, edge_order, *varargs)\u001B[0m\n\u001B[1;32m   1051\u001B[0m     \u001B[0;32mfor\u001B[0m \u001B[0maxis\u001B[0m\u001B[0;34m,\u001B[0m \u001B[0max_dx\u001B[0m \u001B[0;32min\u001B[0m \u001B[0mzip\u001B[0m\u001B[0;34m(\u001B[0m\u001B[0maxes\u001B[0m\u001B[0;34m,\u001B[0m \u001B[0mdx\u001B[0m\u001B[0;34m)\u001B[0m\u001B[0;34m:\u001B[0m\u001B[0;34m\u001B[0m\u001B[0;34m\u001B[0m\u001B[0m\n\u001B[1;32m   1052\u001B[0m         \u001B[0;32mif\u001B[0m \u001B[0mf\u001B[0m\u001B[0;34m.\u001B[0m\u001B[0mshape\u001B[0m\u001B[0;34m[\u001B[0m\u001B[0maxis\u001B[0m\u001B[0;34m]\u001B[0m \u001B[0;34m<\u001B[0m \u001B[0medge_order\u001B[0m \u001B[0;34m+\u001B[0m \u001B[0;36m1\u001B[0m\u001B[0;34m:\u001B[0m\u001B[0;34m\u001B[0m\u001B[0;34m\u001B[0m\u001B[0m\n\u001B[0;32m-> 1053\u001B[0;31m             raise ValueError(\n\u001B[0m\u001B[1;32m   1054\u001B[0m                 \u001B[0;34m\"Shape of array too small to calculate a numerical gradient, \"\u001B[0m\u001B[0;34m\u001B[0m\u001B[0;34m\u001B[0m\u001B[0m\n\u001B[1;32m   1055\u001B[0m                 \"at least (edge_order + 1) elements are required.\")\n",
      "\u001B[0;31mValueError\u001B[0m: Shape of array too small to calculate a numerical gradient, at least (edge_order + 1) elements are required."
     ]
    }
   ],
   "source": [
    "def functional(X,w,y):\n",
    "    return (np.dot(X,w) - y)**2\n",
    "\n",
    "\n",
    "def stochastic_gradient_step(X, y, w, train_ind, eta=0.01):\n",
    "    grad = np.gradient(functional(X,w,y))\n",
    "    print(grad)\n",
    "    print(functional(X,w,y))\n",
    "    #grad0 = (2 / len(X) ) * sum(X,y)\n",
    "    #grad1 = # Ваш код здесь\n",
    "    #grad2 = # Ваш код здесь\n",
    "    #grad3 = # Ваш код здесь\n",
    "    return  w - eta * np.array(grad)\n",
    "print(functional(X,norm_eq_weights,y))\n",
    "print('MEM', stochastic_gradient_step(X,y,norm_eq_weights,train_ind=1))"
   ]
  },
  {
   "cell_type": "markdown",
   "metadata": {},
   "source": [
    "**6. Напишите функцию *stochastic_gradient_descent*, реализующую стохастический градиентный спуск для линейной регрессии. Функция принимает на вход следующие аргументы:**\n",
    "- X - матрица, соответствующая обучающей выборке\n",
    "- y - вектор значений целевого признака\n",
    "- w_init - вектор начальных весов модели\n",
    "- eta - шаг градиентного спуска (по умолчанию 0.01)\n",
    "- max_iter - максимальное число итераций градиентного спуска (по умолчанию 10000)\n",
    "- min_weight_dist - максимальное евклидово расстояние между векторами весов на соседних итерациях градиентного спуска,\n",
    "при котором алгоритм прекращает работу (по умолчанию 1e-8)\n",
    "- seed - число, используемое для воспроизводимости сгенерированных псевдослучайных чисел (по умолчанию 42)\n",
    "- verbose - флаг печати информации (например, для отладки, по умолчанию False)\n",
    "\n",
    "**На каждой итерации в вектор (список) должно записываться текущее значение среднеквадратичной ошибки. Функция должна возвращать вектор весов $w$, а также вектор (список) ошибок.**"
   ]
  },
  {
   "cell_type": "code",
   "execution_count": 15,
   "metadata": {},
   "outputs": [],
   "source": [
    "def stochastic_gradient_descent(X, y, w_init, eta=1e-2, max_iter=1e4,\n",
    "                                min_weight_dist=1e-8, seed=42, verbose=False):\n",
    "    # Инициализируем расстояние между векторами весов на соседних\n",
    "    # итерациях большим числом. \n",
    "    weight_dist = np.inf\n",
    "    # Инициализируем вектор весов\n",
    "    w = w_init\n",
    "    # Сюда будем записывать ошибки на каждой итерации\n",
    "    errors = []\n",
    "    # Счетчик итераций\n",
    "    iter_num = 0\n",
    "    # Будем порождать псевдослучайные числа \n",
    "    # (номер объекта, который будет менять веса), а для воспроизводимости\n",
    "    # этой последовательности псевдослучайных чисел используем seed.\n",
    "    np.random.seed(seed)\n",
    "        \n",
    "    # Основной цикл\n",
    "    while weight_dist > min_weight_dist and iter_num < max_iter:\n",
    "        # порождаем псевдослучайный \n",
    "        # индекс объекта обучающей выборки\n",
    "        random_ind = np.random.randint(X.shape[0])\n",
    "        \n",
    "        # Ваш код здесь\n",
    "        \n",
    "    return w, errors"
   ]
  },
  {
   "cell_type": "markdown",
   "metadata": {},
   "source": [
    " **Запустите $10^5$ итераций стохастического градиентного спуска. Укажите вектор начальных весов *w_init*, состоящий из нулей. Оставьте параметры  *eta* и *seed* равными их значениям по умолчанию (*eta*=0.01, *seed*=42 - это важно для проверки ответов).**"
   ]
  },
  {
   "cell_type": "code",
   "execution_count": 16,
   "metadata": {},
   "outputs": [
    {
     "ename": "SyntaxError",
     "evalue": "invalid syntax (<unknown>, line 1)",
     "output_type": "error",
     "traceback": [
      "Traceback \u001B[0;36m(most recent call last)\u001B[0m:\n",
      "  File \u001B[1;32m\"/Users/molozey/PycharmProjects/Coursera_Machine_2/venv/lib/python3.9/site-packages/IPython/core/interactiveshell.py\"\u001B[0m, line \u001B[1;32m3427\u001B[0m, in \u001B[1;35mrun_code\u001B[0m\n    exec(code_obj, self.user_global_ns, self.user_ns)\n",
      "  File \u001B[1;32m\"<ipython-input-16-cdafc015c4a4>\"\u001B[0m, line \u001B[1;32m1\u001B[0m, in \u001B[1;35m<module>\u001B[0m\n    get_ipython().run_cell_magic('time', '', 'stoch_grad_desc_weights, stoch_errors_by_iter = # Ваш код здесь\\n\\n')\n",
      "  File \u001B[1;32m\"/Users/molozey/PycharmProjects/Coursera_Machine_2/venv/lib/python3.9/site-packages/IPython/core/interactiveshell.py\"\u001B[0m, line \u001B[1;32m2391\u001B[0m, in \u001B[1;35mrun_cell_magic\u001B[0m\n    result = fn(*args, **kwargs)\n",
      "  File \u001B[1;32m\"<decorator-gen-54>\"\u001B[0m, line \u001B[1;32m2\u001B[0m, in \u001B[1;35mtime\u001B[0m\n",
      "  File \u001B[1;32m\"/Users/molozey/PycharmProjects/Coursera_Machine_2/venv/lib/python3.9/site-packages/IPython/core/magic.py\"\u001B[0m, line \u001B[1;32m187\u001B[0m, in \u001B[1;35m<lambda>\u001B[0m\n    call = lambda f, *a, **k: f(*a, **k)\n",
      "  File \u001B[1;32m\"/Users/molozey/PycharmProjects/Coursera_Machine_2/venv/lib/python3.9/site-packages/IPython/core/magics/execution.py\"\u001B[0m, line \u001B[1;32m1277\u001B[0m, in \u001B[1;35mtime\u001B[0m\n    expr_ast = self.shell.compile.ast_parse(expr)\n",
      "\u001B[0;36m  File \u001B[0;32m\"/Users/molozey/PycharmProjects/Coursera_Machine_2/venv/lib/python3.9/site-packages/IPython/core/compilerop.py\"\u001B[0;36m, line \u001B[0;32m101\u001B[0;36m, in \u001B[0;35mast_parse\u001B[0;36m\u001B[0m\n\u001B[0;31m    return compile(source, filename, symbol, self.flags | PyCF_ONLY_AST, 1)\u001B[0m\n",
      "\u001B[0;36m  File \u001B[0;32m\"<unknown>\"\u001B[0;36m, line \u001B[0;32m1\u001B[0m\n\u001B[0;31m    stoch_grad_desc_weights, stoch_errors_by_iter = # Ваш код здесь\u001B[0m\n\u001B[0m                                                    ^\u001B[0m\n\u001B[0;31mSyntaxError\u001B[0m\u001B[0;31m:\u001B[0m invalid syntax\n"
     ]
    }
   ],
   "source": [
    "%%time\n",
    "stoch_grad_desc_weights, stoch_errors_by_iter = # Ваш код здесь"
   ]
  },
  {
   "cell_type": "markdown",
   "metadata": {},
   "source": [
    "**Посмотрим, чему равна ошибка на первых 50 итерациях стохастического градиентного спуска. Видим, что ошибка не обязательно уменьшается на каждой итерации.**"
   ]
  },
  {
   "cell_type": "code",
   "execution_count": null,
   "metadata": {},
   "outputs": [],
   "source": [
    "%pylab inline\n",
    "plot(range(50), stoch_errors_by_iter[:50])\n",
    "xlabel('Iteration number')\n",
    "ylabel('MSE')"
   ]
  },
  {
   "cell_type": "markdown",
   "metadata": {},
   "source": [
    "**Теперь посмотрим на зависимость ошибки от номера итерации для $10^5$ итераций стохастического градиентного спуска. Видим, что алгоритм сходится.**"
   ]
  },
  {
   "cell_type": "code",
   "execution_count": null,
   "metadata": {},
   "outputs": [],
   "source": [
    "%pylab inline\n",
    "plot(range(len(stoch_errors_by_iter)), stoch_errors_by_iter)\n",
    "xlabel('Iteration number')\n",
    "ylabel('MSE')"
   ]
  },
  {
   "cell_type": "markdown",
   "metadata": {},
   "source": [
    "**Посмотрим на вектор весов, к которому сошелся метод.**"
   ]
  },
  {
   "cell_type": "code",
   "execution_count": null,
   "metadata": {},
   "outputs": [],
   "source": [
    "stoch_grad_desc_weights"
   ]
  },
  {
   "cell_type": "markdown",
   "metadata": {},
   "source": [
    "**Посмотрим на среднеквадратичную ошибку на последней итерации.**"
   ]
  },
  {
   "cell_type": "code",
   "execution_count": null,
   "metadata": {},
   "outputs": [],
   "source": [
    "stoch_errors_by_iter[-1]"
   ]
  },
  {
   "cell_type": "markdown",
   "metadata": {},
   "source": [
    "**Какова среднеквадратичная ошибка прогноза значений Sales в виде линейной модели с весами, найденными с помощью градиентного спуска? Полученный результат, округленный до 3 знаков после запятой, является ответом на *'4 задание'*.**"
   ]
  },
  {
   "cell_type": "code",
   "execution_count": null,
   "metadata": {},
   "outputs": [],
   "source": [
    "answer4 = # Ваш код здесь\n",
    "print(round(answer4, 3))"
   ]
  }
 ],
 "metadata": {
  "kernelspec": {
   "display_name": "Python 3",
   "language": "python",
   "name": "python3"
  },
  "language_info": {
   "codemirror_mode": {
    "name": "ipython",
    "version": 3
   },
   "file_extension": ".py",
   "mimetype": "text/x-python",
   "name": "python",
   "nbconvert_exporter": "python",
   "pygments_lexer": "ipython3",
   "version": "3.9.1"
  }
 },
 "nbformat": 4,
 "nbformat_minor": 1
}