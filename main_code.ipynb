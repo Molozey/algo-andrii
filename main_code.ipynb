{
 "cells": [
  {
   "cell_type": "markdown",
   "source": [
    "### Корректно на:\n",
    "#### pandas 1.2.4\n",
    "#### numpy 1.20.2\n",
    "#### matplotlib 3.4.1"
   ],
   "metadata": {
    "collapsed": false
   }
  },
  {
   "cell_type": "code",
   "execution_count": 1,
   "outputs": [],
   "source": [
    "import pandas as pd\n",
    "import numpy as np\n",
    "import matplotlib.pylab as plt\n",
    "import re"
   ],
   "metadata": {
    "collapsed": false,
    "pycharm": {
     "name": "#%%\n"
    }
   }
  },
  {
   "cell_type": "code",
   "execution_count": 2,
   "outputs": [],
   "source": [
    "#   Загрузка таблиц\n",
    "orders_placed = pd.read_csv('data/Placed orders.csv', header=0, sep=',')\n",
    "orders_complete = pd.read_csv('data/Complete orders.csv', header=0, sep=',')\n",
    "market_complete = pd.read_csv('data/Market complete orders.csv', header=0, sep=',')"
   ],
   "metadata": {
    "collapsed": false,
    "pycharm": {
     "name": "#%%\n"
    }
   }
  },
  {
   "cell_type": "code",
   "execution_count": 3,
   "outputs": [],
   "source": [
    "#Данный блок разбивает входную таблицу на таблицы по дням.\n",
    "day_order_complete = []\n",
    "unique_date_complete = orders_complete['Дата'].unique()\n",
    "for _ in unique_date_complete:\n",
    "    day_order_complete.append(orders_complete.loc[orders_complete['Дата'] == _,:])\n",
    "\n",
    "day_order_placed = []\n",
    "unique_date_placed = orders_placed['Дата'].unique()\n",
    "for _ in unique_date_placed:\n",
    "    day_order_placed.append(orders_placed.loc[orders_placed['Дата'] == _,:])\n",
    "\n",
    "#Проверяется совпадение уникальных дней в таблицах заявок и исполнений\n",
    "if sorted(unique_date_complete) != sorted(unique_date_placed):\n",
    "    print('Ошибка в индексации. Даты указанные в таблице завершенных ордеров не совпадают с таблицей выставленных')"
   ],
   "metadata": {
    "collapsed": false,
    "pycharm": {
     "name": "#%%\n"
    }
   }
  },
  {
   "cell_type": "code",
   "execution_count": 4,
   "outputs": [
    {
     "name": "stderr",
     "output_type": "stream",
     "text": [
      "/Users/molozey/Desktop/Forecsys/venv/lib/python3.9/site-packages/pandas/core/indexing.py:1599: SettingWithCopyWarning: \n",
      "A value is trying to be set on a copy of a slice from a DataFrame.\n",
      "Try using .loc[row_indexer,col_indexer] = value instead\n",
      "\n",
      "See the caveats in the documentation: https://pandas.pydata.org/pandas-docs/stable/user_guide/indexing.html#returning-a-view-versus-a-copy\n",
      "  self.obj[key] = infer_fill_value(value)\n",
      "/Users/molozey/Desktop/Forecsys/venv/lib/python3.9/site-packages/pandas/core/indexing.py:1720: SettingWithCopyWarning: \n",
      "A value is trying to be set on a copy of a slice from a DataFrame.\n",
      "Try using .loc[row_indexer,col_indexer] = value instead\n",
      "\n",
      "See the caveats in the documentation: https://pandas.pydata.org/pandas-docs/stable/user_guide/indexing.html#returning-a-view-versus-a-copy\n",
      "  self._setitem_single_column(loc, value, pi)\n"
     ]
    },
    {
     "ename": "KeyboardInterrupt",
     "evalue": "",
     "output_type": "error",
     "traceback": [
      "\u001B[0;31m---------------------------------------------------------------------------\u001B[0m",
      "\u001B[0;31mKeyboardInterrupt\u001B[0m                         Traceback (most recent call last)",
      "\u001B[0;32m<ipython-input-4-d9a32532b54d>\u001B[0m in \u001B[0;36m<module>\u001B[0;34m\u001B[0m\n\u001B[1;32m     39\u001B[0m \u001B[0;34m\u001B[0m\u001B[0m\n\u001B[1;32m     40\u001B[0m \u001B[0;31m#Запуск\u001B[0m\u001B[0;34m\u001B[0m\u001B[0;34m\u001B[0m\u001B[0;34m\u001B[0m\u001B[0m\n\u001B[0;32m---> 41\u001B[0;31m \u001B[0msmall_normal_view\u001B[0m\u001B[0;34m(\u001B[0m\u001B[0mwork_table_placed\u001B[0m\u001B[0;34m)\u001B[0m\u001B[0;34m\u001B[0m\u001B[0;34m\u001B[0m\u001B[0m\n\u001B[0m\u001B[1;32m     42\u001B[0m \u001B[0;34m\u001B[0m\u001B[0m\n",
      "\u001B[0;32m<ipython-input-4-d9a32532b54d>\u001B[0m in \u001B[0;36msmall_normal_view\u001B[0;34m(work_table_placed)\u001B[0m\n\u001B[1;32m     31\u001B[0m         \u001B[0mwork_value_\u001B[0m \u001B[0;34m=\u001B[0m \u001B[0mstr\u001B[0m\u001B[0;34m(\u001B[0m\u001B[0mwork_table_placed\u001B[0m\u001B[0;34m.\u001B[0m\u001B[0mloc\u001B[0m\u001B[0;34m[\u001B[0m\u001B[0m_\u001B[0m\u001B[0;34m,\u001B[0m\u001B[0;34m'Время снятия заявки'\u001B[0m\u001B[0;34m]\u001B[0m\u001B[0;34m)\u001B[0m\u001B[0;34m\u001B[0m\u001B[0;34m\u001B[0m\u001B[0m\n\u001B[1;32m     32\u001B[0m         \u001B[0mhour\u001B[0m\u001B[0;34m,\u001B[0m \u001B[0mminute\u001B[0m\u001B[0;34m,\u001B[0m \u001B[0msec\u001B[0m \u001B[0;34m=\u001B[0m \u001B[0mtime_parser\u001B[0m\u001B[0;34m(\u001B[0m\u001B[0mwork_value_\u001B[0m\u001B[0;34m)\u001B[0m\u001B[0;34m\u001B[0m\u001B[0;34m\u001B[0m\u001B[0m\n\u001B[0;32m---> 33\u001B[0;31m         \u001B[0mwork_table_placed\u001B[0m\u001B[0;34m.\u001B[0m\u001B[0mloc\u001B[0m\u001B[0;34m[\u001B[0m\u001B[0m_\u001B[0m\u001B[0;34m,\u001B[0m \u001B[0;34m'Час_снятие'\u001B[0m\u001B[0;34m]\u001B[0m \u001B[0;34m=\u001B[0m \u001B[0mhour\u001B[0m\u001B[0;34m\u001B[0m\u001B[0;34m\u001B[0m\u001B[0m\n\u001B[0m\u001B[1;32m     34\u001B[0m         \u001B[0mwork_table_placed\u001B[0m\u001B[0;34m.\u001B[0m\u001B[0mloc\u001B[0m\u001B[0;34m[\u001B[0m\u001B[0m_\u001B[0m\u001B[0;34m,\u001B[0m \u001B[0;34m'Минута_снятие'\u001B[0m\u001B[0;34m]\u001B[0m \u001B[0;34m=\u001B[0m \u001B[0mminute\u001B[0m\u001B[0;34m\u001B[0m\u001B[0;34m\u001B[0m\u001B[0m\n\u001B[1;32m     35\u001B[0m         \u001B[0mwork_table_placed\u001B[0m\u001B[0;34m.\u001B[0m\u001B[0mloc\u001B[0m\u001B[0;34m[\u001B[0m\u001B[0m_\u001B[0m\u001B[0;34m,\u001B[0m \u001B[0;34m'Секунда_снятие'\u001B[0m\u001B[0;34m]\u001B[0m \u001B[0;34m=\u001B[0m \u001B[0msec\u001B[0m\u001B[0;34m\u001B[0m\u001B[0;34m\u001B[0m\u001B[0m\n",
      "\u001B[0;32m~/Desktop/Forecsys/venv/lib/python3.9/site-packages/pandas/core/indexing.py\u001B[0m in \u001B[0;36m__setitem__\u001B[0;34m(self, key, value)\u001B[0m\n\u001B[1;32m    690\u001B[0m \u001B[0;34m\u001B[0m\u001B[0m\n\u001B[1;32m    691\u001B[0m         \u001B[0miloc\u001B[0m \u001B[0;34m=\u001B[0m \u001B[0mself\u001B[0m \u001B[0;32mif\u001B[0m \u001B[0mself\u001B[0m\u001B[0;34m.\u001B[0m\u001B[0mname\u001B[0m \u001B[0;34m==\u001B[0m \u001B[0;34m\"iloc\"\u001B[0m \u001B[0;32melse\u001B[0m \u001B[0mself\u001B[0m\u001B[0;34m.\u001B[0m\u001B[0mobj\u001B[0m\u001B[0;34m.\u001B[0m\u001B[0miloc\u001B[0m\u001B[0;34m\u001B[0m\u001B[0;34m\u001B[0m\u001B[0m\n\u001B[0;32m--> 692\u001B[0;31m         \u001B[0miloc\u001B[0m\u001B[0;34m.\u001B[0m\u001B[0m_setitem_with_indexer\u001B[0m\u001B[0;34m(\u001B[0m\u001B[0mindexer\u001B[0m\u001B[0;34m,\u001B[0m \u001B[0mvalue\u001B[0m\u001B[0;34m,\u001B[0m \u001B[0mself\u001B[0m\u001B[0;34m.\u001B[0m\u001B[0mname\u001B[0m\u001B[0;34m)\u001B[0m\u001B[0;34m\u001B[0m\u001B[0;34m\u001B[0m\u001B[0m\n\u001B[0m\u001B[1;32m    693\u001B[0m \u001B[0;34m\u001B[0m\u001B[0m\n\u001B[1;32m    694\u001B[0m     \u001B[0;32mdef\u001B[0m \u001B[0m_validate_key\u001B[0m\u001B[0;34m(\u001B[0m\u001B[0mself\u001B[0m\u001B[0;34m,\u001B[0m \u001B[0mkey\u001B[0m\u001B[0;34m,\u001B[0m \u001B[0maxis\u001B[0m\u001B[0;34m:\u001B[0m \u001B[0mint\u001B[0m\u001B[0;34m)\u001B[0m\u001B[0;34m:\u001B[0m\u001B[0;34m\u001B[0m\u001B[0;34m\u001B[0m\u001B[0m\n",
      "\u001B[0;32m~/Desktop/Forecsys/venv/lib/python3.9/site-packages/pandas/core/indexing.py\u001B[0m in \u001B[0;36m_setitem_with_indexer\u001B[0;34m(self, indexer, value, name)\u001B[0m\n\u001B[1;32m   1633\u001B[0m         \u001B[0;32mif\u001B[0m \u001B[0mtake_split_path\u001B[0m\u001B[0;34m:\u001B[0m\u001B[0;34m\u001B[0m\u001B[0;34m\u001B[0m\u001B[0m\n\u001B[1;32m   1634\u001B[0m             \u001B[0;31m# We have to operate column-wise\u001B[0m\u001B[0;34m\u001B[0m\u001B[0;34m\u001B[0m\u001B[0;34m\u001B[0m\u001B[0m\n\u001B[0;32m-> 1635\u001B[0;31m             \u001B[0mself\u001B[0m\u001B[0;34m.\u001B[0m\u001B[0m_setitem_with_indexer_split_path\u001B[0m\u001B[0;34m(\u001B[0m\u001B[0mindexer\u001B[0m\u001B[0;34m,\u001B[0m \u001B[0mvalue\u001B[0m\u001B[0;34m,\u001B[0m \u001B[0mname\u001B[0m\u001B[0;34m)\u001B[0m\u001B[0;34m\u001B[0m\u001B[0;34m\u001B[0m\u001B[0m\n\u001B[0m\u001B[1;32m   1636\u001B[0m         \u001B[0;32melse\u001B[0m\u001B[0;34m:\u001B[0m\u001B[0;34m\u001B[0m\u001B[0;34m\u001B[0m\u001B[0m\n\u001B[1;32m   1637\u001B[0m             \u001B[0mself\u001B[0m\u001B[0;34m.\u001B[0m\u001B[0m_setitem_single_block\u001B[0m\u001B[0;34m(\u001B[0m\u001B[0mindexer\u001B[0m\u001B[0;34m,\u001B[0m \u001B[0mvalue\u001B[0m\u001B[0;34m,\u001B[0m \u001B[0mname\u001B[0m\u001B[0;34m)\u001B[0m\u001B[0;34m\u001B[0m\u001B[0;34m\u001B[0m\u001B[0m\n",
      "\u001B[0;32m~/Desktop/Forecsys/venv/lib/python3.9/site-packages/pandas/core/indexing.py\u001B[0m in \u001B[0;36m_setitem_with_indexer_split_path\u001B[0;34m(self, indexer, value, name)\u001B[0m\n\u001B[1;32m   1718\u001B[0m             \u001B[0;31m# scalar value\u001B[0m\u001B[0;34m\u001B[0m\u001B[0;34m\u001B[0m\u001B[0;34m\u001B[0m\u001B[0m\n\u001B[1;32m   1719\u001B[0m             \u001B[0;32mfor\u001B[0m \u001B[0mloc\u001B[0m \u001B[0;32min\u001B[0m \u001B[0milocs\u001B[0m\u001B[0;34m:\u001B[0m\u001B[0;34m\u001B[0m\u001B[0;34m\u001B[0m\u001B[0m\n\u001B[0;32m-> 1720\u001B[0;31m                 \u001B[0mself\u001B[0m\u001B[0;34m.\u001B[0m\u001B[0m_setitem_single_column\u001B[0m\u001B[0;34m(\u001B[0m\u001B[0mloc\u001B[0m\u001B[0;34m,\u001B[0m \u001B[0mvalue\u001B[0m\u001B[0;34m,\u001B[0m \u001B[0mpi\u001B[0m\u001B[0;34m)\u001B[0m\u001B[0;34m\u001B[0m\u001B[0;34m\u001B[0m\u001B[0m\n\u001B[0m\u001B[1;32m   1721\u001B[0m \u001B[0;34m\u001B[0m\u001B[0m\n\u001B[1;32m   1722\u001B[0m     \u001B[0;32mdef\u001B[0m \u001B[0m_setitem_with_indexer_2d_value\u001B[0m\u001B[0;34m(\u001B[0m\u001B[0mself\u001B[0m\u001B[0;34m,\u001B[0m \u001B[0mindexer\u001B[0m\u001B[0;34m,\u001B[0m \u001B[0mvalue\u001B[0m\u001B[0;34m)\u001B[0m\u001B[0;34m:\u001B[0m\u001B[0;34m\u001B[0m\u001B[0;34m\u001B[0m\u001B[0m\n",
      "\u001B[0;32m~/Desktop/Forecsys/venv/lib/python3.9/site-packages/pandas/core/indexing.py\u001B[0m in \u001B[0;36m_setitem_single_column\u001B[0;34m(self, loc, value, plane_indexer)\u001B[0m\n\u001B[1;32m   1810\u001B[0m         \u001B[0;32melse\u001B[0m\u001B[0;34m:\u001B[0m\u001B[0;34m\u001B[0m\u001B[0;34m\u001B[0m\u001B[0m\n\u001B[1;32m   1811\u001B[0m             \u001B[0;31m# set the item, possibly having a dtype change\u001B[0m\u001B[0;34m\u001B[0m\u001B[0;34m\u001B[0m\u001B[0;34m\u001B[0m\u001B[0m\n\u001B[0;32m-> 1812\u001B[0;31m             \u001B[0mser\u001B[0m \u001B[0;34m=\u001B[0m \u001B[0mser\u001B[0m\u001B[0;34m.\u001B[0m\u001B[0mcopy\u001B[0m\u001B[0;34m(\u001B[0m\u001B[0;34m)\u001B[0m\u001B[0;34m\u001B[0m\u001B[0;34m\u001B[0m\u001B[0m\n\u001B[0m\u001B[1;32m   1813\u001B[0m             \u001B[0mser\u001B[0m\u001B[0;34m.\u001B[0m\u001B[0m_mgr\u001B[0m \u001B[0;34m=\u001B[0m \u001B[0mser\u001B[0m\u001B[0;34m.\u001B[0m\u001B[0m_mgr\u001B[0m\u001B[0;34m.\u001B[0m\u001B[0msetitem\u001B[0m\u001B[0;34m(\u001B[0m\u001B[0mindexer\u001B[0m\u001B[0;34m=\u001B[0m\u001B[0;34m(\u001B[0m\u001B[0mpi\u001B[0m\u001B[0;34m,\u001B[0m\u001B[0;34m)\u001B[0m\u001B[0;34m,\u001B[0m \u001B[0mvalue\u001B[0m\u001B[0;34m=\u001B[0m\u001B[0mvalue\u001B[0m\u001B[0;34m)\u001B[0m\u001B[0;34m\u001B[0m\u001B[0;34m\u001B[0m\u001B[0m\n\u001B[1;32m   1814\u001B[0m             \u001B[0mser\u001B[0m\u001B[0;34m.\u001B[0m\u001B[0m_maybe_update_cacher\u001B[0m\u001B[0;34m(\u001B[0m\u001B[0mclear\u001B[0m\u001B[0;34m=\u001B[0m\u001B[0;32mTrue\u001B[0m\u001B[0;34m)\u001B[0m\u001B[0;34m\u001B[0m\u001B[0;34m\u001B[0m\u001B[0m\n",
      "\u001B[0;32m~/Desktop/Forecsys/venv/lib/python3.9/site-packages/pandas/core/generic.py\u001B[0m in \u001B[0;36mcopy\u001B[0;34m(self, deep)\u001B[0m\n\u001B[1;32m   5993\u001B[0m         \u001B[0mdtype\u001B[0m\u001B[0;34m:\u001B[0m \u001B[0mobject\u001B[0m\u001B[0;34m\u001B[0m\u001B[0;34m\u001B[0m\u001B[0m\n\u001B[1;32m   5994\u001B[0m         \"\"\"\n\u001B[0;32m-> 5995\u001B[0;31m         \u001B[0mdata\u001B[0m \u001B[0;34m=\u001B[0m \u001B[0mself\u001B[0m\u001B[0;34m.\u001B[0m\u001B[0m_mgr\u001B[0m\u001B[0;34m.\u001B[0m\u001B[0mcopy\u001B[0m\u001B[0;34m(\u001B[0m\u001B[0mdeep\u001B[0m\u001B[0;34m=\u001B[0m\u001B[0mdeep\u001B[0m\u001B[0;34m)\u001B[0m\u001B[0;34m\u001B[0m\u001B[0;34m\u001B[0m\u001B[0m\n\u001B[0m\u001B[1;32m   5996\u001B[0m         \u001B[0mself\u001B[0m\u001B[0;34m.\u001B[0m\u001B[0m_clear_item_cache\u001B[0m\u001B[0;34m(\u001B[0m\u001B[0;34m)\u001B[0m\u001B[0;34m\u001B[0m\u001B[0;34m\u001B[0m\u001B[0m\n\u001B[1;32m   5997\u001B[0m         \u001B[0;32mreturn\u001B[0m \u001B[0mself\u001B[0m\u001B[0;34m.\u001B[0m\u001B[0m_constructor\u001B[0m\u001B[0;34m(\u001B[0m\u001B[0mdata\u001B[0m\u001B[0;34m)\u001B[0m\u001B[0;34m.\u001B[0m\u001B[0m__finalize__\u001B[0m\u001B[0;34m(\u001B[0m\u001B[0mself\u001B[0m\u001B[0;34m,\u001B[0m \u001B[0mmethod\u001B[0m\u001B[0;34m=\u001B[0m\u001B[0;34m\"copy\"\u001B[0m\u001B[0;34m)\u001B[0m\u001B[0;34m\u001B[0m\u001B[0;34m\u001B[0m\u001B[0m\n",
      "\u001B[0;32m~/Desktop/Forecsys/venv/lib/python3.9/site-packages/pandas/core/internals/managers.py\u001B[0m in \u001B[0;36mcopy\u001B[0;34m(self, deep)\u001B[0m\n\u001B[1;32m    815\u001B[0m                 \u001B[0;32mreturn\u001B[0m \u001B[0max\u001B[0m\u001B[0;34m.\u001B[0m\u001B[0mcopy\u001B[0m\u001B[0;34m(\u001B[0m\u001B[0mdeep\u001B[0m\u001B[0;34m=\u001B[0m\u001B[0;32mTrue\u001B[0m\u001B[0;34m)\u001B[0m \u001B[0;32mif\u001B[0m \u001B[0mdeep\u001B[0m \u001B[0;34m==\u001B[0m \u001B[0;34m\"all\"\u001B[0m \u001B[0;32melse\u001B[0m \u001B[0max\u001B[0m\u001B[0;34m.\u001B[0m\u001B[0mview\u001B[0m\u001B[0;34m(\u001B[0m\u001B[0;34m)\u001B[0m\u001B[0;34m\u001B[0m\u001B[0;34m\u001B[0m\u001B[0m\n\u001B[1;32m    816\u001B[0m \u001B[0;34m\u001B[0m\u001B[0m\n\u001B[0;32m--> 817\u001B[0;31m             \u001B[0mnew_axes\u001B[0m \u001B[0;34m=\u001B[0m \u001B[0;34m[\u001B[0m\u001B[0mcopy_func\u001B[0m\u001B[0;34m(\u001B[0m\u001B[0max\u001B[0m\u001B[0;34m)\u001B[0m \u001B[0;32mfor\u001B[0m \u001B[0max\u001B[0m \u001B[0;32min\u001B[0m \u001B[0mself\u001B[0m\u001B[0;34m.\u001B[0m\u001B[0maxes\u001B[0m\u001B[0;34m]\u001B[0m\u001B[0;34m\u001B[0m\u001B[0;34m\u001B[0m\u001B[0m\n\u001B[0m\u001B[1;32m    818\u001B[0m         \u001B[0;32melse\u001B[0m\u001B[0;34m:\u001B[0m\u001B[0;34m\u001B[0m\u001B[0;34m\u001B[0m\u001B[0m\n\u001B[1;32m    819\u001B[0m             \u001B[0mnew_axes\u001B[0m \u001B[0;34m=\u001B[0m \u001B[0mlist\u001B[0m\u001B[0;34m(\u001B[0m\u001B[0mself\u001B[0m\u001B[0;34m.\u001B[0m\u001B[0maxes\u001B[0m\u001B[0;34m)\u001B[0m\u001B[0;34m\u001B[0m\u001B[0;34m\u001B[0m\u001B[0m\n",
      "\u001B[0;32m~/Desktop/Forecsys/venv/lib/python3.9/site-packages/pandas/core/internals/managers.py\u001B[0m in \u001B[0;36m<listcomp>\u001B[0;34m(.0)\u001B[0m\n\u001B[1;32m    815\u001B[0m                 \u001B[0;32mreturn\u001B[0m \u001B[0max\u001B[0m\u001B[0;34m.\u001B[0m\u001B[0mcopy\u001B[0m\u001B[0;34m(\u001B[0m\u001B[0mdeep\u001B[0m\u001B[0;34m=\u001B[0m\u001B[0;32mTrue\u001B[0m\u001B[0;34m)\u001B[0m \u001B[0;32mif\u001B[0m \u001B[0mdeep\u001B[0m \u001B[0;34m==\u001B[0m \u001B[0;34m\"all\"\u001B[0m \u001B[0;32melse\u001B[0m \u001B[0max\u001B[0m\u001B[0;34m.\u001B[0m\u001B[0mview\u001B[0m\u001B[0;34m(\u001B[0m\u001B[0;34m)\u001B[0m\u001B[0;34m\u001B[0m\u001B[0;34m\u001B[0m\u001B[0m\n\u001B[1;32m    816\u001B[0m \u001B[0;34m\u001B[0m\u001B[0m\n\u001B[0;32m--> 817\u001B[0;31m             \u001B[0mnew_axes\u001B[0m \u001B[0;34m=\u001B[0m \u001B[0;34m[\u001B[0m\u001B[0mcopy_func\u001B[0m\u001B[0;34m(\u001B[0m\u001B[0max\u001B[0m\u001B[0;34m)\u001B[0m \u001B[0;32mfor\u001B[0m \u001B[0max\u001B[0m \u001B[0;32min\u001B[0m \u001B[0mself\u001B[0m\u001B[0;34m.\u001B[0m\u001B[0maxes\u001B[0m\u001B[0;34m]\u001B[0m\u001B[0;34m\u001B[0m\u001B[0;34m\u001B[0m\u001B[0m\n\u001B[0m\u001B[1;32m    818\u001B[0m         \u001B[0;32melse\u001B[0m\u001B[0;34m:\u001B[0m\u001B[0;34m\u001B[0m\u001B[0;34m\u001B[0m\u001B[0m\n\u001B[1;32m    819\u001B[0m             \u001B[0mnew_axes\u001B[0m \u001B[0;34m=\u001B[0m \u001B[0mlist\u001B[0m\u001B[0;34m(\u001B[0m\u001B[0mself\u001B[0m\u001B[0;34m.\u001B[0m\u001B[0maxes\u001B[0m\u001B[0;34m)\u001B[0m\u001B[0;34m\u001B[0m\u001B[0;34m\u001B[0m\u001B[0m\n",
      "\u001B[0;32m~/Desktop/Forecsys/venv/lib/python3.9/site-packages/pandas/core/internals/managers.py\u001B[0m in \u001B[0;36mcopy_func\u001B[0;34m(ax)\u001B[0m\n\u001B[1;32m    813\u001B[0m \u001B[0;34m\u001B[0m\u001B[0m\n\u001B[1;32m    814\u001B[0m             \u001B[0;32mdef\u001B[0m \u001B[0mcopy_func\u001B[0m\u001B[0;34m(\u001B[0m\u001B[0max\u001B[0m\u001B[0;34m)\u001B[0m\u001B[0;34m:\u001B[0m\u001B[0;34m\u001B[0m\u001B[0;34m\u001B[0m\u001B[0m\n\u001B[0;32m--> 815\u001B[0;31m                 \u001B[0;32mreturn\u001B[0m \u001B[0max\u001B[0m\u001B[0;34m.\u001B[0m\u001B[0mcopy\u001B[0m\u001B[0;34m(\u001B[0m\u001B[0mdeep\u001B[0m\u001B[0;34m=\u001B[0m\u001B[0;32mTrue\u001B[0m\u001B[0;34m)\u001B[0m \u001B[0;32mif\u001B[0m \u001B[0mdeep\u001B[0m \u001B[0;34m==\u001B[0m \u001B[0;34m\"all\"\u001B[0m \u001B[0;32melse\u001B[0m \u001B[0max\u001B[0m\u001B[0;34m.\u001B[0m\u001B[0mview\u001B[0m\u001B[0;34m(\u001B[0m\u001B[0;34m)\u001B[0m\u001B[0;34m\u001B[0m\u001B[0;34m\u001B[0m\u001B[0m\n\u001B[0m\u001B[1;32m    816\u001B[0m \u001B[0;34m\u001B[0m\u001B[0m\n\u001B[1;32m    817\u001B[0m             \u001B[0mnew_axes\u001B[0m \u001B[0;34m=\u001B[0m \u001B[0;34m[\u001B[0m\u001B[0mcopy_func\u001B[0m\u001B[0;34m(\u001B[0m\u001B[0max\u001B[0m\u001B[0;34m)\u001B[0m \u001B[0;32mfor\u001B[0m \u001B[0max\u001B[0m \u001B[0;32min\u001B[0m \u001B[0mself\u001B[0m\u001B[0;34m.\u001B[0m\u001B[0maxes\u001B[0m\u001B[0;34m]\u001B[0m\u001B[0;34m\u001B[0m\u001B[0;34m\u001B[0m\u001B[0m\n",
      "\u001B[0;31mKeyboardInterrupt\u001B[0m: "
     ]
    }
   ],
   "source": [
    "#   Блок который я использовал в некоторых первых пунктах так как мне было удобнее таким образом \"ориентироваться\" во времени\n",
    "#   Позже он станет бесполезным, однако я не захотел переписывать ранее сделанные пункты под новую реализацию\n",
    "\n",
    "def small_normal_view(work_table_placed):\n",
    "    for _ in range(work_table_placed.shape[0]):\n",
    "\n",
    "        def time_parser(work_value):\n",
    "            success_status = False\n",
    "            if len(work_value) == 5:\n",
    "                hour_ = work_value[:1]\n",
    "                minute_ = work_value[1:3]\n",
    "                sec_ = work_value[3:]\n",
    "                success_status = True\n",
    "            if len(work_value) == 6:\n",
    "                hour_ = work_value[:2]\n",
    "                minute_ = work_value[2:4]\n",
    "                sec_ = work_value[4:]\n",
    "                success_status = True\n",
    "    #       Исключение связанное с возможностью некорректной даты\n",
    "            if not success_status:\n",
    "                print('Время в таблице указанно некорректно')\n",
    "            return hour_, minute_, sec_\n",
    "\n",
    "        work_value_ = str(work_table_placed.loc[_,'Время заявки'])\n",
    "        hour, minute, sec = time_parser(work_value_)\n",
    "        work_table_placed.loc[_, 'Час_открытие'] = hour\n",
    "        work_table_placed.loc[_, 'Минута_открытие'] = minute\n",
    "        work_table_placed.loc[_, 'Секунда_открытие'] = sec\n",
    "\n",
    "\n",
    "        work_value_ = str(work_table_placed.loc[_,'Время снятия заявки'])\n",
    "        hour, minute, sec = time_parser(work_value_)\n",
    "        work_table_placed.loc[_, 'Час_снятие'] = hour\n",
    "        work_table_placed.loc[_, 'Минута_снятие'] = minute\n",
    "        work_table_placed.loc[_, 'Секунда_снятие'] = sec\n",
    "\n",
    "work_table_placed = day_order_placed[0]\n",
    "work_table_placed.reset_index(drop=True, inplace=True)\n",
    "\n",
    "#Запуск\n",
    "small_normal_view(work_table_placed)"
   ],
   "metadata": {
    "collapsed": false,
    "pycharm": {
     "name": "#%%\n"
    }
   }
  },
  {
   "cell_type": "code",
   "execution_count": null,
   "outputs": [],
   "source": [
    "unique_date_market = market_complete['Дата'].unique()\n",
    "#   Можно понять что даты не совпадают между рынком и клиентами. Полагаю в таком случае нужно смотреть только на дни которые пересекаются\n",
    "print(unique_date_market)\n",
    "buffer = []\n",
    "print(unique_date_complete)\n",
    "for _ in unique_date_market:\n",
    "    if unique_date_complete.__contains__(_):\n",
    "        buffer.append(_)\n",
    "day_order_complete_market = []\n",
    "unique_date_market = buffer\n",
    "for _ in unique_date_market:\n",
    "    day_order_complete_market.append(market_complete.loc[market_complete['Дата'] == _,:])"
   ],
   "metadata": {
    "collapsed": false,
    "pycharm": {
     "name": "#%%\n"
    }
   }
  },
  {
   "cell_type": "markdown",
   "source": [
    "# 1.1 Объем сделок рынка по инструменту"
   ],
   "metadata": {
    "collapsed": false
   }
  },
  {
   "cell_type": "code",
   "execution_count": null,
   "outputs": [],
   "source": [
    "def volume_function(search_table):\n",
    "    \"\"\"\n",
    "    Выдает гистограммы количества операций по каждому уникальному инструменту для каждого дня. Возможно так будет удобно видеть \"популярность\" инструментов\n",
    "    :param search_table: Импорт таблицы\n",
    "    :return:\n",
    "    \"\"\"\n",
    "    days_array = []\n",
    "    output_array = []\n",
    "    for __ in search_table:\n",
    "        market_day = __\n",
    "        market_day.reset_index(drop=True, inplace=True)\n",
    "        days_array.append(market_day.loc[0, 'Дата'])\n",
    "        market_day_uniq_instruments = market_day['Инструмент'].unique()\n",
    "        market_day_instruments = []\n",
    "        for _ in market_day_uniq_instruments:\n",
    "            market_day_instruments.append(market_day.loc[market_day['Инструмент'] == _,:])\n",
    "\n",
    "        market_instrument_volume = []\n",
    "        instrument_name = []\n",
    "        for _ in market_day_instruments:\n",
    "            instrument_buffer = _\n",
    "            instrument_buffer.reset_index(drop=True, inplace=True)\n",
    "# Далее нижний цикл for будет использоваться довольно часто, он вызван тем, что я решил никак не корректировать таблицы\n",
    "# Данное преобразование убирает все лишнюю табуляцию а также меняет запятую на точку\n",
    "            for i in range(instrument_buffer.shape[0]):\n",
    "                instrument_buffer.loc[i, ' Объем'] = float(re.sub(r'[^0-9,]+', r'',str(instrument_buffer.loc[i, ' Объем'])).replace(',', '.'))\n",
    "            market_instrument_volume.append(sum(instrument_buffer[' Объем']))\n",
    "            instrument_name.append(instrument_buffer.loc[0, 'Инструмент'])\n",
    "\n",
    "\n",
    "        plt.figure(figsize=(20,12))\n",
    "        plt.bar(instrument_name, market_instrument_volume)\n",
    "        output_array.append([instrument_name, market_instrument_volume])\n",
    "        plt.title('Дата - ' + str(market_day.loc[1, 'Дата']), fontsize=21)\n",
    "        print('DAY:', market_day.loc[1, 'Дата'])\n",
    "        print(instrument_name)\n",
    "        print(market_instrument_volume)\n",
    "        print('--------')\n",
    "        plt.show()\n",
    "    return days_array, output_array\n",
    "# Запуск\n",
    "days11, results11 = volume_function(day_order_complete_market)"
   ],
   "metadata": {
    "collapsed": false,
    "pycharm": {
     "name": "#%%\n"
    }
   }
  },
  {
   "cell_type": "markdown",
   "source": [
    "# 1.2 Объем сделок клиентов по инструменту"
   ],
   "metadata": {
    "collapsed": false,
    "pycharm": {
     "name": "#%% md\n"
    }
   }
  },
  {
   "cell_type": "code",
   "execution_count": null,
   "outputs": [],
   "source": [
    "# Отличие от прошлого пункта в том, что передается таблиц по клиентам\n",
    "# Запуск\n",
    "days12, results12 = volume_function(day_order_complete)"
   ],
   "metadata": {
    "collapsed": false,
    "pycharm": {
     "name": "#%%\n"
    }
   }
  },
  {
   "cell_type": "markdown",
   "source": [
    "# 1.3 Средневзвешенная цена по инструменту"
   ],
   "metadata": {
    "collapsed": false,
    "pycharm": {
     "name": "#%% md\n"
    }
   }
  },
  {
   "cell_type": "code",
   "execution_count": null,
   "outputs": [],
   "source": [
    "def arrange_price_function(search_table):\n",
    "    \"\"\"\n",
    "    Возвращает средневзвешенную цену по каждому инструменту\n",
    "    :param search_table:\n",
    "    :return: 2 массива. 1 - День, 2 - Комбинации Инструменты за день + Цены\n",
    "    \"\"\"\n",
    "    days_array = []\n",
    "    return_array = []\n",
    "    for __ in search_table:\n",
    "        market_day = __\n",
    "        market_day.reset_index(drop=True, inplace=True)\n",
    "        days_array.append(market_day.loc[0, 'Дата'])\n",
    "        market_day_uniq_instruments = market_day['Инструмент'].unique()\n",
    "        market_day_instruments = []\n",
    "        for _ in market_day_uniq_instruments:\n",
    "            market_day_instruments.append(market_day.loc[market_day['Инструмент'] == _,:])\n",
    "        instrument_name = []\n",
    "        arrange_price_array = []\n",
    "        for _ in market_day_instruments:\n",
    "            instrument_buffer = _\n",
    "            instrument_buffer.reset_index(drop=True, inplace=True)\n",
    "            for i in range(instrument_buffer.shape[0]):\n",
    "                instrument_buffer.loc[i, ' Объем'] = float(re.sub(r'[^0-9,]+', r'',str(instrument_buffer.loc[i, ' Объем'])).replace(',', '.'))\n",
    "                instrument_buffer.loc[i,' Сумма'] = float(re.sub(r'[^0-9,]+', r'',str(instrument_buffer.loc[i,' Сумма'])).replace(',', '.'))\n",
    "            instrument_name.append(instrument_buffer.loc[0, 'Инструмент'])\n",
    "            arrange_price_array.append(sum(instrument_buffer[' Сумма']) / sum(instrument_buffer[' Объем']))\n",
    "\n",
    "\n",
    "        plt.figure(figsize=(20,12))\n",
    "        plt.bar(instrument_name, arrange_price_array)\n",
    "        return_array.append([instrument_name, arrange_price_array])\n",
    "        plt.title('Дата - ' + str(market_day.loc[1, 'Дата']), fontsize=21)\n",
    "        print('DAY:', market_day.loc[1, 'Дата'])\n",
    "        print(instrument_name)\n",
    "        print(arrange_price_array)\n",
    "        print('--------')\n",
    "        plt.show()\n",
    "    return days_array, return_array\n",
    "\n",
    "#Запуск\n",
    "days13, prices13 = arrange_price_function(day_order_complete_market)"
   ],
   "metadata": {
    "collapsed": false,
    "pycharm": {
     "name": "#%%\n"
    }
   }
  },
  {
   "cell_type": "markdown",
   "source": [
    "# 1.4 Количество заявок клиентов по инструменту"
   ],
   "metadata": {
    "collapsed": false,
    "pycharm": {
     "name": "#%% md\n"
    }
   }
  },
  {
   "cell_type": "code",
   "execution_count": null,
   "outputs": [],
   "source": [
    "#Запуск\n",
    "days14, results14 = volume_function(day_order_placed)"
   ],
   "metadata": {
    "collapsed": false,
    "pycharm": {
     "name": "#%%\n"
    }
   }
  },
  {
   "cell_type": "markdown",
   "source": [
    "# 1.5 Количество снятых заявок клиентами по инструментам"
   ],
   "metadata": {
    "collapsed": false
   }
  },
  {
   "cell_type": "code",
   "execution_count": null,
   "outputs": [],
   "source": [
    "def canceled_volume_function(search_table):\n",
    "    days_array = []\n",
    "    results = []\n",
    "    for __ in search_table:\n",
    "        market_day = __\n",
    "        market_day.reset_index(drop=True, inplace=True)\n",
    "        days_array.append(market_day.loc[0, 'Дата'])\n",
    "        market_day_uniq_instruments = market_day['Инструмент'].unique()\n",
    "        market_day_instruments = []\n",
    "        for _ in market_day_uniq_instruments:\n",
    "            market_day_instruments.append(market_day.loc[market_day['Инструмент'] == _,:])\n",
    "\n",
    "        canceled_instrument = []\n",
    "        instrument_name = []\n",
    "        for _ in market_day_instruments:\n",
    "            instrument_buffer = _\n",
    "            instrument_buffer.reset_index(drop=True, inplace=True)\n",
    "            canceled_orders_counter = 0\n",
    "            for i in range(instrument_buffer.shape[0]):\n",
    "                instrument_buffer.loc[i, ' Объем'] = float(re.sub(r'[^0-9,]+', r'',str(instrument_buffer.loc[i, ' Объем'])).replace(',', '.'))\n",
    "                if instrument_buffer.loc[i, ' Остаток объема'] != '  -   ':\n",
    "                    instrument_buffer.loc[i, ' Остаток объема'] = float(re.sub(r'[^0-9,]+', r'',str(instrument_buffer.loc[i, ' Остаток объема'])).replace(',', '.'))\n",
    "                if instrument_buffer.loc[i, ' Остаток объема'] == instrument_buffer.loc[i, ' Объем']:\n",
    "                    canceled_orders_counter += 1\n",
    "            canceled_instrument.append(canceled_orders_counter)\n",
    "            instrument_name.append(instrument_buffer.loc[0, 'Инструмент'])\n",
    "\n",
    "\n",
    "        plt.figure(figsize=(20,12))\n",
    "        plt.bar(instrument_name, canceled_instrument)\n",
    "        results.append([instrument_name, canceled_instrument])\n",
    "        plt.title('Дата - ' + str(market_day.loc[1, 'Дата']), fontsize=21)\n",
    "        print('DAY:', market_day.loc[1, 'Дата'])\n",
    "        print(instrument_name)\n",
    "        print(canceled_instrument)\n",
    "        print('--------')\n",
    "        plt.show()\n",
    "    return days_array, results\n",
    "#Запуск\n",
    "days15, results15 = canceled_volume_function(day_order_placed)"
   ],
   "metadata": {
    "collapsed": false,
    "pycharm": {
     "name": "#%%\n"
    }
   }
  },
  {
   "cell_type": "markdown",
   "source": [
    "# 2.1\n",
    "# Отношение объема по инструменту клиентов и рынка\n",
    "# Фактически визуализирует долю клиентов на рынке по каждому инструменту"
   ],
   "metadata": {
    "collapsed": false,
    "pycharm": {
     "name": "#%% md\n"
    }
   }
  },
  {
   "cell_type": "code",
   "execution_count": null,
   "outputs": [],
   "source": [
    "def volume_extended_function(search_table, search_table_2):\n",
    "    \"\"\"\n",
    "    Возвращает отношение клиенты/инструменты к рынок/инструмент\n",
    "    :param search_table:\n",
    "    :param search_table_2:\n",
    "    :return:\n",
    "    \"\"\"\n",
    "    days_array = []\n",
    "    results = []\n",
    "    for __ in range(len(search_table)):\n",
    "\n",
    "        market_day = search_table_2[__]\n",
    "        market_day.reset_index(drop=True, inplace=True)\n",
    "        plt.figure(figsize=(20,12))\n",
    "        plt.title('Дата - ' + str(market_day.loc[1, 'Дата']), fontsize=21)\n",
    "        days_array.append(market_day.loc[0, 'Дата'])\n",
    "        market_day_uniq_instruments = market_day['Инструмент'].unique()\n",
    "        market_day_instruments = []\n",
    "        for _ in market_day_uniq_instruments:\n",
    "            market_day_instruments.append(market_day.loc[market_day['Инструмент'] == _,:])\n",
    "\n",
    "        market_instrument_volume = []\n",
    "        instrument_name = []\n",
    "        for _ in market_day_instruments:\n",
    "            instrument_buffer = _\n",
    "            instrument_buffer.reset_index(drop=True, inplace=True)\n",
    "            for i in range(instrument_buffer.shape[0]):\n",
    "                instrument_buffer.loc[i, ' Объем'] = float(re.sub(r'[^0-9,]+', r'',str(instrument_buffer.loc[i, ' Объем'])).replace(',', '.'))\n",
    "            market_instrument_volume.append(sum(instrument_buffer[' Объем']))\n",
    "            instrument_name.append(instrument_buffer.loc[0, 'Инструмент'])\n",
    "        plt.bar(instrument_name, market_instrument_volume, color='blue', label='Market')\n",
    "        print('MARKET:')\n",
    "        print('DAY:', market_day.loc[1, 'Дата'])\n",
    "        print(instrument_name)\n",
    "        print(market_instrument_volume)\n",
    "        print('--------')\n",
    "        market_table = pd.DataFrame({'INSTRUMENT': instrument_name, 'VOLUME': market_instrument_volume})\n",
    "\n",
    "        market_day = search_table[__]\n",
    "        market_day.reset_index(drop=True, inplace=True)\n",
    "        market_day_uniq_instruments = market_day['Инструмент'].unique()\n",
    "        market_day_instruments = []\n",
    "        for _ in market_day_uniq_instruments:\n",
    "            market_day_instruments.append(market_day.loc[market_day['Инструмент'] == _,:])\n",
    "\n",
    "        market_instrument_volume = []\n",
    "        instrument_name = []\n",
    "        for _ in market_day_instruments:\n",
    "            instrument_buffer = _\n",
    "            instrument_buffer.reset_index(drop=True, inplace=True)\n",
    "            for i in range(instrument_buffer.shape[0]):\n",
    "                instrument_buffer.loc[i, ' Объем'] = float(re.sub(r'[^0-9,]+', r'',str(instrument_buffer.loc[i, ' Объем'])).replace(',', '.'))\n",
    "            market_instrument_volume.append(sum(instrument_buffer[' Объем']))\n",
    "            instrument_name.append(instrument_buffer.loc[0, 'Инструмент'])\n",
    "        plt.bar(instrument_name, market_instrument_volume, color='red', label='Client')\n",
    "        client_table = pd.DataFrame({'INSTRUMENT': instrument_name, 'VOLUME': market_instrument_volume})\n",
    "        result_table_day = pd.DataFrame(columns=['INSTRUMENT', 'VOLUME'])\n",
    "        for _arrow_ in range(market_table.shape[0]):\n",
    "            for __arrows__ in range(client_table.shape[0]):\n",
    "                if client_table.loc[__arrows__, 'INSTRUMENT'] == market_table.loc[_arrow_, 'INSTRUMENT']:\n",
    "                    result_table_day = result_table_day.append({'INSTRUMENT':client_table.loc[__arrows__, 'INSTRUMENT'],'VOLUME':float(client_table.loc[__arrows__, 'VOLUME']) / float(market_table.loc[_arrow_, 'VOLUME'])}, ignore_index=True)\n",
    "        print('CLIENT:')\n",
    "        print('DAY:', market_day.loc[1, 'Дата'])\n",
    "        print(instrument_name)\n",
    "        print(market_instrument_volume)\n",
    "        print('--------')\n",
    "        plt.legend(loc='upper right')\n",
    "        plt.show()\n",
    "        results.append(result_table_day)\n",
    "    return days_array, results\n",
    "\n",
    "def view21(MARKER, days, results):\n",
    "    print('DAY IS: ', days[MARKER])\n",
    "    print('RESULT')\n",
    "    print(results[MARKER])\n",
    "\n",
    "#Запуск\n",
    "days21, results21 = volume_extended_function(day_order_complete, day_order_complete_market)\n",
    "\n",
    "view21(0, days21, results21)"
   ],
   "metadata": {
    "collapsed": false,
    "pycharm": {
     "name": "#%%\n"
    }
   }
  },
  {
   "cell_type": "code",
   "execution_count": null,
   "outputs": [],
   "source": [],
   "metadata": {
    "collapsed": false,
    "pycharm": {
     "name": "#%%\n"
    }
   }
  },
  {
   "cell_type": "markdown",
   "source": [
    "# 1.6\n",
    "# Количество сделок клиента с контр-агентом\n",
    "### Для каждой даты будут идти таблицы показывающие зависимость клиент-количество сделок"
   ],
   "metadata": {
    "collapsed": false,
    "pycharm": {
     "name": "#%% md\n"
    }
   }
  },
  {
   "cell_type": "code",
   "execution_count": null,
   "outputs": [],
   "source": [
    "def client_contr_agent_table_function(search_table):\n",
    "    days_array = []\n",
    "    results = []\n",
    "    for __ in search_table:\n",
    "        market_day = __\n",
    "        market_day.reset_index(drop=True, inplace=True)\n",
    "        days_array.append(market_day.loc[0, 'Дата'])\n",
    "        print('Дата - ' + str(market_day.loc[1, 'Дата']))\n",
    "        client_array = []\n",
    "        deals_array = []\n",
    "        client_names_array = []\n",
    "        for _ in market_day['Клиент'].unique():\n",
    "            client_array.append(market_day.loc[market_day['Клиент'] == str(_)])\n",
    "        for ___ in client_array:\n",
    "            ___.reset_index(drop=True, inplace=True)\n",
    "            client_names_array.append(___.loc[0, 'Клиент'])\n",
    "            deals_array.append(___.loc[___['Клиент-констрагент'].astype(str) != 'nan'].shape[0])\n",
    "        contr_table = pd.DataFrame({'Клиент': client_names_array, 'Количество сделок с контрагентом':deals_array})\n",
    "        results.append(contr_table)\n",
    "        print(contr_table)\n",
    "        print('---------')\n",
    "    return days_array, results\n",
    "\n",
    "def view16(MARKER, days, results):\n",
    "    print('DAY IS: ', days[MARKER])\n",
    "    print('RESULT')\n",
    "    print(results[MARKER])\n",
    "\n",
    "#Запуск\n",
    "days16, results16 = client_contr_agent_table_function(day_order_complete)\n",
    "view16(0, days16, results16)"
   ],
   "metadata": {
    "collapsed": false,
    "pycharm": {
     "name": "#%%\n"
    }
   }
  },
  {
   "cell_type": "markdown",
   "source": [
    "# 2.2\n",
    "# Сделки отклоняющиеся более чем на X процентов"
   ],
   "metadata": {
    "collapsed": false,
    "pycharm": {
     "name": "#%% md\n"
    }
   }
  },
  {
   "cell_type": "code",
   "execution_count": null,
   "outputs": [],
   "source": [
    "def client_abs_arrange_price_function(search_table):\n",
    "    date_array = []\n",
    "    arrange_day_prices = []\n",
    "    for __ in search_table:\n",
    "        market_day = __\n",
    "        market_day.reset_index(drop=True, inplace=True)\n",
    "        market_day_uniq_instruments = market_day['Инструмент'].unique()\n",
    "        market_day_instruments = []\n",
    "        for _ in market_day_uniq_instruments:\n",
    "            market_day_instruments.append(market_day.loc[market_day['Инструмент'] == _,:])\n",
    "        instrument_name = []\n",
    "        arrange_price_array = []\n",
    "        for _ in market_day_instruments:\n",
    "            instrument_buffer = _\n",
    "            instrument_buffer.reset_index(drop=True, inplace=True)\n",
    "            for i in range(instrument_buffer.shape[0]):\n",
    "                instrument_buffer.loc[i, ' Объем'] = float(re.sub(r'[^0-9,]+', r'',str(instrument_buffer.loc[i, ' Объем'])).replace(',', '.'))\n",
    "                instrument_buffer.loc[i,' Цена'] = float(re.sub(r'[^0-9,]+', r'',str(instrument_buffer.loc[i,' Цена'])).replace(',', '.'))\n",
    "            instrument_name.append(instrument_buffer.loc[0, 'Инструмент'])\n",
    "            arrange_price_array.append(sum(instrument_buffer[' Объем'] * instrument_buffer[' Цена'] ) / sum(instrument_buffer[' Объем']))\n",
    "        arrange_day_prices.append([arrange_price_array, instrument_name])\n",
    "        date_array.append(market_day.loc[1, 'Дата'])\n",
    "\n",
    "    return arrange_day_prices, date_array\n",
    "\n",
    "#Запуск\n",
    "results22_half, days22_half = client_abs_arrange_price_function(day_order_complete_market, day_order_complete)\n",
    "#if list(unique_date_complete) != dates:\n",
    "#   Проверяет что даты средних цен и даты по совершенным сделкам одинаковые и идут в одинаковом порядке\n",
    "#    print('Проблемы с порядком дат в массиве средних цен и уникальных дат в таблице со сделками клиентов')"
   ],
   "metadata": {
    "collapsed": false,
    "pycharm": {
     "name": "#%%\n"
    }
   }
  },
  {
   "cell_type": "code",
   "execution_count": null,
   "outputs": [],
   "source": [
    "def std_searching_clients(arrange, day_order_complete, INDICATOR_VALUE):\n",
    "    days_array = []\n",
    "    results = []\n",
    "    for i in range(len(day_order_complete)):\n",
    "        work_client_table = day_order_complete[i]\n",
    "        work_client_table.reset_index(inplace=True, drop=True)\n",
    "        days_array.append(work_client_table.loc[0, 'Дата'])\n",
    "        CAUSE_ARRAY = []\n",
    "        prices = arrange[i][0]\n",
    "        instruments = arrange[i][1]\n",
    "        print(instruments)\n",
    "        instrument_client_array = []\n",
    "        for _ in instruments:\n",
    "            instrument_client_array.append(work_client_table.loc[work_client_table['Инструмент'].astype(str) == _])\n",
    "\n",
    "        for arrow in range(len(instruments)):\n",
    "            buffer_client = instrument_client_array[arrow]\n",
    "            instrument_price = prices[arrow]\n",
    "            buffer_client.reset_index(drop=True, inplace=True)\n",
    "            for arrow_client in range(buffer_client.shape[0]):\n",
    "                if (abs(float(re.sub(r'[^0-9,]+', r'',str(buffer_client.loc[arrow_client,' Цена'])).replace(',', '.')) -\n",
    "                        instrument_price) / instrument_price) > INDICATOR_VALUE:\n",
    "                    #print(buffer_client.loc[arrow_client])\n",
    "                    #print('INSTRUMENT NAME:', instruments[arrow])\n",
    "                    #print('INSTRUMENT STD PRICE:', instrument_price)\n",
    "                    #print('---------')\n",
    "                    CAUSE_ARRAY.append([buffer_client.loc[arrow_client, 'Клиент'], buffer_client.loc[arrow_client], instruments[arrow], instrument_price])\n",
    "        results.append(CAUSE_ARRAY)\n",
    "    return days_array, results\n",
    "\n",
    "#Запуск\n",
    "INDICATOR_VALUE = 0.1\n",
    "days22, results22 = std_searching_clients(results22_half, day_order_complete, INDICATOR_VALUE)"
   ],
   "metadata": {
    "collapsed": false,
    "pycharm": {
     "name": "#%%\n"
    }
   }
  },
  {
   "cell_type": "code",
   "execution_count": null,
   "outputs": [],
   "source": [
    "sum_count = 0\n",
    "for _ in results22:\n",
    "    sum_count += len(_)\n",
    "print('За все дни выявлено', sum_count, 'случаев')"
   ],
   "metadata": {
    "collapsed": false,
    "pycharm": {
     "name": "#%%\n"
    }
   }
  },
  {
   "cell_type": "markdown",
   "source": [
    "# 2.4\n",
    "### Максимальное количество единовременно снятых заявок"
   ],
   "metadata": {
    "collapsed": false
   }
  },
  {
   "cell_type": "code",
   "execution_count": null,
   "outputs": [],
   "source": [
    "def canceled_client(work_table):\n",
    "    day_array = []\n",
    "    day_sign = []\n",
    "    for _buffer_ in work_table:\n",
    "        client_name = []\n",
    "        max_length = []\n",
    "        buffer = _buffer_.sort_values(by=['Время заявки'])\n",
    "        buffer.reset_index(drop=True, inplace=True)\n",
    "        data = buffer.loc[0,'Дата']\n",
    "        day_sign.append(data)\n",
    "        client_array = []\n",
    "        for __uniq_client in buffer['Клиент'].unique():\n",
    "            client_array.append(buffer.loc[buffer['Клиент'].astype(str) == __uniq_client])\n",
    "        for I in range(len(client_array)):\n",
    "            client_array[I].reset_index(drop=True, inplace=True)\n",
    "            client_name.append(client_array[I].loc[0,'Клиент'])\n",
    "            canceled_orders_maximum_length_local = 0\n",
    "            canceled_orders_length_array = []\n",
    "            for i in range(client_array[I].shape[0]):\n",
    "                #print(client_array[I].loc[i, ' Остаток объема'])\n",
    "                if str(client_array[I].loc[i, ' Остаток объема']) != '  -   ':\n",
    "                    client_array[I].loc[i, ' Объем'] = float(re.sub(r'[^0-9,]+', r'',str(client_array[I].loc[i, ' Объем'])).replace(',', '.'))\n",
    "                    client_array[I].loc[i, ' Остаток объема'] = float(re.sub(r'[^0-9,]+', r'',str(client_array[I].loc[i,  ' Остаток объема'])).replace(',', '.'))\n",
    "                    if client_array[I].loc[i, ' Остаток объема'] == client_array[I].loc[i, ' Объем']:\n",
    "                        canceled_orders_maximum_length_local += 1\n",
    "                    if client_array[I].loc[i, ' Остаток объема'] != client_array[I].loc[i, ' Объем']:\n",
    "                        if canceled_orders_maximum_length_local != 0:\n",
    "                            canceled_orders_length_array.append(canceled_orders_maximum_length_local)\n",
    "                            canceled_orders_maximum_length_local = 0\n",
    "\n",
    "                if str(client_array[I].loc[i, ' Остаток объема']) == '  -   ':\n",
    "                    if canceled_orders_maximum_length_local != 0:\n",
    "                        canceled_orders_length_array.append(canceled_orders_maximum_length_local)\n",
    "                        canceled_orders_maximum_length_local = 0\n",
    "            if len(canceled_orders_length_array) != 0:\n",
    "                max_length.append(max(canceled_orders_length_array))\n",
    "            if len(canceled_orders_length_array) == 0:\n",
    "                max_length.append(0)\n",
    "        cancel_orders_table = pd.DataFrame({'Клиент': client_name, 'Максимальное количество единовременных отмен':max_length})\n",
    "        day_array.append(cancel_orders_table)\n",
    "    return day_array, day_sign\n",
    "\n",
    "def view24(MARKER, answers, datas):\n",
    "    print('DATA IS', datas[MARKER])\n",
    "    print('INFO')\n",
    "    print(answers[MARKER])\n",
    "    print('КОЛИЧЕСТВО СЛУЧАЕВ', sum(answers[MARKER]['Максимальное количество единовременных отмен']))\n",
    "\n",
    "#Запуск\n",
    "\n",
    "results24, days24 = canceled_client(day_order_placed)"
   ],
   "metadata": {
    "collapsed": false,
    "pycharm": {
     "name": "#%%\n"
    }
   }
  },
  {
   "cell_type": "code",
   "execution_count": null,
   "outputs": [],
   "source": [
    "view24(0, results24,days24)"
   ],
   "metadata": {
    "collapsed": false,
    "pycharm": {
     "name": "#%%\n"
    }
   }
  },
  {
   "cell_type": "markdown",
   "source": [
    "# 3.1 Цепочки сделок наибольшей длины"
   ],
   "metadata": {
    "collapsed": false,
    "pycharm": {
     "name": "#%% md\n"
    }
   }
  },
  {
   "cell_type": "code",
   "execution_count": null,
   "outputs": [],
   "source": [
    "def maximum_length_client(work_table):\n",
    "    day_array = []\n",
    "    day_sign = []\n",
    "    for _buffer_ in work_table:\n",
    "        client_name = []\n",
    "        max_length = []\n",
    "        buffer = _buffer_.sort_values(by=['Время'])\n",
    "        data = buffer.loc[0,'Дата']\n",
    "        day_sign.append(data)\n",
    "        buffer.reset_index(drop=True, inplace=True)\n",
    "        client_array = []\n",
    "        for __uniq_client in buffer['Клиент'].unique():\n",
    "            client_array.append(buffer.loc[buffer['Клиент'].astype(str) == __uniq_client])\n",
    "        for I in range(len(client_array)):\n",
    "            client_array[I].reset_index(drop=True, inplace=True)\n",
    "            client_name.append(client_array[I].loc[0,'Клиент'])\n",
    "            one_way_orders_maximum_length_local = 0\n",
    "            one_way_orders_length_array = []\n",
    "            type_operation = str(client_array[I].loc[0,'Покупка/Продажа'])\n",
    "            start_price = float(re.sub(r'[^0-9,]+', r'',str(client_array[I].loc[0, ' Цена'])).replace(',', '.'))\n",
    "            for i in range(1, client_array[I].shape[0]):\n",
    "                #print(client_array[I].loc[i, ' Остаток объема'])\n",
    "                client_array[I].loc[i, ' Цена'] = float(re.sub(r'[^0-9,]+', r'',str(client_array[I].loc[i, ' Цена'])).replace(',', '.'))\n",
    "                if (str(client_array[I].loc[i, 'Покупка/Продажа']) == type_operation) and (client_array[I].loc[i, ' Цена'] > start_price):\n",
    "                    one_way_orders_maximum_length_local += 1\n",
    "                    start_price = float(client_array[I].loc[i, ' Цена'])\n",
    "                else:\n",
    "                    type_operation = str(client_array[I].loc[i,'Покупка/Продажа'])\n",
    "                    start_price = float(client_array[I].loc[i, ' Цена'])\n",
    "                    one_way_orders_length_array.append(one_way_orders_maximum_length_local)\n",
    "            if len(one_way_orders_length_array) != 0:\n",
    "                max_length.append(max(one_way_orders_length_array))\n",
    "            if len(one_way_orders_length_array) == 0:\n",
    "                max_length.append(0)\n",
    "        cancel_orders_table = pd.DataFrame({'Клиент': client_name, 'Максимальное количество однонаправленных заявок':max_length})\n",
    "        day_array.append(cancel_orders_table)\n",
    "    return day_array, day_sign\n",
    "\n",
    "def view32(MARKER, answers, datas):\n",
    "    print('DAY IS:', datas[MARKER])\n",
    "    print(answers[MARKER])\n",
    "#Запуск\n",
    "results31, days31 = maximum_length_client(day_order_complete)\n",
    "view32(0, results31, days31)"
   ],
   "metadata": {
    "collapsed": false,
    "pycharm": {
     "name": "#%%\n"
    }
   }
  },
  {
   "cell_type": "markdown",
   "source": [
    "# 3.2 Разнонаправленные заявки в течение короткого времени"
   ],
   "metadata": {
    "collapsed": false,
    "pycharm": {
     "name": "#%% md\n"
    }
   }
  },
  {
   "cell_type": "code",
   "execution_count": null,
   "outputs": [],
   "source": [
    "def time_parser(work_value):\n",
    "    success_status = False\n",
    "    # По хорошему нужно убрать комментирование, но я хочу чтобы в случае ошибки все \"ломалось\". Выше по коду есть такой же момент\n",
    "    '''\n",
    "    hour_ = None\n",
    "    minute_ = None\n",
    "    sec_ = None\n",
    "    '''\n",
    "    if len(work_value) == 5:\n",
    "        hour_ = work_value[:1]\n",
    "        minute_ = work_value[1:3]\n",
    "        sec_ = work_value[3:]\n",
    "        success_status = True\n",
    "    if len(work_value) == 6:\n",
    "        hour_ = work_value[:2]\n",
    "        minute_ = work_value[2:4]\n",
    "        sec_ = work_value[4:]\n",
    "        success_status = True\n",
    "#   Исключение связанное с возможностью некорректной даты\n",
    "    if not success_status:\n",
    "        print('Время в таблице указанно некорректно')\n",
    "    return hour_, minute_, sec_\n",
    "\n",
    "\n",
    "def table_normalize_time(work_table_placed):\n",
    "    work_table_placed = work_table_placed.sort_values(by=['Время заявки'])\n",
    "    work_table_placed.reset_index(drop=True, inplace=True)\n",
    "    for _ in range(work_table_placed.shape[0]):\n",
    "        work_value_ = str(work_table_placed.loc[_,'Время заявки'])\n",
    "        hour, minute, sec = time_parser(work_value_)\n",
    "        work_table_placed.loc[_, 'Час_открытие'] = hour\n",
    "        work_table_placed.loc[_, 'Минута_открытие'] = minute\n",
    "        work_table_placed.loc[_, 'Секунда_открытие'] = sec\n",
    "        work_value_ = str(work_table_placed.loc[_,'Время снятия заявки'])\n",
    "        hour, minute, sec = time_parser(work_value_)\n",
    "        work_table_placed.loc[_, 'Час_снятие'] = hour\n",
    "        work_table_placed.loc[_, 'Минута_снятие'] = minute\n",
    "        work_table_placed.loc[_, 'Секунда_снятие'] = sec\n",
    "    return work_table_placed\n",
    "\n",
    "\n",
    "def detection_short_time(buffer, null_hour, null_minute, null_sec, HOUR_EXTENDED, MINUTE_EXTENDED, SEC_EXTENDED):\n",
    "    NH = int(null_hour)\n",
    "    NM = int(null_minute)\n",
    "    NC = int(null_sec)\n",
    "    NC_SEC_EXTENDED = NC + SEC_EXTENDED\n",
    "    MINUTE_ADDING = NC_SEC_EXTENDED // 60\n",
    "    REAL_SEC = NC_SEC_EXTENDED % 60\n",
    "    NM_MINUTE_EXTENDED = NM + MINUTE_EXTENDED + MINUTE_ADDING\n",
    "    HOUR_ADDING = NM_MINUTE_EXTENDED // 60\n",
    "    REAL_MINUTE = NM_MINUTE_EXTENDED % 60\n",
    "    NH_HOUR_EXTENDED = NH + HOUR_EXTENDED + HOUR_ADDING\n",
    "    REAL_HOUR = NH_HOUR_EXTENDED % 24\n",
    "    logic_status = NH_HOUR_EXTENDED // 24\n",
    "    if len(str(REAL_SEC)) == 1:\n",
    "        REAL_SEC = '0' + str(REAL_SEC)\n",
    "    if len(str(REAL_MINUTE)) == 1:\n",
    "        REAL_MINUTE = '0' + str(REAL_MINUTE)\n",
    "    if logic_status != 0:\n",
    "        print('Плохо указаны границы поиска. Получается переход на следующий день')\n",
    "    else:\n",
    "        string_time = str(REAL_HOUR)+str(REAL_MINUTE)+str(REAL_SEC)\n",
    "        buffer_ = buffer.loc[buffer['Время заявки'].astype(int) < int(string_time)]\n",
    "        buffer_.reset_index(inplace=True, drop=True)\n",
    "\n",
    "\n",
    "        detector = 0\n",
    "        if buffer_.shape[0] != 0:\n",
    "            first_operation = buffer_.loc[0, 'Покупка/Продажа']\n",
    "            if buffer_.shape[0] != 1:\n",
    "                for _ in range(1, buffer_.shape[0]):\n",
    "                    if str(buffer_.loc[_, 'Покупка/Продажа']) != str(first_operation):\n",
    "                        detector = 1\n",
    "            else:\n",
    "                detector = 0\n",
    "    return detector, buffer_\n",
    "\n",
    "\n",
    "def shorten_time_checker(work_table, client_name, TIMES):\n",
    "    HOUR_EXTENDED = TIMES[0]\n",
    "    MINUTE_EXTENDED = TIMES[1]\n",
    "    SEC_EXTENDED = TIMES[2]\n",
    "    det_summary = 0\n",
    "    buffer_save = work_table[work_table['Клиент'] == client_name]\n",
    "    buffer_save.reset_index(drop=True, inplace=True)\n",
    "\n",
    "    for I in range(buffer_save.shape[0]):\n",
    "        null_hour = buffer_save['Час_открытие'][I]\n",
    "        null_minute = buffer_save['Минута_открытие'][I]\n",
    "        null_sec = buffer_save['Секунда_открытие'][I]\n",
    "        buffer = buffer_save.loc[I:]\n",
    "        buffer.reset_index(drop=True, inplace=True)\n",
    "        det, table = detection_short_time(buffer, null_hour, null_minute, null_sec, HOUR_EXTENDED, MINUTE_EXTENDED, SEC_EXTENDED)\n",
    "        det_summary += det\n",
    "    return det_summary\n",
    "\n",
    "\n",
    "def days_shorten_time_checker(big_table):\n",
    "    return_tables = []\n",
    "    return_dates = []\n",
    "\n",
    "    ###         Настройка временного интервала на котором будет искаться разнонаправленность\n",
    "    HOUR_INTERVAL = 0\n",
    "    MINUTE_INTERVAL = 40\n",
    "    SEC_INTERVAL = 0\n",
    "    ###         Настройка временного интервала на котором будет искаться разнонаправленность\n",
    "\n",
    "    TIME = [HOUR_INTERVAL, MINUTE_INTERVAL, SEC_INTERVAL]\n",
    "    for _big_table_ in big_table:\n",
    "        _big_table_.reset_index(inplace=True, drop=True)\n",
    "        return_dates.append(_big_table_.loc[0,'Дата'])\n",
    "        working_table = table_normalize_time(_big_table_)\n",
    "        small_table_client_names = []\n",
    "        small_table_accident_counter = []\n",
    "        for client_names in working_table['Клиент'].unique():\n",
    "            small_table_client_names.append(client_names)\n",
    "            small_table_accident_counter.append(shorten_time_checker(working_table, client_names, TIME))\n",
    "        return_table = pd.DataFrame({'Клиент': small_table_client_names, 'Количество случаев': small_table_accident_counter})\n",
    "        return_tables.append(return_table)\n",
    "    return  return_dates, return_tables\n",
    "\n",
    "def view32(MARKER, days, answers):\n",
    "    print('DAY IS:', days[MARKER])\n",
    "    print(answers[MARKER])\n",
    "    \n",
    "#Запуск\n",
    "#Выдает массив дат для поиска и массив из таблиц = пары КЛИЕНТ - КОЛИЧЕСТВО СЛУЧАЕВ\n",
    "days32, results32 = days_shorten_time_checker(day_order_placed)\n",
    "view32(0, days32, results32)"
   ],
   "metadata": {
    "collapsed": false,
    "pycharm": {
     "name": "#%%\n"
    }
   }
  },
  {
   "cell_type": "code",
   "execution_count": null,
   "outputs": [],
   "source": [],
   "metadata": {
    "collapsed": false,
    "pycharm": {
     "name": "#%%\n"
    }
   }
  },
  {
   "cell_type": "markdown",
   "source": [
    "# 3.3 Доля сделок одного клиента в сделках другого клиента у одного участника торгов\n",
    "\n",
    "## Я не уверен, что корректно понял что тут требуется сделать. Мое понимание трактуется как, посмотреть на общий объем сделок с контрагентом / общий объем сделок"
   ],
   "metadata": {
    "collapsed": false,
    "pycharm": {
     "name": "#%% md\n"
    }
   }
  },
  {
   "cell_type": "code",
   "execution_count": null,
   "outputs": [],
   "source": [
    "def contr_volume_checker(working_table, MARKER_VALUE):\n",
    "    tables = []\n",
    "    days = []\n",
    "    for _day_order_complete_ in working_table:\n",
    "        _day_order_complete_.reset_index(inplace=True, drop=True)\n",
    "        days.append(_day_order_complete_.loc[0,'Дата'])\n",
    "        clients = []\n",
    "        client_status = []\n",
    "        buffer_day = _day_order_complete_\n",
    "        for _ in buffer_day['Клиент'].unique():\n",
    "            buffer_client = buffer_day.loc[buffer_day['Клиент'] == _]\n",
    "            clients.append(_)\n",
    "            buffer_client.reset_index(inplace=True, drop=True)\n",
    "            CLIENT_STATUS = 0\n",
    "            for i in range(0, buffer_client.shape[0]):\n",
    "                buffer_client.loc[i, ' Сумма'] = float(re.sub(r'[^0-9,]+', r'',str(buffer_client.loc[i, ' Сумма'])).replace(',', '.'))\n",
    "            for __ in buffer_client['Инструмент'].unique():\n",
    "                buffer_client_instrument = buffer_client.loc[buffer_client['Инструмент'] == __]\n",
    "                buffer_client_instrument.reset_index(drop=True, inplace=True)\n",
    "                buffer_client_instrument_all_volume = sum(buffer_client_instrument[' Сумма'])\n",
    "                buffer_client_instrument_only_contr = buffer_client_instrument.loc[buffer_client_instrument['Клиент-констрагент'].astype(str) != 'nan']\n",
    "                buffer_client_instrument_only_contr.reset_index(inplace=True, drop=True)\n",
    "                buffer_client_instrument_contr_volume = sum(buffer_client_instrument_only_contr[' Сумма'])\n",
    "\n",
    "                if buffer_client_instrument_contr_volume / buffer_client_instrument_all_volume > MARKER_VALUE:\n",
    "                    CLIENT_STATUS += 1\n",
    "            client_status.append(CLIENT_STATUS)\n",
    "        buffer_table = pd.DataFrame({'Клиент': clients, 'Количество замеченных случаев': client_status})\n",
    "        tables.append(buffer_table)\n",
    "    return days,tables\n",
    "\n",
    "\n",
    "def view33(MARKER, day, result):\n",
    "    print('DAY IS:', day[MARKER])\n",
    "    print('RESULTS:')\n",
    "    print(result[MARKER])\n",
    "\n",
    "\n",
    "#ЗАПУСК\n",
    "detector_VALUE = 0.2\n",
    "days33, results33 = contr_volume_checker(day_order_complete, detector_VALUE)\n",
    "view33(0, days33, results33)"
   ],
   "metadata": {
    "collapsed": false,
    "pycharm": {
     "name": "#%%\n"
    }
   }
  },
  {
   "cell_type": "markdown",
   "source": [
    "# 4.1 Отличие средневзвешенной для продажа/покупка (контрагент)"
   ],
   "metadata": {
    "collapsed": false
   }
  },
  {
   "cell_type": "code",
   "execution_count": null,
   "outputs": [],
   "source": [
    "def std_buy_sell_contr(DETECTOR_VALUE, work_table):\n",
    "    output_tables = []\n",
    "    output_dates = []\n",
    "    for __day__ in work_table:\n",
    "        buffer_day = __day__\n",
    "        buffer_day.reset_index(inplace=True, drop=True)\n",
    "        output_dates.append(buffer_day.loc[0, 'Дата'])\n",
    "        client_array = []\n",
    "        detections_array = []\n",
    "        for _client_ in buffer_day['Клиент'].unique():\n",
    "            buffer_client = buffer_day.loc[buffer_day['Клиент'] == _client_]\n",
    "            buffer_client.reset_index(inplace=True, drop=True)\n",
    "            client_array.append(_client_)\n",
    "            detections = 0\n",
    "            for __instrument__client in buffer_client['Инструмент'].unique():\n",
    "                buffer_client_instrument = buffer_client.loc[buffer_client['Инструмент'] == __instrument__client]\n",
    "                buffer_client_instrument.reset_index(inplace=True, drop=True)\n",
    "                buffer_client_not_null_contr = buffer_client_instrument.loc[buffer_client_instrument['Клиент-констрагент'].astype(str) != 'nan']\n",
    "                buffer_client_not_null_contr.reset_index(inplace=True, drop=True)\n",
    "                for _contr_agent_in_client_ in buffer_client_not_null_contr['Клиент-констрагент'].unique():\n",
    "                    buffer_client_contr_agent = buffer_client_not_null_contr.loc[buffer_client_not_null_contr['Клиент-констрагент'] == _contr_agent_in_client_]\n",
    "                    buffer_client_contr_agent.reset_index(inplace=True, drop=True)\n",
    "                    if len(buffer_client_contr_agent['Покупка/Продажа'].unique()) == 2:\n",
    "                        for i in range(buffer_client_contr_agent.shape[0]):\n",
    "                            buffer_client_contr_agent.loc[i,' Объем'] = float(re.sub(r'[^0-9,]+', r'',str(buffer_client_contr_agent.loc[i, ' Объем'])).replace(',', '.'))\n",
    "                            buffer_client_contr_agent.loc[i,' Сумма'] = float(re.sub(r'[^0-9,]+', r'',str(buffer_client_contr_agent.loc[i, ' Сумма'])).replace(',', '.'))\n",
    "                        #Средневзвешенная продажа\n",
    "                        sell_arrange_price = sum(buffer_client_contr_agent.loc[buffer_client_contr_agent['Покупка/Продажа'].astype(str) == 'S'][' Сумма']) / sum(buffer_client_contr_agent.loc[buffer_client_contr_agent['Покупка/Продажа'].astype(str) == 'S'][' Объем'])\n",
    "                        #Средневзвешенная покупка\n",
    "                        buy_arrange_price = sum(buffer_client_contr_agent.loc[buffer_client_contr_agent['Покупка/Продажа'].astype(str) == 'B'][' Сумма']) / sum(buffer_client_contr_agent.loc[buffer_client_contr_agent['Покупка/Продажа'].astype(str) == 'B'][' Объем'])\n",
    "                        #print(buffer_client_contr_agent)\n",
    "                        #print('SELL PRICE:', sell_arrange_price)\n",
    "                        #print('BUY PRICE:', buy_arrange_price)\n",
    "                        if abs((buy_arrange_price - sell_arrange_price) / sell_arrange_price) > DETECTOR_VALUE:\n",
    "                            # Опциональный вывод информации по выявленным случаям\n",
    "                            #print(_client_)\n",
    "                            #print(buffer_client_contr_agent)\n",
    "                            #print('------')\n",
    "                            #print('YES')\n",
    "                            detections += 1\n",
    "            detections_array.append(detections)\n",
    "        output_table = pd.DataFrame({'Клиент':client_array, 'Количество случаев': detections_array})\n",
    "        output_tables.append(output_table)\n",
    "    return output_dates, output_tables\n",
    "\n",
    "def view41(MARKER, day, result):\n",
    "    print('DAY IS:', day[MARKER])\n",
    "    print('RESULTS:')\n",
    "    print(result[MARKER])\n",
    "\n",
    "#ЗАПУСК\n",
    "detector_VALUE = 0.01\n",
    "days41, results41 = std_buy_sell_contr(detector_VALUE, day_order_complete)\n",
    "view41(0, days41, results41)"
   ],
   "metadata": {
    "collapsed": false,
    "pycharm": {
     "name": "#%%\n"
    }
   }
  },
  {
   "cell_type": "markdown",
   "source": [
    "# 4.2 Совершение клиентом сделок по ценам лучше, чем другой клиент"
   ],
   "metadata": {
    "collapsed": false,
    "pycharm": {
     "name": "#%% md\n"
    }
   }
  },
  {
   "cell_type": "code",
   "execution_count": null,
   "outputs": [],
   "source": [
    "def new_time_maker(null_hour, null_minute, null_sec, HOUR_EXTENDED, MINUTE_EXTENDED, SEC_EXTENDED,\n",
    "                   SAFE_HOUR, SAFE_MINUTE, SAFE_SEC):\n",
    "    \"\"\"\n",
    "    ВЕЛИЧИНЫ SAFE должны быть побольше чем EXTENDED\n",
    "    :param null_hour: Час от которого начинается отсчет\n",
    "    :param null_minute: аналогично Минута\n",
    "    :param null_sec: аналогично Секунда\n",
    "    :param HOUR_EXTENDED: Что считаем допустимым интервалом для \"короткого промежутка времени\" (час)\n",
    "    :param MINUTE_EXTENDED: аналогично минута\n",
    "    :param SEC_EXTENDED: аналогично секунда\n",
    "    :param SAFE_HOUR: Нужно для границ поиска сделок других клиентов (Час)\n",
    "    :param SAFE_MINUTE: аналогично минута\n",
    "    :param SAFE_SEC: аналогично секунда\n",
    "    :return: ЧИСЛО по которому ищем заявки клиентов, что значит в краткий срок\n",
    "    \"\"\"\n",
    "    if SAFE_HOUR < HOUR_EXTENDED:\n",
    "        print('ПЛОХИЕ ВЕЛИЧИНЫ ДЛЯ ГРАНИЦ ПОИСКА')\n",
    "\n",
    "    NH = int(null_hour)\n",
    "    NM = int(null_minute)\n",
    "    NC = int(null_sec)\n",
    "    NC_SEC_EXTENDED = NC + SEC_EXTENDED\n",
    "    MINUTE_ADDING = NC_SEC_EXTENDED // 60\n",
    "    REAL_SEC = NC_SEC_EXTENDED % 60\n",
    "    NM_MINUTE_EXTENDED = NM + MINUTE_EXTENDED + MINUTE_ADDING\n",
    "    HOUR_ADDING = NM_MINUTE_EXTENDED // 60\n",
    "    REAL_MINUTE = NM_MINUTE_EXTENDED % 60\n",
    "    NH_HOUR_EXTENDED = NH + HOUR_EXTENDED + HOUR_ADDING\n",
    "    REAL_HOUR = NH_HOUR_EXTENDED % 24\n",
    "    logic_status = NH_HOUR_EXTENDED // 24\n",
    "    if len(str(REAL_SEC)) == 1:\n",
    "        REAL_SEC = '0' + str(REAL_SEC)\n",
    "    if len(str(REAL_MINUTE)) == 1:\n",
    "        REAL_MINUTE = '0' + str(REAL_MINUTE)\n",
    "    if logic_status != 0:\n",
    "        print('Выбранные границы - плохие')\n",
    "        print('Границы для buffer клиента')\n",
    "        TIMES_BUFFER = 'ERROR'\n",
    "    else:\n",
    "        TIMES_BUFFER = str(REAL_HOUR)+str(REAL_MINUTE)+ str(REAL_SEC)\n",
    "\n",
    "\n",
    "    NC_SEC_EXTENDED = NC + SAFE_SEC\n",
    "    MINUTE_ADDING = NC_SEC_EXTENDED // 60\n",
    "    REAL_SEC = NC_SEC_EXTENDED % 60\n",
    "    NM_MINUTE_EXTENDED = NM + SAFE_MINUTE + MINUTE_ADDING\n",
    "    HOUR_ADDING = NM_MINUTE_EXTENDED // 60\n",
    "    REAL_MINUTE = NM_MINUTE_EXTENDED % 60\n",
    "    NH_HOUR_EXTENDED = NH + SAFE_HOUR + HOUR_ADDING\n",
    "    REAL_HOUR = NH_HOUR_EXTENDED % 24\n",
    "    logic_status = NH_HOUR_EXTENDED // 24\n",
    "    if len(str(REAL_SEC)) == 1:\n",
    "        REAL_SEC = '0' + str(REAL_SEC)\n",
    "    if len(str(REAL_MINUTE)) == 1:\n",
    "        REAL_MINUTE = '0' + str(REAL_MINUTE)\n",
    "    if logic_status != 0:\n",
    "        print('Выбранные границы - плохие')\n",
    "        print('Границы для buffer клиента')\n",
    "        TIMES_SEARCH_HIGH = 'ERROR'\n",
    "    else:\n",
    "        TIMES_SEARCH_HIGH = str(REAL_HOUR)+str(REAL_MINUTE)+ str(REAL_SEC)\n",
    "\n",
    "    NC_SEC_EXTENDED = NC - SAFE_SEC\n",
    "    MINUTE_ADDING = NC_SEC_EXTENDED // 60\n",
    "    REAL_SEC = NC_SEC_EXTENDED % 60\n",
    "    NM_MINUTE_EXTENDED = NM - SAFE_MINUTE + MINUTE_ADDING\n",
    "    HOUR_ADDING = NM_MINUTE_EXTENDED // 60\n",
    "    REAL_MINUTE = NM_MINUTE_EXTENDED % 60\n",
    "    NH_HOUR_EXTENDED = NH - SAFE_HOUR + HOUR_ADDING\n",
    "    REAL_HOUR = NH_HOUR_EXTENDED % 24\n",
    "    logic_status = NH_HOUR_EXTENDED // 24\n",
    "    if len(str(REAL_SEC)) == 1:\n",
    "        REAL_SEC = '0' + str(REAL_SEC)\n",
    "    if len(str(REAL_MINUTE)) == 1:\n",
    "        REAL_MINUTE = '0' + str(REAL_MINUTE)\n",
    "    if logic_status != 0:\n",
    "        print('Выбранные границы - плохие')\n",
    "        print('Границы для buffer клиента')\n",
    "        TIMES_SEARCH_LOW = 'ERROR'\n",
    "    else:\n",
    "        TIMES_SEARCH_LOW = str(REAL_HOUR)+str(REAL_MINUTE)+ str(REAL_SEC)\n",
    "    return float(TIMES_BUFFER), float(TIMES_SEARCH_HIGH), float(TIMES_SEARCH_LOW)\n",
    "\n",
    "\n",
    "\n",
    "#new_time_maker(10, 20, 10, 0, 10, 0, 0, 15, 0)"
   ],
   "metadata": {
    "collapsed": false,
    "pycharm": {
     "name": "#%%\n"
    }
   }
  },
  {
   "cell_type": "code",
   "execution_count": null,
   "outputs": [],
   "source": [
    "SHORT_HOUR = 0\n",
    "SHORT_MINUTE = 20\n",
    "SHORT_SEC = 0\n",
    "GRID_SHORT_HOUR = 0\n",
    "GRID_SHORT_MINUTE = 20\n",
    "GRID_SHORT_SEC = 0\n",
    "\n",
    "\n",
    "def better_price_function(work_table, DETECTOR_PERCENT):\n",
    "    days_array = []\n",
    "    final_tables = []\n",
    "    for _day_table_ in work_table:\n",
    "        #### ТОЛЬКО ПРОДАЖА\n",
    "        buffer_day = _day_table_\n",
    "        buffer_day = buffer_day.loc[buffer_day['Покупка/Продажа'].astype(str) == 'S']\n",
    "        buffer_day.sort_values(by=['Время'], inplace=True)\n",
    "        buffer_day.reset_index(inplace=True, drop=True)\n",
    "        days_array.append(buffer_day.loc[0, 'Дата'])\n",
    "        for ___arrow___ in range(buffer_day.shape[0]):\n",
    "            buffer_day.loc[___arrow___, ' Цена'] = float(re.sub(r'[^0-9,]+', r'',str(buffer_day.loc[___arrow___, ' Цена'])).replace(',', '.'))\n",
    "        client_names = []\n",
    "        clients_results = []\n",
    "        for __client__ in buffer_day['Клиент'].unique():\n",
    "            result = 0\n",
    "            buffer_client = buffer_day.loc[buffer_day['Клиент'] == __client__]\n",
    "            buffer_client.reset_index(inplace=True, drop=True)\n",
    "            client_names.append(__client__)\n",
    "            buffer_big_table_without_client = buffer_day.loc[buffer_day['Клиент'] != __client__]\n",
    "            for __instrument__ in buffer_client['Инструмент'].unique():\n",
    "                buffer_big_table_instrument = buffer_big_table_without_client.loc[buffer_big_table_without_client['Инструмент'] == __instrument__]\n",
    "                buffer_client_instrument = buffer_client.loc[buffer_client['Инструмент'] == __instrument__]\n",
    "                buffer_client_instrument.reset_index(drop=True, inplace=True)\n",
    "                for __arrow__ in range(buffer_client_instrument.shape[0]):\n",
    "                    null_object = str(buffer_client_instrument.loc[__arrow__, 'Время'])\n",
    "                    null_hour, null_minute, null_sec = time_parser(null_object)\n",
    "                    TIME_CLIENT, HIGH_OTHER_CLIENTS, LOW_OTHER_CLIENTS = new_time_maker(null_hour, null_minute, null_sec,\n",
    "                                   SHORT_HOUR, SHORT_MINUTE, SHORT_SEC,\n",
    "                                   GRID_SHORT_HOUR, GRID_SHORT_MINUTE, GRID_SHORT_SEC)\n",
    "                    times_clients = buffer_big_table_instrument.loc[(buffer_big_table_instrument['Время'].astype(float) >= float(null_object)) & (buffer_big_table_instrument['Время'].astype(float) <= HIGH_OTHER_CLIENTS)]\n",
    "                    select_client = buffer_client_instrument.loc[(buffer_client_instrument['Время'].astype(float) >= float(null_object)) & (buffer_client_instrument['Время'].astype(float) <= TIME_CLIENT)]\n",
    "                    if select_client.shape[0] != 0:\n",
    "                        STD_PRICE_SELECT_CLIENT = sum(select_client[' Цена']) / select_client.shape[0]\n",
    "                        #print(STD_PRICE_SELECT_CLIENT)\n",
    "                        CLIENTS_STDS = []\n",
    "                        for _other_client_ in times_clients['Клиент'].unique():\n",
    "                            client_time_instrument = times_clients.loc[times_clients['Клиент'] == _other_client_]\n",
    "                            CLIENTS_STDS.append(sum(client_time_instrument[' Цена']) / client_time_instrument.shape[0])\n",
    "                        #print(CLIENTS_STDS)\n",
    "                        for _other_client_std_ in CLIENTS_STDS:\n",
    "                            if (STD_PRICE_SELECT_CLIENT - _other_client_std_) / _other_client_std_ > DETECTOR_PERCENT:\n",
    "                                result += 1\n",
    "            clients_results.append(result)\n",
    "\n",
    "        table_sell = pd.DataFrame({'КЛИЕНТ': client_names, 'РЕЗУЛЬТАТ': clients_results})\n",
    "        ### ТОЛЬКО ПОКУПКА\n",
    "        buffer_day = _day_table_\n",
    "        buffer_day = buffer_day.loc[buffer_day['Покупка/Продажа'].astype(str) == 'B']\n",
    "        buffer_day.sort_values(by=['Время'], inplace=True)\n",
    "        buffer_day.reset_index(inplace=True, drop=True)\n",
    "        for ___arrow___ in range(buffer_day.shape[0]):\n",
    "            buffer_day.loc[___arrow___, ' Цена'] = float(re.sub(r'[^0-9,]+', r'',str(buffer_day.loc[___arrow___, ' Цена'])).replace(',', '.'))\n",
    "        client_names_buy = []\n",
    "        clients_results_buy = []\n",
    "        for __client__ in buffer_day['Клиент'].unique():\n",
    "            result = 0\n",
    "            buffer_client = buffer_day.loc[buffer_day['Клиент'] == __client__]\n",
    "            buffer_client.reset_index(inplace=True, drop=True)\n",
    "            client_names_buy.append(__client__)\n",
    "            buffer_big_table_without_client = buffer_day.loc[buffer_day['Клиент'] != __client__]\n",
    "            for __instrument__ in buffer_client['Инструмент'].unique():\n",
    "                buffer_big_table_instrument = buffer_big_table_without_client.loc[buffer_big_table_without_client['Инструмент'] == __instrument__]\n",
    "                buffer_client_instrument = buffer_client.loc[buffer_client['Инструмент'] == __instrument__]\n",
    "                buffer_client_instrument.reset_index(drop=True, inplace=True)\n",
    "                for __arrow__ in range(buffer_client_instrument.shape[0]):\n",
    "                    null_object = str(buffer_client_instrument.loc[__arrow__, 'Время'])\n",
    "                    null_hour, null_minute, null_sec = time_parser(null_object)\n",
    "                    TIME_CLIENT, HIGH_OTHER_CLIENTS, LOW_OTHER_CLIENTS = new_time_maker(null_hour, null_minute, null_sec,\n",
    "                                   SHORT_HOUR, SHORT_MINUTE, SHORT_SEC,\n",
    "                                   GRID_SHORT_HOUR, GRID_SHORT_MINUTE, GRID_SHORT_SEC)\n",
    "                    times_clients = buffer_big_table_instrument.loc[(buffer_big_table_instrument['Время'].astype(float) >= float(null_object)) & (buffer_big_table_instrument['Время'].astype(float) <= HIGH_OTHER_CLIENTS)]\n",
    "                    select_client = buffer_client_instrument.loc[(buffer_client_instrument['Время'].astype(float) >= float(null_object)) & (buffer_client_instrument['Время'].astype(float) <= TIME_CLIENT)]\n",
    "                    if select_client.shape[0] != 0:\n",
    "                        STD_PRICE_SELECT_CLIENT = sum(select_client[' Цена']) / select_client.shape[0]\n",
    "                        #print(STD_PRICE_SELECT_CLIENT)\n",
    "                        CLIENTS_STDS = []\n",
    "                        for _other_client_ in times_clients['Клиент'].unique():\n",
    "                            client_time_instrument = times_clients.loc[times_clients['Клиент'] == _other_client_]\n",
    "                            CLIENTS_STDS.append(sum(client_time_instrument[' Цена']) / client_time_instrument.shape[0])\n",
    "                        #print(CLIENTS_STDS)\n",
    "                        for _other_client_std_ in CLIENTS_STDS:\n",
    "                            if (STD_PRICE_SELECT_CLIENT - _other_client_std_) / _other_client_std_ < -1 * DETECTOR_PERCENT:\n",
    "                                result += 1\n",
    "            clients_results_buy.append(result)\n",
    "\n",
    "\n",
    "\n",
    "\n",
    "        table_buy = pd.DataFrame({'КЛИЕНТ': client_names_buy, 'РЕЗУЛЬТАТ': clients_results_buy})\n",
    "        final_day_table = pd.concat((table_sell, table_buy))\n",
    "        final_day_table = final_day_table.groupby(['КЛИЕНТ'], dropna=False).sum()\n",
    "        final_tables.append(final_day_table)\n",
    "    return days_array, final_tables\n",
    "\n",
    "# ЗАПУСК\n",
    "DETECTOR_percent = 0.01\n",
    "days42, result42 = better_price_function(day_order_complete, DETECTOR_percent)"
   ],
   "metadata": {
    "collapsed": false,
    "pycharm": {
     "name": "#%%\n"
    }
   }
  },
  {
   "cell_type": "code",
   "source": [
    "def view42(DETECTOR_COUNT, days, tables):\n",
    "    for _ in zip(days, tables):\n",
    "        print('DAY:', _[0])\n",
    "        buf = _[1]\n",
    "        print(buf.loc[buf['РЕЗУЛЬТАТ'].astype(int) > DETECTOR_COUNT])\n",
    "\n",
    "DETECTOR = 20\n",
    "view42(DETECTOR, days42, result42)"
   ],
   "metadata": {
    "collapsed": false,
    "pycharm": {
     "name": "#%%\n"
    }
   },
   "execution_count": null,
   "outputs": []
  },
  {
   "cell_type": "markdown",
   "source": [
    "# 4.3 Большое количество поручений без цели исполнения"
   ],
   "metadata": {
    "collapsed": false
   }
  },
  {
   "cell_type": "code",
   "execution_count": null,
   "outputs": [],
   "source": [
    "def closest_function(work_table, REGULATOR):\n",
    "    days_array = []\n",
    "    days_results = []\n",
    "    for __work_day__ in work_table:\n",
    "        buffer_day = __work_day__\n",
    "        buffer_day.sort_values(by=['Время заявки'], inplace=True)\n",
    "        buffer_day.reset_index(inplace=True, drop=True)\n",
    "        days_array.append(buffer_day.loc[0, 'Дата'])\n",
    "        for _o_ in range(buffer_day.shape[0]):\n",
    "            if buffer_day.loc[_o_, ' Остаток объема'] == '  -   ':\n",
    "                buffer_day.loc[_o_, ' Остаток объема'] = 0\n",
    "            else:\n",
    "                buffer_day.loc[_o_, ' Остаток объема'] = float(re.sub(r'[^0-9,]+', r'',str(buffer_day.loc[_o_, ' Остаток объема'])).replace(',', '.'))\n",
    "            buffer_day.loc[_o_, ' Объем'] = float(re.sub(r'[^0-9,]+', r'',str(buffer_day.loc[_o_, ' Объем'])).replace(',', '.'))\n",
    "\n",
    "        client_names = []\n",
    "        client_results = []\n",
    "        for __client__ in buffer_day['Клиент'].unique():\n",
    "            instrument_array = []\n",
    "            client_longest_array = []\n",
    "            buffer_client = buffer_day.loc[buffer_day['Клиент'] == __client__]\n",
    "            buffer_client.reset_index(inplace=True, drop=True)\n",
    "            client_names.append(__client__)\n",
    "            for __instrument__ in buffer_client['Инструмент'].unique():\n",
    "                instrument_array.append(__instrument__)\n",
    "                buffer_client_instrument = buffer_client.loc[buffer_client['Инструмент'] == __instrument__]\n",
    "                buffer_client_instrument.reset_index(inplace=True, drop=True)\n",
    "                max_len = 0\n",
    "                len_buffer = 0\n",
    "                save_point = pd.DataFrame(columns=buffer_day.columns)\n",
    "                for i in range(buffer_client_instrument.shape[0]):\n",
    "                    if abs(float(buffer_client_instrument.loc[i, 'Время заявки']) - float(buffer_client_instrument.loc[i, 'Время снятия заявки'])) < REGULATOR:\n",
    "                        if float(buffer_client_instrument.loc[i, ' Остаток объема']) == float(buffer_client_instrument.loc[i, ' Объем']):\n",
    "                            len_buffer += 1\n",
    "\n",
    "                    if abs(float(buffer_client_instrument.loc[i, 'Время заявки']) - float(buffer_client_instrument.loc[i, 'Время снятия заявки'])) < REGULATOR:\n",
    "                        if float(buffer_client_instrument.loc[i, ' Остаток объема']) != float(buffer_client_instrument.loc[i, ' Объем']):\n",
    "                            if len_buffer <= max_len:\n",
    "                                len_buffer = 0\n",
    "\n",
    "                            if len_buffer > max_len:\n",
    "                                save_point = buffer_client_instrument.loc[i-len_buffer:i-1]\n",
    "                                max_len = len_buffer\n",
    "                                len_buffer = 0\n",
    "\n",
    "                    if abs(float(buffer_client_instrument.loc[i, 'Время заявки']) - float(buffer_client_instrument.loc[i, 'Время снятия заявки'])) > REGULATOR:\n",
    "                        if float(buffer_client_instrument.loc[i, ' Остаток объема']) == float(buffer_client_instrument.loc[i, ' Объем']):\n",
    "                            if len_buffer <= max_len:\n",
    "\n",
    "                                len_buffer = 0\n",
    "                            if len_buffer > max_len:\n",
    "                                save_point = buffer_client_instrument.loc[i-len_buffer:i-1]\n",
    "                                max_len = len_buffer\n",
    "                                len_buffer = 0\n",
    "\n",
    "                    if abs(float(buffer_client_instrument.loc[i, 'Время заявки']) - float(buffer_client_instrument.loc[i, 'Время снятия заявки'])) > REGULATOR:\n",
    "                        if float(buffer_client_instrument.loc[i, ' Остаток объема']) != float(buffer_client_instrument.loc[i, ' Объем']):\n",
    "                            if len_buffer <= max_len:\n",
    "\n",
    "                                len_buffer = 0\n",
    "                            if len_buffer > max_len:\n",
    "                                save_point = buffer_client_instrument.loc[i-len_buffer:i-1]\n",
    "                                max_len = len_buffer\n",
    "                                len_buffer = 0\n",
    "\n",
    "                if not save_point.empty:\n",
    "                    save_point.reset_index(inplace=True, drop=True)\n",
    "                    client_longest_array.append(save_point.loc[save_point.shape[0] - 1,'Время заявки'])\n",
    "                if save_point.empty:\n",
    "                    client_longest_array.append(0)\n",
    "\n",
    "            client_results.append(list(zip(instrument_array, client_longest_array)))\n",
    "        days_results.append(list(zip(client_names, client_results)))\n",
    "    return days_array, days_results\n",
    "\n",
    "def view_information43(NEED_DAY, days_array, tables_array):\n",
    "    print('DAY IS:', days_array[NEED_DAY])\n",
    "    print('PRINT DATA HAS VIEW LIKE:')\n",
    "    print('INSTRUMENT NAME, RESULT')\n",
    "    print('--------')\n",
    "    results = list(tables_array[NEED_DAY])\n",
    "    for _ in results:\n",
    "        print('CLIENT:', _[0])\n",
    "        print('CLIENT RESULTS')\n",
    "        for __ in list(_[1]):\n",
    "            print(__)\n",
    "        print('----')\n",
    "\n",
    "\n",
    "# ЗАПУСК\n",
    "REGUL = 10\n",
    "days43, result43 = closest_function(day_order_placed, REGUL)"
   ],
   "metadata": {
    "collapsed": false,
    "pycharm": {
     "name": "#%%\n"
    }
   }
  },
  {
   "cell_type": "code",
   "execution_count": null,
   "outputs": [],
   "source": [
    "view_information43(1, days43, result43)"
   ],
   "metadata": {
    "collapsed": false,
    "pycharm": {
     "name": "#%%\n"
    }
   }
  },
  {
   "cell_type": "markdown",
   "source": [
    "# 4.4 Существенный фин. результат\n"
   ],
   "metadata": {
    "collapsed": false,
    "pycharm": {
     "name": "#%% md\n"
    }
   }
  },
  {
   "cell_type": "code",
   "execution_count": null,
   "outputs": [],
   "source": [
    "def high_low_result(work_table):\n",
    "    days_array = []\n",
    "    result_array = []\n",
    "    for _day_ in work_table:\n",
    "        day_result = []\n",
    "        buffer = _day_\n",
    "        buffer.reset_index(inplace=True, drop=True)\n",
    "        days_array.append(buffer.loc[0,'Дата'])\n",
    "        for _marker_ in range(buffer.shape[0]):\n",
    "            buffer.loc[_marker_, ' Объем'] = float(re.sub(r'[^0-9,]+', r'',str(buffer.loc[_marker_, ' Объем'])).replace(',', '.'))\n",
    "            buffer.loc[_marker_,' Сумма'] = float(re.sub(r'[^0-9,]+', r'',str(buffer.loc[_marker_, ' Сумма'])).replace(',', '.'))\n",
    "\n",
    "        for _client_ in buffer['Клиент'].unique():\n",
    "            client_result = []\n",
    "            buffer_client = buffer.loc[buffer['Клиент'] == _client_]\n",
    "            for _instrument_ in buffer_client['Инструмент'].unique():\n",
    "                buffer_client_instrument = buffer_client.loc[buffer_client['Инструмент'] == _instrument_]\n",
    "                buffer_client_instrument_buy = buffer_client_instrument.loc[buffer_client_instrument['Покупка/Продажа'].astype(str) == 'B']\n",
    "                buffer_client_instrument_buy.reset_index(inplace=True, drop=True)\n",
    "\n",
    "                buffer_client_instrument_sell = buffer_client_instrument.loc[buffer_client_instrument['Покупка/Продажа'].astype(str) == 'S']\n",
    "                buffer_client_instrument_sell.reset_index(inplace=True, drop=True)\n",
    "\n",
    "                SUMM_S_VAL = sum(buffer_client_instrument_sell[' Сумма'])\n",
    "                SUMM_S_QUA = sum(buffer_client_instrument_sell[' Объем'])\n",
    "\n",
    "                SUMM_B_VAL = sum(buffer_client_instrument_buy[' Сумма'])\n",
    "                SUMM_B_QUA = sum(buffer_client_instrument_buy[' Объем'])\n",
    "\n",
    "                if (SUMM_B_QUA !=0) and (SUMM_S_QUA !=0) :\n",
    "                    COST_B = SUMM_B_VAL / SUMM_B_QUA\n",
    "                    COST_S = SUMM_S_VAL / SUMM_S_QUA\n",
    "                    SUMM_M = min(SUMM_B_QUA, SUMM_S_QUA)\n",
    "                    FIN_RESULT_INSTRUMENT = abs(SUMM_M * (COST_B - COST_S))\n",
    "                    FIN_RESULT_INSTRUMENT_PERCENT = abs(SUMM_M * (COST_B - COST_S)) / (SUMM_M * (COST_B + COST_S) / 2)\n",
    "                    client_result.append([_instrument_, FIN_RESULT_INSTRUMENT_PERCENT * 100, FIN_RESULT_INSTRUMENT])\n",
    "                    '''\n",
    "                    if ((SUMM_B_QUA -- SUMM_S_QUA) / SUMM_S_QUA < 0.5) or ((SUMM_S_QUA -- SUMM_B_QUA) / SUMM_B_QUA < 0.5):\n",
    "                        COST_B = SUMM_B_VAL / SUMM_B_QUA\n",
    "                        COST_S = SUMM_S_VAL / SUMM_S_QUA\n",
    "                        print('ALL IS OK')\n",
    "                        SUMM_M = min(SUMM_B_QUA, SUMM_S_QUA)\n",
    "                        FIN_RESULT_INSTRUMENT = abs(SUMM_M * (COST_B - COST_S))\n",
    "                        FIN_RESULT_INSTRUMENT_PERCENT = abs(SUMM_M * (COST_B - COST_S)) / (SUMM_M * (COST_B + COST_S) / 2)\n",
    "                        client_result.append([_instrument_, FIN_RESULT_INSTRUMENT_PERCENT, FIN_RESULT_INSTRUMENT])\n",
    "                    '''\n",
    "                if (SUMM_B_QUA == 0) or (SUMM_S_QUA == 0):\n",
    "                    client_result.append([_instrument_, 'NO INFO', 'NO INFO'])\n",
    "                    #print('ZERO QUA SUM')\n",
    "            day_result.append([_client_, client_result])\n",
    "        result_array.append(day_result)\n",
    "    return days_array, result_array\n",
    "\n",
    "# ЗАПУСК\n",
    "days44, results44 = high_low_result(day_order_complete)"
   ],
   "metadata": {
    "collapsed": false,
    "pycharm": {
     "name": "#%%\n"
    }
   }
  },
  {
   "cell_type": "code",
   "execution_count": null,
   "outputs": [],
   "source": [
    "def view44(DAY, tables, days):\n",
    "    print('DAY IS:', days[DAY])\n",
    "    print('________')\n",
    "    table = tables[DAY]\n",
    "    for _ in table:\n",
    "        print('CLIENT:', _[0])\n",
    "        print('Client Results')\n",
    "        for __ in _[1]:\n",
    "            print(__)\n",
    "        print('------------')\n",
    "\n",
    "view44(0, results44, days44)"
   ],
   "metadata": {
    "collapsed": false,
    "pycharm": {
     "name": "#%%\n"
    }
   }
  }
 ],
 "metadata": {
  "kernelspec": {
   "display_name": "Python 3",
   "language": "python",
   "name": "python3"
  },
  "language_info": {
   "codemirror_mode": {
    "name": "ipython",
    "version": 2
   },
   "file_extension": ".py",
   "mimetype": "text/x-python",
   "name": "python",
   "nbconvert_exporter": "python",
   "pygments_lexer": "ipython2",
   "version": "2.7.6"
  }
 },
 "nbformat": 4,
 "nbformat_minor": 0
}