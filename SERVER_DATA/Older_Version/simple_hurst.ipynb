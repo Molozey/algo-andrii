{
 "cells": [
  {
   "cell_type": "code",
   "execution_count": 1,
   "metadata": {
    "collapsed": true
   },
   "outputs": [],
   "source": [
    "import pandas as pd\n",
    "import numpy as np\n",
    "\n",
    "from scipy import stats\n",
    "import matplotlib.pylab as plt\n",
    "from tqdm.notebook import tqdm\n",
    "from scipy.special import gamma\n",
    "\n",
    "from joblib import Parallel, delayed\n",
    "\n",
    "import datetime\n"
   ]
  },
  {
   "cell_type": "code",
   "execution_count": 2,
   "outputs": [],
   "source": [
    "def get_hurst_exponent(time_series, max_lag=100):\n",
    "\n",
    "    lags = range(2, max_lag)\n",
    "\n",
    "    #   For every X we calculate X minus X_SHIFTED_Q. Then we calculate STD.\n",
    "    tau = [np.std(np.subtract(time_series[lag:], time_series[:-lag])) for lag in lags]\n",
    "\n",
    "    # log()\n",
    "    reg = np.polyfit(np.log(lags), np.log(tau), 1)\n",
    "\n",
    "    return reg[0]"
   ],
   "metadata": {
    "collapsed": false,
    "pycharm": {
     "name": "#%%\n"
    }
   }
  },
  {
   "cell_type": "code",
   "execution_count": 3,
   "outputs": [
    {
     "data": {
      "text/plain": "              date      time      open      high       low     close\n0       12/19/2011   9:30:00  1215.875  1216.375  1215.625  1215.875\n1       12/19/2011   9:31:00  1215.875  1217.125  1215.875  1217.125\n2       12/19/2011   9:32:00  1217.125  1217.875  1217.125  1217.625\n3       12/19/2011   9:33:00  1217.625  1218.375  1217.625  1218.125\n4       12/19/2011   9:34:00  1218.125  1218.375  1217.625  1217.875\n...            ...       ...       ...       ...       ...       ...\n390547  12/16/2015  16:10:00  2070.125  2070.375  2069.875  2070.125\n390548  12/16/2015  16:11:00  2070.125  2070.875  2069.125  2069.250\n390549  12/16/2015  16:12:00  2069.250  2072.125  2069.125  2072.125\n390550  12/16/2015  16:13:00  2072.125  2072.625  2071.625  2072.000\n390551  12/16/2015  16:14:00  2072.000  2072.375  2071.125  2072.125\n\n[390552 rows x 6 columns]",
      "text/html": "<div>\n<style scoped>\n    .dataframe tbody tr th:only-of-type {\n        vertical-align: middle;\n    }\n\n    .dataframe tbody tr th {\n        vertical-align: top;\n    }\n\n    .dataframe thead th {\n        text-align: right;\n    }\n</style>\n<table border=\"1\" class=\"dataframe\">\n  <thead>\n    <tr style=\"text-align: right;\">\n      <th></th>\n      <th>date</th>\n      <th>time</th>\n      <th>open</th>\n      <th>high</th>\n      <th>low</th>\n      <th>close</th>\n    </tr>\n  </thead>\n  <tbody>\n    <tr>\n      <th>0</th>\n      <td>12/19/2011</td>\n      <td>9:30:00</td>\n      <td>1215.875</td>\n      <td>1216.375</td>\n      <td>1215.625</td>\n      <td>1215.875</td>\n    </tr>\n    <tr>\n      <th>1</th>\n      <td>12/19/2011</td>\n      <td>9:31:00</td>\n      <td>1215.875</td>\n      <td>1217.125</td>\n      <td>1215.875</td>\n      <td>1217.125</td>\n    </tr>\n    <tr>\n      <th>2</th>\n      <td>12/19/2011</td>\n      <td>9:32:00</td>\n      <td>1217.125</td>\n      <td>1217.875</td>\n      <td>1217.125</td>\n      <td>1217.625</td>\n    </tr>\n    <tr>\n      <th>3</th>\n      <td>12/19/2011</td>\n      <td>9:33:00</td>\n      <td>1217.625</td>\n      <td>1218.375</td>\n      <td>1217.625</td>\n      <td>1218.125</td>\n    </tr>\n    <tr>\n      <th>4</th>\n      <td>12/19/2011</td>\n      <td>9:34:00</td>\n      <td>1218.125</td>\n      <td>1218.375</td>\n      <td>1217.625</td>\n      <td>1217.875</td>\n    </tr>\n    <tr>\n      <th>...</th>\n      <td>...</td>\n      <td>...</td>\n      <td>...</td>\n      <td>...</td>\n      <td>...</td>\n      <td>...</td>\n    </tr>\n    <tr>\n      <th>390547</th>\n      <td>12/16/2015</td>\n      <td>16:10:00</td>\n      <td>2070.125</td>\n      <td>2070.375</td>\n      <td>2069.875</td>\n      <td>2070.125</td>\n    </tr>\n    <tr>\n      <th>390548</th>\n      <td>12/16/2015</td>\n      <td>16:11:00</td>\n      <td>2070.125</td>\n      <td>2070.875</td>\n      <td>2069.125</td>\n      <td>2069.250</td>\n    </tr>\n    <tr>\n      <th>390549</th>\n      <td>12/16/2015</td>\n      <td>16:12:00</td>\n      <td>2069.250</td>\n      <td>2072.125</td>\n      <td>2069.125</td>\n      <td>2072.125</td>\n    </tr>\n    <tr>\n      <th>390550</th>\n      <td>12/16/2015</td>\n      <td>16:13:00</td>\n      <td>2072.125</td>\n      <td>2072.625</td>\n      <td>2071.625</td>\n      <td>2072.000</td>\n    </tr>\n    <tr>\n      <th>390551</th>\n      <td>12/16/2015</td>\n      <td>16:14:00</td>\n      <td>2072.000</td>\n      <td>2072.375</td>\n      <td>2071.125</td>\n      <td>2072.125</td>\n    </tr>\n  </tbody>\n</table>\n<p>390552 rows × 6 columns</p>\n</div>"
     },
     "execution_count": 3,
     "metadata": {},
     "output_type": "execute_result"
    }
   ],
   "source": [
    "input_data = pd.read_csv('STORAGE_data/es-1min_FULL.csv')\n",
    "input_data"
   ],
   "metadata": {
    "collapsed": false,
    "pycharm": {
     "name": "#%%\n"
    }
   }
  },
  {
   "cell_type": "code",
   "execution_count": 4,
   "outputs": [
    {
     "data": {
      "text/plain": "0         1215.875\n1         1217.125\n2         1217.625\n3         1218.125\n4         1217.875\n            ...   \n390547    2070.125\n390548    2069.250\n390549    2072.125\n390550    2072.000\n390551    2072.125\nName: close, Length: 390552, dtype: float64"
     },
     "execution_count": 4,
     "metadata": {},
     "output_type": "execute_result"
    }
   ],
   "source": [
    "data = input_data.close\n",
    "data"
   ],
   "metadata": {
    "collapsed": false,
    "pycharm": {
     "name": "#%%\n"
    }
   }
  },
  {
   "cell_type": "code",
   "execution_count": 5,
   "outputs": [
    {
     "data": {
      "text/plain": "<Figure size 864x432 with 1 Axes>",
      "image/png": "[encoded data removed]"
     },
     "metadata": {},
     "output_type": "display_data"
    }
   ],
   "source": [
    "data = input_data.close\n",
    "data = data.values\n",
    "\n",
    "frame = 20_000\n",
    "X = list()\n",
    "H = list()\n",
    "for i in range(0, len(data) // frame - 1):\n",
    "    X.append(i*frame)\n",
    "    H.append(get_hurst_exponent(data[i*frame:(i+1)*frame], max_lag=frame // 2))\n",
    "\n",
    "plt.style.use('dark_background')\n",
    "plt.figure(figsize=(12,6))\n",
    "plt.title('Simple Hurst')\n",
    "plt.grid(alpha=0.1)\n",
    "plt.step(X,H, 'o', color='red')\n",
    "plt.step(X,H,'-', color='blue')\n",
    "plt.show()"
   ],
   "metadata": {
    "collapsed": false,
    "pycharm": {
     "name": "#%%\n"
    }
   }
  },
  {
   "cell_type": "code",
   "execution_count": 6,
   "outputs": [
    {
     "data": {
      "text/plain": "<Figure size 864x432 with 1 Axes>",
      "image/png": "[encoded data removed]"
     },
     "metadata": {},
     "output_type": "display_data"
    }
   ],
   "source": [
    "plt.style.use('dark_background')\n",
    "plt.figure(figsize=(12,6))\n",
    "plt.title('Simple Hurst')\n",
    "plt.grid(alpha=0.1)\n",
    "plt.step(X,H, 'o', color='red')\n",
    "plt.step(X,H,'-', color='blue')\n",
    "plt.show()"
   ],
   "metadata": {
    "collapsed": false,
    "pycharm": {
     "name": "#%%\n"
    }
   }
  },
  {
   "cell_type": "code",
   "execution_count": 7,
   "outputs": [
    {
     "data": {
      "text/plain": "0.31211817202939407"
     },
     "execution_count": 7,
     "metadata": {},
     "output_type": "execute_result"
    }
   ],
   "source": [
    "np.mean(H)\n"
   ],
   "metadata": {
    "collapsed": false,
    "pycharm": {
     "name": "#%%\n"
    }
   }
  }
 ],
 "metadata": {
  "kernelspec": {
   "display_name": "Python 3",
   "language": "python",
   "name": "python3"
  },
  "language_info": {
   "codemirror_mode": {
    "name": "ipython",
    "version": 2
   },
   "file_extension": ".py",
   "mimetype": "text/x-python",
   "name": "python",
   "nbconvert_exporter": "python",
   "pygments_lexer": "ipython2",
   "version": "2.7.6"
  }
 },
 "nbformat": 4,
 "nbformat_minor": 0
}