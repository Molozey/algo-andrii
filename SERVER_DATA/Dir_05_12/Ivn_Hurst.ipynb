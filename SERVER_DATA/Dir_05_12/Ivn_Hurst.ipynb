{
 "cells": [
  {
   "cell_type": "code",
   "execution_count": 1,
   "metadata": {
    "collapsed": true
   },
   "outputs": [],
   "source": [
    "import pandas as pd\n",
    "import numpy as np\n",
    "\n",
    "from scipy import stats\n",
    "import matplotlib.pylab as plt\n",
    "from tqdm.notebook import tqdm\n",
    "from scipy.special import gamma\n",
    "\n",
    "from joblib import Parallel, delayed\n",
    "\n",
    "import datetime\n",
    "\n",
    "import glob\n",
    "\n",
    "from matplotlib.cm import rainbow"
   ]
  },
  {
   "cell_type": "code",
   "execution_count": 2,
   "outputs": [],
   "source": [
    "audcad = pd.read_csv('zip_data/AUDCAD.csv')\n",
    "audusd = pd.read_csv('zip_data/AUDUSD.csv')\n",
    "chfjpy = pd.read_csv('zip_data/CHFJPY.csv')\n",
    "eurchf = pd.read_csv('zip_data/EURCHF.csv')\n",
    "eurgbp = pd.read_csv('zip_data/EURGBP.csv')\n",
    "eurusd = pd.read_csv('zip_data/EURUSD.csv')\n",
    "gbpjpy = pd.read_csv('zip_data/GBPJPY.csv')\n",
    "gbpusd = pd.read_csv('zip_data/GBPUSD.csv')\n",
    "nzdusd = pd.read_csv('zip_data/NZDUSD.csv')\n",
    "usdcad = pd.read_csv('zip_data/USDCAD.csv')\n",
    "usdchf = pd.read_csv('zip_data/USDCHF.csv')\n",
    "usdjpy = pd.read_csv('zip_data/USDJPY.csv')\n",
    "usdrub = pd.read_csv('zip_data/USDRUB.csv')\n",
    "\n",
    "es = pd.read_csv('zip_data/NQ-21.12.csv')\n",
    "\n",
    "data_set = [audcad, audusd,chfjpy, eurchf, eurgbp, eurusd,\n",
    "            gbpjpy, gbpusd, nzdusd, usdcad, usdchf, usdjpy, usdrub]\n",
    "pairs = [\"audcad\", \"audusd\",\"chfjpy\", \"eurchf\", \"eurgbp\", \"eurusd\",\n",
    "            \"gbpjpy\", \"gbpusd\", \"nzdusd\", \"usdcad\", \"usdchf\", \"usdjpy\", \"usdrub\" ]\n",
    "#resampled = preprocessing.open.resample('1H').first()"
   ],
   "metadata": {
    "collapsed": false,
    "pycharm": {
     "name": "#%%\n"
    }
   }
  },
  {
   "cell_type": "code",
   "execution_count": 3,
   "outputs": [],
   "source": [
    "def RS_func(row): #считает R/S на заданном временном ряде\n",
    "    l = len(row)\n",
    "    deviation = []\n",
    "    mean = np.mean(row)\n",
    "    for i in range(0,l):\n",
    "        deviation.append(row[i] - mean)\n",
    "    S = np.sqrt(np.sum(np.square(deviation)) / l)\n",
    "    R = np.max(np.cumsum(deviation)) - np.min(np.cumsum(deviation))\n",
    "    return R / S\n",
    "\n",
    "def Hurst(rets,min_step): # (min_step лучше брать больше 50, а лучше больше 340)\n",
    "    d = int((len(rets)) / min_step) # d - максимальное количество отрезков для расчета RS\n",
    "    log_RS = []\n",
    "    N = []\n",
    "    d_log = int(np.log2(d))\n",
    "\n",
    "    #for i in range(d,0,-1): # создание массива из длин отрезков для расчета RS\n",
    "    #    N.append(int(len(rets)/i))\n",
    "\n",
    "    for i in range(d_log,0,-1): # создание массива из длин отрезков для расчета RS\n",
    "        N.append(int(len(rets)/2**i))\n",
    "\n",
    "    for n in N: # расчет RS(n) и логарифмирование\n",
    "        RS = []\n",
    "        m = int(len(rets)/n)\n",
    "        for i in range(0,m):\n",
    "            row = rets[(i*n) : ((i+1)*n)]\n",
    "            RS.append(RS_func(row))\n",
    "        log_RS.append(np.log(np.mean(RS)))\n",
    "\n",
    "\n",
    "    return np.polyfit(np.log(N), log_RS, 1)[0]"
   ],
   "metadata": {
    "collapsed": false,
    "pycharm": {
     "name": "#%%\n"
    }
   }
  },
  {
   "cell_type": "code",
   "execution_count": 4,
   "outputs": [
    {
     "data": {
      "text/plain": "  0%|          | 0/13 [00:00<?, ?it/s]",
      "application/vnd.jupyter.widget-view+json": {
       "version_major": 2,
       "version_minor": 0,
       "model_id": "eb9997886b4646dbbe45f1d84939f617"
      }
     },
     "metadata": {},
     "output_type": "display_data"
    }
   ],
   "source": [
    "H_array = []\n",
    "\n",
    "for set in tqdm(data_set):\n",
    "    rets = np.array((set.close / set.open).values)\n",
    "    H = Hurst(rets,5000)\n",
    "    H_array.append(H)"
   ],
   "metadata": {
    "collapsed": false,
    "pycharm": {
     "name": "#%%\n"
    }
   }
  },
  {
   "cell_type": "code",
   "execution_count": 5,
   "outputs": [
    {
     "data": {
      "text/plain": "<Figure size 1440x720 with 1 Axes>",
      "image/png": "[encoded data removed]"
     },
     "metadata": {
      "needs_background": "light"
     },
     "output_type": "display_data"
    }
   ],
   "source": [
    "plt.figure(figsize=(20, 10))\n",
    "plt.title(\"Hurst\")\n",
    "plt.bar(pairs, H_array)\n",
    "#plt.xticks(rotation=90)\n",
    "plt.show()"
   ],
   "metadata": {
    "collapsed": false,
    "pycharm": {
     "name": "#%%\n"
    }
   }
  }
 ],
 "metadata": {
  "kernelspec": {
   "display_name": "Python 3",
   "language": "python",
   "name": "python3"
  },
  "language_info": {
   "codemirror_mode": {
    "name": "ipython",
    "version": 2
   },
   "file_extension": ".py",
   "mimetype": "text/x-python",
   "name": "python",
   "nbconvert_exporter": "python",
   "pygments_lexer": "ipython2",
   "version": "2.7.6"
  }
 },
 "nbformat": 4,
 "nbformat_minor": 0
}