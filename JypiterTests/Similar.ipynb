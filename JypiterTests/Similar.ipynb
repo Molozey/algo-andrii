{
 "cells": [
  {
   "cell_type": "code",
   "execution_count": 2,
   "metadata": {
    "collapsed": true
   },
   "outputs": [],
   "source": [
    "import pymysql as SQL\n",
    "import pandas as pd\n",
    "from sklearn.preprocessing import LabelEncoder, MinMaxScaler, StandardScaler\n",
    "import numpy as np\n",
    "from sklearn.neighbors import NearestNeighbors"
   ]
  },
  {
   "cell_type": "code",
   "execution_count": 3,
   "outputs": [],
   "source": [
    "Host = \"82.148.19.206\"\n",
    "User = \"molozey\"\n",
    "Password = \"Exeshnik08!\"\n",
    "DataBaseName = \"FinTechData\""
   ],
   "metadata": {
    "collapsed": false,
    "pycharm": {
     "name": "#%%\n"
    }
   }
  },
  {
   "cell_type": "code",
   "execution_count": 4,
   "outputs": [
    {
     "data": {
      "text/plain": "   Ticker         Update_Date  Last_Price    Market_Cap      Earnings  \\\n0    AACG 2021-12-10 06:30:53        1.57  4.977090e+07 -9.696990e+07   \n1    AACI 2021-12-10 06:30:53         NaN           NaN           NaN   \n2   AACIU 2021-12-10 06:30:53         NaN           NaN           NaN   \n3   AACIW 2021-12-10 06:30:53         NaN           NaN           NaN   \n4    AADI 2021-12-10 06:30:53       22.40           NaN           NaN   \n..    ...                 ...         ...           ...           ...   \n70   ADBE 2021-12-10 06:30:53      632.57  3.023680e+11  5.582000e+09   \n71   ADER 2021-12-10 06:30:53        9.89  3.399690e+08 -3.054000e+03   \n72  ADERU 2021-12-10 06:30:53       10.32           NaN -3.054000e+03   \n73  ADERW 2021-12-10 06:30:53         NaN           NaN           NaN   \n74   ADES 2021-12-10 06:30:53        6.82  1.285950e+08  3.571800e+07   \n\n    Revenue_Growth  Price_To_Earnings            Sector        Country  \n0            0.149                NaN     Miscellaneous          China  \n1              NaN                NaN  Not Available...  United States  \n2              NaN                NaN  Not Available...  United States  \n3              NaN                NaN  Not Available...  United States  \n4              NaN                NaN       Health Care  United States  \n..             ...                ...               ...            ...  \n70           0.226            54.8249        Technology  United States  \n71             NaN                NaN  Not Available...  United States  \n72             NaN                NaN  Not Available...  United States  \n73             NaN                NaN  Not Available...  United States  \n74           0.710                NaN  Basic Industries  United States  \n\n[75 rows x 9 columns]",
      "text/html": "<div>\n<style scoped>\n    .dataframe tbody tr th:only-of-type {\n        vertical-align: middle;\n    }\n\n    .dataframe tbody tr th {\n        vertical-align: top;\n    }\n\n    .dataframe thead th {\n        text-align: right;\n    }\n</style>\n<table border=\"1\" class=\"dataframe\">\n  <thead>\n    <tr style=\"text-align: right;\">\n      <th></th>\n      <th>Ticker</th>\n      <th>Update_Date</th>\n      <th>Last_Price</th>\n      <th>Market_Cap</th>\n      <th>Earnings</th>\n      <th>Revenue_Growth</th>\n      <th>Price_To_Earnings</th>\n      <th>Sector</th>\n      <th>Country</th>\n    </tr>\n  </thead>\n  <tbody>\n    <tr>\n      <th>0</th>\n      <td>AACG</td>\n      <td>2021-12-10 06:30:53</td>\n      <td>1.57</td>\n      <td>4.977090e+07</td>\n      <td>-9.696990e+07</td>\n      <td>0.149</td>\n      <td>NaN</td>\n      <td>Miscellaneous</td>\n      <td>China</td>\n    </tr>\n    <tr>\n      <th>1</th>\n      <td>AACI</td>\n      <td>2021-12-10 06:30:53</td>\n      <td>NaN</td>\n      <td>NaN</td>\n      <td>NaN</td>\n      <td>NaN</td>\n      <td>NaN</td>\n      <td>Not Available...</td>\n      <td>United States</td>\n    </tr>\n    <tr>\n      <th>2</th>\n      <td>AACIU</td>\n      <td>2021-12-10 06:30:53</td>\n      <td>NaN</td>\n      <td>NaN</td>\n      <td>NaN</td>\n      <td>NaN</td>\n      <td>NaN</td>\n      <td>Not Available...</td>\n      <td>United States</td>\n    </tr>\n    <tr>\n      <th>3</th>\n      <td>AACIW</td>\n      <td>2021-12-10 06:30:53</td>\n      <td>NaN</td>\n      <td>NaN</td>\n      <td>NaN</td>\n      <td>NaN</td>\n      <td>NaN</td>\n      <td>Not Available...</td>\n      <td>United States</td>\n    </tr>\n    <tr>\n      <th>4</th>\n      <td>AADI</td>\n      <td>2021-12-10 06:30:53</td>\n      <td>22.40</td>\n      <td>NaN</td>\n      <td>NaN</td>\n      <td>NaN</td>\n      <td>NaN</td>\n      <td>Health Care</td>\n      <td>United States</td>\n    </tr>\n    <tr>\n      <th>...</th>\n      <td>...</td>\n      <td>...</td>\n      <td>...</td>\n      <td>...</td>\n      <td>...</td>\n      <td>...</td>\n      <td>...</td>\n      <td>...</td>\n      <td>...</td>\n    </tr>\n    <tr>\n      <th>70</th>\n      <td>ADBE</td>\n      <td>2021-12-10 06:30:53</td>\n      <td>632.57</td>\n      <td>3.023680e+11</td>\n      <td>5.582000e+09</td>\n      <td>0.226</td>\n      <td>54.8249</td>\n      <td>Technology</td>\n      <td>United States</td>\n    </tr>\n    <tr>\n      <th>71</th>\n      <td>ADER</td>\n      <td>2021-12-10 06:30:53</td>\n      <td>9.89</td>\n      <td>3.399690e+08</td>\n      <td>-3.054000e+03</td>\n      <td>NaN</td>\n      <td>NaN</td>\n      <td>Not Available...</td>\n      <td>United States</td>\n    </tr>\n    <tr>\n      <th>72</th>\n      <td>ADERU</td>\n      <td>2021-12-10 06:30:53</td>\n      <td>10.32</td>\n      <td>NaN</td>\n      <td>-3.054000e+03</td>\n      <td>NaN</td>\n      <td>NaN</td>\n      <td>Not Available...</td>\n      <td>United States</td>\n    </tr>\n    <tr>\n      <th>73</th>\n      <td>ADERW</td>\n      <td>2021-12-10 06:30:53</td>\n      <td>NaN</td>\n      <td>NaN</td>\n      <td>NaN</td>\n      <td>NaN</td>\n      <td>NaN</td>\n      <td>Not Available...</td>\n      <td>United States</td>\n    </tr>\n    <tr>\n      <th>74</th>\n      <td>ADES</td>\n      <td>2021-12-10 06:30:53</td>\n      <td>6.82</td>\n      <td>1.285950e+08</td>\n      <td>3.571800e+07</td>\n      <td>0.710</td>\n      <td>NaN</td>\n      <td>Basic Industries</td>\n      <td>United States</td>\n    </tr>\n  </tbody>\n</table>\n<p>75 rows × 9 columns</p>\n</div>"
     },
     "execution_count": 4,
     "metadata": {},
     "output_type": "execute_result"
    }
   ],
   "source": [
    "db = SQL.connect(host=Host, user=User, password=Password, database=DataBaseName)\n",
    "cursor = db.cursor()\n",
    "\n",
    "INFO = cursor.execute(\"\"\"SELECT Indicators.*, Sector.Sector, Info.Country\n",
    "                            FROM Ticker_Information as Info\n",
    "                            JOIN Ticker_Sector as Sector USING (Ticker)\n",
    "                            JOIN Ticker_Indicators as Indicators USING (Ticker)\"\"\")\n",
    "INFO = cursor.fetchall()\n",
    "INFO_COLUMNS = [_[0] for _ in cursor.description]\n",
    "db.close()\n",
    "DF_INFO = pd.DataFrame(INFO, columns=INFO_COLUMNS)\n",
    "DF_INFO"
   ],
   "metadata": {
    "collapsed": false,
    "pycharm": {
     "name": "#%%\n"
    }
   }
  },
  {
   "cell_type": "code",
   "execution_count": 5,
   "outputs": [
    {
     "name": "stdout",
     "output_type": "stream",
     "text": [
      "[0.0015661645172121447 6.81310402006617e-06 0.04607668975686084\n",
      " 0.37574404761904767 -1 5 2]\n"
     ]
    },
    {
     "name": "stderr",
     "output_type": "stream",
     "text": [
      "/Users/molozey/Desktop/FinTechProject_old/venv/lib/python3.9/site-packages/sklearn/base.py:561: FutureWarning: Arrays of bytes/strings is being converted to decimal numbers if dtype='numeric'. This behavior is deprecated in 0.24 and will be removed in 1.1 (renaming of 0.26). Please convert your data to numeric values explicitly instead.\n",
      "  X = check_array(X, **check_params)\n"
     ]
    },
    {
     "data": {
      "text/plain": "   Ticker         Update_Date  Last_Price  Market_Cap  Earnings  \\\n0    AACG 2021-12-10 06:30:53    0.001566    0.000007  0.046077   \n67   ADAG 2021-12-10 06:30:53    0.014383    0.000134  0.046673   \n31   ACBA 2021-12-10 06:30:53    0.015016         NaN  0.047140   \n32  ACBAW 2021-12-10 06:30:53         NaN         NaN       NaN   \n22   ABST 2021-12-10 06:30:53    0.013323    0.000143  0.047182   \n\n    Revenue_Growth  Price_To_Earnings  Sector  Country  \n0         0.375744                NaN       5        2  \n67        0.251488                NaN       4        2  \n31             NaN                NaN       5        3  \n32             NaN                NaN       5        3  \n22        0.383557                NaN       6        1  ",
      "text/html": "<div>\n<style scoped>\n    .dataframe tbody tr th:only-of-type {\n        vertical-align: middle;\n    }\n\n    .dataframe tbody tr th {\n        vertical-align: top;\n    }\n\n    .dataframe thead th {\n        text-align: right;\n    }\n</style>\n<table border=\"1\" class=\"dataframe\">\n  <thead>\n    <tr style=\"text-align: right;\">\n      <th></th>\n      <th>Ticker</th>\n      <th>Update_Date</th>\n      <th>Last_Price</th>\n      <th>Market_Cap</th>\n      <th>Earnings</th>\n      <th>Revenue_Growth</th>\n      <th>Price_To_Earnings</th>\n      <th>Sector</th>\n      <th>Country</th>\n    </tr>\n  </thead>\n  <tbody>\n    <tr>\n      <th>0</th>\n      <td>AACG</td>\n      <td>2021-12-10 06:30:53</td>\n      <td>0.001566</td>\n      <td>0.000007</td>\n      <td>0.046077</td>\n      <td>0.375744</td>\n      <td>NaN</td>\n      <td>5</td>\n      <td>2</td>\n    </tr>\n    <tr>\n      <th>67</th>\n      <td>ADAG</td>\n      <td>2021-12-10 06:30:53</td>\n      <td>0.014383</td>\n      <td>0.000134</td>\n      <td>0.046673</td>\n      <td>0.251488</td>\n      <td>NaN</td>\n      <td>4</td>\n      <td>2</td>\n    </tr>\n    <tr>\n      <th>31</th>\n      <td>ACBA</td>\n      <td>2021-12-10 06:30:53</td>\n      <td>0.015016</td>\n      <td>NaN</td>\n      <td>0.047140</td>\n      <td>NaN</td>\n      <td>NaN</td>\n      <td>5</td>\n      <td>3</td>\n    </tr>\n    <tr>\n      <th>32</th>\n      <td>ACBAW</td>\n      <td>2021-12-10 06:30:53</td>\n      <td>NaN</td>\n      <td>NaN</td>\n      <td>NaN</td>\n      <td>NaN</td>\n      <td>NaN</td>\n      <td>5</td>\n      <td>3</td>\n    </tr>\n    <tr>\n      <th>22</th>\n      <td>ABST</td>\n      <td>2021-12-10 06:30:53</td>\n      <td>0.013323</td>\n      <td>0.000143</td>\n      <td>0.047182</td>\n      <td>0.383557</td>\n      <td>NaN</td>\n      <td>6</td>\n      <td>1</td>\n    </tr>\n  </tbody>\n</table>\n</div>"
     },
     "execution_count": 5,
     "metadata": {},
     "output_type": "execute_result"
    }
   ],
   "source": [
    "#   SIMILAR NEIGHBORS\n",
    "\n",
    "DF_INFO = pd.DataFrame(INFO, columns=INFO_COLUMNS)\n",
    "scaler = MinMaxScaler()\n",
    "DF_INFO[['Last_Price', 'Market_Cap', 'Earnings', 'Revenue_Growth','Price_To_Earnings']] = scaler.fit_transform(DF_INFO[['Last_Price', 'Market_Cap', 'Earnings', 'Revenue_Growth','Price_To_Earnings']])\n",
    "encode = LabelEncoder()\n",
    "DF_INFO['Country'] = encode.fit_transform(DF_INFO['Country'])\n",
    "DF_INFO['Sector'] = encode.fit_transform(DF_INFO['Sector'])\n",
    "\n",
    "weights = [0.05, 0.05, 0.05, 0.1, 0.15, 0.3, 0.2]\n",
    "#neighbors = NearestNeighbors(n_neighbors=5, radius=1, metric_params={})\n",
    "neighbors = NearestNeighbors(algorithm='brute',\n",
    "                        metric='wminkowski',\n",
    "                        metric_params={'w': weights},\n",
    "                        p=1,\n",
    "                        n_jobs=1,\n",
    "                        n_neighbors=5)\n",
    "neighbors.fit(DF_INFO.replace(np.NAN, -1)[['Last_Price', 'Market_Cap', 'Earnings', 'Revenue_Growth','Price_To_Earnings', 'Sector', 'Country']].values)\n",
    "TICKERS_LABELS = DF_INFO.Ticker\n",
    "obj = DF_INFO.iloc[0].replace(np.NAN, -1)[['Last_Price', 'Market_Cap', 'Earnings', 'Revenue_Growth','Price_To_Earnings', 'Sector', 'Country']].values\n",
    "print(obj)\n",
    "dist, labels = neighbors.kneighbors([obj], n_neighbors=5)\n",
    "\n",
    "DF_INFO.iloc[labels[0]]"
   ],
   "metadata": {
    "collapsed": false,
    "pycharm": {
     "name": "#%%\n"
    }
   }
  },
  {
   "cell_type": "code",
   "execution_count": 6,
   "outputs": [
    {
     "data": {
      "text/plain": "    Last_Price  Market_Cap  Earnings  Revenue_Growth  Price_To_Earnings\n0     0.001566    0.000007  0.046077        0.375744                NaN\n1          NaN         NaN       NaN             NaN                NaN\n2          NaN         NaN       NaN             NaN                NaN\n3          NaN         NaN       NaN             NaN                NaN\n4     0.034526         NaN       NaN             NaN                NaN\n..         ...         ...       ...             ...                ...\n70    1.000000    0.103791  0.108417        0.404390           0.731244\n71    0.014731    0.000106  0.047141             NaN                NaN\n72    0.015411         NaN  0.047141             NaN                NaN\n73         NaN         NaN       NaN             NaN                NaN\n74    0.009873    0.000034  0.047533        0.584449                NaN\n\n[75 rows x 5 columns]",
      "text/html": "<div>\n<style scoped>\n    .dataframe tbody tr th:only-of-type {\n        vertical-align: middle;\n    }\n\n    .dataframe tbody tr th {\n        vertical-align: top;\n    }\n\n    .dataframe thead th {\n        text-align: right;\n    }\n</style>\n<table border=\"1\" class=\"dataframe\">\n  <thead>\n    <tr style=\"text-align: right;\">\n      <th></th>\n      <th>Last_Price</th>\n      <th>Market_Cap</th>\n      <th>Earnings</th>\n      <th>Revenue_Growth</th>\n      <th>Price_To_Earnings</th>\n    </tr>\n  </thead>\n  <tbody>\n    <tr>\n      <th>0</th>\n      <td>0.001566</td>\n      <td>0.000007</td>\n      <td>0.046077</td>\n      <td>0.375744</td>\n      <td>NaN</td>\n    </tr>\n    <tr>\n      <th>1</th>\n      <td>NaN</td>\n      <td>NaN</td>\n      <td>NaN</td>\n      <td>NaN</td>\n      <td>NaN</td>\n    </tr>\n    <tr>\n      <th>2</th>\n      <td>NaN</td>\n      <td>NaN</td>\n      <td>NaN</td>\n      <td>NaN</td>\n      <td>NaN</td>\n    </tr>\n    <tr>\n      <th>3</th>\n      <td>NaN</td>\n      <td>NaN</td>\n      <td>NaN</td>\n      <td>NaN</td>\n      <td>NaN</td>\n    </tr>\n    <tr>\n      <th>4</th>\n      <td>0.034526</td>\n      <td>NaN</td>\n      <td>NaN</td>\n      <td>NaN</td>\n      <td>NaN</td>\n    </tr>\n    <tr>\n      <th>...</th>\n      <td>...</td>\n      <td>...</td>\n      <td>...</td>\n      <td>...</td>\n      <td>...</td>\n    </tr>\n    <tr>\n      <th>70</th>\n      <td>1.000000</td>\n      <td>0.103791</td>\n      <td>0.108417</td>\n      <td>0.404390</td>\n      <td>0.731244</td>\n    </tr>\n    <tr>\n      <th>71</th>\n      <td>0.014731</td>\n      <td>0.000106</td>\n      <td>0.047141</td>\n      <td>NaN</td>\n      <td>NaN</td>\n    </tr>\n    <tr>\n      <th>72</th>\n      <td>0.015411</td>\n      <td>NaN</td>\n      <td>0.047141</td>\n      <td>NaN</td>\n      <td>NaN</td>\n    </tr>\n    <tr>\n      <th>73</th>\n      <td>NaN</td>\n      <td>NaN</td>\n      <td>NaN</td>\n      <td>NaN</td>\n      <td>NaN</td>\n    </tr>\n    <tr>\n      <th>74</th>\n      <td>0.009873</td>\n      <td>0.000034</td>\n      <td>0.047533</td>\n      <td>0.584449</td>\n      <td>NaN</td>\n    </tr>\n  </tbody>\n</table>\n<p>75 rows × 5 columns</p>\n</div>"
     },
     "execution_count": 6,
     "metadata": {},
     "output_type": "execute_result"
    }
   ],
   "source": [
    "DF_INFO[['Last_Price', 'Market_Cap', 'Earnings', 'Revenue_Growth','Price_To_Earnings']]"
   ],
   "metadata": {
    "collapsed": false,
    "pycharm": {
     "name": "#%%\n"
    }
   }
  },
  {
   "cell_type": "code",
   "execution_count": 7,
   "outputs": [
    {
     "data": {
      "text/plain": "\"\\nvalues = DF_INFO.replace(np.NAN, 0)['Last_Price'].values\\ndef fifa_Scaler(values):\\n    OldMax = max(values)\\n    OldMin = min(values)\\n\\n    NewMax= 100\\n    NewMin = 30\\n\\n    OldRange = (OldMax - OldMin)\\n    NewRange = (NewMax - NewMin)\\n    NewValues = [int((((OldValue - OldMin) * NewRange) // OldRange) + NewMin) for OldValue in values]\\n    return NewValues\\n\\ndef FIFA(df: pd.DataFrame, columns):\\n    df.replace(np.NAN, 0, inplace=True)\\n    for column in columns:\\n        df[column] = fifa_Scaler(df[column].values)\\n    return df\\n\\nFIFA(DF_INFO, columns=['Last_Price', 'Market_Cap', 'Earnings', 'Revenue_Growth', 'Price_To_Earnings'])\\n\""
     },
     "execution_count": 7,
     "metadata": {},
     "output_type": "execute_result"
    }
   ],
   "source": [
    "#   FIFA PREPROCESSING OLD VERSION USING PANDAS\n",
    "\"\"\"\n",
    "values = DF_INFO.replace(np.NAN, 0)['Last_Price'].values\n",
    "def fifa_Scaler(values):\n",
    "    OldMax = max(values)\n",
    "    OldMin = min(values)\n",
    "\n",
    "    NewMax= 100\n",
    "    NewMin = 30\n",
    "\n",
    "    OldRange = (OldMax - OldMin)\n",
    "    NewRange = (NewMax - NewMin)\n",
    "    NewValues = [int((((OldValue - OldMin) * NewRange) // OldRange) + NewMin) for OldValue in values]\n",
    "    return NewValues\n",
    "\n",
    "def FIFA(df: pd.DataFrame, columns):\n",
    "    df.replace(np.NAN, 0, inplace=True)\n",
    "    for column in columns:\n",
    "        df[column] = fifa_Scaler(df[column].values)\n",
    "    return df\n",
    "\n",
    "FIFA(DF_INFO, columns=['Last_Price', 'Market_Cap', 'Earnings', 'Revenue_Growth', 'Price_To_Earnings'])\n",
    "\"\"\""
   ],
   "metadata": {
    "collapsed": false,
    "pycharm": {
     "name": "#%%\n"
    }
   }
  },
  {
   "cell_type": "code",
   "execution_count": 8,
   "outputs": [
    {
     "data": {
      "text/plain": "{'ticker': 'ADES',\n 'Last_Price': 30,\n 'total_rating': 39,\n 'Market_Cap': 30,\n 'Earnings': 33,\n 'Revenue_Growth': 70,\n 'Price_To_Earnings': 30}"
     },
     "execution_count": 8,
     "metadata": {},
     "output_type": "execute_result"
    }
   ],
   "source": [
    "#   FIFA PREPROCESSING OLD VERSION USING SQL\n",
    "def FIFA(ticker_name:str, columns:list):\n",
    "    \"\"\"\n",
    "\n",
    "    :param ticker_name: Ticker name which data need to be converted\n",
    "    :param columns: Columns that may be invert to FIFA Scale\n",
    "    :return: JSON with ticker and COLUMNS\n",
    "    \"\"\"\n",
    "\n",
    "    def fifa_Scaler(value, OldMax:float, OldMin:float):\n",
    "        \"\"\"\n",
    "\n",
    "        :param value: value to convert\n",
    "        :param OldMax: right border (MAX RATE)\n",
    "        :param OldMin: left border (MIN RATE)\n",
    "        :return: Beautiful rescaled value + total_rating\n",
    "        \"\"\"\n",
    "        NewMax = 100 #   MAX VALUE\n",
    "        NewMin = 30 #   MIN VALUE. BE CAREFUL NONE VALUES == NEWMIN\n",
    "\n",
    "        OldRange = (OldMax - OldMin)\n",
    "        NewRange = (NewMax - NewMin)\n",
    "        if value:\n",
    "            NewValues = int((((value - OldMin) * NewRange) // OldRange) + NewMin)\n",
    "        else:\n",
    "            NewValues = NewMin\n",
    "        return NewValues\n",
    "\n",
    "    ret_dict = dict()\n",
    "    ret_dict.update({'ticker': ticker_name})\n",
    "    for COL in columns:\n",
    "        db = SQL.connect(host=Host, user=User, password=Password, database=DataBaseName)\n",
    "        cursor = db.cursor()\n",
    "\n",
    "        F_INFO = cursor.execute(f\"\"\"SELECT MAX(Indicators.{COL}), MIN(Indicators.{COL})\n",
    "                                    FROM Ticker_Information as Info\n",
    "                                    JOIN Ticker_Sector as Sector USING (Ticker)\n",
    "                                    JOIN Ticker_Indicators as Indicators USING (Ticker)\"\"\")\n",
    "        F_INFO = cursor.fetchall()\n",
    "\n",
    "        ticker_pos = cursor.execute(f\"\"\"SELECT Indicators.{COL}\n",
    "                                        FROM Ticker_Indicators as Indicators WHERE Indicators.Ticker=%s\"\"\", ticker_name)\n",
    "        ticker_pos = cursor.fetchone()[0]\n",
    "        db.close()\n",
    "\n",
    "        (ColMax, ColMin,) = F_INFO[0]\n",
    "        new_value = fifa_Scaler(ticker_pos, OldMax=ColMax, OldMin=ColMin)\n",
    "        ret_dict.update({COL: new_value})\n",
    "        SUMMARY = 0\n",
    "        counter = 0\n",
    "        for _ in ret_dict.items():\n",
    "            if _[0] != \"ticker\":\n",
    "                counter += 1\n",
    "                SUMMARY += ret_dict[_[0]]\n",
    "        ret_dict.update({'total_rating': round(SUMMARY / counter)})\n",
    "\n",
    "    return ret_dict\n",
    "\n",
    "FIFA_COLUMNS = ['Last_Price', 'Market_Cap', 'Earnings', 'Revenue_Growth','Price_To_Earnings']\n",
    "da = FIFA('ADES', FIFA_COLUMNS)\n",
    "da"
   ],
   "metadata": {
    "collapsed": false,
    "pycharm": {
     "name": "#%%\n"
    }
   }
  },
  {
   "cell_type": "code",
   "execution_count": 9,
   "outputs": [
    {
     "data": {
      "text/plain": "  Ticker         Update_Date  Last_Price  Market_Cap  Earnings  \\\n0   AACG 2021-12-10 06:30:53    0.001566    0.000007  0.046077   \n\n   Revenue_Growth  Price_To_Earnings  Sector  Country  \n0        0.375744                NaN       5        2  ",
      "text/html": "<div>\n<style scoped>\n    .dataframe tbody tr th:only-of-type {\n        vertical-align: middle;\n    }\n\n    .dataframe tbody tr th {\n        vertical-align: top;\n    }\n\n    .dataframe thead th {\n        text-align: right;\n    }\n</style>\n<table border=\"1\" class=\"dataframe\">\n  <thead>\n    <tr style=\"text-align: right;\">\n      <th></th>\n      <th>Ticker</th>\n      <th>Update_Date</th>\n      <th>Last_Price</th>\n      <th>Market_Cap</th>\n      <th>Earnings</th>\n      <th>Revenue_Growth</th>\n      <th>Price_To_Earnings</th>\n      <th>Sector</th>\n      <th>Country</th>\n    </tr>\n  </thead>\n  <tbody>\n    <tr>\n      <th>0</th>\n      <td>AACG</td>\n      <td>2021-12-10 06:30:53</td>\n      <td>0.001566</td>\n      <td>0.000007</td>\n      <td>0.046077</td>\n      <td>0.375744</td>\n      <td>NaN</td>\n      <td>5</td>\n      <td>2</td>\n    </tr>\n  </tbody>\n</table>\n</div>"
     },
     "execution_count": 9,
     "metadata": {},
     "output_type": "execute_result"
    }
   ],
   "source": [
    "DF_INFO[DF_INFO.Ticker == 'AACG']"
   ],
   "metadata": {
    "collapsed": false,
    "pycharm": {
     "name": "#%%\n"
    }
   }
  },
  {
   "cell_type": "code",
   "execution_count": 10,
   "outputs": [
    {
     "data": {
      "text/plain": "array(['ADAG', 'ACBA', 'ACBAW', 'ABST'], dtype=object)"
     },
     "execution_count": 10,
     "metadata": {},
     "output_type": "execute_result"
    }
   ],
   "source": [
    "def get_similar(ticker, Host, User, Password, DataBaseName):\n",
    "    \"\"\"\n",
    "\n",
    "    :param ticker: Name ticker to find similar tickers\n",
    "    :param Host: DataBase Host\n",
    "    :param User: DataBase User\n",
    "    :param Password: DataBase Password\n",
    "    :param DataBaseName: DataBase Name\n",
    "    :return: list of similar tickers\n",
    "    \"\"\"\n",
    "    db = SQL.connect(host=Host, user=User, password=Password, database=DataBaseName)\n",
    "    cursor = db.cursor()\n",
    "\n",
    "    INFO = cursor.execute(\"\"\"SELECT Indicators.*, Sector.Sector, Info.Country\n",
    "                                FROM Ticker_Information as Info\n",
    "                                JOIN Ticker_Sector as Sector USING (Ticker)\n",
    "                                JOIN Ticker_Indicators as Indicators USING (Ticker)\"\"\")\n",
    "    INFO = cursor.fetchall()\n",
    "    INFO_COLUMNS = [_[0] for _ in cursor.description]\n",
    "    db.close()\n",
    "\n",
    "    #   SIMILAR NEIGHBORS\n",
    "\n",
    "    DF_INFO = pd.DataFrame(INFO, columns=INFO_COLUMNS)\n",
    "    scaler = MinMaxScaler()\n",
    "    DF_INFO[['Last_Price', 'Market_Cap', 'Earnings', 'Revenue_Growth','Price_To_Earnings']] = scaler.fit_transform(DF_INFO[['Last_Price', 'Market_Cap', 'Earnings', 'Revenue_Growth','Price_To_Earnings']])\n",
    "    encode = LabelEncoder()\n",
    "    DF_INFO['Country'] = encode.fit_transform(DF_INFO['Country'])\n",
    "    DF_INFO['Sector'] = encode.fit_transform(DF_INFO['Sector'])\n",
    "\n",
    "    weights = [0.05, 0.05, 0.05, 0.1, 0.15, 0.3, 0.2]\n",
    "    #neighbors = NearestNeighbors(n_neighbors=5, radius=1, metric_params={})\n",
    "    neighbors = NearestNeighbors(algorithm='brute',\n",
    "                            metric='wminkowski',\n",
    "                            metric_params={'w': weights},\n",
    "                            p=1,\n",
    "                            n_jobs=1,\n",
    "                            n_neighbors=5)\n",
    "    neighbors.fit(DF_INFO.replace(np.NAN, -1)[['Last_Price', 'Market_Cap', 'Earnings', 'Revenue_Growth','Price_To_Earnings', 'Sector', 'Country']].values)\n",
    "    TICKERS_LABELS = DF_INFO.Ticker\n",
    "    obj = DF_INFO[DF_INFO.Ticker == ticker].replace(np.NAN, -1)[['Last_Price', 'Market_Cap', 'Earnings', 'Revenue_Growth','Price_To_Earnings', 'Sector', 'Country']].values[0]\n",
    "    dist, labels = neighbors.kneighbors([obj], n_neighbors=5)\n",
    "    DF_INFO = DF_INFO.iloc[labels[0]]\n",
    "    return DF_INFO.iloc[1:].Ticker.values\n",
    "\n",
    "\n",
    "#[0.0015661645172121447 6.81310402006617e-06 0.04607668975686084 0.37574404761904767 -1 5 2]\n",
    "get_similar('AACG', Host=Host, Password=Password, User=User, DataBaseName=DataBaseName)"
   ],
   "metadata": {
    "collapsed": false,
    "pycharm": {
     "name": "#%%\n"
    }
   }
  },
  {
   "cell_type": "code",
   "execution_count": 10,
   "outputs": [],
   "source": [],
   "metadata": {
    "collapsed": false,
    "pycharm": {
     "name": "#%%\n"
    }
   }
  }
 ],
 "metadata": {
  "kernelspec": {
   "display_name": "Python 3",
   "language": "python",
   "name": "python3"
  },
  "language_info": {
   "codemirror_mode": {
    "name": "ipython",
    "version": 2
   },
   "file_extension": ".py",
   "mimetype": "text/x-python",
   "name": "python",
   "nbconvert_exporter": "python",
   "pygments_lexer": "ipython2",
   "version": "2.7.6"
  }
 },
 "nbformat": 4,
 "nbformat_minor": 0
}