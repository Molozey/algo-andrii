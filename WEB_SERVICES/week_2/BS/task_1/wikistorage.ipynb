{
 "cells": [
  {
   "cell_type": "code",
   "execution_count": 1,
   "metadata": {
    "collapsed": true
   },
   "outputs": [],
   "source": [
    "from bs4 import BeautifulSoup"
   ]
  },
  {
   "cell_type": "code",
   "execution_count": 111,
   "outputs": [
    {
     "data": {
      "text/plain": "[13, 10, 12, 40]"
     },
     "execution_count": 111,
     "metadata": {},
     "output_type": "execute_result"
    }
   ],
   "source": [
    "\n",
    "def parse(path_to_file):\n",
    "    AVAILABLE_START_CHARS = ['E', 'T', 'C']\n",
    "\n",
    "    def opener(path):\n",
    "        with open(path, 'r', encoding='utf-8') as file:\n",
    "            output = file.read()\n",
    "        return output\n",
    "\n",
    "    def widthlogical(obj):\n",
    "        WIDTH_CONST = 200\n",
    "        try:\n",
    "            if int(obj['width']) >= WIDTH_CONST:\n",
    "                return True\n",
    "            else:\n",
    "                return False\n",
    "        except:\n",
    "            return False\n",
    "    text = opener(path_to_file)\n",
    "    soup = BeautifulSoup(text, 'lxml')\n",
    "    soup = soup.find('div', id='bodyContent')\n",
    "    imgs = len(list(filter(widthlogical, soup.find_all('img'))))\n",
    "    headers = len((list(filter(lambda x: x.text[0] in AVAILABLE_START_CHARS, soup.find_all([f'h{i}' for i in range(1, 7)])))))\n",
    "\n",
    "    parent_source = soup.find_all('a', href=True)\n",
    "    init_parent = parent_source[0]\n",
    "    init_len = 1\n",
    "    buffer_len = 1\n",
    "    for obj in parent_source[1:]:\n",
    "        if obj.parent == init_parent:\n",
    "            buffer_len += 1\n",
    "        if obj.parent != init_parent:\n",
    "            init_parent = obj.parent\n",
    "            if buffer_len > init_len:\n",
    "                init_len = buffer_len\n",
    "            buffer_len = 1\n",
    "\n",
    "    list_sum = 0\n",
    "    all_lists = soup.find_all(['ul', 'ol'])\n",
    "    for tag in all_lists:\n",
    "        if not tag.find_parents(['ul', 'ol']):\n",
    "            list_sum += 1\n",
    "    return [imgs, headers, init_len, list_sum]\n",
    "\n",
    "parse('wiki/Stone_Age')"
   ],
   "metadata": {
    "collapsed": false,
    "pycharm": {
     "name": "#%%\n"
    }
   }
  },
  {
   "cell_type": "code",
   "execution_count": 2,
   "outputs": [],
   "source": [],
   "metadata": {
    "collapsed": false,
    "pycharm": {
     "name": "#%%\n"
    }
   }
  },
  {
   "cell_type": "code",
   "execution_count": 2,
   "outputs": [],
   "source": [],
   "metadata": {
    "collapsed": false,
    "pycharm": {
     "name": "#%%\n"
    }
   }
  },
  {
   "cell_type": "code",
   "execution_count": 2,
   "outputs": [],
   "source": [],
   "metadata": {
    "collapsed": false,
    "pycharm": {
     "name": "#%%\n"
    }
   }
  },
  {
   "cell_type": "code",
   "execution_count": 2,
   "outputs": [],
   "source": [],
   "metadata": {
    "collapsed": false,
    "pycharm": {
     "name": "#%%\n"
    }
   }
  },
  {
   "cell_type": "code",
   "execution_count": 109,
   "outputs": [],
   "source": [
    "text = \"\"\"<ul><li><ol><li></li></ol></li></ul>\"\"\"\n",
    "soup2 = BeautifulSoup(text, 'lxml')"
   ],
   "metadata": {
    "collapsed": false,
    "pycharm": {
     "name": "#%%\n"
    }
   }
  },
  {
   "cell_type": "code",
   "execution_count": 110,
   "outputs": [
    {
     "name": "stdout",
     "output_type": "stream",
     "text": [
      "0\n"
     ]
    }
   ],
   "source": [
    "su = 0\n",
    "for _ in soup2.find_all(['ol', 'li']):\n",
    "    if not _.find_parents(['ul', 'ol']):\n",
    "        su += 1\n",
    "print(su)"
   ],
   "metadata": {
    "collapsed": false,
    "pycharm": {
     "name": "#%%\n"
    }
   }
  },
  {
   "cell_type": "code",
   "execution_count": 5,
   "outputs": [
    {
     "data": {
      "text/plain": "['h1', 'h2', 'h3', 'h4', 'h5', 'h6']"
     },
     "execution_count": 5,
     "metadata": {},
     "output_type": "execute_result"
    }
   ],
   "source": [
    "[f'h{i}' for i in range(1, 7)]"
   ],
   "metadata": {
    "collapsed": false,
    "pycharm": {
     "name": "#%%\n"
    }
   }
  },
  {
   "cell_type": "code",
   "execution_count": 85,
   "outputs": [
    {
     "name": "stdout",
     "output_type": "stream",
     "text": [
      "<img alt=\"\" class=\"thumbimage\" data-file-height=\"2581\" data-file-width=\"3871\" height=\"173\" src=\"//upload.wikimedia.org/wikipedia/commons/thumb/b/b8/Ggantija_Temples%2C_Xaghra%2C_Gozo.jpg/260px-Ggantija_Temples%2C_Xaghra%2C_Gozo.jpg\" srcset=\"//upload.wikimedia.org/wikipedia/commons/thumb/b/b8/Ggantija_Temples%2C_Xaghra%2C_Gozo.jpg/390px-Ggantija_Temples%2C_Xaghra%2C_Gozo.jpg 1.5x, //upload.wikimedia.org/wikipedia/commons/thumb/b/b8/Ggantija_Temples%2C_Xaghra%2C_Gozo.jpg/520px-Ggantija_Temples%2C_Xaghra%2C_Gozo.jpg 2x\" width=\"260\"/>\n"
     ]
    }
   ],
   "source": [
    "def opener(path):\n",
    "    with open(path, 'r', encoding='utf-8') as file:\n",
    "        output = file.read()\n",
    "    return output\n",
    "\n",
    "def widthlogical(obj):\n",
    "    WIDTH_CONST = 200\n",
    "    try:\n",
    "        if int(obj['width']) >= WIDTH_CONST:\n",
    "            return True\n",
    "        else:\n",
    "            return False\n",
    "    except:\n",
    "        return False\n",
    "\n",
    "soup3 = BeautifulSoup(opener('wiki/Stone_Age'), 'lxml')\n",
    "soup = soup3.find('div', id='bodyContent')\n",
    "print(soup.find_all('img')[0])\n",
    "imgs = len(list(filter(widthlogical, soup.find_all('img'))))"
   ],
   "metadata": {
    "collapsed": false,
    "pycharm": {
     "name": "#%%\n"
    }
   }
  },
  {
   "cell_type": "code",
   "execution_count": 86,
   "outputs": [
    {
     "data": {
      "text/plain": "13"
     },
     "execution_count": 86,
     "metadata": {},
     "output_type": "execute_result"
    }
   ],
   "source": [
    "imgs"
   ],
   "metadata": {
    "collapsed": false,
    "pycharm": {
     "name": "#%%\n"
    }
   }
  }
 ],
 "metadata": {
  "kernelspec": {
   "display_name": "Python 3",
   "language": "python",
   "name": "python3"
  },
  "language_info": {
   "codemirror_mode": {
    "name": "ipython",
    "version": 2
   },
   "file_extension": ".py",
   "mimetype": "text/x-python",
   "name": "python",
   "nbconvert_exporter": "python",
   "pygments_lexer": "ipython2",
   "version": "2.7.6"
  }
 },
 "nbformat": 4,
 "nbformat_minor": 0
}