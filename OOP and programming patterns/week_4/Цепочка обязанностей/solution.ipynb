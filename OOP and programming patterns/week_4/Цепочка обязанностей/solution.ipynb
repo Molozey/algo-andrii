{
 "cells": [
  {
   "cell_type": "code",
   "execution_count": 4,
   "metadata": {
    "collapsed": true
   },
   "outputs": [
    {
     "name": "stdout",
     "output_type": "stream",
     "text": [
      "3.14\n"
     ]
    }
   ],
   "source": [
    "class SomeObject:\n",
    "    def __init__(self):\n",
    "        self.integer_field = 0\n",
    "        self.float_field = 0.0\n",
    "        self.string_field = \"\"\n",
    "\n",
    "FINTEGER, FFLOAT, FSTRING = \"INT\", \"FLOAT\", \"STR\"\n",
    "\n",
    "class EventGet:\n",
    "    def __init__(self, value):\n",
    "        self.kind = {int: FINTEGER, float: FFLOAT, str: FSTRING}[value]\n",
    "        self.value = None\n",
    "\n",
    "\n",
    "class EventSet:\n",
    "    def __init__(self, value):\n",
    "        self.kind = {int: FINTEGER, float: FFLOAT, str: FSTRING}[type(value)]\n",
    "        self.value = value\n",
    "\n",
    "\n",
    "class NullHandler:\n",
    "    def __init__(self, successor=None):\n",
    "        self.__successor = successor\n",
    "\n",
    "    def handle(self, obj : SomeObject, event):\n",
    "        if self.__successor is not None:\n",
    "            return self.__successor.handle(obj, event)\n",
    "\n",
    "class IntHandler(NullHandler):\n",
    "    def handle(self, obj: SomeObject, event):\n",
    "        if event.kind == FINTEGER:\n",
    "            if event.value is None:\n",
    "                return obj.integer_field\n",
    "            else:\n",
    "                obj.integer_field = event.value\n",
    "        else:\n",
    "            return super().handle(obj, event)\n",
    "\n",
    "\n",
    "class FloatHandler(NullHandler):\n",
    "    def handle(self, obj: SomeObject, event):\n",
    "        if event.kind == FFLOAT:\n",
    "            if event.value is None:\n",
    "                return obj.float_field\n",
    "            else:\n",
    "                obj.float_field = event.value\n",
    "        else:\n",
    "            return super().handle(obj, event)\n",
    "\n",
    "\n",
    "class StrHandler(NullHandler):\n",
    "    def handle(self, obj: SomeObject, event):\n",
    "        if event.kind == FSTRING:\n",
    "            if event.value is None:\n",
    "                return obj.string_field\n",
    "            else:\n",
    "                obj.string_field = event.value\n",
    "        else:\n",
    "            return super().handle(obj, event)\n",
    "\n"
   ]
  }
 ],
 "metadata": {
  "kernelspec": {
   "display_name": "Python 3",
   "language": "python",
   "name": "python3"
  },
  "language_info": {
   "codemirror_mode": {
    "name": "ipython",
    "version": 2
   },
   "file_extension": ".py",
   "mimetype": "text/x-python",
   "name": "python",
   "nbconvert_exporter": "python",
   "pygments_lexer": "ipython2",
   "version": "2.7.6"
  }
 },
 "nbformat": 4,
 "nbformat_minor": 0
}