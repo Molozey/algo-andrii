{
 "cells": [
  {
   "cell_type": "code",
   "execution_count": 1,
   "metadata": {
    "collapsed": true
   },
   "outputs": [],
   "source": [
    "class Character:\n",
    "    def __init__(self):\n",
    "        self.name= \"John\"\n",
    "        self.experience = 0\n",
    "        self.passed_quests = set()\n",
    "        self.progress_quests = set()\n",
    "\n",
    "QUEST_SPEAK, QUEST_HUNT, QUEST_CARRY = \"QSPEAK\", \"QHUNT\", \"QCARRY\"\n",
    "\n",
    "class Event:\n",
    "    def __init__(self, kind):\n",
    "        self.kind = kind\n",
    "\n",
    "\n",
    "class NullHandler:\n",
    "    def __init__(self, successor=None):\n",
    "        self.__successor = successor\n",
    "\n",
    "    def handle(self, char: Character, event):\n",
    "        if self.__successor is not None:\n",
    "            self.__successor.handle(char, event)\n",
    "\n",
    "\n",
    "def quest_starter__animation(quest: str):\n",
    "    #   Do job\n",
    "    print(f\"Quest: {quest} just started...\")\n",
    "\n",
    "def quest_ender__animation(quest: str):\n",
    "    #   Do job\n",
    "    print(f\"Quest: {quest} complete\")\n",
    "\n",
    "class QuestSpeak(NullHandler):\n",
    "    def handle(self, char: Character, event):\n",
    "        if event.kind == QUEST_SPEAK:\n",
    "            quest_name = \"Talk with farmer\"\n",
    "            exp = 100\n",
    "            if quest_name not in (char.passed_quests | char.progress_quests):\n",
    "                char.progress_quests.add(quest_name)\n",
    "                quest_starter__animation(quest_name)\n",
    "            elif quest_name in char.progress_quests:\n",
    "                char.passed_quests.add(quest_name)\n",
    "                char.progress_quests.remove(quest_name)\n",
    "                quest_ender__animation(quest_name)\n",
    "                char.experience += exp\n",
    "        else:\n",
    "            print(\"Give event to the next handle\")\n",
    "            super().handle(char, event)\n",
    "\n",
    "class QuestHunt(NullHandler):\n",
    "    def handle(self, char: Character, event):\n",
    "        if event.kind == QUEST_HUNT:\n",
    "            quest_name = \"Kill 20 rats\"\n",
    "            exp = 100\n",
    "            if quest_name not in (char.passed_quests | char.progress_quests):\n",
    "                char.progress_quests.add(quest_name)\n",
    "                quest_starter__animation(quest_name)\n",
    "            elif quest_name in char.progress_quests:\n",
    "                char.passed_quests.add(quest_name)\n",
    "                char.progress_quests.remove(quest_name)\n",
    "                quest_ender__animation(quest_name)\n",
    "                char.experience += exp\n",
    "        else:\n",
    "            print(\"Give event to the next handle\")\n",
    "            super().handle(char, event)\n",
    "\n",
    "class QuestCarry(NullHandler):\n",
    "    def handle(self, char: Character, event):\n",
    "        if event.kind == QUEST_CARRY:\n",
    "            quest_name = \"Bring wood to the shelter\"\n",
    "            exp = 100\n",
    "            if quest_name not in (char.passed_quests | char.progress_quests):\n",
    "                char.progress_quests.add(quest_name)\n",
    "                quest_starter__animation(quest_name)\n",
    "            elif quest_name in char.progress_quests:\n",
    "                char.passed_quests.add(quest_name)\n",
    "                char.progress_quests.remove(quest_name)\n",
    "                quest_ender__animation(quest_name)\n",
    "                char.experience += exp\n",
    "        else:\n",
    "            print(\"Give event to the next handle\")\n",
    "            super().handle(char, event)"
   ]
  },
  {
   "cell_type": "code",
   "execution_count": 2,
   "outputs": [],
   "source": [
    "class QuestGiver:\n",
    "    def __init__(self):\n",
    "        self.handlers = QuestCarry(QuestHunt(QuestSpeak(NullHandler)))\n",
    "        self.events = list()\n",
    "\n",
    "    def add_event(self, event):\n",
    "        self.events.append(event)\n",
    "\n",
    "    def handle_quests(self, char: Character):\n",
    "        for event in self.events:\n",
    "            self.handlers.handle(char, event)"
   ],
   "metadata": {
    "collapsed": false,
    "pycharm": {
     "name": "#%%\n"
    }
   }
  },
  {
   "cell_type": "code",
   "execution_count": 3,
   "outputs": [],
   "source": [
    "events = [Event(QUEST_CARRY), Event(QUEST_HUNT), Event(QUEST_SPEAK)]\n",
    "\n",
    "quest_giver = QuestGiver()\n",
    "\n",
    "for event in events:\n",
    "    quest_giver.add_event(event)"
   ],
   "metadata": {
    "collapsed": false,
    "pycharm": {
     "name": "#%%\n"
    }
   }
  },
  {
   "cell_type": "code",
   "execution_count": 7,
   "outputs": [
    {
     "name": "stdout",
     "output_type": "stream",
     "text": [
      "Quest: Bring wood to the shelter just started...\n",
      "Give event to the next handle\n",
      "Quest: Kill 20 rats just started...\n",
      "Give event to the next handle\n",
      "Give event to the next handle\n",
      "Quest: Talk with farmer just started...\n",
      "....\n",
      "Quest: Bring wood to the shelter just started...\n",
      "Give event to the next handle\n",
      "Quest: Kill 20 rats complete\n",
      "Give event to the next handle\n",
      "Give event to the next handle\n",
      "Quest: Talk with farmer complete\n",
      "....\n",
      "Quest: Bring wood to the shelter complete\n",
      "Give event to the next handle\n",
      "Give event to the next handle\n",
      "Give event to the next handle\n"
     ]
    }
   ],
   "source": [
    "player = Character()\n",
    "\n",
    "quest_giver.handle_quests(player)\n",
    "print('....')\n",
    "\n",
    "player.progress_quests = {\"Talk with farmer\", \"Kill 20 rats\"}\n",
    "\n",
    "quest_giver.handle_quests(player)\n",
    "\n",
    "print('....')\n",
    "\n",
    "quest_giver.handle_quests(player)"
   ],
   "metadata": {
    "collapsed": false,
    "pycharm": {
     "name": "#%%\n"
    }
   }
  }
 ],
 "metadata": {
  "kernelspec": {
   "display_name": "Python 3",
   "language": "python",
   "name": "python3"
  },
  "language_info": {
   "codemirror_mode": {
    "name": "ipython",
    "version": 2
   },
   "file_extension": ".py",
   "mimetype": "text/x-python",
   "name": "python",
   "nbconvert_exporter": "python",
   "pygments_lexer": "ipython2",
   "version": "2.7.6"
  }
 },
 "nbformat": 4,
 "nbformat_minor": 0
}