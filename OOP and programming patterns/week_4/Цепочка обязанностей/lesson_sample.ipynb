{
 "cells": [
  {
   "cell_type": "code",
   "execution_count": 4,
   "metadata": {
    "collapsed": true
   },
   "outputs": [],
   "source": [
    "class Character:\n",
    "    def __init__(self):\n",
    "        self.name = 'John'\n",
    "        self.experience = 0\n",
    "        self.passed_quests = set()\n",
    "        self.progress_quests = set()\n",
    "\n",
    "def quest_starter__animation(quest: str):\n",
    "    #   Do job\n",
    "    print(f\"Quest: {quest} just started...\")\n",
    "\n",
    "def quest_ender__animation(quest: str):\n",
    "    #   Do job\n",
    "    print(f\"Quest: {quest} complete\")\n",
    "\n",
    "def quest_add_remove_logic(exp : int, char: Character, quest_name : str):\n",
    "    if quest_name not in (char.passed_quests | char.progress_quests):\n",
    "        char.progress_quests.add(quest_name)\n",
    "        quest_starter__animation(quest_name)\n",
    "    elif quest_name in char.progress_quests:\n",
    "        char.passed_quests.add(quest_name)\n",
    "        char.progress_quests.remove(quest_name)\n",
    "        quest_ender__animation(quest_name)\n",
    "        char.experience += exp\n",
    "\n",
    "def add_quest_spaek(char: Character):\n",
    "    quest_name = \"Talk with farmer\"\n",
    "    exp = 100\n",
    "    quest_add_remove_logic(exp, char, quest_name)\n",
    "\n",
    "def add_quest_hunt(char: Character):\n",
    "    quest_name = \"Rat hunt\"\n",
    "    exp = 300\n",
    "    quest_add_remove_logic(exp, char, quest_name)\n",
    "\n",
    "def add_quest_carry(char: Character):\n",
    "    quest_name = \"Deliver wood to shelter\"\n",
    "    exp = 1000\n",
    "    quest_add_remove_logic(exp, char, quest_name)\n",
    "\n",
    "class QuestGiver:\n",
    "    def __init__(self):\n",
    "        self.quests = []\n",
    "\n",
    "    def add_quest(self, quest):\n",
    "        self.quests.append(quest)\n",
    "\n",
    "    def handle_quests(self, char: Character):\n",
    "        for _quest in self.quests:\n",
    "            _quest(char)"
   ]
  },
  {
   "cell_type": "code",
   "execution_count": 7,
   "outputs": [
    {
     "name": "stdout",
     "output_type": "stream",
     "text": [
      "Quest: Talk with farmer just started...\n",
      "Quest: Rat hunt just started...\n",
      "Quest: Deliver wood to shelter just started...\n"
     ]
    }
   ],
   "source": [
    "all_quests_list = [add_quest_spaek, add_quest_hunt, add_quest_carry]\n",
    "quest_list = QuestGiver()\n",
    "for quest in all_quests_list:\n",
    "    quest_list.add_quest(quest)\n",
    "\n",
    "player = Character()\n",
    "quest_list.handle_quests(player)"
   ],
   "metadata": {
    "collapsed": false,
    "pycharm": {
     "name": "#%%\n"
    }
   }
  },
  {
   "cell_type": "code",
   "execution_count": 10,
   "outputs": [
    {
     "name": "stdout",
     "output_type": "stream",
     "text": [
      "Получено set()\n",
      "Сдано {'Deliver wood to shelter', 'Rat hunt', 'Talk with farmer'}\n"
     ]
    }
   ],
   "source": [
    "quest_list.handle_quests(player)\n",
    "print(f\"Получено {player.progress_quests}\")\n",
    "print(f\"Сдано {player.passed_quests}\")\n"
   ],
   "metadata": {
    "collapsed": false,
    "pycharm": {
     "name": "#%%\n"
    }
   }
  }
 ],
 "metadata": {
  "kernelspec": {
   "display_name": "Python 3",
   "language": "python",
   "name": "python3"
  },
  "language_info": {
   "codemirror_mode": {
    "name": "ipython",
    "version": 2
   },
   "file_extension": ".py",
   "mimetype": "text/x-python",
   "name": "python",
   "nbconvert_exporter": "python",
   "pygments_lexer": "ipython2",
   "version": "2.7.6"
  }
 },
 "nbformat": 4,
 "nbformat_minor": 0
}