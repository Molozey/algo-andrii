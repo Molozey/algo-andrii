{
 "cells": [
  {
   "cell_type": "code",
   "execution_count": 1,
   "metadata": {
    "collapsed": true
   },
   "outputs": [],
   "source": [
    "import yaml"
   ]
  },
  {
   "cell_type": "code",
   "execution_count": 2,
   "outputs": [],
   "source": [
    "hero_yaml = '''\n",
    "--- !Character\n",
    "factory:\n",
    "    !factory assassin\n",
    "name:\n",
    "    TomBruhse\n",
    "'''"
   ],
   "metadata": {
    "collapsed": false,
    "pycharm": {
     "name": "#%%\n"
    }
   }
  },
  {
   "cell_type": "code",
   "execution_count": 3,
   "outputs": [],
   "source": [
    "class HeroFactory:\n",
    "    @classmethod\n",
    "    def create_hero(Class, name):\n",
    "        return Class.Hero(name)\n",
    "\n",
    "    @classmethod\n",
    "    def create_weapon(Class):\n",
    "        return Class.Weapon()\n",
    "\n",
    "    @classmethod\n",
    "    def create_spell(Class):\n",
    "        return Class.Spell()\n",
    "\n",
    "class WarriorFactory(HeroFactory):\n",
    "    class Hero:\n",
    "        def __init__(self, name):\n",
    "            self.name = name\n",
    "            self.weapon = None\n",
    "            self.spell = None\n",
    "\n",
    "        def hit(self):\n",
    "            print(f\"Warrior hits with {self.weapon.hit()}\")\n",
    "\n",
    "        def cast(self):\n",
    "            print(f\"Warrior spell with {self.spell.cast()}\")\n",
    "\n",
    "        def add_weapon(self, weapon):\n",
    "            self.weapon = weapon\n",
    "\n",
    "        def add_spell(self, spell):\n",
    "            self.spell = spell\n",
    "\n",
    "    class Weapon:\n",
    "        def hit(self):\n",
    "            return \"Claymore\"\n",
    "\n",
    "    class Spell:\n",
    "        def cast(self):\n",
    "            return \"Power\"\n",
    "\n",
    "class HunterFactory(HeroFactory):\n",
    "    class Hero:\n",
    "        def __init__(self, name):\n",
    "            self.name = name\n",
    "            self.weapon = None\n",
    "            self.spell = None\n",
    "\n",
    "        def hit(self):\n",
    "            print(f\"Hunter hits with {self.weapon.hit()}\")\n",
    "\n",
    "        def cast(self):\n",
    "            print(f\"hunter spell with {self.spell.cast()}\")\n",
    "\n",
    "        def add_weapon(self, weapon):\n",
    "            self.weapon = weapon\n",
    "\n",
    "        def add_spell(self, spell):\n",
    "            self.spell = spell\n",
    "\n",
    "    class Weapon:\n",
    "        def hit(self):\n",
    "            return \"Bow\"\n",
    "\n",
    "    class Spell:\n",
    "        def cast(self):\n",
    "            return \"Eagle Eye\"\n",
    "\n",
    "class AssassinFactory(HeroFactory):\n",
    "    class Hero:\n",
    "        def __init__(self, name):\n",
    "            self.name = name\n",
    "            self.weapon = None\n",
    "            self.spell = None\n",
    "\n",
    "        def hit(self):\n",
    "            print(f\"Assassin hits with {self.weapon.hit()}\")\n",
    "\n",
    "        def cast(self):\n",
    "            print(f\"Assassin spell with {self.spell.cast()}\")\n",
    "\n",
    "        def add_weapon(self, weapon):\n",
    "            self.weapon = weapon\n",
    "\n",
    "        def add_spell(self, spell):\n",
    "            self.spell = spell\n",
    "\n",
    "    class Weapon:\n",
    "        def hit(self):\n",
    "            return \"Dager\"\n",
    "\n",
    "    class Spell:\n",
    "        def cast(self):\n",
    "            return \"Invisible\""
   ],
   "metadata": {
    "collapsed": false,
    "pycharm": {
     "name": "#%%\n"
    }
   }
  },
  {
   "cell_type": "code",
   "execution_count": 4,
   "outputs": [],
   "source": [
    "def factory_constructor(loader, node):\n",
    "    data = loader.construct_scalar(node)\n",
    "    if data == 'assassin':\n",
    "        return AssassinFactory\n",
    "    if data == 'hunter':\n",
    "        return HunterFactory\n",
    "    if data == 'warrior':\n",
    "        return WarriorFactory"
   ],
   "metadata": {
    "collapsed": false,
    "pycharm": {
     "name": "#%%\n"
    }
   }
  },
  {
   "cell_type": "code",
   "execution_count": 5,
   "outputs": [],
   "source": [
    "class Character(yaml.YAMLObject):\n",
    "    yaml_tag = \"!Character\"\n",
    "\n",
    "    def create_hero(self):\n",
    "\n",
    "        hero = self.factory.create_hero(self.name)\n",
    "        weapon = self.factory.create_weapon()\n",
    "        spell = self.factory.create_spell()\n",
    "\n",
    "        hero.add_weapon(weapon)\n",
    "        hero.add_spell(spell)\n",
    "\n",
    "        return hero"
   ],
   "metadata": {
    "collapsed": false,
    "pycharm": {
     "name": "#%%\n"
    }
   }
  },
  {
   "cell_type": "code",
   "execution_count": 6,
   "outputs": [
    {
     "name": "stdout",
     "output_type": "stream",
     "text": [
      "<class 'yaml.loader.Loader'>\n",
      "Assassin hits with Dager\n"
     ]
    }
   ],
   "source": [
    "loader = yaml.Loader\n",
    "loader.add_constructor(\"!factory\", factory_constructor)\n",
    "hero = yaml.load(hero_yaml).create_hero()\n",
    "hero.hit()"
   ],
   "metadata": {
    "collapsed": false,
    "pycharm": {
     "name": "#%%\n"
    }
   }
  },
  {
   "cell_type": "code",
   "execution_count": 7,
   "outputs": [
    {
     "data": {
      "text/plain": "'\\nplayer = create_hero(HunterFactory)\\nplayer.cast()\\nplayer.hit()\\n\\nplayer = create_hero(WarriorFactory)\\nplayer.cast()\\nplayer.hit()\\n'"
     },
     "execution_count": 7,
     "metadata": {},
     "output_type": "execute_result"
    }
   ],
   "source": [
    "\"\"\"\n",
    "player = create_hero(HunterFactory)\n",
    "player.cast()\n",
    "player.hit()\n",
    "\n",
    "player = create_hero(WarriorFactory)\n",
    "player.cast()\n",
    "player.hit()\n",
    "\"\"\""
   ],
   "metadata": {
    "collapsed": false,
    "pycharm": {
     "name": "#%%\n"
    }
   }
  }
 ],
 "metadata": {
  "kernelspec": {
   "display_name": "Python 3",
   "language": "python",
   "name": "python3"
  },
  "language_info": {
   "codemirror_mode": {
    "name": "ipython",
    "version": 2
   },
   "file_extension": ".py",
   "mimetype": "text/x-python",
   "name": "python",
   "nbconvert_exporter": "python",
   "pygments_lexer": "ipython2",
   "version": "2.7.6"
  }
 },
 "nbformat": 4,
 "nbformat_minor": 0
}