{
 "cells": [
  {
   "cell_type": "code",
   "execution_count": 6,
   "metadata": {
    "collapsed": true
   },
   "outputs": [],
   "source": [
    "from abc import ABC, abstractmethod\n",
    "\n",
    "class HeroFactory(ABC):\n",
    "    @abstractmethod\n",
    "    def create_hero(self, name):\n",
    "        pass\n",
    "\n",
    "    @abstractmethod\n",
    "    def create_spell(self):\n",
    "        pass\n",
    "\n",
    "    @abstractmethod\n",
    "    def create_weapon(self):\n",
    "        pass"
   ]
  },
  {
   "cell_type": "code",
   "execution_count": 8,
   "outputs": [],
   "source": [
    "class WarriorFactory(HeroFactory):\n",
    "    def create_hero(self, name):\n",
    "        return Warrior(name)\n",
    "\n",
    "    def create_spell(self):\n",
    "        return WPower()\n",
    "\n",
    "    def create_weapon(self):\n",
    "        return Claymore()\n",
    "\n",
    "class Warrior:\n",
    "    def __init__(self, name):\n",
    "        self.name = name\n",
    "        self.spell = None\n",
    "        self.weapon = None\n",
    "\n",
    "    def add_weapon(self, weapon):\n",
    "        self.weapon = weapon\n",
    "\n",
    "    def add_spell(self, spell):\n",
    "        self.spell = spell\n",
    "\n",
    "    def hit(self):\n",
    "        print(f\"Warrior {self.name} hits with {self.weapon.hit()}\")\n",
    "\n",
    "    def cast(self):\n",
    "        print(f\"Warrior {self.name} spell with {self.spell.cast()}\")\n",
    "\n",
    "class Claymore:\n",
    "    def hit(self):\n",
    "        return \"Claymore\"\n",
    "\n",
    "class WPower:\n",
    "    def cast(self):\n",
    "        return \"WPower\"\n",
    "\n",
    "def create_hero(factory):\n",
    "    hero = factory.create_hero(\"TOM\")\n",
    "    weapon = factory.create_weapon()\n",
    "    spell = factory.create_spell()\n",
    "\n",
    "    hero.add_weapon(weapon)\n",
    "    hero.add_spell(spell)\n",
    "\n",
    "    return hero"
   ],
   "metadata": {
    "collapsed": false,
    "pycharm": {
     "name": "#%%\n"
    }
   }
  },
  {
   "cell_type": "code",
   "execution_count": 9,
   "outputs": [
    {
     "name": "stdout",
     "output_type": "stream",
     "text": [
      "Warrior TOM hits with Claymore\n",
      "Warrior TOM spell with WPower\n"
     ]
    }
   ],
   "source": [
    "player = create_hero(WarriorFactory())\n",
    "player.hit()\n",
    "player.cast()"
   ],
   "metadata": {
    "collapsed": false,
    "pycharm": {
     "name": "#%%\n"
    }
   }
  }
 ],
 "metadata": {
  "kernelspec": {
   "display_name": "Python 3",
   "language": "python",
   "name": "python3"
  },
  "language_info": {
   "codemirror_mode": {
    "name": "ipython",
    "version": 2
   },
   "file_extension": ".py",
   "mimetype": "text/x-python",
   "name": "python",
   "nbconvert_exporter": "python",
   "pygments_lexer": "ipython2",
   "version": "2.7.6"
  }
 },
 "nbformat": 4,
 "nbformat_minor": 0
}