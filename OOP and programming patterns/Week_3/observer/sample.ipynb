{
 "cells": [
  {
   "cell_type": "code",
   "execution_count": 1,
   "metadata": {
    "collapsed": true
   },
   "outputs": [],
   "source": [
    "from abc import abstractmethod, ABC"
   ]
  },
  {
   "cell_type": "code",
   "execution_count": 2,
   "outputs": [],
   "source": [
    "class NotificationManager:\n",
    "    def __init__(self):\n",
    "        self.__subscribers = set()\n",
    "\n",
    "    def subscribe(self, subscriber):\n",
    "        self.__subscribers.add(subscriber)\n",
    "\n",
    "    def unsubscribe(self, subscriber):\n",
    "        self.__subscribers.remove(subscriber)\n",
    "\n",
    "    def notify(self, message):\n",
    "        for SUB in self.__subscribers:\n",
    "            SUB.update(message)\n",
    "\n",
    "\n",
    "class AbstractObserver(ABC):\n",
    "    @abstractmethod\n",
    "    def update(self, message):\n",
    "        pass"
   ],
   "metadata": {
    "collapsed": false,
    "pycharm": {
     "name": "#%%\n"
    }
   }
  },
  {
   "cell_type": "code",
   "execution_count": 3,
   "outputs": [],
   "source": [
    "class MessageNotifier(AbstractObserver):\n",
    "    def __init__(self, name):\n",
    "        self.__name = name\n",
    "    def update(self, message):\n",
    "        print(f\"{self.__name} received message!\")\n",
    "\n",
    "\n",
    "class MessagePrinter(AbstractObserver):\n",
    "    def __init__(self, name):\n",
    "        self.__name = name\n",
    "    def update(self, message):\n",
    "        print(f\"{self.__name} received message!\")\n",
    "        print('Message:', message)"
   ],
   "metadata": {
    "collapsed": false,
    "pycharm": {
     "name": "#%%\n"
    }
   }
  },
  {
   "cell_type": "code",
   "execution_count": 4,
   "outputs": [],
   "source": [
    "notifier = MessageNotifier(\"Notifier1\")\n",
    "printer1 = MessagePrinter(\"Printer1\")\n",
    "printer2 = MessagePrinter(\"Printer2\")\n",
    "manager = NotificationManager()"
   ],
   "metadata": {
    "collapsed": false,
    "pycharm": {
     "name": "#%%\n"
    }
   }
  },
  {
   "cell_type": "code",
   "execution_count": 5,
   "outputs": [],
   "source": [
    "manager.subscribe(notifier)\n",
    "manager.subscribe(printer1)\n",
    "manager.subscribe(printer2)"
   ],
   "metadata": {
    "collapsed": false,
    "pycharm": {
     "name": "#%%\n"
    }
   }
  },
  {
   "cell_type": "code",
   "execution_count": 6,
   "outputs": [
    {
     "name": "stdout",
     "output_type": "stream",
     "text": [
      "Printer1 received message!\n",
      "Message: Hi\n",
      "Notifier1 received message!\n",
      "Printer2 received message!\n",
      "Message: Hi\n"
     ]
    }
   ],
   "source": [
    "manager.notify('Hi')"
   ],
   "metadata": {
    "collapsed": false,
    "pycharm": {
     "name": "#%%\n"
    }
   }
  }
 ],
 "metadata": {
  "kernelspec": {
   "display_name": "Python 3",
   "language": "python",
   "name": "python3"
  },
  "language_info": {
   "codemirror_mode": {
    "name": "ipython",
    "version": 2
   },
   "file_extension": ".py",
   "mimetype": "text/x-python",
   "name": "python",
   "nbconvert_exporter": "python",
   "pygments_lexer": "ipython2",
   "version": "2.7.6"
  }
 },
 "nbformat": 4,
 "nbformat_minor": 0
}