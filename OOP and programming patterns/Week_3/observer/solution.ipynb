{
 "cells": [
  {
   "cell_type": "code",
   "execution_count": 23,
   "metadata": {
    "collapsed": true
   },
   "outputs": [],
   "source": [
    "from abc import ABC, abstractmethod\n",
    "class Engine:\n",
    "    pass\n",
    "\n",
    "\n",
    "class ObservableEngine(Engine):\n",
    "    \"\"\"Обертка над движком, позволяет подписывать наблюдателей и рассылать им уведомления\"\"\"\n",
    "    def __init__(self):\n",
    "        self.__subscribers = set()\n",
    "\n",
    "    def subscribe(self, subscriber):\n",
    "        self.__subscribers.add(subscriber)\n",
    "\n",
    "    def unsubscribe(self, subscriber):\n",
    "        self.__subscribers.remove(subscriber)\n",
    "\n",
    "    def notify(self, new_achievement):\n",
    "        for SUB in self.__subscribers:\n",
    "            SUB.update(new_achievement)\n",
    "\n",
    "\n",
    "class AbstractObserver(ABC):\n",
    "    \"\"\"Абстракция для наблюдателя\"\"\"\n",
    "    @abstractmethod\n",
    "    def update(self):\n",
    "        pass\n",
    "\n",
    "class ShortNotificationPrinter(AbstractObserver):\n",
    "    def __init__(self):\n",
    "        self.__achievements = set()\n",
    "\n",
    "    def update(self, achievements):\n",
    "        self.__achievements.add(achievements[\"title\"])\n",
    "\n",
    "\n",
    "class FullNotificationPrinter(AbstractObserver):\n",
    "    def __init__(self):\n",
    "        self.__achievements = list()\n",
    "\n",
    "    def update(self, achievements):\n",
    "        if not achievements in self.__achievements:\n",
    "            self.__achievements.append(achievements)"
   ]
  },
  {
   "cell_type": "code",
   "execution_count": 24,
   "outputs": [
    {
     "name": "stdout",
     "output_type": "stream",
     "text": [
      "Updated achievement\n",
      "{'Man I love Monke'}\n",
      "Updated achievement\n",
      "[{'title': 'Man I love Monke', 'text': 'Monkey Power!!!'}]\n"
     ]
    }
   ],
   "source": [
    "engine = ObservableEngine()\n",
    "FN = FullNotificationPrinter()\n",
    "SN = ShortNotificationPrinter()\n",
    "engine.subscribe(FN)\n",
    "engine.subscribe(SN)\n",
    "engine.notify({\"title\": 'Man I love Monke', \"text\": 'Monkey Power!!!'})"
   ],
   "metadata": {
    "collapsed": false,
    "pycharm": {
     "name": "#%%\n"
    }
   }
  }
 ],
 "metadata": {
  "kernelspec": {
   "display_name": "Python 3",
   "language": "python",
   "name": "python3"
  },
  "language_info": {
   "codemirror_mode": {
    "name": "ipython",
    "version": 2
   },
   "file_extension": ".py",
   "mimetype": "text/x-python",
   "name": "python",
   "nbconvert_exporter": "python",
   "pygments_lexer": "ipython2",
   "version": "2.7.6"
  }
 },
 "nbformat": 4,
 "nbformat_minor": 0
}