{
 "cells": [
  {
   "cell_type": "code",
   "execution_count": 1,
   "metadata": {
    "collapsed": true
   },
   "outputs": [],
   "source": [
    "from abc import ABC, abstractmethod"
   ]
  },
  {
   "cell_type": "code",
   "execution_count": 2,
   "outputs": [],
   "source": [
    "class Creature(ABC):\n",
    "\n",
    "    @abstractmethod\n",
    "    def feed(self):\n",
    "        pass\n",
    "\n",
    "    @abstractmethod\n",
    "    def move(self):\n",
    "        pass\n",
    "\n",
    "    @abstractmethod\n",
    "    def make_noise(self):\n",
    "        pass"
   ],
   "metadata": {
    "collapsed": false,
    "pycharm": {
     "name": "#%%\n"
    }
   }
  },
  {
   "cell_type": "code",
   "execution_count": 3,
   "outputs": [],
   "source": [
    "class Animal(Creature):\n",
    "    def feed(self):\n",
    "        print(\"I eat grass\")\n",
    "\n",
    "    def move(self):\n",
    "        print(\"I walk forward\")\n",
    "\n",
    "    def make_noise(self):\n",
    "        print('WOO!')"
   ],
   "metadata": {
    "collapsed": false,
    "pycharm": {
     "name": "#%%\n"
    }
   }
  },
  {
   "cell_type": "code",
   "execution_count": 4,
   "outputs": [],
   "source": [
    "class AbstractDecorator(Creature):\n",
    "    def __init__(self, base):\n",
    "        self.base = base\n",
    "\n",
    "    def feed(self):\n",
    "        self.base.feed()\n",
    "\n",
    "    def move(self):\n",
    "        self.base.move()\n",
    "\n",
    "    def make_noise(self):\n",
    "        self.base.make_noise()\n",
    "\n",
    "class Swimming(AbstractDecorator):\n",
    "    def move(self):\n",
    "        print(\"I swim forward\")\n",
    "\n",
    "    def make_noise(self):\n",
    "        print(\"...\")\n",
    "\n",
    "class Predator(AbstractDecorator):\n",
    "    def feed(self):\n",
    "        print('I eat another animals')\n",
    "\n",
    "class Fast(AbstractDecorator):\n",
    "    def move(self):\n",
    "        self.base.move()\n",
    "        print(\"Fast\")"
   ],
   "metadata": {
    "collapsed": false,
    "pycharm": {
     "name": "#%%\n"
    }
   }
  },
  {
   "cell_type": "code",
   "execution_count": 5,
   "outputs": [
    {
     "name": "stdout",
     "output_type": "stream",
     "text": [
      "I walk forward\n",
      "I eat grass\n",
      "WOO!\n"
     ]
    }
   ],
   "source": [
    "animal = Animal()\n",
    "animal.move()\n",
    "animal.feed()\n",
    "animal.make_noise()"
   ],
   "metadata": {
    "collapsed": false,
    "pycharm": {
     "name": "#%%\n"
    }
   }
  },
  {
   "cell_type": "code",
   "execution_count": 6,
   "outputs": [
    {
     "name": "stdout",
     "output_type": "stream",
     "text": [
      "I swim forward\n",
      "I eat grass\n",
      "...\n"
     ]
    }
   ],
   "source": [
    "swimming = Swimming(animal)\n",
    "swimming.move()\n",
    "swimming.feed()\n",
    "swimming.make_noise()"
   ],
   "metadata": {
    "collapsed": false,
    "pycharm": {
     "name": "#%%\n"
    }
   }
  },
  {
   "cell_type": "code",
   "execution_count": 7,
   "outputs": [
    {
     "name": "stdout",
     "output_type": "stream",
     "text": [
      "I swim forward\n",
      "I eat another animals\n",
      "...\n"
     ]
    }
   ],
   "source": [
    "predator = Predator(swimming)\n",
    "predator.move()\n",
    "predator.feed()\n",
    "predator.make_noise()"
   ],
   "metadata": {
    "collapsed": false,
    "pycharm": {
     "name": "#%%\n"
    }
   }
  },
  {
   "cell_type": "code",
   "execution_count": 8,
   "outputs": [
    {
     "name": "stdout",
     "output_type": "stream",
     "text": [
      "I swim forward\n",
      "Fast\n",
      "...\n",
      "I eat another animals\n"
     ]
    }
   ],
   "source": [
    "fast_predator = Fast(predator)\n",
    "fast_predator.move()\n",
    "fast_predator.make_noise()\n",
    "fast_predator.feed()"
   ],
   "metadata": {
    "collapsed": false,
    "pycharm": {
     "name": "#%%\n"
    }
   }
  },
  {
   "cell_type": "code",
   "execution_count": 9,
   "outputs": [
    {
     "name": "stdout",
     "output_type": "stream",
     "text": [
      "...\n",
      "I eat grass\n",
      "I swim forward\n",
      "Fast\n"
     ]
    }
   ],
   "source": [
    "fast_predator.base = fast_predator.base.base\n",
    "fast_predator.make_noise()\n",
    "fast_predator.feed()\n",
    "fast_predator.move()"
   ],
   "metadata": {
    "collapsed": false,
    "pycharm": {
     "name": "#%%\n"
    }
   }
  }
 ],
 "metadata": {
  "kernelspec": {
   "display_name": "Python 3",
   "language": "python",
   "name": "python3"
  },
  "language_info": {
   "codemirror_mode": {
    "name": "ipython",
    "version": 2
   },
   "file_extension": ".py",
   "mimetype": "text/x-python",
   "name": "python",
   "nbconvert_exporter": "python",
   "pygments_lexer": "ipython2",
   "version": "2.7.6"
  }
 },
 "nbformat": 4,
 "nbformat_minor": 0
}