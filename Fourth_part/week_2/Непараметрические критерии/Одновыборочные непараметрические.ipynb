{
 "cells": [
  {
   "cell_type": "code",
   "execution_count": 12,
   "metadata": {
    "collapsed": true
   },
   "outputs": [],
   "source": [
    "import numpy as np\n",
    "import pandas as pd\n",
    "import itertools\n",
    "\n",
    "from scipy import stats\n",
    "import matplotlib.pylab as plt\n",
    "from statsmodels.stats.weightstats import *\n",
    "from statsmodels.stats.descriptivestats import *"
   ]
  },
  {
   "cell_type": "code",
   "execution_count": 5,
   "outputs": [
    {
     "data": {
      "text/plain": "   proportion_of_time\n0            0.348471\n1            0.640620\n2            0.549818\n3            0.537454\n4            0.400444",
      "text/html": "<div>\n<style scoped>\n    .dataframe tbody tr th:only-of-type {\n        vertical-align: middle;\n    }\n\n    .dataframe tbody tr th {\n        vertical-align: top;\n    }\n\n    .dataframe thead th {\n        text-align: right;\n    }\n</style>\n<table border=\"1\" class=\"dataframe\">\n  <thead>\n    <tr style=\"text-align: right;\">\n      <th></th>\n      <th>proportion_of_time</th>\n    </tr>\n  </thead>\n  <tbody>\n    <tr>\n      <th>0</th>\n      <td>0.348471</td>\n    </tr>\n    <tr>\n      <th>1</th>\n      <td>0.640620</td>\n    </tr>\n    <tr>\n      <th>2</th>\n      <td>0.549818</td>\n    </tr>\n    <tr>\n      <th>3</th>\n      <td>0.537454</td>\n    </tr>\n    <tr>\n      <th>4</th>\n      <td>0.400444</td>\n    </tr>\n  </tbody>\n</table>\n</div>"
     },
     "execution_count": 5,
     "metadata": {},
     "output_type": "execute_result"
    }
   ],
   "source": [
    "data = pd.read_csv('mirror_mouses.txt', header=None)\n",
    "data.columns = ['proportion_of_time']\n",
    "data.head()"
   ],
   "metadata": {
    "collapsed": false,
    "pycharm": {
     "name": "#%%\n"
    }
   }
  },
  {
   "cell_type": "code",
   "execution_count": 6,
   "outputs": [
    {
     "data": {
      "text/plain": "       proportion_of_time\ncount           16.000000\nmean             0.475289\nstd              0.066065\nmin              0.348471\n25%              0.444566\n50%              0.477289\n75%              0.488859\nmax              0.640620",
      "text/html": "<div>\n<style scoped>\n    .dataframe tbody tr th:only-of-type {\n        vertical-align: middle;\n    }\n\n    .dataframe tbody tr th {\n        vertical-align: top;\n    }\n\n    .dataframe thead th {\n        text-align: right;\n    }\n</style>\n<table border=\"1\" class=\"dataframe\">\n  <thead>\n    <tr style=\"text-align: right;\">\n      <th></th>\n      <th>proportion_of_time</th>\n    </tr>\n  </thead>\n  <tbody>\n    <tr>\n      <th>count</th>\n      <td>16.000000</td>\n    </tr>\n    <tr>\n      <th>mean</th>\n      <td>0.475289</td>\n    </tr>\n    <tr>\n      <th>std</th>\n      <td>0.066065</td>\n    </tr>\n    <tr>\n      <th>min</th>\n      <td>0.348471</td>\n    </tr>\n    <tr>\n      <th>25%</th>\n      <td>0.444566</td>\n    </tr>\n    <tr>\n      <th>50%</th>\n      <td>0.477289</td>\n    </tr>\n    <tr>\n      <th>75%</th>\n      <td>0.488859</td>\n    </tr>\n    <tr>\n      <th>max</th>\n      <td>0.640620</td>\n    </tr>\n  </tbody>\n</table>\n</div>"
     },
     "execution_count": 6,
     "metadata": {},
     "output_type": "execute_result"
    }
   ],
   "source": [
    "data.describe()"
   ],
   "metadata": {
    "collapsed": false,
    "pycharm": {
     "name": "#%%\n"
    }
   }
  },
  {
   "cell_type": "code",
   "execution_count": 8,
   "outputs": [
    {
     "data": {
      "text/plain": "(array([1., 1., 2., 1., 8., 0., 2., 0., 0., 1.]),\n array([0.3484705 , 0.37768547, 0.40690044, 0.43611541, 0.46533038,\n        0.49454535, 0.52376032, 0.55297529, 0.58219026, 0.61140523,\n        0.6406202 ]),\n <BarContainer object of 10 artists>)"
     },
     "execution_count": 8,
     "metadata": {},
     "output_type": "execute_result"
    },
    {
     "data": {
      "text/plain": "<Figure size 432x288 with 1 Axes>",
      "image/png": "[encoded data removed]"
     },
     "metadata": {
      "needs_background": "light"
     },
     "output_type": "display_data"
    }
   ],
   "source": [
    "plt.hist(data.proportion_of_time)"
   ],
   "metadata": {
    "collapsed": false,
    "pycharm": {
     "name": "#%%\n"
    }
   }
  },
  {
   "cell_type": "code",
   "execution_count": 10,
   "outputs": [
    {
     "data": {
      "text/plain": "(array([0.44291783]), array([0.50765996]))"
     },
     "execution_count": 10,
     "metadata": {},
     "output_type": "execute_result"
    }
   ],
   "source": [
    "#   Одновыборочные критерии\n",
    "zconfint(data)"
   ],
   "metadata": {
    "collapsed": false,
    "pycharm": {
     "name": "#%%\n"
    }
   }
  },
  {
   "cell_type": "code",
   "execution_count": 13,
   "outputs": [
    {
     "data": {
      "text/plain": "(-5.0, 0.021270751953125)"
     },
     "execution_count": 13,
     "metadata": {},
     "output_type": "execute_result"
    }
   ],
   "source": [
    "#   Критерий знаков\n",
    "sign_test(data, .5)"
   ],
   "metadata": {
    "collapsed": false,
    "pycharm": {
     "name": "#%%\n"
    }
   }
  },
  {
   "cell_type": "code",
   "execution_count": 14,
   "outputs": [
    {
     "data": {
      "text/plain": "WilcoxonResult(statistic=35.0, pvalue=0.09344482421875)"
     },
     "execution_count": 14,
     "metadata": {},
     "output_type": "execute_result"
    }
   ],
   "source": [
    "#   Критерий знаковых рангов Вилкоксона\n",
    "m0 = 0.5\n",
    "stats.wilcoxon(data.proportion_of_time - m0)"
   ],
   "metadata": {
    "collapsed": false,
    "pycharm": {
     "name": "#%%\n"
    }
   }
  },
  {
   "cell_type": "code",
   "execution_count": 16,
   "outputs": [
    {
     "name": "stdout",
     "output_type": "stream",
     "text": [
      "-0.39537769999999994\n"
     ]
    }
   ],
   "source": [
    "#   Перестановочный критерий\n",
    "#   H0 - EX = 0.5\n",
    "#   H1 - EX <=> 0.5\n",
    "\n",
    "def permutation_t_stat_1sample(sample, mean):\n",
    "    t_stat = sum(map(lambda x: x - mean, sample))\n",
    "    return t_stat\n",
    "\n",
    "def permutation_zero_distr_1sample(sample, mean, max_permutations=None):\n",
    "    centered_sample = list(map(lambda x: x - mean, sample))\n",
    "    if max_permutations:\n",
    "        signs_array = set([tuple(x) for x in 2 * np.random.randint(2, size=(max_permutations, len(sample)))])\n",
    "    else:\n",
    "        signs_array = itertools.product([-1,1], repeat=len(sample))\n",
    "    distr = [sum(centered_sample * np.array(signs)) for signs in signs_array]\n",
    "    return distr\n",
    "\n",
    "print(permutation_t_stat_1sample(data.proportion_of_time, .5))"
   ],
   "metadata": {
    "collapsed": false,
    "pycharm": {
     "name": "#%%\n"
    }
   }
  },
  {
   "cell_type": "code",
   "execution_count": 18,
   "outputs": [
    {
     "data": {
      "text/plain": "(array([   62.,   453.,  1445.,  3132.,  5359.,  7695.,  9525., 10194.,\n         9525.,  7695.,  5359.,  3132.,  1445.,   453.,    62.]),\n array([-0.8511611 , -0.73767295, -0.62418481, -0.51069666, -0.39720851,\n        -0.28372037, -0.17023222, -0.05674407,  0.05674407,  0.17023222,\n         0.28372037,  0.39720851,  0.51069666,  0.62418481,  0.73767295,\n         0.8511611 ]),\n <BarContainer object of 15 artists>)"
     },
     "execution_count": 18,
     "metadata": {},
     "output_type": "execute_result"
    },
    {
     "data": {
      "text/plain": "<Figure size 432x288 with 1 Axes>",
      "image/png": "[encoded data removed]"
     },
     "metadata": {
      "needs_background": "light"
     },
     "output_type": "display_data"
    }
   ],
   "source": [
    "plt.hist(permutation_zero_distr_1sample(data.proportion_of_time, .5), bins=15)"
   ],
   "metadata": {
    "collapsed": false,
    "pycharm": {
     "name": "#%%\n"
    }
   }
  },
  {
   "cell_type": "code",
   "execution_count": 19,
   "outputs": [],
   "source": [
    "def permutation_test(sample, mean, alternative='two-sided'):\n",
    "    if alternative not in ('two-sided', 'less', 'greater'):\n",
    "        raise ValueError('Unknown alternative')\n",
    "    t_stat = permutation_t_stat_1sample(sample, mean)\n",
    "    zero_distr = permutation_zero_distr_1sample(sample, mean)\n",
    "    if alternative == 'two-sided':\n",
    "        return sum([1. if abs(x) >= abs(t_stat) else 0 for x in zero_distr]) / len(zero_distr)\n",
    "    if alternative == 'less':\n",
    "        return sum([1. if x<= t_stat else 0. for x in zero_distr]) / len(zero_distr)\n",
    "    if alternative == 'greater':\n",
    "        return sum([1. if x>= t_stat else 0. for x in zero_distr]) / len(zero_distr)"
   ],
   "metadata": {
    "collapsed": false,
    "pycharm": {
     "name": "#%%\n"
    }
   }
  },
  {
   "cell_type": "code",
   "execution_count": 20,
   "outputs": [
    {
     "data": {
      "text/plain": "0.15777587890625"
     },
     "execution_count": 20,
     "metadata": {},
     "output_type": "execute_result"
    }
   ],
   "source": [
    "permutation_test(data.proportion_of_time, .5)"
   ],
   "metadata": {
    "collapsed": false,
    "pycharm": {
     "name": "#%%\n"
    }
   }
  }
 ],
 "metadata": {
  "kernelspec": {
   "display_name": "Python 3",
   "language": "python",
   "name": "python3"
  },
  "language_info": {
   "codemirror_mode": {
    "name": "ipython",
    "version": 2
   },
   "file_extension": ".py",
   "mimetype": "text/x-python",
   "name": "python",
   "nbconvert_exporter": "python",
   "pygments_lexer": "ipython2",
   "version": "2.7.6"
  }
 },
 "nbformat": 4,
 "nbformat_minor": 0
}