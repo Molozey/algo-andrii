{
 "cells": [
  {
   "cell_type": "code",
   "execution_count": 4,
   "metadata": {
    "collapsed": true
   },
   "outputs": [],
   "source": [
    "import numpy as np\n",
    "import pandas as pd\n",
    "from scipy import stats\n",
    "from statsmodels.stats.descriptivestats import *\n",
    "from statsmodels.stats.weightstats import *\n",
    "import itertools\n",
    "import matplotlib.pylab as plt"
   ]
  },
  {
   "cell_type": "code",
   "execution_count": 3,
   "outputs": [
    {
     "data": {
      "text/plain": "   Before  After\n0    80.5   82.2\n1    84.9   85.6\n2    81.5   81.4\n3    82.6   81.9\n4    79.9   76.4",
      "text/html": "<div>\n<style scoped>\n    .dataframe tbody tr th:only-of-type {\n        vertical-align: middle;\n    }\n\n    .dataframe tbody tr th {\n        vertical-align: top;\n    }\n\n    .dataframe thead th {\n        text-align: right;\n    }\n</style>\n<table border=\"1\" class=\"dataframe\">\n  <thead>\n    <tr style=\"text-align: right;\">\n      <th></th>\n      <th>Before</th>\n      <th>After</th>\n    </tr>\n  </thead>\n  <tbody>\n    <tr>\n      <th>0</th>\n      <td>80.5</td>\n      <td>82.2</td>\n    </tr>\n    <tr>\n      <th>1</th>\n      <td>84.9</td>\n      <td>85.6</td>\n    </tr>\n    <tr>\n      <th>2</th>\n      <td>81.5</td>\n      <td>81.4</td>\n    </tr>\n    <tr>\n      <th>3</th>\n      <td>82.6</td>\n      <td>81.9</td>\n    </tr>\n    <tr>\n      <th>4</th>\n      <td>79.9</td>\n      <td>76.4</td>\n    </tr>\n  </tbody>\n</table>\n</div>"
     },
     "execution_count": 3,
     "metadata": {},
     "output_type": "execute_result"
    }
   ],
   "source": [
    "data = pd.read_csv('weight.txt', header=0, sep='\\t')\n",
    "data.head()"
   ],
   "metadata": {
    "collapsed": false,
    "pycharm": {
     "name": "#%%\n"
    }
   }
  },
  {
   "cell_type": "code",
   "execution_count": 5,
   "outputs": [
    {
     "data": {
      "text/plain": "<Figure size 720x360 with 2 Axes>",
      "image/png": "[encoded data removed]"
     },
     "metadata": {
      "needs_background": "light"
     },
     "output_type": "display_data"
    }
   ],
   "source": [
    "plt.figure(figsize=(10,5))\n",
    "plt.subplot(1,2,1)\n",
    "plt.grid()\n",
    "plt.hist(data.Before, color='r')\n",
    "plt.xlabel('Before')\n",
    "plt.subplot(1,2,2)\n",
    "plt.grid()\n",
    "plt.hist(data.After, color='b')\n",
    "plt.xlabel('After')\n",
    "plt.show()"
   ],
   "metadata": {
    "collapsed": false,
    "pycharm": {
     "name": "#%%\n"
    }
   }
  },
  {
   "cell_type": "code",
   "execution_count": 6,
   "outputs": [
    {
     "name": "stdout",
     "output_type": "stream",
     "text": [
      "(80.92610749911721, 84.45320284571041)\n",
      "----\n",
      "After: (82.6568174981233, 88.7362859501525)\n"
     ]
    }
   ],
   "source": [
    "print(zconfint(data.Before))\n",
    "print('----')\n",
    "print('After:', zconfint(data.After))"
   ],
   "metadata": {
    "collapsed": false,
    "pycharm": {
     "name": "#%%\n"
    }
   }
  },
  {
   "cell_type": "code",
   "execution_count": 7,
   "outputs": [
    {
     "data": {
      "text/plain": "(array([ 2.,  3.,  5., 10.,  2.,  1.,  1.,  2.,  2.,  1.]),\n array([-9.1, -6.1, -3.1, -0.1,  2.9,  5.9,  8.9, 11.9, 14.9, 17.9, 20.9]),\n <BarContainer object of 10 artists>)"
     },
     "execution_count": 7,
     "metadata": {},
     "output_type": "execute_result"
    },
    {
     "data": {
      "text/plain": "<Figure size 432x288 with 1 Axes>",
      "image/png": "[encoded data removed]"
     },
     "metadata": {
      "needs_background": "light"
     },
     "output_type": "display_data"
    }
   ],
   "source": [
    "plt.hist(data.After - data.Before)"
   ],
   "metadata": {
    "collapsed": false,
    "pycharm": {
     "name": "#%%\n"
    }
   }
  },
  {
   "cell_type": "code",
   "execution_count": 10,
   "outputs": [
    {
     "data": {
      "text/plain": "0.26493089646101"
     },
     "execution_count": 10,
     "metadata": {},
     "output_type": "execute_result"
    }
   ],
   "source": [
    "#   Критерий знаков\n",
    "sign_test(data.After - data.Before)[1]"
   ],
   "metadata": {
    "collapsed": false,
    "pycharm": {
     "name": "#%%\n"
    }
   }
  },
  {
   "cell_type": "code",
   "execution_count": 8,
   "outputs": [
    {
     "data": {
      "text/plain": "WilcoxonResult(statistic=131.5, pvalue=0.06291972262602667)"
     },
     "execution_count": 8,
     "metadata": {},
     "output_type": "execute_result"
    }
   ],
   "source": [
    "#   Критерий знаков Вилкосона\n",
    "stats.wilcoxon(data.After - data.Before)"
   ],
   "metadata": {
    "collapsed": false,
    "pycharm": {
     "name": "#%%\n"
    }
   }
  },
  {
   "cell_type": "code",
   "execution_count": 11,
   "outputs": [
    {
     "data": {
      "text/plain": "WilcoxonResult(statistic=131.5, pvalue=0.06291972262602667)"
     },
     "execution_count": 11,
     "metadata": {},
     "output_type": "execute_result"
    }
   ],
   "source": [
    "stats.wilcoxon(data.After, data.Before)"
   ],
   "metadata": {
    "collapsed": false,
    "pycharm": {
     "name": "#%%\n"
    }
   }
  },
  {
   "cell_type": "code",
   "execution_count": 36,
   "outputs": [],
   "source": [
    "#   Перестановочный критерий\n",
    "#   H0 = E(X1 - X2) = 0\n",
    "#   H1 = E(X1 - X2 ) <=> 0\n",
    "def permutation_t_stat_1sample(sample, mean):\n",
    "    t_stat = sum(map(lambda x: x - mean, sample))\n",
    "    return t_stat\n",
    "\n",
    "def permutation_zero_distr_1sample(sample, mean, max_permutations=None):\n",
    "    centered_sample = list(map(lambda x: x - mean, sample))\n",
    "    if max_permutations:\n",
    "        signs_array = set([tuple(x) for x in 2 * np.random.randint(2, size=(max_permutations, len(sample))) - 1])\n",
    "    else:\n",
    "        signs_array = itertools.product([-1,1], repeat=len(sample))\n",
    "    distr = [sum(centered_sample * np.array(signs)) for signs in signs_array]\n",
    "    return distr\n",
    "\n",
    "def permutation_test(sample, mean, alternative='two-sided', max_permutations=None):\n",
    "    if alternative not in ('two-sided', 'less', 'greater'):\n",
    "        raise ValueError('Unknown alternative')\n",
    "    t_stat = permutation_t_stat_1sample(sample, mean)\n",
    "    zero_distr = permutation_zero_distr_1sample(sample, mean, max_permutations=max_permutations)\n",
    "    if alternative == 'two-sided':\n",
    "        return sum([1. if abs(x) >= abs(t_stat) else 0 for x in zero_distr]) / len(zero_distr)\n",
    "    if alternative == 'less':\n",
    "        return sum([1. if x<= t_stat else 0. for x in zero_distr]) / len(zero_distr)\n",
    "    if alternative == 'greater':\n",
    "        return sum([1. if x>= t_stat else 0. for x in zero_distr]) / len(zero_distr)"
   ],
   "metadata": {
    "collapsed": false,
    "pycharm": {
     "name": "#%%\n"
    }
   }
  },
  {
   "cell_type": "code",
   "execution_count": 35,
   "outputs": [
    {
     "data": {
      "text/plain": "(array([  28.,  217.,  772., 1610., 2355., 2403., 1620.,  764.,  209.,\n          22.]),\n array([-138.2 , -110.66,  -83.12,  -55.58,  -28.04,   -0.5 ,   27.04,\n          54.58,   82.12,  109.66,  137.2 ]),\n <BarContainer object of 10 artists>)"
     },
     "execution_count": 35,
     "metadata": {},
     "output_type": "execute_result"
    },
    {
     "data": {
      "text/plain": "<Figure size 432x288 with 1 Axes>",
      "image/png": "[encoded data removed]"
     },
     "metadata": {
      "needs_background": "light"
     },
     "output_type": "display_data"
    }
   ],
   "source": [
    "plt.hist(permutation_zero_distr_1sample(data.After - data.Before, 0., max_permutations=10000))"
   ],
   "metadata": {
    "collapsed": false,
    "pycharm": {
     "name": "#%%\n"
    }
   }
  },
  {
   "cell_type": "code",
   "execution_count": 44,
   "outputs": [
    {
     "data": {
      "text/plain": "0.0349"
     },
     "execution_count": 44,
     "metadata": {},
     "output_type": "execute_result"
    }
   ],
   "source": [
    "permutation_test(data.After - data.Before, .0, max_permutations=10000)"
   ],
   "metadata": {
    "collapsed": false,
    "pycharm": {
     "name": "#%%\n"
    }
   }
  },
  {
   "cell_type": "code",
   "execution_count": 42,
   "outputs": [
    {
     "data": {
      "text/plain": "0.0347"
     },
     "execution_count": 42,
     "metadata": {},
     "output_type": "execute_result"
    }
   ],
   "source": [
    "permutation_test(data.After - data.Before, .0, max_permutations=50000)"
   ],
   "metadata": {
    "collapsed": false,
    "pycharm": {
     "name": "#%%\n"
    }
   }
  }
 ],
 "metadata": {
  "kernelspec": {
   "display_name": "Python 3",
   "language": "python",
   "name": "python3"
  },
  "language_info": {
   "codemirror_mode": {
    "name": "ipython",
    "version": 2
   },
   "file_extension": ".py",
   "mimetype": "text/x-python",
   "name": "python",
   "nbconvert_exporter": "python",
   "pygments_lexer": "ipython2",
   "version": "2.7.6"
  }
 },
 "nbformat": 4,
 "nbformat_minor": 0
}