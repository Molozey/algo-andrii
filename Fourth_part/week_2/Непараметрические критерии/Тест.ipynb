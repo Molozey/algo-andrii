{
 "cells": [
  {
   "cell_type": "code",
   "execution_count": 1,
   "metadata": {
    "collapsed": true
   },
   "outputs": [],
   "source": [
    "import numpy as np\n",
    "import matplotlib.pylab as plt\n",
    "from scipy import stats\n",
    "from statsmodels.stats.descriptivestats import sign_test\n",
    "from statsmodels.stats.weightstats import zconfint\n",
    "import itertools"
   ]
  },
  {
   "cell_type": "code",
   "execution_count": 2,
   "outputs": [],
   "source": [
    "survive = [49,58,75,110,112,132,151,276,281,362]\n",
    "survive = np.array(survive)\n",
    "week = list(range(1, len(survive) + 1))"
   ],
   "metadata": {
    "collapsed": false,
    "pycharm": {
     "name": "#%%\n"
    }
   }
  },
  {
   "cell_type": "markdown",
   "source": [
    "\\begin{equation}\n",
    "H_0: med{X} = 200\n",
    "\\end{equation}\n",
    "\n",
    "\\begin{equation}\n",
    "H_1: med{X} \\neq 200\n",
    "\\end{equation}"
   ],
   "metadata": {
    "collapsed": false,
    "pycharm": {
     "name": "#%% md\n"
    }
   }
  },
  {
   "cell_type": "code",
   "execution_count": 3,
   "outputs": [
    {
     "data": {
      "text/plain": "<BarContainer object of 10 artists>"
     },
     "execution_count": 3,
     "metadata": {},
     "output_type": "execute_result"
    },
    {
     "data": {
      "text/plain": "<Figure size 432x288 with 1 Axes>",
      "image/png": "[encoded data removed]"
     },
     "metadata": {
      "needs_background": "light"
     },
     "output_type": "display_data"
    }
   ],
   "source": [
    "plt.bar(range(len(survive)), survive)"
   ],
   "metadata": {
    "collapsed": false,
    "pycharm": {
     "name": "#%%\n"
    }
   }
  },
  {
   "cell_type": "code",
   "execution_count": 4,
   "outputs": [
    {
     "data": {
      "text/plain": "0.2845"
     },
     "execution_count": 4,
     "metadata": {},
     "output_type": "execute_result"
    }
   ],
   "source": [
    "median = 200\n",
    "round(stats.wilcoxon(survive - median, mode='approx')[1],4)"
   ],
   "metadata": {
    "collapsed": false,
    "pycharm": {
     "name": "#%%\n"
    }
   }
  },
  {
   "cell_type": "code",
   "execution_count": 5,
   "outputs": [],
   "source": [
    "forest_natural = np.array([22,22,15,13,19,19,18,20,21,13,13,15])\n",
    "forest_humanity = np.array([17,18,18,15,12,4,14,15,10])"
   ],
   "metadata": {
    "collapsed": false,
    "pycharm": {
     "name": "#%%\n"
    }
   }
  },
  {
   "cell_type": "markdown",
   "source": [
    "\\begin{equation}\n",
    "H_0: F_{X_1}(x) = F_{X_2}(x)\n",
    "\\end{equation}\n",
    "\n",
    "\\begin{equation}\n",
    "H_1: F_{X_1}(x) = F_{X_2}(x + \\Delta)\n",
    "\\end{equation}"
   ],
   "metadata": {
    "collapsed": false,
    "pycharm": {
     "name": "#%% md\n"
    }
   }
  },
  {
   "cell_type": "code",
   "execution_count": 6,
   "outputs": [
    {
     "data": {
      "text/plain": "0.029"
     },
     "execution_count": 6,
     "metadata": {},
     "output_type": "execute_result"
    }
   ],
   "source": [
    "round(stats.mannwhitneyu(forest_humanity, forest_natural, alternative='less')[1],4)"
   ],
   "metadata": {
    "collapsed": false,
    "pycharm": {
     "name": "#%%\n"
    }
   }
  },
  {
   "cell_type": "markdown",
   "source": [
    "28 января 1986 года космический шаттл \"Челленджер\" взорвался при взлёте. Семь астронавтов, находившихся на борту, погибли. В ходе расследования причин катастрофы основной версией была неполадка с резиновыми уплотнительными кольцами в соединении с ракетными ускорителями. Для 23 предшествовавших катастрофе полётов \"Челленджера\" известны температура воздуха и появление повреждений хотя бы у одного из уплотнительных колец.\n",
    "\n",
    "С помощью бутстрепа постройте 95% доверительный интервал для разности средних температур воздуха при запусках, когда уплотнительные кольца повреждались, и запусках, когда повреждений не было. Чему равна его ближайшая к нулю граница? Округлите до четырёх знаков после запятой.\n",
    "\n",
    "Чтобы получить в точности такой же доверительный интервал, как у нас:\n",
    "\n",
    "установите random seed = 0 перед первым вызовом функции get_bootstrap_samples, один раз\n",
    "сделайте по 1000 псевдовыборок из каждой выборки."
   ],
   "metadata": {
    "collapsed": false,
    "pycharm": {
     "name": "#%% md\n"
    }
   }
  },
  {
   "cell_type": "code",
   "execution_count": 7,
   "outputs": [],
   "source": [
    "import pandas as pd"
   ],
   "metadata": {
    "collapsed": false,
    "pycharm": {
     "name": "#%%\n"
    }
   }
  },
  {
   "cell_type": "code",
   "execution_count": 8,
   "outputs": [
    {
     "data": {
      "text/plain": "       Date  Temperature  Incident\n0  Apr12.81         18.9         0\n1  Nov12.81         21.1         1\n2  Mar22.82         20.6         0\n3  Nov11.82         20.0         0\n4  Apr04.83         19.4         0",
      "text/html": "<div>\n<style scoped>\n    .dataframe tbody tr th:only-of-type {\n        vertical-align: middle;\n    }\n\n    .dataframe tbody tr th {\n        vertical-align: top;\n    }\n\n    .dataframe thead th {\n        text-align: right;\n    }\n</style>\n<table border=\"1\" class=\"dataframe\">\n  <thead>\n    <tr style=\"text-align: right;\">\n      <th></th>\n      <th>Date</th>\n      <th>Temperature</th>\n      <th>Incident</th>\n    </tr>\n  </thead>\n  <tbody>\n    <tr>\n      <th>0</th>\n      <td>Apr12.81</td>\n      <td>18.9</td>\n      <td>0</td>\n    </tr>\n    <tr>\n      <th>1</th>\n      <td>Nov12.81</td>\n      <td>21.1</td>\n      <td>1</td>\n    </tr>\n    <tr>\n      <th>2</th>\n      <td>Mar22.82</td>\n      <td>20.6</td>\n      <td>0</td>\n    </tr>\n    <tr>\n      <th>3</th>\n      <td>Nov11.82</td>\n      <td>20.0</td>\n      <td>0</td>\n    </tr>\n    <tr>\n      <th>4</th>\n      <td>Apr04.83</td>\n      <td>19.4</td>\n      <td>0</td>\n    </tr>\n  </tbody>\n</table>\n</div>"
     },
     "execution_count": 8,
     "metadata": {},
     "output_type": "execute_result"
    }
   ],
   "source": [
    "challenger_data = pd.read_csv(\"challenger.txt\", header=0, sep='\\t')\n",
    "challenger_data.columns = ['Date', 'Temperature', 'Incident']\n",
    "challenger_data.head()"
   ],
   "metadata": {
    "collapsed": false,
    "pycharm": {
     "name": "#%%\n"
    }
   }
  },
  {
   "cell_type": "code",
   "execution_count": 19,
   "outputs": [
    {
     "name": "stdout",
     "output_type": "stream",
     "text": [
      "Shape clean: (16,)\n",
      "Shape damage: (7,)\n"
     ]
    }
   ],
   "source": [
    "challenger_damage = challenger_data[challenger_data['Incident'] == 1].Temperature.values\n",
    "challenger_clean = challenger_data[challenger_data['Incident'] == 0].Temperature.values\n",
    "print('Shape clean:', challenger_clean.shape)\n",
    "print('Shape damage:', challenger_damage.shape)"
   ],
   "metadata": {
    "collapsed": false,
    "pycharm": {
     "name": "#%%\n"
    }
   }
  },
  {
   "cell_type": "code",
   "execution_count": 10,
   "outputs": [
    {
     "name": "stdout",
     "output_type": "stream",
     "text": [
      "Clean: (20.961457789002573, 23.601042210997427)\n",
      "Damage: (14.258978339107285, 20.969593089464148)\n"
     ]
    }
   ],
   "source": [
    "print('Clean:', zconfint(challenger_clean))\n",
    "print('Damage:', zconfint(challenger_damage))\n",
    "#   Совсем немного пересекаются"
   ],
   "metadata": {
    "collapsed": false,
    "pycharm": {
     "name": "#%%\n"
    }
   }
  },
  {
   "cell_type": "code",
   "execution_count": 28,
   "outputs": [
    {
     "name": "stdout",
     "output_type": "stream",
     "text": [
      "CLEAN: [21.06875  23.575625]\n",
      "DAMAGE: [14.5125     20.71607143]\n",
      "SUBTRACT: [1.42299107 7.93861607]\n"
     ]
    }
   ],
   "source": [
    "np.random.seed(0)\n",
    "def get_bootstrap_samples(data, n_samples):\n",
    "    indices = np.random.randint(0, len(data), size=(n_samples, len(data)))\n",
    "    sample = data[indices]\n",
    "    return sample\n",
    "\n",
    "def stat_intervals(stat, alpha=.05):\n",
    "    boundaries = np.percentile(stat, [100 * alpha / 2., 100 * (1 - alpha / 2.)])\n",
    "    return boundaries\n",
    "\n",
    "clean_median = list(map(np.mean, get_bootstrap_samples(challenger_clean, 1000)))\n",
    "damage_median = list(map(np.mean, get_bootstrap_samples(challenger_damage, 1000)))\n",
    "print('CLEAN:', stat_intervals(clean_median))\n",
    "print('DAMAGE:', stat_intervals(damage_median))\n",
    "\n",
    "print('SUBTRACT:', stat_intervals(np.array(clean_median) - np.array(damage_median)))"
   ],
   "metadata": {
    "collapsed": false,
    "pycharm": {
     "name": "#%%\n"
    }
   }
  },
  {
   "cell_type": "code",
   "execution_count": 35,
   "outputs": [
    {
     "name": "stdout",
     "output_type": "stream",
     "text": [
      "-4.666964285714283\n"
     ]
    },
    {
     "data": {
      "text/plain": "0.0057"
     },
     "execution_count": 35,
     "metadata": {},
     "output_type": "execute_result"
    },
    {
     "data": {
      "text/plain": "<Figure size 432x288 with 1 Axes>",
      "image/png": "[encoded data removed]"
     },
     "metadata": {
      "needs_background": "light"
     },
     "output_type": "display_data"
    }
   ],
   "source": [
    "import itertools\n",
    "def samples_test(sample, mean, max_permutations=None, alternative='two-sided'):\n",
    "    if alternative not in ('two-sided', 'greater', 'less'):\n",
    "        raise ValueError('Unknown Alternative')\n",
    "    t_stat = get_t_stat_permutations(sample, mean)\n",
    "    print(t_stat)\n",
    "    zero_distr = get_zero_distr(sample, mean, max_permutations)\n",
    "    plt.hist(zero_distr)\n",
    "    if alternative == 'two-sided':\n",
    "        return sum([1. if abs(x) >= abs(t_stat) else 0. for x in zero_distr]) / len(zero_distr)\n",
    "\n",
    "    if alternative == 'greater':\n",
    "        return sum([1. if x >= t_stat else 0. for x in zero_distr]) / len(zero_distr)\n",
    "\n",
    "    if alternative == 'less':\n",
    "        return sum([1. if x <= t_stat else 0. for x in zero_distr]) / len(zero_distr)\n",
    "\n",
    "def get_t_stat_permutations(sample, sample2):\n",
    "    return np.mean(sample) - np.mean(sample2)\n",
    "\n",
    "def get_zero_distr(sample1, sample2, max_permutations=None):\n",
    "    joined_sample = np.hstack((sample1, sample2))\n",
    "    n1 = len(sample1)\n",
    "    n = len(joined_sample)\n",
    "    if max_permutations:\n",
    "        indices = create_combinations(n1, len(sample2), max_permutations)\n",
    "    else:\n",
    "        indices = [(list(buffer), list(filter(lambda i: i not in buffer, range(n)))) for buffer in itertools.combinations(range(n), n1)]\n",
    "    distr = [joined_sample[list(i[0])].mean() - joined_sample[list(i[1])].mean() for i in indices]\n",
    "    return distr\n",
    "\n",
    "def create_combinations(n1, n2, max_permutations):\n",
    "    index = list(range(n1 + n2))\n",
    "    indices = set([tuple(index)])\n",
    "    for i in range(max_permutations - 1):\n",
    "        np.random.shuffle(index)\n",
    "        indices.add(tuple(index))\n",
    "    return [(index[:n1], index[n1:]) for index in indices]\n",
    "\n",
    "np.random.seed(0)\n",
    "samples_test(challenger_damage, challenger_clean, max_permutations=10000, alternative='two-sided')"
   ],
   "metadata": {
    "collapsed": false,
    "pycharm": {
     "name": "#%%\n"
    }
   }
  }
 ],
 "metadata": {
  "kernelspec": {
   "display_name": "Python 3",
   "language": "python",
   "name": "python3"
  },
  "language_info": {
   "codemirror_mode": {
    "name": "ipython",
    "version": 2
   },
   "file_extension": ".py",
   "mimetype": "text/x-python",
   "name": "python",
   "nbconvert_exporter": "python",
   "pygments_lexer": "ipython2",
   "version": "2.7.6"
  }
 },
 "nbformat": 4,
 "nbformat_minor": 0
}