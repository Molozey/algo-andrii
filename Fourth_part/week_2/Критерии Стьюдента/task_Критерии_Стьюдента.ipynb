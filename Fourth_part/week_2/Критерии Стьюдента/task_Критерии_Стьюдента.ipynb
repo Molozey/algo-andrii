{
 "cells": [
  {
   "cell_type": "code",
   "execution_count": 98,
   "metadata": {
    "collapsed": true
   },
   "outputs": [],
   "source": [
    "import numpy as np\n",
    "import matplotlib.pylab as plt\n",
    "from statsmodels.stats.weightstats import *\n",
    "import scipy.stats as stats\n",
    "import pandas as pd\n",
    "from sklearn import model_selection, linear_model, tree, metrics, ensemble"
   ]
  },
  {
   "cell_type": "code",
   "execution_count": 73,
   "outputs": [
    {
     "name": "stdout",
     "output_type": "stream",
     "text": [
      "0.0269\n"
     ]
    },
    {
     "data": {
      "text/plain": "<Figure size 720x360 with 1 Axes>",
      "image/png": "[encoded data removed]"
     },
     "metadata": {
      "needs_background": "light"
     },
     "output_type": "display_data"
    }
   ],
   "source": [
    "healthy_women_mean = 9.5\n",
    "healthy_women_std = 0.4\n",
    "pregnant_women_mean = 9.57\n",
    "n = 160\n",
    "x = np.linspace(-5,5,1000)\n",
    "plt.figure(figsize=(10,5))\n",
    "plt.plot(x, stats.norm.pdf(x), color='blue')\n",
    "Z = (pregnant_women_mean - healthy_women_mean) / (healthy_women_std / np.sqrt(n))\n",
    "print(f\"{2 * stats.norm.sf(abs(Z)):.4f}\")"
   ],
   "metadata": {
    "collapsed": false,
    "pycharm": {
     "name": "#%%\n"
    }
   }
  },
  {
   "cell_type": "code",
   "execution_count": 54,
   "outputs": [
    {
     "data": {
      "text/plain": "[<matplotlib.lines.Line2D at 0x123c9af70>]"
     },
     "execution_count": 54,
     "metadata": {},
     "output_type": "execute_result"
    },
    {
     "data": {
      "text/plain": "<Figure size 432x288 with 1 Axes>",
      "image/png": "[encoded data removed]"
     },
     "metadata": {
      "needs_background": "light"
     },
     "output_type": "display_data"
    }
   ],
   "source": [
    "\"\"\"\n",
    "baby_norm = 3300\n",
    "baby_bad = 2800\n",
    "n = 25\n",
    "babe_bad_program = 3075\n",
    "x = np.linspace(-6,6,1000)\n",
    "plt.plot(x, stats.t(df=n-1, scale=1.5).pdf(x), color='b')\n",
    "y = list(filter(lambda a: a<-2, x))\n",
    "\n",
    "plt.plot(y, stats.t(df=n-1).pdf(y), color='r')\n",
    "\n",
    "sumator = 0\n",
    "for i in range(1, len(x)):\n",
    "    _ = x[i]\n",
    "    if _ > -2:\n",
    "        break\n",
    "    else:\n",
    "        sumator += (_ - x[i-1]) * stats.t(df=n-1).pdf(_)\n",
    "\n",
    "sumator * 2\n",
    "\"\"\""
   ],
   "metadata": {
    "collapsed": false,
    "pycharm": {
     "name": "#%%\n"
    }
   }
  },
  {
   "cell_type": "code",
   "execution_count": 76,
   "outputs": [
    {
     "data": {
      "text/plain": "       carat  depth  table  price     x     y     z\n0       0.23   61.5   55.0    326  3.95  3.98  2.43\n1       0.21   59.8   61.0    326  3.89  3.84  2.31\n2       0.23   56.9   65.0    327  4.05  4.07  2.31\n3       0.29   62.4   58.0    334  4.20  4.23  2.63\n4       0.31   63.3   58.0    335  4.34  4.35  2.75\n...      ...    ...    ...    ...   ...   ...   ...\n53935   0.72   60.8   57.0   2757  5.75  5.76  3.50\n53936   0.72   63.1   55.0   2757  5.69  5.75  3.61\n53937   0.70   62.8   60.0   2757  5.66  5.68  3.56\n53938   0.86   61.0   58.0   2757  6.15  6.12  3.74\n53939   0.75   62.2   55.0   2757  5.83  5.87  3.64\n\n[53940 rows x 7 columns]",
      "text/html": "<div>\n<style scoped>\n    .dataframe tbody tr th:only-of-type {\n        vertical-align: middle;\n    }\n\n    .dataframe tbody tr th {\n        vertical-align: top;\n    }\n\n    .dataframe thead th {\n        text-align: right;\n    }\n</style>\n<table border=\"1\" class=\"dataframe\">\n  <thead>\n    <tr style=\"text-align: right;\">\n      <th></th>\n      <th>carat</th>\n      <th>depth</th>\n      <th>table</th>\n      <th>price</th>\n      <th>x</th>\n      <th>y</th>\n      <th>z</th>\n    </tr>\n  </thead>\n  <tbody>\n    <tr>\n      <th>0</th>\n      <td>0.23</td>\n      <td>61.5</td>\n      <td>55.0</td>\n      <td>326</td>\n      <td>3.95</td>\n      <td>3.98</td>\n      <td>2.43</td>\n    </tr>\n    <tr>\n      <th>1</th>\n      <td>0.21</td>\n      <td>59.8</td>\n      <td>61.0</td>\n      <td>326</td>\n      <td>3.89</td>\n      <td>3.84</td>\n      <td>2.31</td>\n    </tr>\n    <tr>\n      <th>2</th>\n      <td>0.23</td>\n      <td>56.9</td>\n      <td>65.0</td>\n      <td>327</td>\n      <td>4.05</td>\n      <td>4.07</td>\n      <td>2.31</td>\n    </tr>\n    <tr>\n      <th>3</th>\n      <td>0.29</td>\n      <td>62.4</td>\n      <td>58.0</td>\n      <td>334</td>\n      <td>4.20</td>\n      <td>4.23</td>\n      <td>2.63</td>\n    </tr>\n    <tr>\n      <th>4</th>\n      <td>0.31</td>\n      <td>63.3</td>\n      <td>58.0</td>\n      <td>335</td>\n      <td>4.34</td>\n      <td>4.35</td>\n      <td>2.75</td>\n    </tr>\n    <tr>\n      <th>...</th>\n      <td>...</td>\n      <td>...</td>\n      <td>...</td>\n      <td>...</td>\n      <td>...</td>\n      <td>...</td>\n      <td>...</td>\n    </tr>\n    <tr>\n      <th>53935</th>\n      <td>0.72</td>\n      <td>60.8</td>\n      <td>57.0</td>\n      <td>2757</td>\n      <td>5.75</td>\n      <td>5.76</td>\n      <td>3.50</td>\n    </tr>\n    <tr>\n      <th>53936</th>\n      <td>0.72</td>\n      <td>63.1</td>\n      <td>55.0</td>\n      <td>2757</td>\n      <td>5.69</td>\n      <td>5.75</td>\n      <td>3.61</td>\n    </tr>\n    <tr>\n      <th>53937</th>\n      <td>0.70</td>\n      <td>62.8</td>\n      <td>60.0</td>\n      <td>2757</td>\n      <td>5.66</td>\n      <td>5.68</td>\n      <td>3.56</td>\n    </tr>\n    <tr>\n      <th>53938</th>\n      <td>0.86</td>\n      <td>61.0</td>\n      <td>58.0</td>\n      <td>2757</td>\n      <td>6.15</td>\n      <td>6.12</td>\n      <td>3.74</td>\n    </tr>\n    <tr>\n      <th>53939</th>\n      <td>0.75</td>\n      <td>62.2</td>\n      <td>55.0</td>\n      <td>2757</td>\n      <td>5.83</td>\n      <td>5.87</td>\n      <td>3.64</td>\n    </tr>\n  </tbody>\n</table>\n<p>53940 rows × 7 columns</p>\n</div>"
     },
     "execution_count": 76,
     "metadata": {},
     "output_type": "execute_result"
    }
   ],
   "source": [
    "diamonds_data = pd.read_csv('diamonds.txt', header=0, sep='\\t')"
   ],
   "metadata": {
    "collapsed": false,
    "pycharm": {
     "name": "#%%\n"
    }
   }
  },
  {
   "cell_type": "code",
   "execution_count": 81,
   "outputs": [],
   "source": [
    "train, test = model_selection.train_test_split(diamonds_data, test_size=0.25, random_state=1)"
   ],
   "metadata": {
    "collapsed": false,
    "pycharm": {
     "name": "#%%\n"
    }
   }
  },
  {
   "cell_type": "code",
   "execution_count": 88,
   "outputs": [],
   "source": [
    "X_train = train.drop('price', axis=1).values\n",
    "y_train = train['price'].values\n",
    "X_test = test.drop('price', axis=1).values\n",
    "y_test = test['price'].values"
   ],
   "metadata": {
    "collapsed": false,
    "pycharm": {
     "name": "#%%\n"
    }
   }
  },
  {
   "cell_type": "code",
   "execution_count": 97,
   "outputs": [
    {
     "data": {
      "text/plain": "890.3764004285592"
     },
     "execution_count": 97,
     "metadata": {},
     "output_type": "execute_result"
    }
   ],
   "source": [
    "linear_regression = linear_model.LinearRegression()\n",
    "linear_regression.fit(X_train, y_train)\n",
    "metrics.mean_absolute_error(y_test, linear_regression.predict(X_test))"
   ],
   "metadata": {
    "collapsed": false,
    "pycharm": {
     "name": "#%%\n"
    }
   }
  },
  {
   "cell_type": "code",
   "execution_count": 99,
   "outputs": [
    {
     "data": {
      "text/plain": "802.9205172724115"
     },
     "execution_count": 99,
     "metadata": {},
     "output_type": "execute_result"
    }
   ],
   "source": [
    "random_forest = ensemble.RandomForestRegressor(n_estimators=10, random_state=1)\n",
    "random_forest.fit(X_train, y_train)\n",
    "metrics.mean_absolute_error(y_test, random_forest.predict(X_test))"
   ],
   "metadata": {
    "collapsed": false,
    "pycharm": {
     "name": "#%%\n"
    }
   }
  },
  {
   "cell_type": "code",
   "execution_count": 100,
   "outputs": [],
   "source": [
    "import scipy.stats as stats"
   ],
   "metadata": {
    "collapsed": false,
    "pycharm": {
     "name": "#%%\n"
    }
   }
  },
  {
   "cell_type": "code",
   "execution_count": 157,
   "outputs": [
    {
     "data": {
      "text/plain": "<Figure size 864x360 with 2 Axes>",
      "image/png": "[encoded data removed]"
     },
     "metadata": {
      "needs_background": "light"
     },
     "output_type": "display_data"
    }
   ],
   "source": [
    "fig, ax = plt.subplots(1,2, sharex=True, sharey=False, figsize=(12,5))\n",
    "ax[0].set_xlabel('Цена алмаза')\n",
    "ax[1].set_xlabel('Цена алмаза')\n",
    "ax[0].set_ylabel('Частота')\n",
    "ax[1].set_ylabel('Частота')\n",
    "ax[0].hist(linear_regression.predict(X_test), bins=30, color='b')\n",
    "ax[0].grid()\n",
    "ax[0].set_title('Линейная регрессия')\n",
    "ax[0].set_xlim([0, 30000])\n",
    "ax[1].hist(random_forest.predict(X_test), bins=30, color='r')\n",
    "ax[1].set_xlim([0, 30000])\n",
    "ax[1].grid()\n",
    "ax[1].set_title('Случайный лес')\n",
    "plt.show()\n",
    "\n"
   ],
   "metadata": {
    "collapsed": false,
    "pycharm": {
     "name": "#%%\n"
    }
   }
  },
  {
   "cell_type": "code",
   "execution_count": 165,
   "outputs": [],
   "source": [
    "forest_mod = np.array(list(map(lambda t,t1: abs(t-t1), random_forest.predict(X_test), y_test)))\n",
    "linear_mod= np.array(list(map(lambda t,t1: abs(t - t1), linear_regression.predict(X_test), y_test)))"
   ],
   "metadata": {
    "collapsed": false,
    "pycharm": {
     "name": "#%%\n"
    }
   }
  },
  {
   "cell_type": "code",
   "execution_count": 169,
   "outputs": [
    {
     "data": {
      "text/plain": "ShapiroResult(statistic=0.8758517503738403, pvalue=3.0086070847722514e-37)"
     },
     "execution_count": 169,
     "metadata": {},
     "output_type": "execute_result"
    },
    {
     "data": {
      "text/plain": "<Figure size 432x288 with 1 Axes>",
      "image/png": "[encoded data removed]"
     },
     "metadata": {
      "needs_background": "light"
     },
     "output_type": "display_data"
    }
   ],
   "source": [
    "stats.probplot(forest_mod - linear_mod, dist=\"norm\", plot=plt)\n",
    "stats.shapiro(forest_mod[:2000] - linear_mod[:2000])"
   ],
   "metadata": {
    "collapsed": false,
    "pycharm": {
     "name": "#%%\n"
    }
   }
  },
  {
   "cell_type": "code",
   "execution_count": 173,
   "outputs": [
    {
     "data": {
      "text/plain": "Ttest_relResult(statistic=13.017729783878393, pvalue=1.655174575144972e-38)"
     },
     "execution_count": 173,
     "metadata": {},
     "output_type": "execute_result"
    }
   ],
   "source": [
    "stats.ttest_rel(linear_mod, forest_mod)"
   ],
   "metadata": {
    "collapsed": false,
    "pycharm": {
     "name": "#%%\n"
    }
   }
  },
  {
   "cell_type": "code",
   "execution_count": 174,
   "outputs": [
    {
     "name": "stdout",
     "output_type": "stream",
     "text": [
      "(59.8319483338272, 115.07981797846753)\n"
     ]
    }
   ],
   "source": [
    "from statsmodels.stats.weightstats import *\n",
    "compare_Means = CompareMeans(DescrStatsW(linear_mod), DescrStatsW(forest_mod))\n",
    "print(compare_Means.tconfint_diff(alpha=0.05))"
   ],
   "metadata": {
    "collapsed": false,
    "pycharm": {
     "name": "#%%\n"
    }
   }
  },
  {
   "cell_type": "code",
   "execution_count": 176,
   "outputs": [
    {
     "name": "stdout",
     "output_type": "stream",
     "text": [
      "(74.2872453259534, 100.62452098634195)\n"
     ]
    }
   ],
   "source": [
    "print(DescrStatsW(linear_mod - forest_mod).tconfint_mean(alpha=.05))"
   ],
   "metadata": {
    "collapsed": false,
    "pycharm": {
     "name": "#%%\n"
    }
   }
  }
 ],
 "metadata": {
  "kernelspec": {
   "display_name": "Python 3",
   "language": "python",
   "name": "python3"
  },
  "language_info": {
   "codemirror_mode": {
    "name": "ipython",
    "version": 2
   },
   "file_extension": ".py",
   "mimetype": "text/x-python",
   "name": "python",
   "nbconvert_exporter": "python",
   "pygments_lexer": "ipython2",
   "version": "2.7.6"
  }
 },
 "nbformat": 4,
 "nbformat_minor": 0
}