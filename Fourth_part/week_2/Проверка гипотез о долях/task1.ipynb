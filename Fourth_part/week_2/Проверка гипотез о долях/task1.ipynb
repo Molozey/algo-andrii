{
 "cells": [
  {
   "cell_type": "code",
   "execution_count": 1,
   "metadata": {
    "collapsed": true
   },
   "outputs": [],
   "source": [
    "import scipy.stats as stats\n",
    "import numpy as np\n",
    "import pandas as pd\n",
    "from statsmodels.stats.weightstats import *\n",
    "from statsmodels.stats.proportion import *\n"
   ]
  },
  {
   "cell_type": "markdown",
   "source": [
    "В одном из выпусков программы \"Разрушители легенд\" проверялось, действительно ли заразительна зевота. В эксперименте участвовало 50 испытуемых, проходивших собеседование на программу. Каждый из них разговаривал с рекрутером; в конце 34 из 50 бесед рекрутер зевал. Затем испытуемых просили подождать решения рекрутера в соседней пустой комнате.\n",
    "\n",
    "Во время ожидания 10 из 34 испытуемых экспериментальной группы и 4 из 16 испытуемых контрольной начали зевать. Таким образом, разница в доле зевающих людей в этих двух группах составила примерно 4.4%. Ведущие заключили, что миф о заразительности зевоты подтверждён.\n",
    "\n",
    "Можно ли утверждать, что доли зевающих в контрольной и экспериментальной группах отличаются статистически значимо? Посчитайте достигаемый уровень значимости при альтернативе заразительности зевоты, округлите до четырёх знаков после десятичной точки."
   ],
   "metadata": {
    "collapsed": false,
    "pycharm": {
     "name": "#%% md\n"
    }
   }
  },
  {
   "cell_type": "code",
   "execution_count": 3,
   "outputs": [],
   "source": [
    "NUMBER_OF_HUMAN = 50\n",
    "HEADHUNT_NUMBER_1 = 34\n",
    "HEADHUNT_NUMBER_0 = 16\n",
    "HEAD_1_SUCCESS = 10\n",
    "HEAD_0_SUCCESS = 4"
   ],
   "metadata": {
    "collapsed": false,
    "pycharm": {
     "name": "#%%\n"
    }
   }
  },
  {
   "cell_type": "code",
   "execution_count": 4,
   "outputs": [
    {
     "name": "stdout",
     "output_type": "stream",
     "text": [
      "mean 1: 0.29411764705882354, mean 2: 0.25\n"
     ]
    }
   ],
   "source": [
    "#   Выборки не связаны\n",
    "mean_group_1 = HEAD_1_SUCCESS / HEADHUNT_NUMBER_1\n",
    "mean_group_2 = HEAD_0_SUCCESS / HEADHUNT_NUMBER_0\n",
    "print(f'mean 1: {mean_group_1}, mean 2: {mean_group_2}')"
   ],
   "metadata": {
    "collapsed": false,
    "pycharm": {
     "name": "#%%\n"
    }
   }
  },
  {
   "cell_type": "code",
   "execution_count": 10,
   "outputs": [
    {
     "data": {
      "text/plain": "(0.1409611811913692, 0.4472741129262779)"
     },
     "execution_count": 10,
     "metadata": {},
     "output_type": "execute_result"
    }
   ],
   "source": [
    "def quantile_interval(data, alpha=0.05):\n",
    "    z_quantile = stats.norm.ppf(1 - alpha/2.)\n",
    "    p = sum(data) / len(data)\n",
    "    add_sum = z_quantile * np.sqrt(p * (1 - p)/ len(data))\n",
    "    return p - add_sum, p + add_sum\n",
    "\n",
    "array1 = [1] * HEAD_1_SUCCESS + [0] * (HEADHUNT_NUMBER_1 - HEAD_1_SUCCESS)\n",
    "array2 = [1] * HEAD_0_SUCCESS + [0] * (HEADHUNT_NUMBER_0 - HEAD_0_SUCCESS)\n",
    "quantile_interval(array1)"
   ],
   "metadata": {
    "collapsed": false,
    "pycharm": {
     "name": "#%%\n"
    }
   }
  },
  {
   "cell_type": "code",
   "execution_count": 9,
   "outputs": [
    {
     "name": "stdout",
     "output_type": "stream",
     "text": [
      "YES: (0.16834630670422424, 0.4616890979471444)\n",
      "NO: (0.10182067491213043, 0.4949831653550878)\n"
     ]
    }
   ],
   "source": [
    "#   Чтобы не писать метод для Уилсона, он уесть в proportion_confint\n",
    "print('YES:',proportion_confint(HEAD_1_SUCCESS, HEADHUNT_NUMBER_1, alpha=0.05, method='wilson'))\n",
    "print('NO:',proportion_confint(HEAD_0_SUCCESS, HEADHUNT_NUMBER_0, alpha=0.05, method='wilson'))"
   ],
   "metadata": {
    "collapsed": false,
    "pycharm": {
     "name": "#%%\n"
    }
   }
  },
  {
   "cell_type": "markdown",
   "source": [
    "###   Хочется понять значимость, а интервалы пересекаются, значит двухвыборочная несвязанная модель"
   ],
   "metadata": {
    "collapsed": false,
    "pycharm": {
     "name": "#%% md\n"
    }
   }
  },
  {
   "cell_type": "code",
   "execution_count": 19,
   "outputs": [
    {
     "name": "stdout",
     "output_type": "stream",
     "text": [
      "0.3729\n"
     ]
    }
   ],
   "source": [
    "def confint_not_linked_greater(data1, data2, alpha=0.05):\n",
    "    p1 = sum(data1) / len(data1)\n",
    "    p2 = sum(data2) / len(data2)\n",
    "    P = (p1 * len(data1) + p2 * len(data2)) / (len(data1) + len(data2))\n",
    "    Z_stat = (p1 - p2) / np.sqrt(P * (1 - P) * ((1 / len(data1)) + (1 / len(data2))))\n",
    "    return stats.norm.sf(Z_stat)\n",
    "\n",
    "print(f\"{confint_not_linked_greater(array1, array2, alpha=.05):.4f}\")"
   ],
   "metadata": {
    "collapsed": false,
    "pycharm": {
     "name": "#%%\n"
    }
   }
  },
  {
   "cell_type": "markdown",
   "source": [
    "### Задача о банкнотах"
   ],
   "metadata": {
    "collapsed": false,
    "pycharm": {
     "name": "#%% md\n"
    }
   }
  },
  {
   "cell_type": "code",
   "execution_count": 20,
   "outputs": [
    {
     "data": {
      "text/plain": "        X1     X2     X3    X4    X5     X6  real\n0    214.8  131.0  131.1   9.0   9.7  141.0     1\n1    214.6  129.7  129.7   8.1   9.5  141.7     1\n2    214.8  129.7  129.7   8.7   9.6  142.2     1\n3    214.8  129.7  129.6   7.5  10.4  142.0     1\n4    215.0  129.6  129.7  10.4   7.7  141.8     1\n..     ...    ...    ...   ...   ...    ...   ...\n195  215.0  130.4  130.3   9.9  12.1  139.6     0\n196  215.1  130.3  129.9  10.3  11.5  139.7     0\n197  214.8  130.3  130.4  10.6  11.1  140.0     0\n198  214.7  130.7  130.8  11.2  11.2  139.4     0\n199  214.3  129.9  129.9  10.2  11.5  139.6     0\n\n[200 rows x 7 columns]",
      "text/html": "<div>\n<style scoped>\n    .dataframe tbody tr th:only-of-type {\n        vertical-align: middle;\n    }\n\n    .dataframe tbody tr th {\n        vertical-align: top;\n    }\n\n    .dataframe thead th {\n        text-align: right;\n    }\n</style>\n<table border=\"1\" class=\"dataframe\">\n  <thead>\n    <tr style=\"text-align: right;\">\n      <th></th>\n      <th>X1</th>\n      <th>X2</th>\n      <th>X3</th>\n      <th>X4</th>\n      <th>X5</th>\n      <th>X6</th>\n      <th>real</th>\n    </tr>\n  </thead>\n  <tbody>\n    <tr>\n      <th>0</th>\n      <td>214.8</td>\n      <td>131.0</td>\n      <td>131.1</td>\n      <td>9.0</td>\n      <td>9.7</td>\n      <td>141.0</td>\n      <td>1</td>\n    </tr>\n    <tr>\n      <th>1</th>\n      <td>214.6</td>\n      <td>129.7</td>\n      <td>129.7</td>\n      <td>8.1</td>\n      <td>9.5</td>\n      <td>141.7</td>\n      <td>1</td>\n    </tr>\n    <tr>\n      <th>2</th>\n      <td>214.8</td>\n      <td>129.7</td>\n      <td>129.7</td>\n      <td>8.7</td>\n      <td>9.6</td>\n      <td>142.2</td>\n      <td>1</td>\n    </tr>\n    <tr>\n      <th>3</th>\n      <td>214.8</td>\n      <td>129.7</td>\n      <td>129.6</td>\n      <td>7.5</td>\n      <td>10.4</td>\n      <td>142.0</td>\n      <td>1</td>\n    </tr>\n    <tr>\n      <th>4</th>\n      <td>215.0</td>\n      <td>129.6</td>\n      <td>129.7</td>\n      <td>10.4</td>\n      <td>7.7</td>\n      <td>141.8</td>\n      <td>1</td>\n    </tr>\n    <tr>\n      <th>...</th>\n      <td>...</td>\n      <td>...</td>\n      <td>...</td>\n      <td>...</td>\n      <td>...</td>\n      <td>...</td>\n      <td>...</td>\n    </tr>\n    <tr>\n      <th>195</th>\n      <td>215.0</td>\n      <td>130.4</td>\n      <td>130.3</td>\n      <td>9.9</td>\n      <td>12.1</td>\n      <td>139.6</td>\n      <td>0</td>\n    </tr>\n    <tr>\n      <th>196</th>\n      <td>215.1</td>\n      <td>130.3</td>\n      <td>129.9</td>\n      <td>10.3</td>\n      <td>11.5</td>\n      <td>139.7</td>\n      <td>0</td>\n    </tr>\n    <tr>\n      <th>197</th>\n      <td>214.8</td>\n      <td>130.3</td>\n      <td>130.4</td>\n      <td>10.6</td>\n      <td>11.1</td>\n      <td>140.0</td>\n      <td>0</td>\n    </tr>\n    <tr>\n      <th>198</th>\n      <td>214.7</td>\n      <td>130.7</td>\n      <td>130.8</td>\n      <td>11.2</td>\n      <td>11.2</td>\n      <td>139.4</td>\n      <td>0</td>\n    </tr>\n    <tr>\n      <th>199</th>\n      <td>214.3</td>\n      <td>129.9</td>\n      <td>129.9</td>\n      <td>10.2</td>\n      <td>11.5</td>\n      <td>139.6</td>\n      <td>0</td>\n    </tr>\n  </tbody>\n</table>\n<p>200 rows × 7 columns</p>\n</div>"
     },
     "execution_count": 20,
     "metadata": {},
     "output_type": "execute_result"
    }
   ],
   "source": [
    "data = pd.read_csv('banknotes.txt', header=0, sep='\\t')\n",
    "data.head()"
   ],
   "metadata": {
    "collapsed": false,
    "pycharm": {
     "name": "#%%\n"
    }
   }
  },
  {
   "cell_type": "code",
   "execution_count": 41,
   "outputs": [],
   "source": [
    "from sklearn import model_selection, linear_model, metrics"
   ],
   "metadata": {
    "collapsed": false,
    "pycharm": {
     "name": "#%%\n"
    }
   }
  },
  {
   "cell_type": "code",
   "execution_count": 28,
   "outputs": [
    {
     "name": "stdout",
     "output_type": "stream",
     "text": [
      "TEST SHAPE: (50, 7)\n"
     ]
    }
   ],
   "source": [
    "train, test = model_selection.train_test_split(data, test_size=50, random_state=1)\n",
    "print(\"TEST SHAPE:\", test.shape)"
   ],
   "metadata": {
    "collapsed": false,
    "pycharm": {
     "name": "#%%\n"
    }
   }
  },
  {
   "cell_type": "code",
   "execution_count": 34,
   "outputs": [],
   "source": [
    "X_train = train.drop('real', axis=1)\n",
    "y_train = train['real']\n",
    "X_test = test.drop('real', axis=1)\n",
    "y_test = test['real']"
   ],
   "metadata": {
    "collapsed": false,
    "pycharm": {
     "name": "#%%\n"
    }
   }
  },
  {
   "cell_type": "code",
   "execution_count": 39,
   "outputs": [],
   "source": [
    "logistic_1_3 = linear_model.LogisticRegression(solver='liblinear')\n",
    "logistic_4_6 = linear_model.LogisticRegression(solver='liblinear')"
   ],
   "metadata": {
    "collapsed": false,
    "pycharm": {
     "name": "#%%\n"
    }
   }
  },
  {
   "cell_type": "code",
   "execution_count": 50,
   "outputs": [],
   "source": [
    "logistic_1_3.fit(X_train[['X1', 'X2', 'X3']], y_train)\n",
    "logistic_4_6.fit(X_train[['X4', 'X5', 'X6']], y_train)\n",
    "ans1 = logistic_1_3.predict(X_test[['X1', 'X2', 'X3']])\n",
    "ans2 = logistic_4_6.predict(X_test[['X4', 'X5', 'X6']])"
   ],
   "metadata": {
    "collapsed": false,
    "pycharm": {
     "name": "#%%\n"
    }
   }
  },
  {
   "cell_type": "code",
   "execution_count": 51,
   "outputs": [
    {
     "name": "stdout",
     "output_type": "stream",
     "text": [
      "1-3 0.8\n",
      "4-6 0.98\n"
     ]
    }
   ],
   "source": [
    "print('1-3',metrics.accuracy_score(y_test, ans1))\n",
    "print('4-6', metrics.accuracy_score(y_test, ans2))"
   ],
   "metadata": {
    "collapsed": false,
    "pycharm": {
     "name": "#%%\n"
    }
   }
  },
  {
   "cell_type": "code",
   "execution_count": null,
   "outputs": [],
   "source": [
    "#   Судя по всему выборки связанные так как мы заранее отделили 50 банкнот для теста"
   ],
   "metadata": {
    "collapsed": false,
    "pycharm": {
     "name": "#%%\n"
    }
   }
  },
  {
   "cell_type": "code",
   "execution_count": 64,
   "outputs": [
    {
     "name": "stdout",
     "output_type": "stream",
     "text": [
      "3.296938e-03\n",
      "[-0.3001, -0.0599]\n"
     ]
    }
   ],
   "source": [
    "samp1 = [1 if y_test.values[i] == ans1[i] else 0 for i in range(len(ans1))]\n",
    "samp2 = [1 if y_test.values[i] == ans2[i] else 0 for i in range(len(ans2))]\n",
    "def z_criteria_linked(sample1, sample2, alpha=0.05):\n",
    "    zipped = list(zip(sample1, sample2))\n",
    "    n = len(zipped)\n",
    "    f = sum([1 if x[0] == 0 and x[1] == 1 else 0 for x in zipped])\n",
    "    g = sum([1 if x[0] == 1 and x[1] == 0 else 0 for x in zipped])\n",
    "    Z_stat = (f-g) / (np.sqrt(f + g - (((f - g) ** 2) / n)))\n",
    "    return 2 * stats.norm.sf(Z_stat)\n",
    "\n",
    "def interval_linked(sample1, sample2, alpha=0.05):\n",
    "    zipped = list(zip(sample1, sample2))\n",
    "    n = len(zipped)\n",
    "    f = sum([1 if x[0] == 0 and x[1] == 1 else 0 for x in zipped])\n",
    "    g = sum([1 if x[0] == 1 and x[1] == 0 else 0 for x in zipped])\n",
    "    z_quantile = stats.norm.ppf(1 - alpha/2.)\n",
    "    add_sub = z_quantile * np.sqrt(((f + g)/ (n ** 2)) - ((f - g) ** 2/ (n ** 3)))\n",
    "    return ((f - g) / n) - add_sub, ((f - g) / n) + add_sub\n",
    "print(\"{0:e}\".format(z_criteria_linked(samp1, samp2)))\n",
    "print(\"[{0[0]:.4f}, {0[1]:.4f}]\".format(interval_linked(samp2, samp1)))"
   ],
   "metadata": {
    "collapsed": false,
    "pycharm": {
     "name": "#%%\n"
    }
   }
  },
  {
   "cell_type": "markdown",
   "source": [
    "Ежегодно более 200000 людей по всему миру сдают стандартизированный экзамен GMAT при поступлении на программы MBA. Средний результат составляет 525 баллов, стандартное отклонение — 100 баллов.\n",
    "\n",
    "Сто студентов закончили специальные подготовительные курсы и сдали экзамен. Средний полученный ими балл — 541.4. Проверьте гипотезу о неэффективности программы против односторонней альтернативы о том, что программа работает. Отвергается ли на уровне значимости 0.05 нулевая гипотеза? Введите достигаемый уровень значимости, округлённый до 4 знаков после десятичной точки."
   ],
   "metadata": {
    "collapsed": false,
    "pycharm": {
     "name": "#%% md\n"
    }
   }
  },
  {
   "cell_type": "code",
   "execution_count": 70,
   "outputs": [
    {
     "name": "stdout",
     "output_type": "stream",
     "text": [
      "0.0495\n"
     ]
    }
   ],
   "source": [
    "standart_mean = 525\n",
    "standart_std = 100\n",
    "n_group = 100\n",
    "group_mean = 541.5\n",
    "#   H0 - программа неэффективна\n",
    "#   H1 group_mean > standart_mean\n",
    "Statistic = (group_mean - standart_mean) / (standart_std / 10)\n",
    "print(f\"{stats.norm.sf(Statistic):.4f}\")"
   ],
   "metadata": {
    "collapsed": false,
    "pycharm": {
     "name": "#%%\n"
    }
   }
  }
 ],
 "metadata": {
  "kernelspec": {
   "display_name": "Python 3",
   "language": "python",
   "name": "python3"
  },
  "language_info": {
   "codemirror_mode": {
    "name": "ipython",
    "version": 2
   },
   "file_extension": ".py",
   "mimetype": "text/x-python",
   "name": "python",
   "nbconvert_exporter": "python",
   "pygments_lexer": "ipython2",
   "version": "2.7.6"
  }
 },
 "nbformat": 4,
 "nbformat_minor": 0
}