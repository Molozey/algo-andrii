{
 "cells": [
  {
   "cell_type": "code",
   "execution_count": 2,
   "metadata": {
    "collapsed": true
   },
   "outputs": [],
   "source": [
    "from scipy import stats\n",
    "import pandas as pd\n",
    "import numpy as np\n",
    "from statsmodels.stats.weightstats import zconfint"
   ]
  },
  {
   "cell_type": "code",
   "execution_count": 3,
   "outputs": [
    {
     "data": {
      "text/plain": "  location        town  mortality  hardness\n0    South        Bath       1247       105\n1    North  Birkenhead       1668        17\n2    South  Birmingham       1466         5\n3    North   Blackburn       1800        14\n4    North   Blackpool       1609        18",
      "text/html": "<div>\n<style scoped>\n    .dataframe tbody tr th:only-of-type {\n        vertical-align: middle;\n    }\n\n    .dataframe tbody tr th {\n        vertical-align: top;\n    }\n\n    .dataframe thead th {\n        text-align: right;\n    }\n</style>\n<table border=\"1\" class=\"dataframe\">\n  <thead>\n    <tr style=\"text-align: right;\">\n      <th></th>\n      <th>location</th>\n      <th>town</th>\n      <th>mortality</th>\n      <th>hardness</th>\n    </tr>\n  </thead>\n  <tbody>\n    <tr>\n      <th>0</th>\n      <td>South</td>\n      <td>Bath</td>\n      <td>1247</td>\n      <td>105</td>\n    </tr>\n    <tr>\n      <th>1</th>\n      <td>North</td>\n      <td>Birkenhead</td>\n      <td>1668</td>\n      <td>17</td>\n    </tr>\n    <tr>\n      <th>2</th>\n      <td>South</td>\n      <td>Birmingham</td>\n      <td>1466</td>\n      <td>5</td>\n    </tr>\n    <tr>\n      <th>3</th>\n      <td>North</td>\n      <td>Blackburn</td>\n      <td>1800</td>\n      <td>14</td>\n    </tr>\n    <tr>\n      <th>4</th>\n      <td>North</td>\n      <td>Blackpool</td>\n      <td>1609</td>\n      <td>18</td>\n    </tr>\n  </tbody>\n</table>\n</div>"
     },
     "execution_count": 3,
     "metadata": {},
     "output_type": "execute_result"
    }
   ],
   "source": [
    "water_data = pd.read_csv('watter.txt', sep='\\t', header=0)\n",
    "water_data.head()"
   ],
   "metadata": {
    "collapsed": false,
    "pycharm": {
     "name": "#%%\n"
    }
   }
  },
  {
   "cell_type": "code",
   "execution_count": 4,
   "outputs": [
    {
     "name": "stdout",
     "output_type": "stream",
     "text": [
      "ANS 1: -0.6548\n",
      "ANS 2: -0.6317\n"
     ]
    }
   ],
   "source": [
    "corr_data = water_data[['mortality', 'hardness']]\n",
    "print('ANS 1:', round(corr_data.corr(method='pearson').values[0,1],4))\n",
    "print('ANS 2:', round(corr_data.corr(method='spearman').values[0,1],4))"
   ],
   "metadata": {
    "collapsed": false,
    "pycharm": {
     "name": "#%%\n"
    }
   }
  },
  {
   "cell_type": "code",
   "execution_count": 5,
   "outputs": [
    {
     "name": "stdout",
     "output_type": "stream",
     "text": [
      "SOUTH\n",
      "ANS 1: -0.6022\n",
      "ANS 2: -0.5957\n"
     ]
    }
   ],
   "source": [
    "print('SOUTH')\n",
    "corr_data = water_data[water_data['location'] == 'South'][['mortality', 'hardness']]\n",
    "print('ANS 1:', round(corr_data.corr(method='pearson').values[0,1],4))\n",
    "print('ANS 2:', round(corr_data.corr(method='spearman').values[0,1],4))"
   ],
   "metadata": {
    "collapsed": false,
    "pycharm": {
     "name": "#%%\n"
    }
   }
  },
  {
   "cell_type": "code",
   "execution_count": 6,
   "outputs": [
    {
     "name": "stdout",
     "output_type": "stream",
     "text": [
      "NORTH\n",
      "ANS 1: -0.3686\n",
      "ANS 2: -0.4042\n"
     ]
    }
   ],
   "source": [
    "print('NORTH')\n",
    "corr_data = water_data[water_data['location'] == 'North'][['mortality', 'hardness']]\n",
    "print('ANS 1:', round(corr_data.corr(method='pearson').values[0,1],4))\n",
    "print('ANS 2:', round(corr_data.corr(method='spearman').values[0,1],4))"
   ],
   "metadata": {
    "collapsed": false,
    "pycharm": {
     "name": "#%%\n"
    }
   }
  },
  {
   "cell_type": "markdown",
   "source": [
    "### Task 4\n",
    "### Создадим матрицу сопряженности\n",
    "\n",
    "\n",
    "| X                     | Мужчина | Женщина |\n",
    "|-----------------------|---------|---------|\n",
    "| Хотя бы 1 раз в месяц | 239     | 203     |\n",
    "| Реже                  | 515     | 718     |"
   ],
   "metadata": {
    "collapsed": false,
    "pycharm": {
     "name": "#%% md\n"
    }
   }
  },
  {
   "cell_type": "code",
   "execution_count": 7,
   "outputs": [
    {
     "data": {
      "text/plain": "0.109"
     },
     "execution_count": 7,
     "metadata": {},
     "output_type": "execute_result"
    }
   ],
   "source": [
    "conjugation_matrix = np.array([[239, 203], [515, 718]])\n",
    "MCC = ((conjugation_matrix[0,0] * conjugation_matrix[1,1]) - (conjugation_matrix[0,1] * conjugation_matrix[1,0])) / (np.sqrt((conjugation_matrix[0,0] + conjugation_matrix[0,1]) * (conjugation_matrix[0,0] + conjugation_matrix[1,0]) * (conjugation_matrix[0,1] + conjugation_matrix[1,1]) * (conjugation_matrix[1,0] + conjugation_matrix[1,1])))\n",
    "round(MCC,3)"
   ],
   "metadata": {
    "collapsed": false,
    "pycharm": {
     "name": "#%%\n"
    }
   }
  },
  {
   "cell_type": "code",
   "execution_count": 8,
   "outputs": [
    {
     "data": {
      "text/plain": "1.0558987006638725e-05"
     },
     "execution_count": 8,
     "metadata": {},
     "output_type": "execute_result"
    }
   ],
   "source": [
    "stats.chi2_contingency(conjugation_matrix)[1]"
   ],
   "metadata": {
    "collapsed": false,
    "pycharm": {
     "name": "#%%\n"
    }
   }
  },
  {
   "cell_type": "code",
   "execution_count": 9,
   "outputs": [
    {
     "data": {
      "text/plain": "(2, 2)"
     },
     "execution_count": 9,
     "metadata": {},
     "output_type": "execute_result"
    }
   ],
   "source": [
    "conjugation_matrix.shape"
   ],
   "metadata": {
    "collapsed": false,
    "pycharm": {
     "name": "#%%\n"
    }
   }
  },
  {
   "cell_type": "code",
   "execution_count": 10,
   "outputs": [
    {
     "name": "stdout",
     "output_type": "stream",
     "text": [
      "ANS6: 0.0539\n"
     ]
    }
   ],
   "source": [
    "def calculate_confidence_interval(sample, alpha=.05):\n",
    "    z_quantile = stats.norm.ppf(1 - alpha/2.)\n",
    "    n1 = (sample[0,0] + sample[1,0])\n",
    "    n2 = (sample[0,1] + sample[1,1])\n",
    "    p1 = sample[0,0] / n1\n",
    "    p2 = sample[0,1] / n2\n",
    "    add_subtract = z_quantile * np.sqrt((p1 * (1 - p1) / n1) + (p2 * (1 - p2) / n2))\n",
    "    return p1 - p2 - add_subtract, p1 - p2 + add_subtract\n",
    "\n",
    "print('ANS6:', round(calculate_confidence_interval(conjugation_matrix)[0],4))"
   ],
   "metadata": {
    "collapsed": false,
    "pycharm": {
     "name": "#%%\n"
    }
   }
  },
  {
   "cell_type": "code",
   "execution_count": 11,
   "outputs": [
    {
     "name": "stdout",
     "output_type": "stream",
     "text": [
      "0.3169761273209549\n",
      "0.22041259500542887\n",
      "0.2638805970149254\n",
      "4.46111444482329\n"
     ]
    },
    {
     "data": {
      "text/plain": "8.153453089576601e-06"
     },
     "execution_count": 11,
     "metadata": {},
     "output_type": "execute_result"
    }
   ],
   "source": [
    "#   Task 7\n",
    "def conjugation_matrix_ttest(sample, alternative=\"two-sided\"):\n",
    "    if alternative not in ('two-sided', 'greater', 'less'):\n",
    "        raise ValueError('Unknown alternative')\n",
    "\n",
    "    a = sample[0,0]\n",
    "    b = sample[0,1]\n",
    "    c = sample[1,0]\n",
    "    d = sample[1,1]\n",
    "    n1 = a + c\n",
    "    n2 = b + d\n",
    "    p1 = a / n1\n",
    "    p2 = b / n2\n",
    "    P = ((p1 * n1) + (p2 * n2)) / (n1 + n2)\n",
    "    print(p1)\n",
    "    print(p2)\n",
    "    print(P)\n",
    "    z_stat = (p1 - p2) / np.sqrt(P * (1 - P) * ((1 / n1) + (1 / n2)))\n",
    "    print(z_stat)\n",
    "    if alternative == 'two-sided':\n",
    "        return 2 * (1 - stats.norm.cdf(np.abs(z_stat)))\n",
    "    if alternative == 'less':\n",
    "        return stats.norm.cdf(z_stat)\n",
    "    if alternative == 'greater':\n",
    "        return 1 - stats.norm.cdf(z_stat)\n",
    "\n",
    "conjugation_matrix_ttest(conjugation_matrix)"
   ],
   "metadata": {
    "collapsed": false,
    "pycharm": {
     "name": "#%%\n"
    }
   }
  },
  {
   "cell_type": "markdown",
   "source": [
    "### Task 8\n",
    "### Создадим матрицу сопряженности\n",
    "\n",
    "\n",
    "|         X         | Не доволен | Средне | Доволен |\n",
    "|:-----------------:|:----------:|:------:|:-------:|\n",
    "| Не очень счастлив |     197    |   111  |    33   |\n",
    "|       Средне      |     382    |   658  |   331   |\n",
    "|   Очень счастлив  |     110    |   342  |   333   |"
   ],
   "metadata": {
    "collapsed": false,
    "pycharm": {
     "name": "#%% md\n"
    }
   }
  },
  {
   "cell_type": "code",
   "execution_count": 16,
   "outputs": [
    {
     "data": {
      "text/plain": "(293.68311039689746,\n 2.4964299580093467e-62,\n 4,\n array([[ 93.08597464, 153.74722662,  94.16679873],\n        [381.6251981 , 630.318542  , 386.0562599 ],\n        [214.28882726, 353.93423138, 216.77694136]]))"
     },
     "execution_count": 16,
     "metadata": {},
     "output_type": "execute_result"
    }
   ],
   "source": [
    "happines = np.array([[197., 111., 33.], [382., 685., 331.], [110., 342., 333.]])\n",
    "stats.chi2_contingency(happines)"
   ],
   "metadata": {
    "collapsed": false,
    "pycharm": {
     "name": "#%%\n"
    }
   }
  },
  {
   "cell_type": "code",
   "execution_count": 21,
   "outputs": [
    {
     "data": {
      "text/plain": "0.2412"
     },
     "execution_count": 21,
     "metadata": {},
     "output_type": "execute_result"
    }
   ],
   "source": [
    "round(np.sqrt(stats.chi2_contingency(happines)[0] / (2 * happines.sum())),4)"
   ],
   "metadata": {
    "collapsed": false,
    "pycharm": {
     "name": "#%%\n"
    }
   }
  }
 ],
 "metadata": {
  "kernelspec": {
   "display_name": "Python 3",
   "language": "python",
   "name": "python3"
  },
  "language_info": {
   "codemirror_mode": {
    "name": "ipython",
    "version": 2
   },
   "file_extension": ".py",
   "mimetype": "text/x-python",
   "name": "python",
   "nbconvert_exporter": "python",
   "pygments_lexer": "ipython2",
   "version": "2.7.6"
  }
 },
 "nbformat": 4,
 "nbformat_minor": 0
}