{
 "cells": [
  {
   "cell_type": "code",
   "execution_count": 1,
   "outputs": [],
   "source": [
    "import pandas as pd\n",
    "import numpy as np\n",
    "import matplotlib.pylab as plt"
   ],
   "metadata": {
    "collapsed": false,
    "pycharm": {
     "name": "#%%\n"
    }
   }
  },
  {
   "cell_type": "markdown",
   "metadata": {
    "collapsed": true,
    "pycharm": {
     "name": "#%% md\n"
    }
   },
   "source": [
    "###  Корреляция Пирсона"
   ]
  },
  {
   "cell_type": "code",
   "execution_count": 2,
   "outputs": [
    {
     "data": {
      "text/plain": "   product_id  store_id       date  sales\n0           4         6 1997-01-01      4\n1          25         6 1997-01-01      3\n2          48         6 1997-01-01      3\n3          76         6 1997-01-01      4\n4         119         6 1997-01-01      3",
      "text/html": "<div>\n<style scoped>\n    .dataframe tbody tr th:only-of-type {\n        vertical-align: middle;\n    }\n\n    .dataframe tbody tr th {\n        vertical-align: top;\n    }\n\n    .dataframe thead th {\n        text-align: right;\n    }\n</style>\n<table border=\"1\" class=\"dataframe\">\n  <thead>\n    <tr style=\"text-align: right;\">\n      <th></th>\n      <th>product_id</th>\n      <th>store_id</th>\n      <th>date</th>\n      <th>sales</th>\n    </tr>\n  </thead>\n  <tbody>\n    <tr>\n      <th>0</th>\n      <td>4</td>\n      <td>6</td>\n      <td>1997-01-01</td>\n      <td>4</td>\n    </tr>\n    <tr>\n      <th>1</th>\n      <td>25</td>\n      <td>6</td>\n      <td>1997-01-01</td>\n      <td>3</td>\n    </tr>\n    <tr>\n      <th>2</th>\n      <td>48</td>\n      <td>6</td>\n      <td>1997-01-01</td>\n      <td>3</td>\n    </tr>\n    <tr>\n      <th>3</th>\n      <td>76</td>\n      <td>6</td>\n      <td>1997-01-01</td>\n      <td>4</td>\n    </tr>\n    <tr>\n      <th>4</th>\n      <td>119</td>\n      <td>6</td>\n      <td>1997-01-01</td>\n      <td>3</td>\n    </tr>\n  </tbody>\n</table>\n</div>"
     },
     "execution_count": 2,
     "metadata": {},
     "output_type": "execute_result"
    }
   ],
   "source": [
    "sales = pd.read_csv('sales.tsv', sep='\\t', header=0, parse_dates=[2])\n",
    "sales.head()"
   ],
   "metadata": {
    "collapsed": false,
    "pycharm": {
     "name": "#%%\n"
    }
   }
  },
  {
   "cell_type": "code",
   "execution_count": 3,
   "outputs": [
    {
     "data": {
      "text/plain": "   product_class_id  product_id  brand_name                 product_name  \\\n0                30           1  Washington       Washington Berry Juice   \n1                52           2  Washington       Washington Mango Drink   \n2                52           3  Washington  Washington Strawberry Drink   \n3                19           4  Washington        Washington Cream Soda   \n4                19           5  Washington         Washington Diet Soda   \n\n           SKU   SRP  gross_weight  net_weight  recyclable_package  low_fat  \\\n0  90748583674  2.85          8.39        6.39               False    False   \n1  96516502499  0.74          7.42        4.42               False     True   \n2  58427771925  0.83         13.10       11.10                True     True   \n3  64412155747  3.64         10.60        9.60                True    False   \n4  85561191439  2.19          6.66        4.65                True    False   \n\n   units_per_case  cases_per_pallet  shelf_width  shelf_height  shelf_depth  \n0              30                14         16.9         12.60         7.40  \n1              18                 8         13.4          3.71        22.60  \n2              17                13         14.4         11.00         7.77  \n3              26                10         22.9         18.90         7.93  \n4               7                10         20.7         21.90        19.20  ",
      "text/html": "<div>\n<style scoped>\n    .dataframe tbody tr th:only-of-type {\n        vertical-align: middle;\n    }\n\n    .dataframe tbody tr th {\n        vertical-align: top;\n    }\n\n    .dataframe thead th {\n        text-align: right;\n    }\n</style>\n<table border=\"1\" class=\"dataframe\">\n  <thead>\n    <tr style=\"text-align: right;\">\n      <th></th>\n      <th>product_class_id</th>\n      <th>product_id</th>\n      <th>brand_name</th>\n      <th>product_name</th>\n      <th>SKU</th>\n      <th>SRP</th>\n      <th>gross_weight</th>\n      <th>net_weight</th>\n      <th>recyclable_package</th>\n      <th>low_fat</th>\n      <th>units_per_case</th>\n      <th>cases_per_pallet</th>\n      <th>shelf_width</th>\n      <th>shelf_height</th>\n      <th>shelf_depth</th>\n    </tr>\n  </thead>\n  <tbody>\n    <tr>\n      <th>0</th>\n      <td>30</td>\n      <td>1</td>\n      <td>Washington</td>\n      <td>Washington Berry Juice</td>\n      <td>90748583674</td>\n      <td>2.85</td>\n      <td>8.39</td>\n      <td>6.39</td>\n      <td>False</td>\n      <td>False</td>\n      <td>30</td>\n      <td>14</td>\n      <td>16.9</td>\n      <td>12.60</td>\n      <td>7.40</td>\n    </tr>\n    <tr>\n      <th>1</th>\n      <td>52</td>\n      <td>2</td>\n      <td>Washington</td>\n      <td>Washington Mango Drink</td>\n      <td>96516502499</td>\n      <td>0.74</td>\n      <td>7.42</td>\n      <td>4.42</td>\n      <td>False</td>\n      <td>True</td>\n      <td>18</td>\n      <td>8</td>\n      <td>13.4</td>\n      <td>3.71</td>\n      <td>22.60</td>\n    </tr>\n    <tr>\n      <th>2</th>\n      <td>52</td>\n      <td>3</td>\n      <td>Washington</td>\n      <td>Washington Strawberry Drink</td>\n      <td>58427771925</td>\n      <td>0.83</td>\n      <td>13.10</td>\n      <td>11.10</td>\n      <td>True</td>\n      <td>True</td>\n      <td>17</td>\n      <td>13</td>\n      <td>14.4</td>\n      <td>11.00</td>\n      <td>7.77</td>\n    </tr>\n    <tr>\n      <th>3</th>\n      <td>19</td>\n      <td>4</td>\n      <td>Washington</td>\n      <td>Washington Cream Soda</td>\n      <td>64412155747</td>\n      <td>3.64</td>\n      <td>10.60</td>\n      <td>9.60</td>\n      <td>True</td>\n      <td>False</td>\n      <td>26</td>\n      <td>10</td>\n      <td>22.9</td>\n      <td>18.90</td>\n      <td>7.93</td>\n    </tr>\n    <tr>\n      <th>4</th>\n      <td>19</td>\n      <td>5</td>\n      <td>Washington</td>\n      <td>Washington Diet Soda</td>\n      <td>85561191439</td>\n      <td>2.19</td>\n      <td>6.66</td>\n      <td>4.65</td>\n      <td>True</td>\n      <td>False</td>\n      <td>7</td>\n      <td>10</td>\n      <td>20.7</td>\n      <td>21.90</td>\n      <td>19.20</td>\n    </tr>\n  </tbody>\n</table>\n</div>"
     },
     "execution_count": 3,
     "metadata": {},
     "output_type": "execute_result"
    }
   ],
   "source": [
    "products = pd.read_csv('products.tsv', sep='\\t', header=0)\n",
    "products.head()"
   ],
   "metadata": {
    "collapsed": false,
    "pycharm": {
     "name": "#%%\n"
    }
   }
  },
  {
   "cell_type": "code",
   "execution_count": 4,
   "outputs": [
    {
     "data": {
      "text/plain": "   product_id  store_id       date  sales           product_name\n0           4         6 1997-01-01      4  Washington Cream Soda\n1           4         7 1997-01-05      3  Washington Cream Soda\n2           4         6 1997-01-06      2  Washington Cream Soda\n3           4        17 1997-01-11      2  Washington Cream Soda\n4           4        24 1997-01-11      2  Washington Cream Soda",
      "text/html": "<div>\n<style scoped>\n    .dataframe tbody tr th:only-of-type {\n        vertical-align: middle;\n    }\n\n    .dataframe tbody tr th {\n        vertical-align: top;\n    }\n\n    .dataframe thead th {\n        text-align: right;\n    }\n</style>\n<table border=\"1\" class=\"dataframe\">\n  <thead>\n    <tr style=\"text-align: right;\">\n      <th></th>\n      <th>product_id</th>\n      <th>store_id</th>\n      <th>date</th>\n      <th>sales</th>\n      <th>product_name</th>\n    </tr>\n  </thead>\n  <tbody>\n    <tr>\n      <th>0</th>\n      <td>4</td>\n      <td>6</td>\n      <td>1997-01-01</td>\n      <td>4</td>\n      <td>Washington Cream Soda</td>\n    </tr>\n    <tr>\n      <th>1</th>\n      <td>4</td>\n      <td>7</td>\n      <td>1997-01-05</td>\n      <td>3</td>\n      <td>Washington Cream Soda</td>\n    </tr>\n    <tr>\n      <th>2</th>\n      <td>4</td>\n      <td>6</td>\n      <td>1997-01-06</td>\n      <td>2</td>\n      <td>Washington Cream Soda</td>\n    </tr>\n    <tr>\n      <th>3</th>\n      <td>4</td>\n      <td>17</td>\n      <td>1997-01-11</td>\n      <td>2</td>\n      <td>Washington Cream Soda</td>\n    </tr>\n    <tr>\n      <th>4</th>\n      <td>4</td>\n      <td>24</td>\n      <td>1997-01-11</td>\n      <td>2</td>\n      <td>Washington Cream Soda</td>\n    </tr>\n  </tbody>\n</table>\n</div>"
     },
     "execution_count": 4,
     "metadata": {},
     "output_type": "execute_result"
    }
   ],
   "source": [
    "sales = sales.merge(products[['product_id', 'product_name']], on=['product_id'], how='inner')\n",
    "sales.head()"
   ],
   "metadata": {
    "collapsed": false,
    "pycharm": {
     "name": "#%%\n"
    }
   }
  },
  {
   "cell_type": "markdown",
   "source": [
    "Определение взаимного влияния продуктов друг на друга"
   ],
   "metadata": {
    "collapsed": false,
    "pycharm": {
     "name": "#%% md\n"
    }
   }
  },
  {
   "cell_type": "code",
   "execution_count": 5,
   "outputs": [
    {
     "data": {
      "text/plain": "product_name         ADJ Rosy Sunglasses  Akron City Map  \\\ndate       store_id                                        \n1997-01-01 6                           0               0   \n           14                          0               0   \n1997-01-02 11                          0               0   \n           23                          0               0   \n1997-01-03 7                           0               0   \n\nproduct_name         Akron Eyeglass Screwdriver  American Beef Bologna  \\\ndate       store_id                                                      \n1997-01-01 6                                  0                      0   \n           14                                 0                      0   \n1997-01-02 11                                 0                      0   \n           23                                 0                      0   \n1997-01-03 7                                  0                      0   \n\nproduct_name         American Chicken Hot Dogs  American Cole Slaw  \\\ndate       store_id                                                  \n1997-01-01 6                                 0                   0   \n           14                                0                   0   \n1997-01-02 11                                0                   0   \n           23                                0                   0   \n1997-01-03 7                                 0                   0   \n\nproduct_name         American Corned Beef  American Foot-Long Hot Dogs  \\\ndate       store_id                                                      \n1997-01-01 6                            0                            0   \n           14                           0                            0   \n1997-01-02 11                           0                            0   \n           23                           0                            0   \n1997-01-03 7                            0                            0   \n\nproduct_name         American Low Fat Bologna  American Low Fat Cole Slaw  \\\ndate       store_id                                                         \n1997-01-01 6                                0                           0   \n           14                               0                           0   \n1997-01-02 11                               0                           0   \n           23                               0                           0   \n1997-01-03 7                                0                           0   \n\nproduct_name         ...  Washington Apple Juice  Washington Berry Juice  \\\ndate       store_id  ...                                                   \n1997-01-01 6         ...                       0                       0   \n           14        ...                       0                       0   \n1997-01-02 11        ...                       0                       0   \n           23        ...                       0                       0   \n1997-01-03 7         ...                       0                       4   \n\nproduct_name         Washington Cola  Washington Cranberry Juice  \\\ndate       store_id                                                \n1997-01-01 6                       0                           0   \n           14                      0                           0   \n1997-01-02 11                      0                           0   \n           23                      0                           0   \n1997-01-03 7                       0                           0   \n\nproduct_name         Washington Cream Soda  Washington Diet Cola  \\\ndate       store_id                                                \n1997-01-01 6                             4                     0   \n           14                            0                     0   \n1997-01-02 11                            0                     0   \n           23                            0                     0   \n1997-01-03 7                             0                     0   \n\nproduct_name         Washington Diet Soda  Washington Mango Drink  \\\ndate       store_id                                                 \n1997-01-01 6                            0                       0   \n           14                           0                       0   \n1997-01-02 11                           0                       0   \n           23                           0                       0   \n1997-01-03 7                            0                       0   \n\nproduct_name         Washington Orange Juice  Washington Strawberry Drink  \ndate       store_id                                                        \n1997-01-01 6                               0                            0  \n           14                              0                            0  \n1997-01-02 11                              0                            0  \n           23                              0                            0  \n1997-01-03 7                               0                            0  \n\n[5 rows x 1559 columns]",
      "text/html": "<div>\n<style scoped>\n    .dataframe tbody tr th:only-of-type {\n        vertical-align: middle;\n    }\n\n    .dataframe tbody tr th {\n        vertical-align: top;\n    }\n\n    .dataframe thead th {\n        text-align: right;\n    }\n</style>\n<table border=\"1\" class=\"dataframe\">\n  <thead>\n    <tr style=\"text-align: right;\">\n      <th></th>\n      <th>product_name</th>\n      <th>ADJ Rosy Sunglasses</th>\n      <th>Akron City Map</th>\n      <th>Akron Eyeglass Screwdriver</th>\n      <th>American Beef Bologna</th>\n      <th>American Chicken Hot Dogs</th>\n      <th>American Cole Slaw</th>\n      <th>American Corned Beef</th>\n      <th>American Foot-Long Hot Dogs</th>\n      <th>American Low Fat Bologna</th>\n      <th>American Low Fat Cole Slaw</th>\n      <th>...</th>\n      <th>Washington Apple Juice</th>\n      <th>Washington Berry Juice</th>\n      <th>Washington Cola</th>\n      <th>Washington Cranberry Juice</th>\n      <th>Washington Cream Soda</th>\n      <th>Washington Diet Cola</th>\n      <th>Washington Diet Soda</th>\n      <th>Washington Mango Drink</th>\n      <th>Washington Orange Juice</th>\n      <th>Washington Strawberry Drink</th>\n    </tr>\n    <tr>\n      <th>date</th>\n      <th>store_id</th>\n      <th></th>\n      <th></th>\n      <th></th>\n      <th></th>\n      <th></th>\n      <th></th>\n      <th></th>\n      <th></th>\n      <th></th>\n      <th></th>\n      <th></th>\n      <th></th>\n      <th></th>\n      <th></th>\n      <th></th>\n      <th></th>\n      <th></th>\n      <th></th>\n      <th></th>\n      <th></th>\n      <th></th>\n    </tr>\n  </thead>\n  <tbody>\n    <tr>\n      <th rowspan=\"2\" valign=\"top\">1997-01-01</th>\n      <th>6</th>\n      <td>0</td>\n      <td>0</td>\n      <td>0</td>\n      <td>0</td>\n      <td>0</td>\n      <td>0</td>\n      <td>0</td>\n      <td>0</td>\n      <td>0</td>\n      <td>0</td>\n      <td>...</td>\n      <td>0</td>\n      <td>0</td>\n      <td>0</td>\n      <td>0</td>\n      <td>4</td>\n      <td>0</td>\n      <td>0</td>\n      <td>0</td>\n      <td>0</td>\n      <td>0</td>\n    </tr>\n    <tr>\n      <th>14</th>\n      <td>0</td>\n      <td>0</td>\n      <td>0</td>\n      <td>0</td>\n      <td>0</td>\n      <td>0</td>\n      <td>0</td>\n      <td>0</td>\n      <td>0</td>\n      <td>0</td>\n      <td>...</td>\n      <td>0</td>\n      <td>0</td>\n      <td>0</td>\n      <td>0</td>\n      <td>0</td>\n      <td>0</td>\n      <td>0</td>\n      <td>0</td>\n      <td>0</td>\n      <td>0</td>\n    </tr>\n    <tr>\n      <th rowspan=\"2\" valign=\"top\">1997-01-02</th>\n      <th>11</th>\n      <td>0</td>\n      <td>0</td>\n      <td>0</td>\n      <td>0</td>\n      <td>0</td>\n      <td>0</td>\n      <td>0</td>\n      <td>0</td>\n      <td>0</td>\n      <td>0</td>\n      <td>...</td>\n      <td>0</td>\n      <td>0</td>\n      <td>0</td>\n      <td>0</td>\n      <td>0</td>\n      <td>0</td>\n      <td>0</td>\n      <td>0</td>\n      <td>0</td>\n      <td>0</td>\n    </tr>\n    <tr>\n      <th>23</th>\n      <td>0</td>\n      <td>0</td>\n      <td>0</td>\n      <td>0</td>\n      <td>0</td>\n      <td>0</td>\n      <td>0</td>\n      <td>0</td>\n      <td>0</td>\n      <td>0</td>\n      <td>...</td>\n      <td>0</td>\n      <td>0</td>\n      <td>0</td>\n      <td>0</td>\n      <td>0</td>\n      <td>0</td>\n      <td>0</td>\n      <td>0</td>\n      <td>0</td>\n      <td>0</td>\n    </tr>\n    <tr>\n      <th>1997-01-03</th>\n      <th>7</th>\n      <td>0</td>\n      <td>0</td>\n      <td>0</td>\n      <td>0</td>\n      <td>0</td>\n      <td>0</td>\n      <td>0</td>\n      <td>0</td>\n      <td>0</td>\n      <td>0</td>\n      <td>...</td>\n      <td>0</td>\n      <td>4</td>\n      <td>0</td>\n      <td>0</td>\n      <td>0</td>\n      <td>0</td>\n      <td>0</td>\n      <td>0</td>\n      <td>0</td>\n      <td>0</td>\n    </tr>\n  </tbody>\n</table>\n<p>5 rows × 1559 columns</p>\n</div>"
     },
     "execution_count": 5,
     "metadata": {},
     "output_type": "execute_result"
    }
   ],
   "source": [
    "sparse_sales = pd.pivot_table(sales, values='sales', index=['date', 'store_id'], columns=['product_name'],\n",
    "                              fill_value=0, aggfunc=lambda x: x)\n",
    "sparse_sales.head()"
   ],
   "metadata": {
    "collapsed": false,
    "pycharm": {
     "name": "#%%\n"
    }
   }
  },
  {
   "cell_type": "code",
   "execution_count": 6,
   "outputs": [
    {
     "data": {
      "text/plain": "product_name                ADJ Rosy Sunglasses  Akron City Map  \\\nproduct_name                                                      \nADJ Rosy Sunglasses                    1.000000        0.076608   \nAkron City Map                         0.076608        1.000000   \nAkron Eyeglass Screwdriver            -0.006581        0.026297   \nAmerican Beef Bologna                  0.038685        0.088709   \nAmerican Chicken Hot Dogs              0.041105        0.061144   \n\nproduct_name                Akron Eyeglass Screwdriver  American Beef Bologna  \\\nproduct_name                                                                    \nADJ Rosy Sunglasses                          -0.006581               0.038685   \nAkron City Map                                0.026297               0.088709   \nAkron Eyeglass Screwdriver                    1.000000              -0.040851   \nAmerican Beef Bologna                        -0.040851               1.000000   \nAmerican Chicken Hot Dogs                     0.034345               0.014780   \n\nproduct_name                American Chicken Hot Dogs  American Cole Slaw  \\\nproduct_name                                                                \nADJ Rosy Sunglasses                          0.041105           -0.045887   \nAkron City Map                               0.061144            0.039347   \nAkron Eyeglass Screwdriver                   0.034345            0.108726   \nAmerican Beef Bologna                        0.014780           -0.039118   \nAmerican Chicken Hot Dogs                    1.000000           -0.005336   \n\nproduct_name                American Corned Beef  American Foot-Long Hot Dogs  \\\nproduct_name                                                                    \nADJ Rosy Sunglasses                    -0.008466                     0.062309   \nAkron City Map                          0.019767                    -0.005998   \nAkron Eyeglass Screwdriver              0.007573                     0.162355   \nAmerican Beef Bologna                  -0.007890                    -0.008264   \nAmerican Chicken Hot Dogs               0.017765                     0.057972   \n\nproduct_name                American Low Fat Bologna  \\\nproduct_name                                           \nADJ Rosy Sunglasses                         0.033752   \nAkron City Map                              0.010270   \nAkron Eyeglass Screwdriver                  0.020933   \nAmerican Beef Bologna                      -0.045949   \nAmerican Chicken Hot Dogs                   0.071549   \n\nproduct_name                American Low Fat Cole Slaw  ...  \\\nproduct_name                                            ...   \nADJ Rosy Sunglasses                          -0.009656  ...   \nAkron City Map                                0.078176  ...   \nAkron Eyeglass Screwdriver                    0.074292  ...   \nAmerican Beef Bologna                         0.085975  ...   \nAmerican Chicken Hot Dogs                     0.052460  ...   \n\nproduct_name                Washington Apple Juice  Washington Berry Juice  \\\nproduct_name                                                                 \nADJ Rosy Sunglasses                       0.053533                0.072249   \nAkron City Map                           -0.021793                0.020514   \nAkron Eyeglass Screwdriver               -0.000237               -0.001297   \nAmerican Beef Bologna                     0.000197                0.081151   \nAmerican Chicken Hot Dogs                 0.098935               -0.024224   \n\nproduct_name                Washington Cola  Washington Cranberry Juice  \\\nproduct_name                                                              \nADJ Rosy Sunglasses                0.061736                   -0.000735   \nAkron City Map                     0.051956                   -0.001018   \nAkron Eyeglass Screwdriver         0.049793                    0.055047   \nAmerican Beef Bologna             -0.053404                   -0.021832   \nAmerican Chicken Hot Dogs          0.066212                    0.043765   \n\nproduct_name                Washington Cream Soda  Washington Diet Cola  \\\nproduct_name                                                              \nADJ Rosy Sunglasses                      0.000843              0.028226   \nAkron City Map                          -0.032582              0.007142   \nAkron Eyeglass Screwdriver               0.031202              0.013510   \nAmerican Beef Bologna                    0.003286              0.090774   \nAmerican Chicken Hot Dogs                0.077541              0.045038   \n\nproduct_name                Washington Diet Soda  Washington Mango Drink  \\\nproduct_name                                                               \nADJ Rosy Sunglasses                     0.012653                0.089932   \nAkron City Map                          0.035274                0.033875   \nAkron Eyeglass Screwdriver             -0.017855                0.022714   \nAmerican Beef Bologna                  -0.031954                0.043843   \nAmerican Chicken Hot Dogs              -0.037246                0.025975   \n\nproduct_name                Washington Orange Juice  \\\nproduct_name                                          \nADJ Rosy Sunglasses                        0.072668   \nAkron City Map                             0.078070   \nAkron Eyeglass Screwdriver                 0.003156   \nAmerican Beef Bologna                      0.080638   \nAmerican Chicken Hot Dogs                  0.129795   \n\nproduct_name                Washington Strawberry Drink  \nproduct_name                                             \nADJ Rosy Sunglasses                            0.035745  \nAkron City Map                                 0.051952  \nAkron Eyeglass Screwdriver                     0.163519  \nAmerican Beef Bologna                          0.055211  \nAmerican Chicken Hot Dogs                     -0.008498  \n\n[5 rows x 1559 columns]",
      "text/html": "<div>\n<style scoped>\n    .dataframe tbody tr th:only-of-type {\n        vertical-align: middle;\n    }\n\n    .dataframe tbody tr th {\n        vertical-align: top;\n    }\n\n    .dataframe thead th {\n        text-align: right;\n    }\n</style>\n<table border=\"1\" class=\"dataframe\">\n  <thead>\n    <tr style=\"text-align: right;\">\n      <th>product_name</th>\n      <th>ADJ Rosy Sunglasses</th>\n      <th>Akron City Map</th>\n      <th>Akron Eyeglass Screwdriver</th>\n      <th>American Beef Bologna</th>\n      <th>American Chicken Hot Dogs</th>\n      <th>American Cole Slaw</th>\n      <th>American Corned Beef</th>\n      <th>American Foot-Long Hot Dogs</th>\n      <th>American Low Fat Bologna</th>\n      <th>American Low Fat Cole Slaw</th>\n      <th>...</th>\n      <th>Washington Apple Juice</th>\n      <th>Washington Berry Juice</th>\n      <th>Washington Cola</th>\n      <th>Washington Cranberry Juice</th>\n      <th>Washington Cream Soda</th>\n      <th>Washington Diet Cola</th>\n      <th>Washington Diet Soda</th>\n      <th>Washington Mango Drink</th>\n      <th>Washington Orange Juice</th>\n      <th>Washington Strawberry Drink</th>\n    </tr>\n    <tr>\n      <th>product_name</th>\n      <th></th>\n      <th></th>\n      <th></th>\n      <th></th>\n      <th></th>\n      <th></th>\n      <th></th>\n      <th></th>\n      <th></th>\n      <th></th>\n      <th></th>\n      <th></th>\n      <th></th>\n      <th></th>\n      <th></th>\n      <th></th>\n      <th></th>\n      <th></th>\n      <th></th>\n      <th></th>\n      <th></th>\n    </tr>\n  </thead>\n  <tbody>\n    <tr>\n      <th>ADJ Rosy Sunglasses</th>\n      <td>1.000000</td>\n      <td>0.076608</td>\n      <td>-0.006581</td>\n      <td>0.038685</td>\n      <td>0.041105</td>\n      <td>-0.045887</td>\n      <td>-0.008466</td>\n      <td>0.062309</td>\n      <td>0.033752</td>\n      <td>-0.009656</td>\n      <td>...</td>\n      <td>0.053533</td>\n      <td>0.072249</td>\n      <td>0.061736</td>\n      <td>-0.000735</td>\n      <td>0.000843</td>\n      <td>0.028226</td>\n      <td>0.012653</td>\n      <td>0.089932</td>\n      <td>0.072668</td>\n      <td>0.035745</td>\n    </tr>\n    <tr>\n      <th>Akron City Map</th>\n      <td>0.076608</td>\n      <td>1.000000</td>\n      <td>0.026297</td>\n      <td>0.088709</td>\n      <td>0.061144</td>\n      <td>0.039347</td>\n      <td>0.019767</td>\n      <td>-0.005998</td>\n      <td>0.010270</td>\n      <td>0.078176</td>\n      <td>...</td>\n      <td>-0.021793</td>\n      <td>0.020514</td>\n      <td>0.051956</td>\n      <td>-0.001018</td>\n      <td>-0.032582</td>\n      <td>0.007142</td>\n      <td>0.035274</td>\n      <td>0.033875</td>\n      <td>0.078070</td>\n      <td>0.051952</td>\n    </tr>\n    <tr>\n      <th>Akron Eyeglass Screwdriver</th>\n      <td>-0.006581</td>\n      <td>0.026297</td>\n      <td>1.000000</td>\n      <td>-0.040851</td>\n      <td>0.034345</td>\n      <td>0.108726</td>\n      <td>0.007573</td>\n      <td>0.162355</td>\n      <td>0.020933</td>\n      <td>0.074292</td>\n      <td>...</td>\n      <td>-0.000237</td>\n      <td>-0.001297</td>\n      <td>0.049793</td>\n      <td>0.055047</td>\n      <td>0.031202</td>\n      <td>0.013510</td>\n      <td>-0.017855</td>\n      <td>0.022714</td>\n      <td>0.003156</td>\n      <td>0.163519</td>\n    </tr>\n    <tr>\n      <th>American Beef Bologna</th>\n      <td>0.038685</td>\n      <td>0.088709</td>\n      <td>-0.040851</td>\n      <td>1.000000</td>\n      <td>0.014780</td>\n      <td>-0.039118</td>\n      <td>-0.007890</td>\n      <td>-0.008264</td>\n      <td>-0.045949</td>\n      <td>0.085975</td>\n      <td>...</td>\n      <td>0.000197</td>\n      <td>0.081151</td>\n      <td>-0.053404</td>\n      <td>-0.021832</td>\n      <td>0.003286</td>\n      <td>0.090774</td>\n      <td>-0.031954</td>\n      <td>0.043843</td>\n      <td>0.080638</td>\n      <td>0.055211</td>\n    </tr>\n    <tr>\n      <th>American Chicken Hot Dogs</th>\n      <td>0.041105</td>\n      <td>0.061144</td>\n      <td>0.034345</td>\n      <td>0.014780</td>\n      <td>1.000000</td>\n      <td>-0.005336</td>\n      <td>0.017765</td>\n      <td>0.057972</td>\n      <td>0.071549</td>\n      <td>0.052460</td>\n      <td>...</td>\n      <td>0.098935</td>\n      <td>-0.024224</td>\n      <td>0.066212</td>\n      <td>0.043765</td>\n      <td>0.077541</td>\n      <td>0.045038</td>\n      <td>-0.037246</td>\n      <td>0.025975</td>\n      <td>0.129795</td>\n      <td>-0.008498</td>\n    </tr>\n  </tbody>\n</table>\n<p>5 rows × 1559 columns</p>\n</div>"
     },
     "execution_count": 6,
     "metadata": {},
     "output_type": "execute_result"
    }
   ],
   "source": [
    "sales_correlation = sparse_sales.corr()\n",
    "sales_correlation.head()"
   ],
   "metadata": {
    "collapsed": false,
    "pycharm": {
     "name": "#%%\n"
    }
   }
  },
  {
   "cell_type": "code",
   "execution_count": 7,
   "outputs": [
    {
     "data": {
      "text/plain": "product_name                       American Chicken Hot Dogs\nproduct_name                                                \nAmerican Chicken Hot Dogs                           1.000000\nMighty Good Monthly Home Magazine                   0.240269\nBig Time Frozen Chicken Wings                       0.223398\nCarlson Sour Cream                                  0.220726\nGreat Cranberry Muffins                             0.217509",
      "text/html": "<div>\n<style scoped>\n    .dataframe tbody tr th:only-of-type {\n        vertical-align: middle;\n    }\n\n    .dataframe tbody tr th {\n        vertical-align: top;\n    }\n\n    .dataframe thead th {\n        text-align: right;\n    }\n</style>\n<table border=\"1\" class=\"dataframe\">\n  <thead>\n    <tr style=\"text-align: right;\">\n      <th>product_name</th>\n      <th>American Chicken Hot Dogs</th>\n    </tr>\n    <tr>\n      <th>product_name</th>\n      <th></th>\n    </tr>\n  </thead>\n  <tbody>\n    <tr>\n      <th>American Chicken Hot Dogs</th>\n      <td>1.000000</td>\n    </tr>\n    <tr>\n      <th>Mighty Good Monthly Home Magazine</th>\n      <td>0.240269</td>\n    </tr>\n    <tr>\n      <th>Big Time Frozen Chicken Wings</th>\n      <td>0.223398</td>\n    </tr>\n    <tr>\n      <th>Carlson Sour Cream</th>\n      <td>0.220726</td>\n    </tr>\n    <tr>\n      <th>Great Cranberry Muffins</th>\n      <td>0.217509</td>\n    </tr>\n  </tbody>\n</table>\n</div>"
     },
     "execution_count": 7,
     "metadata": {},
     "output_type": "execute_result"
    }
   ],
   "source": [
    "product_name = 'American Chicken Hot Dogs'\n",
    "sales_correlation[[product_name]].sort_values(product_name, ascending=False).head()"
   ],
   "metadata": {
    "collapsed": false,
    "pycharm": {
     "name": "#%%\n"
    }
   }
  },
  {
   "cell_type": "code",
   "execution_count": 10,
   "outputs": [
    {
     "data": {
      "text/plain": "                                   min\nproduct_name                          \nCarlson Whole Milk           -0.085064\nPearl Chardonnay Wine        -0.085064\nGulf Coast Malted Milk Balls -0.082598\nSunset Economy Toilet Brush  -0.082598\nFast Fudge Brownies          -0.082317",
      "text/html": "<div>\n<style scoped>\n    .dataframe tbody tr th:only-of-type {\n        vertical-align: middle;\n    }\n\n    .dataframe tbody tr th {\n        vertical-align: top;\n    }\n\n    .dataframe thead th {\n        text-align: right;\n    }\n</style>\n<table border=\"1\" class=\"dataframe\">\n  <thead>\n    <tr style=\"text-align: right;\">\n      <th></th>\n      <th>min</th>\n    </tr>\n    <tr>\n      <th>product_name</th>\n      <th></th>\n    </tr>\n  </thead>\n  <tbody>\n    <tr>\n      <th>Carlson Whole Milk</th>\n      <td>-0.085064</td>\n    </tr>\n    <tr>\n      <th>Pearl Chardonnay Wine</th>\n      <td>-0.085064</td>\n    </tr>\n    <tr>\n      <th>Gulf Coast Malted Milk Balls</th>\n      <td>-0.082598</td>\n    </tr>\n    <tr>\n      <th>Sunset Economy Toilet Brush</th>\n      <td>-0.082598</td>\n    </tr>\n    <tr>\n      <th>Fast Fudge Brownies</th>\n      <td>-0.082317</td>\n    </tr>\n  </tbody>\n</table>\n</div>"
     },
     "execution_count": 10,
     "metadata": {},
     "output_type": "execute_result"
    }
   ],
   "source": [
    "min_corr = pd.DataFrame(sales_correlation.min())\n",
    "min_corr.columns=['min']\n",
    "\n",
    "min_corr.sort_values(by='min').head()"
   ],
   "metadata": {
    "collapsed": false,
    "pycharm": {
     "name": "#%%\n"
    }
   }
  },
  {
   "cell_type": "code",
   "execution_count": 15,
   "outputs": [
    {
     "data": {
      "text/plain": "                                  max\nproduct_name                         \nPlato French Roast Coffee    0.340598\nJust Right Vegetable Soup    0.340598\nNationeel Grape Fruit Roll   0.322176\nGreat Muffins                0.322176\nClub Low Fat Cottage Cheese  0.306701",
      "text/html": "<div>\n<style scoped>\n    .dataframe tbody tr th:only-of-type {\n        vertical-align: middle;\n    }\n\n    .dataframe tbody tr th {\n        vertical-align: top;\n    }\n\n    .dataframe thead th {\n        text-align: right;\n    }\n</style>\n<table border=\"1\" class=\"dataframe\">\n  <thead>\n    <tr style=\"text-align: right;\">\n      <th></th>\n      <th>max</th>\n    </tr>\n    <tr>\n      <th>product_name</th>\n      <th></th>\n    </tr>\n  </thead>\n  <tbody>\n    <tr>\n      <th>Plato French Roast Coffee</th>\n      <td>0.340598</td>\n    </tr>\n    <tr>\n      <th>Just Right Vegetable Soup</th>\n      <td>0.340598</td>\n    </tr>\n    <tr>\n      <th>Nationeel Grape Fruit Roll</th>\n      <td>0.322176</td>\n    </tr>\n    <tr>\n      <th>Great Muffins</th>\n      <td>0.322176</td>\n    </tr>\n    <tr>\n      <th>Club Low Fat Cottage Cheese</th>\n      <td>0.306701</td>\n    </tr>\n  </tbody>\n</table>\n</div>"
     },
     "execution_count": 15,
     "metadata": {},
     "output_type": "execute_result"
    }
   ],
   "source": [
    "max_corr = pd.DataFrame(sales_correlation.apply(lambda x: np.max(list(filter(lambda x: x != 1., x))), axis=1))\n",
    "max_corr.columns = ['max']\n",
    "max_corr.sort_values(by= 'max', ascending=False).head()"
   ],
   "metadata": {
    "collapsed": false,
    "pycharm": {
     "name": "#%%\n"
    }
   }
  },
  {
   "cell_type": "code",
   "execution_count": 16,
   "outputs": [
    {
     "data": {
      "text/plain": "product_name                 Great Muffins\nproduct_name                              \nGreat Muffins                     1.000000\nNationeel Grape Fruit Roll        0.322176\nHigh Quality Copper Cleaner       0.297160\nHigh Quality Large Sponge         0.238753\nGorilla Jack Cheese               0.212559",
      "text/html": "<div>\n<style scoped>\n    .dataframe tbody tr th:only-of-type {\n        vertical-align: middle;\n    }\n\n    .dataframe tbody tr th {\n        vertical-align: top;\n    }\n\n    .dataframe thead th {\n        text-align: right;\n    }\n</style>\n<table border=\"1\" class=\"dataframe\">\n  <thead>\n    <tr style=\"text-align: right;\">\n      <th>product_name</th>\n      <th>Great Muffins</th>\n    </tr>\n    <tr>\n      <th>product_name</th>\n      <th></th>\n    </tr>\n  </thead>\n  <tbody>\n    <tr>\n      <th>Great Muffins</th>\n      <td>1.000000</td>\n    </tr>\n    <tr>\n      <th>Nationeel Grape Fruit Roll</th>\n      <td>0.322176</td>\n    </tr>\n    <tr>\n      <th>High Quality Copper Cleaner</th>\n      <td>0.297160</td>\n    </tr>\n    <tr>\n      <th>High Quality Large Sponge</th>\n      <td>0.238753</td>\n    </tr>\n    <tr>\n      <th>Gorilla Jack Cheese</th>\n      <td>0.212559</td>\n    </tr>\n  </tbody>\n</table>\n</div>"
     },
     "execution_count": 16,
     "metadata": {},
     "output_type": "execute_result"
    }
   ],
   "source": [
    "product_name = 'Great Muffins'\n",
    "sales_correlation[[product_name]].sort_values(product_name, ascending=False).head()\n"
   ],
   "metadata": {
    "collapsed": false,
    "pycharm": {
     "name": "#%%\n"
    }
   }
  }
 ],
 "metadata": {
  "kernelspec": {
   "display_name": "Python 3",
   "language": "python",
   "name": "python3"
  },
  "language_info": {
   "codemirror_mode": {
    "name": "ipython",
    "version": 2
   },
   "file_extension": ".py",
   "mimetype": "text/x-python",
   "name": "python",
   "nbconvert_exporter": "python",
   "pygments_lexer": "ipython2",
   "version": "2.7.6"
  }
 },
 "nbformat": 4,
 "nbformat_minor": 0
}