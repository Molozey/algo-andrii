{
 "cells": [
  {
   "cell_type": "code",
   "execution_count": 23,
   "metadata": {
    "collapsed": true
   },
   "outputs": [],
   "source": [
    "import pandas as pd\n",
    "import numpy as np\n",
    "\n",
    "from scipy.stats import pearsonr\n",
    "from statsmodels.sandbox.stats.multicomp import multipletests\n",
    "from tqdm import tqdm_notebook as tqdm\n",
    "from tqdm.notebook import tqdm_notebook as tqdm\n",
    "from progress.bar import Bar"
   ]
  },
  {
   "cell_type": "code",
   "execution_count": 2,
   "outputs": [
    {
     "data": {
      "text/plain": "   product_class_id  product_id  brand_name                 product_name  \\\n0                30           1  Washington       Washington Berry Juice   \n1                52           2  Washington       Washington Mango Drink   \n2                52           3  Washington  Washington Strawberry Drink   \n3                19           4  Washington        Washington Cream Soda   \n4                19           5  Washington         Washington Diet Soda   \n\n           SKU   SRP  gross_weight  net_weight  recyclable_package  low_fat  \\\n0  90748583674  2.85          8.39        6.39               False    False   \n1  96516502499  0.74          7.42        4.42               False     True   \n2  58427771925  0.83         13.10       11.10                True     True   \n3  64412155747  3.64         10.60        9.60                True    False   \n4  85561191439  2.19          6.66        4.65                True    False   \n\n   units_per_case  cases_per_pallet  shelf_width  shelf_height  shelf_depth  \n0              30                14         16.9         12.60         7.40  \n1              18                 8         13.4          3.71        22.60  \n2              17                13         14.4         11.00         7.77  \n3              26                10         22.9         18.90         7.93  \n4               7                10         20.7         21.90        19.20  ",
      "text/html": "<div>\n<style scoped>\n    .dataframe tbody tr th:only-of-type {\n        vertical-align: middle;\n    }\n\n    .dataframe tbody tr th {\n        vertical-align: top;\n    }\n\n    .dataframe thead th {\n        text-align: right;\n    }\n</style>\n<table border=\"1\" class=\"dataframe\">\n  <thead>\n    <tr style=\"text-align: right;\">\n      <th></th>\n      <th>product_class_id</th>\n      <th>product_id</th>\n      <th>brand_name</th>\n      <th>product_name</th>\n      <th>SKU</th>\n      <th>SRP</th>\n      <th>gross_weight</th>\n      <th>net_weight</th>\n      <th>recyclable_package</th>\n      <th>low_fat</th>\n      <th>units_per_case</th>\n      <th>cases_per_pallet</th>\n      <th>shelf_width</th>\n      <th>shelf_height</th>\n      <th>shelf_depth</th>\n    </tr>\n  </thead>\n  <tbody>\n    <tr>\n      <th>0</th>\n      <td>30</td>\n      <td>1</td>\n      <td>Washington</td>\n      <td>Washington Berry Juice</td>\n      <td>90748583674</td>\n      <td>2.85</td>\n      <td>8.39</td>\n      <td>6.39</td>\n      <td>False</td>\n      <td>False</td>\n      <td>30</td>\n      <td>14</td>\n      <td>16.9</td>\n      <td>12.60</td>\n      <td>7.40</td>\n    </tr>\n    <tr>\n      <th>1</th>\n      <td>52</td>\n      <td>2</td>\n      <td>Washington</td>\n      <td>Washington Mango Drink</td>\n      <td>96516502499</td>\n      <td>0.74</td>\n      <td>7.42</td>\n      <td>4.42</td>\n      <td>False</td>\n      <td>True</td>\n      <td>18</td>\n      <td>8</td>\n      <td>13.4</td>\n      <td>3.71</td>\n      <td>22.60</td>\n    </tr>\n    <tr>\n      <th>2</th>\n      <td>52</td>\n      <td>3</td>\n      <td>Washington</td>\n      <td>Washington Strawberry Drink</td>\n      <td>58427771925</td>\n      <td>0.83</td>\n      <td>13.10</td>\n      <td>11.10</td>\n      <td>True</td>\n      <td>True</td>\n      <td>17</td>\n      <td>13</td>\n      <td>14.4</td>\n      <td>11.00</td>\n      <td>7.77</td>\n    </tr>\n    <tr>\n      <th>3</th>\n      <td>19</td>\n      <td>4</td>\n      <td>Washington</td>\n      <td>Washington Cream Soda</td>\n      <td>64412155747</td>\n      <td>3.64</td>\n      <td>10.60</td>\n      <td>9.60</td>\n      <td>True</td>\n      <td>False</td>\n      <td>26</td>\n      <td>10</td>\n      <td>22.9</td>\n      <td>18.90</td>\n      <td>7.93</td>\n    </tr>\n    <tr>\n      <th>4</th>\n      <td>19</td>\n      <td>5</td>\n      <td>Washington</td>\n      <td>Washington Diet Soda</td>\n      <td>85561191439</td>\n      <td>2.19</td>\n      <td>6.66</td>\n      <td>4.65</td>\n      <td>True</td>\n      <td>False</td>\n      <td>7</td>\n      <td>10</td>\n      <td>20.7</td>\n      <td>21.90</td>\n      <td>19.20</td>\n    </tr>\n  </tbody>\n</table>\n</div>"
     },
     "execution_count": 2,
     "metadata": {},
     "output_type": "execute_result"
    }
   ],
   "source": [
    "sales = pd.read_csv(\"sales.tsv\", header=0, sep='\\t')\n",
    "products = pd.read_csv(\"products.tsv\", header=0, sep=\"\\t\")\n",
    "products.head()"
   ],
   "metadata": {
    "collapsed": false,
    "pycharm": {
     "name": "#%%\n"
    }
   }
  },
  {
   "cell_type": "code",
   "execution_count": 3,
   "outputs": [],
   "source": [
    "sales = sales.merge(products[['product_id', 'product_name']], on=['product_id'], how='inner')"
   ],
   "metadata": {
    "collapsed": false,
    "pycharm": {
     "name": "#%%\n"
    }
   }
  },
  {
   "cell_type": "code",
   "execution_count": 4,
   "outputs": [
    {
     "data": {
      "text/plain": "   product_id  store_id        date  sales           product_name\n0           4         6  1997-01-01      4  Washington Cream Soda\n1           4         7  1997-01-05      3  Washington Cream Soda\n2           4         6  1997-01-06      2  Washington Cream Soda\n3           4        17  1997-01-11      2  Washington Cream Soda\n4           4        24  1997-01-11      2  Washington Cream Soda",
      "text/html": "<div>\n<style scoped>\n    .dataframe tbody tr th:only-of-type {\n        vertical-align: middle;\n    }\n\n    .dataframe tbody tr th {\n        vertical-align: top;\n    }\n\n    .dataframe thead th {\n        text-align: right;\n    }\n</style>\n<table border=\"1\" class=\"dataframe\">\n  <thead>\n    <tr style=\"text-align: right;\">\n      <th></th>\n      <th>product_id</th>\n      <th>store_id</th>\n      <th>date</th>\n      <th>sales</th>\n      <th>product_name</th>\n    </tr>\n  </thead>\n  <tbody>\n    <tr>\n      <th>0</th>\n      <td>4</td>\n      <td>6</td>\n      <td>1997-01-01</td>\n      <td>4</td>\n      <td>Washington Cream Soda</td>\n    </tr>\n    <tr>\n      <th>1</th>\n      <td>4</td>\n      <td>7</td>\n      <td>1997-01-05</td>\n      <td>3</td>\n      <td>Washington Cream Soda</td>\n    </tr>\n    <tr>\n      <th>2</th>\n      <td>4</td>\n      <td>6</td>\n      <td>1997-01-06</td>\n      <td>2</td>\n      <td>Washington Cream Soda</td>\n    </tr>\n    <tr>\n      <th>3</th>\n      <td>4</td>\n      <td>17</td>\n      <td>1997-01-11</td>\n      <td>2</td>\n      <td>Washington Cream Soda</td>\n    </tr>\n    <tr>\n      <th>4</th>\n      <td>4</td>\n      <td>24</td>\n      <td>1997-01-11</td>\n      <td>2</td>\n      <td>Washington Cream Soda</td>\n    </tr>\n  </tbody>\n</table>\n</div>"
     },
     "execution_count": 4,
     "metadata": {},
     "output_type": "execute_result"
    }
   ],
   "source": [
    "sales.head()"
   ],
   "metadata": {
    "collapsed": false,
    "pycharm": {
     "name": "#%%\n"
    }
   }
  },
  {
   "cell_type": "code",
   "execution_count": 5,
   "outputs": [
    {
     "data": {
      "text/plain": "product_name         ADJ Rosy Sunglasses  Akron City Map  \\\ndate       store_id                                        \n1997-01-01 6                           0               0   \n           14                          0               0   \n1997-01-02 11                          0               0   \n           23                          0               0   \n1997-01-03 7                           0               0   \n\nproduct_name         Akron Eyeglass Screwdriver  American Beef Bologna  \\\ndate       store_id                                                      \n1997-01-01 6                                  0                      0   \n           14                                 0                      0   \n1997-01-02 11                                 0                      0   \n           23                                 0                      0   \n1997-01-03 7                                  0                      0   \n\nproduct_name         American Chicken Hot Dogs  American Cole Slaw  \\\ndate       store_id                                                  \n1997-01-01 6                                 0                   0   \n           14                                0                   0   \n1997-01-02 11                                0                   0   \n           23                                0                   0   \n1997-01-03 7                                 0                   0   \n\nproduct_name         American Corned Beef  American Foot-Long Hot Dogs  \\\ndate       store_id                                                      \n1997-01-01 6                            0                            0   \n           14                           0                            0   \n1997-01-02 11                           0                            0   \n           23                           0                            0   \n1997-01-03 7                            0                            0   \n\nproduct_name         American Low Fat Bologna  American Low Fat Cole Slaw  \\\ndate       store_id                                                         \n1997-01-01 6                                0                           0   \n           14                               0                           0   \n1997-01-02 11                               0                           0   \n           23                               0                           0   \n1997-01-03 7                                0                           0   \n\nproduct_name         ...  Washington Apple Juice  Washington Berry Juice  \\\ndate       store_id  ...                                                   \n1997-01-01 6         ...                       0                       0   \n           14        ...                       0                       0   \n1997-01-02 11        ...                       0                       0   \n           23        ...                       0                       0   \n1997-01-03 7         ...                       0                       4   \n\nproduct_name         Washington Cola  Washington Cranberry Juice  \\\ndate       store_id                                                \n1997-01-01 6                       0                           0   \n           14                      0                           0   \n1997-01-02 11                      0                           0   \n           23                      0                           0   \n1997-01-03 7                       0                           0   \n\nproduct_name         Washington Cream Soda  Washington Diet Cola  \\\ndate       store_id                                                \n1997-01-01 6                             4                     0   \n           14                            0                     0   \n1997-01-02 11                            0                     0   \n           23                            0                     0   \n1997-01-03 7                             0                     0   \n\nproduct_name         Washington Diet Soda  Washington Mango Drink  \\\ndate       store_id                                                 \n1997-01-01 6                            0                       0   \n           14                           0                       0   \n1997-01-02 11                           0                       0   \n           23                           0                       0   \n1997-01-03 7                            0                       0   \n\nproduct_name         Washington Orange Juice  Washington Strawberry Drink  \ndate       store_id                                                        \n1997-01-01 6                               0                            0  \n           14                              0                            0  \n1997-01-02 11                              0                            0  \n           23                              0                            0  \n1997-01-03 7                               0                            0  \n\n[5 rows x 1559 columns]",
      "text/html": "<div>\n<style scoped>\n    .dataframe tbody tr th:only-of-type {\n        vertical-align: middle;\n    }\n\n    .dataframe tbody tr th {\n        vertical-align: top;\n    }\n\n    .dataframe thead th {\n        text-align: right;\n    }\n</style>\n<table border=\"1\" class=\"dataframe\">\n  <thead>\n    <tr style=\"text-align: right;\">\n      <th></th>\n      <th>product_name</th>\n      <th>ADJ Rosy Sunglasses</th>\n      <th>Akron City Map</th>\n      <th>Akron Eyeglass Screwdriver</th>\n      <th>American Beef Bologna</th>\n      <th>American Chicken Hot Dogs</th>\n      <th>American Cole Slaw</th>\n      <th>American Corned Beef</th>\n      <th>American Foot-Long Hot Dogs</th>\n      <th>American Low Fat Bologna</th>\n      <th>American Low Fat Cole Slaw</th>\n      <th>...</th>\n      <th>Washington Apple Juice</th>\n      <th>Washington Berry Juice</th>\n      <th>Washington Cola</th>\n      <th>Washington Cranberry Juice</th>\n      <th>Washington Cream Soda</th>\n      <th>Washington Diet Cola</th>\n      <th>Washington Diet Soda</th>\n      <th>Washington Mango Drink</th>\n      <th>Washington Orange Juice</th>\n      <th>Washington Strawberry Drink</th>\n    </tr>\n    <tr>\n      <th>date</th>\n      <th>store_id</th>\n      <th></th>\n      <th></th>\n      <th></th>\n      <th></th>\n      <th></th>\n      <th></th>\n      <th></th>\n      <th></th>\n      <th></th>\n      <th></th>\n      <th></th>\n      <th></th>\n      <th></th>\n      <th></th>\n      <th></th>\n      <th></th>\n      <th></th>\n      <th></th>\n      <th></th>\n      <th></th>\n      <th></th>\n    </tr>\n  </thead>\n  <tbody>\n    <tr>\n      <th rowspan=\"2\" valign=\"top\">1997-01-01</th>\n      <th>6</th>\n      <td>0</td>\n      <td>0</td>\n      <td>0</td>\n      <td>0</td>\n      <td>0</td>\n      <td>0</td>\n      <td>0</td>\n      <td>0</td>\n      <td>0</td>\n      <td>0</td>\n      <td>...</td>\n      <td>0</td>\n      <td>0</td>\n      <td>0</td>\n      <td>0</td>\n      <td>4</td>\n      <td>0</td>\n      <td>0</td>\n      <td>0</td>\n      <td>0</td>\n      <td>0</td>\n    </tr>\n    <tr>\n      <th>14</th>\n      <td>0</td>\n      <td>0</td>\n      <td>0</td>\n      <td>0</td>\n      <td>0</td>\n      <td>0</td>\n      <td>0</td>\n      <td>0</td>\n      <td>0</td>\n      <td>0</td>\n      <td>...</td>\n      <td>0</td>\n      <td>0</td>\n      <td>0</td>\n      <td>0</td>\n      <td>0</td>\n      <td>0</td>\n      <td>0</td>\n      <td>0</td>\n      <td>0</td>\n      <td>0</td>\n    </tr>\n    <tr>\n      <th rowspan=\"2\" valign=\"top\">1997-01-02</th>\n      <th>11</th>\n      <td>0</td>\n      <td>0</td>\n      <td>0</td>\n      <td>0</td>\n      <td>0</td>\n      <td>0</td>\n      <td>0</td>\n      <td>0</td>\n      <td>0</td>\n      <td>0</td>\n      <td>...</td>\n      <td>0</td>\n      <td>0</td>\n      <td>0</td>\n      <td>0</td>\n      <td>0</td>\n      <td>0</td>\n      <td>0</td>\n      <td>0</td>\n      <td>0</td>\n      <td>0</td>\n    </tr>\n    <tr>\n      <th>23</th>\n      <td>0</td>\n      <td>0</td>\n      <td>0</td>\n      <td>0</td>\n      <td>0</td>\n      <td>0</td>\n      <td>0</td>\n      <td>0</td>\n      <td>0</td>\n      <td>0</td>\n      <td>...</td>\n      <td>0</td>\n      <td>0</td>\n      <td>0</td>\n      <td>0</td>\n      <td>0</td>\n      <td>0</td>\n      <td>0</td>\n      <td>0</td>\n      <td>0</td>\n      <td>0</td>\n    </tr>\n    <tr>\n      <th>1997-01-03</th>\n      <th>7</th>\n      <td>0</td>\n      <td>0</td>\n      <td>0</td>\n      <td>0</td>\n      <td>0</td>\n      <td>0</td>\n      <td>0</td>\n      <td>0</td>\n      <td>0</td>\n      <td>0</td>\n      <td>...</td>\n      <td>0</td>\n      <td>4</td>\n      <td>0</td>\n      <td>0</td>\n      <td>0</td>\n      <td>0</td>\n      <td>0</td>\n      <td>0</td>\n      <td>0</td>\n      <td>0</td>\n    </tr>\n  </tbody>\n</table>\n<p>5 rows × 1559 columns</p>\n</div>"
     },
     "execution_count": 5,
     "metadata": {},
     "output_type": "execute_result"
    }
   ],
   "source": [
    "#   Корреляция Пирсона\n",
    "sparse_sales = pd.pivot_table(sales, values='sales', index=['date', 'store_id'], columns=['product_name'], fill_value=0, aggfunc=lambda x: x)\n",
    "sparse_sales.head()"
   ],
   "metadata": {
    "collapsed": false,
    "pycharm": {
     "name": "#%%\n"
    }
   }
  },
  {
   "cell_type": "code",
   "execution_count": 26,
   "outputs": [
    {
     "data": {
      "text/plain": "  0%|          | 0/1559 [00:00<?, ?it/s]",
      "application/vnd.jupyter.widget-view+json": {
       "version_major": 2,
       "version_minor": 0,
       "model_id": "40cce99b34b245c6af396f3ef3755697"
      }
     },
     "metadata": {},
     "output_type": "display_data"
    },
    {
     "name": "stdout",
     "output_type": "stream",
     "text": [
      "CPU times: user 2min 29s, sys: 2.31 s, total: 2min 31s\n",
      "Wall time: 2min 47s\n"
     ]
    }
   ],
   "source": [
    "%%time\n",
    "corr_data = []\n",
    "for i, lhs_column in tqdm(enumerate(sparse_sales.columns), total=sparse_sales.shape[1]):\n",
    "    for j, rhs_columns in enumerate(sparse_sales.columns):\n",
    "        if i>=j:\n",
    "            continue\n",
    "        corr, p = pearsonr(sparse_sales[lhs_column], sparse_sales[rhs_columns])\n",
    "        corr_data.append([lhs_column, rhs_columns, corr, p])\n",
    "#print(corr_data)"
   ],
   "metadata": {
    "collapsed": false,
    "pycharm": {
     "name": "#%%\n"
    }
   }
  },
  {
   "cell_type": "code",
   "execution_count": 29,
   "outputs": [
    {
     "data": {
      "text/plain": "             product_A                   product_B      corr         p\n0  ADJ Rosy Sunglasses              Akron City Map  0.076608  0.032414\n1  ADJ Rosy Sunglasses  Akron Eyeglass Screwdriver -0.006581  0.854396\n2  ADJ Rosy Sunglasses       American Beef Bologna  0.038685  0.280546\n3  ADJ Rosy Sunglasses   American Chicken Hot Dogs  0.041105  0.251529\n4  ADJ Rosy Sunglasses          American Cole Slaw -0.045887  0.200484",
      "text/html": "<div>\n<style scoped>\n    .dataframe tbody tr th:only-of-type {\n        vertical-align: middle;\n    }\n\n    .dataframe tbody tr th {\n        vertical-align: top;\n    }\n\n    .dataframe thead th {\n        text-align: right;\n    }\n</style>\n<table border=\"1\" class=\"dataframe\">\n  <thead>\n    <tr style=\"text-align: right;\">\n      <th></th>\n      <th>product_A</th>\n      <th>product_B</th>\n      <th>corr</th>\n      <th>p</th>\n    </tr>\n  </thead>\n  <tbody>\n    <tr>\n      <th>0</th>\n      <td>ADJ Rosy Sunglasses</td>\n      <td>Akron City Map</td>\n      <td>0.076608</td>\n      <td>0.032414</td>\n    </tr>\n    <tr>\n      <th>1</th>\n      <td>ADJ Rosy Sunglasses</td>\n      <td>Akron Eyeglass Screwdriver</td>\n      <td>-0.006581</td>\n      <td>0.854396</td>\n    </tr>\n    <tr>\n      <th>2</th>\n      <td>ADJ Rosy Sunglasses</td>\n      <td>American Beef Bologna</td>\n      <td>0.038685</td>\n      <td>0.280546</td>\n    </tr>\n    <tr>\n      <th>3</th>\n      <td>ADJ Rosy Sunglasses</td>\n      <td>American Chicken Hot Dogs</td>\n      <td>0.041105</td>\n      <td>0.251529</td>\n    </tr>\n    <tr>\n      <th>4</th>\n      <td>ADJ Rosy Sunglasses</td>\n      <td>American Cole Slaw</td>\n      <td>-0.045887</td>\n      <td>0.200484</td>\n    </tr>\n  </tbody>\n</table>\n</div>"
     },
     "execution_count": 29,
     "metadata": {},
     "output_type": "execute_result"
    }
   ],
   "source": [
    "corr_data = pd.DataFrame(corr_data, columns=['product_A', 'product_B', 'corr', 'p'])\n",
    "corr_data.head()"
   ],
   "metadata": {
    "collapsed": false,
    "pycharm": {
     "name": "#%%\n"
    }
   }
  },
  {
   "cell_type": "code",
   "execution_count": 33,
   "outputs": [
    {
     "data": {
      "text/plain": "False    982453\nTrue     232008\nName: p, dtype: int64"
     },
     "execution_count": 33,
     "metadata": {},
     "output_type": "execute_result"
    }
   ],
   "source": [
    "(corr_data.p < .05).value_counts()"
   ],
   "metadata": {
    "collapsed": false,
    "pycharm": {
     "name": "#%%\n"
    }
   }
  },
  {
   "cell_type": "markdown",
   "source": [
    "### Поправка на множественную гипотезу"
   ],
   "metadata": {
    "collapsed": false,
    "pycharm": {
     "name": "#%% md\n"
    }
   }
  },
  {
   "cell_type": "code",
   "execution_count": 34,
   "outputs": [],
   "source": [
    "#   Поправка Холма\n",
    "reject, p_corrected, a1, a2 = multipletests(corr_data.p, alpha=.05, method=\"holm\")"
   ],
   "metadata": {
    "collapsed": false,
    "pycharm": {
     "name": "#%%\n"
    }
   }
  },
  {
   "cell_type": "code",
   "execution_count": 36,
   "outputs": [
    {
     "data": {
      "text/plain": "             product_A                   product_B      corr         p  \\\n0  ADJ Rosy Sunglasses              Akron City Map  0.076608  0.032414   \n1  ADJ Rosy Sunglasses  Akron Eyeglass Screwdriver -0.006581  0.854396   \n2  ADJ Rosy Sunglasses       American Beef Bologna  0.038685  0.280546   \n3  ADJ Rosy Sunglasses   American Chicken Hot Dogs  0.041105  0.251529   \n4  ADJ Rosy Sunglasses          American Cole Slaw -0.045887  0.200484   \n\n   p_corrected  reject  \n0          1.0   False  \n1          1.0   False  \n2          1.0   False  \n3          1.0   False  \n4          1.0   False  ",
      "text/html": "<div>\n<style scoped>\n    .dataframe tbody tr th:only-of-type {\n        vertical-align: middle;\n    }\n\n    .dataframe tbody tr th {\n        vertical-align: top;\n    }\n\n    .dataframe thead th {\n        text-align: right;\n    }\n</style>\n<table border=\"1\" class=\"dataframe\">\n  <thead>\n    <tr style=\"text-align: right;\">\n      <th></th>\n      <th>product_A</th>\n      <th>product_B</th>\n      <th>corr</th>\n      <th>p</th>\n      <th>p_corrected</th>\n      <th>reject</th>\n    </tr>\n  </thead>\n  <tbody>\n    <tr>\n      <th>0</th>\n      <td>ADJ Rosy Sunglasses</td>\n      <td>Akron City Map</td>\n      <td>0.076608</td>\n      <td>0.032414</td>\n      <td>1.0</td>\n      <td>False</td>\n    </tr>\n    <tr>\n      <th>1</th>\n      <td>ADJ Rosy Sunglasses</td>\n      <td>Akron Eyeglass Screwdriver</td>\n      <td>-0.006581</td>\n      <td>0.854396</td>\n      <td>1.0</td>\n      <td>False</td>\n    </tr>\n    <tr>\n      <th>2</th>\n      <td>ADJ Rosy Sunglasses</td>\n      <td>American Beef Bologna</td>\n      <td>0.038685</td>\n      <td>0.280546</td>\n      <td>1.0</td>\n      <td>False</td>\n    </tr>\n    <tr>\n      <th>3</th>\n      <td>ADJ Rosy Sunglasses</td>\n      <td>American Chicken Hot Dogs</td>\n      <td>0.041105</td>\n      <td>0.251529</td>\n      <td>1.0</td>\n      <td>False</td>\n    </tr>\n    <tr>\n      <th>4</th>\n      <td>ADJ Rosy Sunglasses</td>\n      <td>American Cole Slaw</td>\n      <td>-0.045887</td>\n      <td>0.200484</td>\n      <td>1.0</td>\n      <td>False</td>\n    </tr>\n  </tbody>\n</table>\n</div>"
     },
     "execution_count": 36,
     "metadata": {},
     "output_type": "execute_result"
    }
   ],
   "source": [
    "corr_data[\"p_corrected\"] = p_corrected\n",
    "corr_data[\"reject\"] = reject\n",
    "corr_data.head()"
   ],
   "metadata": {
    "collapsed": false,
    "pycharm": {
     "name": "#%%\n"
    }
   }
  },
  {
   "cell_type": "code",
   "execution_count": 39,
   "outputs": [
    {
     "data": {
      "text/plain": "False    1212733\nTrue        1728\nName: reject, dtype: int64"
     },
     "execution_count": 39,
     "metadata": {},
     "output_type": "execute_result"
    }
   ],
   "source": [
    "corr_data.reject.value_counts()"
   ],
   "metadata": {
    "collapsed": false,
    "pycharm": {
     "name": "#%%\n"
    }
   }
  },
  {
   "cell_type": "code",
   "execution_count": 42,
   "outputs": [
    {
     "data": {
      "text/plain": "                            product_A                   product_B      corr  \\\n1063670     Just Right Vegetable Soup   Plato French Roast Coffee  0.340598   \n885574                  Great Muffins  Nationeel Grape Fruit Roll  0.322176   \n473067    Club Low Fat Cottage Cheese    Skinner Strawberry Drink  0.306701   \n1181001  Robust Monthly Home Magazine            Tri-State Lemons  0.303269   \n1160248   Pleasant Regular Ramen Soup          Shady Lake Ravioli  0.298502   \n\n                    p   p_corrected  reject  \n1063670  1.226033e-22  1.488970e-16    True  \n885574   2.688803e-20  3.265443e-14    True  \n473067   1.883995e-18  2.288034e-12    True  \n1181001  4.674973e-18  5.677558e-12    True  \n1160248  1.619119e-17  1.966350e-11    True  ",
      "text/html": "<div>\n<style scoped>\n    .dataframe tbody tr th:only-of-type {\n        vertical-align: middle;\n    }\n\n    .dataframe tbody tr th {\n        vertical-align: top;\n    }\n\n    .dataframe thead th {\n        text-align: right;\n    }\n</style>\n<table border=\"1\" class=\"dataframe\">\n  <thead>\n    <tr style=\"text-align: right;\">\n      <th></th>\n      <th>product_A</th>\n      <th>product_B</th>\n      <th>corr</th>\n      <th>p</th>\n      <th>p_corrected</th>\n      <th>reject</th>\n    </tr>\n  </thead>\n  <tbody>\n    <tr>\n      <th>1063670</th>\n      <td>Just Right Vegetable Soup</td>\n      <td>Plato French Roast Coffee</td>\n      <td>0.340598</td>\n      <td>1.226033e-22</td>\n      <td>1.488970e-16</td>\n      <td>True</td>\n    </tr>\n    <tr>\n      <th>885574</th>\n      <td>Great Muffins</td>\n      <td>Nationeel Grape Fruit Roll</td>\n      <td>0.322176</td>\n      <td>2.688803e-20</td>\n      <td>3.265443e-14</td>\n      <td>True</td>\n    </tr>\n    <tr>\n      <th>473067</th>\n      <td>Club Low Fat Cottage Cheese</td>\n      <td>Skinner Strawberry Drink</td>\n      <td>0.306701</td>\n      <td>1.883995e-18</td>\n      <td>2.288034e-12</td>\n      <td>True</td>\n    </tr>\n    <tr>\n      <th>1181001</th>\n      <td>Robust Monthly Home Magazine</td>\n      <td>Tri-State Lemons</td>\n      <td>0.303269</td>\n      <td>4.674973e-18</td>\n      <td>5.677558e-12</td>\n      <td>True</td>\n    </tr>\n    <tr>\n      <th>1160248</th>\n      <td>Pleasant Regular Ramen Soup</td>\n      <td>Shady Lake Ravioli</td>\n      <td>0.298502</td>\n      <td>1.619119e-17</td>\n      <td>1.966350e-11</td>\n      <td>True</td>\n    </tr>\n  </tbody>\n</table>\n</div>"
     },
     "execution_count": 42,
     "metadata": {},
     "output_type": "execute_result"
    }
   ],
   "source": [
    "corr_data[corr_data['reject'] == True].sort_values(by='corr', ascending=False).head()"
   ],
   "metadata": {
    "collapsed": false,
    "pycharm": {
     "name": "#%%\n"
    }
   }
  },
  {
   "cell_type": "code",
   "execution_count": 43,
   "outputs": [],
   "source": [
    "#   Бенджамини-Хохберга\n",
    "reject, p_corrected, a1, a2 = multipletests(corr_data.p, alpha=.05, method=\"fdr_bh\")"
   ],
   "metadata": {
    "collapsed": false,
    "pycharm": {
     "name": "#%%\n"
    }
   }
  },
  {
   "cell_type": "code",
   "execution_count": 44,
   "outputs": [
    {
     "data": {
      "text/plain": "             product_A                   product_B      corr         p  \\\n0  ADJ Rosy Sunglasses              Akron City Map  0.076608  0.032414   \n1  ADJ Rosy Sunglasses  Akron Eyeglass Screwdriver -0.006581  0.854396   \n2  ADJ Rosy Sunglasses       American Beef Bologna  0.038685  0.280546   \n3  ADJ Rosy Sunglasses   American Chicken Hot Dogs  0.041105  0.251529   \n4  ADJ Rosy Sunglasses          American Cole Slaw -0.045887  0.200484   \n\n   p_corrected  reject  \n0     0.203716   False  \n1     0.956078   False  \n2     0.630699   False  \n3     0.600790   False  \n4     0.541916   False  ",
      "text/html": "<div>\n<style scoped>\n    .dataframe tbody tr th:only-of-type {\n        vertical-align: middle;\n    }\n\n    .dataframe tbody tr th {\n        vertical-align: top;\n    }\n\n    .dataframe thead th {\n        text-align: right;\n    }\n</style>\n<table border=\"1\" class=\"dataframe\">\n  <thead>\n    <tr style=\"text-align: right;\">\n      <th></th>\n      <th>product_A</th>\n      <th>product_B</th>\n      <th>corr</th>\n      <th>p</th>\n      <th>p_corrected</th>\n      <th>reject</th>\n    </tr>\n  </thead>\n  <tbody>\n    <tr>\n      <th>0</th>\n      <td>ADJ Rosy Sunglasses</td>\n      <td>Akron City Map</td>\n      <td>0.076608</td>\n      <td>0.032414</td>\n      <td>0.203716</td>\n      <td>False</td>\n    </tr>\n    <tr>\n      <th>1</th>\n      <td>ADJ Rosy Sunglasses</td>\n      <td>Akron Eyeglass Screwdriver</td>\n      <td>-0.006581</td>\n      <td>0.854396</td>\n      <td>0.956078</td>\n      <td>False</td>\n    </tr>\n    <tr>\n      <th>2</th>\n      <td>ADJ Rosy Sunglasses</td>\n      <td>American Beef Bologna</td>\n      <td>0.038685</td>\n      <td>0.280546</td>\n      <td>0.630699</td>\n      <td>False</td>\n    </tr>\n    <tr>\n      <th>3</th>\n      <td>ADJ Rosy Sunglasses</td>\n      <td>American Chicken Hot Dogs</td>\n      <td>0.041105</td>\n      <td>0.251529</td>\n      <td>0.600790</td>\n      <td>False</td>\n    </tr>\n    <tr>\n      <th>4</th>\n      <td>ADJ Rosy Sunglasses</td>\n      <td>American Cole Slaw</td>\n      <td>-0.045887</td>\n      <td>0.200484</td>\n      <td>0.541916</td>\n      <td>False</td>\n    </tr>\n  </tbody>\n</table>\n</div>"
     },
     "execution_count": 44,
     "metadata": {},
     "output_type": "execute_result"
    }
   ],
   "source": [
    "corr_data[\"p_corrected\"] = p_corrected\n",
    "corr_data[\"reject\"] = reject\n",
    "corr_data.head()"
   ],
   "metadata": {
    "collapsed": false,
    "pycharm": {
     "name": "#%%\n"
    }
   }
  },
  {
   "cell_type": "code",
   "execution_count": 45,
   "outputs": [
    {
     "data": {
      "text/plain": "False    1138407\nTrue       76054\nName: reject, dtype: int64"
     },
     "execution_count": 45,
     "metadata": {},
     "output_type": "execute_result"
    }
   ],
   "source": [
    "corr_data.reject.value_counts()"
   ],
   "metadata": {
    "collapsed": false,
    "pycharm": {
     "name": "#%%\n"
    }
   }
  },
  {
   "cell_type": "code",
   "execution_count": 46,
   "outputs": [
    {
     "data": {
      "text/plain": "                            product_A                   product_B      corr  \\\n1063670     Just Right Vegetable Soup   Plato French Roast Coffee  0.340598   \n885574                  Great Muffins  Nationeel Grape Fruit Roll  0.322176   \n473067    Club Low Fat Cottage Cheese    Skinner Strawberry Drink  0.306701   \n1181001  Robust Monthly Home Magazine            Tri-State Lemons  0.303269   \n1160248   Pleasant Regular Ramen Soup          Shady Lake Ravioli  0.298502   \n\n                    p   p_corrected  reject  \n1063670  1.226033e-22  1.488970e-16    True  \n885574   2.688803e-20  1.632723e-14    True  \n473067   1.883995e-18  7.626793e-13    True  \n1181001  4.674973e-18  1.419393e-12    True  \n1160248  1.619119e-17  3.932713e-12    True  ",
      "text/html": "<div>\n<style scoped>\n    .dataframe tbody tr th:only-of-type {\n        vertical-align: middle;\n    }\n\n    .dataframe tbody tr th {\n        vertical-align: top;\n    }\n\n    .dataframe thead th {\n        text-align: right;\n    }\n</style>\n<table border=\"1\" class=\"dataframe\">\n  <thead>\n    <tr style=\"text-align: right;\">\n      <th></th>\n      <th>product_A</th>\n      <th>product_B</th>\n      <th>corr</th>\n      <th>p</th>\n      <th>p_corrected</th>\n      <th>reject</th>\n    </tr>\n  </thead>\n  <tbody>\n    <tr>\n      <th>1063670</th>\n      <td>Just Right Vegetable Soup</td>\n      <td>Plato French Roast Coffee</td>\n      <td>0.340598</td>\n      <td>1.226033e-22</td>\n      <td>1.488970e-16</td>\n      <td>True</td>\n    </tr>\n    <tr>\n      <th>885574</th>\n      <td>Great Muffins</td>\n      <td>Nationeel Grape Fruit Roll</td>\n      <td>0.322176</td>\n      <td>2.688803e-20</td>\n      <td>1.632723e-14</td>\n      <td>True</td>\n    </tr>\n    <tr>\n      <th>473067</th>\n      <td>Club Low Fat Cottage Cheese</td>\n      <td>Skinner Strawberry Drink</td>\n      <td>0.306701</td>\n      <td>1.883995e-18</td>\n      <td>7.626793e-13</td>\n      <td>True</td>\n    </tr>\n    <tr>\n      <th>1181001</th>\n      <td>Robust Monthly Home Magazine</td>\n      <td>Tri-State Lemons</td>\n      <td>0.303269</td>\n      <td>4.674973e-18</td>\n      <td>1.419393e-12</td>\n      <td>True</td>\n    </tr>\n    <tr>\n      <th>1160248</th>\n      <td>Pleasant Regular Ramen Soup</td>\n      <td>Shady Lake Ravioli</td>\n      <td>0.298502</td>\n      <td>1.619119e-17</td>\n      <td>3.932713e-12</td>\n      <td>True</td>\n    </tr>\n  </tbody>\n</table>\n</div>"
     },
     "execution_count": 46,
     "metadata": {},
     "output_type": "execute_result"
    }
   ],
   "source": [
    "corr_data[corr_data['reject'] == True].sort_values(by='corr', ascending=False).head()\n"
   ],
   "metadata": {
    "collapsed": false,
    "pycharm": {
     "name": "#%%\n"
    }
   }
  }
 ],
 "metadata": {
  "kernelspec": {
   "display_name": "Python 3",
   "language": "python",
   "name": "python3"
  },
  "language_info": {
   "codemirror_mode": {
    "name": "ipython",
    "version": 2
   },
   "file_extension": ".py",
   "mimetype": "text/x-python",
   "name": "python",
   "nbconvert_exporter": "python",
   "pygments_lexer": "ipython2",
   "version": "2.7.6"
  }
 },
 "nbformat": 4,
 "nbformat_minor": 0
}