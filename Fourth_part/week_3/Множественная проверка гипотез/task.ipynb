{
 "cells": [
  {
   "cell_type": "code",
   "execution_count": 15,
   "metadata": {
    "collapsed": true
   },
   "outputs": [],
   "source": [
    "import pandas as pd\n",
    "import numpy as np\n",
    "from scipy import stats\n",
    "from tqdm.notebook import tqdm_notebook as tqdm\n",
    "from statsmodels.sandbox.stats.multicomp import multipletests"
   ]
  },
  {
   "cell_type": "code",
   "execution_count": 5,
   "outputs": [
    {
     "data": {
      "text/plain": "                          C4.5  C4.5+m  C4.5+cf  C4.5+m+cf\nadult (sample)           0.763   0.768    0.771      0.798\nbreast cancer            0.599   0.591    0.590      0.569\nbreast cancer wisconsin  0.954   0.971    0.968      0.967\ncmc                      0.628   0.661    0.654      0.657\nionosphere               0.882   0.888    0.886      0.898",
      "text/html": "<div>\n<style scoped>\n    .dataframe tbody tr th:only-of-type {\n        vertical-align: middle;\n    }\n\n    .dataframe tbody tr th {\n        vertical-align: top;\n    }\n\n    .dataframe thead th {\n        text-align: right;\n    }\n</style>\n<table border=\"1\" class=\"dataframe\">\n  <thead>\n    <tr style=\"text-align: right;\">\n      <th></th>\n      <th>C4.5</th>\n      <th>C4.5+m</th>\n      <th>C4.5+cf</th>\n      <th>C4.5+m+cf</th>\n    </tr>\n  </thead>\n  <tbody>\n    <tr>\n      <th>adult (sample)</th>\n      <td>0.763</td>\n      <td>0.768</td>\n      <td>0.771</td>\n      <td>0.798</td>\n    </tr>\n    <tr>\n      <th>breast cancer</th>\n      <td>0.599</td>\n      <td>0.591</td>\n      <td>0.590</td>\n      <td>0.569</td>\n    </tr>\n    <tr>\n      <th>breast cancer wisconsin</th>\n      <td>0.954</td>\n      <td>0.971</td>\n      <td>0.968</td>\n      <td>0.967</td>\n    </tr>\n    <tr>\n      <th>cmc</th>\n      <td>0.628</td>\n      <td>0.661</td>\n      <td>0.654</td>\n      <td>0.657</td>\n    </tr>\n    <tr>\n      <th>ionosphere</th>\n      <td>0.882</td>\n      <td>0.888</td>\n      <td>0.886</td>\n      <td>0.898</td>\n    </tr>\n  </tbody>\n</table>\n</div>"
     },
     "execution_count": 5,
     "metadata": {},
     "output_type": "execute_result"
    }
   ],
   "source": [
    "data_auc = pd.read_csv(\"cmf.txt\", header=0, sep=\"\\t\", index_col=0)\n",
    "data_auc.head()"
   ],
   "metadata": {
    "collapsed": false,
    "pycharm": {
     "name": "#%%\n"
    }
   }
  },
  {
   "cell_type": "code",
   "execution_count": 18,
   "outputs": [
    {
     "data": {
      "text/plain": "  0%|          | 0/4 [00:00<?, ?it/s]",
      "application/vnd.jupyter.widget-view+json": {
       "version_major": 2,
       "version_minor": 0,
       "model_id": "d0451290ec8b40e59004b7314dbd4e3e"
      }
     },
     "metadata": {},
     "output_type": "display_data"
    },
    {
     "name": "stderr",
     "output_type": "stream",
     "text": [
      "/Users/molozey/PycharmProjects/Coursera_Machine_2/venv/lib/python3.9/site-packages/scipy/stats/morestats.py:2967: UserWarning: Exact p-value calculation does not work if there are ties. Switching to normal approximation.\n",
      "  warnings.warn(\"Exact p-value calculation does not work if there are \"\n"
     ]
    }
   ],
   "source": [
    "data_corr = []\n",
    "for i, lhr in tqdm(enumerate(data_auc.columns), total=data_auc.shape[1]):\n",
    "    for j, rhr in enumerate(data_auc.columns):\n",
    "        if i >= j:\n",
    "            continue\n",
    "        corr, p = stats.wilcoxon(data_auc[lhr], data_auc[rhr])\n",
    "        data_corr.append([lhr, rhr, corr, p])"
   ],
   "metadata": {
    "collapsed": false,
    "pycharm": {
     "name": "#%%\n"
    }
   }
  },
  {
   "cell_type": "code",
   "execution_count": 22,
   "outputs": [
    {
     "data": {
      "text/plain": "   CLASS_1    CLASS_2  STAT   P_VALUE\n0     C4.5     C4.5+m   6.5  0.010757\n2     C4.5  C4.5+m+cf  11.0  0.015874\n5  C4.5+cf  C4.5+m+cf  10.5  0.025314\n3   C4.5+m    C4.5+cf  18.0  0.054329\n4   C4.5+m  C4.5+m+cf  22.0  0.327826",
      "text/html": "<div>\n<style scoped>\n    .dataframe tbody tr th:only-of-type {\n        vertical-align: middle;\n    }\n\n    .dataframe tbody tr th {\n        vertical-align: top;\n    }\n\n    .dataframe thead th {\n        text-align: right;\n    }\n</style>\n<table border=\"1\" class=\"dataframe\">\n  <thead>\n    <tr style=\"text-align: right;\">\n      <th></th>\n      <th>CLASS_1</th>\n      <th>CLASS_2</th>\n      <th>STAT</th>\n      <th>P_VALUE</th>\n    </tr>\n  </thead>\n  <tbody>\n    <tr>\n      <th>0</th>\n      <td>C4.5</td>\n      <td>C4.5+m</td>\n      <td>6.5</td>\n      <td>0.010757</td>\n    </tr>\n    <tr>\n      <th>2</th>\n      <td>C4.5</td>\n      <td>C4.5+m+cf</td>\n      <td>11.0</td>\n      <td>0.015874</td>\n    </tr>\n    <tr>\n      <th>5</th>\n      <td>C4.5+cf</td>\n      <td>C4.5+m+cf</td>\n      <td>10.5</td>\n      <td>0.025314</td>\n    </tr>\n    <tr>\n      <th>3</th>\n      <td>C4.5+m</td>\n      <td>C4.5+cf</td>\n      <td>18.0</td>\n      <td>0.054329</td>\n    </tr>\n    <tr>\n      <th>4</th>\n      <td>C4.5+m</td>\n      <td>C4.5+m+cf</td>\n      <td>22.0</td>\n      <td>0.327826</td>\n    </tr>\n  </tbody>\n</table>\n</div>"
     },
     "execution_count": 22,
     "metadata": {},
     "output_type": "execute_result"
    }
   ],
   "source": [
    "corr_pd = pd.DataFrame(data_corr, columns=['CLASS_1', 'CLASS_2', 'STAT', 'P_VALUE']).sort_values(by='P_VALUE')\n",
    "corr_pd.head()"
   ],
   "metadata": {
    "collapsed": false,
    "pycharm": {
     "name": "#%%\n"
    }
   }
  },
  {
   "cell_type": "code",
   "execution_count": 24,
   "outputs": [],
   "source": [
    "#   Поправка Холма\n",
    "reject, p_corrected, a1, a2 = multipletests(corr_pd.P_VALUE, alpha=.05, method=\"holm\")\n",
    "corr_pd[\"P_CORRECTED\"] = p_corrected\n",
    "corr_pd[\"REJECT\"] = reject"
   ],
   "metadata": {
    "collapsed": false,
    "pycharm": {
     "name": "#%%\n"
    }
   }
  },
  {
   "cell_type": "code",
   "execution_count": 25,
   "outputs": [
    {
     "data": {
      "text/plain": "   CLASS_1    CLASS_2  STAT   P_VALUE  P_CORRECTED  REJECT\n0     C4.5     C4.5+m   6.5  0.010757     0.064543   False\n2     C4.5  C4.5+m+cf  11.0  0.015874     0.079372   False\n5  C4.5+cf  C4.5+m+cf  10.5  0.025314     0.101254   False\n3   C4.5+m    C4.5+cf  18.0  0.054329     0.162986   False\n4   C4.5+m  C4.5+m+cf  22.0  0.327826     0.655651   False",
      "text/html": "<div>\n<style scoped>\n    .dataframe tbody tr th:only-of-type {\n        vertical-align: middle;\n    }\n\n    .dataframe tbody tr th {\n        vertical-align: top;\n    }\n\n    .dataframe thead th {\n        text-align: right;\n    }\n</style>\n<table border=\"1\" class=\"dataframe\">\n  <thead>\n    <tr style=\"text-align: right;\">\n      <th></th>\n      <th>CLASS_1</th>\n      <th>CLASS_2</th>\n      <th>STAT</th>\n      <th>P_VALUE</th>\n      <th>P_CORRECTED</th>\n      <th>REJECT</th>\n    </tr>\n  </thead>\n  <tbody>\n    <tr>\n      <th>0</th>\n      <td>C4.5</td>\n      <td>C4.5+m</td>\n      <td>6.5</td>\n      <td>0.010757</td>\n      <td>0.064543</td>\n      <td>False</td>\n    </tr>\n    <tr>\n      <th>2</th>\n      <td>C4.5</td>\n      <td>C4.5+m+cf</td>\n      <td>11.0</td>\n      <td>0.015874</td>\n      <td>0.079372</td>\n      <td>False</td>\n    </tr>\n    <tr>\n      <th>5</th>\n      <td>C4.5+cf</td>\n      <td>C4.5+m+cf</td>\n      <td>10.5</td>\n      <td>0.025314</td>\n      <td>0.101254</td>\n      <td>False</td>\n    </tr>\n    <tr>\n      <th>3</th>\n      <td>C4.5+m</td>\n      <td>C4.5+cf</td>\n      <td>18.0</td>\n      <td>0.054329</td>\n      <td>0.162986</td>\n      <td>False</td>\n    </tr>\n    <tr>\n      <th>4</th>\n      <td>C4.5+m</td>\n      <td>C4.5+m+cf</td>\n      <td>22.0</td>\n      <td>0.327826</td>\n      <td>0.655651</td>\n      <td>False</td>\n    </tr>\n  </tbody>\n</table>\n</div>"
     },
     "execution_count": 25,
     "metadata": {},
     "output_type": "execute_result"
    }
   ],
   "source": [
    "corr_pd.head()"
   ],
   "metadata": {
    "collapsed": false,
    "pycharm": {
     "name": "#%%\n"
    }
   }
  },
  {
   "cell_type": "code",
   "execution_count": 26,
   "outputs": [],
   "source": [
    "#   Бенджамини\n",
    "reject, p_corrected, a1, a2 = multipletests(corr_pd.P_VALUE, alpha=.05, method=\"fdr_bh\")\n",
    "corr_pd[\"P_CORRECTED\"] = p_corrected\n",
    "corr_pd[\"REJECT\"] = reject"
   ],
   "metadata": {
    "collapsed": false,
    "pycharm": {
     "name": "#%%\n"
    }
   }
  },
  {
   "cell_type": "code",
   "execution_count": 27,
   "outputs": [
    {
     "data": {
      "text/plain": "   CLASS_1    CLASS_2  STAT   P_VALUE  P_CORRECTED  REJECT\n0     C4.5     C4.5+m   6.5  0.010757     0.047623    True\n2     C4.5  C4.5+m+cf  11.0  0.015874     0.047623    True\n5  C4.5+cf  C4.5+m+cf  10.5  0.025314     0.050627   False\n3   C4.5+m    C4.5+cf  18.0  0.054329     0.081493   False\n4   C4.5+m  C4.5+m+cf  22.0  0.327826     0.393391   False",
      "text/html": "<div>\n<style scoped>\n    .dataframe tbody tr th:only-of-type {\n        vertical-align: middle;\n    }\n\n    .dataframe tbody tr th {\n        vertical-align: top;\n    }\n\n    .dataframe thead th {\n        text-align: right;\n    }\n</style>\n<table border=\"1\" class=\"dataframe\">\n  <thead>\n    <tr style=\"text-align: right;\">\n      <th></th>\n      <th>CLASS_1</th>\n      <th>CLASS_2</th>\n      <th>STAT</th>\n      <th>P_VALUE</th>\n      <th>P_CORRECTED</th>\n      <th>REJECT</th>\n    </tr>\n  </thead>\n  <tbody>\n    <tr>\n      <th>0</th>\n      <td>C4.5</td>\n      <td>C4.5+m</td>\n      <td>6.5</td>\n      <td>0.010757</td>\n      <td>0.047623</td>\n      <td>True</td>\n    </tr>\n    <tr>\n      <th>2</th>\n      <td>C4.5</td>\n      <td>C4.5+m+cf</td>\n      <td>11.0</td>\n      <td>0.015874</td>\n      <td>0.047623</td>\n      <td>True</td>\n    </tr>\n    <tr>\n      <th>5</th>\n      <td>C4.5+cf</td>\n      <td>C4.5+m+cf</td>\n      <td>10.5</td>\n      <td>0.025314</td>\n      <td>0.050627</td>\n      <td>False</td>\n    </tr>\n    <tr>\n      <th>3</th>\n      <td>C4.5+m</td>\n      <td>C4.5+cf</td>\n      <td>18.0</td>\n      <td>0.054329</td>\n      <td>0.081493</td>\n      <td>False</td>\n    </tr>\n    <tr>\n      <th>4</th>\n      <td>C4.5+m</td>\n      <td>C4.5+m+cf</td>\n      <td>22.0</td>\n      <td>0.327826</td>\n      <td>0.393391</td>\n      <td>False</td>\n    </tr>\n  </tbody>\n</table>\n</div>"
     },
     "execution_count": 27,
     "metadata": {},
     "output_type": "execute_result"
    }
   ],
   "source": [
    "corr_pd.head()"
   ],
   "metadata": {
    "collapsed": false,
    "pycharm": {
     "name": "#%%\n"
    }
   }
  }
 ],
 "metadata": {
  "kernelspec": {
   "display_name": "Python 3",
   "language": "python",
   "name": "python3"
  },
  "language_info": {
   "codemirror_mode": {
    "name": "ipython",
    "version": 2
   },
   "file_extension": ".py",
   "mimetype": "text/x-python",
   "name": "python",
   "nbconvert_exporter": "python",
   "pygments_lexer": "ipython2",
   "version": "2.7.6"
  }
 },
 "nbformat": 4,
 "nbformat_minor": 0
}