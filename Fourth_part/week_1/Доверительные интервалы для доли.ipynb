{
 "cells": [
  {
   "cell_type": "code",
   "execution_count": 1,
   "metadata": {
    "collapsed": true
   },
   "outputs": [],
   "source": [
    "import numpy as np\n",
    "from functools import partial"
   ]
  },
  {
   "cell_type": "code",
   "execution_count": 2,
   "outputs": [],
   "source": [
    "np.random.seed(1)\n",
    "statictical_population = np.random.randint(2, size=100000)\n",
    "random_sample = np.random.choice(statictical_population, size=1000)"
   ],
   "metadata": {
    "collapsed": false,
    "pycharm": {
     "name": "#%%\n"
    }
   }
  },
  {
   "cell_type": "code",
   "execution_count": 3,
   "outputs": [
    {
     "data": {
      "text/plain": "0.49771"
     },
     "execution_count": 3,
     "metadata": {},
     "output_type": "execute_result"
    }
   ],
   "source": [
    "# истинное значение доли\n",
    "statictical_population.mean()"
   ],
   "metadata": {
    "collapsed": false,
    "pycharm": {
     "name": "#%%\n"
    }
   }
  },
  {
   "cell_type": "code",
   "execution_count": 4,
   "outputs": [
    {
     "data": {
      "text/plain": "0.502"
     },
     "execution_count": 4,
     "metadata": {},
     "output_type": "execute_result"
    }
   ],
   "source": [
    "#   Точечная оценка доли\n",
    "random_sample.mean()"
   ],
   "metadata": {
    "collapsed": false,
    "pycharm": {
     "name": "#%%\n"
    }
   }
  },
  {
   "cell_type": "code",
   "execution_count": 5,
   "outputs": [],
   "source": [
    "from statsmodels.stats.proportion import proportion_confint"
   ],
   "metadata": {
    "collapsed": false,
    "pycharm": {
     "name": "#%%\n"
    }
   }
  },
  {
   "cell_type": "code",
   "execution_count": 6,
   "outputs": [],
   "source": [
    "#   Доверительный интервал для доли"
   ],
   "metadata": {
    "collapsed": false,
    "pycharm": {
     "name": "#%%\n"
    }
   }
  },
  {
   "cell_type": "markdown",
   "source": [
    "\\begin{equation}\n",
    "\\dot{p} \\pm z_{1 - \\frac{\\alpha}{2}}\\sqrt{\\frac{\\dot{p}(1 - \\dot{p})}{n}}\n",
    "\\end{equation}"
   ],
   "metadata": {
    "collapsed": false,
    "pycharm": {
     "name": "#%% md\n"
    }
   }
  },
  {
   "cell_type": "code",
   "execution_count": 7,
   "outputs": [
    {
     "name": "stdout",
     "output_type": "stream",
     "text": [
      "[0.4710, 0.5330], width='0.0620'\n"
     ]
    }
   ],
   "source": [
    "normal_interval = proportion_confint(sum(random_sample), len(random_sample), method='normal')\n",
    "print(f'[{normal_interval[0]:.4f}, {normal_interval[1]:.4f}], width=\\'{normal_interval[1] - normal_interval[0]:.4f}\\'')"
   ],
   "metadata": {
    "collapsed": false,
    "pycharm": {
     "name": "#%%\n"
    }
   }
  },
  {
   "cell_type": "markdown",
   "source": [
    "# Доверительный интервал Уилсона\n",
    "\\begin{equation}\n",
    "\\frac{1}{1 + \\frac{z^2}{n}}\\left(\\dot{p} + \\frac{z^2}{2n} \\pm z\\sqrt{\\frac{\\dot{p}(1 - \\dot{p})}{n} + \\frac{z^2}{4 n^2}}\\right), z \\equiv z_{1 - \\frac{\\alpha}{2}}\n",
    "\\end{equation}\n",
    "Можно использовать при крайних случаях (близка к 0 или 1). Хорошо работает при маленькой выборке"
   ],
   "metadata": {
    "collapsed": false,
    "pycharm": {
     "name": "#%% md\n"
    }
   }
  },
  {
   "cell_type": "code",
   "execution_count": 8,
   "outputs": [
    {
     "name": "stdout",
     "output_type": "stream",
     "text": [
      "[0.4711, 0.5329], width='0.0619'\n"
     ]
    }
   ],
   "source": [
    "wilson_interval = proportion_confint(sum(random_sample), len(random_sample), method='wilson')\n",
    "print(f'[{wilson_interval[0]:.4f}, {wilson_interval[1]:.4f}], width=\\'{wilson_interval[1] - wilson_interval[0]:.4f}\\'')"
   ],
   "metadata": {
    "collapsed": false,
    "pycharm": {
     "name": "#%%\n"
    }
   }
  },
  {
   "cell_type": "markdown",
   "source": [
    "#   Определение размера выборки для получения необходимой ширины интервала"
   ],
   "metadata": {
    "collapsed": false,
    "pycharm": {
     "name": "#%% md\n"
    }
   }
  },
  {
   "cell_type": "code",
   "execution_count": 11,
   "outputs": [
    {
     "data": {
      "text/plain": "9603"
     },
     "execution_count": 11,
     "metadata": {},
     "output_type": "execute_result"
    }
   ],
   "source": [
    "from statsmodels.stats.proportion import samplesize_confint_proportion\n",
    "n_samples = int(samplesize_confint_proportion(random_sample.mean(), .01))\n",
    "n_samples"
   ],
   "metadata": {
    "collapsed": false,
    "pycharm": {
     "name": "#%%\n"
    }
   }
  },
  {
   "cell_type": "code",
   "execution_count": 14,
   "outputs": [
    {
     "name": "stdout",
     "output_type": "stream",
     "text": [
      "[0.4818, 0.5018], width='0.0200'\n"
     ]
    }
   ],
   "source": [
    "np.random.seed(1)\n",
    "new_random_sample = np.random.choice(statictical_population, size=9603)\n",
    "normal_interval = proportion_confint(sum(new_random_sample), len(new_random_sample), method='normal')\n",
    "print(f'[{normal_interval[0]:.4f}, {normal_interval[1]:.4f}], width=\\'{normal_interval[1] - normal_interval[0]:.4f}\\'')"
   ],
   "metadata": {
    "collapsed": false,
    "pycharm": {
     "name": "#%%\n"
    }
   }
  }
 ],
 "metadata": {
  "kernelspec": {
   "display_name": "Python 3",
   "language": "python",
   "name": "python3"
  },
  "language_info": {
   "codemirror_mode": {
    "name": "ipython",
    "version": 2
   },
   "file_extension": ".py",
   "mimetype": "text/x-python",
   "name": "python",
   "nbconvert_exporter": "python",
   "pygments_lexer": "ipython2",
   "version": "2.7.6"
  }
 },
 "nbformat": 4,
 "nbformat_minor": 0
}