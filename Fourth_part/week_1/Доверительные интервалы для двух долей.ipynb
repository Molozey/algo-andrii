{
 "cells": [
  {
   "cell_type": "code",
   "execution_count": 1,
   "metadata": {
    "collapsed": true
   },
   "outputs": [],
   "source": [
    "import numpy as np\n",
    "import pandas as pd\n",
    "import scipy\n",
    "from statsmodels.stats.weightstats import *\n",
    "from statsmodels.stats.proportion import proportion_confint"
   ]
  },
  {
   "cell_type": "code",
   "execution_count": 4,
   "outputs": [
    {
     "data": {
      "text/plain": "   banner_a  banner_b\n0         0         0\n1         1         1\n2         0         0\n3         0         0\n4         0         0",
      "text/html": "<div>\n<style scoped>\n    .dataframe tbody tr th:only-of-type {\n        vertical-align: middle;\n    }\n\n    .dataframe tbody tr th {\n        vertical-align: top;\n    }\n\n    .dataframe thead th {\n        text-align: right;\n    }\n</style>\n<table border=\"1\" class=\"dataframe\">\n  <thead>\n    <tr style=\"text-align: right;\">\n      <th></th>\n      <th>banner_a</th>\n      <th>banner_b</th>\n    </tr>\n  </thead>\n  <tbody>\n    <tr>\n      <th>0</th>\n      <td>0</td>\n      <td>0</td>\n    </tr>\n    <tr>\n      <th>1</th>\n      <td>1</td>\n      <td>1</td>\n    </tr>\n    <tr>\n      <th>2</th>\n      <td>0</td>\n      <td>0</td>\n    </tr>\n    <tr>\n      <th>3</th>\n      <td>0</td>\n      <td>0</td>\n    </tr>\n    <tr>\n      <th>4</th>\n      <td>0</td>\n      <td>0</td>\n    </tr>\n  </tbody>\n</table>\n</div>"
     },
     "execution_count": 4,
     "metadata": {},
     "output_type": "execute_result"
    }
   ],
   "source": [
    "data = pd.read_csv('banner_click_stat.txt', header=None, sep='\\t')\n",
    "data.columns = ['banner_a', 'banner_b']\n",
    "data.head()"
   ],
   "metadata": {
    "collapsed": false,
    "pycharm": {
     "name": "#%%\n"
    }
   }
  },
  {
   "cell_type": "code",
   "execution_count": 5,
   "outputs": [
    {
     "data": {
      "text/plain": "          banner_a     banner_b\ncount  1000.000000  1000.000000\nmean      0.037000     0.053000\nstd       0.188856     0.224146\nmin       0.000000     0.000000\n25%       0.000000     0.000000\n50%       0.000000     0.000000\n75%       0.000000     0.000000\nmax       1.000000     1.000000",
      "text/html": "<div>\n<style scoped>\n    .dataframe tbody tr th:only-of-type {\n        vertical-align: middle;\n    }\n\n    .dataframe tbody tr th {\n        vertical-align: top;\n    }\n\n    .dataframe thead th {\n        text-align: right;\n    }\n</style>\n<table border=\"1\" class=\"dataframe\">\n  <thead>\n    <tr style=\"text-align: right;\">\n      <th></th>\n      <th>banner_a</th>\n      <th>banner_b</th>\n    </tr>\n  </thead>\n  <tbody>\n    <tr>\n      <th>count</th>\n      <td>1000.000000</td>\n      <td>1000.000000</td>\n    </tr>\n    <tr>\n      <th>mean</th>\n      <td>0.037000</td>\n      <td>0.053000</td>\n    </tr>\n    <tr>\n      <th>std</th>\n      <td>0.188856</td>\n      <td>0.224146</td>\n    </tr>\n    <tr>\n      <th>min</th>\n      <td>0.000000</td>\n      <td>0.000000</td>\n    </tr>\n    <tr>\n      <th>25%</th>\n      <td>0.000000</td>\n      <td>0.000000</td>\n    </tr>\n    <tr>\n      <th>50%</th>\n      <td>0.000000</td>\n      <td>0.000000</td>\n    </tr>\n    <tr>\n      <th>75%</th>\n      <td>0.000000</td>\n      <td>0.000000</td>\n    </tr>\n    <tr>\n      <th>max</th>\n      <td>1.000000</td>\n      <td>1.000000</td>\n    </tr>\n  </tbody>\n</table>\n</div>"
     },
     "execution_count": 5,
     "metadata": {},
     "output_type": "execute_result"
    }
   ],
   "source": [
    "data.describe()"
   ],
   "metadata": {
    "collapsed": false,
    "pycharm": {
     "name": "#%%\n"
    }
   }
  },
  {
   "cell_type": "code",
   "execution_count": 6,
   "outputs": [
    {
     "name": "stdout",
     "output_type": "stream",
     "text": [
      "Banner A stat:\n",
      "[0.0270,0.0506], width=0.0236\n",
      "Banner B stat:\n",
      "[0.0407,0.0687], width=0.0279\n"
     ]
    }
   ],
   "source": [
    "#   Оценим баннеры через доверительный интервал Уилсона\n",
    "wilson_a = proportion_confint(sum(data.banner_a), data.shape[0], method='wilson')\n",
    "wilson_b = proportion_confint(sum(data.banner_b), data.shape[0], method='wilson')\n",
    "print(f'Banner A stat:\\n[{wilson_a[0]:.4f},{wilson_a[1]:.4f}], width={wilson_a[1] - wilson_a[0]:.4f}')\n",
    "\n",
    "print(f'Banner B stat:\\n[{wilson_b[0]:.4f},{wilson_b[1]:.4f}], width={wilson_b[1] - wilson_b[0]:.4f}')"
   ],
   "metadata": {
    "collapsed": false,
    "pycharm": {
     "name": "#%%\n"
    }
   }
  },
  {
   "cell_type": "markdown",
   "source": [
    "####   Интервалы пересекаются поэтому возникает проблема с тем как их сравнивать.\n",
    "####    Для решения такой проблемы можно оценивать разность долей успеха"
   ],
   "metadata": {
    "collapsed": false,
    "pycharm": {
     "name": "#%% md\n"
    }
   }
  },
  {
   "cell_type": "code",
   "execution_count": 8,
   "outputs": [
    {
     "data": {
      "text/plain": "(-0.0341571385110543, 0.002157138511054299)"
     },
     "execution_count": 8,
     "metadata": {},
     "output_type": "execute_result"
    }
   ],
   "source": [
    "def subtraction(sample_1, sample_2, alpha=.05):\n",
    "    p1 = sum(sample_1) / len(sample_1)\n",
    "    p2 = sum(sample_2) / len(sample_2)\n",
    "    z_quantile = scipy.stats.norm.ppf(1 - alpha/2)\n",
    "    add_sub = z_quantile * np.sqrt((p1 * (1 - p1) / len(sample_1)) + (p2 * (1 - p2) / len(sample_2)))\n",
    "    return p1 - p2 - add_sub, p1 - p2 + add_sub\n",
    "\n",
    "subtraction(data.banner_a, data.banner_b)"
   ],
   "metadata": {
    "collapsed": false,
    "pycharm": {
     "name": "#%%\n"
    }
   }
  },
  {
   "cell_type": "markdown",
   "source": [
    "#### Однозначный ответ дать нельзя. Поэтому предположим что выборки связанные (пр. показываются одним и тем же людям)"
   ],
   "metadata": {
    "collapsed": false,
    "pycharm": {
     "name": "#%% md\n"
    }
   }
  },
  {
   "cell_type": "code",
   "execution_count": 17,
   "outputs": [
    {
     "data": {
      "text/plain": "(-0.02668926335921826, -0.00531073664078174)"
     },
     "execution_count": 17,
     "metadata": {},
     "output_type": "execute_result"
    }
   ],
   "source": [
    "def sopr_count(sample_1, sample_2, alpha=.05):\n",
    "    sample = list(zip(sample_1, sample_2))\n",
    "    n = len(sample)\n",
    "    e = sum([1 if x[0] == 1 and x[1] == 1 else 0 for x in sample])\n",
    "    f = sum([1 if x[0] == 1 and x[1] == 0 else 0 for x in sample])\n",
    "    g = sum([1 if x[0] == 0 and x[1] == 1 else 0 for x in sample])\n",
    "    h = sum([1 if x[0] == 0 and x[1] == 0 else 0 for x in sample])\n",
    "    p1 = e + f / n\n",
    "    p2 = e + g /n\n",
    "    z_quantile = scipy.stats.norm.ppf(1 - (alpha / 2))\n",
    "    add_sub = z_quantile * np.sqrt(((f + g) / (n ** 2)) - ((f - g) ** 2/(n ** 3)))\n",
    "    return ((f - g) / n) - add_sub, ((f - g) / n) + add_sub\n",
    "\n",
    "sopr_count(data.banner_a, data.banner_b)"
   ],
   "metadata": {
    "collapsed": false,
    "pycharm": {
     "name": "#%%\n"
    }
   }
  },
  {
   "cell_type": "markdown",
   "source": [
    "#   Можно сделать вывод, что новый банер лучше, так как p1 - старый, а p1-p2 лежит левее нуля"
   ],
   "metadata": {
    "collapsed": false,
    "pycharm": {
     "name": "#%% md\n"
    }
   }
  },
  {
   "cell_type": "code",
   "execution_count": null,
   "outputs": [],
   "source": [],
   "metadata": {
    "collapsed": false,
    "pycharm": {
     "name": "#%%\n"
    }
   }
  }
 ],
 "metadata": {
  "kernelspec": {
   "display_name": "Python 3",
   "language": "python",
   "name": "python3"
  },
  "language_info": {
   "codemirror_mode": {
    "name": "ipython",
    "version": 2
   },
   "file_extension": ".py",
   "mimetype": "text/x-python",
   "name": "python",
   "nbconvert_exporter": "python",
   "pygments_lexer": "ipython2",
   "version": "2.7.6"
  }
 },
 "nbformat": 4,
 "nbformat_minor": 0
}