{
 "cells": [
  {
   "cell_type": "code",
   "execution_count": 1,
   "metadata": {
    "collapsed": true
   },
   "outputs": [],
   "source": [
    "import numpy as np\n",
    "import pandas as pd\n",
    "import matplotlib.pyplot as plt"
   ]
  },
  {
   "cell_type": "code",
   "execution_count": 2,
   "outputs": [
    {
     "data": {
      "text/plain": "       Time Group\n0     17.50  ILEC\n1      2.40  ILEC\n2      0.00  ILEC\n3      0.65  ILEC\n4     22.23  ILEC\n...     ...   ...\n1682  22.13  CLEC\n1683  18.57  CLEC\n1684  20.00  CLEC\n1685  14.13  CLEC\n1686   5.80  CLEC\n\n[1687 rows x 2 columns]",
      "text/html": "<div>\n<style scoped>\n    .dataframe tbody tr th:only-of-type {\n        vertical-align: middle;\n    }\n\n    .dataframe tbody tr th {\n        vertical-align: top;\n    }\n\n    .dataframe thead th {\n        text-align: right;\n    }\n</style>\n<table border=\"1\" class=\"dataframe\">\n  <thead>\n    <tr style=\"text-align: right;\">\n      <th></th>\n      <th>Time</th>\n      <th>Group</th>\n    </tr>\n  </thead>\n  <tbody>\n    <tr>\n      <th>0</th>\n      <td>17.50</td>\n      <td>ILEC</td>\n    </tr>\n    <tr>\n      <th>1</th>\n      <td>2.40</td>\n      <td>ILEC</td>\n    </tr>\n    <tr>\n      <th>2</th>\n      <td>0.00</td>\n      <td>ILEC</td>\n    </tr>\n    <tr>\n      <th>3</th>\n      <td>0.65</td>\n      <td>ILEC</td>\n    </tr>\n    <tr>\n      <th>4</th>\n      <td>22.23</td>\n      <td>ILEC</td>\n    </tr>\n    <tr>\n      <th>...</th>\n      <td>...</td>\n      <td>...</td>\n    </tr>\n    <tr>\n      <th>1682</th>\n      <td>22.13</td>\n      <td>CLEC</td>\n    </tr>\n    <tr>\n      <th>1683</th>\n      <td>18.57</td>\n      <td>CLEC</td>\n    </tr>\n    <tr>\n      <th>1684</th>\n      <td>20.00</td>\n      <td>CLEC</td>\n    </tr>\n    <tr>\n      <th>1685</th>\n      <td>14.13</td>\n      <td>CLEC</td>\n    </tr>\n    <tr>\n      <th>1686</th>\n      <td>5.80</td>\n      <td>CLEC</td>\n    </tr>\n  </tbody>\n</table>\n<p>1687 rows × 2 columns</p>\n</div>"
     },
     "execution_count": 2,
     "metadata": {},
     "output_type": "execute_result"
    }
   ],
   "source": [
    "data = pd.read_csv('verizon.txt', header=0, sep='\\t')\n",
    "data"
   ],
   "metadata": {
    "collapsed": false,
    "pycharm": {
     "name": "#%%\n"
    }
   }
  },
  {
   "cell_type": "code",
   "execution_count": 3,
   "outputs": [
    {
     "data": {
      "text/plain": "ILEC    1664\nCLEC      23\nName: Group, dtype: int64"
     },
     "execution_count": 3,
     "metadata": {},
     "output_type": "execute_result"
    }
   ],
   "source": [
    "data.Group.value_counts()"
   ],
   "metadata": {
    "collapsed": false,
    "pycharm": {
     "name": "#%%\n"
    }
   }
  },
  {
   "cell_type": "code",
   "execution_count": 4,
   "outputs": [
    {
     "data": {
      "text/plain": "<matplotlib.legend.Legend at 0x1105f7610>"
     },
     "execution_count": 4,
     "metadata": {},
     "output_type": "execute_result"
    },
    {
     "data": {
      "text/plain": "<Figure size 864x432 with 2 Axes>",
      "image/png": "[encoded data removed]"
     },
     "metadata": {
      "needs_background": "light"
     },
     "output_type": "display_data"
    }
   ],
   "source": [
    "plt.figure(figsize=(12,6))\n",
    "plt.subplot(1,2,1)\n",
    "plt.hist(data[data.Group == 'ILEC'].Time, bins=20, color='b', range=(0,100), label='ILEC')\n",
    "plt.legend()\n",
    "plt.subplot(1,2,2)\n",
    "plt.hist(data[data.Group == 'CLEC'].Time, bins=20, color='b', range=(0,100), label='ILEC')\n",
    "plt.legend()"
   ],
   "metadata": {
    "collapsed": false,
    "pycharm": {
     "name": "#%%\n"
    }
   }
  },
  {
   "cell_type": "markdown",
   "source": [
    "#   Bootstrap"
   ],
   "metadata": {
    "collapsed": false,
    "pycharm": {
     "name": "#%% md\n"
    }
   }
  },
  {
   "cell_type": "code",
   "execution_count": 5,
   "outputs": [],
   "source": [
    "def get_bootstrap_samples(data, n_samples):\n",
    "    indices = np.random.randint(0, len(data), (n_samples, len(data)))\n",
    "    samples = data[indices]\n",
    "    return samples\n",
    "\n",
    "def stat_interval(stat, alpha):\n",
    "    boundaries = np.percentile(stat, [100 * alpha / 2., 100 * (1 - alpha / 2.)])\n",
    "    return boundaries"
   ],
   "metadata": {
    "collapsed": false,
    "pycharm": {
     "name": "#%%\n"
    }
   }
  },
  {
   "cell_type": "markdown",
   "source": [
    "#   Интервальная оценка медианы"
   ],
   "metadata": {
    "collapsed": false,
    "pycharm": {
     "name": "#%% md\n"
    }
   }
  },
  {
   "cell_type": "code",
   "execution_count": 6,
   "outputs": [],
   "source": [
    "ilec_time = data[data.Group == 'ILEC'].Time.values\n",
    "clec_time = data[data.Group == 'CLEC'].Time.values"
   ],
   "metadata": {
    "collapsed": false,
    "pycharm": {
     "name": "#%%\n"
    }
   }
  },
  {
   "cell_type": "code",
   "execution_count": 7,
   "outputs": [
    {
     "name": "stdout",
     "output_type": "stream",
     "text": [
      "95% confidence interval for ILEC: [3.18    3.82525]\n",
      "95% confidence interval for ILEC: [ 5.79125 20.     ]\n"
     ]
    }
   ],
   "source": [
    "np.random.seed(0)\n",
    "ilec_median_scores = list(map(np.median, get_bootstrap_samples(ilec_time, 1000)))\n",
    "clec_median_scores = list(map(np.median, get_bootstrap_samples(clec_time, 1000)))\n",
    "print(f'95% confidence interval for ILEC: {stat_interval(list(ilec_median_scores), .05)}')\n",
    "print(f'95% confidence interval for CLEC: {stat_interval(list(clec_median_scores), .05)}')"
   ],
   "metadata": {
    "collapsed": false,
    "pycharm": {
     "name": "#%%\n"
    }
   }
  },
  {
   "cell_type": "code",
   "execution_count": 8,
   "outputs": [
    {
     "name": "stdout",
     "output_type": "stream",
     "text": [
      "Diff: -10.74\n"
     ]
    }
   ],
   "source": [
    "#   Точечная оценка разности медиан\n",
    "print(f'Diff: {np.median(ilec_time) - np.median(clec_time)}')"
   ],
   "metadata": {
    "collapsed": false,
    "pycharm": {
     "name": "#%%\n"
    }
   }
  },
  {
   "cell_type": "code",
   "execution_count": 9,
   "outputs": [
    {
     "name": "stdout",
     "output_type": "stream",
     "text": [
      "[ 2.04975 16.63   ]\n"
     ]
    }
   ],
   "source": [
    "#   Интервальная оценка разности медиан как в bootstrap\n",
    "delta_mean = list(map(lambda x: x[1] - x[0], zip(ilec_median_scores, clec_median_scores)))\n",
    "print(f\"{stat_interval(delta_mean, .05)}\")"
   ],
   "metadata": {
    "collapsed": false,
    "pycharm": {
     "name": "#%%\n"
    }
   }
  },
  {
   "cell_type": "code",
   "execution_count": 9,
   "outputs": [],
   "source": [],
   "metadata": {
    "collapsed": false,
    "pycharm": {
     "name": "#%%\n"
    }
   }
  }
 ],
 "metadata": {
  "kernelspec": {
   "display_name": "Python 3",
   "language": "python",
   "name": "python3"
  },
  "language_info": {
   "codemirror_mode": {
    "name": "ipython",
    "version": 2
   },
   "file_extension": ".py",
   "mimetype": "text/x-python",
   "name": "python",
   "nbconvert_exporter": "python",
   "pygments_lexer": "ipython2",
   "version": "2.7.6"
  }
 },
 "nbformat": 4,
 "nbformat_minor": 0
}