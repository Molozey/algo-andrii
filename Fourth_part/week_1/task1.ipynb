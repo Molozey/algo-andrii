{
 "cells": [
  {
   "cell_type": "code",
   "execution_count": 16,
   "metadata": {
    "collapsed": true
   },
   "outputs": [],
   "source": [
    "import pandas as pd\n",
    "import scipy.stats as stats\n",
    "import numpy as np\n",
    "from statsmodels.stats.weightstats import _zconfint_generic, _tconfint_generic\n",
    "import scipy"
   ]
  },
  {
   "cell_type": "code",
   "execution_count": 2,
   "outputs": [
    {
     "data": {
      "text/plain": "   location           town  mortality  hardness\n0     South           Bath       1247       105\n1     North     Birkenhead       1668        17\n2     South     Birmingham       1466         5\n3     North      Blackburn       1800        14\n4     North      Blackpool       1609        18\n..      ...            ...        ...       ...\n56    South        Walsall       1527        60\n57    South  West Bromwich       1627        53\n58    South       West Ham       1486       122\n59    South  Wolverhampton       1485        81\n60    North           York       1378        71\n\n[61 rows x 4 columns]",
      "text/html": "<div>\n<style scoped>\n    .dataframe tbody tr th:only-of-type {\n        vertical-align: middle;\n    }\n\n    .dataframe tbody tr th {\n        vertical-align: top;\n    }\n\n    .dataframe thead th {\n        text-align: right;\n    }\n</style>\n<table border=\"1\" class=\"dataframe\">\n  <thead>\n    <tr style=\"text-align: right;\">\n      <th></th>\n      <th>location</th>\n      <th>town</th>\n      <th>mortality</th>\n      <th>hardness</th>\n    </tr>\n  </thead>\n  <tbody>\n    <tr>\n      <th>0</th>\n      <td>South</td>\n      <td>Bath</td>\n      <td>1247</td>\n      <td>105</td>\n    </tr>\n    <tr>\n      <th>1</th>\n      <td>North</td>\n      <td>Birkenhead</td>\n      <td>1668</td>\n      <td>17</td>\n    </tr>\n    <tr>\n      <th>2</th>\n      <td>South</td>\n      <td>Birmingham</td>\n      <td>1466</td>\n      <td>5</td>\n    </tr>\n    <tr>\n      <th>3</th>\n      <td>North</td>\n      <td>Blackburn</td>\n      <td>1800</td>\n      <td>14</td>\n    </tr>\n    <tr>\n      <th>4</th>\n      <td>North</td>\n      <td>Blackpool</td>\n      <td>1609</td>\n      <td>18</td>\n    </tr>\n    <tr>\n      <th>...</th>\n      <td>...</td>\n      <td>...</td>\n      <td>...</td>\n      <td>...</td>\n    </tr>\n    <tr>\n      <th>56</th>\n      <td>South</td>\n      <td>Walsall</td>\n      <td>1527</td>\n      <td>60</td>\n    </tr>\n    <tr>\n      <th>57</th>\n      <td>South</td>\n      <td>West Bromwich</td>\n      <td>1627</td>\n      <td>53</td>\n    </tr>\n    <tr>\n      <th>58</th>\n      <td>South</td>\n      <td>West Ham</td>\n      <td>1486</td>\n      <td>122</td>\n    </tr>\n    <tr>\n      <th>59</th>\n      <td>South</td>\n      <td>Wolverhampton</td>\n      <td>1485</td>\n      <td>81</td>\n    </tr>\n    <tr>\n      <th>60</th>\n      <td>North</td>\n      <td>York</td>\n      <td>1378</td>\n      <td>71</td>\n    </tr>\n  </tbody>\n</table>\n<p>61 rows × 4 columns</p>\n</div>"
     },
     "execution_count": 2,
     "metadata": {},
     "output_type": "execute_result"
    }
   ],
   "source": [
    "data = pd.read_csv('data_task_1.csv', sep='\\t', header=0)\n",
    "data"
   ],
   "metadata": {
    "collapsed": false,
    "pycharm": {
     "name": "#%%\n"
    }
   }
  },
  {
   "cell_type": "code",
   "execution_count": 3,
   "outputs": [],
   "source": [
    "std_data  = data['mortality'].std(ddof=1) / np.sqrt(len(data['mortality']))\n",
    "mean_data = data['mortality'].mean()"
   ],
   "metadata": {
    "collapsed": false,
    "pycharm": {
     "name": "#%%\n"
    }
   }
  },
  {
   "cell_type": "code",
   "execution_count": 4,
   "outputs": [
    {
     "name": "stdout",
     "output_type": "stream",
     "text": [
      "lower = 1476.0905, higher = 1572.2046\n"
     ]
    }
   ],
   "source": [
    "print(f'lower = {mean_data - 2 * std_data:.4f}, higher = {mean_data + 2 * std_data:.4f}' )"
   ],
   "metadata": {
    "collapsed": false,
    "pycharm": {
     "name": "#%%\n"
    }
   }
  },
  {
   "cell_type": "code",
   "execution_count": 5,
   "outputs": [
    {
     "data": {
      "text/plain": "(1476.0833413552848, 1572.2117406119285)"
     },
     "execution_count": 5,
     "metadata": {},
     "output_type": "execute_result"
    }
   ],
   "source": [
    "_tconfint_generic(mean_data, std_data, len(data['mortality']) - 1, alpha=0.05, alternative='two-sided')"
   ],
   "metadata": {
    "collapsed": false,
    "pycharm": {
     "name": "#%%\n"
    }
   }
  },
  {
   "cell_type": "code",
   "execution_count": 21,
   "outputs": [
    {
     "data": {
      "text/plain": "(1320.1517462936238, 1433.463638321761)"
     },
     "execution_count": 21,
     "metadata": {},
     "output_type": "execute_result"
    }
   ],
   "source": [
    "std_data  = data[data['location'] == 'South']['mortality'].std(ddof=1) / np.sqrt(len(data[data['location'] == 'South']['mortality']))\n",
    "mean_data = data[data['location'] == 'South']['mortality'].mean()\n",
    "_tconfint_generic(mean_data, std_data, len(data[data['location'] == 'South']['mortality']) - 1, alpha=0.05, alternative='two-sided')"
   ],
   "metadata": {
    "collapsed": false,
    "pycharm": {
     "name": "#%%\n"
    }
   }
  },
  {
   "cell_type": "code",
   "execution_count": null,
   "outputs": [],
   "source": [
    "\n",
    "std_data  = data[data['location'] == 'North']['mortality'].std(ddof=1) / np.sqrt(len(data[data['location'] == 'North']['mortality']))\n",
    "mean_data = data[data['location'] == 'North']['mortality'].mean()"
   ],
   "metadata": {
    "collapsed": false,
    "pycharm": {
     "name": "#%%\n"
    }
   }
  },
  {
   "cell_type": "code",
   "execution_count": 7,
   "outputs": [
    {
     "name": "stdout",
     "output_type": "stream",
     "text": [
      "lower = 1587.3069, higher = 1679.8931\n"
     ]
    }
   ],
   "source": [
    "print(f'lower = {mean_data - 2 * std_data:.4f}, higher = {mean_data + 2 * std_data:.4f}' )"
   ],
   "metadata": {
    "collapsed": false,
    "pycharm": {
     "name": "#%%\n"
    }
   }
  },
  {
   "cell_type": "code",
   "execution_count": 8,
   "outputs": [
    {
     "data": {
      "text/plain": "(1586.5605251961385, 1680.6394748038613)"
     },
     "execution_count": 8,
     "metadata": {},
     "output_type": "execute_result"
    }
   ],
   "source": [
    "_tconfint_generic(mean_data, std_data, len(data[data['location'] == 'North']['mortality']) - 1, alpha=0.05, alternative='two-sided')"
   ],
   "metadata": {
    "collapsed": false,
    "pycharm": {
     "name": "#%%\n"
    }
   }
  },
  {
   "cell_type": "code",
   "execution_count": 9,
   "outputs": [
    {
     "name": "stdout",
     "output_type": "stream",
     "text": [
      "lower = 21.5649, higher= 39.2351\n"
     ]
    },
    {
     "data": {
      "text/plain": "(21.563612922286836, 39.23638707771316)"
     },
     "execution_count": 9,
     "metadata": {},
     "output_type": "execute_result"
    }
   ],
   "source": [
    "std = data[data['location'] == 'North']['hardness'].std(ddof=1) / np.sqrt(len(data[data['location'] == 'North']['hardness']))\n",
    "mean = data[data['location'] == 'North']['hardness'].mean()\n",
    "print(f'lower = {mean - 2 * std:.4f}, higher= {mean + 2 * std:.4f}')\n",
    "_tconfint_generic(mean, std, dof=len(data['hardness']) - 1, alpha=.05, alternative='two-sided')"
   ],
   "metadata": {
    "collapsed": false,
    "pycharm": {
     "name": "#%%\n"
    }
   }
  },
  {
   "cell_type": "code",
   "execution_count": 10,
   "outputs": [
    {
     "name": "stdout",
     "output_type": "stream",
     "text": [
      "lower = 53.9385, higher= 85.6000\n"
     ]
    },
    {
     "data": {
      "text/plain": "(53.467198692036106, 86.07126284642544)"
     },
     "execution_count": 10,
     "metadata": {},
     "output_type": "execute_result"
    }
   ],
   "source": [
    "std = data[data['location'] == 'South']['hardness'].std(ddof=1) / np.sqrt(len(data[data['location'] == 'South']['hardness']))\n",
    "mean = data[data['location'] == 'South']['hardness'].mean()\n",
    "print(f'lower = {mean - 2 * std:.4f}, higher= {mean + 2 * std:.4f}')\n",
    "_tconfint_generic(mean, std, dof = len(data[data['location'] == 'South']['hardness']) - 1, alpha=.05, alternative='two-sided')"
   ],
   "metadata": {
    "collapsed": false,
    "pycharm": {
     "name": "#%%\n"
    }
   }
  },
  {
   "cell_type": "markdown",
   "source": [
    "\\begin{equation}\n",
    "X_{n} - z * \\frac{\\sigma}{\\sqrt{n}} < X_{n} < X_{n} + z * \\frac{\\sigma}{\\sqrt{n}}\n",
    "\\end{equation}\n",
    "\n",
    "\\begin{equation}\n",
    "0.9 * X_{n} < X_{n} < 1.1 * X_{n}\n",
    "\\end{equation}\n",
    "\n",
    "\\begin{equation}\n",
    "0.2 = 2 * z * \\frac{\\sigma}{\\sqrt{n}}\n",
    "\\end{equation}\n"
   ],
   "metadata": {
    "collapsed": false,
    "pycharm": {
     "name": "#%% md\n"
    }
   }
  },
  {
   "cell_type": "code",
   "execution_count": 19,
   "outputs": [
    {
     "data": {
      "text/plain": "384.1599999999999"
     },
     "execution_count": 19,
     "metadata": {},
     "output_type": "execute_result"
    }
   ],
   "source": [
    "z = 1.96\n",
    "sigma = 1\n",
    "(2 * z * sigma / 0.2) ** 2"
   ],
   "metadata": {
    "collapsed": false,
    "pycharm": {
     "name": "#%%\n"
    }
   }
  },
  {
   "cell_type": "code",
   "execution_count": 18,
   "outputs": [
    {
     "data": {
      "text/plain": "(-0.959963984540054, 2.959963984540054)"
     },
     "execution_count": 18,
     "metadata": {},
     "output_type": "execute_result"
    }
   ],
   "source": [
    "scipy.stats.norm.interval(.95, sigma)"
   ],
   "metadata": {
    "collapsed": false,
    "pycharm": {
     "name": "#%%\n"
    }
   }
  },
  {
   "cell_type": "code",
   "execution_count": 22,
   "outputs": [
    {
     "data": {
      "text/plain": "385.0"
     },
     "execution_count": 22,
     "metadata": {},
     "output_type": "execute_result"
    }
   ],
   "source": [
    "#   Посмотреть что делается\n",
    "np.ceil((stats.norm.ppf(1-0.05/2) / 0.1)**2)"
   ],
   "metadata": {
    "collapsed": false,
    "pycharm": {
     "name": "#%%\n"
    }
   }
  },
  {
   "cell_type": "code",
   "execution_count": 29,
   "outputs": [
    {
     "data": {
      "text/plain": "385.0"
     },
     "execution_count": 29,
     "metadata": {},
     "output_type": "execute_result"
    }
   ],
   "source": [
    "np.ceil((stats.norm.ppf(1 - 0.05/ 2) * 1 * 2 / 0.2) ** 2)"
   ],
   "metadata": {
    "collapsed": false,
    "pycharm": {
     "name": "#%%\n"
    }
   }
  }
 ],
 "metadata": {
  "kernelspec": {
   "display_name": "Python 3",
   "language": "python",
   "name": "python3"
  },
  "language_info": {
   "codemirror_mode": {
    "name": "ipython",
    "version": 2
   },
   "file_extension": ".py",
   "mimetype": "text/x-python",
   "name": "python",
   "nbconvert_exporter": "python",
   "pygments_lexer": "ipython2",
   "version": "2.7.6"
  }
 },
 "nbformat": 4,
 "nbformat_minor": 0
}