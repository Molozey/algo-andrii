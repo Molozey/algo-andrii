{
 "cells": [
  {
   "cell_type": "markdown",
   "metadata": {
    "collapsed": true,
    "pycharm": {
     "name": "#%% md\n"
    }
   },
   "source": [
    "#   Доверительные интервалы для оценки среднего"
   ]
  },
  {
   "cell_type": "code",
   "execution_count": 1,
   "outputs": [],
   "source": [
    "from sklearn import datasets, linear_model, metrics, model_selection\n",
    "import numpy as np\n",
    "import matplotlib.pylab as plt"
   ],
   "metadata": {
    "collapsed": false,
    "pycharm": {
     "name": "#%%\n"
    }
   }
  },
  {
   "cell_type": "code",
   "execution_count": 2,
   "outputs": [],
   "source": [
    "#   Generating data\n",
    "blobs = datasets.make_blobs(300, centers=2, cluster_std=6, random_state=1)\n",
    "#plt.figure(figsize=(8,8))\n",
    "#plt.scatter(list(map(lambda x: x[0], blobs[0])), list(map(lambda x: x[1], blobs[0])), c=blobs[1], cmap='autumn', s=300)"
   ],
   "metadata": {
    "collapsed": false,
    "pycharm": {
     "name": "#%%\n"
    }
   }
  },
  {
   "cell_type": "code",
   "execution_count": 3,
   "outputs": [],
   "source": [
    "train_data, test_data, train_label, test_label = model_selection.train_test_split(blobs[0], blobs[1], test_size=15, random_state=1)"
   ],
   "metadata": {
    "collapsed": false,
    "pycharm": {
     "name": "#%%\n"
    }
   }
  },
  {
   "cell_type": "code",
   "execution_count": 4,
   "outputs": [
    {
     "data": {
      "text/plain": "0.8888888888888888"
     },
     "execution_count": 4,
     "metadata": {},
     "output_type": "execute_result"
    }
   ],
   "source": [
    "ridge_model = linear_model.RidgeClassifierCV()\n",
    "ridge_model.fit(train_data, train_label)\n",
    "metrics.roc_auc_score(test_label, ridge_model.predict(test_data))"
   ],
   "metadata": {
    "collapsed": false,
    "pycharm": {
     "name": "#%%\n"
    }
   }
  },
  {
   "cell_type": "code",
   "execution_count": 5,
   "outputs": [
    {
     "data": {
      "text/plain": "0.7777777777777778"
     },
     "execution_count": 5,
     "metadata": {},
     "output_type": "execute_result"
    }
   ],
   "source": [
    "sgd_model = linear_model.SGDClassifier(random_state=0, max_iter=1000)\n",
    "sgd_model.fit(train_data, train_label)\n",
    "metrics.roc_auc_score(test_label, sgd_model.predict(test_data))"
   ],
   "metadata": {
    "collapsed": false,
    "pycharm": {
     "name": "#%%\n"
    }
   }
  },
  {
   "cell_type": "markdown",
   "source": [
    "#   Оценка среднего"
   ],
   "metadata": {
    "collapsed": false,
    "pycharm": {
     "name": "#%% md\n"
    }
   }
  },
  {
   "cell_type": "code",
   "execution_count": 6,
   "outputs": [],
   "source": [
    "sqd_auc_scores = model_selection.cross_val_score(linear_model.SGDClassifier(),\n",
    "                                                 blobs[0], blobs[1], scoring=\"roc_auc\",\n",
    "                                                 cv=20)"
   ],
   "metadata": {
    "collapsed": false,
    "pycharm": {
     "name": "#%%\n"
    }
   }
  },
  {
   "cell_type": "code",
   "execution_count": 7,
   "outputs": [],
   "source": [
    "ridge_auc_scores = model_selection.cross_val_score(linear_model.RidgeClassifier(),\n",
    "                                                   blobs[0], blobs[1], scoring=\"roc_auc\",\n",
    "                                                   cv=20)"
   ],
   "metadata": {
    "collapsed": false,
    "pycharm": {
     "name": "#%%\n"
    }
   }
  },
  {
   "cell_type": "code",
   "execution_count": 10,
   "outputs": [
    {
     "name": "stdout",
     "output_type": "stream",
     "text": [
      "SQD mean: 0.904, STD: 0.096\n",
      "RIDGE mean: 0.937, STD: 0.071\n"
     ]
    }
   ],
   "source": [
    "print(f'SQD mean: {sqd_auc_scores.mean():.3f}, STD: {sqd_auc_scores.std(ddof=1):.3f}')\n",
    "print(f'RIDGE mean: {ridge_auc_scores.mean():.3f}, STD: {ridge_auc_scores.std(ddof=1):.3f}')"
   ],
   "metadata": {
    "collapsed": false,
    "pycharm": {
     "name": "#%%\n"
    }
   }
  },
  {
   "cell_type": "markdown",
   "source": [
    "#   Интервальная оценка среднего"
   ],
   "metadata": {
    "collapsed": false,
    "pycharm": {
     "name": "#%% md\n"
    }
   }
  },
  {
   "cell_type": "code",
   "execution_count": 18,
   "outputs": [
    {
     "name": "stdout",
     "output_type": "stream",
     "text": [
      "sqd interval: start - 0.6853336505701402, end - 1.123594920858431\n",
      "ridge interval: start - 0.7174765077129974, end - 1.155737778001288\n"
     ]
    }
   ],
   "source": [
    "from statsmodels.stats.weightstats import _zconfint_generic, _tconfint_generic\n",
    "\n",
    "sqd_mean = sqd_auc_scores.mean()\n",
    "ridge_mean = ridge_auc_scores.mean()\n",
    "\n",
    "print('sqd interval: start - {0[0]}, end - {0[1]}'.format(_zconfint_generic(sqd_mean, np.sqrt(0.25/ len(sqd_auc_scores)), alpha=0.05, alternative='two-sided')))\n",
    "print('ridge interval: start - {0[0]}, end - {0[1]}'.format(_zconfint_generic(ridge_mean, np.sqrt(0.25/ len(sqd_auc_scores)), alpha=0.05, alternative='two-sided')))"
   ],
   "metadata": {
    "collapsed": false,
    "pycharm": {
     "name": "#%%\n"
    }
   }
  },
  {
   "cell_type": "markdown",
   "source": [
    "#   Выборочная дисперсия"
   ],
   "metadata": {
    "collapsed": false
   }
  },
  {
   "cell_type": "code",
   "execution_count": 23,
   "outputs": [
    {
     "name": "stdout",
     "output_type": "stream",
     "text": [
      "sqd interval: start - 0.8595584788727291, end - 0.9493700925558421\n",
      "sqd interval: start - 0.903235324375978, end - 0.9699789613383075\n"
     ]
    }
   ],
   "source": [
    "sqd_auc_scores_mean_std = sqd_auc_scores.std(ddof=1) / np.sqrt(len(sqd_auc_scores))\n",
    "print('sqd interval: start - {0[0]}, end - {0[1]}'.format(_tconfint_generic(sqd_mean, sqd_auc_scores_mean_std, len(sqd_auc_scores) - 1, 0.05, 'two-sided')))\n",
    "ridge_auc_scores_mean_std = ridge_auc_scores.std(ddof=1) / np.sqrt(len(ridge_auc_scores))\n",
    "print('sqd interval: start - {0[0]}, end - {0[1]}'.format(_tconfint_generic(ridge_mean, ridge_auc_scores_mean_std, len(sqd_auc_scores) - 1, 0.05, 'two-sided')))"
   ],
   "metadata": {
    "collapsed": false,
    "pycharm": {
     "name": "#%%\n"
    }
   }
  }
 ],
 "metadata": {
  "kernelspec": {
   "display_name": "Python 3",
   "language": "python",
   "name": "python3"
  },
  "language_info": {
   "codemirror_mode": {
    "name": "ipython",
    "version": 2
   },
   "file_extension": ".py",
   "mimetype": "text/x-python",
   "name": "python",
   "nbconvert_exporter": "python",
   "pygments_lexer": "ipython2",
   "version": "2.7.6"
  }
 },
 "nbformat": 4,
 "nbformat_minor": 0
}