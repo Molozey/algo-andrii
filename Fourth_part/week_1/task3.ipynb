{
 "cells": [
  {
   "cell_type": "code",
   "execution_count": 1,
   "metadata": {
    "collapsed": true
   },
   "outputs": [],
   "source": [
    "import scipy.stats as stats\n",
    "import numpy as np"
   ]
  },
  {
   "cell_type": "code",
   "execution_count": 2,
   "outputs": [
    {
     "name": "stdout",
     "output_type": "stream",
     "text": [
      "2.9677\n"
     ]
    }
   ],
   "source": [
    "alpha = 0.003\n",
    "print(f\"{stats.norm.ppf(1 - alpha / 2):.4f}\")"
   ],
   "metadata": {
    "collapsed": false,
    "pycharm": {
     "name": "#%%\n"
    }
   }
  },
  {
   "cell_type": "code",
   "execution_count": 3,
   "outputs": [
    {
     "data": {
      "text/plain": "0.997"
     },
     "execution_count": 3,
     "metadata": {},
     "output_type": "execute_result"
    }
   ],
   "source": [
    "1 - alpha"
   ],
   "metadata": {
    "collapsed": false,
    "pycharm": {
     "name": "#%%\n"
    }
   }
  },
  {
   "cell_type": "code",
   "execution_count": 4,
   "outputs": [
    {
     "name": "stdout",
     "output_type": "stream",
     "text": [
      "[0.0047, 0.0107]\n"
     ]
    }
   ],
   "source": [
    "def quantile(alpha=.05):\n",
    "    placebo = 11034\n",
    "    aspirin = 11037\n",
    "    placebo_inf = 189\n",
    "    aspirin_inf = 104\n",
    "    a = aspirin_inf\n",
    "    b = aspirin\n",
    "    aspirin = placebo\n",
    "    aspirin_inf = placebo_inf\n",
    "    placebo = b\n",
    "    placebo_inf = a\n",
    "    z_quantile = stats.norm.ppf(1 - alpha/2)\n",
    "    p1 = (aspirin_inf / aspirin)\n",
    "    p2 = placebo_inf / placebo\n",
    "    add_sub = z_quantile * np.sqrt((p1 * (1 - p1) / aspirin) + (p2 * (1 - p2) / placebo))\n",
    "    return p1 - p2 - add_sub, p1 - p2 + add_sub\n",
    "print(\"[{0[0]:.4f}, {0[1]:.4f}]\".format(quantile()))"
   ],
   "metadata": {
    "collapsed": false,
    "pycharm": {
     "name": "#%%\n"
    }
   }
  },
  {
   "cell_type": "code",
   "execution_count": 7,
   "outputs": [
    {
     "data": {
      "text/plain": "0.0077060239760047815"
     },
     "execution_count": 7,
     "metadata": {},
     "output_type": "execute_result"
    }
   ],
   "source": [
    "placebo = 11034\n",
    "aspirin = 11037\n",
    "placebo_inf = 189\n",
    "aspirin_inf = 104\n",
    "a = aspirin_inf\n",
    "b = aspirin\n",
    "aspirin = placebo\n",
    "aspirin_inf = placebo_inf\n",
    "placebo = b\n",
    "placebo_inf = a\n",
    "z_quantile = stats.norm.ppf(1 - alpha/2)\n",
    "p1 = (aspirin_inf / aspirin)\n",
    "p2 = placebo_inf / placebo\n",
    "p1 - p2"
   ],
   "metadata": {
    "collapsed": false,
    "pycharm": {
     "name": "#%%\n"
    }
   }
  },
  {
   "cell_type": "code",
   "execution_count": 6,
   "outputs": [
    {
     "name": "stdout",
     "output_type": "stream",
     "text": [
      "0.017427385892116183 PLACEBO\n",
      " 0.009512485136741973 ASPIRIN\n",
      "1.8321\n"
     ]
    }
   ],
   "source": [
    "placebo = 11034\n",
    "aspirin = 11037\n",
    "placebo_inf = 189\n",
    "aspirin_inf = 104\n",
    "\n",
    "bernouly_placebo = (placebo_inf / placebo) / (1 - (placebo_inf / placebo))\n",
    "bernouly_aspirin = (aspirin_inf / aspirin) / (1 - (aspirin_inf / aspirin))\n",
    "print(bernouly_placebo, 'PLACEBO\\n', bernouly_aspirin, 'ASPIRIN')\n",
    "print(f\"{bernouly_placebo / bernouly_aspirin:.4f}\")"
   ],
   "metadata": {
    "collapsed": false,
    "pycharm": {
     "name": "#%%\n"
    }
   }
  },
  {
   "cell_type": "code",
   "execution_count": 14,
   "outputs": [],
   "source": [
    "placebo_array = np.array([1]*placebo_inf + [0] * (placebo - placebo_inf))\n",
    "aspirin_array = np.array([1] * aspirin_inf + [0] * (aspirin - aspirin_inf))\n",
    "\n",
    "def get_bootstrap_indices(data, n_samples):\n",
    "    indices = np.random.randint(0, len(data), (n_samples, len(data)))\n",
    "    samples = data[indices]\n",
    "    return samples\n",
    "\n",
    "def stat_interval(stat, alpha=.05):\n",
    "    boundaries = np.percentile(stat, [100 * alpha / 2., 100 * (1 - alpha / 2.)])\n",
    "    return boundaries"
   ],
   "metadata": {
    "collapsed": false,
    "pycharm": {
     "name": "#%%\n"
    }
   }
  },
  {
   "cell_type": "code",
   "execution_count": 18,
   "outputs": [
    {
     "name": "stdout",
     "output_type": "stream",
     "text": [
      "[1.46286276 2.35093673]\n"
     ]
    }
   ],
   "source": [
    "np.random.seed(0)\n",
    "aspirin_mean_scores = list(map(lambda x: sum(x) / (len(x) - sum(x)), get_bootstrap_indices(aspirin_array, 1000)))\n",
    "placebo_mean_scores = list(map(lambda x: sum(x) / (len(x) - sum(x)), get_bootstrap_indices(placebo_array, 1000)))\n",
    "\n",
    "delta_mean = list(map(lambda x: x[1] / x[0], zip(placebo_mean_scores, aspirin_mean_scores)))\n",
    "print(f\"{stat_interval(delta_mean, .05)}\")"
   ],
   "metadata": {
    "collapsed": false,
    "pycharm": {
     "name": "#%%\n"
    }
   }
  },
  {
   "cell_type": "code",
   "execution_count": null,
   "outputs": [],
   "source": [],
   "metadata": {
    "collapsed": false,
    "pycharm": {
     "name": "#%%\n"
    }
   }
  }
 ],
 "metadata": {
  "kernelspec": {
   "display_name": "Python 3",
   "language": "python",
   "name": "python3"
  },
  "language_info": {
   "codemirror_mode": {
    "name": "ipython",
    "version": 2
   },
   "file_extension": ".py",
   "mimetype": "text/x-python",
   "name": "python",
   "nbconvert_exporter": "python",
   "pygments_lexer": "ipython2",
   "version": "2.7.6"
  }
 },
 "nbformat": 4,
 "nbformat_minor": 0
}