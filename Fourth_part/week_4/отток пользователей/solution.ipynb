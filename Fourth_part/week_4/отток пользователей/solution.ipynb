{
 "cells": [
  {
   "cell_type": "code",
   "execution_count": 1,
   "metadata": {
    "collapsed": true
   },
   "outputs": [],
   "source": [
    "import pandas as pd\n",
    "import numpy as np\n",
    "import matplotlib.pylab as plt\n",
    "\n",
    "from scipy import stats"
   ]
  },
  {
   "cell_type": "code",
   "execution_count": 3,
   "outputs": [
    {
     "data": {
      "text/plain": "  state  account_length  area_code intl_plan vmail_plan  vmail_message  \\\n0    KS             128        415        no        yes             25   \n1    OH             107        415        no        yes             26   \n2    NJ             137        415        no         no              0   \n3    OH              84        408       yes         no              0   \n4    OK              75        415       yes         no              0   \n\n   day_mins  day_calls  day_charge  eve_mins  ...  night_mins  night_calls  \\\n0     265.1        110       45.07     197.4  ...       244.7           91   \n1     161.6        123       27.47     195.5  ...       254.4          103   \n2     243.4        114       41.38     121.2  ...       162.6          104   \n3     299.4         71       50.90      61.9  ...       196.9           89   \n4     166.7        113       28.34     148.3  ...       186.9          121   \n\n   night_charge  intl_mins  intl_calls  intl_charge  custserv_calls  \\\n0         11.01       10.0           3         2.70               1   \n1         11.45       13.7           3         3.70               1   \n2          7.32       12.2           5         3.29               0   \n3          8.86        6.6           7         1.78               2   \n4          8.41       10.1           3         2.73               3   \n\n   treatment  mes_estim   churn  \n0          1       0.65  False.  \n1          0       0.55  False.  \n2          0       0.72  False.  \n3          1       0.28  False.  \n4          2       0.45  False.  \n\n[5 rows x 22 columns]",
      "text/html": "<div>\n<style scoped>\n    .dataframe tbody tr th:only-of-type {\n        vertical-align: middle;\n    }\n\n    .dataframe tbody tr th {\n        vertical-align: top;\n    }\n\n    .dataframe thead th {\n        text-align: right;\n    }\n</style>\n<table border=\"1\" class=\"dataframe\">\n  <thead>\n    <tr style=\"text-align: right;\">\n      <th></th>\n      <th>state</th>\n      <th>account_length</th>\n      <th>area_code</th>\n      <th>intl_plan</th>\n      <th>vmail_plan</th>\n      <th>vmail_message</th>\n      <th>day_mins</th>\n      <th>day_calls</th>\n      <th>day_charge</th>\n      <th>eve_mins</th>\n      <th>...</th>\n      <th>night_mins</th>\n      <th>night_calls</th>\n      <th>night_charge</th>\n      <th>intl_mins</th>\n      <th>intl_calls</th>\n      <th>intl_charge</th>\n      <th>custserv_calls</th>\n      <th>treatment</th>\n      <th>mes_estim</th>\n      <th>churn</th>\n    </tr>\n  </thead>\n  <tbody>\n    <tr>\n      <th>0</th>\n      <td>KS</td>\n      <td>128</td>\n      <td>415</td>\n      <td>no</td>\n      <td>yes</td>\n      <td>25</td>\n      <td>265.1</td>\n      <td>110</td>\n      <td>45.07</td>\n      <td>197.4</td>\n      <td>...</td>\n      <td>244.7</td>\n      <td>91</td>\n      <td>11.01</td>\n      <td>10.0</td>\n      <td>3</td>\n      <td>2.70</td>\n      <td>1</td>\n      <td>1</td>\n      <td>0.65</td>\n      <td>False.</td>\n    </tr>\n    <tr>\n      <th>1</th>\n      <td>OH</td>\n      <td>107</td>\n      <td>415</td>\n      <td>no</td>\n      <td>yes</td>\n      <td>26</td>\n      <td>161.6</td>\n      <td>123</td>\n      <td>27.47</td>\n      <td>195.5</td>\n      <td>...</td>\n      <td>254.4</td>\n      <td>103</td>\n      <td>11.45</td>\n      <td>13.7</td>\n      <td>3</td>\n      <td>3.70</td>\n      <td>1</td>\n      <td>0</td>\n      <td>0.55</td>\n      <td>False.</td>\n    </tr>\n    <tr>\n      <th>2</th>\n      <td>NJ</td>\n      <td>137</td>\n      <td>415</td>\n      <td>no</td>\n      <td>no</td>\n      <td>0</td>\n      <td>243.4</td>\n      <td>114</td>\n      <td>41.38</td>\n      <td>121.2</td>\n      <td>...</td>\n      <td>162.6</td>\n      <td>104</td>\n      <td>7.32</td>\n      <td>12.2</td>\n      <td>5</td>\n      <td>3.29</td>\n      <td>0</td>\n      <td>0</td>\n      <td>0.72</td>\n      <td>False.</td>\n    </tr>\n    <tr>\n      <th>3</th>\n      <td>OH</td>\n      <td>84</td>\n      <td>408</td>\n      <td>yes</td>\n      <td>no</td>\n      <td>0</td>\n      <td>299.4</td>\n      <td>71</td>\n      <td>50.90</td>\n      <td>61.9</td>\n      <td>...</td>\n      <td>196.9</td>\n      <td>89</td>\n      <td>8.86</td>\n      <td>6.6</td>\n      <td>7</td>\n      <td>1.78</td>\n      <td>2</td>\n      <td>1</td>\n      <td>0.28</td>\n      <td>False.</td>\n    </tr>\n    <tr>\n      <th>4</th>\n      <td>OK</td>\n      <td>75</td>\n      <td>415</td>\n      <td>yes</td>\n      <td>no</td>\n      <td>0</td>\n      <td>166.7</td>\n      <td>113</td>\n      <td>28.34</td>\n      <td>148.3</td>\n      <td>...</td>\n      <td>186.9</td>\n      <td>121</td>\n      <td>8.41</td>\n      <td>10.1</td>\n      <td>3</td>\n      <td>2.73</td>\n      <td>3</td>\n      <td>2</td>\n      <td>0.45</td>\n      <td>False.</td>\n    </tr>\n  </tbody>\n</table>\n<p>5 rows × 22 columns</p>\n</div>"
     },
     "execution_count": 3,
     "metadata": {},
     "output_type": "execute_result"
    }
   ],
   "source": [
    "raw_data = pd.read_csv('data.csv', index_col=0, header=0, sep=',')"
   ],
   "metadata": {
    "collapsed": false,
    "pycharm": {
     "name": "#%%\n"
    }
   }
  },
  {
   "cell_type": "markdown",
   "source": [
    "Давайте рассмотрим всех пользователей из контрольной группы (treatment = 1). Для таких пользователей мы хотим проверить гипотезу о том, что штат абонента не влияет на то, перестанет ли абонент пользоваться услугами оператора.\n",
    "\n",
    "Для этого мы воспользуемся критерием хи-квадрат.  Постройте таблицы сопряженности между каждой из всех 1275 возможных неупорядоченных пар штатов и значением признака churn.  Для каждой такой таблицы 2x2 применить критерий хи-квадрат можно с помощью функции\n",
    "\n",
    "Составим таблицу вида:\n",
    "\n",
    "|        X       | STATE | STATE | ... | STATE |\n",
    "|:--------------:|:-----:|:-----:|-----|-------|\n",
    "|  CHURN == TRUE |   x   |   x2  | ... | xn    |\n",
    "| CHURN == FALSE |   y   |   y2  | ... | yn    |"
   ],
   "metadata": {
    "collapsed": false,
    "pycharm": {
     "name": "#%% md\n"
    }
   }
  },
  {
   "cell_type": "code",
   "execution_count": 41,
   "outputs": [],
   "source": [
    "#stats.chi2_contingency(raw_data[raw_data[\"treatment\"] == 1].churn)\n",
    "data_treatment_1 = raw_data[raw_data[\"treatment\"] == 1]\n",
    "\n",
    "#   Эта штука была для ручной проверки\n",
    "#data_treatment_1.groupby('state').agg(lambda x: list(x))"
   ],
   "metadata": {
    "collapsed": false,
    "pycharm": {
     "name": "#%%\n"
    }
   }
  },
  {
   "cell_type": "code",
   "execution_count": 46,
   "outputs": [
    {
     "name": "stdout",
     "output_type": "stream",
     "text": [
      "STAT = 44.0527, P_VALUE=0.7098\n"
     ]
    },
    {
     "name": "stderr",
     "output_type": "stream",
     "text": [
      "<ipython-input-46-7d14f7a8afbc>:5: SettingWithCopyWarning: \n",
      "A value is trying to be set on a copy of a slice from a DataFrame.\n",
      "Try using .loc[row_indexer,col_indexer] = value instead\n",
      "\n",
      "See the caveats in the documentation: https://pandas.pydata.org/pandas-docs/stable/user_guide/indexing.html#returning-a-view-versus-a-copy\n",
      "  buffer[\"churn\"] = buffer[\"churn\"].apply(lambda x: 1 if (str(x) == 'True.' or str(x) == '1') else 0)\n"
     ]
    }
   ],
   "source": [
    "state_conjugate = pd.DataFrame(index=[\"CHURN_TRUE\", \"CHURN_FALSE\"])\n",
    "\n",
    "for state in data_treatment_1['state'].unique():\n",
    "    buffer = data_treatment_1[data_treatment_1['state'] == state]\n",
    "    buffer[\"churn\"] = buffer[\"churn\"].apply(lambda x: 1 if (str(x) == 'True.' or str(x) == '1') else 0)\n",
    "    true_sum = sum(buffer[\"churn\"])\n",
    "    state_conjugate.loc[\"CHURN_TRUE\", state] = true_sum\n",
    "    state_conjugate.loc[\"CHURN_FALSE\", state] = buffer.shape[0] - true_sum\n",
    "\n",
    "state_conjugate = state_conjugate.astype(int)\n",
    "#   Матрица соряженности есть, теперь засунем ее в провеку на независимость chi_2\n",
    "#   Неправильно print(\"STAT = {0[0]:.4f}, P_VALUE={0[1]:.4f}\".format(stats.chi2_contingency(state_conjugate.values, correction=False)))"
   ],
   "metadata": {
    "collapsed": false,
    "pycharm": {
     "name": "#%%\n"
    }
   }
  },
  {
   "cell_type": "code",
   "execution_count": 139,
   "outputs": [
    {
     "data": {
      "text/plain": "        P_VALUE      STAT\nKS OH  0.075524  3.158685\nKS LA  0.024052  5.090909\nKS IA   0.28219  1.156511\nKS VT  0.616769  0.250435\nKS CO  0.679125  0.171113\n...         ...       ...\nIL HI  0.952933  0.003484\nIL SC  0.267505  1.229497\nND HI  0.652998  0.202142\nND SC  0.322191  0.980031\nHI SC  0.230918    1.4352\n\n[1275 rows x 2 columns]",
      "text/html": "<div>\n<style scoped>\n    .dataframe tbody tr th:only-of-type {\n        vertical-align: middle;\n    }\n\n    .dataframe tbody tr th {\n        vertical-align: top;\n    }\n\n    .dataframe thead th {\n        text-align: right;\n    }\n</style>\n<table border=\"1\" class=\"dataframe\">\n  <thead>\n    <tr style=\"text-align: right;\">\n      <th></th>\n      <th>P_VALUE</th>\n      <th>STAT</th>\n    </tr>\n  </thead>\n  <tbody>\n    <tr>\n      <th>KS OH</th>\n      <td>0.075524</td>\n      <td>3.158685</td>\n    </tr>\n    <tr>\n      <th>KS LA</th>\n      <td>0.024052</td>\n      <td>5.090909</td>\n    </tr>\n    <tr>\n      <th>KS IA</th>\n      <td>0.28219</td>\n      <td>1.156511</td>\n    </tr>\n    <tr>\n      <th>KS VT</th>\n      <td>0.616769</td>\n      <td>0.250435</td>\n    </tr>\n    <tr>\n      <th>KS CO</th>\n      <td>0.679125</td>\n      <td>0.171113</td>\n    </tr>\n    <tr>\n      <th>...</th>\n      <td>...</td>\n      <td>...</td>\n    </tr>\n    <tr>\n      <th>IL HI</th>\n      <td>0.952933</td>\n      <td>0.003484</td>\n    </tr>\n    <tr>\n      <th>IL SC</th>\n      <td>0.267505</td>\n      <td>1.229497</td>\n    </tr>\n    <tr>\n      <th>ND HI</th>\n      <td>0.652998</td>\n      <td>0.202142</td>\n    </tr>\n    <tr>\n      <th>ND SC</th>\n      <td>0.322191</td>\n      <td>0.980031</td>\n    </tr>\n    <tr>\n      <th>HI SC</th>\n      <td>0.230918</td>\n      <td>1.4352</td>\n    </tr>\n  </tbody>\n</table>\n<p>1275 rows × 2 columns</p>\n</div>"
     },
     "execution_count": 139,
     "metadata": {},
     "output_type": "execute_result"
    }
   ],
   "source": [
    "chi2table = pd.DataFrame(columns=['P_VALUE', 'STAT'])\n",
    "columns = state_conjugate.columns\n",
    "for i,state in enumerate(columns):\n",
    "    for state_2 in columns[i+1:]:\n",
    "        stat,p_value = stats.chi2_contingency(state_conjugate[[state, state_2]].values, correction=False)[0:2]\n",
    "        chi2table.loc[f\"{state} {state_2}\", 'STAT'] = stat\n",
    "        chi2table.loc[f\"{state} {state_2}\", 'P_VALUE'] = p_value\n",
    "\n",
    "chi2table"
   ],
   "metadata": {
    "collapsed": false,
    "pycharm": {
     "name": "#%%\n"
    }
   }
  },
  {
   "cell_type": "code",
   "execution_count": 88,
   "outputs": [
    {
     "data": {
      "text/plain": "(array([False,  True]), array([1241,   34]))"
     },
     "execution_count": 88,
     "metadata": {},
     "output_type": "execute_result"
    }
   ],
   "source": [
    "np.unique(chi2table[\"P_VALUE\"] < .05, return_counts=True)"
   ],
   "metadata": {
    "collapsed": false,
    "pycharm": {
     "name": "#%%\n"
    }
   }
  },
  {
   "cell_type": "code",
   "execution_count": 89,
   "outputs": [
    {
     "data": {
      "text/plain": "        P_VALUE      STAT\nKS LA  0.024052  5.090909\nKS AK  0.044934  4.021115\nKS NM  0.037998  4.305103\nOH CA  0.047788  3.917411\nLA CO  0.047101  3.941761\nLA MA  0.020937  5.332031\nLA AR  0.018074  5.588942\nLA MI  0.047101  3.941761\nLA TX  0.019782  5.431034\nLA ME  0.021755  5.265306\nLA NV  0.035275  4.431818\nLA WA  0.018001  5.596073\nLA CA  0.014306       6.0\nLA SC  0.041697  4.147465\nAK MA  0.038498   4.28287\nAK AR  0.035729      4.41\nAK TX  0.037468  4.329004\nAK ME  0.039136  4.254945\nAK WA  0.032535  4.570085\nAK CA  0.027737  4.844349\nMA DC  0.045466  4.001277\nMA NM  0.031603  4.619924\nAR DC  0.042141  4.129518\nAR NM  0.030954  4.655537\nTX DC  0.044212  4.048449\nTX NM  0.031511  4.624916\nDC ME  0.046264  3.971947\nDC WA  0.038666  4.275474\nDC CA  0.033021  4.544695\nME NM  0.031483  4.626433\nWA NM  0.025857  4.965533\nNM CA  0.023048  5.164869\nDE CA  0.047104  3.941679\nWI CA  0.047788  3.917411",
      "text/html": "<div>\n<style scoped>\n    .dataframe tbody tr th:only-of-type {\n        vertical-align: middle;\n    }\n\n    .dataframe tbody tr th {\n        vertical-align: top;\n    }\n\n    .dataframe thead th {\n        text-align: right;\n    }\n</style>\n<table border=\"1\" class=\"dataframe\">\n  <thead>\n    <tr style=\"text-align: right;\">\n      <th></th>\n      <th>P_VALUE</th>\n      <th>STAT</th>\n    </tr>\n  </thead>\n  <tbody>\n    <tr>\n      <th>KS LA</th>\n      <td>0.024052</td>\n      <td>5.090909</td>\n    </tr>\n    <tr>\n      <th>KS AK</th>\n      <td>0.044934</td>\n      <td>4.021115</td>\n    </tr>\n    <tr>\n      <th>KS NM</th>\n      <td>0.037998</td>\n      <td>4.305103</td>\n    </tr>\n    <tr>\n      <th>OH CA</th>\n      <td>0.047788</td>\n      <td>3.917411</td>\n    </tr>\n    <tr>\n      <th>LA CO</th>\n      <td>0.047101</td>\n      <td>3.941761</td>\n    </tr>\n    <tr>\n      <th>LA MA</th>\n      <td>0.020937</td>\n      <td>5.332031</td>\n    </tr>\n    <tr>\n      <th>LA AR</th>\n      <td>0.018074</td>\n      <td>5.588942</td>\n    </tr>\n    <tr>\n      <th>LA MI</th>\n      <td>0.047101</td>\n      <td>3.941761</td>\n    </tr>\n    <tr>\n      <th>LA TX</th>\n      <td>0.019782</td>\n      <td>5.431034</td>\n    </tr>\n    <tr>\n      <th>LA ME</th>\n      <td>0.021755</td>\n      <td>5.265306</td>\n    </tr>\n    <tr>\n      <th>LA NV</th>\n      <td>0.035275</td>\n      <td>4.431818</td>\n    </tr>\n    <tr>\n      <th>LA WA</th>\n      <td>0.018001</td>\n      <td>5.596073</td>\n    </tr>\n    <tr>\n      <th>LA CA</th>\n      <td>0.014306</td>\n      <td>6.0</td>\n    </tr>\n    <tr>\n      <th>LA SC</th>\n      <td>0.041697</td>\n      <td>4.147465</td>\n    </tr>\n    <tr>\n      <th>AK MA</th>\n      <td>0.038498</td>\n      <td>4.28287</td>\n    </tr>\n    <tr>\n      <th>AK AR</th>\n      <td>0.035729</td>\n      <td>4.41</td>\n    </tr>\n    <tr>\n      <th>AK TX</th>\n      <td>0.037468</td>\n      <td>4.329004</td>\n    </tr>\n    <tr>\n      <th>AK ME</th>\n      <td>0.039136</td>\n      <td>4.254945</td>\n    </tr>\n    <tr>\n      <th>AK WA</th>\n      <td>0.032535</td>\n      <td>4.570085</td>\n    </tr>\n    <tr>\n      <th>AK CA</th>\n      <td>0.027737</td>\n      <td>4.844349</td>\n    </tr>\n    <tr>\n      <th>MA DC</th>\n      <td>0.045466</td>\n      <td>4.001277</td>\n    </tr>\n    <tr>\n      <th>MA NM</th>\n      <td>0.031603</td>\n      <td>4.619924</td>\n    </tr>\n    <tr>\n      <th>AR DC</th>\n      <td>0.042141</td>\n      <td>4.129518</td>\n    </tr>\n    <tr>\n      <th>AR NM</th>\n      <td>0.030954</td>\n      <td>4.655537</td>\n    </tr>\n    <tr>\n      <th>TX DC</th>\n      <td>0.044212</td>\n      <td>4.048449</td>\n    </tr>\n    <tr>\n      <th>TX NM</th>\n      <td>0.031511</td>\n      <td>4.624916</td>\n    </tr>\n    <tr>\n      <th>DC ME</th>\n      <td>0.046264</td>\n      <td>3.971947</td>\n    </tr>\n    <tr>\n      <th>DC WA</th>\n      <td>0.038666</td>\n      <td>4.275474</td>\n    </tr>\n    <tr>\n      <th>DC CA</th>\n      <td>0.033021</td>\n      <td>4.544695</td>\n    </tr>\n    <tr>\n      <th>ME NM</th>\n      <td>0.031483</td>\n      <td>4.626433</td>\n    </tr>\n    <tr>\n      <th>WA NM</th>\n      <td>0.025857</td>\n      <td>4.965533</td>\n    </tr>\n    <tr>\n      <th>NM CA</th>\n      <td>0.023048</td>\n      <td>5.164869</td>\n    </tr>\n    <tr>\n      <th>DE CA</th>\n      <td>0.047104</td>\n      <td>3.941679</td>\n    </tr>\n    <tr>\n      <th>WI CA</th>\n      <td>0.047788</td>\n      <td>3.917411</td>\n    </tr>\n  </tbody>\n</table>\n</div>"
     },
     "execution_count": 89,
     "metadata": {},
     "output_type": "execute_result"
    }
   ],
   "source": [],
   "metadata": {
    "collapsed": false,
    "pycharm": {
     "name": "#%%\n"
    }
   }
  },
  {
   "cell_type": "code",
   "execution_count": 127,
   "outputs": [
    {
     "data": {
      "text/plain": "33.33333333333333"
     },
     "execution_count": 127,
     "metadata": {},
     "output_type": "execute_result"
    }
   ],
   "source": [
    "_buf_ = np.unique(state_conjugate.apply(lambda x: x < 5).values, return_counts=True)[1]\n",
    "_buf_[1] / sum(_buf_) * 100\n",
    "#   А должно быть меньше 20, иначе критерий хи-квадрат для сопряженных таблиц работает некорректно"
   ],
   "metadata": {
    "collapsed": false,
    "pycharm": {
     "name": "#%%\n"
    }
   }
  },
  {
   "cell_type": "code",
   "execution_count": 118,
   "outputs": [
    {
     "data": {
      "text/plain": "             KS  OH  LA  IA  VT  CO  WY  MO  GA  AK  ...  WI  CA  NC  MD  TN  \\\nCHURN_TRUE    7   2   0   2   5   5   2   4   2   1  ...   2   5   3   5   1   \nCHURN_FALSE  18  22  15  13  18  17  20  17  19  19  ...  22  10  16  19  11   \n\n             AL  IL  ND  HI  SC  \nCHURN_TRUE    5   1   3   1   5  \nCHURN_FALSE  25  11  21  12  16  \n\n[2 rows x 51 columns]",
      "text/html": "<div>\n<style scoped>\n    .dataframe tbody tr th:only-of-type {\n        vertical-align: middle;\n    }\n\n    .dataframe tbody tr th {\n        vertical-align: top;\n    }\n\n    .dataframe thead th {\n        text-align: right;\n    }\n</style>\n<table border=\"1\" class=\"dataframe\">\n  <thead>\n    <tr style=\"text-align: right;\">\n      <th></th>\n      <th>KS</th>\n      <th>OH</th>\n      <th>LA</th>\n      <th>IA</th>\n      <th>VT</th>\n      <th>CO</th>\n      <th>WY</th>\n      <th>MO</th>\n      <th>GA</th>\n      <th>AK</th>\n      <th>...</th>\n      <th>WI</th>\n      <th>CA</th>\n      <th>NC</th>\n      <th>MD</th>\n      <th>TN</th>\n      <th>AL</th>\n      <th>IL</th>\n      <th>ND</th>\n      <th>HI</th>\n      <th>SC</th>\n    </tr>\n  </thead>\n  <tbody>\n    <tr>\n      <th>CHURN_TRUE</th>\n      <td>7</td>\n      <td>2</td>\n      <td>0</td>\n      <td>2</td>\n      <td>5</td>\n      <td>5</td>\n      <td>2</td>\n      <td>4</td>\n      <td>2</td>\n      <td>1</td>\n      <td>...</td>\n      <td>2</td>\n      <td>5</td>\n      <td>3</td>\n      <td>5</td>\n      <td>1</td>\n      <td>5</td>\n      <td>1</td>\n      <td>3</td>\n      <td>1</td>\n      <td>5</td>\n    </tr>\n    <tr>\n      <th>CHURN_FALSE</th>\n      <td>18</td>\n      <td>22</td>\n      <td>15</td>\n      <td>13</td>\n      <td>18</td>\n      <td>17</td>\n      <td>20</td>\n      <td>17</td>\n      <td>19</td>\n      <td>19</td>\n      <td>...</td>\n      <td>22</td>\n      <td>10</td>\n      <td>16</td>\n      <td>19</td>\n      <td>11</td>\n      <td>25</td>\n      <td>11</td>\n      <td>21</td>\n      <td>12</td>\n      <td>16</td>\n    </tr>\n  </tbody>\n</table>\n<p>2 rows × 51 columns</p>\n</div>"
     },
     "execution_count": 118,
     "metadata": {},
     "output_type": "execute_result"
    }
   ],
   "source": [
    "state_conjugate"
   ],
   "metadata": {
    "collapsed": false,
    "pycharm": {
     "name": "#%%\n"
    }
   }
  },
  {
   "cell_type": "code",
   "execution_count": 157,
   "outputs": [
    {
     "data": {
      "text/plain": "        P_VALUE      STAT\nKS OH  0.159054  1.983196\nKS LA   0.06777  3.336219\nKS IA  0.493752  0.468339\nKS VT  0.867518  0.027826\nKS CO  0.937468  0.006155\n...         ...       ...\nIL HI   0.49728  0.460737\nIL SC  0.522363  0.409226\nND HI   0.91645  0.011005\nND SC  0.549046  0.359028\nHI SC  0.462257  0.540424\n\n[1275 rows x 2 columns]",
      "text/html": "<div>\n<style scoped>\n    .dataframe tbody tr th:only-of-type {\n        vertical-align: middle;\n    }\n\n    .dataframe tbody tr th {\n        vertical-align: top;\n    }\n\n    .dataframe thead th {\n        text-align: right;\n    }\n</style>\n<table border=\"1\" class=\"dataframe\">\n  <thead>\n    <tr style=\"text-align: right;\">\n      <th></th>\n      <th>P_VALUE</th>\n      <th>STAT</th>\n    </tr>\n  </thead>\n  <tbody>\n    <tr>\n      <th>KS OH</th>\n      <td>0.159054</td>\n      <td>1.983196</td>\n    </tr>\n    <tr>\n      <th>KS LA</th>\n      <td>0.06777</td>\n      <td>3.336219</td>\n    </tr>\n    <tr>\n      <th>KS IA</th>\n      <td>0.493752</td>\n      <td>0.468339</td>\n    </tr>\n    <tr>\n      <th>KS VT</th>\n      <td>0.867518</td>\n      <td>0.027826</td>\n    </tr>\n    <tr>\n      <th>KS CO</th>\n      <td>0.937468</td>\n      <td>0.006155</td>\n    </tr>\n    <tr>\n      <th>...</th>\n      <td>...</td>\n      <td>...</td>\n    </tr>\n    <tr>\n      <th>IL HI</th>\n      <td>0.49728</td>\n      <td>0.460737</td>\n    </tr>\n    <tr>\n      <th>IL SC</th>\n      <td>0.522363</td>\n      <td>0.409226</td>\n    </tr>\n    <tr>\n      <th>ND HI</th>\n      <td>0.91645</td>\n      <td>0.011005</td>\n    </tr>\n    <tr>\n      <th>ND SC</th>\n      <td>0.549046</td>\n      <td>0.359028</td>\n    </tr>\n    <tr>\n      <th>HI SC</th>\n      <td>0.462257</td>\n      <td>0.540424</td>\n    </tr>\n  </tbody>\n</table>\n<p>1275 rows × 2 columns</p>\n</div>"
     },
     "execution_count": 157,
     "metadata": {},
     "output_type": "execute_result"
    }
   ],
   "source": [
    "chi2table = pd.DataFrame(columns=['P_VALUE', 'STAT'])\n",
    "columns = state_conjugate.columns\n",
    "for i,state in enumerate(columns):\n",
    "    for state_2 in columns[i+1:]:\n",
    "        stat,p_value = stats.chi2_contingency(state_conjugate[[state, state_2]].values, correction=True)[0:2]\n",
    "        chi2table.loc[f\"{state} {state_2}\", 'STAT'] = stat\n",
    "        chi2table.loc[f\"{state} {state_2}\", 'P_VALUE'] = p_value\n",
    "\n",
    "chi2table"
   ],
   "metadata": {
    "collapsed": false,
    "pycharm": {
     "name": "#%%\n"
    }
   }
  },
  {
   "cell_type": "code",
   "execution_count": 132,
   "outputs": [
    {
     "data": {
      "text/plain": "(array([False]), array([1275]))"
     },
     "execution_count": 132,
     "metadata": {},
     "output_type": "execute_result"
    }
   ],
   "source": [
    "np.unique(chi2table[\"P_VALUE\"] < .05, return_counts=True)"
   ],
   "metadata": {
    "collapsed": false,
    "pycharm": {
     "name": "#%%\n"
    }
   }
  },
  {
   "cell_type": "code",
   "execution_count": 137,
   "outputs": [
    {
     "data": {
      "text/plain": "External cycle:   0%|          | 0/51 [00:00<?, ?it/s]",
      "application/vnd.jupyter.widget-view+json": {
       "version_major": 2,
       "version_minor": 0,
       "model_id": "827f5ef7e08d42198c1e4ef0d7d82ea9"
      }
     },
     "metadata": {},
     "output_type": "display_data"
    },
    {
     "data": {
      "text/plain": "        P_VALUE      STAT\nKS OH  0.138333  4.277778\nKS LA   0.03284       inf\nKS IA  0.440083  2.527778\nKS VT  0.743389       1.4\nKS CO  0.747108  1.322222\n...         ...       ...\nIL HI       1.0  1.090909\nIL SC  0.379171  0.290909\nND HI       1.0  1.714286\nND SC  0.442704  0.457143\nHI SC  0.370059  0.266667\n\n[1275 rows x 2 columns]",
      "text/html": "<div>\n<style scoped>\n    .dataframe tbody tr th:only-of-type {\n        vertical-align: middle;\n    }\n\n    .dataframe tbody tr th {\n        vertical-align: top;\n    }\n\n    .dataframe thead th {\n        text-align: right;\n    }\n</style>\n<table border=\"1\" class=\"dataframe\">\n  <thead>\n    <tr style=\"text-align: right;\">\n      <th></th>\n      <th>P_VALUE</th>\n      <th>STAT</th>\n    </tr>\n  </thead>\n  <tbody>\n    <tr>\n      <th>KS OH</th>\n      <td>0.138333</td>\n      <td>4.277778</td>\n    </tr>\n    <tr>\n      <th>KS LA</th>\n      <td>0.03284</td>\n      <td>inf</td>\n    </tr>\n    <tr>\n      <th>KS IA</th>\n      <td>0.440083</td>\n      <td>2.527778</td>\n    </tr>\n    <tr>\n      <th>KS VT</th>\n      <td>0.743389</td>\n      <td>1.4</td>\n    </tr>\n    <tr>\n      <th>KS CO</th>\n      <td>0.747108</td>\n      <td>1.322222</td>\n    </tr>\n    <tr>\n      <th>...</th>\n      <td>...</td>\n      <td>...</td>\n    </tr>\n    <tr>\n      <th>IL HI</th>\n      <td>1.0</td>\n      <td>1.090909</td>\n    </tr>\n    <tr>\n      <th>IL SC</th>\n      <td>0.379171</td>\n      <td>0.290909</td>\n    </tr>\n    <tr>\n      <th>ND HI</th>\n      <td>1.0</td>\n      <td>1.714286</td>\n    </tr>\n    <tr>\n      <th>ND SC</th>\n      <td>0.442704</td>\n      <td>0.457143</td>\n    </tr>\n    <tr>\n      <th>HI SC</th>\n      <td>0.370059</td>\n      <td>0.266667</td>\n    </tr>\n  </tbody>\n</table>\n<p>1275 rows × 2 columns</p>\n</div>"
     },
     "execution_count": 137,
     "metadata": {},
     "output_type": "execute_result"
    }
   ],
   "source": [
    "from tqdm.notebook import tqdm\n",
    "#   Критерий Фишера, * даже страшно представить сколько он будет считаться\n",
    "chi2table_fisher = pd.DataFrame(columns=['P_VALUE', 'STAT'])\n",
    "columns = state_conjugate.columns\n",
    "for i,state in tqdm(enumerate(columns), desc=\"External cycle\", total=len(columns)):\n",
    "    for state_2 in (columns[i+1:]):\n",
    "        stat,p_value = stats.fisher_exact(state_conjugate[[state, state_2]].values)[0:2]\n",
    "        chi2table_fisher.loc[f\"{state} {state_2}\", 'STAT'] = stat\n",
    "        chi2table_fisher.loc[f\"{state} {state_2}\", 'P_VALUE'] = p_value\n",
    "\n",
    "chi2table_fisher"
   ],
   "metadata": {
    "collapsed": false,
    "pycharm": {
     "name": "#%%\n"
    }
   }
  },
  {
   "cell_type": "code",
   "execution_count": 138,
   "outputs": [
    {
     "data": {
      "text/plain": "(array([False,  True]), array([1265,   10]))"
     },
     "execution_count": 138,
     "metadata": {},
     "output_type": "execute_result"
    }
   ],
   "source": [
    "np.unique(chi2table_fisher[\"P_VALUE\"] < .05, return_counts=True)"
   ],
   "metadata": {
    "collapsed": false,
    "pycharm": {
     "name": "#%%\n"
    }
   }
  },
  {
   "cell_type": "code",
   "execution_count": 159,
   "outputs": [
    {
     "data": {
      "text/plain": "Ttest_indResult(statistic=-1.3969857558554826, pvalue=0.08126975150497395)"
     },
     "execution_count": 159,
     "metadata": {},
     "output_type": "execute_result"
    }
   ],
   "source": [
    "stats.ttest_ind(chi2table_fisher[\"P_VALUE\"].values, chi2table[\"P_VALUE\"].values, alternative=\"less\")"
   ],
   "metadata": {
    "collapsed": false,
    "pycharm": {
     "name": "#%%\n"
    }
   }
  },
  {
   "cell_type": "code",
   "execution_count": 143,
   "outputs": [
    {
     "data": {
      "text/plain": "(-0.05179435058757264, 0.0027798836869738384)"
     },
     "execution_count": 143,
     "metadata": {},
     "output_type": "execute_result"
    }
   ],
   "source": [
    "stats.pearsonr(raw_data[\"day_calls\"].values, raw_data[\"mes_estim\"].values)\n",
    "#   Гипотеза об отсутствии монотонной взаимосвязи на уровне значимости .05 отвергается\n",
    "#   А вообще считать корреляцию Пирсона некорректно, так как данные не непрерывны * Я тупой, данные как раз непрерывны, ведь единица измерения признака - минуты, так что все в порядке"
   ],
   "metadata": {
    "collapsed": false,
    "pycharm": {
     "name": "#%%\n"
    }
   }
  },
  {
   "cell_type": "code",
   "execution_count": 144,
   "outputs": [
    {
     "data": {
      "text/plain": "SpearmanrResult(correlation=0.043349880533927444, pvalue=0.012317367189170541)"
     },
     "execution_count": 144,
     "metadata": {},
     "output_type": "execute_result"
    }
   ],
   "source": [
    "stats.spearmanr(raw_data[\"day_calls\"].values, raw_data[\"mes_estim\"].values)"
   ],
   "metadata": {
    "collapsed": false,
    "pycharm": {
     "name": "#%%\n"
    }
   }
  },
  {
   "cell_type": "code",
   "execution_count": 149,
   "outputs": [
    {
     "data": {
      "text/plain": "<Figure size 432x288 with 1 Axes>",
      "image/png": "[encoded data removed]"
     },
     "metadata": {
      "needs_background": "light"
     },
     "output_type": "display_data"
    },
    {
     "data": {
      "text/plain": "((array([-3.5297919 , -3.28786833, -3.15418238, ...,  3.15418238,\n          3.28786833,  3.5297919 ]),\n  array([0.05, 0.05, 0.05, ..., 0.89, 0.91, 0.96])),\n (0.13861708020693372, 0.4842364236423642, 0.9996050483985331))"
     },
     "execution_count": 149,
     "metadata": {},
     "output_type": "execute_result"
    },
    {
     "data": {
      "text/plain": "<Figure size 432x288 with 1 Axes>",
      "image/png": "[encoded data removed]"
     },
     "metadata": {
      "needs_background": "light"
     },
     "output_type": "display_data"
    }
   ],
   "source": [
    "stats.probplot(raw_data[\"day_calls\"].values, plot=plt, rvalue=True)\n",
    "plt.show()\n",
    "stats.probplot(raw_data[\"mes_estim\"].values, plot=plt, rvalue=True)"
   ],
   "metadata": {
    "collapsed": false,
    "pycharm": {
     "name": "#%%\n"
    }
   }
  },
  {
   "cell_type": "code",
   "execution_count": 156,
   "outputs": [
    {
     "name": "stdout",
     "output_type": "stream",
     "text": [
      "P_VALUE: 0.7097590042778473\n"
     ]
    },
    {
     "data": {
      "text/plain": "0.2003932150203332"
     },
     "execution_count": 156,
     "metadata": {},
     "output_type": "execute_result"
    }
   ],
   "source": [
    "chi_stat, p_stat = stats.chi2_contingency(state_conjugate.values)[:2]\n",
    "print('P_VALUE:', p_stat)\n",
    "V_Crammer = np.sqrt((chi_stat / np.sum(state_conjugate.values)) / (min(state_conjugate.shape) - 1))\n",
    "V_Crammer"
   ],
   "metadata": {
    "collapsed": false,
    "pycharm": {
     "name": "#%%\n"
    }
   }
  },
  {
   "cell_type": "code",
   "execution_count": 164,
   "outputs": [],
   "source": [
    "tr0 = raw_data[raw_data[\"treatment\"] == 0]['churn'].apply(lambda x: 1 if (str(x) == 'False.' or str(x) == '1') else 0).values\n",
    "tr1 = raw_data[raw_data[\"treatment\"] == 1]['churn'].apply(lambda x: 1 if (str(x) == 'False.' or str(x) == '1') else 0).values\n",
    "tr2 = raw_data[raw_data[\"treatment\"] == 2]['churn'].apply(lambda x: 1 if (str(x) == 'False.' or str(x) == '1') else 0).values"
   ],
   "metadata": {
    "collapsed": false,
    "pycharm": {
     "name": "#%%\n"
    }
   }
  },
  {
   "cell_type": "code",
   "execution_count": 165,
   "outputs": [
    {
     "name": "stdout",
     "output_type": "stream",
     "text": [
      "0-1 Ttest_indResult(statistic=1.2045205230813048, pvalue=0.2285163910842914)\n",
      "0-2 Ttest_indResult(statistic=-1.4172019054376452, pvalue=0.15656334748097245)\n",
      "1-2 Ttest_indResult(statistic=-2.601870748565941, pvalue=0.009333926332475618)\n"
     ]
    }
   ],
   "source": [
    "print('0-1', stats.ttest_ind(tr0, tr1))\n",
    "print('0-2', stats.ttest_ind(tr0, tr2))\n",
    "print('1-2', stats.ttest_ind(tr1, tr2))"
   ],
   "metadata": {
    "collapsed": false,
    "pycharm": {
     "name": "#%%\n"
    }
   }
  }
 ],
 "metadata": {
  "kernelspec": {
   "display_name": "Python 3",
   "language": "python",
   "name": "python3"
  },
  "language_info": {
   "codemirror_mode": {
    "name": "ipython",
    "version": 2
   },
   "file_extension": ".py",
   "mimetype": "text/x-python",
   "name": "python",
   "nbconvert_exporter": "python",
   "pygments_lexer": "ipython2",
   "version": "2.7.6"
  }
 },
 "nbformat": 4,
 "nbformat_minor": 0
}