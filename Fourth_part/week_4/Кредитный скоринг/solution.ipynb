{
 "cells": [
  {
   "cell_type": "code",
   "execution_count": 1,
   "metadata": {
    "collapsed": true
   },
   "outputs": [],
   "source": [
    "import pandas as pd\n",
    "import numpy as np\n",
    "import itertools\n",
    "from tqdm.notebook import tqdm\n",
    "from scipy import stats\n",
    "from statsmodels.stats.weightstats import zconfint, _tconfint_generic\n",
    "import statsmodels.stats.api as sms\n",
    "import matplotlib.pylab as plt"
   ]
  },
  {
   "cell_type": "code",
   "execution_count": 2,
   "outputs": [],
   "source": [
    "raw_data = pd.read_csv(\"data.csv\", header=0, sep=\",\")"
   ],
   "metadata": {
    "collapsed": false,
    "pycharm": {
     "name": "#%%\n"
    }
   }
  },
  {
   "cell_type": "markdown",
   "source": [
    "Проверим, содержатся ли в данных пропущенные значения. В случае если содержатся - введем бинарный признак отсутствия данных"
   ],
   "metadata": {
    "collapsed": false,
    "pycharm": {
     "name": "#%% md\n"
    }
   }
  },
  {
   "cell_type": "code",
   "execution_count": 3,
   "outputs": [
    {
     "name": "stdout",
     "output_type": "stream",
     "text": [
      "Data has NAN values: False\n"
     ]
    }
   ],
   "source": [
    "print(\"Data has NAN values:\", raw_data.isnull().values.any())"
   ],
   "metadata": {
    "collapsed": false,
    "pycharm": {
     "name": "#%%\n"
    }
   }
  },
  {
   "cell_type": "markdown",
   "source": [
    "Отлично! Пропусков в данных нет, а это значит что нам не нужно будет делать предобработку"
   ],
   "metadata": {
    "collapsed": false,
    "pycharm": {
     "name": "#%% md\n"
    }
   }
  },
  {
   "cell_type": "markdown",
   "source": [
    "#   Задание 1\n",
    "Размер кредитного лимита (LIMIT_BAL). В двух группах, тех людей, кто вернул кредит (default = 0) и тех, кто его не вернул (default = 1) проверьте гипотезы:   a)  о равенстве медианных значений кредитного лимита с помощью подходящей интервальной оценки  b) о равенстве распределений с помощью одного из подходящих непараметрических критериев проверки равенства средних.  Значимы ли полученные результаты с практической точки зрения ?"
   ],
   "metadata": {
    "collapsed": false,
    "pycharm": {
     "name": "#%% md\n"
    }
   }
  },
  {
   "cell_type": "code",
   "execution_count": 4,
   "outputs": [
    {
     "name": "stdout",
     "output_type": "stream",
     "text": [
      "RETURNED n = 23364, std^2 = 17326025066.91146\n",
      "DEPT n = 6636, std^2 = 13312207624.358934\n"
     ]
    }
   ],
   "source": [
    "def calculate_sigma(input_data: pd.Series):\n",
    "    mean = input_data.mean()\n",
    "    SSM = sum([(x - mean) ** 2 for x in input_data])\n",
    "    return SSM / (len(input_data) - 1)\n",
    "\n",
    "credit_returned = raw_data[raw_data[\"default\"] == 0]\n",
    "credit_dept = raw_data[raw_data[\"default\"] == 1]\n",
    "#   Для оценки медианных значений хочется понять можем ли мы использовать критерий Стьюдента?\n",
    "#   Оценим выборочные дисперсии\n",
    "print(f\"RETURNED n = {credit_returned.shape[0]}, std^2 = {calculate_sigma(credit_returned['LIMIT_BAL'])}\")\n",
    "print(f\"DEPT n = {credit_dept.shape[0]}, std^2 = {calculate_sigma(credit_dept['LIMIT_BAL'])}\")\n",
    "#   Выборка с большей дисперсией больше чем выборка с меньшей дисперсией. Можно применять критерий Стьюдента"
   ],
   "metadata": {
    "collapsed": false,
    "pycharm": {
     "name": "#%%\n"
    }
   }
  },
  {
   "cell_type": "code",
   "execution_count": 5,
   "outputs": [
    {
     "name": "stdout",
     "output_type": "stream",
     "text": [
      "SELF MADE: 6.424018308502891e-179\n",
      "SCIPY REALISATION: 3.3641002455114717e-178\n",
      "BOOTSTRAP INTERVAL:\n",
      "[60000. 70000.]\n"
     ]
    },
    {
     "data": {
      "text/plain": "<Figure size 1008x1008 with 1 Axes>",
      "image/png": "[encoded data removed]"
     },
     "metadata": {
      "needs_background": "light"
     },
     "output_type": "display_data"
    }
   ],
   "source": [
    "def get_bootstrap_interval(data, n_samples):\n",
    "    indices = np.random.randint(0, len(data), (n_samples, len(data)))\n",
    "    samples = data[indices]\n",
    "    return samples\n",
    "\n",
    "def stat_interval(stat, alpha=.05):\n",
    "    boundaries = np.percentile(stat, [100 * alpha / 2., 100 * (1 - alpha / 2.)])\n",
    "    return boundaries\n",
    "\n",
    "\n",
    "#   Можно использовать stats.ttest_ind, но интересней снова написать self-made функцию\n",
    "def definition_of_freedom_and_ttest_stat_2_samples(sample1: pd.Series, sample2: pd.Series):\n",
    "    S1 = calculate_sigma(sample1)\n",
    "    S2 = calculate_sigma(sample2)\n",
    "    n1 = len(sample1)\n",
    "    n2 = len(sample2)\n",
    "    dof = (((S1 ** 2 / n1) + (S2 ** 2 / n2)) ** 2) / ((S1 ** 4 / ((n1 - 1) * n1 ** 2)) + (S2 ** 4 / ((n2 - 1) * n2 ** 2)))\n",
    "    return dof, (sample1.mean() - sample2.mean())/ np.sqrt((S1 / n1) + (S2 / n2))\n",
    "\n",
    "\n",
    "def ttest_mean_2_samples(sample1: pd.Series, sample2: pd.Series, alternative=\"two-sided\"):\n",
    "    if alternative not in ('two-sided', 'greater', 'less'):\n",
    "        raise ValueError(\"Unknown alternative\")\n",
    "\n",
    "    dof, t_stat = definition_of_freedom_and_ttest_stat_2_samples(sample1, sample2)\n",
    "    if alternative == \"two-sided\":\n",
    "        return 2 * stats.t.sf(t_stat, dof)\n",
    "    if alternative == \"less\":\n",
    "        return stats.t.cdf(t_stat, dof)\n",
    "    if alternative == \"greater\":\n",
    "        return stats.t.sf(t_stat, dof)\n",
    "\n",
    "print(\"SELF MADE:\", ttest_mean_2_samples(credit_returned.LIMIT_BAL, credit_dept.LIMIT_BAL))\n",
    "print(\"SCIPY REALISATION:\", stats.ttest_ind(credit_returned.LIMIT_BAL, credit_dept.LIMIT_BAL, equal_var=False)[1])\n",
    "\n",
    "plt.figure(figsize=(14,14))\n",
    "plt.grid()\n",
    "plt.hist(credit_returned.LIMIT_BAL, edgecolor=\"black\", color=\"green\", label=\"RETURNED\")\n",
    "plt.hist(credit_dept.LIMIT_BAL, edgecolor=\"black\", color=\"red\", label=\"DEPT\")\n",
    "plt.legend(loc=\"upper right\")\n",
    "plt.show()\n",
    "print('BOOTSTRAP INTERVAL:')\n",
    "delta_median_scores = list(map(lambda x: x[1] - x[0], zip(list(map(np.median, get_bootstrap_interval(credit_dept.LIMIT_BAL.values, 10000))), list(map(np.median, get_bootstrap_interval(credit_returned.LIMIT_BAL.values, 10000))))))\n",
    "print(stat_interval(delta_median_scores, .05))"
   ],
   "metadata": {
    "collapsed": false,
    "pycharm": {
     "name": "#%%\n"
    }
   }
  },
  {
   "cell_type": "markdown",
   "source": [
    "### Task 1.1 ANS:\n",
    "### В любом случае гипотезу о равенстве медианы кредитного рейтинга можно отвергнуть\n",
    "### P_VALUE: 6.424018308502891e-179\n",
    "Построим дополнительно 95% доверительный интервал для разности средних\n",
    "\n",
    "#   Значимо! Так как сильно отличается разность средних"
   ],
   "metadata": {
    "collapsed": false,
    "pycharm": {
     "name": "#%% md\n"
    }
   }
  },
  {
   "cell_type": "code",
   "execution_count": 6,
   "outputs": [
    {
     "name": "stdout",
     "output_type": "stream",
     "text": [
      "(44494.42598868728, 51485.71332085771)\n"
     ]
    }
   ],
   "source": [
    "print(sms.CompareMeans(sms.DescrStatsW(credit_returned.LIMIT_BAL), sms.DescrStatsW(credit_dept.LIMIT_BAL)).tconfint_diff(alpha=0.05))\n",
    "#   Значимо!"
   ],
   "metadata": {
    "collapsed": false,
    "pycharm": {
     "name": "#%%\n"
    }
   }
  },
  {
   "cell_type": "code",
   "execution_count": 7,
   "outputs": [
    {
     "name": "stdout",
     "output_type": "stream",
     "text": [
      "[150000.0, 150000.0]\n",
      "[80000.0, 90000.0]\n"
     ]
    }
   ],
   "source": [
    "#   Можно воспользоваться бутстрэпом\n",
    "np.random.seed(0)\n",
    "#stat_interval(list(map(np.median, get_bootstrap_interval(credit_returned.LIMIT_BAL.values, 1000))))\n",
    "print(\"[{0[0]}, {0[1]}]\".format(stat_interval(list(map(np.median, get_bootstrap_interval(credit_returned.LIMIT_BAL.values, 1000))))))\n",
    "print(\"[{0[0]}, {0[1]}]\".format(stat_interval(list(map(np.median, get_bootstrap_interval(credit_dept.LIMIT_BAL.values, 1000))))))\n",
    "#   значимо!"
   ],
   "metadata": {
    "collapsed": false,
    "pycharm": {
     "name": "#%%\n"
    }
   }
  },
  {
   "cell_type": "markdown",
   "source": [
    "О равенстве распределений с помощью одного из подходящих непараметрических критериев проверки равенства средних"
   ],
   "metadata": {
    "collapsed": false,
    "pycharm": {
     "name": "#%% md\n"
    }
   }
  },
  {
   "cell_type": "code",
   "execution_count": 8,
   "outputs": [
    {
     "data": {
      "text/plain": "  0%|          | 0/999 [00:00<?, ?it/s]",
      "application/vnd.jupyter.widget-view+json": {
       "version_major": 2,
       "version_minor": 0,
       "model_id": "c81a4033114f43d6ad71f51ff8bfba5d"
      }
     },
     "metadata": {},
     "output_type": "display_data"
    },
    {
     "data": {
      "text/plain": "Create Random indexes:   0%|          | 0/1000 [00:00<?, ?it/s]",
      "application/vnd.jupyter.widget-view+json": {
       "version_major": 2,
       "version_minor": 0,
       "model_id": "c8aa906469234325a515b34a9bf8fec6"
      }
     },
     "metadata": {},
     "output_type": "display_data"
    },
    {
     "data": {
      "text/plain": "Compute Mean:   0%|          | 0/1000 [00:00<?, ?it/s]",
      "application/vnd.jupyter.widget-view+json": {
       "version_major": 2,
       "version_minor": 0,
       "model_id": "b786b6d315e047e6b9c3fcf857cc239a"
      }
     },
     "metadata": {},
     "output_type": "display_data"
    },
    {
     "data": {
      "text/plain": "  0%|          | 0/1000 [00:00<?, ?it/s]",
      "application/vnd.jupyter.widget-view+json": {
       "version_major": 2,
       "version_minor": 0,
       "model_id": "df1ff81f8e24460aa024f65c2961acda"
      }
     },
     "metadata": {},
     "output_type": "display_data"
    },
    {
     "data": {
      "text/plain": "0.001"
     },
     "execution_count": 8,
     "metadata": {},
     "output_type": "execute_result"
    },
    {
     "data": {
      "text/plain": "<Figure size 432x288 with 1 Axes>",
      "image/png": "[encoded data removed]"
     },
     "metadata": {
      "needs_background": "light"
     },
     "output_type": "display_data"
    }
   ],
   "source": [
    "#   Можно воспользоваться готовым ранговых Манна-Уитни, а можно написать перестановочный критерий\n",
    "def get_random_combinations(n1, n2, max_permutations):\n",
    "    index = list(range(n1 + n2))\n",
    "    indices = set([tuple(index)])\n",
    "    for i in tqdm(range(max_permutations - 1)):\n",
    "        np.random.shuffle(index)\n",
    "        indices.add(tuple(index))\n",
    "\n",
    "    return [(index[:n1], index[n1:]) for index in tqdm(indices, desc=\"Create Random indexes\")]\n",
    "\n",
    "\n",
    "def permutation_zero_distribution(sample1: np.ndarray, sample2: np.ndarray, max_permutations=None):\n",
    "    joined_sample = np.hstack((sample1, sample2))\n",
    "    n1 = len(sample1)\n",
    "    n = len(joined_sample)\n",
    "    if max_permutations:\n",
    "        indices = get_random_combinations(n1, len(sample2), max_permutations=max_permutations)\n",
    "    else:\n",
    "        indices = [(list(index), list(filter(lambda i: i not in index, range(n)))) for index in itertools.combinations(range(n), n1)]\n",
    "    distribution = [joined_sample[list(i[0])].mean() - joined_sample[list(i[1])].mean() for i in tqdm(indices, desc=\"Compute Mean\")]\n",
    "    return distribution\n",
    "\n",
    "def permutation_test(sample1: np.ndarray, sample2: np.ndarray, max_permutation=None, alternative=\"two-sided\"):\n",
    "    if alternative not in (\"two-sided\", 'less', 'greater'):\n",
    "        raise ValueError(\"Unknown alternative\")\n",
    "    t_stat = np.mean(sample1) - np.mean(sample2)\n",
    "    zero_distribution = permutation_zero_distribution(sample1, sample2, max_permutations=max_permutation)\n",
    "    plt.hist(zero_distribution)\n",
    "    if alternative == \"two-sided\":\n",
    "        return sum([1 if abs(element) >= abs(t_stat) else 0 for element in tqdm(zero_distribution)]) / len(zero_distribution)\n",
    "    if alternative == 'less':\n",
    "        return sum([1 if element <= t_stat else 0 for element in zero_distribution]) / len(zero_distribution)\n",
    "    if alternative == \"greater\":\n",
    "        return sum([1 if element >= t_stat else 0 for element in zero_distribution]) / len(zero_distribution)\n",
    "\n",
    "\n",
    "permutation_test(np.array(credit_returned.LIMIT_BAL), np.array(credit_dept.LIMIT_BAL), max_permutation=1000)"
   ],
   "metadata": {
    "collapsed": false,
    "pycharm": {
     "name": "#%%\n"
    }
   }
  },
  {
   "cell_type": "code",
   "execution_count": 9,
   "outputs": [
    {
     "data": {
      "text/plain": "MannwhitneyuResult(statistic=59257217.5, pvalue=6.127742909111652e-190)"
     },
     "execution_count": 9,
     "metadata": {},
     "output_type": "execute_result"
    }
   ],
   "source": [
    "#   TASK 1.2\n",
    "#   Воспользуемся критерием Манна-Уитни\n",
    "stats.mannwhitneyu(credit_returned.LIMIT_BAL, credit_dept.LIMIT_BAL)"
   ],
   "metadata": {
    "collapsed": false,
    "pycharm": {
     "name": "#%%\n"
    }
   }
  },
  {
   "cell_type": "markdown",
   "source": [
    "#   TASK 1.2 ANS:\n",
    "\n",
    "###   Распределения отличаются очень сильно (Например из критерия МАнна-Уитни гипотеза о совпадении распределений отвергается)\n",
    "### Это практически значимо так как значительное различие между кредитным доверием\n",
    "#   TASK 2\n",
    "####    Фактически нас интересуют доли в двух независимых выборках. Составим таблицу сопряженности\n",
    "|      X     | Мужчина | Женщина |\n",
    "|:----------:|:-------:|:-------:|\n",
    "|   Вернули  |   9015  |  14349  |\n",
    "| Не вернули |   2873  |   3763  |"
   ],
   "metadata": {
    "collapsed": false,
    "pycharm": {
     "name": "#%% md\n"
    }
   }
  },
  {
   "cell_type": "code",
   "execution_count": 10,
   "outputs": [
    {
     "name": "stdout",
     "output_type": "stream",
     "text": [
      "QUANTILE: (0.03363493274962867, 0.060548077974896725)\n",
      "T-TEST: Ttest_indResult(statistic=6.926677006157904, pvalue=4.3952488032748674e-12)\n"
     ]
    },
    {
     "data": {
      "text/plain": "<Figure size 1008x1008 with 1 Axes>",
      "image/png": "[encoded data removed]"
     },
     "metadata": {
      "needs_background": "light"
     },
     "output_type": "display_data"
    }
   ],
   "source": [
    "def quantile(sample1, sample2, alpha=.05):\n",
    "    z_quantile = stats.norm.ppf(1 - alpha / 2.)\n",
    "    n1 = len(sample1)\n",
    "    n2 = len(sample2)\n",
    "    p1 = sum(sample1) / n1\n",
    "    p2 = sum(sample2) / n2\n",
    "    add_subtraction = z_quantile * np.sqrt((p1 * (1 - p1) / n1) + (p2 * (1 - p2) / n2))\n",
    "    return p1 - p2 - add_subtraction, p1 - p2 + add_subtraction\n",
    "\n",
    "sample_1 = [0] * 9015 + [1] * 14349\n",
    "sample_2 = [0] * 2873 + [1] * 3763\n",
    "print('QUANTILE:', quantile(sample_1, sample_2))\n",
    "\n",
    "print('T-TEST:', stats.ttest_ind(sample_1, sample_2))\n",
    "\n",
    "plt.figure(figsize=(14,14))\n",
    "plt.grid()\n",
    "plt.hist(sample_1, edgecolor=\"black\", color=\"green\", label=\"RETURNED\")\n",
    "plt.hist(sample_2, edgecolor=\"black\", color=\"red\", label=\"DEPT\")\n",
    "plt.legend(loc=\"upper right\")\n",
    "plt.show()"
   ],
   "metadata": {
    "collapsed": false,
    "pycharm": {
     "name": "#%%\n"
    }
   }
  },
  {
   "cell_type": "code",
   "execution_count": 10,
   "outputs": [],
   "source": [],
   "metadata": {
    "collapsed": false,
    "pycharm": {
     "name": "#%%\n"
    }
   }
  },
  {
   "cell_type": "markdown",
   "source": [
    "#   TASK 2 ANS:\n",
    "\n",
    "#   Доверительный интервал:\n",
    "### (0.034, 0.061)\n",
    "### P-VALUE очень мал, а значит гипотеза о равенстве долей отвергается (Критерий Стьюдента)\n",
    "\n",
    "###   Да, состав отличается\n",
    "#   Тут нужно поменять местами таблицу чтобы вышло так:\n",
    "\n",
    "\n",
    "|      X     | Вернули | Нет |\n",
    "|:----------:|:-------:|:-------:|\n",
    "|   Мужчина  |   9015  |  2873  |\n",
    "| Женщина |   14349  |   3763  |\n",
    "\n",
    "Так просто будет понятней"
   ],
   "metadata": {
    "collapsed": false,
    "pycharm": {
     "name": "#%% md\n"
    }
   }
  },
  {
   "cell_type": "markdown",
   "source": [
    "### Task 3\n",
    "Образование (EDUCATION): Проверьте гипотезу о том, что образование не влияет на то, вернет ли человек долг.  Предложите способ наглядного представления разницы в ожидаемых и наблюдаемых значениях количества человек вернувших и не вернувших долг. Например, составьте таблицу сопряженности \"образование\" на \"возврат долга\", где значением ячейки была бы  разность между наблюдаемым и ожидаемым количеством человек.  Как бы вы предложили модифицировать таблицу так, чтобы привести значения ячеек к одному масштабу не потеряв в интерпретируемости ?  Наличие какого образования является наилучшим индикатором того, что человек  отдаст долг ? наоборт, не отдаст долг ?"
   ],
   "metadata": {
    "collapsed": false,
    "pycharm": {
     "name": "#%% md\n"
    }
   }
  },
  {
   "cell_type": "code",
   "execution_count": 11,
   "outputs": [
    {
     "data": {
      "text/plain": "<Figure size 864x864 with 1 Axes>",
      "image/png": "[encoded data removed]"
     },
     "metadata": {
      "needs_background": "light"
     },
     "output_type": "display_data"
    }
   ],
   "source": [
    "plt.figure(figsize=(12,12))\n",
    "plt.grid()\n",
    "plt.hist(credit_returned[\"EDUCATION\"], color='b', label='RETURNED')\n",
    "plt.hist(credit_dept[\"EDUCATION\"], color='r', label=\"DEPT\")\n",
    "plt.legend(loc='upper right')\n",
    "plt.show()"
   ],
   "metadata": {
    "collapsed": false,
    "pycharm": {
     "name": "#%%\n"
    }
   }
  },
  {
   "cell_type": "code",
   "execution_count": 12,
   "outputs": [],
   "source": [
    "connected_matrix = pd.DataFrame(index=['Return', 'Dept'])"
   ],
   "metadata": {
    "collapsed": false,
    "pycharm": {
     "name": "#%%\n"
    }
   }
  },
  {
   "cell_type": "code",
   "execution_count": 13,
   "outputs": [
    {
     "data": {
      "text/plain": "        age_2  age_1  age_3  age_5  age_4  age_6  age_0\nReturn  10700   8549   3680    262    116     43     14\nDept     3330   2036   1237     18      7      8      0",
      "text/html": "<div>\n<style scoped>\n    .dataframe tbody tr th:only-of-type {\n        vertical-align: middle;\n    }\n\n    .dataframe tbody tr th {\n        vertical-align: top;\n    }\n\n    .dataframe thead th {\n        text-align: right;\n    }\n</style>\n<table border=\"1\" class=\"dataframe\">\n  <thead>\n    <tr style=\"text-align: right;\">\n      <th></th>\n      <th>age_2</th>\n      <th>age_1</th>\n      <th>age_3</th>\n      <th>age_5</th>\n      <th>age_4</th>\n      <th>age_6</th>\n      <th>age_0</th>\n    </tr>\n  </thead>\n  <tbody>\n    <tr>\n      <th>Return</th>\n      <td>10700</td>\n      <td>8549</td>\n      <td>3680</td>\n      <td>262</td>\n      <td>116</td>\n      <td>43</td>\n      <td>14</td>\n    </tr>\n    <tr>\n      <th>Dept</th>\n      <td>3330</td>\n      <td>2036</td>\n      <td>1237</td>\n      <td>18</td>\n      <td>7</td>\n      <td>8</td>\n      <td>0</td>\n    </tr>\n  </tbody>\n</table>\n</div>"
     },
     "execution_count": 13,
     "metadata": {},
     "output_type": "execute_result"
    }
   ],
   "source": [
    "for age in raw_data[\"EDUCATION\"].unique():\n",
    "    default = sum(raw_data[raw_data[\"EDUCATION\"] == age][\"default\"])\n",
    "    connected_matrix.loc['Dept',f\"age_{age}\"] = int(default)\n",
    "    connected_matrix.loc['Return',f\"age_{age}\"] = int(raw_data[raw_data[\"EDUCATION\"] == age].shape[0] - default)\n",
    "\n",
    "connected_matrix = connected_matrix.astype(int)\n",
    "connected_matrix"
   ],
   "metadata": {
    "collapsed": false,
    "pycharm": {
     "name": "#%%\n"
    }
   }
  },
  {
   "cell_type": "code",
   "source": [
    "#   Эта функция вычисляет хи-квадрат статистики и р-значение для проверки гипотезы о независимости наблюдаемых частот в таблице сопряженности\n",
    "stats.chi2_contingency(connected_matrix.values, correction=False)\n",
    "#   Гипотезу о независимости значений можно отвергнуть"
   ],
   "metadata": {
    "collapsed": false,
    "pycharm": {
     "name": "#%%\n"
    }
   },
   "execution_count": 14,
   "outputs": [
    {
     "data": {
      "text/plain": "(163.21655786997073,\n 1.2332626245415605e-32,\n 6,\n array([[1.0926564e+04, 8.2435980e+03, 3.8293596e+03, 2.1806400e+02,\n         9.5792400e+01, 3.9718800e+01, 1.0903200e+01],\n        [3.1034360e+03, 2.3414020e+03, 1.0876404e+03, 6.1936000e+01,\n         2.7207600e+01, 1.1281200e+01, 3.0968000e+00]]))"
     },
     "execution_count": 14,
     "metadata": {},
     "output_type": "execute_result"
    }
   ]
  },
  {
   "cell_type": "code",
   "execution_count": 15,
   "outputs": [
    {
     "name": "stdout",
     "output_type": "stream",
     "text": [
      "0.07376009713252163\n"
     ]
    }
   ],
   "source": [
    "chi2_stat = stats.chi2_contingency(connected_matrix.values, correction=False)[0]\n",
    "V_CRAMER = np.sqrt((chi2_stat / np.sum(connected_matrix.values)) / (min(connected_matrix.shape) - 1))\n",
    "print(V_CRAMER)"
   ],
   "metadata": {
    "collapsed": false,
    "pycharm": {
     "name": "#%%\n"
    }
   }
  },
  {
   "cell_type": "markdown",
   "source": [
    "Составим таблицу сопряжённости \"образование\" на \"возврат долга\", где значением ячейки была бы разность между наблюдаемым и ожидаемым количеством человек."
   ],
   "metadata": {
    "collapsed": false,
    "pycharm": {
     "name": "#%% md\n"
    }
   }
  },
  {
   "cell_type": "code",
   "execution_count": 16,
   "outputs": [
    {
     "data": {
      "text/plain": "<Figure size 432x288 with 1 Axes>",
      "image/png": "[encoded data removed]"
     },
     "metadata": {
      "needs_background": "light"
     },
     "output_type": "display_data"
    }
   ],
   "source": [
    "#   До этого построим график зависимости доли возвратов в зависимости от образования\n",
    "average_mean = np.array(list())\n",
    "for age in raw_data[\"EDUCATION\"].unique():\n",
    "    proportion = sum(raw_data[raw_data[\"EDUCATION\"] == age][\"default\"]) /  raw_data[raw_data[\"EDUCATION\"] == age].shape[0]\n",
    "    plt.bar(int(age), height=(1 - proportion), color='lightcoral')\n",
    "    average_mean = np.append(average_mean, 1 - proportion)\n",
    "#   Видно что распределение не равномерное\n",
    "#   Проверим это более строго"
   ],
   "metadata": {
    "collapsed": false,
    "pycharm": {
     "name": "#%%\n"
    }
   }
  },
  {
   "cell_type": "code",
   "execution_count": 17,
   "outputs": [
    {
     "data": {
      "text/plain": "               age_2   age_1   age_3  age_5  age_4  age_6  age_0\nOBSERVATION  10700.0  8549.0  3680.0  262.0  116.0   43.0   14.0\nNORMAL       12107.0  9134.0  4243.0  241.0  106.0   44.0   12.0",
      "text/html": "<div>\n<style scoped>\n    .dataframe tbody tr th:only-of-type {\n        vertical-align: middle;\n    }\n\n    .dataframe tbody tr th {\n        vertical-align: top;\n    }\n\n    .dataframe thead th {\n        text-align: right;\n    }\n</style>\n<table border=\"1\" class=\"dataframe\">\n  <thead>\n    <tr style=\"text-align: right;\">\n      <th></th>\n      <th>age_2</th>\n      <th>age_1</th>\n      <th>age_3</th>\n      <th>age_5</th>\n      <th>age_4</th>\n      <th>age_6</th>\n      <th>age_0</th>\n    </tr>\n  </thead>\n  <tbody>\n    <tr>\n      <th>OBSERVATION</th>\n      <td>10700.0</td>\n      <td>8549.0</td>\n      <td>3680.0</td>\n      <td>262.0</td>\n      <td>116.0</td>\n      <td>43.0</td>\n      <td>14.0</td>\n    </tr>\n    <tr>\n      <th>NORMAL</th>\n      <td>12107.0</td>\n      <td>9134.0</td>\n      <td>4243.0</td>\n      <td>241.0</td>\n      <td>106.0</td>\n      <td>44.0</td>\n      <td>12.0</td>\n    </tr>\n  </tbody>\n</table>\n</div>"
     },
     "execution_count": 17,
     "metadata": {},
     "output_type": "execute_result"
    }
   ],
   "source": [
    "#   Из предположения независимости от образования посчитаем сначала средний ожидаемый возврат\n",
    "education_return_proportion = average_mean.mean()\n",
    "subtraction_dataframe = pd.DataFrame(index=['OBSERVATION', 'NORMAL'])\n",
    "for i, age in enumerate(raw_data[\"EDUCATION\"].unique()):\n",
    "    not_default = raw_data[raw_data[\"EDUCATION\"] == age].shape[0] - sum(raw_data[raw_data[\"EDUCATION\"] == age][\"default\"])\n",
    "    not_default_norm = int(raw_data[raw_data[\"EDUCATION\"] == age].shape[0] * education_return_proportion)\n",
    "    subtraction_dataframe.loc['OBSERVATION', f\"age_{age}\"] = not_default\n",
    "    subtraction_dataframe.loc['NORMAL', f\"age_{age}\"] = not_default_norm\n",
    "subtraction_dataframe"
   ],
   "metadata": {
    "collapsed": false,
    "pycharm": {
     "name": "#%%\n"
    }
   }
  },
  {
   "cell_type": "code",
   "execution_count": 18,
   "outputs": [
    {
     "data": {
      "text/plain": "<Figure size 432x288 with 1 Axes>",
      "image/png": "[encoded data removed]"
     },
     "metadata": {
      "needs_background": "light"
     },
     "output_type": "display_data"
    }
   ],
   "source": [
    "for column in subtraction_dataframe.columns:\n",
    "    height = (subtraction_dataframe.loc[\"NORMAL\", column] - subtraction_dataframe.loc[\"OBSERVATION\", column]) / subtraction_dataframe.loc[\"NORMAL\", column]\n",
    "    plt.bar(int(column[4:]), height=height)"
   ],
   "metadata": {
    "collapsed": false,
    "pycharm": {
     "name": "#%%\n"
    }
   }
  },
  {
   "cell_type": "code",
   "execution_count": 19,
   "outputs": [
    {
     "name": "stdout",
     "output_type": "stream",
     "text": [
      "P-VALUE IS: 3.5803812280614125e-58\n"
     ]
    }
   ],
   "source": [
    "print('P-VALUE IS:', round(stats.chisquare(subtraction_dataframe.loc['OBSERVATION',:].values, subtraction_dataframe.loc['NORMAL',:].values, ddof=1)[1], 100))"
   ],
   "metadata": {
    "collapsed": false,
    "pycharm": {
     "name": "#%%\n"
    }
   }
  },
  {
   "cell_type": "markdown",
   "source": [
    "### Task 3 ANS:\n",
    "#   Гипотеза о том что величина имеет равномерное распределение, отвергается, так как обладает очень низким уровнем значимости.\n",
    "\n",
    "#   Практически значимо так как образование кредитуемого влияет на возврат кредита\n",
    "\n",
    "#   Лучше всего отдают кредит доктора наук, только что выпустившееся люди склонны не платить"
   ],
   "metadata": {
    "collapsed": false,
    "pycharm": {
     "name": "#%% md\n"
    }
   }
  },
  {
   "cell_type": "markdown",
   "source": [
    "### Task 4\n",
    "Семейное положение (MARRIAGE): Проверьте, как связан семейный статус с индикатором дефолта: нужно предложить меру, по которой можно измерить возможную связь этих переменных и посчитать ее значение.\n",
    "#### В данном случае удобно воспользоваться мерой крамера"
   ],
   "metadata": {
    "collapsed": false,
    "pycharm": {
     "name": "#%% md\n"
    }
   }
  },
  {
   "cell_type": "code",
   "execution_count": 20,
   "outputs": [
    {
     "data": {
      "text/plain": "        SILENCE  MARRIAGE  SINGLE  NODATA\nRETURN       49     10453   12623     239\nDEPT          5      3206    3341      84",
      "text/html": "<div>\n<style scoped>\n    .dataframe tbody tr th:only-of-type {\n        vertical-align: middle;\n    }\n\n    .dataframe tbody tr th {\n        vertical-align: top;\n    }\n\n    .dataframe thead th {\n        text-align: right;\n    }\n</style>\n<table border=\"1\" class=\"dataframe\">\n  <thead>\n    <tr style=\"text-align: right;\">\n      <th></th>\n      <th>SILENCE</th>\n      <th>MARRIAGE</th>\n      <th>SINGLE</th>\n      <th>NODATA</th>\n    </tr>\n  </thead>\n  <tbody>\n    <tr>\n      <th>RETURN</th>\n      <td>49</td>\n      <td>10453</td>\n      <td>12623</td>\n      <td>239</td>\n    </tr>\n    <tr>\n      <th>DEPT</th>\n      <td>5</td>\n      <td>3206</td>\n      <td>3341</td>\n      <td>84</td>\n    </tr>\n  </tbody>\n</table>\n</div>"
     },
     "execution_count": 20,
     "metadata": {},
     "output_type": "execute_result"
    }
   ],
   "source": [
    "marriage_info = [(0, 'SILENCE'), (1, \"MARRIAGE\"), (2, \"SINGLE\"), (3, \"NODATA\")]\n",
    "marriage_df = pd.DataFrame(index=[\"RETURN\", \"DEPT\"])\n",
    "for marriage_status in marriage_info:\n",
    "    data = raw_data[raw_data[\"MARRIAGE\"] == marriage_status[0]]\n",
    "    marriage_df.loc[\"RETURN\", marriage_status[1]] = data.shape[0] - sum(data[\"default\"])\n",
    "    marriage_df.loc[\"DEPT\", marriage_status[1]] = sum(data[\"default\"])\n",
    "\n",
    "marriage_df = marriage_df.astype(int)\n",
    "marriage_df"
   ],
   "metadata": {
    "collapsed": false,
    "pycharm": {
     "name": "#%%\n"
    }
   }
  },
  {
   "cell_type": "code",
   "execution_count": 21,
   "outputs": [
    {
     "name": "stdout",
     "output_type": "stream",
     "text": [
      "0.034478203662766466\n"
     ]
    }
   ],
   "source": [
    "chi2_stat = stats.chi2_contingency(marriage_df.values, correction=False)[0]\n",
    "V_CRAMER = np.sqrt((chi2_stat / np.sum(marriage_df.values)) / (min(marriage_df.values.shape) - 1))\n",
    "print(V_CRAMER)"
   ],
   "metadata": {
    "collapsed": false,
    "pycharm": {
     "name": "#%%\n"
    }
   }
  },
  {
   "cell_type": "markdown",
   "source": [
    "### Task 4 ANS:\n",
    "Значение коэффициента крамера близко к нулю, что значит что взаимосвязь слабая.\n",
    "\n",
    "Тем не менее, практическая значимость высокая, так как мы можем сделать вывод, что семейное положение не влияет на риск невозврата"
   ],
   "metadata": {
    "collapsed": false,
    "pycharm": {
     "name": "#%% md\n"
    }
   }
  },
  {
   "cell_type": "markdown",
   "source": [
    "### Task 5 аналогично пункту 1"
   ],
   "metadata": {
    "collapsed": false,
    "pycharm": {
     "name": "#%% md\n"
    }
   }
  },
  {
   "cell_type": "code",
   "execution_count": 22,
   "outputs": [
    {
     "data": {
      "text/plain": "  0%|          | 0/999 [00:00<?, ?it/s]",
      "application/vnd.jupyter.widget-view+json": {
       "version_major": 2,
       "version_minor": 0,
       "model_id": "75951dc8dc964734a2e548aa312f6221"
      }
     },
     "metadata": {},
     "output_type": "display_data"
    },
    {
     "data": {
      "text/plain": "Create Random indexes:   0%|          | 0/1000 [00:00<?, ?it/s]",
      "application/vnd.jupyter.widget-view+json": {
       "version_major": 2,
       "version_minor": 0,
       "model_id": "e747d8c99ad64fd9abbf0f875447a530"
      }
     },
     "metadata": {},
     "output_type": "display_data"
    },
    {
     "data": {
      "text/plain": "Compute Mean:   0%|          | 0/1000 [00:00<?, ?it/s]",
      "application/vnd.jupyter.widget-view+json": {
       "version_major": 2,
       "version_minor": 0,
       "model_id": "b944a8bfcbe14a22a391cd4dcb3a4556"
      }
     },
     "metadata": {},
     "output_type": "display_data"
    },
    {
     "data": {
      "text/plain": "  0%|          | 0/1000 [00:00<?, ?it/s]",
      "application/vnd.jupyter.widget-view+json": {
       "version_major": 2,
       "version_minor": 0,
       "model_id": "4b1f93be24b843cf94e8c9b0b45ee673"
      }
     },
     "metadata": {},
     "output_type": "display_data"
    },
    {
     "data": {
      "text/plain": "0.017"
     },
     "execution_count": 22,
     "metadata": {},
     "output_type": "execute_result"
    },
    {
     "data": {
      "text/plain": "<Figure size 432x288 with 1 Axes>",
      "image/png": "[encoded data removed]"
     },
     "metadata": {
      "needs_background": "light"
     },
     "output_type": "display_data"
    }
   ],
   "source": [
    "permutation_test(credit_returned.AGE, credit_dept.AGE, max_permutation=1000)"
   ],
   "metadata": {
    "collapsed": false,
    "pycharm": {
     "name": "#%%\n"
    }
   }
  },
  {
   "cell_type": "code",
   "execution_count": 23,
   "outputs": [
    {
     "name": "stdout",
     "output_type": "stream",
     "text": [
      "[34.0, 34.0]\n",
      "[34.0, 35.0]\n"
     ]
    }
   ],
   "source": [
    "print(\"[{0[0]}, {0[1]}]\".format(stat_interval(list(map(np.median, get_bootstrap_interval(credit_returned.AGE.values, 1000))))))\n",
    "print(\"[{0[0]}, {0[1]}]\".format(stat_interval(list(map(np.median, get_bootstrap_interval(credit_dept.AGE.values, 1000))))))"
   ],
   "metadata": {
    "collapsed": false,
    "pycharm": {
     "name": "#%%\n"
    }
   }
  },
  {
   "cell_type": "code",
   "execution_count": 24,
   "outputs": [
    {
     "data": {
      "text/plain": "<Figure size 1008x1008 with 1 Axes>",
      "image/png": "[encoded data removed]"
     },
     "metadata": {
      "needs_background": "light"
     },
     "output_type": "display_data"
    }
   ],
   "source": [
    "plt.figure(figsize=(14,14))\n",
    "plt.grid()\n",
    "plt.hist(credit_returned.AGE, color='green', edgecolor='black', label='RETURNED')\n",
    "plt.hist(credit_dept.AGE, color=\"red\", edgecolor='black', label='DEPT')\n",
    "plt.legend(loc='upper right', fontsize=18)\n",
    "plt.show()"
   ],
   "metadata": {
    "collapsed": false,
    "pycharm": {
     "name": "#%%\n"
    }
   }
  },
  {
   "cell_type": "code",
   "execution_count": 25,
   "outputs": [
    {
     "name": "stdout",
     "output_type": "stream",
     "text": [
      "[-1.  0.]\n"
     ]
    }
   ],
   "source": [
    "#   Построим доверительный интервал для разности медиан\n",
    "delta_median_scores = list(map(lambda x: x[1] - x[0], zip(list(map(np.median, get_bootstrap_interval(credit_dept.AGE.values, 1000))), list(map(np.median, get_bootstrap_interval(credit_returned.AGE.values, 1000))))))\n",
    "print(stat_interval(delta_median_scores, .05))\n",
    "#   0 содержится, значит разности медиан не различаются"
   ],
   "metadata": {
    "collapsed": false,
    "pycharm": {
     "name": "#%%\n"
    }
   }
  },
  {
   "cell_type": "markdown",
   "source": [
    "#   Task 5.1 ANS:\n",
    "#   0 содержится, значит разности медиан не различаются\n",
    "### Проверим теперь, отличаются ли распределения"
   ],
   "metadata": {
    "collapsed": false,
    "pycharm": {
     "name": "#%% md\n"
    }
   }
  },
  {
   "cell_type": "code",
   "execution_count": 26,
   "outputs": [
    {
     "data": {
      "text/plain": "  0%|          | 0/999 [00:00<?, ?it/s]",
      "application/vnd.jupyter.widget-view+json": {
       "version_major": 2,
       "version_minor": 0,
       "model_id": "8219d4b008fa42d7b41d132bab88dd36"
      }
     },
     "metadata": {},
     "output_type": "display_data"
    },
    {
     "data": {
      "text/plain": "Create Random indexes:   0%|          | 0/1000 [00:00<?, ?it/s]",
      "application/vnd.jupyter.widget-view+json": {
       "version_major": 2,
       "version_minor": 0,
       "model_id": "2c427e9bef254818901050a8974eeded"
      }
     },
     "metadata": {},
     "output_type": "display_data"
    },
    {
     "data": {
      "text/plain": "Compute Mean:   0%|          | 0/1000 [00:00<?, ?it/s]",
      "application/vnd.jupyter.widget-view+json": {
       "version_major": 2,
       "version_minor": 0,
       "model_id": "7a2fbdd9040c45eea2be8f47a827f4d1"
      }
     },
     "metadata": {},
     "output_type": "display_data"
    },
    {
     "data": {
      "text/plain": "  0%|          | 0/1000 [00:00<?, ?it/s]",
      "application/vnd.jupyter.widget-view+json": {
       "version_major": 2,
       "version_minor": 0,
       "model_id": "e3a82084141d407893abaceefce10226"
      }
     },
     "metadata": {},
     "output_type": "display_data"
    },
    {
     "data": {
      "text/plain": "0.013"
     },
     "execution_count": 26,
     "metadata": {},
     "output_type": "execute_result"
    },
    {
     "data": {
      "text/plain": "<Figure size 432x288 with 1 Axes>",
      "image/png": "[encoded data removed]"
     },
     "metadata": {
      "needs_background": "light"
     },
     "output_type": "display_data"
    }
   ],
   "source": [
    "permutation_test(credit_returned.AGE, credit_dept.AGE, max_permutation=1000)"
   ],
   "metadata": {
    "collapsed": false,
    "pycharm": {
     "name": "#%%\n"
    }
   }
  },
  {
   "cell_type": "markdown",
   "source": [
    "#   Task 5.2 ANS:\n",
    "p_value получился маленьким. На уровне значимости 0.05 можно отвергнуть гипотезу о том, что распределения выборок одинаковые\n",
    "\n",
    "Наблюдение значимо, так как может учитываться при выдачи кредита"
   ],
   "metadata": {
    "collapsed": false,
    "pycharm": {
     "name": "#%% md\n"
    }
   }
  }
 ],
 "metadata": {
  "kernelspec": {
   "display_name": "Python 3",
   "language": "python",
   "name": "python3"
  },
  "language_info": {
   "codemirror_mode": {
    "name": "ipython",
    "version": 2
   },
   "file_extension": ".py",
   "mimetype": "text/x-python",
   "name": "python",
   "nbconvert_exporter": "python",
   "pygments_lexer": "ipython2",
   "version": "2.7.6"
  }
 },
 "nbformat": 4,
 "nbformat_minor": 0
}