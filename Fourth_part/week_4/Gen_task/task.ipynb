{
 "cells": [
  {
   "cell_type": "code",
   "execution_count": 1,
   "metadata": {
    "collapsed": true
   },
   "outputs": [],
   "source": [
    "import pandas as pd\n",
    "import numpy as np\n",
    "from scipy import stats\n",
    "from statsmodels.stats.proportion import proportion_confint, proportions_ztest\n",
    "import matplotlib.pylab as plt\n",
    "from statsmodels.stats.weightstats import zconfint\n",
    "from statsmodels.sandbox.stats.multicomp import multipletests\n",
    "import statsmodels.stats.multitest as sms"
   ]
  },
  {
   "cell_type": "code",
   "execution_count": 2,
   "outputs": [
    {
     "data": {
      "text/plain": "                  Patient_id Diagnosis  LOC643837  LOC100130417     SAMD11  \\\n0  STT5425_Breast_001_normal    normal   1.257614      2.408148  13.368622   \n1  STT5427_Breast_023_normal    normal   4.567931     16.602734  42.477752   \n2  STT5430_Breast_002_normal    normal   2.077597      3.978294  12.863214   \n3  STT5439_Breast_003_normal    normal   2.066576      8.520713  14.466035   \n4  STT5441_Breast_004_normal    normal   2.613616      3.434965  12.682222   \n\n       NOC2L     KLHL17    PLEKHN1   C1orf170       HES4  ...      CLIC2  \\\n0   9.494779  20.880435  12.722017   9.494779  54.349694  ...   4.761250   \n1  25.562376  23.221137  11.622386  14.330573  72.445474  ...   6.871902   \n2  13.728915  14.543176  14.141907   6.232790  57.011005  ...   7.096343   \n3   7.823932   8.520713   2.066576  10.870009  53.292034  ...   5.200770   \n4  10.543189  26.688686  12.484822   1.364917  67.140393  ...  11.227770   \n\n     RPS4Y1       ZFY      PRKY     USP9Y     DDX3Y       CD24  CYorf15B  \\\n0  1.257614  1.257614  1.257614  1.257614  1.257614  23.268694  1.257614   \n1  1.815112  1.815112  1.815112  1.815112  1.815112  10.427023  1.815112   \n2  2.077597  2.077597  2.077597  2.077597  2.077597  22.344226  2.077597   \n3  2.066576  2.066576  2.066576  2.066576  2.066576  49.295538  2.066576   \n4  1.364917  1.364917  1.364917  1.364917  1.364917  23.627911  1.364917   \n\n      KDM5D    EIF1AY  \n0  1.257614  1.257614  \n1  1.815112  1.815112  \n2  2.077597  2.077597  \n3  2.066576  2.066576  \n4  1.364917  1.364917  \n\n[5 rows x 15750 columns]",
      "text/html": "<div>\n<style scoped>\n    .dataframe tbody tr th:only-of-type {\n        vertical-align: middle;\n    }\n\n    .dataframe tbody tr th {\n        vertical-align: top;\n    }\n\n    .dataframe thead th {\n        text-align: right;\n    }\n</style>\n<table border=\"1\" class=\"dataframe\">\n  <thead>\n    <tr style=\"text-align: right;\">\n      <th></th>\n      <th>Patient_id</th>\n      <th>Diagnosis</th>\n      <th>LOC643837</th>\n      <th>LOC100130417</th>\n      <th>SAMD11</th>\n      <th>NOC2L</th>\n      <th>KLHL17</th>\n      <th>PLEKHN1</th>\n      <th>C1orf170</th>\n      <th>HES4</th>\n      <th>...</th>\n      <th>CLIC2</th>\n      <th>RPS4Y1</th>\n      <th>ZFY</th>\n      <th>PRKY</th>\n      <th>USP9Y</th>\n      <th>DDX3Y</th>\n      <th>CD24</th>\n      <th>CYorf15B</th>\n      <th>KDM5D</th>\n      <th>EIF1AY</th>\n    </tr>\n  </thead>\n  <tbody>\n    <tr>\n      <th>0</th>\n      <td>STT5425_Breast_001_normal</td>\n      <td>normal</td>\n      <td>1.257614</td>\n      <td>2.408148</td>\n      <td>13.368622</td>\n      <td>9.494779</td>\n      <td>20.880435</td>\n      <td>12.722017</td>\n      <td>9.494779</td>\n      <td>54.349694</td>\n      <td>...</td>\n      <td>4.761250</td>\n      <td>1.257614</td>\n      <td>1.257614</td>\n      <td>1.257614</td>\n      <td>1.257614</td>\n      <td>1.257614</td>\n      <td>23.268694</td>\n      <td>1.257614</td>\n      <td>1.257614</td>\n      <td>1.257614</td>\n    </tr>\n    <tr>\n      <th>1</th>\n      <td>STT5427_Breast_023_normal</td>\n      <td>normal</td>\n      <td>4.567931</td>\n      <td>16.602734</td>\n      <td>42.477752</td>\n      <td>25.562376</td>\n      <td>23.221137</td>\n      <td>11.622386</td>\n      <td>14.330573</td>\n      <td>72.445474</td>\n      <td>...</td>\n      <td>6.871902</td>\n      <td>1.815112</td>\n      <td>1.815112</td>\n      <td>1.815112</td>\n      <td>1.815112</td>\n      <td>1.815112</td>\n      <td>10.427023</td>\n      <td>1.815112</td>\n      <td>1.815112</td>\n      <td>1.815112</td>\n    </tr>\n    <tr>\n      <th>2</th>\n      <td>STT5430_Breast_002_normal</td>\n      <td>normal</td>\n      <td>2.077597</td>\n      <td>3.978294</td>\n      <td>12.863214</td>\n      <td>13.728915</td>\n      <td>14.543176</td>\n      <td>14.141907</td>\n      <td>6.232790</td>\n      <td>57.011005</td>\n      <td>...</td>\n      <td>7.096343</td>\n      <td>2.077597</td>\n      <td>2.077597</td>\n      <td>2.077597</td>\n      <td>2.077597</td>\n      <td>2.077597</td>\n      <td>22.344226</td>\n      <td>2.077597</td>\n      <td>2.077597</td>\n      <td>2.077597</td>\n    </tr>\n    <tr>\n      <th>3</th>\n      <td>STT5439_Breast_003_normal</td>\n      <td>normal</td>\n      <td>2.066576</td>\n      <td>8.520713</td>\n      <td>14.466035</td>\n      <td>7.823932</td>\n      <td>8.520713</td>\n      <td>2.066576</td>\n      <td>10.870009</td>\n      <td>53.292034</td>\n      <td>...</td>\n      <td>5.200770</td>\n      <td>2.066576</td>\n      <td>2.066576</td>\n      <td>2.066576</td>\n      <td>2.066576</td>\n      <td>2.066576</td>\n      <td>49.295538</td>\n      <td>2.066576</td>\n      <td>2.066576</td>\n      <td>2.066576</td>\n    </tr>\n    <tr>\n      <th>4</th>\n      <td>STT5441_Breast_004_normal</td>\n      <td>normal</td>\n      <td>2.613616</td>\n      <td>3.434965</td>\n      <td>12.682222</td>\n      <td>10.543189</td>\n      <td>26.688686</td>\n      <td>12.484822</td>\n      <td>1.364917</td>\n      <td>67.140393</td>\n      <td>...</td>\n      <td>11.227770</td>\n      <td>1.364917</td>\n      <td>1.364917</td>\n      <td>1.364917</td>\n      <td>1.364917</td>\n      <td>1.364917</td>\n      <td>23.627911</td>\n      <td>1.364917</td>\n      <td>1.364917</td>\n      <td>1.364917</td>\n    </tr>\n  </tbody>\n</table>\n<p>5 rows × 15750 columns</p>\n</div>"
     },
     "execution_count": 2,
     "metadata": {},
     "output_type": "execute_result"
    }
   ],
   "source": [
    "data = pd.read_csv(\"data.csv\", header=0, sep=',')\n",
    "data.head()"
   ],
   "metadata": {
    "collapsed": false,
    "pycharm": {
     "name": "#%%\n"
    }
   }
  },
  {
   "cell_type": "code",
   "execution_count": 3,
   "outputs": [
    {
     "name": "stdout",
     "output_type": "stream",
     "text": [
      "False\n"
     ]
    }
   ],
   "source": [
    "#   Check for Null objects\n",
    "print(data.isnull().values.any())\n",
    "#   Can see that the data is great and we don't need to preprocess it!"
   ],
   "metadata": {
    "collapsed": false,
    "pycharm": {
     "name": "#%%\n"
    }
   }
  },
  {
   "cell_type": "code",
   "execution_count": 4,
   "outputs": [],
   "source": [
    "normal = data[data[\"Diagnosis\"] == \"normal\"]\n",
    "early_neoplasia = data[data[\"Diagnosis\"] == \"early neoplasia\"]\n",
    "cancer = data[data[\"Diagnosis\"] == \"cancer\"]"
   ],
   "metadata": {
    "collapsed": false,
    "pycharm": {
     "name": "#%%\n"
    }
   }
  },
  {
   "cell_type": "code",
   "execution_count": 5,
   "outputs": [
    {
     "data": {
      "text/plain": "(array([8., 3., 2., 2., 3., 1., 1., 4., 0., 1.]),\n array([0.88537453, 1.37215353, 1.85893254, 2.34571154, 2.83249055,\n        3.31926955, 3.80604855, 4.29282756, 4.77960656, 5.26638557,\n        5.75316457]),\n <BarContainer object of 10 artists>)"
     },
     "execution_count": 5,
     "metadata": {},
     "output_type": "execute_result"
    },
    {
     "data": {
      "text/plain": "<Figure size 432x288 with 2 Axes>",
      "image/png": "[encoded data removed]"
     },
     "metadata": {
      "needs_background": "light"
     },
     "output_type": "display_data"
    }
   ],
   "source": [
    "plt.subplot(1,2,1)\n",
    "plt.title(\"Normal\")\n",
    "plt.hist(normal[\"LOC643837\"])\n",
    "plt.subplot(1,2,2)\n",
    "plt.title(\"Early neoplasia\")\n",
    "plt.hist(early_neoplasia[\"LOC643837\"])"
   ],
   "metadata": {
    "collapsed": false,
    "pycharm": {
     "name": "#%%\n"
    }
   }
  },
  {
   "cell_type": "code",
   "execution_count": 33,
   "outputs": [
    {
     "name": "stdout",
     "output_type": "stream",
     "text": [
      "(array([0, 1]), array([14173,  1575]))\n"
     ]
    }
   ],
   "source": [
    "result = [1 if stats.ttest_ind(normal[column], early_neoplasia[column], equal_var=False)[1] < .05 else 0 for column in normal.columns[2:]]\n",
    "print(np.unique(np.array(result), return_counts=True))"
   ],
   "metadata": {
    "collapsed": false,
    "pycharm": {
     "name": "#%%\n"
    }
   }
  },
  {
   "cell_type": "code",
   "execution_count": 34,
   "outputs": [
    {
     "name": "stdout",
     "output_type": "stream",
     "text": [
      "(array([0, 1]), array([12258,  3490]))\n"
     ]
    }
   ],
   "source": [
    "result = [1 if stats.ttest_ind(early_neoplasia[column], cancer[column], equal_var=False)[1] < .05 else 0 for column in normal.columns[2:]]\n",
    "print(np.unique(np.array(result), return_counts=True))"
   ],
   "metadata": {
    "collapsed": false,
    "pycharm": {
     "name": "#%%\n"
    }
   }
  },
  {
   "cell_type": "markdown",
   "source": [
    "### Часть 2: поправка методом Холма\n",
    "В этой части задания нужно будет применить поправку Холма для получившихся двух наборов достигаемых уровней значимости из предыдущей части. Обратите внимание, что поскольку вы будете делать поправку для каждого из двух наборов p-value отдельно, то проблема, связанная с множественной проверкой останется.\n",
    "\n",
    "Для того, чтобы ее устранить, достаточно воспользоваться поправкой Бонферрони, то есть использовать уровень значимости 0.05 / 2 вместо 0.05 для дальнейшего уточнения значений p-value c помощью метода Холма.\n",
    "\n",
    "В качестве ответа к этому заданию требуется ввести количество значимых отличий в каждой группе после того, как произведена коррекция Холма-Бонферрони. Причем это число нужно ввести с учетом практической значимости: посчитайте для каждого значимого изменения fold change и выпишите в ответ число таких значимых изменений, абсолютное значение fold change которых больше, чем 1.51.5."
   ],
   "metadata": {
    "collapsed": false,
    "pycharm": {
     "name": "#%% md\n"
    }
   }
  },
  {
   "cell_type": "code",
   "execution_count": 35,
   "outputs": [
    {
     "data": {
      "text/plain": "            GEN  FOLD_CHANGED         P  P_CORRECTED  REJECT\n0     LOC643837     -1.067858  0.690766     1.000000   False\n1  LOC100130417      1.996517  0.000032     0.500174   False\n2        SAMD11      1.222418  0.060273     1.000000   False\n3         NOC2L     -1.020070  0.826429     1.000000   False\n4        KLHL17      1.125471  0.049876     1.000000   False",
      "text/html": "<div>\n<style scoped>\n    .dataframe tbody tr th:only-of-type {\n        vertical-align: middle;\n    }\n\n    .dataframe tbody tr th {\n        vertical-align: top;\n    }\n\n    .dataframe thead th {\n        text-align: right;\n    }\n</style>\n<table border=\"1\" class=\"dataframe\">\n  <thead>\n    <tr style=\"text-align: right;\">\n      <th></th>\n      <th>GEN</th>\n      <th>FOLD_CHANGED</th>\n      <th>P</th>\n      <th>P_CORRECTED</th>\n      <th>REJECT</th>\n    </tr>\n  </thead>\n  <tbody>\n    <tr>\n      <th>0</th>\n      <td>LOC643837</td>\n      <td>-1.067858</td>\n      <td>0.690766</td>\n      <td>1.000000</td>\n      <td>False</td>\n    </tr>\n    <tr>\n      <th>1</th>\n      <td>LOC100130417</td>\n      <td>1.996517</td>\n      <td>0.000032</td>\n      <td>0.500174</td>\n      <td>False</td>\n    </tr>\n    <tr>\n      <th>2</th>\n      <td>SAMD11</td>\n      <td>1.222418</td>\n      <td>0.060273</td>\n      <td>1.000000</td>\n      <td>False</td>\n    </tr>\n    <tr>\n      <th>3</th>\n      <td>NOC2L</td>\n      <td>-1.020070</td>\n      <td>0.826429</td>\n      <td>1.000000</td>\n      <td>False</td>\n    </tr>\n    <tr>\n      <th>4</th>\n      <td>KLHL17</td>\n      <td>1.125471</td>\n      <td>0.049876</td>\n      <td>1.000000</td>\n      <td>False</td>\n    </tr>\n  </tbody>\n</table>\n</div>"
     },
     "execution_count": 35,
     "metadata": {},
     "output_type": "execute_result"
    }
   ],
   "source": [
    "#   Make little refraction to make beautiful tables\n",
    "#   Adding Fold Change parameter\n",
    "#   Normal - control; Early - treatment\n",
    "def fold_change(control: pd.DataFrame, treatment: pd.DataFrame):\n",
    "    cm = control.mean()\n",
    "    tm = treatment.mean()\n",
    "    if tm > cm:\n",
    "        return tm / cm\n",
    "    else:\n",
    "        return -1 * cm / tm\n",
    "\n",
    "returned_fold_change = list(map(lambda x: fold_change(normal[x],early_neoplasia[x]), normal.columns[2:]))\n",
    "p_values = [stats.ttest_ind(early_neoplasia[column], normal[column], equal_var=False)[1] for column in normal.columns[2:]]\n",
    "\n",
    "reject, p_corrected, a1, a2 = sms.multipletests(pvals=p_values, alpha=.025, method=\"holm\")\n",
    "corrected_normal_early = pd.DataFrame(zip(normal.columns[2:], returned_fold_change, p_values, p_corrected, reject), columns=[\"GEN\", \"FOLD_CHANGED\", \"P\", \"P_CORRECTED\", \"REJECT\"])\n",
    "corrected_normal_early.head()"
   ],
   "metadata": {
    "collapsed": false,
    "pycharm": {
     "name": "#%%\n"
    }
   }
  },
  {
   "cell_type": "code",
   "execution_count": 36,
   "outputs": [
    {
     "data": {
      "text/plain": "         GEN  FOLD_CHANGED             P  P_CORRECTED  REJECT\n7244   PCSK4      1.509785  7.955435e-07     0.012527    True\n9820  EEF1A2      1.974868  8.498742e-08     0.001338    True",
      "text/html": "<div>\n<style scoped>\n    .dataframe tbody tr th:only-of-type {\n        vertical-align: middle;\n    }\n\n    .dataframe tbody tr th {\n        vertical-align: top;\n    }\n\n    .dataframe thead th {\n        text-align: right;\n    }\n</style>\n<table border=\"1\" class=\"dataframe\">\n  <thead>\n    <tr style=\"text-align: right;\">\n      <th></th>\n      <th>GEN</th>\n      <th>FOLD_CHANGED</th>\n      <th>P</th>\n      <th>P_CORRECTED</th>\n      <th>REJECT</th>\n    </tr>\n  </thead>\n  <tbody>\n    <tr>\n      <th>7244</th>\n      <td>PCSK4</td>\n      <td>1.509785</td>\n      <td>7.955435e-07</td>\n      <td>0.012527</td>\n      <td>True</td>\n    </tr>\n    <tr>\n      <th>9820</th>\n      <td>EEF1A2</td>\n      <td>1.974868</td>\n      <td>8.498742e-08</td>\n      <td>0.001338</td>\n      <td>True</td>\n    </tr>\n  </tbody>\n</table>\n</div>"
     },
     "execution_count": 36,
     "metadata": {},
     "output_type": "execute_result"
    }
   ],
   "source": [
    "# Also good way:\n",
    "#corrected_normal_early[(abs(corrected_normal_early[\"FOLD_CHANGED\"]) > 1.5) & (corrected_normal_early[\"REJECT\"] == True)]\n",
    "corrected_normal_early[(abs(corrected_normal_early[\"FOLD_CHANGED\"]) > 1.5) & (corrected_normal_early[\"P_CORRECTED\"] <= 0.025)]"
   ],
   "metadata": {
    "collapsed": false,
    "pycharm": {
     "name": "#%%\n"
    }
   }
  },
  {
   "cell_type": "code",
   "execution_count": 9,
   "outputs": [],
   "source": [],
   "metadata": {
    "collapsed": false,
    "pycharm": {
     "name": "#%%\n"
    }
   }
  },
  {
   "cell_type": "code",
   "execution_count": 44,
   "outputs": [
    {
     "data": {
      "text/plain": "            GEN  FOLD_CHANGED         P  P_CORRECTED  REJECT\n0     LOC643837     -1.148593  0.413735          1.0   False\n1  LOC100130417     -1.064871  0.653429          1.0   False\n2        SAMD11      1.278517  0.079556          1.0   False\n3         NOC2L      1.092635  0.287581          1.0   False\n4        KLHL17      1.036574  0.463292          1.0   False",
      "text/html": "<div>\n<style scoped>\n    .dataframe tbody tr th:only-of-type {\n        vertical-align: middle;\n    }\n\n    .dataframe tbody tr th {\n        vertical-align: top;\n    }\n\n    .dataframe thead th {\n        text-align: right;\n    }\n</style>\n<table border=\"1\" class=\"dataframe\">\n  <thead>\n    <tr style=\"text-align: right;\">\n      <th></th>\n      <th>GEN</th>\n      <th>FOLD_CHANGED</th>\n      <th>P</th>\n      <th>P_CORRECTED</th>\n      <th>REJECT</th>\n    </tr>\n  </thead>\n  <tbody>\n    <tr>\n      <th>0</th>\n      <td>LOC643837</td>\n      <td>-1.148593</td>\n      <td>0.413735</td>\n      <td>1.0</td>\n      <td>False</td>\n    </tr>\n    <tr>\n      <th>1</th>\n      <td>LOC100130417</td>\n      <td>-1.064871</td>\n      <td>0.653429</td>\n      <td>1.0</td>\n      <td>False</td>\n    </tr>\n    <tr>\n      <th>2</th>\n      <td>SAMD11</td>\n      <td>1.278517</td>\n      <td>0.079556</td>\n      <td>1.0</td>\n      <td>False</td>\n    </tr>\n    <tr>\n      <th>3</th>\n      <td>NOC2L</td>\n      <td>1.092635</td>\n      <td>0.287581</td>\n      <td>1.0</td>\n      <td>False</td>\n    </tr>\n    <tr>\n      <th>4</th>\n      <td>KLHL17</td>\n      <td>1.036574</td>\n      <td>0.463292</td>\n      <td>1.0</td>\n      <td>False</td>\n    </tr>\n  </tbody>\n</table>\n</div>"
     },
     "execution_count": 44,
     "metadata": {},
     "output_type": "execute_result"
    }
   ],
   "source": [
    "returned_fold_change = list(map(lambda x: fold_change(early_neoplasia[x], cancer[x]), normal.columns[2:]))\n",
    "p_values = [stats.ttest_ind(early_neoplasia[column], cancer[column], equal_var=False)[1] for column in normal.columns[2:]]\n",
    "reject, p_corrected, a1, a2 = sms.multipletests(pvals=p_values, alpha=.025, method=\"holm\")\n",
    "corrected_early_cancer = pd.DataFrame(zip(normal.columns[2:], returned_fold_change, p_values, p_corrected, reject), columns=[\"GEN\", \"FOLD_CHANGED\", \"P\", \"P_CORRECTED\", \"REJECT\"])\n",
    "corrected_early_cancer.head()"
   ],
   "metadata": {
    "collapsed": false,
    "pycharm": {
     "name": "#%%\n"
    }
   }
  },
  {
   "cell_type": "code",
   "execution_count": 45,
   "outputs": [
    {
     "data": {
      "text/plain": "(77, 5)"
     },
     "execution_count": 45,
     "metadata": {},
     "output_type": "execute_result"
    }
   ],
   "source": [
    "# Also good way:\n",
    "#corrected_normal_early[(abs(corrected_normal_early[\"FOLD_CHANGED\"]) > 1.5) & (corrected_normal_early[\"REJECT\"] == True)]\n",
    "corrected_early_cancer[(abs(corrected_early_cancer[\"FOLD_CHANGED\"]) > 1.5) & (corrected_early_cancer[\"P_CORRECTED\"] < 0.025)].shape"
   ],
   "metadata": {
    "collapsed": false,
    "pycharm": {
     "name": "#%%\n"
    }
   }
  },
  {
   "cell_type": "code",
   "execution_count": 11,
   "outputs": [],
   "source": [],
   "metadata": {
    "collapsed": false,
    "pycharm": {
     "name": "#%%\n"
    }
   }
  },
  {
   "cell_type": "code",
   "execution_count": 42,
   "outputs": [
    {
     "data": {
      "text/plain": "            GEN  FOLD_CHANGED         P  P_CORRECTED  REJECT\n0     LOC643837     -1.067858  0.690766     0.966511   False\n1  LOC100130417      1.996517  0.000032     0.035698   False\n2        SAMD11      1.222418  0.060273     0.536103   False\n3         NOC2L     -1.020070  0.826429     0.980777   False\n4        KLHL17      1.125471  0.049876     0.499016   False",
      "text/html": "<div>\n<style scoped>\n    .dataframe tbody tr th:only-of-type {\n        vertical-align: middle;\n    }\n\n    .dataframe tbody tr th {\n        vertical-align: top;\n    }\n\n    .dataframe thead th {\n        text-align: right;\n    }\n</style>\n<table border=\"1\" class=\"dataframe\">\n  <thead>\n    <tr style=\"text-align: right;\">\n      <th></th>\n      <th>GEN</th>\n      <th>FOLD_CHANGED</th>\n      <th>P</th>\n      <th>P_CORRECTED</th>\n      <th>REJECT</th>\n    </tr>\n  </thead>\n  <tbody>\n    <tr>\n      <th>0</th>\n      <td>LOC643837</td>\n      <td>-1.067858</td>\n      <td>0.690766</td>\n      <td>0.966511</td>\n      <td>False</td>\n    </tr>\n    <tr>\n      <th>1</th>\n      <td>LOC100130417</td>\n      <td>1.996517</td>\n      <td>0.000032</td>\n      <td>0.035698</td>\n      <td>False</td>\n    </tr>\n    <tr>\n      <th>2</th>\n      <td>SAMD11</td>\n      <td>1.222418</td>\n      <td>0.060273</td>\n      <td>0.536103</td>\n      <td>False</td>\n    </tr>\n    <tr>\n      <th>3</th>\n      <td>NOC2L</td>\n      <td>-1.020070</td>\n      <td>0.826429</td>\n      <td>0.980777</td>\n      <td>False</td>\n    </tr>\n    <tr>\n      <th>4</th>\n      <td>KLHL17</td>\n      <td>1.125471</td>\n      <td>0.049876</td>\n      <td>0.499016</td>\n      <td>False</td>\n    </tr>\n  </tbody>\n</table>\n</div>"
     },
     "execution_count": 42,
     "metadata": {},
     "output_type": "execute_result"
    }
   ],
   "source": [
    "#   Make little refraction to make beautiful tables\n",
    "#   Adding Fold Change parameter\n",
    "#   Normal - control; Early - treatment\n",
    "\n",
    "returned_fold_change = list(map(lambda x: fold_change(normal[x],early_neoplasia[x]), normal.columns[2:]))\n",
    "p_values = [stats.ttest_ind(early_neoplasia[column], normal[column], equal_var=False)[1] for column in normal.columns[2:]]\n",
    "\n",
    "reject, p_corrected, a1, a2 = sms.multipletests(pvals=p_values, alpha=.025, method=\"fdr_bh\")\n",
    "corrected_normal_early = pd.DataFrame(zip(normal.columns[2:], returned_fold_change, p_values, p_corrected, reject), columns=[\"GEN\", \"FOLD_CHANGED\", \"P\", \"P_CORRECTED\", \"REJECT\"])\n",
    "corrected_normal_early.head()"
   ],
   "metadata": {
    "collapsed": false,
    "pycharm": {
     "name": "#%%\n"
    }
   }
  },
  {
   "cell_type": "code",
   "execution_count": 41,
   "outputs": [
    {
     "data": {
      "text/plain": "         GEN  FOLD_CHANGED             P  P_CORRECTED  REJECT\n7244   PCSK4      1.509785  7.955435e-07     0.012527    True\n9820  EEF1A2      1.974868  8.498742e-08     0.001338    True",
      "text/html": "<div>\n<style scoped>\n    .dataframe tbody tr th:only-of-type {\n        vertical-align: middle;\n    }\n\n    .dataframe tbody tr th {\n        vertical-align: top;\n    }\n\n    .dataframe thead th {\n        text-align: right;\n    }\n</style>\n<table border=\"1\" class=\"dataframe\">\n  <thead>\n    <tr style=\"text-align: right;\">\n      <th></th>\n      <th>GEN</th>\n      <th>FOLD_CHANGED</th>\n      <th>P</th>\n      <th>P_CORRECTED</th>\n      <th>REJECT</th>\n    </tr>\n  </thead>\n  <tbody>\n    <tr>\n      <th>7244</th>\n      <td>PCSK4</td>\n      <td>1.509785</td>\n      <td>7.955435e-07</td>\n      <td>0.012527</td>\n      <td>True</td>\n    </tr>\n    <tr>\n      <th>9820</th>\n      <td>EEF1A2</td>\n      <td>1.974868</td>\n      <td>8.498742e-08</td>\n      <td>0.001338</td>\n      <td>True</td>\n    </tr>\n  </tbody>\n</table>\n</div>"
     },
     "execution_count": 41,
     "metadata": {},
     "output_type": "execute_result"
    }
   ],
   "source": [
    "# Also good way:\n",
    "#corrected_normal_early[(abs(corrected_normal_early[\"FOLD_CHANGED\"]) > 1.5) & (corrected_normal_early[\"REJECT\"] == True)]\n",
    "corrected_normal_early[(abs(corrected_normal_early[\"FOLD_CHANGED\"]) > 1.5) & (corrected_normal_early[\"P_CORRECTED\"] <= 0.025)]\n"
   ],
   "metadata": {
    "collapsed": false,
    "pycharm": {
     "name": "#%%\n"
    }
   }
  },
  {
   "cell_type": "code",
   "execution_count": 46,
   "outputs": [
    {
     "data": {
      "text/plain": "            GEN  FOLD_CHANGED         P  P_CORRECTED  REJECT\n0     LOC643837     -1.148593  0.413735     0.675195   False\n1  LOC100130417     -1.064871  0.653429     0.836406   False\n2        SAMD11      1.278517  0.079556     0.288873   False\n3         NOC2L      1.092635  0.287581     0.563007   False\n4        KLHL17      1.036574  0.463292     0.712214   False",
      "text/html": "<div>\n<style scoped>\n    .dataframe tbody tr th:only-of-type {\n        vertical-align: middle;\n    }\n\n    .dataframe tbody tr th {\n        vertical-align: top;\n    }\n\n    .dataframe thead th {\n        text-align: right;\n    }\n</style>\n<table border=\"1\" class=\"dataframe\">\n  <thead>\n    <tr style=\"text-align: right;\">\n      <th></th>\n      <th>GEN</th>\n      <th>FOLD_CHANGED</th>\n      <th>P</th>\n      <th>P_CORRECTED</th>\n      <th>REJECT</th>\n    </tr>\n  </thead>\n  <tbody>\n    <tr>\n      <th>0</th>\n      <td>LOC643837</td>\n      <td>-1.148593</td>\n      <td>0.413735</td>\n      <td>0.675195</td>\n      <td>False</td>\n    </tr>\n    <tr>\n      <th>1</th>\n      <td>LOC100130417</td>\n      <td>-1.064871</td>\n      <td>0.653429</td>\n      <td>0.836406</td>\n      <td>False</td>\n    </tr>\n    <tr>\n      <th>2</th>\n      <td>SAMD11</td>\n      <td>1.278517</td>\n      <td>0.079556</td>\n      <td>0.288873</td>\n      <td>False</td>\n    </tr>\n    <tr>\n      <th>3</th>\n      <td>NOC2L</td>\n      <td>1.092635</td>\n      <td>0.287581</td>\n      <td>0.563007</td>\n      <td>False</td>\n    </tr>\n    <tr>\n      <th>4</th>\n      <td>KLHL17</td>\n      <td>1.036574</td>\n      <td>0.463292</td>\n      <td>0.712214</td>\n      <td>False</td>\n    </tr>\n  </tbody>\n</table>\n</div>"
     },
     "execution_count": 46,
     "metadata": {},
     "output_type": "execute_result"
    }
   ],
   "source": [
    "returned_fold_change = list(map(lambda x: fold_change(early_neoplasia[x], cancer[x]), normal.columns[2:]))\n",
    "p_values = [stats.ttest_ind(early_neoplasia[column], cancer[column], equal_var=False)[1] for column in normal.columns[2:]]\n",
    "reject, p_corrected, a1, a2 = sms.multipletests(pvals=p_values, alpha=.025, method=\"fdr_bh\")\n",
    "corrected_early_cancer = pd.DataFrame(zip(normal.columns[2:], returned_fold_change, p_values, p_corrected, reject), columns=[\"GEN\", \"FOLD_CHANGED\", \"P\", \"P_CORRECTED\", \"REJECT\"])\n",
    "corrected_early_cancer.head()"
   ],
   "metadata": {
    "collapsed": false,
    "pycharm": {
     "name": "#%%\n"
    }
   }
  },
  {
   "cell_type": "code",
   "execution_count": 47,
   "outputs": [
    {
     "data": {
      "text/plain": "              GEN  FOLD_CHANGED             P  P_CORRECTED  REJECT\n8           ISG15      2.458867  7.402400e-04     0.017556    True\n47          GABRD      1.843860  2.276043e-07     0.000086    True\n75          AJAP1     -1.567814  7.993294e-04     0.018270    True\n104           CA6     -1.736762  7.806213e-04     0.018078    True\n127         MASP2     -1.750200  9.522413e-05     0.005049    True\n...           ...           ...           ...          ...     ...\n15640        GPC3     -1.870434  5.832350e-07     0.000156    True\n15654  NCRNA00086     -1.615783  4.875591e-04     0.013193    True\n15692         BGN      1.763462  1.779494e-04     0.007186    True\n15694       DUSP9     -2.173490  2.069987e-04     0.007799    True\n15703       PDZD4     -1.758546  6.795085e-08     0.000045    True\n\n[524 rows x 5 columns]",
      "text/html": "<div>\n<style scoped>\n    .dataframe tbody tr th:only-of-type {\n        vertical-align: middle;\n    }\n\n    .dataframe tbody tr th {\n        vertical-align: top;\n    }\n\n    .dataframe thead th {\n        text-align: right;\n    }\n</style>\n<table border=\"1\" class=\"dataframe\">\n  <thead>\n    <tr style=\"text-align: right;\">\n      <th></th>\n      <th>GEN</th>\n      <th>FOLD_CHANGED</th>\n      <th>P</th>\n      <th>P_CORRECTED</th>\n      <th>REJECT</th>\n    </tr>\n  </thead>\n  <tbody>\n    <tr>\n      <th>8</th>\n      <td>ISG15</td>\n      <td>2.458867</td>\n      <td>7.402400e-04</td>\n      <td>0.017556</td>\n      <td>True</td>\n    </tr>\n    <tr>\n      <th>47</th>\n      <td>GABRD</td>\n      <td>1.843860</td>\n      <td>2.276043e-07</td>\n      <td>0.000086</td>\n      <td>True</td>\n    </tr>\n    <tr>\n      <th>75</th>\n      <td>AJAP1</td>\n      <td>-1.567814</td>\n      <td>7.993294e-04</td>\n      <td>0.018270</td>\n      <td>True</td>\n    </tr>\n    <tr>\n      <th>104</th>\n      <td>CA6</td>\n      <td>-1.736762</td>\n      <td>7.806213e-04</td>\n      <td>0.018078</td>\n      <td>True</td>\n    </tr>\n    <tr>\n      <th>127</th>\n      <td>MASP2</td>\n      <td>-1.750200</td>\n      <td>9.522413e-05</td>\n      <td>0.005049</td>\n      <td>True</td>\n    </tr>\n    <tr>\n      <th>...</th>\n      <td>...</td>\n      <td>...</td>\n      <td>...</td>\n      <td>...</td>\n      <td>...</td>\n    </tr>\n    <tr>\n      <th>15640</th>\n      <td>GPC3</td>\n      <td>-1.870434</td>\n      <td>5.832350e-07</td>\n      <td>0.000156</td>\n      <td>True</td>\n    </tr>\n    <tr>\n      <th>15654</th>\n      <td>NCRNA00086</td>\n      <td>-1.615783</td>\n      <td>4.875591e-04</td>\n      <td>0.013193</td>\n      <td>True</td>\n    </tr>\n    <tr>\n      <th>15692</th>\n      <td>BGN</td>\n      <td>1.763462</td>\n      <td>1.779494e-04</td>\n      <td>0.007186</td>\n      <td>True</td>\n    </tr>\n    <tr>\n      <th>15694</th>\n      <td>DUSP9</td>\n      <td>-2.173490</td>\n      <td>2.069987e-04</td>\n      <td>0.007799</td>\n      <td>True</td>\n    </tr>\n    <tr>\n      <th>15703</th>\n      <td>PDZD4</td>\n      <td>-1.758546</td>\n      <td>6.795085e-08</td>\n      <td>0.000045</td>\n      <td>True</td>\n    </tr>\n  </tbody>\n</table>\n<p>524 rows × 5 columns</p>\n</div>"
     },
     "execution_count": 47,
     "metadata": {},
     "output_type": "execute_result"
    }
   ],
   "source": [
    "# Also good way:\n",
    "#corrected_normal_early[(abs(corrected_normal_early[\"FOLD_CHANGED\"]) > 1.5) & (corrected_normal_early[\"REJECT\"] == True)]\n",
    "corrected_early_cancer[(abs(corrected_early_cancer[\"FOLD_CHANGED\"]) > 1.5) & (corrected_early_cancer[\"P_CORRECTED\"] < 0.025)]"
   ],
   "metadata": {
    "collapsed": false,
    "pycharm": {
     "name": "#%%\n"
    }
   }
  }
 ],
 "metadata": {
  "kernelspec": {
   "display_name": "Python 3",
   "language": "python",
   "name": "python3"
  },
  "language_info": {
   "codemirror_mode": {
    "name": "ipython",
    "version": 2
   },
   "file_extension": ".py",
   "mimetype": "text/x-python",
   "name": "python",
   "nbconvert_exporter": "python",
   "pygments_lexer": "ipython2",
   "version": "2.7.6"
  }
 },
 "nbformat": 4,
 "nbformat_minor": 0
}