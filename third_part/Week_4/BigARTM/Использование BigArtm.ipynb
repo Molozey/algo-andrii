{
 "cells": [
  {
   "cell_type": "code",
   "execution_count": 1,
   "metadata": {
    "collapsed": true
   },
   "outputs": [],
   "source": [
    "from matplotlib import pyplot as plt\n"
   ]
  },
  {
   "cell_type": "code",
   "execution_count": 2,
   "outputs": [],
   "source": [
    "import artm"
   ],
   "metadata": {
    "collapsed": false,
    "pycharm": {
     "name": "#%%\n"
    }
   }
  },
  {
   "cell_type": "code",
   "execution_count": 3,
   "outputs": [
    {
     "name": "stderr",
     "output_type": "stream",
     "text": [
      "/Users/molozey/PycharmProjects/Coursera_Machine_2/venv/lib/python3.9/site-packages/ipykernel/ipkernel.py:283: DeprecationWarning: `should_run_async` will not call `transform_cell` automatically in the future. Please pass the result to `transformed_cell` argument and any exception that happen during thetransform in `preprocessing_exc_tuple` in IPython 7.17 and above.\n",
      "  and should_run_async(code)\n"
     ]
    }
   ],
   "source": [
    "#   Считывание данных и их преобразование\n",
    "#   Формат - это data_format @vowpal_wabbit\" - удобный для визуального понимания\n",
    "#   batch_size - сколько строк пойдет в один файл\n",
    "batch_vectorizer = artm.BatchVectorizer(data_path='school.txt', data_format='vowpal_wabbit',\n",
    "                                        target_folder='school_batches',\n",
    "                                        batch_size=100)"
   ],
   "metadata": {
    "collapsed": false,
    "pycharm": {
     "name": "#%%\n"
    }
   }
  },
  {
   "cell_type": "code",
   "execution_count": 4,
   "outputs": [],
   "source": [
    "#   После преобразование данные можно считывать из батчей\n",
    "\n",
    "batch_vectorizer = artm.BatchVectorizer(data_path='school_batches', data_format='batches')"
   ],
   "metadata": {
    "collapsed": false,
    "pycharm": {
     "name": "#%%\n"
    }
   }
  },
  {
   "cell_type": "code",
   "execution_count": 5,
   "outputs": [],
   "source": [
    "#   Создаем объект класса artm\n",
    "#   Количество тем\n",
    "T = 10\n",
    "#   class_id - веса модальностей (разные типы классов документов)\n",
    "#   seed - нужен для инициализации словаря\n",
    "#   Можно бахнуть document_passes - чтобы больше гулять по документам\n",
    "model_artm = artm.ARTM(num_topics=T, topic_names=[\"theme_\" + str(i) for i in range(T)], class_ids={'text':1},\n",
    "                       seed=-1, num_document_passes=1, reuse_theta=True, cache_theta=True)"
   ],
   "metadata": {
    "collapsed": false,
    "pycharm": {
     "name": "#%%\n"
    }
   }
  },
  {
   "cell_type": "code",
   "execution_count": 6,
   "outputs": [],
   "source": [
    "#   Нужно создать метрики для того чтобы оценивать модель\n",
    "#   Сначала перпрексия\n",
    "model_artm.scores.add(artm.PerplexityScore(name='PerplexityScore',\n",
    "                      dictionary = 'dictionary'))\n",
    "#   Метрики разреженности матриц тета и фи\n",
    "model_artm.scores.add(artm.SparsityPhiScore(name='SparsityPhiScore',\n",
    "                                            class_id='text'))\n",
    "model_artm.scores.add(artm.SparsityThetaScore(name='SparsityThetaScore'))\n",
    "#   топ слов входящих в тему. Num_tokens - сколько топовых слов\n",
    "model_artm.scores.add(artm.TopTokensScore(name='top words', num_tokens=15, class_id='text'))"
   ],
   "metadata": {
    "collapsed": false,
    "pycharm": {
     "name": "#%%\n"
    }
   }
  },
  {
   "cell_type": "code",
   "execution_count": 7,
   "outputs": [],
   "source": [
    "#   Создаем словарь и инициализируем его\n",
    "#   Ранее в модели указывали сид для того чтобы воспроизводить начальные приближения матриц фи и тета\n",
    "dictionary = artm.Dictionary('dictionary')\n",
    "dictionary.gather(batch_vectorizer.data_path)\n",
    "model_artm.initialize('dictionary')"
   ],
   "metadata": {
    "collapsed": false,
    "pycharm": {
     "name": "#%%\n"
    }
   }
  },
  {
   "cell_type": "code",
   "execution_count": 7,
   "outputs": [],
   "source": [],
   "metadata": {
    "collapsed": false,
    "pycharm": {
     "name": "#%%\n"
    }
   }
  },
  {
   "cell_type": "code",
   "execution_count": 8,
   "outputs": [],
   "source": [
    "#   Строим модель. Offline - проходит по коллекции много раз. Земля пухом если выборка большая\n",
    "#   Сколько раз гулять ставим в num_collection_passes\n",
    "model_artm.fit_offline(batch_vectorizer=batch_vectorizer, num_collection_passes=40)"
   ],
   "metadata": {
    "collapsed": false,
    "pycharm": {
     "name": "#%%\n"
    }
   }
  },
  {
   "cell_type": "code",
   "execution_count": 9,
   "outputs": [
    {
     "name": "stderr",
     "output_type": "stream",
     "text": [
      "/Users/molozey/PycharmProjects/Coursera_Machine_2/venv/lib/python3.9/site-packages/ipykernel/ipkernel.py:283: DeprecationWarning: `should_run_async` will not call `transform_cell` automatically in the future. Please pass the result to `transformed_cell` argument and any exception that happen during thetransform in `preprocessing_exc_tuple` in IPython 7.17 and above.\n",
      "  and should_run_async(code)\n"
     ]
    },
    {
     "data": {
      "text/plain": "[<matplotlib.lines.Line2D at 0x11236ea90>]"
     },
     "execution_count": 9,
     "metadata": {},
     "output_type": "execute_result"
    },
    {
     "data": {
      "text/plain": "<Figure size 432x288 with 1 Axes>",
      "image/png": "[encoded data removed]"
     },
     "metadata": {
      "needs_background": "light"
     },
     "output_type": "display_data"
    }
   ],
   "source": [
    "#   Необходимое число итераций можно отслеживать по графику перплексии. Когда она перестала меняться, модель сошлась.\n",
    "plt.plot(model_artm.score_tracker['PerplexityScore'].value)\n"
   ],
   "metadata": {
    "collapsed": false,
    "pycharm": {
     "name": "#%%\n"
    }
   }
  },
  {
   "cell_type": "code",
   "execution_count": 10,
   "outputs": [
    {
     "name": "stdout",
     "output_type": "stream",
     "text": [
      "topic_name \"theme_0\":\n",
      "который быть что это человек этот как свой для они его весь такой время себя \n",
      "\n",
      "topic_name \"theme_1\":\n",
      "возведение a b множитель раскладывать x выражение умножение скобка разложение сокращенный квадрат ответ переменный целый \n",
      "\n",
      "topic_name \"theme_2\":\n",
      "обособление куприн слово раскольников мастер роман словосочетание маргарита подчинительный соня оборот вера браслет старик сантьяго \n",
      "\n",
      "topic_name \"theme_3\":\n",
      "который быть год свой время государство человек мир становиться северный жизнь первый война африка ребенок \n",
      "\n",
      "topic_name \"theme_4\":\n",
      "x a b уравнение дробь квадратный y степень функция число f решение корень c пример \n",
      "\n",
      "topic_name \"theme_5\":\n",
      "быть год пушкин функция свой его русский который поэт империя a культура весь f трение \n",
      "\n",
      "topic_name \"theme_6\":\n",
      "сила быть тело энергия поле при магнитный точка географический наречие если частица например заряд величина \n",
      "\n",
      "topic_name \"theme_7\":\n",
      "который что это как человек для этот такой быть являться мочь себя она его свой \n",
      "\n",
      "topic_name \"theme_8\":\n",
      "который быть что это свой как этот человек для x они такой государство a весь \n",
      "\n",
      "topic_name \"theme_9\":\n",
      "который быть что этот это как человек свой для такой весь они его жизнь являться \n",
      "\n"
     ]
    }
   ],
   "source": [
    "#   Посмотрим какие получились топы слов\n",
    "\n",
    "for topic_name in model_artm.topic_names:\n",
    "    print(f'topic_name \"{topic_name}\":')\n",
    "    tokens = model_artm.score_tracker[\"top words\"].last_tokens\n",
    "    for word in model_artm.score_tracker['top words'].last_tokens[topic_name]:\n",
    "        print(f'{word}', end=' ')\n",
    "    print('\\n')"
   ],
   "metadata": {
    "collapsed": false,
    "pycharm": {
     "name": "#%%\n"
    }
   }
  },
  {
   "cell_type": "code",
   "execution_count": 11,
   "outputs": [
    {
     "name": "stdout",
     "output_type": "stream",
     "text": [
      "SparsityPhi:0.7333747148513794\n",
      "SparsityTheta:0.1655462235212326\n"
     ]
    }
   ],
   "source": [
    "#   Посмотрим на разреженность матриц\n",
    "#   Показывает долю нулей\n",
    "print(f\"SparsityPhi:{model_artm.score_tracker['SparsityPhiScore'].last_value}\")\n",
    "print(f\"SparsityTheta:{model_artm.score_tracker['SparsityThetaScore'].last_value}\")"
   ],
   "metadata": {
    "collapsed": false,
    "pycharm": {
     "name": "#%%\n"
    }
   }
  },
  {
   "cell_type": "code",
   "execution_count": 12,
   "outputs": [],
   "source": [
    "#   Если посмотреть на слова - то видно очень много мусора из общеупотребляемых слов.\n",
    "#   Нужно их убрать\n",
    "#   Будем использовать регуляризатор матрицы фи\n",
    "#   При указании словаря tau умножается на частоту слова, если словарь не указывать идет умножение веса слова\n",
    "\n",
    "model_artm.regularizers.add(artm.SmoothSparsePhiRegularizer(name='SparsePhi', tau=-100,\n",
    "                                                            dictionary='dictionary',\n",
    "                                                            ))"
   ],
   "metadata": {
    "collapsed": false,
    "pycharm": {
     "name": "#%%\n"
    }
   }
  },
  {
   "cell_type": "code",
   "execution_count": 13,
   "outputs": [],
   "source": [
    "model_artm.fit_offline(batch_vectorizer=batch_vectorizer, num_collection_passes=15)"
   ],
   "metadata": {
    "collapsed": false,
    "pycharm": {
     "name": "#%%\n"
    }
   }
  },
  {
   "cell_type": "code",
   "execution_count": 14,
   "outputs": [
    {
     "name": "stderr",
     "output_type": "stream",
     "text": [
      "/Users/molozey/PycharmProjects/Coursera_Machine_2/venv/lib/python3.9/site-packages/ipykernel/ipkernel.py:283: DeprecationWarning: `should_run_async` will not call `transform_cell` automatically in the future. Please pass the result to `transformed_cell` argument and any exception that happen during thetransform in `preprocessing_exc_tuple` in IPython 7.17 and above.\n",
      "  and should_run_async(code)\n"
     ]
    },
    {
     "name": "stdout",
     "output_type": "stream",
     "text": [
      "topic_name \"theme_0\":\n",
      "который быть что это этот как человек свой для они весь такой его время год \n",
      "\n",
      "topic_name \"theme_1\":\n",
      "Null Theme\n",
      "\n",
      "\n",
      "topic_name \"theme_2\":\n",
      "обособление куприн слово раскольников мастер роман словосочетание маргарита браслет подчинительный соня оборот вера управление зависимое \n",
      "\n",
      "topic_name \"theme_3\":\n",
      "который быть год для этот что как свой это они весь государство человек время такой \n",
      "\n",
      "topic_name \"theme_4\":\n",
      "x a b число уравнение корень дробь функция y квадратный степень f решение получать пример \n",
      "\n",
      "topic_name \"theme_5\":\n",
      "быть функция пушкин точка трение a f год предложение империя область существительное звук пример язык \n",
      "\n",
      "topic_name \"theme_6\":\n",
      "магнитный индукция поле наречие примыкать местоимение прилагательный существительный генератор сторонний контур крепко отдыхать магазин дизельный \n",
      "\n",
      "topic_name \"theme_7\":\n",
      "что человек это как его свой она герой мочь другой себя который сила образ при \n",
      "\n",
      "topic_name \"theme_8\":\n",
      "быть который что это этот как свой для человек x они такой государство весь a \n",
      "\n",
      "topic_name \"theme_9\":\n",
      "который быть что этот это человек как свой для весь такой его жизнь они год \n",
      "\n"
     ]
    }
   ],
   "source": [
    "for topic_name in model_artm.topic_names:\n",
    "    print(f'topic_name \"{topic_name}\":')\n",
    "    tokens = model_artm.score_tracker['top words'].last_tokens\n",
    "    try:\n",
    "        for word in model_artm.score_tracker['top words'].last_tokens[topic_name]:\n",
    "            print(f'{word}', end=' ')\n",
    "    except:\n",
    "        print('Null Theme')\n",
    "    print('\\n')"
   ],
   "metadata": {
    "collapsed": false,
    "pycharm": {
     "name": "#%%\n"
    }
   }
  },
  {
   "cell_type": "code",
   "execution_count": 33,
   "outputs": [],
   "source": [
    "#   Нужно менять коэффициент регуляризации\n",
    "model_artm.regularizers['SparsePhi'].tau = -5*1e4\n",
    "model_artm.fit_offline(batch_vectorizer=batch_vectorizer, num_collection_passes=40)"
   ],
   "metadata": {
    "collapsed": false,
    "pycharm": {
     "name": "#%%\n"
    }
   }
  },
  {
   "cell_type": "code",
   "execution_count": 34,
   "outputs": [
    {
     "name": "stdout",
     "output_type": "stream",
     "text": [
      "Theme:theme_0 top words:\n",
      "предложение вода корень древний квадратный дом n океан жить собственный крестьянин член александр зона достигать \n",
      "\n",
      "Theme:theme_1 top words:\n",
      "Theme:theme_2 top words:\n",
      "Theme:theme_3 top words:\n",
      "северный африка ресурс сфера географический конфликт климат цивилизация международный ядерный гражданин материк остров организация среда \n",
      "\n",
      "Theme:theme_4 top words:\n",
      "Theme:theme_5 top words:\n",
      "функция пушкин империя f определение область промежуток восстание трение существительное английский пояс павел падеж оборот \n",
      "\n",
      "Theme:theme_6 top words:\n",
      "Theme:theme_7 top words:\n",
      "лермонтов поэма толстой правило иван лиза мертвый общение средство хотеть детство относительно поведение ничто одиночество \n",
      "\n",
      "Theme:theme_8 top words:\n",
      "x a два b ребенок город равный уравнение сторона y движение условие различный решение поле \n",
      "\n",
      "Theme:theme_9 top words:\n",
      "который быть что это этот человек как свой для такой они весь его год жизнь \n",
      "\n"
     ]
    }
   ],
   "source": [
    "for topic_name in model_artm.topic_names:\n",
    "    print(f'Theme:{topic_name} top words:')\n",
    "    tokens = model_artm.score_tracker[\"top words\"].last_tokens\n",
    "    try:\n",
    "        for word in tokens[topic_name]:\n",
    "            print(f'{word}', end=' ')\n",
    "    except:\n",
    "        continue\n",
    "    print('\\n')"
   ],
   "metadata": {
    "collapsed": false,
    "pycharm": {
     "name": "#%%\n"
    }
   }
  },
  {
   "cell_type": "code",
   "execution_count": 30,
   "outputs": [
    {
     "name": "stdout",
     "output_type": "stream",
     "text": [
      "SparsityPhi:0.9119821190834045\n",
      "SparsityTheta:0.5050420165061951\n"
     ]
    }
   ],
   "source": [
    "print(f\"SparsityPhi:{model_artm.score_tracker['SparsityPhiScore'].last_value}\")\n",
    "print(f\"SparsityTheta:{model_artm.score_tracker['SparsityThetaScore'].last_value}\")"
   ],
   "metadata": {
    "collapsed": false,
    "pycharm": {
     "name": "#%%\n"
    }
   }
  },
  {
   "cell_type": "code",
   "execution_count": null,
   "outputs": [],
   "source": [
    "#   Сохранение модели\n",
    "#model_artm.save('save_model')\n",
    "#   Загрузка модели\n",
    "#model_artm.load('save_model')"
   ],
   "metadata": {
    "collapsed": false,
    "pycharm": {
     "name": "#%%\n"
    }
   }
  },
  {
   "cell_type": "code",
   "execution_count": 37,
   "outputs": [
    {
     "name": "stderr",
     "output_type": "stream",
     "text": [
      "/Users/molozey/PycharmProjects/Coursera_Machine_2/venv/lib/python3.9/site-packages/ipykernel/ipkernel.py:283: DeprecationWarning: `should_run_async` will not call `transform_cell` automatically in the future. Please pass the result to `transformed_cell` argument and any exception that happen during thetransform in `preprocessing_exc_tuple` in IPython 7.17 and above.\n",
      "  and should_run_async(code)\n"
     ]
    },
    {
     "data": {
      "text/plain": "              400       401       402       403       404       405       406  \\\ntheme_0  0.070946  0.052567  0.037453  0.035938  0.038462  0.155172  0.194030   \ntheme_1  0.000000  0.000000  0.000000  0.000000  0.000000  0.000000  0.000000   \ntheme_2  0.000000  0.000000  0.000000  0.000000  0.000000  0.000000  0.000000   \ntheme_3  0.003378  0.008547  0.026217  0.002882  0.025641  0.005747  0.009950   \ntheme_4  0.000000  0.000000  0.000000  0.000000  0.000000  0.000000  0.000000   \ntheme_5  0.074324  0.307021  0.224719  0.638414  0.145299  0.057471  0.124378   \ntheme_6  0.000000  0.000000  0.000000  0.000000  0.000000  0.000000  0.000000   \ntheme_7  0.003378  0.027158  0.007491  0.008646  0.038462  0.017241  0.039801   \ntheme_8  0.087838  0.073783  0.123596  0.066282  0.034188  0.500000  0.109453   \ntheme_9  0.760135  0.530923  0.580524  0.247838  0.717949  0.264368  0.522388   \n\n              407       408       409  ...       190       191       192  \\\ntheme_0  0.029520  0.050676  0.081897  ...  0.020833  0.170124  0.104430   \ntheme_1  0.000000  0.000000  0.000000  ...  0.000000  0.000000  0.000000   \ntheme_2  0.000000  0.000000  0.000000  ...  0.000000  0.000000  0.000000   \ntheme_3  0.000000  0.030405  0.000000  ...  0.029167  0.182293  0.246835   \ntheme_4  0.000000  0.000000  0.000000  ...  0.000000  0.000000  0.000000   \ntheme_5  0.022140  0.087838  0.379310  ...  0.004167  0.045643  0.025316   \ntheme_6  0.000000  0.000000  0.000000  ...  0.000000  0.000000  0.000000   \ntheme_7  0.000000  0.006757  0.008621  ...  0.133024  0.004149  0.041113   \ntheme_8  0.059041  0.040541  0.030172  ...  0.075310  0.107884  0.085469   \ntheme_9  0.889299  0.783784  0.500000  ...  0.737500  0.489906  0.496836   \n\n              193       194       195       196       197       198       199  \ntheme_0  0.176471  0.090592  0.094697  0.096429  0.131868  0.036232  0.074713  \ntheme_1  0.000000  0.000000  0.000000  0.000000  0.000000  0.000000  0.000000  \ntheme_2  0.000000  0.000000  0.000000  0.000000  0.000000  0.000000  0.000000  \ntheme_3  0.068857  0.041812  0.105359  0.096429  0.043956  0.028985  0.000000  \ntheme_4  0.000000  0.000000  0.000000  0.000000  0.000000  0.000000  0.000000  \ntheme_5  0.048443  0.027875  0.030303  0.064286  0.040293  0.003749  0.005747  \ntheme_6  0.000000  0.000000  0.000000  0.000000  0.000000  0.000000  0.000000  \ntheme_7  0.017301  0.006969  0.041667  0.010714  0.010989  0.238554  0.040230  \ntheme_8  0.110727  0.118467  0.087121  0.085714  0.267399  0.051176  0.477012  \ntheme_9  0.578202  0.714286  0.640853  0.646429  0.505495  0.641304  0.402299  \n\n[10 rows x 476 columns]",
      "text/html": "<div>\n<style scoped>\n    .dataframe tbody tr th:only-of-type {\n        vertical-align: middle;\n    }\n\n    .dataframe tbody tr th {\n        vertical-align: top;\n    }\n\n    .dataframe thead th {\n        text-align: right;\n    }\n</style>\n<table border=\"1\" class=\"dataframe\">\n  <thead>\n    <tr style=\"text-align: right;\">\n      <th></th>\n      <th>400</th>\n      <th>401</th>\n      <th>402</th>\n      <th>403</th>\n      <th>404</th>\n      <th>405</th>\n      <th>406</th>\n      <th>407</th>\n      <th>408</th>\n      <th>409</th>\n      <th>...</th>\n      <th>190</th>\n      <th>191</th>\n      <th>192</th>\n      <th>193</th>\n      <th>194</th>\n      <th>195</th>\n      <th>196</th>\n      <th>197</th>\n      <th>198</th>\n      <th>199</th>\n    </tr>\n  </thead>\n  <tbody>\n    <tr>\n      <th>theme_0</th>\n      <td>0.070946</td>\n      <td>0.052567</td>\n      <td>0.037453</td>\n      <td>0.035938</td>\n      <td>0.038462</td>\n      <td>0.155172</td>\n      <td>0.194030</td>\n      <td>0.029520</td>\n      <td>0.050676</td>\n      <td>0.081897</td>\n      <td>...</td>\n      <td>0.020833</td>\n      <td>0.170124</td>\n      <td>0.104430</td>\n      <td>0.176471</td>\n      <td>0.090592</td>\n      <td>0.094697</td>\n      <td>0.096429</td>\n      <td>0.131868</td>\n      <td>0.036232</td>\n      <td>0.074713</td>\n    </tr>\n    <tr>\n      <th>theme_1</th>\n      <td>0.000000</td>\n      <td>0.000000</td>\n      <td>0.000000</td>\n      <td>0.000000</td>\n      <td>0.000000</td>\n      <td>0.000000</td>\n      <td>0.000000</td>\n      <td>0.000000</td>\n      <td>0.000000</td>\n      <td>0.000000</td>\n      <td>...</td>\n      <td>0.000000</td>\n      <td>0.000000</td>\n      <td>0.000000</td>\n      <td>0.000000</td>\n      <td>0.000000</td>\n      <td>0.000000</td>\n      <td>0.000000</td>\n      <td>0.000000</td>\n      <td>0.000000</td>\n      <td>0.000000</td>\n    </tr>\n    <tr>\n      <th>theme_2</th>\n      <td>0.000000</td>\n      <td>0.000000</td>\n      <td>0.000000</td>\n      <td>0.000000</td>\n      <td>0.000000</td>\n      <td>0.000000</td>\n      <td>0.000000</td>\n      <td>0.000000</td>\n      <td>0.000000</td>\n      <td>0.000000</td>\n      <td>...</td>\n      <td>0.000000</td>\n      <td>0.000000</td>\n      <td>0.000000</td>\n      <td>0.000000</td>\n      <td>0.000000</td>\n      <td>0.000000</td>\n      <td>0.000000</td>\n      <td>0.000000</td>\n      <td>0.000000</td>\n      <td>0.000000</td>\n    </tr>\n    <tr>\n      <th>theme_3</th>\n      <td>0.003378</td>\n      <td>0.008547</td>\n      <td>0.026217</td>\n      <td>0.002882</td>\n      <td>0.025641</td>\n      <td>0.005747</td>\n      <td>0.009950</td>\n      <td>0.000000</td>\n      <td>0.030405</td>\n      <td>0.000000</td>\n      <td>...</td>\n      <td>0.029167</td>\n      <td>0.182293</td>\n      <td>0.246835</td>\n      <td>0.068857</td>\n      <td>0.041812</td>\n      <td>0.105359</td>\n      <td>0.096429</td>\n      <td>0.043956</td>\n      <td>0.028985</td>\n      <td>0.000000</td>\n    </tr>\n    <tr>\n      <th>theme_4</th>\n      <td>0.000000</td>\n      <td>0.000000</td>\n      <td>0.000000</td>\n      <td>0.000000</td>\n      <td>0.000000</td>\n      <td>0.000000</td>\n      <td>0.000000</td>\n      <td>0.000000</td>\n      <td>0.000000</td>\n      <td>0.000000</td>\n      <td>...</td>\n      <td>0.000000</td>\n      <td>0.000000</td>\n      <td>0.000000</td>\n      <td>0.000000</td>\n      <td>0.000000</td>\n      <td>0.000000</td>\n      <td>0.000000</td>\n      <td>0.000000</td>\n      <td>0.000000</td>\n      <td>0.000000</td>\n    </tr>\n    <tr>\n      <th>theme_5</th>\n      <td>0.074324</td>\n      <td>0.307021</td>\n      <td>0.224719</td>\n      <td>0.638414</td>\n      <td>0.145299</td>\n      <td>0.057471</td>\n      <td>0.124378</td>\n      <td>0.022140</td>\n      <td>0.087838</td>\n      <td>0.379310</td>\n      <td>...</td>\n      <td>0.004167</td>\n      <td>0.045643</td>\n      <td>0.025316</td>\n      <td>0.048443</td>\n      <td>0.027875</td>\n      <td>0.030303</td>\n      <td>0.064286</td>\n      <td>0.040293</td>\n      <td>0.003749</td>\n      <td>0.005747</td>\n    </tr>\n    <tr>\n      <th>theme_6</th>\n      <td>0.000000</td>\n      <td>0.000000</td>\n      <td>0.000000</td>\n      <td>0.000000</td>\n      <td>0.000000</td>\n      <td>0.000000</td>\n      <td>0.000000</td>\n      <td>0.000000</td>\n      <td>0.000000</td>\n      <td>0.000000</td>\n      <td>...</td>\n      <td>0.000000</td>\n      <td>0.000000</td>\n      <td>0.000000</td>\n      <td>0.000000</td>\n      <td>0.000000</td>\n      <td>0.000000</td>\n      <td>0.000000</td>\n      <td>0.000000</td>\n      <td>0.000000</td>\n      <td>0.000000</td>\n    </tr>\n    <tr>\n      <th>theme_7</th>\n      <td>0.003378</td>\n      <td>0.027158</td>\n      <td>0.007491</td>\n      <td>0.008646</td>\n      <td>0.038462</td>\n      <td>0.017241</td>\n      <td>0.039801</td>\n      <td>0.000000</td>\n      <td>0.006757</td>\n      <td>0.008621</td>\n      <td>...</td>\n      <td>0.133024</td>\n      <td>0.004149</td>\n      <td>0.041113</td>\n      <td>0.017301</td>\n      <td>0.006969</td>\n      <td>0.041667</td>\n      <td>0.010714</td>\n      <td>0.010989</td>\n      <td>0.238554</td>\n      <td>0.040230</td>\n    </tr>\n    <tr>\n      <th>theme_8</th>\n      <td>0.087838</td>\n      <td>0.073783</td>\n      <td>0.123596</td>\n      <td>0.066282</td>\n      <td>0.034188</td>\n      <td>0.500000</td>\n      <td>0.109453</td>\n      <td>0.059041</td>\n      <td>0.040541</td>\n      <td>0.030172</td>\n      <td>...</td>\n      <td>0.075310</td>\n      <td>0.107884</td>\n      <td>0.085469</td>\n      <td>0.110727</td>\n      <td>0.118467</td>\n      <td>0.087121</td>\n      <td>0.085714</td>\n      <td>0.267399</td>\n      <td>0.051176</td>\n      <td>0.477012</td>\n    </tr>\n    <tr>\n      <th>theme_9</th>\n      <td>0.760135</td>\n      <td>0.530923</td>\n      <td>0.580524</td>\n      <td>0.247838</td>\n      <td>0.717949</td>\n      <td>0.264368</td>\n      <td>0.522388</td>\n      <td>0.889299</td>\n      <td>0.783784</td>\n      <td>0.500000</td>\n      <td>...</td>\n      <td>0.737500</td>\n      <td>0.489906</td>\n      <td>0.496836</td>\n      <td>0.578202</td>\n      <td>0.714286</td>\n      <td>0.640853</td>\n      <td>0.646429</td>\n      <td>0.505495</td>\n      <td>0.641304</td>\n      <td>0.402299</td>\n    </tr>\n  </tbody>\n</table>\n<p>10 rows × 476 columns</p>\n</div>"
     },
     "execution_count": 37,
     "metadata": {},
     "output_type": "execute_result"
    }
   ],
   "source": [
    "#   Запрос матриц\n",
    "#model_artm.get_phi()\n",
    "#model_artm.get_theta()"
   ],
   "metadata": {
    "collapsed": false,
    "pycharm": {
     "name": "#%%\n"
    }
   }
  },
  {
   "cell_type": "code",
   "execution_count": null,
   "outputs": [],
   "source": [
    "#   Анализ новых документов\n",
    "#model_artm.transform(batch_vectorizer=new_batch_vectorizer)"
   ],
   "metadata": {
    "collapsed": false,
    "pycharm": {
     "name": "#%%\n"
    }
   }
  }
 ],
 "metadata": {
  "kernelspec": {
   "display_name": "Python 3",
   "language": "python",
   "name": "python3"
  },
  "language_info": {
   "codemirror_mode": {
    "name": "ipython",
    "version": 2
   },
   "file_extension": ".py",
   "mimetype": "text/x-python",
   "name": "python",
   "nbconvert_exporter": "python",
   "pygments_lexer": "ipython2",
   "version": "2.7.6"
  }
 },
 "nbformat": 4,
 "nbformat_minor": 0
}