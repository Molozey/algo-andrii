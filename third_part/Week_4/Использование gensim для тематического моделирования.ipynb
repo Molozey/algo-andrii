{
 "cells": [
  {
   "cell_type": "code",
   "execution_count": 2,
   "metadata": {
    "collapsed": true
   },
   "outputs": [
    {
     "name": "stderr",
     "output_type": "stream",
     "text": [
      "/Users/molozey/PycharmProjects/Coursera_Machine_2/venv/lib/python3.9/site-packages/gensim/similarities/__init__.py:15: UserWarning: The gensim.similarities.levenshtein submodule is disabled, because the optional Levenshtein package <https://pypi.org/project/python-Levenshtein/> is unavailable. Install Levenhstein (e.g. `pip install python-Levenshtein`) to suppress this warning.\n",
      "  warnings.warn(msg)\n"
     ]
    }
   ],
   "source": [
    "from gensim import corpora, models\n"
   ]
  },
  {
   "cell_type": "code",
   "execution_count": 3,
   "outputs": [],
   "source": [
    "#   Модуль corpora используется для импорта файла в формате UCI BOW\n",
    "data = corpora.UciCorpus('docword.xkcd.txt', 'vocab.xkcd.txt')\n",
    "dictionary = data.create_dictionary()"
   ],
   "metadata": {
    "collapsed": false,
    "pycharm": {
     "name": "#%%\n"
    }
   }
  },
  {
   "cell_type": "code",
   "execution_count": 5,
   "outputs": [
    {
     "data": {
      "text/plain": "{0: b'boy',\n 1: b'sits',\n 2: b'barrel',\n 3: b'floating',\n 4: b'ocean',\n 5: b'wonder',\n 6: b'ill',\n 7: b'float',\n 8: b'next',\n 9: b'drift',\n 10: b'distance',\n 11: b'nothing',\n 12: b'else',\n 13: b'can',\n 14: b'seen',\n 15: b'alt',\n 16: b'dont',\n 17: b'two',\n 18: b'tree',\n 19: b'growing',\n 20: b'opposite',\n 21: b'side',\n 22: b'sphere',\n 23: b'alttitle',\n 24: b'petit',\n 25: b'reference',\n 26: b'prince',\n 27: b'thought',\n 28: b'halfway',\n 29: b'sketch',\n 30: b'island',\n 31: b'althello',\n 32: b'landscape',\n 33: b'sun',\n 34: b'horizon',\n 35: b'theres',\n 36: b'river',\n 37: b'flowing',\n 38: b'black',\n 39: b'number',\n 40: b'see',\n 41: b'red',\n 42: b'package',\n 43: b'hey',\n 44: b'explodes',\n 45: b'boom',\n 46: b'cloud',\n 47: b'smoke',\n 48: b'green',\n 49: b'blue',\n 50: b'lying',\n 51: b'near',\n 52: b'scorched',\n 53: b'mark',\n 54: b'floor',\n 55: b'text',\n 56: b'blown',\n 57: b'prime',\n 58: b'factor',\n 59: b'narrator',\n 60: b'selfreference',\n 61: b'irony',\n 62: b'metahumor',\n 63: b'far',\n 64: b'cautionary',\n 65: b'tale',\n 66: b'man',\n 67: b'statement',\n 68: b'wouldnt',\n 69: b'funny',\n 70: b'guess',\n 71: b'20000',\n 72: b'year',\n 73: b'later',\n 74: b'desolate',\n 75: b'badlands',\n 76: b'imposing',\n 77: b'sky',\n 78: b'commonly',\n 79: b'known',\n 80: b'much',\n 81: b'perspective',\n 82: b'downer',\n 83: b'girl',\n 84: b'sleeping',\n 85: b'facing',\n 86: b'away',\n 87: b'view',\n 88: b'many',\n 89: b'spider',\n 90: b'standing',\n 91: b'hanging',\n 92: b'cuboid',\n 93: b'hang',\n 94: b'air',\n 95: b'visible',\n 96: b'mean',\n 97: b'support',\n 98: b'sixlegged',\n 99: b'several',\n 100: b'stick',\n 101: b'figure',\n 102: b'stand',\n 103: b'lineup',\n 104: b'forlorn',\n 105: b'male',\n 106: b'coat',\n 107: b'combed',\n 108: b'hair',\n 109: b'spiky',\n 110: b'arm',\n 111: b'outstretched',\n 112: b'enthusiastically',\n 113: b'female',\n 114: b'long',\n 115: b'cornrows',\n 116: b'shorter',\n 117: b'stringy',\n 118: b'falling',\n 119: b'face',\n 120: b'enthusiastic',\n 121: b'raised',\n 122: b'celebration',\n 123: b'short',\n 124: b'goatee',\n 125: b'curly',\n 126: b'wearing',\n 127: b'dress',\n 128: b'sternlooking',\n 129: b'flyaway',\n 130: b'dialogue',\n 131: b'mal',\n 132: b'simon',\n 133: b'wash',\n 134: b'zoe',\n 135: b'kaylee',\n 136: b'jayne',\n 137: b'inara',\n 138: b'book',\n 139: b'3141592653589793helpimtrappedinauniversefactory7108914',\n 140: b'none',\n 141: b'place',\n 142: b'floated',\n 143: b'mommy',\n 144: b'awww',\n 145: b'say',\n 146: b'another',\n 147: b'blackhatwearing',\n 148: b'poisson',\n 149: b'distribution',\n 150: b'still',\n 151: b'hat',\n 152: b'guy',\n 153: b'hell',\n 154: b'keep',\n 155: b'saying',\n 156: b'totally',\n 157: b'zero',\n 158: b'gone',\n 159: b'whistling',\n 160: b'value',\n 161: b'negative',\n 162: b'men',\n 163: b'kind',\n 164: b'cliff',\n 165: b'edge',\n 166: b'time',\n 167: b'now',\n 168: b'full',\n 169: b'scene',\n 170: b'revealed',\n 171: b'huge',\n 172: b'canyon',\n 173: b'rocky',\n 174: b'barren',\n 175: b'pockmarked',\n 176: b'moon',\n 177: b'ringed',\n 178: b'planet',\n 179: b'burgundycoloured',\n 180: b'thats',\n 181: b'pretty',\n 182: b'boring',\n 183: b'answer',\n 184: b'least',\n 185: b'imaginable',\n 186: b'theyre',\n 187: b'lip',\n 188: b'isnt',\n 189: b'clear',\n 190: b'colored',\n 191: b'drawing',\n 192: b'hilly',\n 193: b'grassy',\n 194: b'leaning',\n 195: b'sometimes',\n 196: b'just',\n 197: b'cant',\n 198: b'get',\n 199: b'outraged',\n 200: b'copyright',\n 201: b'law',\n 202: b'reading',\n 203: b'slashdot',\n 204: b'boingboing',\n 205: b'outside',\n 206: b'top',\n 207: b'dinosaur',\n 208: b'brontosaurus',\n 209: b'holding',\n 210: b'rein',\n 211: b'head',\n 212: b'talk',\n 213: b'warn',\n 214: b'strange',\n 215: b'title',\n 216: b'know',\n 217: b'character',\n 218: b'raising',\n 219: b'hand',\n 220: b'knight',\n 221: b'hahaha',\n 222: b'written',\n 223: b'anyone',\n 224: b'find',\n 225: b'decade',\n 226: b'people',\n 227: b'groting',\n 228: b'wordforword',\n 229: b'group',\n 230: b'loved',\n 231: b'mastery',\n 232: b'shock',\n 233: b'unexpected',\n 234: b'defiance',\n 235: b'cocnvention',\n 236: b'looking',\n 237: b'third',\n 238: b'god',\n 239: b'sorry',\n 240: b'close',\n 241: b'car',\n 242: b'came',\n 243: b'fast',\n 244: b'words',\n 245: b'crumpled',\n 246: b'inside',\n 247: b'panel',\n 248: b'barely',\n 249: b'enough',\n 250: b'space',\n 251: b'right',\n 252: b'sasw',\n 253: b'blur',\n 254: b'ran',\n 255: b'help',\n 256: b'didnt',\n 257: b'wasnt',\n 258: b'moving',\n 259: b'anyway',\n 260: b'yeah',\n 261: b'centered',\n 262: b'markee',\n 263: b'format',\n 264: b'uhonor',\n 265: b'monty',\n 266: b'python',\n 267: b'promote',\n 268: b'surreal',\n 269: b'humor',\n 270: b'tag',\n 271: b'went',\n 272: b'dinner',\n 273: b'minute',\n 274: b'holy',\n 275: b'grail',\n 276: b'quote',\n 277: b'exchanged',\n 278: b'large',\n 279: b'circle',\n 280: b'white',\n 281: b'bubble',\n 282: b'filled',\n 283: b'heart',\n 284: b'question',\n 285: b'couple',\n 286: b'everything',\n 287: b'even',\n 288: b'sure',\n 289: b'feel',\n 290: b'making',\n 291: b'mistake',\n 292: b'made',\n 293: b'anniversary',\n 294: b'card',\n 295: b'thengirlfriend',\n 296: b'layout',\n 297: b'authors',\n 298: b'comment',\n 299: b'one',\n 300: b'entirely',\n 301: b'james',\n 302: b'fault',\n 303: b'talking',\n 304: b'take',\n 305: b'bite',\n 306: b'snapple',\n 307: b'left',\n 308: b'food',\n 309: b'clink',\n 310: b'apple',\n 311: b'infused',\n 312: b'tin',\n 313: b'continue',\n 314: b'frozen',\n 315: b'periodic',\n 316: b'table',\n 317: b'laughing',\n 318: b'tried',\n 319: b'start',\n 320: b'urban',\n 321: b'legend',\n 322: b'george',\n 323: b'clinton',\n 324: b'mathematics',\n 325: b'indicates',\n 326: b'equation',\n 327: b'blackboard',\n 328: b'wanted',\n 329: b'true',\n 330: b'badly',\n 331: b'started',\n 332: b'believing',\n 333: b'wish',\n 334: b'ferret',\n 335: b'airplane',\n 336: b'wing',\n 337: b'friend',\n 338: b'earth',\n 339: b'make',\n 340: b'seriously',\n 341: b'think',\n 342: b'let',\n 343: b'fly',\n 344: b'course',\n 345: b'dumb',\n 346: b'halloween',\n 347: b'costume',\n 348: b'okay',\n 349: b'besides',\n 350: b'want',\n 351: b'pet',\n 352: b'lame',\n 353: b'huh',\n 354: b'play',\n 355: b'video',\n 356: b'game',\n 357: b'leaf',\n 358: b'imago',\n 359: b'flying',\n 360: b'beach',\n 361: b'using',\n 362: b'makeshift',\n 363: b'brother',\n 364: b'died',\n 365: b'since',\n 366: b'drew',\n 367: b'strip',\n 368: b'rip',\n 369: b'aisle',\n 370: b'store',\n 371: b'person',\n 372: b'nice',\n 373: b'clean',\n 374: b'hired',\n 375: b'dude',\n 376: b'named',\n 377: b'kepler',\n 378: b'really',\n 379: b'good',\n 380: b'hard',\n 381: b'worker',\n 382: b'doesnt',\n 383: b'mind',\n 384: b'monotony',\n 385: b'sweeps',\n 386: b'area',\n 387: b'every',\n 388: b'night',\n 389: b'science',\n 390: b'joke',\n 391: b'probably',\n 392: b'move',\n 393: b'along',\n 394: b'vortex',\n 395: b'spinning',\n 396: b'water',\n 397: b'cover',\n 398: b'whole',\n 399: b'apparently',\n 400: b'sucked',\n 401: b'wow',\n 402: b'whirlpool',\n 403: b'collection',\n 404: b'phrase',\n 405: b'tshirts',\n 406: b'matter',\n 407: b'fact',\n 408: b'world',\n 409: b'revolve',\n 410: b'around',\n 411: b'please',\n 412: b'per',\n 413: b'day',\n 414: b'today',\n 415: b'problem',\n 416: b'youre',\n 417: b'stupid',\n 418: b'clue',\n 419: b'look',\n 420: b'like',\n 421: b'village',\n 422: b'called',\n 423: b'idiot',\n 424: b'back',\n 425: b'hate',\n 426: b'die',\n 427: b'maybe',\n 428: b'tshirt',\n 429: b'witty',\n 430: b'someone',\n 431: b'will',\n 432: b'finally',\n 433: b'love',\n 434: b'alone',\n 435: b'depressing',\n 436: b'real',\n 437: b'shirt',\n 438: b'drawn',\n 439: b'unending',\n 440: b'nasa',\n 441: b'lecture',\n 442: b'hatless',\n 443: b'compare',\n 444: b'kid',\n 445: b'past',\n 446: b'belong',\n 447: b'generation',\n 448: b'seems',\n 449: b'awful',\n 450: b'throughout',\n 451: b'history',\n 452: b'hatted',\n 453: b'stuff',\n 454: b'circles',\n 455: b'appearingmaybe',\n 456: b'snow',\n 457: b'hope',\n 458: b'turn',\n 459: b'end',\n 460: b'lead',\n 461: b'crusade',\n 462: b'longer',\n 463: b'presentism',\n 464: b'idea',\n 465: b'historical',\n 466: b'context',\n 467: b'irrelevant',\n 468: b'understand',\n 469: b'need',\n 470: b'warning',\n 471: b'folly',\n 472: b'something',\n 473: b'new',\n 474: b'socrates',\n 475: b'couldnt',\n 476: b'imagine',\n 477: b'internet',\n 478: b'change',\n 479: b'corner',\n 480: b'darker',\n 481: b'lower',\n 482: b'border',\n 483: b'three',\n 484: b'line',\n 485: b'cracking',\n 486: b'pornography',\n 487: b'first',\n 488: b'porn',\n 489: b'photo',\n 490: b'bestial',\n 491: b'nature',\n 492: b'mainstream',\n 493: b'word',\n 494: b'merged',\n 495: b'row',\n 496: b'circled',\n 497: b'uncircled',\n 498: b'never',\n 499: b'highly',\n 500: b'variable',\n 501: b'size',\n 502: b'pressed',\n 503: b'larger',\n 504: b'mass',\n 505: b'different',\n 506: b'dark',\n 507: b'fissure',\n 508: b'part',\n 509: b'half',\n 510: b'cell',\n 511: b'tiny',\n 512: b'square',\n 513: b'center',\n 514: b'giant',\n 515: b'closer',\n 516: b'divided',\n 517: b'rectangle',\n 518: b'fragment',\n 519: b'sideways',\n 520: b'cut',\n 521: b'small',\n 522: b'read',\n 523: b'machine',\n 524: b'language',\n 525: b'translated',\n 526: b'principle',\n 527: b'isomorphism',\n 528: b'consequence',\n 529: b'churchturing',\n 530: b'thesis',\n 531: b'select',\n 532: b'channel',\n 533: b'thou',\n 534: b'shou',\n 535: b'palin',\n 536: b'stri',\n 537: b'crab',\n 538: b'letter',\n 539: b'faded',\n 540: b'mixed',\n 541: b'version',\n 542: b'phone',\n 543: b'call',\n 544: b'goosebumped',\n 545: b'shiver',\n 546: b'drove',\n 547: b'listening',\n 548: b'mix',\n 549: b'tape',\n 550: b'practice',\n 551: b'bottom',\n 552: b'name',\n 553: b'kurt',\n 554: b'previous',\n 555: b'blurred',\n 556: b'scribble',\n 557: b'jagged',\n 558: b'shaded',\n 559: b'shape',\n 560: b'strand',\n 561: b'fall',\n 562: b'faint',\n 563: b'appear',\n 564: b'woman',\n 565: b'amid',\n 566: b'little',\n 567: b'important',\n 568: b'encroaching',\n 569: b'farther',\n 570: b'rough',\n 571: b'hole',\n 572: b'bits',\n 573: b'though',\n 574: b'greatquality',\n 575: b'scan',\n 576: b'shown',\n 577: b'choppy',\n 578: b'sea',\n 579: b'cat',\n 580: b'sharp',\n 581: b'point',\n 582: b'elizabeth',\n 583: b'accidentally',\n 584: b'took',\n 585: b'fourier',\n 586: b'transform',\n 587: b'meow',\n 588: b'alttext',\n 589: b'serious',\n 590: b'component',\n 591: b'fictional',\n 592: b'meat',\n 593: b'based',\n 594: b'cereal',\n 595: b'pork',\n 596: b'loops',\n 597: b'mice',\n 598: b'krispies',\n 599: b'hammios',\n 600: b'frosted',\n 601: b'bacon',\n 602: b'flakes',\n 603: b'scrapple',\n 604: b'jacks',\n 605: b'honey',\n 606: b'bunches',\n 607: b'goats',\n 608: b'disgusting',\n 609: b'cross',\n 610: b'elephant',\n 611: b'rhino',\n 612: b'picture',\n 613: b'mathematical',\n 614: b'addition',\n 615: b'symbol',\n 616: b'equal',\n 617: b'sign',\n 618: b'havent',\n 619: b'goddamn',\n 620: b'correct',\n 621: b'given',\n 622: b'learning',\n 623: b'holocaust',\n 624: b'shaken',\n 625: b'belief',\n 626: b'young',\n 627: b'hitler',\n 628: b'rejected',\n 629: b'art',\n 630: b'school',\n 631: b'shame',\n 632: b'well',\n 633: b'painting',\n 634: b'defy',\n 635: b'rule',\n 636: b'composition',\n 637: b'suggesting',\n 638: b'lover',\n 639: b'public',\n 640: b'hitlers',\n 641: b'bad',\n 642: b'acceptable',\n 643: b'alternative',\n 644: b'secret',\n 645: b'closely',\n 646: b'aram',\n 647: b'hats',\n 648: b'foyer',\n 649: b'restaurant',\n 650: b'entryway',\n 651: b'joes',\n 652: b'menu',\n 653: b'front',\n 654: b'host',\n 655: b'behind',\n 656: b'podium',\n 657: b'eat',\n 658: b'donner',\n 659: b'party',\n 660: b'four',\n 661: b'actually',\n 662: b'heard',\n 663: b'pioneer',\n 664: b'got',\n 665: b'stranded',\n 666: b'likely',\n 667: b'resorted',\n 668: b'cannibalism',\n 669: b'zoomed',\n 670: b'tail',\n 671: b'empty',\n 672: b'carrying',\n 673: b'safety',\n 674: b'happen',\n 675: b'mostly',\n 676: b'doug',\n 677: b'tall',\n 678: b'pillar',\n 679: b'ground',\n 680: b'haven',\n 681: b'ever',\n 682: b'wondered',\n 683: b'color',\n 684: b'everyone',\n 685: b'perception',\n 686: b'might',\n 687: b'human',\n 688: b'experience',\n 689: b'pole',\n 690: b'comic',\n 691: b'redrawn',\n 692: b'rewritten',\n 693: b'promise',\n 694: b'squeeze',\n 695: b'dammit',\n 696: b'lot',\n 697: b'example',\n 698: b'flower',\n 699: b'heading',\n 700: b'highschool',\n 701: b'notebook',\n 702: b'sheep',\n 703: b'potted',\n 704: b'saguaro',\n 705: b'cactus',\n 706: b'linked',\n 707: b'arcing',\n 708: b'yellow',\n 709: b'electricity',\n 710: b'bolt',\n 711: b'graph',\n 712: b'paper',\n 713: b'zapping',\n 714: b'viceversa',\n 715: b'scientist',\n 716: b'calling',\n 717: b'gay',\n 718: b'shoe',\n 719: b'leading',\n 720: b'expert',\n 721: b'characterized',\n 722: b'situation',\n 723: b'retarded',\n 724: b'headline',\n 725: b'hobby',\n 726: b'whenever',\n 727: b'adjectiveass',\n 728: b'noun',\n 729: b'mentally',\n 730: b'hyphen',\n 731: b'resembles',\n 732: b'volkswagen',\n 733: b'beetle',\n 734: b'sweet',\n 735: b'asscar',\n 736: b'constantly',\n 737: b'father',\n 738: b'bowl',\n 739: b'son',\n 740: b'sitting',\n 741: b'playing',\n 742: b'taste',\n 743: b'fuck',\n 744: b'dad',\n 745: b'used',\n 746: b'glaring',\n 747: b'model',\n 748: b'sailing',\n 749: b'ship',\n 750: b'sooner',\n 751: b'run',\n 752: b'moment',\n 753: b'standoff',\n 754: b'crowd',\n 755: b'illuminated',\n 756: b'beam',\n 757: b'light',\n 758: b'confusing',\n 759: b'burn',\n 760: b'brightly',\n 761: b'lost',\n 762: b'beacon',\n 763: b'chainsaw',\n 764: b'recently',\n 765: b'cutdown',\n 766: b'found',\n 767: b'revenge',\n 768: b'snooping',\n 769: b'stumped',\n 770: b'saved',\n 771: b'bunch',\n 772: b'money',\n 773: b'insurance',\n 774: b'threatening',\n 775: b'agent',\n 776: b'golf',\n 777: b'club',\n 778: b'david',\n 779: b'round',\n 780: b'appendage',\n 781: b'six',\n 782: b'leg',\n 783: b'navigating',\n 784: b'environment',\n 785: b'block',\n 786: b'geometric',\n 787: b'construction',\n 788: b'spiders',\n 789: b'wince',\n 790: b'share',\n 791: b'lonely',\n 792: b'staring',\n 793: b'big',\n 794: b'fan',\n 795: b'halsey',\n 796: b'stack',\n 797: b'others',\n 798: b'shoulder',\n 799: b'extends',\n 800: b'frame',\n 801: b'cuboids',\n 802: b'counterredspider',\n 803: b'offensive',\n 804: b'begin',\n 805: b'stop',\n 806: b'hill',\n 807: b'presumably',\n 808: b'grey',\n 809: b'covered',\n 810: b'thick',\n 811: b'streak',\n 812: b'pink',\n 813: b'dot',\n 814: b'brave',\n 815: b'tell',\n 816: b'drive',\n 817: b'caring',\n 818: b'also',\n 819: b'sister',\n 820: b'damn',\n 821: b'shes',\n 822: b'hot',\n 823: b'tycho',\n 824: b'youve',\n 825: b'played',\n 826: b'1995',\n 827: b'snes',\n 828: b'rpg',\n 829: b'seiken',\n 830: b'densetsu',\n 831: b'bother',\n 832: b'penny',\n 833: b'arcade',\n 834: b'already',\n 835: b'mocked',\n 836: b'care',\n 837: b'discarded',\n 838: b'balloon',\n 839: b'malaria',\n 840: b'turned',\n 841: b'fun',\n 842: b'davids',\n 843: b'pieces',\n 844: b'everybody',\n 845: b'dull',\n 846: b'theyve',\n 847: b'unimaginable',\n 848: b'magnificent',\n 849: b'wonderful',\n 850: b'amazing',\n 851: b'hundreds',\n 852: b'thousands',\n 853: b'neil',\n 854: b'gaiman',\n 855: b'sandman',\n 856: b'police',\n 857: b'bust',\n 858: b'drug',\n 859: b'hideout',\n 860: b'sneak',\n 861: b'hide',\n 862: b'jump',\n 863: b'startle',\n 864: b'shooting',\n 865: b'lose',\n 866: b'dead',\n 867: b'body',\n 868: b'pool',\n 869: b'blood',\n 870: b'100',\n 871: b'cosmic',\n 872: b'microwave',\n 873: b'background',\n 874: b'radiation',\n 875: b'axis',\n 876: b'energy',\n 877: b'density',\n 878: b'frequency',\n 879: b'ghz',\n 880: b'peak',\n 881: b'1604ghz',\n 882: b'2hf3',\n 883: b'c21',\n 884: b'ekt1',\n 885: b'work',\n 886: b'bitch',\n 887: b'bonus',\n 888: b'identify',\n 889: b'mathematic',\n 890: b'equations',\n 891: b'follows',\n 892: b'root',\n 893: b'cosinus',\n 894: b'derivative',\n 895: b'respect',\n 896: b'identity',\n 897: b'matrix',\n 898: b'normal',\n 899: b'approach',\n 900: b'useless',\n 901: b'normally',\n 902: b'unusually',\n 903: b'realistic',\n 904: b'xkcd',\n 905: b'pencil',\n 906: b'robert',\n 907: b'smiths',\n 908: b'caption',\n 909: b'underneath',\n 910: b'smith',\n 911: b'coldplays',\n 912: b'clocks',\n 913: b'sings',\n 914: b'cure',\n 915: b'disease',\n 916: b'ooh',\n 917: b'try',\n 918: b'wait',\n 919: b'forever',\n 920: b'said',\n 921: b'second',\n 922: b'drag',\n 923: b'affair',\n 924: b'yes',\n 925: b'hed',\n 926: b'age',\n 927: b'opening',\n 928: b'scott',\n 929: b'gave',\n 930: b'choice',\n 931: b'aww',\n 932: b'titletextopening',\n 933: b'blonde',\n 934: b'graduate',\n 935: b'brunette',\n 936: b'become',\n 937: b'lighthouse',\n 938: b'operator',\n 939: b'overlaid',\n 940: b'lighthouses',\n 941: b'built',\n 942: b'interesting',\n 943: b'piece',\n 944: b'coast',\n 945: b'walk',\n 946: b'swim',\n 947: b'great',\n 948: b'weather',\n 949: b'single',\n 950: b'tower',\n 951: b'rescuing',\n 952: b'going',\n 953: b'grad',\n 954: b'wanna',\n 955: b'come',\n 956: b'break',\n 957: b'watching',\n 958: b'super',\n 959: b'feeling',\n 960: b'smugly',\n 961: b'superior',\n 962: b'steal',\n 963: b'staceys',\n 964: b'walked',\n 965: b'use',\n 966: b'trust',\n 967: b'bet',\n 968: b'mow',\n 969: b'lawn',\n 970: b'squiggly',\n 971: b'design',\n 972: b'together',\n 973: b'crisscrossing',\n 974: b'desire',\n 975: b'tangled',\n 976: b'relation',\n 977: b'simplify',\n 978: b'karnaugh',\n 979: b'map',\n 980: b'circuit',\n 981: b'analysis',\n 982: b'last',\n 983: b'happy',\n 984: b'valentines',\n 985: b'unless',\n 986: b'naked',\n 987: b'admit',\n 988: b'pretend',\n 989: b'kidding',\n 990: b'asolarplexussayswhat',\n 991: b'punch',\n 992: b'chest',\n 993: b'hurt',\n 994: b'hit',\n 995: b'whatever',\n 996: b'cmon',\n 997: b'mom',\n 998: b'masculine',\n 999: b'fag',\n ...}"
     },
     "execution_count": 5,
     "metadata": {},
     "output_type": "execute_result"
    }
   ],
   "source": [
    "dictionary.id2token"
   ],
   "metadata": {
    "collapsed": false,
    "pycharm": {
     "name": "#%%\n"
    }
   }
  },
  {
   "cell_type": "code",
   "execution_count": 4,
   "outputs": [],
   "source": [
    "#   Обучение модели\n",
    "#   id2word - отображение индексов в слова\n",
    "#   num_topics - количество тем\n",
    "#   passes - количество проходов по коллекции (чем больше - тем лучше модель)\n",
    "#   distributed - параллельность обучения если True\n",
    "#   alpha - распределение дирихле 1. Если константа - то симметричный вектор, можно передавать вектор\n",
    "#   eta - распределение дирихле 2\n",
    "ldamodel = models.ldamodel.LdaModel(data, id2word=dictionary, num_topics=5,\n",
    "                                    passes=20, alpha=1.25, eta=1.25)"
   ],
   "metadata": {
    "collapsed": false,
    "pycharm": {
     "name": "#%%\n"
    }
   }
  },
  {
   "cell_type": "code",
   "execution_count": 5,
   "outputs": [],
   "source": [
    "#   Можно сохранять и загружать модели, например\n",
    "#   Сохранение\n",
    "ldamodel.save('ldamodel_xkcd')"
   ],
   "metadata": {
    "collapsed": false,
    "pycharm": {
     "name": "#%%\n"
    }
   }
  },
  {
   "cell_type": "code",
   "execution_count": 6,
   "outputs": [],
   "source": [
    "#   Можно загружать\n",
    "ldamodel = models.ldamodel.LdaModel.load('ldamodel_xkcd')"
   ],
   "metadata": {
    "collapsed": false,
    "pycharm": {
     "name": "#%%\n"
    }
   }
  },
  {
   "cell_type": "code",
   "execution_count": 7,
   "outputs": [
    {
     "name": "stdout",
     "output_type": "stream",
     "text": [
      "Topic 0: 0.002*\"b'exhibit'\" + 0.002*\"b'paul'\" + 0.001*\"b'ron'\" + 0.001*\"b'wave'\" + 0.001*\"b'elaine'\" + 0.001*\"b'roberts'\" + 0.001*\"b'reporter'\" + 0.001*\"b'hurricane'\" + 0.001*\"b'label'\" + 0.001*\"b'cory'\"\n",
      "Topic 1: 0.003*\"b'labeled'\" + 0.002*\"b'line'\" + 0.001*\"b'planet'\" + 0.001*\"b'reference'\" + 0.001*\"b'gliese'\" + 0.001*\"b'map'\" + 0.001*\"b'chart'\" + 0.001*\"b'unallocated'\" + 0.001*\"b'radio'\" + 0.001*\"b'nathan'\"\n",
      "Topic 2: 0.002*\"b'within'\" + 0.001*\"b'relation'\" + 0.001*\"b'goggles'\" + 0.001*\"b'jelly'\" + 0.001*\"b'bean'\" + 0.001*\"b'accurate'\" + 0.001*\"b'link'\" + 0.001*\"b'acne'\" + 0.001*\"b'part'\" + 0.001*\"b'found'\"\n",
      "Topic 3: 0.022*\"b'man'\" + 0.012*\"b'text'\" + 0.011*\"b'person'\" + 0.010*\"b'title'\" + 0.009*\"b'woman'\" + 0.008*\"b'guy'\" + 0.006*\"b'one'\" + 0.005*\"b'girl'\" + 0.005*\"b'just'\" + 0.005*\"b'two'\"\n",
      "Topic 4: 0.002*\"b'island'\" + 0.001*\"b'map'\" + 0.001*\"b'beef'\" + 0.001*\"b'leopard'\" + 0.001*\"b'bag'\" + 0.001*\"b'blogs'\" + 0.001*\"b'spider'\" + 0.001*\"b'sea'\" + 0.001*\"b'north'\" + 0.001*\"b'text'\"\n"
     ]
    }
   ],
   "source": [
    "#   Выведем топы слов\n",
    "for theme, top_words in ldamodel.print_topics(num_topics=10, num_words=10):\n",
    "    print(f'Topic {theme}:', top_words)"
   ],
   "metadata": {
    "collapsed": false,
    "pycharm": {
     "name": "#%%\n"
    }
   }
  },
  {
   "cell_type": "code",
   "execution_count": 8,
   "outputs": [
    {
     "name": "stdout",
     "output_type": "stream",
     "text": [
      "348.40903951698687\n"
     ]
    }
   ],
   "source": [
    "#   Посчитаем величину перплексии (чем меньше - тем лучше). Показывает насколько хорошо распределение описывает исходные данные\n",
    "#   Зависит от данных и количества тем\n",
    "perplexity = ldamodel.log_perplexity(list(data))\n",
    "print(2 ** (-perplexity))"
   ],
   "metadata": {
    "collapsed": false,
    "pycharm": {
     "name": "#%%\n"
    }
   }
  },
  {
   "cell_type": "code",
   "execution_count": null,
   "outputs": [],
   "source": [
    "#   Модель можно удобно обновлять с помощью метода\n",
    "#ldamodel.update('*update_data*', passes=10)"
   ],
   "metadata": {
    "collapsed": false,
    "pycharm": {
     "name": "#%%\n"
    }
   }
  },
  {
   "cell_type": "code",
   "execution_count": 19,
   "outputs": [
    {
     "data": {
      "text/plain": "[(0, 0.06114723),\n (1, 0.057293553),\n (2, 0.05493633),\n (3, 0.7639667),\n (4, 0.06265621)]"
     },
     "execution_count": 19,
     "metadata": {},
     "output_type": "execute_result"
    }
   ],
   "source": [
    "#   Чтобы посмотреть на матрицу тетта (Распределение тем для конкретного документа)\n",
    "doc = list(data)[0]\n",
    "ldamodel.get_document_topics(doc)"
   ],
   "metadata": {
    "collapsed": false,
    "pycharm": {
     "name": "#%%\n"
    }
   }
  },
  {
   "cell_type": "code",
   "execution_count": 10,
   "outputs": [
    {
     "name": "stdout",
     "output_type": "stream",
     "text": [
      "[(0, 2.0), (1, 1.0), (2, 2.0), (3, 1.0), (4, 1.0), (5, 1.0), (6, 1.0), (7, 1.0), (8, 1.0), (9, 1.0), (10, 1.0), (11, 1.0), (12, 1.0), (13, 1.0), (14, 1.0), (15, 1.0), (16, 1.0)]\n"
     ]
    }
   ],
   "source": [
    "print(doc)"
   ],
   "metadata": {
    "collapsed": false,
    "pycharm": {
     "name": "#%%\n"
    }
   }
  }
 ],
 "metadata": {
  "kernelspec": {
   "display_name": "Python 3",
   "language": "python",
   "name": "python3"
  },
  "language_info": {
   "codemirror_mode": {
    "name": "ipython",
    "version": 2
   },
   "file_extension": ".py",
   "mimetype": "text/x-python",
   "name": "python",
   "nbconvert_exporter": "python",
   "pygments_lexer": "ipython2",
   "version": "2.7.6"
  }
 },
 "nbformat": 4,
 "nbformat_minor": 0
}