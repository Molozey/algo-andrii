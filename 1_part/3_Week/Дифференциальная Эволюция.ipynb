{
 "cells": [
  {
   "cell_type": "markdown",
   "source": [
    "## Задание 1"
   ],
   "metadata": {
    "collapsed": false
   }
  },
  {
   "cell_type": "markdown",
   "source": [
    "### Минимизация гладкой функции (градиент?)"
   ],
   "metadata": {
    "collapsed": false
   }
  },
  {
   "cell_type": "code",
   "execution_count": 1,
   "outputs": [],
   "source": [
    "import numpy as np\n",
    "import scipy.optimize as sc\n",
    "import matplotlib.pyplot as plt"
   ],
   "metadata": {
    "collapsed": false,
    "pycharm": {
     "name": "#%%\n"
    }
   }
  },
  {
   "cell_type": "code",
   "execution_count": 2,
   "outputs": [],
   "source": [
    "def work_function(Argument):\n",
    "    return np.sin(Argument / 5) * np.exp(Argument / 10) + 5 * np.exp(-1 * Argument / 2)"
   ],
   "metadata": {
    "collapsed": false,
    "pycharm": {
     "name": "#%%\n"
    }
   }
  },
  {
   "cell_type": "code",
   "execution_count": 3,
   "outputs": [
    {
     "data": {
      "text/plain": "[<matplotlib.lines.Line2D at 0x11ac61fa0>]"
     },
     "execution_count": 3,
     "metadata": {},
     "output_type": "execute_result"
    },
    {
     "data": {
      "text/plain": "<Figure size 432x288 with 1 Axes>",
      "image/png": "[encoded data removed]"
     },
     "metadata": {
      "needs_background": "light"
     },
     "output_type": "display_data"
    }
   ],
   "source": [
    "input_array = np.arange(1,30,0.1)\n",
    "input_array = np.append(input_array,30)\n",
    "plt.plot(input_array, work_function(input_array))"
   ],
   "metadata": {
    "collapsed": false,
    "pycharm": {
     "name": "#%%\n"
    }
   }
  },
  {
   "cell_type": "markdown",
   "source": [
    "### Определение минимума силами sc.optimize.minimize"
   ],
   "metadata": {
    "collapsed": false
   }
  },
  {
   "cell_type": "code",
   "execution_count": 8,
   "outputs": [
    {
     "name": "stdout",
     "output_type": "stream",
     "text": [
      "1.75\n",
      "-11.9\n",
      "Ответы на задание 1\n"
     ]
    }
   ],
   "source": [
    "first_local_minimum = sc.minimize(work_function, method='BFGS', x0=2)\n",
    "print(round(float(first_local_minimum.fun),2))\n",
    "global_minimum = sc.minimize(work_function, method='BFGS', x0=30)\n",
    "print(round(float(global_minimum.fun),2))\n",
    "print('Ответы на задание 1')"
   ],
   "metadata": {
    "collapsed": false,
    "pycharm": {
     "name": "#%%\n"
    }
   }
  },
  {
   "cell_type": "markdown",
   "source": [
    "## Задание 2\n",
    "### Глобальная оптимизация дифференциальной эволюцией"
   ],
   "metadata": {
    "collapsed": false,
    "pycharm": {
     "name": "#%% md\n"
    }
   }
  },
  {
   "cell_type": "code",
   "execution_count": 12,
   "outputs": [
    {
     "name": "stdout",
     "output_type": "stream",
     "text": [
      "-11.9\n",
      "Ответ на задание 2\n"
     ]
    }
   ],
   "source": [
    "global_min_diff = sc.differential_evolution(work_function, [(1,30)])\n",
    "print(round(float(global_min_diff.fun),2))\n",
    "print('Ответ на задание 2')"
   ],
   "metadata": {
    "collapsed": false,
    "pycharm": {
     "name": "#%%\n"
    }
   }
  },
  {
   "cell_type": "markdown",
   "source": [
    "## Задание 3\n",
    "### Разрывная функция через BFGS и через дифф. эволюцию"
   ],
   "metadata": {
    "collapsed": false
   }
  },
  {
   "cell_type": "code",
   "execution_count": 13,
   "outputs": [
    {
     "name": "stdout",
     "output_type": "stream",
     "text": [
      "-5\n",
      "-11.0\n",
      "Ответы на задание 3\n"
     ]
    },
    {
     "data": {
      "text/plain": "<Figure size 432x288 with 1 Axes>",
      "image/png": "[encoded data removed]"
     },
     "metadata": {
      "needs_background": "light"
     },
     "output_type": "display_data"
    }
   ],
   "source": [
    "def int_work_function_for_plot(Argument):\n",
    "    null = []\n",
    "    for obj in Argument:\n",
    "        null.append(int(work_function(obj)))\n",
    "    return null\n",
    "\n",
    "def int_work_function(Argument):\n",
    "    return int(work_function(Argument))\n",
    "\n",
    "plt.plot(input_array,int_work_function_for_plot(input_array))\n",
    "local_min = sc.minimize(int_work_function, method='BFGS', x0= 30)\n",
    "print(local_min.fun)\n",
    "glob_min_diff = sc.differential_evolution(int_work_function, [(1,30)])\n",
    "print(round(float(glob_min_diff.fun),2))\n",
    "print('Ответы на задание 3')"
   ],
   "metadata": {
    "collapsed": false,
    "pycharm": {
     "name": "#%%\n"
    }
   }
  }
 ],
 "metadata": {
  "kernelspec": {
   "display_name": "Python 3",
   "language": "python",
   "name": "python3"
  },
  "language_info": {
   "codemirror_mode": {
    "name": "ipython",
    "version": 2
   },
   "file_extension": ".py",
   "mimetype": "text/x-python",
   "name": "python",
   "nbconvert_exporter": "python",
   "pygments_lexer": "ipython2",
   "version": "2.7.6"
  }
 },
 "nbformat": 4,
 "nbformat_minor": 0
}