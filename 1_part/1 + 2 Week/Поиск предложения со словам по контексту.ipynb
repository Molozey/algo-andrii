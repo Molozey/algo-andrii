{
 "cells": [
  {
   "cell_type": "code",
   "execution_count": 1,
   "metadata": {
    "collapsed": true
   },
   "outputs": [],
   "source": [
    "text_file = open('text_week_2.txt','r')\n",
    "text_array = []\n",
    "a = text_file.readline()\n",
    "while a != '':\n",
    "    text_array.append(a)\n",
    "    a = text_file.readline()\n",
    "def low_case(string_counter):\n",
    "    text_array[string_counter] = text_array[string_counter].lower()\n",
    "\n",
    "for str_index in range(len(text_array)):\n",
    "    low_case(str_index)\n",
    "\n",
    "print(''.join(text_array))"
   ]
  },
  {
   "cell_type": "markdown",
   "source": [
    "# Токенизация"
   ],
   "metadata": {
    "collapsed": false
   }
  },
  {
   "cell_type": "code",
   "execution_count": 2,
   "outputs": [],
   "source": [
    "import re\n",
    "\n",
    "def words_list(a):\n",
    "    a = re.split('[^a-z]',a)\n",
    "    a = [element for element in a if element != '']\n",
    "    return a"
   ],
   "metadata": {
    "collapsed": false,
    "pycharm": {
     "name": "#%%\n"
    }
   }
  },
  {
   "cell_type": "code",
   "execution_count": 3,
   "outputs": [
    {
     "name": "stdout",
     "output_type": "stream",
     "text": [
      "{'in': 11, 'comparison': 1, 'to': 14, 'dogs': 1, 'cats': 4, 'have': 2, 'not': 1, 'undergone': 1, 'major': 2, 'changes': 2, 'during': 1, 'the': 20, 'domestication': 1, 'process': 2, 'as': 6, 'cat': 10, 'simply': 2, 'catenates': 1, 'streams': 1, 'of': 19, 'bytes': 2, 'it': 4, 'can': 3, 'be': 3, 'also': 2, 'used': 1, 'concatenate': 2, 'binary': 1, 'files': 1, 'where': 2, 'will': 2, 'just': 3, 'sequence': 2, 'a': 13, 'common': 1, 'interactive': 1, 'use': 2, 'for': 4, 'single': 1, 'file': 5, 'is': 7, 'output': 3, 'content': 2, 'standard': 1, 'hear': 1, 'sounds': 1, 'too': 2, 'faint': 1, 'or': 3, 'high': 1, 'frequency': 1, 'human': 2, 'ears': 1, 'such': 2, 'those': 1, 'made': 1, 'by': 3, 'mice': 1, 'and': 14, 'other': 2, 'small': 2, 'animals': 1, 'one': 4, 'people': 1, 'deliberately': 1, 'tamed': 1, 'artificial': 1, 'selection': 1, 'they': 1, 'were': 2, 'useful': 1, 'predators': 1, 'vermin': 1, 'domesticated': 1, 'its': 2, 'closest': 1, 'wild': 1, 'ancestor': 1, 'are': 2, 'both': 1, 'diploid': 1, 'organisms': 1, 'that': 2, 'possess': 1, 'chromosomes': 1, 'roughly': 1, 'genes': 1, 'domestic': 1, 'similar': 1, 'size': 1, 'members': 1, 'genus': 1, 'felis': 1, 'typically': 1, 'weighing': 1, 'between': 1, 'kg': 1, 'lb': 1, 'however': 1, 'if': 1, 'piped': 1, 'redirected': 2, 'unnecessary': 1, 'with': 2, 'named': 1, 'safer': 1, 'error': 1, 'concern': 1, 'wrong': 1, 'default': 1, 'redirection': 2, 'symbol': 1, 'instead': 1, 'often': 1, 'adjacent': 1, 'on': 5, 'keyboards': 1, 'may': 1, 'permanently': 1, 'delete': 1, 'you': 5, 'needing': 1, 'read': 1, 'terms': 1, 'legibility': 1, 'commands': 2, 'starting': 1, 'connected': 1, 'pipes': 1, 'has': 4, 'clear': 1, 'left': 1, 'right': 1, 'flow': 1, 'information': 1, 'command': 3, 'basic': 1, 'learned': 1, 'when': 2, 'started': 1, 'unix': 1, 'linux': 1, 'world': 1, 'using': 3, 'lines': 1, 'received': 1, 'from': 1, 'stdin': 2, 'new': 2, 'symbols': 1, 'type': 1, 'without': 1, 'any': 1, 'arguments': 1, 'receives': 1, 'displays': 1, 'stdout': 1, 'leopard': 4, 'was': 2, 'released': 3, 'october': 1, 'successor': 1, 'tiger': 3, 'version': 1, 'available': 1, 'two': 1, 'editions': 1, 'according': 1, 'apple': 8, 'contains': 2, 'over': 2, 'enhancements': 1, 'predecessor': 1, 'mac': 6, 'os': 8, 'x': 9, 'mid': 1, 'some': 1, 'computers': 3, 'firmware': 1, 'factory': 1, 'installed': 2, 'which': 1, 'no': 1, 'longer': 1, 'allow': 1, 'installation': 2, 'since': 1, 'moved': 1, 'intel': 1, 'processors': 1, 'their': 1, 'osx': 1, 'community': 1, 'developed': 1, 'now': 1, 'allows': 1, 'later': 1, 'releases': 1, 'non': 1, 'based': 1, 'mountain': 5, 'lion': 4, 'july': 1, 'purchase': 1, 'download': 1, 'through': 1, 's': 2, 'app': 1, 'store': 1, 'part': 1, 'switch': 1, 'releasing': 2, 'versions': 2, 'online': 1, 'every': 1, 'year': 1, 'patch': 1, 'three': 1, 'most': 1, 'recent': 1, 'safari': 1, 'running': 1, 'yosemite': 1, 'mavericks': 1, 'release': 1, 'marks': 1, 'second': 1, 'time': 1, 'offered': 1, 'an': 2, 'incremental': 1, 'upgrade': 1, 'rather': 1, 'than': 2, 'entirely': 1, 'installs': 1, 'place': 1, 'so': 1, 'won': 1, 't': 1, 'need': 1, 'create': 1, 'separate': 1, 'disk': 1, 'run': 1, 'off': 1, 'external': 1, 'drive': 1, 'fifth': 1, 'update': 1, 'features': 1, 'more': 1, 'count': 1}\n",
      "['in' 'comparison' 'to' 'dogs' 'cats' 'have' 'not' 'undergone' 'major'\n",
      " 'changes' 'during' 'the' 'domestication' 'process' 'as' 'cat' 'simply'\n",
      " 'catenates' 'streams' 'of' 'bytes' 'it' 'can' 'be' 'also' 'used'\n",
      " 'concatenate' 'binary' 'files' 'where' 'will' 'just' 'sequence' 'a'\n",
      " 'common' 'interactive' 'use' 'for' 'single' 'file' 'is' 'output'\n",
      " 'content' 'standard' 'hear' 'sounds' 'too' 'faint' 'or' 'high'\n",
      " 'frequency' 'human' 'ears' 'such' 'those' 'made' 'by' 'mice' 'and'\n",
      " 'other' 'small' 'animals' 'one' 'people' 'deliberately' 'tamed'\n",
      " 'artificial' 'selection' 'they' 'were' 'useful' 'predators' 'vermin'\n",
      " 'domesticated' 'its' 'closest' 'wild' 'ancestor' 'are' 'both' 'diploid'\n",
      " 'organisms' 'that' 'possess' 'chromosomes' 'roughly' 'genes' 'domestic'\n",
      " 'similar' 'size' 'members' 'genus' 'felis' 'typically' 'weighing'\n",
      " 'between' 'kg' 'lb' 'however' 'if' 'piped' 'redirected' 'unnecessary'\n",
      " 'with' 'named' 'safer' 'error' 'concern' 'wrong' 'default' 'redirection'\n",
      " 'symbol' 'instead' 'often' 'adjacent' 'on' 'keyboards' 'may'\n",
      " 'permanently' 'delete' 'you' 'needing' 'read' 'terms' 'legibility'\n",
      " 'commands' 'starting' 'connected' 'pipes' 'has' 'clear' 'left' 'right'\n",
      " 'flow' 'information' 'command' 'basic' 'learned' 'when' 'started' 'unix'\n",
      " 'linux' 'world' 'using' 'lines' 'received' 'from' 'stdin' 'new' 'symbols'\n",
      " 'type' 'without' 'any' 'arguments' 'receives' 'displays' 'stdout'\n",
      " 'leopard' 'was' 'released' 'october' 'successor' 'tiger' 'version'\n",
      " 'available' 'two' 'editions' 'according' 'apple' 'contains' 'over'\n",
      " 'enhancements' 'predecessor' 'mac' 'os' 'x' 'mid' 'some' 'computers'\n",
      " 'firmware' 'factory' 'installed' 'which' 'no' 'longer' 'allow'\n",
      " 'installation' 'since' 'moved' 'intel' 'processors' 'their' 'osx'\n",
      " 'community' 'developed' 'now' 'allows' 'later' 'releases' 'non' 'based'\n",
      " 'mountain' 'lion' 'july' 'purchase' 'download' 'through' 's' 'app'\n",
      " 'store' 'part' 'switch' 'releasing' 'versions' 'online' 'every' 'year'\n",
      " 'patch' 'three' 'most' 'recent' 'safari' 'running' 'yosemite' 'mavericks'\n",
      " 'release' 'marks' 'second' 'time' 'offered' 'an' 'incremental' 'upgrade'\n",
      " 'rather' 'than' 'entirely' 'installs' 'place' 'so' 'won' 't' 'need'\n",
      " 'create' 'separate' 'disk' 'run' 'off' 'external' 'drive' 'fifth'\n",
      " 'update' 'features' 'more' 'count']\n"
     ]
    }
   ],
   "source": [
    "import numpy as np\n",
    "words_freq = {}\n",
    "for count in range(len(text_array)):\n",
    "    work_string = text_array[count]\n",
    "    words_list(work_string)\n",
    "    #print(re.findall(r'\\b[a-z]{1,15}\\b', work_string))\n",
    "    #print(words_list(work_string))\n",
    "    for word in words_list(work_string):\n",
    "        count = words_freq.get(word,0)\n",
    "        words_freq[word] = count + 1\n",
    "print(words_freq)\n",
    "list(words_freq.keys())\n",
    "words_arr = np.array(list(words_freq.items()))\n",
    "print(words_arr[:,0])\n"
   ],
   "metadata": {
    "collapsed": false,
    "pycharm": {
     "name": "#%%\n"
    }
   }
  },
  {
   "cell_type": "code",
   "execution_count": 4,
   "outputs": [
    {
     "data": {
      "text/plain": "<Figure size 720x360 with 1 Axes>",
      "image/png": "[encoded data removed]"
     },
     "metadata": {
      "needs_background": "light"
     },
     "output_type": "display_data"
    }
   ],
   "source": [
    "import matplotlib.pyplot as plt\n",
    "#plt.plot(words_arr[:,0],words_arr[:,1],'o')\n",
    "\n",
    "fig, ax = plt.subplots()\n",
    "\n",
    "ax.barh(words_arr[:,0],words_arr[:,1])\n",
    "\n",
    "#  Устанавливаем позиции тиков:\n",
    "ax.set_yticks(words_arr[:,0])\n",
    "\n",
    "\n",
    "fig.set_figwidth(10)\n",
    "fig.set_figheight(5)\n"
   ],
   "metadata": {
    "collapsed": false,
    "pycharm": {
     "name": "#%%\n"
    }
   }
  },
  {
   "cell_type": "markdown",
   "source": [
    "# Поиск кол-ва конкретных слов в предложении"
   ],
   "metadata": {
    "collapsed": false
   }
  },
  {
   "cell_type": "code",
   "execution_count": 5,
   "outputs": [
    {
     "name": "stdout",
     "output_type": "stream",
     "text": [
      "[1. 1. 1. 1. 1. 1. 1. 1. 1. 1. 1. 1. 1. 1. 0. 0. 0. 0. 0. 0. 0. 0. 0. 0.\n",
      " 0. 0. 0. 0. 0. 0. 0. 0. 0. 0. 0. 0. 0. 0. 0. 0. 0. 0. 0. 0. 0. 0. 0. 0.\n",
      " 0. 0. 0. 0. 0. 0. 0. 0. 0. 0. 0. 0. 0. 0. 0. 0. 0. 0. 0. 0. 0. 0. 0. 0.\n",
      " 0. 0. 0. 0. 0. 0. 0. 0. 0. 0. 0. 0. 0. 0. 0. 0. 0. 0. 0. 0. 0. 0. 0. 0.\n",
      " 0. 0. 0. 0. 0. 0. 0. 0. 0. 0. 0. 0. 0. 0. 0. 0. 0. 0. 0. 0. 0. 0. 0. 0.\n",
      " 0. 0. 0. 0. 0. 0. 0. 0. 0. 0. 0. 0. 0. 0. 0. 0. 0. 0. 0. 0. 0. 0. 0. 0.\n",
      " 0. 0. 0. 0. 0. 0. 0. 0. 0. 0. 0. 0. 0. 0. 0. 0. 0. 0. 0. 0. 0. 0. 0. 0.\n",
      " 0. 0. 0. 0. 0. 0. 0. 0. 0. 0. 0. 0. 0. 0. 0. 0. 0. 0. 0. 0. 0. 0. 0. 0.\n",
      " 0. 0. 0. 0. 0. 0. 0. 0. 0. 0. 0. 0. 0. 0. 0. 0. 0. 0. 0. 0. 0. 0. 0. 0.\n",
      " 0. 0. 0. 0. 0. 0. 0. 0. 0. 0. 0. 0. 0. 0. 0. 0. 0. 0. 0. 0. 0. 0. 0. 0.\n",
      " 0. 0. 0. 0. 0. 0. 0. 0. 0. 0. 0. 0. 0. 0.]\n"
     ]
    },
    {
     "data": {
      "text/plain": "(22, 254)"
     },
     "execution_count": 5,
     "metadata": {},
     "output_type": "execute_result"
    }
   ],
   "source": [
    "#Эту штуку нужно забрать в библиотеку\n",
    "def search_words_in_sentences(all_file,number_of_str):\n",
    "    work_string = words_list(all_file[number_of_str])\n",
    "    freq_in_str_array =[]\n",
    "    for word in words_arr:\n",
    "        checker = word[0]\n",
    "        count = 0\n",
    "        for word_work in work_string:\n",
    "           if word_work == checker:\n",
    "                count += 1\n",
    "        freq_in_str_array.append(count)\n",
    "    return freq_in_str_array\n",
    "\n",
    "\n",
    "\n",
    "Matrix=np.ones([int(len(text_array)),int(len(words_arr[:,0]))])\n",
    "for counter in range(len(text_array)):\n",
    "    search_words_in_sentences(text_array,counter)\n",
    "    Matrix[counter,:] = search_words_in_sentences(text_array,counter)\n",
    "print(Matrix[0,:])\n",
    "Matrix.shape"
   ],
   "metadata": {
    "collapsed": false,
    "pycharm": {
     "name": "#%%\n"
    }
   }
  },
  {
   "cell_type": "markdown",
   "source": [
    "## Косинусное расстояние"
   ],
   "metadata": {
    "collapsed": false
   }
  },
  {
   "cell_type": "code",
   "execution_count": 10,
   "outputs": [],
   "source": [
    "import scipy.spatial.distance\n",
    "Scalar_Dist = []\n",
    "for row in Matrix:\n",
    "    Scalar_Dist.append(scipy.spatial.distance.cosine(Matrix[0,:], row))\n"
   ],
   "metadata": {
    "collapsed": false,
    "pycharm": {
     "name": "#%%\n"
    }
   }
  },
  {
   "cell_type": "markdown",
   "source": [
    "## Ищем 2 минимальных элемента"
   ],
   "metadata": {
    "collapsed": false
   }
  },
  {
   "cell_type": "code",
   "execution_count": 11,
   "outputs": [
    {
     "data": {
      "text/plain": "[(6, 0.7327387580875756), (4, 0.7770887149698589)]"
     },
     "execution_count": 11,
     "metadata": {},
     "output_type": "execute_result"
    }
   ],
   "source": [
    "zipped = zip(range(len(Scalar_Dist)), Scalar_Dist)\n",
    "\n",
    "for row in [index[0] for index in sorted(zipped, key=lambda tup: tup[1], reverse=False)[1:3]]:\n",
    "    print(f'INDEX : {row} \\n')"
   ],
   "metadata": {
    "collapsed": false,
    "pycharm": {
     "name": "#%%\n"
    }
   }
  },
  {
   "cell_type": "code",
   "execution_count": 8,
   "outputs": [
    {
     "name": "stdout",
     "output_type": "stream",
     "text": [
      "[0.9527544408738466, 0.8644738145642124, 0.8951715163278082, 0.7770887149698589, 0.9402385695332803, 0.7327387580875756, 0.9258750683338899, 0.8842724875284311, 0.9055088817476932, 0.8328165362273942, 0.8804771390665607, 0.8396432548525454, 0.8703592552895671, 0.8740118423302576, 0.9442721787424647, 0.8406361854220809, 0.956644501523794, 0.9442721787424647, 0.8885443574849294, 0.8427572744917122, 0.8250364469440588]\n",
      "Первая строка будет такой 6\n",
      "Вторая строка будет такой 4\n"
     ]
    }
   ],
   "source": [
    "Scalar_Dist_2 = Scalar_Dist\n",
    "Scalar_Dist_2.pop(0)\n",
    "print(Scalar_Dist_2)\n",
    "min(Scalar_Dist_2)\n",
    "print('Первая строка будет такой', Scalar_Dist_2.index(min(Scalar_Dist_2)) + 1 )\n",
    "Scalar_Dist_2.pop(Scalar_Dist_2.index(min(Scalar_Dist_2)))\n",
    "min(Scalar_Dist_2)\n",
    "print('Вторая строка будет такой', Scalar_Dist_2.index(min(Scalar_Dist_2)) + 1 )"
   ],
   "metadata": {
    "collapsed": false,
    "pycharm": {
     "name": "#%%\n"
    }
   }
  },
  {
   "cell_type": "markdown",
   "source": [
    "# Задача 2. Штуки с графиком\n"
   ],
   "metadata": {
    "collapsed": false
   }
  },
  {
   "cell_type": "markdown",
   "source": [
    "## Аппроксимация многочленом 1 степени вида w_0 + w_1 * x"
   ],
   "metadata": {
    "collapsed": false
   }
  },
  {
   "cell_type": "code",
   "execution_count": 9,
   "outputs": [
    {
     "name": "stdout",
     "output_type": "stream",
     "text": [
      "function in x = 1  3.252216865271419\n",
      "function on x = 15  0.6352214195786656\n",
      "Matrix A have this view\n",
      "[[   1    1    1    1]\n",
      " [   1    4   16   64]\n",
      " [   1   10  100 1000]\n",
      " [   1   15  225 3375]]\n",
      "------\n",
      "Matrix y have this view\n",
      "[3.25221687 1.74684595 2.50541641 0.63522142]\n",
      "w 0 =  4.362641535118072\n",
      "w 1 =  -1.2955258656948434\n",
      "w 2 =  0.1933368470215116\n",
      "w 3 =  -0.008235651173320554\n"
     ]
    },
    {
     "data": {
      "text/plain": "[<matplotlib.lines.Line2D at 0x11de56be0>,\n <matplotlib.lines.Line2D at 0x11de56cd0>]"
     },
     "execution_count": 9,
     "metadata": {},
     "output_type": "execute_result"
    },
    {
     "data": {
      "text/plain": "<Figure size 432x288 with 1 Axes>",
      "image/png": "[encoded data removed]"
     },
     "metadata": {
      "needs_background": "light"
     },
     "output_type": "display_data"
    }
   ],
   "source": [
    "import scipy\n",
    "import random\n",
    "\n",
    "\n",
    "def work_function(x):\n",
    "    return np.sin(x / 5) * np.exp(x / 10) + 5 * np.exp(-1 * x / 2)\n",
    "\n",
    "\n",
    "x_array = np.arange(1,15,0.1)\n",
    "x_array = np.array(x_array)\n",
    "x_array = np.append(x_array,15)\n",
    "\n",
    "\n",
    "first_x = x_array[0]\n",
    "sec_x = x_array[len(x_array)-1]\n",
    "first_eq = work_function(first_x)\n",
    "print('function in x = 1 ',first_eq)\n",
    "sec_eq = work_function(sec_x)\n",
    "print('function on x = 15 ',sec_eq)\n",
    "\n",
    "def matrix_str(approx_value, x_value):\n",
    "    return_array = [1]\n",
    "    for i in range(1, approx_value + 1):\n",
    "        return_array.append(x_value ** i)\n",
    "    return return_array\n",
    "\n",
    "def kof_matrix_function(x_array_at_str, approx_value):\n",
    "    kof_matrix_from_func = []\n",
    "    values_matrix = []\n",
    "    for obj in x_array_at_str:\n",
    "        kof_matrix_from_func.append(matrix_str(approx_value, obj))\n",
    "        values_matrix.append(work_function(obj))\n",
    "    return kof_matrix_from_func, values_matrix\n",
    "\n",
    "def linear_weights_func(checker_for_worktype, User_array, input_array, approx_value):\n",
    "    if checker_for_worktype == 'User':\n",
    "        X_array_copy = User_array\n",
    "\n",
    "    if checker_for_worktype != 'User':\n",
    "        X_array_copy = random.choices(input_array,k=approx_value + 1)\n",
    "        X_array_copy = np.array(sorted(list(X_array_copy)))\n",
    "        print('Бездушная машина выбрала такие точки', X_array_copy)\n",
    "    if len(X_array_copy) == approx_value + 1:\n",
    "        Matrix_of_W_Coff, Matrix_of_Result = kof_matrix_function(X_array_copy, approx_value)\n",
    "        Matrix_of_W_Coff = np.array(Matrix_of_W_Coff)\n",
    "        Matrix_of_Result = np.array(Matrix_of_Result)\n",
    "        print('Matrix A have this view')\n",
    "        print(Matrix_of_W_Coff)\n",
    "        print('------')\n",
    "        print('Matrix y have this view')\n",
    "        print(Matrix_of_Result)\n",
    "        return scipy.linalg.solve(Matrix_of_W_Coff,Matrix_of_Result)\n",
    "    else:\n",
    "        print('We in trouble, Houston')\n",
    "\n",
    "APPROX_VALUE = 3 # Здесь обитает сколько у нас полиномов будет тусоватся\n",
    "# Не забудь убрать в кавычках User\n",
    "# И это - не забывай что массив который ты передаешь со своими точками\n",
    "# Должен содержать в себе APPROX_VALUE + 1 точек\n",
    "Result = linear_weights_func('User', [1,4,10,15], x_array, APPROX_VALUE)\n",
    "for i in range(len(Result)):\n",
    "    print('w',str(i),'= ',Result[i])\n",
    "\n",
    "def weight_graph(x, approx_value):\n",
    "    summator = 0\n",
    "    for Coin in range(approx_value + 1):\n",
    "        summator = summator + Result[Coin] * x ** Coin\n",
    "    return summator\n",
    "\n",
    "#weight_graph(x_array, 1)\n",
    "plt.plot(x_array,work_function(x_array),x_array,weight_graph(x_array, APPROX_VALUE))\n"
   ],
   "metadata": {
    "collapsed": false,
    "pycharm": {
     "name": "#%%\n"
    }
   }
  }
 ],
 "metadata": {
  "kernelspec": {
   "display_name": "Python 3",
   "language": "python",
   "name": "python3"
  },
  "language_info": {
   "codemirror_mode": {
    "name": "ipython",
    "version": 2
   },
   "file_extension": ".py",
   "mimetype": "text/x-python",
   "name": "python",
   "nbconvert_exporter": "python",
   "pygments_lexer": "ipython2",
   "version": "2.7.6"
  }
 },
 "nbformat": 4,
 "nbformat_minor": 0
}