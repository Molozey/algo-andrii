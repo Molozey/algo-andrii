{
 "cells": [
  {
   "cell_type": "code",
   "execution_count": 1,
   "metadata": {
    "pycharm": {
     "name": "#%%\n"
    }
   },
   "outputs": [
    {
     "name": "stdout",
     "output_type": "stream",
     "text": [
      "Numpy version 1.20.1\n",
      "Scipy version 1.6.0\n",
      "Pandas version 1.2.2\n",
      "MathPlot version 3.3.4\n"
     ]
    }
   ],
   "source": [
    "import numpy as np\n",
    "print('Numpy version',np.__version__)\n",
    "import scipy as sc\n",
    "print('Scipy version',sc.__version__)\n",
    "import pandas as pd\n",
    "print('Pandas version',pd.__version__)\n",
    "import matplotlib as plt\n",
    "print('MathPlot version',plt.__version__)\n"
   ]
  },
  {
   "cell_type": "markdown",
   "source": [
    "# Pandas"
   ],
   "metadata": {
    "collapsed": false
   }
  },
  {
   "cell_type": "code",
   "execution_count": 2,
   "outputs": [
    {
     "name": "stdout",
     "output_type": "stream",
     "text": [
      "<class 'pandas.core.frame.DataFrame'>\n",
      "RangeIndex: 6 entries, 0 to 5\n",
      "Data columns (total 5 columns):\n",
      " #   Column     Non-Null Count  Dtype \n",
      "---  ------     --------------  ----- \n",
      " 0   Name       6 non-null      object\n",
      " 1   Birth      6 non-null      object\n",
      " 2   City       6 non-null      object\n",
      " 3   Position   4 non-null      object\n",
      " 4   Car Owner  6 non-null      int64 \n",
      "dtypes: int64(1), object(4)\n",
      "memory usage: 368.0+ bytes\n"
     ]
    }
   ],
   "source": [
    "a = [False ,False, True, True, False, True, False, True, True, True]\n",
    "b = [False, False, True, False, False, True, False]\n",
    "frame = pd.read_csv('Data_week_1.tsv', header=0, sep='\\t')\n",
    "def collapse(x):\n",
    "    def arr(i):\n",
    "        return (a[i]+b[i]) % 2\n",
    "    return list(map(arr, range(x)))\n",
    "#frame['Car Owner'] = list(a[i] + b[i] for i in range(3))\n",
    "frame['Car Owner'] = collapse(len(frame))\n",
    "frame.info()"
   ],
   "metadata": {
    "collapsed": false,
    "pycharm": {
     "name": "#%%\n"
    }
   }
  },
  {
   "cell_type": "code",
   "execution_count": 3,
   "outputs": [],
   "source": [
    "def nan_remover(data, coloumn, new_str):\n",
    "    def job(data_body_2):\n",
    "        if str(data_body_2) == 'nan':\n",
    "            return new_str\n",
    "        else:\n",
    "            return data_body_2\n",
    "\n",
    "    listed = []\n",
    "    for i in range(len(data)):\n",
    "        data_body = data[coloumn][i]\n",
    "        listed.append(job(data_body))\n",
    "    return listed\n",
    "\n",
    "frame['Position'] = nan_remover(frame,'Position','безработынй')\n",
    "frame.Birth = frame.Birth.apply(pd.to_datetime)"
   ],
   "metadata": {
    "collapsed": false,
    "pycharm": {
     "name": "#%%\n"
    }
   }
  },
  {
   "cell_type": "code",
   "execution_count": 4,
   "outputs": [
    {
     "name": "stderr",
     "output_type": "stream",
     "text": [
      "<ipython-input-4-805f93044d84>:1: FutureWarning: The pandas.datetime class is deprecated and will be removed from pandas in a future version. Import from datetime module instead.\n",
      "  frame[(frame.City != 'Москва') |  (frame.Birth >= pd.datetime(1985,1,1))]\n"
     ]
    },
    {
     "data": {
      "text/plain": "              Name      Birth       City     Position  Car Owner\n1     Сорокин И.В. 1965-07-08  Волгоград      инженер          0\n2       Белов М.М. 1980-02-13     Ростов     менеджер          0\n3  Мельникова Д.С. 1985-04-15     Ростов  безработынй          1\n4      Рыбина Е.П. 1985-11-19     Москва      инженер          0\n5     Костров С.О. 1985-05-31     Москва       стажер          0",
      "text/html": "<div>\n<style scoped>\n    .dataframe tbody tr th:only-of-type {\n        vertical-align: middle;\n    }\n\n    .dataframe tbody tr th {\n        vertical-align: top;\n    }\n\n    .dataframe thead th {\n        text-align: right;\n    }\n</style>\n<table border=\"1\" class=\"dataframe\">\n  <thead>\n    <tr style=\"text-align: right;\">\n      <th></th>\n      <th>Name</th>\n      <th>Birth</th>\n      <th>City</th>\n      <th>Position</th>\n      <th>Car Owner</th>\n    </tr>\n  </thead>\n  <tbody>\n    <tr>\n      <th>1</th>\n      <td>Сорокин И.В.</td>\n      <td>1965-07-08</td>\n      <td>Волгоград</td>\n      <td>инженер</td>\n      <td>0</td>\n    </tr>\n    <tr>\n      <th>2</th>\n      <td>Белов М.М.</td>\n      <td>1980-02-13</td>\n      <td>Ростов</td>\n      <td>менеджер</td>\n      <td>0</td>\n    </tr>\n    <tr>\n      <th>3</th>\n      <td>Мельникова Д.С.</td>\n      <td>1985-04-15</td>\n      <td>Ростов</td>\n      <td>безработынй</td>\n      <td>1</td>\n    </tr>\n    <tr>\n      <th>4</th>\n      <td>Рыбина Е.П.</td>\n      <td>1985-11-19</td>\n      <td>Москва</td>\n      <td>инженер</td>\n      <td>0</td>\n    </tr>\n    <tr>\n      <th>5</th>\n      <td>Костров С.О.</td>\n      <td>1985-05-31</td>\n      <td>Москва</td>\n      <td>стажер</td>\n      <td>0</td>\n    </tr>\n  </tbody>\n</table>\n</div>"
     },
     "execution_count": 4,
     "metadata": {},
     "output_type": "execute_result"
    }
   ],
   "source": [
    "frame[(frame.City != 'Москва') |  (frame.Birth >= pd.datetime(1985,1,1))]\n"
   ],
   "metadata": {
    "collapsed": false,
    "pycharm": {
     "name": "#%%\n"
    }
   }
  },
  {
   "cell_type": "markdown",
   "source": [
    "# Библиотеки Scipy и Numpy"
   ],
   "metadata": {
    "collapsed": false
   }
  },
  {
   "cell_type": "code",
   "execution_count": 5,
   "outputs": [
    {
     "name": "stdout",
     "output_type": "stream",
     "text": [
      "<class 'list'>\n",
      "<class 'numpy.ndarray'>\n"
     ]
    },
    {
     "data": {
      "text/plain": "array([0, 1, 9])"
     },
     "execution_count": 5,
     "metadata": {},
     "output_type": "execute_result"
    }
   ],
   "source": [
    "x = list(map(lambda i: i**2, range(5)))\n",
    "y = np.array(x)\n",
    "print(type(x))\n",
    "print(type(y))\n",
    "y[[0,1,3]]"
   ],
   "metadata": {
    "collapsed": false,
    "pycharm": {
     "name": "#%%\n"
    }
   }
  },
  {
   "cell_type": "code",
   "execution_count": 6,
   "outputs": [
    {
     "data": {
      "text/plain": "2"
     },
     "execution_count": 6,
     "metadata": {},
     "output_type": "execute_result"
    }
   ],
   "source": [
    "x = [list(map(lambda i: i**2, range(5))),list(map(lambda i: i+2, range(5)))]\n",
    "y = np.array(x)\n",
    "y[1,0]"
   ],
   "metadata": {
    "collapsed": false,
    "pycharm": {
     "name": "#%%\n"
    }
   }
  },
  {
   "cell_type": "code",
   "execution_count": 7,
   "outputs": [
    {
     "name": "stderr",
     "output_type": "stream",
     "text": [
      "<ipython-input-7-8124e0b95d5b>:4: VisibleDeprecationWarning: Creating an ndarray from ragged nested sequences (which is a list-or-tuple of lists-or-tuples-or ndarrays with different lengths or shapes) is deprecated. If you meant to do this, you must specify 'dtype=object' when creating the ndarray.\n",
      "  np.array(z)\n"
     ]
    },
    {
     "data": {
      "text/plain": "array([array([0. , 0.1, 0.2, 0.3, 0.4, 0.5, 0.6, 0.7, 0.8, 0.9]),\n       array([0. , 0.5, 1. , 1.5])], dtype=object)"
     },
     "execution_count": 7,
     "metadata": {},
     "output_type": "execute_result"
    }
   ],
   "source": [
    "z=[]\n",
    "z.append(np.arange(0,1,0.1))\n",
    "z.append(np.arange(0,2,0.5))\n",
    "np.array(z)"
   ],
   "metadata": {
    "collapsed": false,
    "pycharm": {
     "name": "#%%\n"
    }
   }
  },
  {
   "cell_type": "markdown",
   "source": [
    "# SciPy"
   ],
   "metadata": {
    "collapsed": false
   }
  },
  {
   "cell_type": "code",
   "execution_count": 8,
   "outputs": [
    {
     "data": {
      "text/plain": "3.0"
     },
     "execution_count": 8,
     "metadata": {},
     "output_type": "execute_result"
    }
   ],
   "source": [
    "def sqr(xl,yl , const):\n",
    "    return (xl[0]-yl[0])**2 + (xl[1]-yl[1])**2 + const\n",
    "sqr([4.2,5.1],[4.2,5.1],3)"
   ],
   "metadata": {
    "collapsed": false,
    "pycharm": {
     "name": "#%%\n"
    }
   }
  },
  {
   "cell_type": "code",
   "execution_count": 9,
   "outputs": [],
   "source": [
    "from scipy import optimize"
   ],
   "metadata": {
    "collapsed": false,
    "pycharm": {
     "name": "#%%\n"
    }
   }
  },
  {
   "cell_type": "code",
   "execution_count": 10,
   "outputs": [
    {
     "name": "stdout",
     "output_type": "stream",
     "text": [
      "[1.2        2.39999998]\n"
     ]
    }
   ],
   "source": [
    "def sqr_simp(x):\n",
    "    return (x[0] - 1.2) ** 2 +(x[1] - 2.4) **2 + 3\n",
    "minimum_x = optimize.minimize(sqr_simp,[1,1])\n",
    "print(minimum_x.x)\n"
   ],
   "metadata": {
    "collapsed": false,
    "pycharm": {
     "name": "#%%\n"
    }
   }
  },
  {
   "cell_type": "markdown",
   "source": [
    "## Решение систем уравнений"
   ],
   "metadata": {
    "collapsed": false
   }
  },
  {
   "cell_type": "code",
   "execution_count": 11,
   "outputs": [
    {
     "name": "stdout",
     "output_type": "stream",
     "text": [
      "[3. 6. 7.]\n",
      "[9. 6. 7.]\n"
     ]
    }
   ],
   "source": [
    "from scipy import linalg\n",
    "a = [[1,1,0],[0,1,0],[0,0,1]]\n",
    "b = [9,6,7]\n",
    "x = linalg.solve(a,b)\n",
    "print(x)\n",
    "print(np.dot(a,x))"
   ],
   "metadata": {
    "collapsed": false,
    "pycharm": {
     "name": "#%%\n"
    }
   }
  },
  {
   "cell_type": "markdown",
   "source": [
    "## MathPlotLib"
   ],
   "metadata": {
    "collapsed": false
   }
  },
  {
   "cell_type": "code",
   "execution_count": 12,
   "outputs": [],
   "source": [
    "%matplotlib inline"
   ],
   "metadata": {
    "collapsed": false,
    "pycharm": {
     "name": "#%%\n"
    }
   }
  },
  {
   "cell_type": "code",
   "execution_count": 14,
   "outputs": [
    {
     "name": "stdout",
     "output_type": "stream",
     "text": [
      "[-20 -15 -10  -5   0]\n",
      "[59.09312593 21.20023311  8.73701109  6.94543913  0.76889315]\n"
     ]
    },
    {
     "data": {
      "text/plain": "<Figure size 432x288 with 1 Axes>",
      "image/png": "[encoded data removed]"
     },
     "metadata": {
      "needs_background": "light"
     },
     "output_type": "display_data"
    }
   ],
   "source": [
    "import pylab as graph\n",
    "from scipy import interpolate\n",
    "x = np.arange(-20,20,5)\n",
    "y = np.exp(-x/5) + np.random.randn(len(x)) * 2\n",
    "print(x[:5])\n",
    "print(y[:5])\n",
    "func = interpolate.interp1d(x,y,kind='linear')\n",
    "xin = x\n",
    "yin = func(x)\n",
    "graph.plot(x,y,'o',xin,yin,'-')\n",
    "graph.show()\n",
    "%timeit"
   ],
   "metadata": {
    "collapsed": false,
    "pycharm": {
     "name": "#%%\n"
    }
   }
  },
  {
   "cell_type": "markdown",
   "source": [
    "# Решение оптимизационных задач"
   ],
   "metadata": {
    "collapsed": false
   }
  },
  {
   "cell_type": "code",
   "execution_count": null,
   "outputs": [],
   "source": [
    "# Функция выбирается для тестов потому что интересный минимум\n",
    "def roz(x):\n",
    "    return 0.5*(1-x[0]) ** 2 + (x[1] - x[0]**2) ** 2\n",
    "print(roz([1.,1.]))"
   ],
   "metadata": {
    "collapsed": false,
    "pycharm": {
     "name": "#%%\n"
    }
   }
  },
  {
   "cell_type": "code",
   "execution_count": null,
   "outputs": [],
   "source": [
    "#Быстро на простых функциях\n",
    "print(optimize.brute(roz,((-5,5),(-5,5))))\n",
    "#Медленно но правильно\n",
    "print(optimize.differential_evolution(roz,((-5,5),(-5,5))))"
   ],
   "metadata": {
    "collapsed": false,
    "pycharm": {
     "name": "#%%\n"
    }
   }
  },
  {
   "cell_type": "code",
   "execution_count": null,
   "outputs": [],
   "source": [
    "#Так проверяем что с градиентом все нормально\n",
    "def grad_roz(x):\n",
    "    grad_x1 = (2*(x[1] - x[0] **2))\n",
    "    grad_x0 = (-1*(1-x[0]) - 4 * x[0]*(x[1] - x[0]**2))\n",
    "    return np.array([grad_x0,grad_x1])\n",
    "\n",
    "#Градиент функции в каких-либо точках\n",
    "def grad_func(x):\n",
    "    return optimize.approx_fprime(x, roz, epsilon=0.01)\n",
    "   # print(optimize.approx_fprime(x, roz, epsilon=0.01))\n",
    "#print(optimize.check_grad(roz,grad_roz,[2, 2]))\n",
    "#grad_func([2,2])\n",
    "print(grad_roz([2,2]))\n",
    "print(optimize.check_grad(roz,grad_roz,[2,2]))"
   ],
   "metadata": {
    "collapsed": false,
    "pycharm": {
     "name": "#%%\n"
    }
   }
  },
  {
   "cell_type": "code",
   "execution_count": null,
   "outputs": [],
   "source": [
    "print(optimize.fmin_bfgs(roz,[2,2]))"
   ],
   "metadata": {
    "collapsed": false,
    "pycharm": {
     "name": "#%%\n"
    }
   }
  },
  {
   "cell_type": "code",
   "execution_count": null,
   "outputs": [],
   "source": [
    "#Общая форма для нахождения минимума\n",
    "print(optimize.minimize(roz,[2,2],method='BFGS',jac=grad_roz))"
   ],
   "metadata": {
    "collapsed": false,
    "pycharm": {
     "name": "#%%\n"
    }
   }
  },
  {
   "cell_type": "code",
   "execution_count": null,
   "outputs": [],
   "source": [
    "#0 1\n",
    "a = np.eye(4,5)\n",
    "print(a[[0,3],[1,3]])\n"
   ],
   "metadata": {
    "collapsed": false,
    "pycharm": {
     "name": "#%%\n"
    }
   }
  }
 ],
 "metadata": {
  "kernelspec": {
   "display_name": "Python 3",
   "language": "python",
   "name": "python3"
  },
  "language_info": {
   "codemirror_mode": {
    "name": "ipython",
    "version": 3
   },
   "file_extension": ".py",
   "mimetype": "text/x-python",
   "name": "python",
   "nbconvert_exporter": "python",
   "pygments_lexer": "ipython3",
   "version": "3.9.1"
  }
 },
 "nbformat": 4,
 "nbformat_minor": 1
}