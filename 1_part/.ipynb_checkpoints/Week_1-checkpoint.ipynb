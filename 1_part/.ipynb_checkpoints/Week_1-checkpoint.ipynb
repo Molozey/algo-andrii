{
 "cells": [
  {
   "cell_type": "code",
   "execution_count": 2,
   "metadata": {},
   "outputs": [
    {
     "name": "stdout",
     "output_type": "stream",
     "text": [
      "Numpy version 1.20.1\n",
      "Scipy version 1.6.0\n",
      "Pandas version 1.2.2\n",
      "MathPlot version 3.3.4\n"
     ]
    }
   ],
   "source": [
    "import numpy as np\n",
    "print('Numpy version',np.__version__)\n",
    "import scipy as sc\n",
    "print('Scipy version',sc.__version__)\n",
    "import pandas as pd\n",
    "print('Pandas version',pd.__version__)\n",
    "import matplotlib as plt\n",
    "print('MathPlot version',plt.__version__)"
   ]
  },
  {
   "cell_type": "markdown",
   "metadata": {},
   "source": [
    "# Машинное обучение и анализ данных\n",
    "## Математика и Python\n",
    "Задание 1"
   ]
  },
  {
   "cell_type": "code",
   "execution_count": null,
   "metadata": {},
   "outputs": [],
   "source": []
  }
 ],
 "metadata": {
  "kernelspec": {
   "display_name": "Python 3",
   "language": "python",
   "name": "python3"
  },
  "language_info": {
   "codemirror_mode": {
    "name": "ipython",
    "version": 3
   },
   "file_extension": ".py",
   "mimetype": "text/x-python",
   "name": "python",
   "nbconvert_exporter": "python",
   "pygments_lexer": "ipython3",
   "version": "3.9.1"
  }
 },
 "nbformat": 4,
 "nbformat_minor": 1
}
