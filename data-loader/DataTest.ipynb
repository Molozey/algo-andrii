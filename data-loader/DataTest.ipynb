{
 "cells": [
  {
   "cell_type": "code",
   "execution_count": 8,
   "id": "475ad514",
   "metadata": {},
   "outputs": [],
   "source": [
    "tickers = ['AUDCAD', 'AUDUSD', 'CHFJPY', 'EURCHF', 'EURGBP', 'EURUSD', 'GBPJPY', \n",
    "           'GBPUSD', 'NZDUSD', 'USDCAD', 'USDCHF', 'USDJPY', 'USDRUB']"
   ]
  },
  {
   "cell_type": "code",
   "execution_count": 5,
   "id": "86116755",
   "metadata": {},
   "outputs": [],
   "source": [
    "# from sqlalchemy import create_engine\n",
    "import pymysql\n",
    "import paramiko\n",
    "import pandas as pd\n",
    "from paramiko import SSHClient\n",
    "from sshtunnel import SSHTunnelForwarder\n",
    "from os.path import expanduser"
   ]
  },
  {
   "cell_type": "code",
   "execution_count": 6,
   "id": "b4d392a7",
   "metadata": {},
   "outputs": [],
   "source": [
    "mypkey = paramiko.RSAKey.from_private_key_file('/home/orventro/orventro.pem')"
   ]
  },
  {
   "cell_type": "code",
   "execution_count": 31,
   "id": "a44aa2e8",
   "metadata": {},
   "outputs": [
    {
     "name": "stdout",
     "output_type": "stream",
     "text": [
      "EURGBP table created\n",
      "Starting data transfer to EURGBP.\n"
     ]
    },
    {
     "name": "stderr",
     "output_type": "stream",
     "text": [
      "Exception during reset or similar\n",
      "Traceback (most recent call last):\n",
      "  File \"/home/orventro/.local/lib/python3.8/site-packages/sqlalchemy/pool/base.py\", line 682, in _finalize_fairy\n",
      "    fairy._reset(pool)\n",
      "  File \"/home/orventro/.local/lib/python3.8/site-packages/sqlalchemy/pool/base.py\", line 887, in _reset\n",
      "    pool._dialect.do_rollback(self)\n",
      "  File \"/home/orventro/.local/lib/python3.8/site-packages/sqlalchemy/engine/default.py\", line 667, in do_rollback\n",
      "    dbapi_connection.rollback()\n",
      "  File \"/home/orventro/.local/lib/python3.8/site-packages/pymysql/connections.py\", line 480, in rollback\n",
      "    self._read_ok_packet()\n",
      "  File \"/home/orventro/.local/lib/python3.8/site-packages/pymysql/connections.py\", line 443, in _read_ok_packet\n",
      "    pkt = self._read_packet()\n",
      "  File \"/home/orventro/.local/lib/python3.8/site-packages/pymysql/connections.py\", line 692, in _read_packet\n",
      "    packet_header = self._read_bytes(4)\n",
      "  File \"/home/orventro/.local/lib/python3.8/site-packages/pymysql/connections.py\", line 748, in _read_bytes\n",
      "    raise err.OperationalError(\n",
      "pymysql.err.OperationalError: (2013, 'Lost connection to MySQL server during query')\n",
      "Exception during reset or similar\n",
      "Traceback (most recent call last):\n",
      "  File \"/home/orventro/.local/lib/python3.8/site-packages/sqlalchemy/pool/base.py\", line 682, in _finalize_fairy\n",
      "    fairy._reset(pool)\n",
      "  File \"/home/orventro/.local/lib/python3.8/site-packages/sqlalchemy/pool/base.py\", line 887, in _reset\n",
      "    pool._dialect.do_rollback(self)\n",
      "  File \"/home/orventro/.local/lib/python3.8/site-packages/sqlalchemy/engine/default.py\", line 667, in do_rollback\n",
      "    dbapi_connection.rollback()\n",
      "  File \"/home/orventro/.local/lib/python3.8/site-packages/pymysql/connections.py\", line 480, in rollback\n",
      "    self._read_ok_packet()\n",
      "  File \"/home/orventro/.local/lib/python3.8/site-packages/pymysql/connections.py\", line 443, in _read_ok_packet\n",
      "    pkt = self._read_packet()\n",
      "  File \"/home/orventro/.local/lib/python3.8/site-packages/pymysql/connections.py\", line 692, in _read_packet\n",
      "    packet_header = self._read_bytes(4)\n",
      "  File \"/home/orventro/.local/lib/python3.8/site-packages/pymysql/connections.py\", line 748, in _read_bytes\n",
      "    raise err.OperationalError(\n",
      "pymysql.err.OperationalError: (2013, 'Lost connection to MySQL server during query')\n"
     ]
    },
    {
     "name": "stdout",
     "output_type": "stream",
     "text": [
      "EURUSD table created\n",
      "Starting data transfer to EURUSD.\n",
      "GBPJPY table created\n",
      "Starting data transfer to GBPJPY.\n",
      "GBPUSD table created\n",
      "Starting data transfer to GBPUSD.\n",
      "NZDUSD table created\n",
      "Starting data transfer to NZDUSD.\n",
      "USDCAD table created\n",
      "Starting data transfer to USDCAD.\n",
      "USDCHF table created\n",
      "Starting data transfer to USDCHF.\n",
      "USDJPY table created\n",
      "Starting data transfer to USDJPY.\n",
      "USDRUB table created\n",
      "Starting data transfer to USDRUB.\n"
     ]
    }
   ],
   "source": [
    "sql_hostname = '23.23.90.225'\n",
    "sql_username = 'research'\n",
    "sql_password = '0xResearch'\n",
    "sql_main_database = 'ib_data'\n",
    "\n",
    "with SSHTunnelForwarder(\n",
    "        (ssh_host, ssh_port),\n",
    "        ssh_username=ssh_user,\n",
    "        ssh_pkey=mypkey,\n",
    "        remote_bind_address=(sql_hostname, sql_port)) as tunnel:\n",
    "#     conn = pymysql.connect(host='127.0.0.1', user=sql_username,\n",
    "#             passwd=sql_password, db=sql_main_database,\n",
    "#             port=tunnel.local_bind_port)\n",
    "    engine = create_engine(f'mysql+pymysql://{sql_username}:{sql_password}@{sql_hostname}:{tunnel.local_bind_port}/{sql_main_database}')\n",
    "    conn = engine.raw_connection() \n",
    "    cursor = conn.cursor()\n",
    "    created_tables = set(pd.read_sql_query(f'select name from main_index', conn)['name'])\n",
    "    for t in tickers:\n",
    "#         if t not in created_tables:\n",
    "#             transaction_insert = f\"insert into main_index(type, name) values (2, '{t}');\"\n",
    "#             transaction_create_table =f\"CREATE table {t}(time datetime primary key, open float, high float, low float, close float);\"\n",
    "#             cursor.execute(transaction_insert)\n",
    "#             cursor.execute(transaction_create_table)\n",
    "#             conn.commit()\n",
    "#             print(f'{t} table created')\n",
    "        \n",
    "        contract = int(pd.read_sql_query(f'select count(*) from {t}', conn)['count(*)'][0])\n",
    "        if row_num > 1000:\n",
    "            continue\n",
    "\n",
    "        \n",
    "\n",
    "        print(f'Starting data transfer to {t}.')\n",
    "        \n",
    "        df = pd.read_csv(t+'.csv', index_col='time')\n",
    "        df['contract'] = \n",
    "        df.rename(columns={'date' : 'time'})\n",
    "        df.to_sql('bars', engine, if_exists='append')\n",
    "        \n",
    "    conn.close()"
   ]
  },
  {
   "cell_type": "code",
   "execution_count": 58,
   "id": "5d585fe3",
   "metadata": {},
   "outputs": [
    {
     "data": {
      "text/plain": [
       "['EURCHF']"
      ]
     },
     "execution_count": 58,
     "metadata": {},
     "output_type": "execute_result"
    }
   ],
   "source": [
    "list(data['name'])"
   ]
  },
  {
   "cell_type": "code",
   "execution_count": null,
   "id": "c4bb9e94",
   "metadata": {},
   "outputs": [],
   "source": []
  }
 ],
 "metadata": {
  "kernelspec": {
   "display_name": "Python 3 (ipykernel)",
   "language": "python",
   "name": "python3"
  },
  "language_info": {
   "codemirror_mode": {
    "name": "ipython",
    "version": 3
   },
   "file_extension": ".py",
   "mimetype": "text/x-python",
   "name": "python",
   "nbconvert_exporter": "python",
   "pygments_lexer": "ipython3",
   "version": "3.8.10"
  }
 },
 "nbformat": 4,
 "nbformat_minor": 5
}
