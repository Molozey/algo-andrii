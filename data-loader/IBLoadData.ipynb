{
 "cells": [
  {
   "cell_type": "code",
   "execution_count": 2,
   "id": "043a9dff",
   "metadata": {},
   "outputs": [],
   "source": [
    "from ib_insync import *\n",
    "from datetime import datetime, timedelta\n",
    "from dateutil.relativedelta import relativedelta\n",
    "import pandas as pd"
   ]
  },
  {
   "cell_type": "code",
   "execution_count": 8,
   "id": "ceecfb9d",
   "metadata": {},
   "outputs": [
    {
     "data": {
      "text/plain": [
       "<IB connected to 127.0.0.1:7497 clientId=1>"
      ]
     },
     "execution_count": 8,
     "metadata": {},
     "output_type": "execute_result"
    }
   ],
   "source": [
    "util.startLoop()\n",
    "ib = IB()\n",
    "ib.connect('127.0.0.1', 7497, clientId=1)"
   ]
  },
  {
   "cell_type": "code",
   "execution_count": null,
   "id": "89b9e8ce",
   "metadata": {},
   "outputs": [],
   "source": [
    "def loadData(contract, name, start, end, barSize='1 min'):\n",
    "    bars = ib.reqHistoricalData(\n",
    "        contract, endDateTime=end.strftime('%Y%m%d %H:%m:%S'), \n",
    "        durationStr='1 D', barSizeSetting=barSize, whatToShow='MIDPOINT', useRTH=True)\n",
    "    end -= timedelta(days=1)\n",
    "    df = util.df(bars)\n",
    "    k = 0\n",
    "    while end > start:\n",
    "        print('Got ' +end.strftime('%Y-%m-%d'))\n",
    "        bars = ib.reqHistoricalData(\n",
    "            contract, endDateTime=end.strftime('%Y%m%d %H:%m:%S'), \n",
    "            durationStr='1 D', barSizeSetting=barSize, whatToShow='MIDPOINT', useRTH=True)\n",
    "        end -= timedelta(days=1)\n",
    "        df = df.append(util.df(bars))\n",
    "        k += 1\n",
    "        # checkpoints\n",
    "#         if k % 100 == 0:\n",
    "#             df.drop(['volume', 'average', 'barCount'], axis=1).sort_values('date', axis=0).to_csv(f'{name}_{k/100}.csv', index=False)\n",
    "    return df.drop(['volume', 'average', 'barCount'], axis=1)\\\n",
    "            .sort_values('date', axis=0)\\\n",
    "            .drop_duplicates(subset=['date'], inplace=True)"
   ]
  },
  {
   "cell_type": "code",
   "execution_count": 4,
   "id": "ef794aa4",
   "metadata": {},
   "outputs": [],
   "source": [
    "futures = ['ES','NQ','CL','NG','HO','XB','HG','GC','SI','ZN','ZF','ED']"
   ]
  },
  {
   "cell_type": "code",
   "execution_count": 5,
   "id": "27913b3d",
   "metadata": {},
   "outputs": [
    {
     "name": "stderr",
     "output_type": "stream",
     "text": [
      "Error 321, reqId 3: Error validating request.-'bT' : cause - Please enter exchange, contract: Future(symbol='ES', lastTradeDateOrContractMonth='CME')\n",
      "Error 321, reqId 4: Error validating request.-'bT' : cause - Please enter exchange, contract: Future(symbol='ES', lastTradeDateOrContractMonth='CME')\n"
     ]
    },
    {
     "name": "stdout",
     "output_type": "stream",
     "text": [
      "Got 2021-11-14\n"
     ]
    },
    {
     "ename": "AttributeError",
     "evalue": "'NoneType' object has no attribute 'append'",
     "output_type": "error",
     "traceback": [
      "\u001b[0;31m---------------------------------------------------------------------------\u001b[0m",
      "\u001b[0;31mAttributeError\u001b[0m                            Traceback (most recent call last)",
      "\u001b[0;32m/tmp/ipykernel_63974/3576176069.py\u001b[0m in \u001b[0;36m<module>\u001b[0;34m\u001b[0m\n\u001b[1;32m      1\u001b[0m \u001b[0;32mfor\u001b[0m \u001b[0mticker\u001b[0m \u001b[0;32min\u001b[0m \u001b[0mfutures\u001b[0m\u001b[0;34m:\u001b[0m\u001b[0;34m\u001b[0m\u001b[0;34m\u001b[0m\u001b[0m\n\u001b[1;32m      2\u001b[0m     \u001b[0mcontract\u001b[0m \u001b[0;34m=\u001b[0m \u001b[0mFuture\u001b[0m\u001b[0;34m(\u001b[0m\u001b[0mticker\u001b[0m\u001b[0;34m,\u001b[0m \u001b[0;34m'CME'\u001b[0m\u001b[0;34m)\u001b[0m\u001b[0;34m\u001b[0m\u001b[0;34m\u001b[0m\u001b[0m\n\u001b[0;32m----> 3\u001b[0;31m     \u001b[0mdata\u001b[0m \u001b[0;34m=\u001b[0m \u001b[0mloadData\u001b[0m\u001b[0;34m(\u001b[0m\u001b[0mcontract\u001b[0m\u001b[0;34m,\u001b[0m \u001b[0mticker\u001b[0m\u001b[0;34m,\u001b[0m \u001b[0mdatetime\u001b[0m\u001b[0;34m(\u001b[0m\u001b[0;36m2018\u001b[0m\u001b[0;34m,\u001b[0m \u001b[0;36m11\u001b[0m\u001b[0;34m,\u001b[0m \u001b[0;36m1\u001b[0m\u001b[0;34m)\u001b[0m\u001b[0;34m,\u001b[0m \u001b[0mdatetime\u001b[0m\u001b[0;34m(\u001b[0m\u001b[0;36m2021\u001b[0m\u001b[0;34m,\u001b[0m \u001b[0;36m11\u001b[0m\u001b[0;34m,\u001b[0m \u001b[0;36m15\u001b[0m\u001b[0;34m)\u001b[0m\u001b[0;34m)\u001b[0m\u001b[0;34m\u001b[0m\u001b[0;34m\u001b[0m\u001b[0m\n\u001b[0m\u001b[1;32m      4\u001b[0m     \u001b[0mdf\u001b[0m\u001b[0;34m.\u001b[0m\u001b[0mrename\u001b[0m\u001b[0;34m(\u001b[0m\u001b[0mcolumns\u001b[0m\u001b[0;34m=\u001b[0m\u001b[0;34m{\u001b[0m\u001b[0;34m'date'\u001b[0m \u001b[0;34m:\u001b[0m \u001b[0;34m'time'\u001b[0m\u001b[0;34m}\u001b[0m\u001b[0;34m)\u001b[0m\u001b[0;34m\u001b[0m\u001b[0;34m\u001b[0m\u001b[0m\n\u001b[1;32m      5\u001b[0m     \u001b[0mdata\u001b[0m\u001b[0;34m.\u001b[0m\u001b[0mto_csv\u001b[0m\u001b[0;34m(\u001b[0m\u001b[0;34mf'{ticker}.csv'\u001b[0m\u001b[0;34m,\u001b[0m \u001b[0mindex\u001b[0m\u001b[0;34m=\u001b[0m\u001b[0;32mFalse\u001b[0m\u001b[0;34m)\u001b[0m\u001b[0;34m\u001b[0m\u001b[0;34m\u001b[0m\u001b[0m\n",
      "\u001b[0;32m/tmp/ipykernel_63974/1251731169.py\u001b[0m in \u001b[0;36mloadData\u001b[0;34m(contract, name, start, end, barSize)\u001b[0m\n\u001b[1;32m     12\u001b[0m             durationStr='1 D', barSizeSetting=barSize, whatToShow='MIDPOINT', useRTH=True)\n\u001b[1;32m     13\u001b[0m         \u001b[0mend\u001b[0m \u001b[0;34m-=\u001b[0m \u001b[0mtimedelta\u001b[0m\u001b[0;34m(\u001b[0m\u001b[0mdays\u001b[0m\u001b[0;34m=\u001b[0m\u001b[0;36m1\u001b[0m\u001b[0;34m)\u001b[0m\u001b[0;34m\u001b[0m\u001b[0;34m\u001b[0m\u001b[0m\n\u001b[0;32m---> 14\u001b[0;31m         \u001b[0mdf\u001b[0m \u001b[0;34m=\u001b[0m \u001b[0mdf\u001b[0m\u001b[0;34m.\u001b[0m\u001b[0mappend\u001b[0m\u001b[0;34m(\u001b[0m\u001b[0mutil\u001b[0m\u001b[0;34m.\u001b[0m\u001b[0mdf\u001b[0m\u001b[0;34m(\u001b[0m\u001b[0mbars\u001b[0m\u001b[0;34m)\u001b[0m\u001b[0;34m)\u001b[0m\u001b[0;34m\u001b[0m\u001b[0;34m\u001b[0m\u001b[0m\n\u001b[0m\u001b[1;32m     15\u001b[0m         \u001b[0mk\u001b[0m \u001b[0;34m+=\u001b[0m \u001b[0;36m1\u001b[0m\u001b[0;34m\u001b[0m\u001b[0;34m\u001b[0m\u001b[0m\n\u001b[1;32m     16\u001b[0m         \u001b[0;31m# checkpoints\u001b[0m\u001b[0;34m\u001b[0m\u001b[0;34m\u001b[0m\u001b[0;34m\u001b[0m\u001b[0m\n",
      "\u001b[0;31mAttributeError\u001b[0m: 'NoneType' object has no attribute 'append'"
     ]
    }
   ],
   "source": [
    "for ticker in futures:\n",
    "    data = loadData(contract, ticker, datetime(2018, 11, 1), datetime(2021, 11, 15))\n",
    "    df.rename(columns={'date' : 'time'})\n",
    "    data.to_csv(f'{ticker}.csv', index=False)"
   ]
  },
  {
   "cell_type": "code",
   "execution_count": 4,
   "id": "ed175df3",
   "metadata": {},
   "outputs": [],
   "source": [
    "def loadFutures(symbol, exchange, last_date, longevity, release_interval, start, end, barSize='1 min'):\n",
    "    future_end = last_date\n",
    "    while future_end > start:\n",
    "        future_start = future_end - longevity\n",
    "        end_month = future_end.strftime('%Y%m')\n",
    "        contract = Future(symbol, future_end.strftime('%Y%m'), exchange)\n",
    "        current_day = min(end, last_date)\n",
    "        bars = ib.reqHistoricalData(\n",
    "            contract, endDateTime=end.strftime('%Y%m%d %H:%m:%S'), \n",
    "            durationStr='1 D', barSizeSetting=barSize, whatToShow='TRADES', useRTH=True)\n",
    "        df = util.df(bars)\n",
    "        while current_day > min(start, future_start):\n",
    "            current_day -= timedelta(days=1)\n",
    "            bars = ib.reqHistoricalData(\n",
    "                contract, endDateTime=end.strftime('%Y%m%d %H:%m:%S'), \n",
    "                durationStr='1 D', barSizeSetting=barSize, whatToShow='TRADES', useRTH=True)\n",
    "            try:\n",
    "                data = util.df(bars)\n",
    "                df = df.append(util.df(bars))\n",
    "                print('Got ' +current_day.strftime('%Y-%m-%d'))\n",
    "            except:\n",
    "                print('Did NOT get ' +current_day.strftime('%Y-%m-%d'))\n",
    "                pass\n",
    "        df.rename(columns={'date' : 'time'}, inplace=True)\n",
    "        df = df.sort_values('time', axis=0).drop_duplicates(subset=['time'])\n",
    "        df.to_csv(f\"{symbol}-{future_end.strftime('%Y')[2:]}.{future_end.strftime('%m')}.csv\", index=False)\n",
    "        future_end -= release_interval"
   ]
  },
  {
   "cell_type": "code",
   "execution_count": 21,
   "id": "c4e69045",
   "metadata": {},
   "outputs": [],
   "source": [
    "def loadFullFutures(symbol, exchange, last_date, longevity, release_interval, releases, barSize='1 min'):\n",
    "    future_end = last_date\n",
    "    while releases > 0:\n",
    "        future_start = future_end - longevity\n",
    "        end_month = future_end.strftime('%Y%m')\n",
    "        contract = Future(symbol, future_end.strftime('%Y%m'), exchange)\n",
    "        current_day = last_date\n",
    "        bars = ib.reqHistoricalData(\n",
    "            contract, endDateTime=current_day.strftime('%Y%m%d %H:%m:%S'), \n",
    "            durationStr='1 D', barSizeSetting=barSize, whatToShow='TRADES', useRTH=True)\n",
    "        df = util.df(bars)\n",
    "        while current_day > future_start:\n",
    "            current_day -= timedelta(days=1)\n",
    "            bars = ib.reqHistoricalData(\n",
    "                contract, endDateTime=current_day.strftime('%Y%m%d %H:%m:%S'), \n",
    "                durationStr='1 D', barSizeSetting=barSize, whatToShow='TRADES', useRTH=True)\n",
    "            try:\n",
    "                data = util.df(bars)\n",
    "                df = df.append(util.df(bars))\n",
    "                print('Got ' +current_day.strftime('%Y-%m-%d'))\n",
    "            except:\n",
    "                print('Did NOT get ' +current_day.strftime('%Y-%m-%d'))\n",
    "                pass\n",
    "        df.rename(columns={'date' : 'time'}, inplace=True)\n",
    "        df = df.sort_values('time', axis=0).drop_duplicates(subset=['time'])\n",
    "        df.to_csv(f\"{symbol}-{future_end.strftime('%Y')[2:]}.{future_end.strftime('%m')}.csv\", index=False)\n",
    "        future_end -= release_interval\n",
    "        releases -= 1"
   ]
  },
  {
   "cell_type": "code",
   "execution_count": 22,
   "id": "54075ddb",
   "metadata": {},
   "outputs": [
    {
     "ename": "ConnectionError",
     "evalue": "Not connected",
     "output_type": "error",
     "traceback": [
      "\u001b[0;31m---------------------------------------------------------------------------\u001b[0m",
      "\u001b[0;31mConnectionError\u001b[0m                           Traceback (most recent call last)",
      "\u001b[0;32m/tmp/ipykernel_15972/3501230013.py\u001b[0m in \u001b[0;36m<module>\u001b[0;34m\u001b[0m\n\u001b[0;32m----> 1\u001b[0;31m \u001b[0mbars\u001b[0m \u001b[0;34m=\u001b[0m \u001b[0mloadFullFutures\u001b[0m\u001b[0;34m(\u001b[0m\u001b[0;34m'NQ'\u001b[0m\u001b[0;34m,\u001b[0m \u001b[0;34m'GLOBEX'\u001b[0m\u001b[0;34m,\u001b[0m \u001b[0mdatetime\u001b[0m\u001b[0;34m(\u001b[0m\u001b[0;36m2021\u001b[0m\u001b[0;34m,\u001b[0m \u001b[0;36m12\u001b[0m\u001b[0;34m,\u001b[0m \u001b[0;36m17\u001b[0m\u001b[0;34m)\u001b[0m\u001b[0;34m,\u001b[0m \u001b[0mrelativedelta\u001b[0m\u001b[0;34m(\u001b[0m\u001b[0mmonths\u001b[0m\u001b[0;34m=\u001b[0m\u001b[0;36m15\u001b[0m\u001b[0;34m)\u001b[0m\u001b[0;34m,\u001b[0m \u001b[0mrelativedelta\u001b[0m\u001b[0;34m(\u001b[0m\u001b[0mmonths\u001b[0m\u001b[0;34m=\u001b[0m\u001b[0;36m3\u001b[0m\u001b[0;34m)\u001b[0m\u001b[0;34m,\u001b[0m \u001b[0;36m3\u001b[0m\u001b[0;34m)\u001b[0m\u001b[0;34m\u001b[0m\u001b[0;34m\u001b[0m\u001b[0m\n\u001b[0m",
      "\u001b[0;32m/tmp/ipykernel_15972/4251580159.py\u001b[0m in \u001b[0;36mloadFullFutures\u001b[0;34m(symbol, exchange, last_date, longevity, release_interval, releases, barSize)\u001b[0m\n\u001b[1;32m      6\u001b[0m         \u001b[0mcontract\u001b[0m \u001b[0;34m=\u001b[0m \u001b[0mFuture\u001b[0m\u001b[0;34m(\u001b[0m\u001b[0msymbol\u001b[0m\u001b[0;34m,\u001b[0m \u001b[0mfuture_end\u001b[0m\u001b[0;34m.\u001b[0m\u001b[0mstrftime\u001b[0m\u001b[0;34m(\u001b[0m\u001b[0;34m'%Y%m'\u001b[0m\u001b[0;34m)\u001b[0m\u001b[0;34m,\u001b[0m \u001b[0mexchange\u001b[0m\u001b[0;34m)\u001b[0m\u001b[0;34m\u001b[0m\u001b[0;34m\u001b[0m\u001b[0m\n\u001b[1;32m      7\u001b[0m         \u001b[0mcurrent_day\u001b[0m \u001b[0;34m=\u001b[0m \u001b[0mlast_date\u001b[0m\u001b[0;34m\u001b[0m\u001b[0;34m\u001b[0m\u001b[0m\n\u001b[0;32m----> 8\u001b[0;31m         bars = ib.reqHistoricalData(\n\u001b[0m\u001b[1;32m      9\u001b[0m             \u001b[0mcontract\u001b[0m\u001b[0;34m,\u001b[0m \u001b[0mendDateTime\u001b[0m\u001b[0;34m=\u001b[0m\u001b[0mcurrent_day\u001b[0m\u001b[0;34m.\u001b[0m\u001b[0mstrftime\u001b[0m\u001b[0;34m(\u001b[0m\u001b[0;34m'%Y%m%d %H:%m:%S'\u001b[0m\u001b[0;34m)\u001b[0m\u001b[0;34m,\u001b[0m\u001b[0;34m\u001b[0m\u001b[0;34m\u001b[0m\u001b[0m\n\u001b[1;32m     10\u001b[0m             durationStr='1 D', barSizeSetting=barSize, whatToShow='TRADES', useRTH=True)\n",
      "\u001b[0;32m~/.local/lib/python3.8/site-packages/ib_insync/ib.py\u001b[0m in \u001b[0;36mreqHistoricalData\u001b[0;34m(self, contract, endDateTime, durationStr, barSizeSetting, whatToShow, useRTH, formatDate, keepUpToDate, chartOptions, timeout)\u001b[0m\n\u001b[1;32m   1048\u001b[0m                 \u001b[0mindefinitely\u001b[0m\u001b[0;34m.\u001b[0m\u001b[0;34m\u001b[0m\u001b[0;34m\u001b[0m\u001b[0m\n\u001b[1;32m   1049\u001b[0m         \"\"\"\n\u001b[0;32m-> 1050\u001b[0;31m         return self._run(\n\u001b[0m\u001b[1;32m   1051\u001b[0m             self.reqHistoricalDataAsync(\n\u001b[1;32m   1052\u001b[0m                 \u001b[0mcontract\u001b[0m\u001b[0;34m,\u001b[0m \u001b[0mendDateTime\u001b[0m\u001b[0;34m,\u001b[0m \u001b[0mdurationStr\u001b[0m\u001b[0;34m,\u001b[0m \u001b[0mbarSizeSetting\u001b[0m\u001b[0;34m,\u001b[0m \u001b[0mwhatToShow\u001b[0m\u001b[0;34m,\u001b[0m\u001b[0;34m\u001b[0m\u001b[0;34m\u001b[0m\u001b[0m\n",
      "\u001b[0;32m~/.local/lib/python3.8/site-packages/ib_insync/ib.py\u001b[0m in \u001b[0;36m_run\u001b[0;34m(self, *awaitables)\u001b[0m\n\u001b[1;32m    308\u001b[0m \u001b[0;34m\u001b[0m\u001b[0m\n\u001b[1;32m    309\u001b[0m     \u001b[0;32mdef\u001b[0m \u001b[0m_run\u001b[0m\u001b[0;34m(\u001b[0m\u001b[0mself\u001b[0m\u001b[0;34m,\u001b[0m \u001b[0;34m*\u001b[0m\u001b[0mawaitables\u001b[0m\u001b[0;34m:\u001b[0m \u001b[0mAwaitable\u001b[0m\u001b[0;34m)\u001b[0m\u001b[0;34m:\u001b[0m\u001b[0;34m\u001b[0m\u001b[0;34m\u001b[0m\u001b[0m\n\u001b[0;32m--> 310\u001b[0;31m         \u001b[0;32mreturn\u001b[0m \u001b[0mutil\u001b[0m\u001b[0;34m.\u001b[0m\u001b[0mrun\u001b[0m\u001b[0;34m(\u001b[0m\u001b[0;34m*\u001b[0m\u001b[0mawaitables\u001b[0m\u001b[0;34m,\u001b[0m \u001b[0mtimeout\u001b[0m\u001b[0;34m=\u001b[0m\u001b[0mself\u001b[0m\u001b[0;34m.\u001b[0m\u001b[0mRequestTimeout\u001b[0m\u001b[0;34m)\u001b[0m\u001b[0;34m\u001b[0m\u001b[0;34m\u001b[0m\u001b[0m\n\u001b[0m\u001b[1;32m    311\u001b[0m \u001b[0;34m\u001b[0m\u001b[0m\n\u001b[1;32m    312\u001b[0m     \u001b[0;32mdef\u001b[0m \u001b[0mwaitOnUpdate\u001b[0m\u001b[0;34m(\u001b[0m\u001b[0mself\u001b[0m\u001b[0;34m,\u001b[0m \u001b[0mtimeout\u001b[0m\u001b[0;34m:\u001b[0m \u001b[0mfloat\u001b[0m \u001b[0;34m=\u001b[0m \u001b[0;36m0\u001b[0m\u001b[0;34m)\u001b[0m \u001b[0;34m->\u001b[0m \u001b[0mbool\u001b[0m\u001b[0;34m:\u001b[0m\u001b[0;34m\u001b[0m\u001b[0;34m\u001b[0m\u001b[0m\n",
      "\u001b[0;32m~/.local/lib/python3.8/site-packages/ib_insync/util.py\u001b[0m in \u001b[0;36mrun\u001b[0;34m(timeout, *awaitables)\u001b[0m\n\u001b[1;32m    330\u001b[0m         \u001b[0mglobalErrorEvent\u001b[0m\u001b[0;34m.\u001b[0m\u001b[0mconnect\u001b[0m\u001b[0;34m(\u001b[0m\u001b[0monError\u001b[0m\u001b[0;34m)\u001b[0m\u001b[0;34m\u001b[0m\u001b[0;34m\u001b[0m\u001b[0m\n\u001b[1;32m    331\u001b[0m         \u001b[0;32mtry\u001b[0m\u001b[0;34m:\u001b[0m\u001b[0;34m\u001b[0m\u001b[0;34m\u001b[0m\u001b[0m\n\u001b[0;32m--> 332\u001b[0;31m             \u001b[0mresult\u001b[0m \u001b[0;34m=\u001b[0m \u001b[0mloop\u001b[0m\u001b[0;34m.\u001b[0m\u001b[0mrun_until_complete\u001b[0m\u001b[0;34m(\u001b[0m\u001b[0mtask\u001b[0m\u001b[0;34m)\u001b[0m\u001b[0;34m\u001b[0m\u001b[0;34m\u001b[0m\u001b[0m\n\u001b[0m\u001b[1;32m    333\u001b[0m         \u001b[0;32mexcept\u001b[0m \u001b[0masyncio\u001b[0m\u001b[0;34m.\u001b[0m\u001b[0mCancelledError\u001b[0m \u001b[0;32mas\u001b[0m \u001b[0me\u001b[0m\u001b[0;34m:\u001b[0m\u001b[0;34m\u001b[0m\u001b[0;34m\u001b[0m\u001b[0m\n\u001b[1;32m    334\u001b[0m             \u001b[0;32mraise\u001b[0m \u001b[0mglobalErrorEvent\u001b[0m\u001b[0;34m.\u001b[0m\u001b[0mvalue\u001b[0m\u001b[0;34m(\u001b[0m\u001b[0;34m)\u001b[0m \u001b[0;32mor\u001b[0m \u001b[0me\u001b[0m\u001b[0;34m\u001b[0m\u001b[0;34m\u001b[0m\u001b[0m\n",
      "\u001b[0;32m~/.local/lib/python3.8/site-packages/nest_asyncio.py\u001b[0m in \u001b[0;36mrun_until_complete\u001b[0;34m(self, future)\u001b[0m\n\u001b[1;32m     68\u001b[0m                 raise RuntimeError(\n\u001b[1;32m     69\u001b[0m                     'Event loop stopped before Future completed.')\n\u001b[0;32m---> 70\u001b[0;31m             \u001b[0;32mreturn\u001b[0m \u001b[0mf\u001b[0m\u001b[0;34m.\u001b[0m\u001b[0mresult\u001b[0m\u001b[0;34m(\u001b[0m\u001b[0;34m)\u001b[0m\u001b[0;34m\u001b[0m\u001b[0;34m\u001b[0m\u001b[0m\n\u001b[0m\u001b[1;32m     71\u001b[0m \u001b[0;34m\u001b[0m\u001b[0m\n\u001b[1;32m     72\u001b[0m     \u001b[0;32mdef\u001b[0m \u001b[0m_run_once\u001b[0m\u001b[0;34m(\u001b[0m\u001b[0mself\u001b[0m\u001b[0;34m)\u001b[0m\u001b[0;34m:\u001b[0m\u001b[0;34m\u001b[0m\u001b[0;34m\u001b[0m\u001b[0m\n",
      "\u001b[0;32m/usr/lib/python3.8/asyncio/futures.py\u001b[0m in \u001b[0;36mresult\u001b[0;34m(self)\u001b[0m\n\u001b[1;32m    176\u001b[0m         \u001b[0mself\u001b[0m\u001b[0;34m.\u001b[0m\u001b[0m__log_traceback\u001b[0m \u001b[0;34m=\u001b[0m \u001b[0;32mFalse\u001b[0m\u001b[0;34m\u001b[0m\u001b[0;34m\u001b[0m\u001b[0m\n\u001b[1;32m    177\u001b[0m         \u001b[0;32mif\u001b[0m \u001b[0mself\u001b[0m\u001b[0;34m.\u001b[0m\u001b[0m_exception\u001b[0m \u001b[0;32mis\u001b[0m \u001b[0;32mnot\u001b[0m \u001b[0;32mNone\u001b[0m\u001b[0;34m:\u001b[0m\u001b[0;34m\u001b[0m\u001b[0;34m\u001b[0m\u001b[0m\n\u001b[0;32m--> 178\u001b[0;31m             \u001b[0;32mraise\u001b[0m \u001b[0mself\u001b[0m\u001b[0;34m.\u001b[0m\u001b[0m_exception\u001b[0m\u001b[0;34m\u001b[0m\u001b[0;34m\u001b[0m\u001b[0m\n\u001b[0m\u001b[1;32m    179\u001b[0m         \u001b[0;32mreturn\u001b[0m \u001b[0mself\u001b[0m\u001b[0;34m.\u001b[0m\u001b[0m_result\u001b[0m\u001b[0;34m\u001b[0m\u001b[0;34m\u001b[0m\u001b[0m\n\u001b[1;32m    180\u001b[0m \u001b[0;34m\u001b[0m\u001b[0m\n",
      "\u001b[0;32m/usr/lib/python3.8/asyncio/tasks.py\u001b[0m in \u001b[0;36m__step\u001b[0;34m(***failed resolving arguments***)\u001b[0m\n\u001b[1;32m    278\u001b[0m                 \u001b[0;31m# We use the `send` method directly, because coroutines\u001b[0m\u001b[0;34m\u001b[0m\u001b[0;34m\u001b[0m\u001b[0;34m\u001b[0m\u001b[0m\n\u001b[1;32m    279\u001b[0m                 \u001b[0;31m# don't have `__iter__` and `__next__` methods.\u001b[0m\u001b[0;34m\u001b[0m\u001b[0;34m\u001b[0m\u001b[0;34m\u001b[0m\u001b[0m\n\u001b[0;32m--> 280\u001b[0;31m                 \u001b[0mresult\u001b[0m \u001b[0;34m=\u001b[0m \u001b[0mcoro\u001b[0m\u001b[0;34m.\u001b[0m\u001b[0msend\u001b[0m\u001b[0;34m(\u001b[0m\u001b[0;32mNone\u001b[0m\u001b[0;34m)\u001b[0m\u001b[0;34m\u001b[0m\u001b[0;34m\u001b[0m\u001b[0m\n\u001b[0m\u001b[1;32m    281\u001b[0m             \u001b[0;32melse\u001b[0m\u001b[0;34m:\u001b[0m\u001b[0;34m\u001b[0m\u001b[0;34m\u001b[0m\u001b[0m\n\u001b[1;32m    282\u001b[0m                 \u001b[0mresult\u001b[0m \u001b[0;34m=\u001b[0m \u001b[0mcoro\u001b[0m\u001b[0;34m.\u001b[0m\u001b[0mthrow\u001b[0m\u001b[0;34m(\u001b[0m\u001b[0mexc\u001b[0m\u001b[0;34m)\u001b[0m\u001b[0;34m\u001b[0m\u001b[0;34m\u001b[0m\u001b[0m\n",
      "\u001b[0;32m~/.local/lib/python3.8/site-packages/ib_insync/ib.py\u001b[0m in \u001b[0;36mreqHistoricalDataAsync\u001b[0;34m(self, contract, endDateTime, durationStr, barSizeSetting, whatToShow, useRTH, formatDate, keepUpToDate, chartOptions, timeout)\u001b[0m\n\u001b[1;32m   1842\u001b[0m             chartOptions: List[TagValue] = [], timeout: float = 60) -> \\\n\u001b[1;32m   1843\u001b[0m             \u001b[0mBarDataList\u001b[0m\u001b[0;34m:\u001b[0m\u001b[0;34m\u001b[0m\u001b[0;34m\u001b[0m\u001b[0m\n\u001b[0;32m-> 1844\u001b[0;31m         \u001b[0mreqId\u001b[0m \u001b[0;34m=\u001b[0m \u001b[0mself\u001b[0m\u001b[0;34m.\u001b[0m\u001b[0mclient\u001b[0m\u001b[0;34m.\u001b[0m\u001b[0mgetReqId\u001b[0m\u001b[0;34m(\u001b[0m\u001b[0;34m)\u001b[0m\u001b[0;34m\u001b[0m\u001b[0;34m\u001b[0m\u001b[0m\n\u001b[0m\u001b[1;32m   1845\u001b[0m         \u001b[0mbars\u001b[0m \u001b[0;34m=\u001b[0m \u001b[0mBarDataList\u001b[0m\u001b[0;34m(\u001b[0m\u001b[0;34m)\u001b[0m\u001b[0;34m\u001b[0m\u001b[0;34m\u001b[0m\u001b[0m\n\u001b[1;32m   1846\u001b[0m         \u001b[0mbars\u001b[0m\u001b[0;34m.\u001b[0m\u001b[0mreqId\u001b[0m \u001b[0;34m=\u001b[0m \u001b[0mreqId\u001b[0m\u001b[0;34m\u001b[0m\u001b[0;34m\u001b[0m\u001b[0m\n",
      "\u001b[0;32m~/.local/lib/python3.8/site-packages/ib_insync/client.py\u001b[0m in \u001b[0;36mgetReqId\u001b[0;34m(self)\u001b[0m\n\u001b[1;32m    159\u001b[0m         \u001b[0;34m\"\"\"Get new request ID.\"\"\"\u001b[0m\u001b[0;34m\u001b[0m\u001b[0;34m\u001b[0m\u001b[0m\n\u001b[1;32m    160\u001b[0m         \u001b[0;32mif\u001b[0m \u001b[0;32mnot\u001b[0m \u001b[0mself\u001b[0m\u001b[0;34m.\u001b[0m\u001b[0misReady\u001b[0m\u001b[0;34m(\u001b[0m\u001b[0;34m)\u001b[0m\u001b[0;34m:\u001b[0m\u001b[0;34m\u001b[0m\u001b[0;34m\u001b[0m\u001b[0m\n\u001b[0;32m--> 161\u001b[0;31m             \u001b[0;32mraise\u001b[0m \u001b[0mConnectionError\u001b[0m\u001b[0;34m(\u001b[0m\u001b[0;34m'Not connected'\u001b[0m\u001b[0;34m)\u001b[0m\u001b[0;34m\u001b[0m\u001b[0;34m\u001b[0m\u001b[0m\n\u001b[0m\u001b[1;32m    162\u001b[0m         \u001b[0mnewId\u001b[0m \u001b[0;34m=\u001b[0m \u001b[0mself\u001b[0m\u001b[0;34m.\u001b[0m\u001b[0m_reqIdSeq\u001b[0m\u001b[0;34m\u001b[0m\u001b[0;34m\u001b[0m\u001b[0m\n\u001b[1;32m    163\u001b[0m         \u001b[0mself\u001b[0m\u001b[0;34m.\u001b[0m\u001b[0m_reqIdSeq\u001b[0m \u001b[0;34m+=\u001b[0m \u001b[0;36m1\u001b[0m\u001b[0;34m\u001b[0m\u001b[0;34m\u001b[0m\u001b[0m\n",
      "\u001b[0;31mConnectionError\u001b[0m: Not connected"
     ]
    }
   ],
   "source": [
    "bars = loadFullFutures('NQ', 'GLOBEX', datetime(2021, 12, 17), relativedelta(months=15), relativedelta(months=3), 3)"
   ]
  },
  {
   "cell_type": "code",
   "execution_count": 82,
   "id": "3eef6e28",
   "metadata": {},
   "outputs": [],
   "source": [
    "df = pd.read_csv('ES-21.12.csv', index_col='time')\n",
    "# df = df.drop(columns='Unnamed: 0')\n",
    "# df = df.rename(columns={'date' : 'time'})\n",
    "# df = df.sort_values('time', axis=0)\n",
    "# df = df.drop_duplicates(subset=['time'])\n",
    "# df.to_csv('ES-21.12.csv', index=False)"
   ]
  },
  {
   "cell_type": "code",
   "execution_count": 83,
   "id": "6644cd77",
   "metadata": {},
   "outputs": [
    {
     "data": {
      "text/html": [
       "<div>\n",
       "<style scoped>\n",
       "    .dataframe tbody tr th:only-of-type {\n",
       "        vertical-align: middle;\n",
       "    }\n",
       "\n",
       "    .dataframe tbody tr th {\n",
       "        vertical-align: top;\n",
       "    }\n",
       "\n",
       "    .dataframe thead th {\n",
       "        text-align: right;\n",
       "    }\n",
       "</style>\n",
       "<table border=\"1\" class=\"dataframe\">\n",
       "  <thead>\n",
       "    <tr style=\"text-align: right;\">\n",
       "      <th></th>\n",
       "      <th>open</th>\n",
       "      <th>high</th>\n",
       "      <th>low</th>\n",
       "      <th>close</th>\n",
       "      <th>volume</th>\n",
       "      <th>average</th>\n",
       "      <th>barCount</th>\n",
       "    </tr>\n",
       "    <tr>\n",
       "      <th>time</th>\n",
       "      <th></th>\n",
       "      <th></th>\n",
       "      <th></th>\n",
       "      <th></th>\n",
       "      <th></th>\n",
       "      <th></th>\n",
       "      <th></th>\n",
       "    </tr>\n",
       "  </thead>\n",
       "  <tbody>\n",
       "    <tr>\n",
       "      <th>2021-11-19 17:30:00</th>\n",
       "      <td>4700.75</td>\n",
       "      <td>4702.25</td>\n",
       "      <td>4695.00</td>\n",
       "      <td>4696.75</td>\n",
       "      <td>21634.0</td>\n",
       "      <td>4699.400</td>\n",
       "      <td>4633</td>\n",
       "    </tr>\n",
       "    <tr>\n",
       "      <th>2021-11-19 17:31:00</th>\n",
       "      <td>4696.75</td>\n",
       "      <td>4697.50</td>\n",
       "      <td>4693.25</td>\n",
       "      <td>4693.25</td>\n",
       "      <td>11554.0</td>\n",
       "      <td>4695.775</td>\n",
       "      <td>2984</td>\n",
       "    </tr>\n",
       "    <tr>\n",
       "      <th>2021-11-19 17:32:00</th>\n",
       "      <td>4693.50</td>\n",
       "      <td>4696.50</td>\n",
       "      <td>4693.25</td>\n",
       "      <td>4696.25</td>\n",
       "      <td>7553.0</td>\n",
       "      <td>4695.250</td>\n",
       "      <td>1920</td>\n",
       "    </tr>\n",
       "    <tr>\n",
       "      <th>2021-11-19 17:33:00</th>\n",
       "      <td>4696.00</td>\n",
       "      <td>4696.75</td>\n",
       "      <td>4692.25</td>\n",
       "      <td>4692.75</td>\n",
       "      <td>5412.0</td>\n",
       "      <td>4694.625</td>\n",
       "      <td>1401</td>\n",
       "    </tr>\n",
       "    <tr>\n",
       "      <th>2021-11-19 17:34:00</th>\n",
       "      <td>4693.00</td>\n",
       "      <td>4695.00</td>\n",
       "      <td>4691.50</td>\n",
       "      <td>4695.00</td>\n",
       "      <td>5903.0</td>\n",
       "      <td>4693.250</td>\n",
       "      <td>1537</td>\n",
       "    </tr>\n",
       "  </tbody>\n",
       "</table>\n",
       "</div>"
      ],
      "text/plain": [
       "                        open     high      low    close   volume   average  \\\n",
       "time                                                                         \n",
       "2021-11-19 17:30:00  4700.75  4702.25  4695.00  4696.75  21634.0  4699.400   \n",
       "2021-11-19 17:31:00  4696.75  4697.50  4693.25  4693.25  11554.0  4695.775   \n",
       "2021-11-19 17:32:00  4693.50  4696.50  4693.25  4696.25   7553.0  4695.250   \n",
       "2021-11-19 17:33:00  4696.00  4696.75  4692.25  4692.75   5412.0  4694.625   \n",
       "2021-11-19 17:34:00  4693.00  4695.00  4691.50  4695.00   5903.0  4693.250   \n",
       "\n",
       "                     barCount  \n",
       "time                           \n",
       "2021-11-19 17:30:00      4633  \n",
       "2021-11-19 17:31:00      2984  \n",
       "2021-11-19 17:32:00      1920  \n",
       "2021-11-19 17:33:00      1401  \n",
       "2021-11-19 17:34:00      1537  "
      ]
     },
     "execution_count": 83,
     "metadata": {},
     "output_type": "execute_result"
    }
   ],
   "source": [
    "df.head()"
   ]
  },
  {
   "cell_type": "code",
   "execution_count": 17,
   "id": "7c02a8d0",
   "metadata": {},
   "outputs": [
    {
     "ename": "NameError",
     "evalue": "name 'end' is not defined",
     "output_type": "error",
     "traceback": [
      "\u001b[0;31m---------------------------------------------------------------------------\u001b[0m",
      "\u001b[0;31mNameError\u001b[0m                                 Traceback (most recent call last)",
      "\u001b[0;32m/tmp/ipykernel_15972/3749783282.py\u001b[0m in \u001b[0;36m<module>\u001b[0;34m\u001b[0m\n\u001b[0;32m----> 1\u001b[0;31m \u001b[0mbars\u001b[0m \u001b[0;34m=\u001b[0m \u001b[0mloadFullFutures\u001b[0m\u001b[0;34m(\u001b[0m\u001b[0;34m'NQ'\u001b[0m\u001b[0;34m,\u001b[0m \u001b[0;34m'GLOBEX'\u001b[0m\u001b[0;34m,\u001b[0m \u001b[0mdatetime\u001b[0m\u001b[0;34m(\u001b[0m\u001b[0;36m2021\u001b[0m\u001b[0;34m,\u001b[0m \u001b[0;36m9\u001b[0m\u001b[0;34m,\u001b[0m \u001b[0;36m17\u001b[0m\u001b[0;34m)\u001b[0m\u001b[0;34m,\u001b[0m \u001b[0mrelativedelta\u001b[0m\u001b[0;34m(\u001b[0m\u001b[0mmonths\u001b[0m\u001b[0;34m=\u001b[0m\u001b[0;36m15\u001b[0m\u001b[0;34m)\u001b[0m\u001b[0;34m,\u001b[0m \u001b[0mrelativedelta\u001b[0m\u001b[0;34m(\u001b[0m\u001b[0mmonths\u001b[0m\u001b[0;34m=\u001b[0m\u001b[0;36m3\u001b[0m\u001b[0;34m)\u001b[0m\u001b[0;34m,\u001b[0m \u001b[0;36m1\u001b[0m\u001b[0;34m)\u001b[0m\u001b[0;34m\u001b[0m\u001b[0;34m\u001b[0m\u001b[0m\n\u001b[0m",
      "\u001b[0;32m/tmp/ipykernel_15972/1899253376.py\u001b[0m in \u001b[0;36mloadFullFutures\u001b[0;34m(symbol, exchange, last_date, longevity, release_interval, releases, barSize)\u001b[0m\n\u001b[1;32m      7\u001b[0m         \u001b[0mcurrent_day\u001b[0m \u001b[0;34m=\u001b[0m \u001b[0mlast_date\u001b[0m\u001b[0;34m\u001b[0m\u001b[0;34m\u001b[0m\u001b[0m\n\u001b[1;32m      8\u001b[0m         bars = ib.reqHistoricalData(\n\u001b[0;32m----> 9\u001b[0;31m             \u001b[0mcontract\u001b[0m\u001b[0;34m,\u001b[0m \u001b[0mendDateTime\u001b[0m\u001b[0;34m=\u001b[0m\u001b[0mend\u001b[0m\u001b[0;34m.\u001b[0m\u001b[0mstrftime\u001b[0m\u001b[0;34m(\u001b[0m\u001b[0;34m'%Y%m%d %H:%m:%S'\u001b[0m\u001b[0;34m)\u001b[0m\u001b[0;34m,\u001b[0m\u001b[0;34m\u001b[0m\u001b[0;34m\u001b[0m\u001b[0m\n\u001b[0m\u001b[1;32m     10\u001b[0m             durationStr='1 D', barSizeSetting=barSize, whatToShow='TRADES', useRTH=True)\n\u001b[1;32m     11\u001b[0m         \u001b[0mdf\u001b[0m \u001b[0;34m=\u001b[0m \u001b[0mutil\u001b[0m\u001b[0;34m.\u001b[0m\u001b[0mdf\u001b[0m\u001b[0;34m(\u001b[0m\u001b[0mbars\u001b[0m\u001b[0;34m)\u001b[0m\u001b[0;34m\u001b[0m\u001b[0;34m\u001b[0m\u001b[0m\n",
      "\u001b[0;31mNameError\u001b[0m: name 'end' is not defined"
     ]
    }
   ],
   "source": [
    "bars = loadFullFutures('NQ', 'GLOBEX', datetime(2021, 9, 17), relativedelta(months=15), relativedelta(months=3), 1)"
   ]
  },
  {
   "cell_type": "code",
   "execution_count": 88,
   "id": "2e8a2cc9",
   "metadata": {},
   "outputs": [
    {
     "name": "stderr",
     "output_type": "stream",
     "text": [
      "Error 200, reqId 1019: No security definition has been found for the request, contract: Future(symbol='ES', lastTradeDateOrContractMonth='202009', exchange='CME')\n",
      "Peer closed connection.\n"
     ]
    }
   ],
   "source": [
    "contract = Future('ES', '202009', 'CME')\n",
    "bars = ib.reqHistoricalData(\n",
    "            contract, endDateTime='20200517 00:00:00', \n",
    "            durationStr='1 D', barSizeSetting='1 min', whatToShow='TRADES', useRTH=True)"
   ]
  },
  {
   "cell_type": "code",
   "execution_count": null,
   "id": "a51ea589",
   "metadata": {},
   "outputs": [],
   "source": []
  }
 ],
 "metadata": {
  "kernelspec": {
   "display_name": "Python 3 (ipykernel)",
   "language": "python",
   "name": "python3"
  },
  "language_info": {
   "codemirror_mode": {
    "name": "ipython",
    "version": 3
   },
   "file_extension": ".py",
   "mimetype": "text/x-python",
   "name": "python",
   "nbconvert_exporter": "python",
   "pygments_lexer": "ipython3",
   "version": "3.8.10"
  }
 },
 "nbformat": 4,
 "nbformat_minor": 5
}
