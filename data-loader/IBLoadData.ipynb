{
 "cells": [
  {
   "cell_type": "code",
   "execution_count": 1,
   "id": "043a9dff",
   "metadata": {},
   "outputs": [],
   "source": [
    "from ib_insync import *\n",
    "from datetime import datetime, timedelta\n",
    "from calendar import monthrange\n",
    "from dateutil.relativedelta import relativedelta\n",
    "import pandas as pd"
   ]
  },
  {
   "cell_type": "code",
   "execution_count": 2,
   "id": "ceecfb9d",
   "metadata": {},
   "outputs": [
    {
     "data": {
      "text/plain": [
       "<IB connected to 127.0.0.1:7497 clientId=1>"
      ]
     },
     "execution_count": 2,
     "metadata": {},
     "output_type": "execute_result"
    }
   ],
   "source": [
    "util.startLoop()\n",
    "ib = IB()\n",
    "ib.connect('127.0.0.1', 7497, clientId=1)"
   ]
  },
  {
   "cell_type": "code",
   "execution_count": null,
   "id": "89b9e8ce",
   "metadata": {},
   "outputs": [],
   "source": [
    "def loadData(contract, name, start, end, barSize='1 min'):\n",
    "    bars = ib.reqHistoricalData(\n",
    "        contract, endDateTime=end.strftime('%Y%m%d %H:%m:%S'), \n",
    "        durationStr='1 D', barSizeSetting=barSize, whatToShow='MIDPOINT', useRTH=True)\n",
    "    end -= timedelta(days=1)\n",
    "    df = util.df(bars)\n",
    "    k = 0\n",
    "    while end > start:\n",
    "        print('Got ' +end.strftime('%Y-%m-%d'))\n",
    "        bars = ib.reqHistoricalData(\n",
    "            contract, endDateTime=end.strftime('%Y%m%d %H:%m:%S'), \n",
    "            durationStr='1 D', barSizeSetting=barSize, whatToShow='MIDPOINT', useRTH=True)\n",
    "        end -= timedelta(days=1)\n",
    "        df = df.append(util.df(bars))\n",
    "        k += 1\n",
    "        # checkpoints\n",
    "#         if k % 100 == 0:\n",
    "#             df.drop(['volume', 'average', 'barCount'], axis=1).sort_values('date', axis=0).to_csv(f'{name}_{k/100}.csv', index=False)\n",
    "    return df.drop(['volume', 'average', 'barCount'], axis=1)\\\n",
    "            .sort_values('date', axis=0)\\\n",
    "            .drop_duplicates(subset=['date'], inplace=True)"
   ]
  },
  {
   "cell_type": "code",
   "execution_count": 4,
   "id": "ef794aa4",
   "metadata": {},
   "outputs": [],
   "source": [
    "futures = ['ES','NQ','CL','NG','HO','XB','HG','GC','SI','ZN','ZF','ED']"
   ]
  },
  {
   "cell_type": "code",
   "execution_count": 5,
   "id": "27913b3d",
   "metadata": {},
   "outputs": [
    {
     "name": "stderr",
     "output_type": "stream",
     "text": [
      "Error 321, reqId 3: Error validating request.-'bT' : cause - Please enter exchange, contract: Future(symbol='ES', lastTradeDateOrContractMonth='CME')\n",
      "Error 321, reqId 4: Error validating request.-'bT' : cause - Please enter exchange, contract: Future(symbol='ES', lastTradeDateOrContractMonth='CME')\n"
     ]
    },
    {
     "name": "stdout",
     "output_type": "stream",
     "text": [
      "Got 2021-11-14\n"
     ]
    },
    {
     "ename": "AttributeError",
     "evalue": "'NoneType' object has no attribute 'append'",
     "output_type": "error",
     "traceback": [
      "\u001b[0;31m---------------------------------------------------------------------------\u001b[0m",
      "\u001b[0;31mAttributeError\u001b[0m                            Traceback (most recent call last)",
      "\u001b[0;32m/tmp/ipykernel_63974/3576176069.py\u001b[0m in \u001b[0;36m<module>\u001b[0;34m\u001b[0m\n\u001b[1;32m      1\u001b[0m \u001b[0;32mfor\u001b[0m \u001b[0mticker\u001b[0m \u001b[0;32min\u001b[0m \u001b[0mfutures\u001b[0m\u001b[0;34m:\u001b[0m\u001b[0;34m\u001b[0m\u001b[0;34m\u001b[0m\u001b[0m\n\u001b[1;32m      2\u001b[0m     \u001b[0mcontract\u001b[0m \u001b[0;34m=\u001b[0m \u001b[0mFuture\u001b[0m\u001b[0;34m(\u001b[0m\u001b[0mticker\u001b[0m\u001b[0;34m,\u001b[0m \u001b[0;34m'CME'\u001b[0m\u001b[0;34m)\u001b[0m\u001b[0;34m\u001b[0m\u001b[0;34m\u001b[0m\u001b[0m\n\u001b[0;32m----> 3\u001b[0;31m     \u001b[0mdata\u001b[0m \u001b[0;34m=\u001b[0m \u001b[0mloadData\u001b[0m\u001b[0;34m(\u001b[0m\u001b[0mcontract\u001b[0m\u001b[0;34m,\u001b[0m \u001b[0mticker\u001b[0m\u001b[0;34m,\u001b[0m \u001b[0mdatetime\u001b[0m\u001b[0;34m(\u001b[0m\u001b[0;36m2018\u001b[0m\u001b[0;34m,\u001b[0m \u001b[0;36m11\u001b[0m\u001b[0;34m,\u001b[0m \u001b[0;36m1\u001b[0m\u001b[0;34m)\u001b[0m\u001b[0;34m,\u001b[0m \u001b[0mdatetime\u001b[0m\u001b[0;34m(\u001b[0m\u001b[0;36m2021\u001b[0m\u001b[0;34m,\u001b[0m \u001b[0;36m11\u001b[0m\u001b[0;34m,\u001b[0m \u001b[0;36m15\u001b[0m\u001b[0;34m)\u001b[0m\u001b[0;34m)\u001b[0m\u001b[0;34m\u001b[0m\u001b[0;34m\u001b[0m\u001b[0m\n\u001b[0m\u001b[1;32m      4\u001b[0m     \u001b[0mdf\u001b[0m\u001b[0;34m.\u001b[0m\u001b[0mrename\u001b[0m\u001b[0;34m(\u001b[0m\u001b[0mcolumns\u001b[0m\u001b[0;34m=\u001b[0m\u001b[0;34m{\u001b[0m\u001b[0;34m'date'\u001b[0m \u001b[0;34m:\u001b[0m \u001b[0;34m'time'\u001b[0m\u001b[0;34m}\u001b[0m\u001b[0;34m)\u001b[0m\u001b[0;34m\u001b[0m\u001b[0;34m\u001b[0m\u001b[0m\n\u001b[1;32m      5\u001b[0m     \u001b[0mdata\u001b[0m\u001b[0;34m.\u001b[0m\u001b[0mto_csv\u001b[0m\u001b[0;34m(\u001b[0m\u001b[0;34mf'{ticker}.csv'\u001b[0m\u001b[0;34m,\u001b[0m \u001b[0mindex\u001b[0m\u001b[0;34m=\u001b[0m\u001b[0;32mFalse\u001b[0m\u001b[0;34m)\u001b[0m\u001b[0;34m\u001b[0m\u001b[0;34m\u001b[0m\u001b[0m\n",
      "\u001b[0;32m/tmp/ipykernel_63974/1251731169.py\u001b[0m in \u001b[0;36mloadData\u001b[0;34m(contract, name, start, end, barSize)\u001b[0m\n\u001b[1;32m     12\u001b[0m             durationStr='1 D', barSizeSetting=barSize, whatToShow='MIDPOINT', useRTH=True)\n\u001b[1;32m     13\u001b[0m         \u001b[0mend\u001b[0m \u001b[0;34m-=\u001b[0m \u001b[0mtimedelta\u001b[0m\u001b[0;34m(\u001b[0m\u001b[0mdays\u001b[0m\u001b[0;34m=\u001b[0m\u001b[0;36m1\u001b[0m\u001b[0;34m)\u001b[0m\u001b[0;34m\u001b[0m\u001b[0;34m\u001b[0m\u001b[0m\n\u001b[0;32m---> 14\u001b[0;31m         \u001b[0mdf\u001b[0m \u001b[0;34m=\u001b[0m \u001b[0mdf\u001b[0m\u001b[0;34m.\u001b[0m\u001b[0mappend\u001b[0m\u001b[0;34m(\u001b[0m\u001b[0mutil\u001b[0m\u001b[0;34m.\u001b[0m\u001b[0mdf\u001b[0m\u001b[0;34m(\u001b[0m\u001b[0mbars\u001b[0m\u001b[0;34m)\u001b[0m\u001b[0;34m)\u001b[0m\u001b[0;34m\u001b[0m\u001b[0;34m\u001b[0m\u001b[0m\n\u001b[0m\u001b[1;32m     15\u001b[0m         \u001b[0mk\u001b[0m \u001b[0;34m+=\u001b[0m \u001b[0;36m1\u001b[0m\u001b[0;34m\u001b[0m\u001b[0;34m\u001b[0m\u001b[0m\n\u001b[1;32m     16\u001b[0m         \u001b[0;31m# checkpoints\u001b[0m\u001b[0;34m\u001b[0m\u001b[0;34m\u001b[0m\u001b[0;34m\u001b[0m\u001b[0m\n",
      "\u001b[0;31mAttributeError\u001b[0m: 'NoneType' object has no attribute 'append'"
     ]
    }
   ],
   "source": [
    "for ticker in futures:\n",
    "    data = loadData(contract, ticker, datetime(2018, 11, 1), datetime(2021, 11, 15))\n",
    "    df.rename(columns={'date' : 'time'})\n",
    "    data.to_csv(f'{ticker}.csv', index=False)"
   ]
  },
  {
   "cell_type": "code",
   "execution_count": 4,
   "id": "ed175df3",
   "metadata": {},
   "outputs": [],
   "source": [
    "def loadFutures(symbol, exchange, last_date, longevity, release_interval, start, end, barSize='1 min'):\n",
    "    future_end = last_date\n",
    "    while future_end > start:\n",
    "        future_start = future_end - longevity\n",
    "        end_month = future_end.strftime('%Y%m')\n",
    "        contract = Future(symbol, future_end.strftime('%Y%m'), exchange)\n",
    "        current_day = min(end, last_date)\n",
    "        bars = ib.reqHistoricalData(\n",
    "            contract, endDateTime=end.strftime('%Y%m%d %H:%m:%S'), \n",
    "            durationStr='1 D', barSizeSetting=barSize, whatToShow='TRADES', useRTH=True)\n",
    "        df = util.df(bars)\n",
    "        while current_day > min(start, future_start):\n",
    "            current_day -= timedelta(days=1)\n",
    "            bars = ib.reqHistoricalData(\n",
    "                contract, endDateTime=end.strftime('%Y%m%d %H:%m:%S'), \n",
    "                durationStr='1 D', barSizeSetting=barSize, whatToShow='TRADES', useRTH=True)\n",
    "            try:\n",
    "                data = util.df(bars)\n",
    "                df = df.append(util.df(bars))\n",
    "                print('Got ' +current_day.strftime('%Y-%m-%d'))\n",
    "            except:\n",
    "                print('Did NOT get ' +current_day.strftime('%Y-%m-%d'))\n",
    "                pass\n",
    "        df.rename(columns={'date' : 'time'}, inplace=True)\n",
    "        df = df.sort_values('time', axis=0).drop_duplicates(subset=['time'])\n",
    "        df.to_csv(f\"{symbol}-{future_end.strftime('%Y')[2:]}.{future_end.strftime('%m')}.csv\", index=False)\n",
    "        future_end -= release_interval"
   ]
  },
  {
   "cell_type": "code",
   "execution_count": 24,
   "id": "c4e69045",
   "metadata": {},
   "outputs": [],
   "source": [
    "def loadFullFutures(symbol, exchange, last_date, longevity, release_interval, releases, barSize='1 min'):\n",
    "    future_end = last_date\n",
    "    while releases > 0:\n",
    "        future_start = future_end - longevity\n",
    "        end_month = future_end.strftime('%Y%m')\n",
    "        contract = Future(symbol, future_end.strftime('%Y%m'), exchange, includeExpired=True)\n",
    "        current_day = datetime(future_end.year, future_end.month, monthrange(future_end.year, future_end.month)[1])\n",
    "        df = pd.DataFrame(columns=['instrument','date','open','high','low','close','volume','average','barCount'])\n",
    "        while (current_day.year > future_start.year) or \\\n",
    "        ((current_day.year == future_start.year) and (current_day.month >= future_start.month)):\n",
    "            current_day -= timedelta(days=1)\n",
    "            bars = ib.reqHistoricalData(\n",
    "                contract, endDateTime=current_day.strftime('%Y%m%d %H:%m:%S'), \n",
    "                durationStr='1 D', barSizeSetting=barSize, whatToShow='TRADES', useRTH=True)\n",
    "            try:\n",
    "                data = util.df(bars)\n",
    "                df = df.append(util.df(bars))\n",
    "                print('Got ' +current_day.strftime('%Y-%m-%d'))\n",
    "            except:\n",
    "                print('Did NOT get ' +current_day.strftime('%Y-%m-%d'))\n",
    "                pass\n",
    "        df.rename(columns={'date' : 'time'}, inplace=True)\n",
    "        df = df.sort_values('time', axis=0).drop_duplicates(subset=['time'])\n",
    "        df.to_csv(f\"{symbol}-{future_end.strftime('%y')}.{future_end.strftime('%m')}.csv\", index=False)\n",
    "        future_end -= release_interval\n",
    "        releases -= 1"
   ]
  },
  {
   "cell_type": "code",
   "execution_count": null,
   "id": "54075ddb",
   "metadata": {},
   "outputs": [],
   "source": [
    "bars = loadFullFutures('ES', 'GLOBEX', datetime(2019, 9, 17), relativedelta(months=3), relativedelta(months=3), 10)"
   ]
  },
  {
   "cell_type": "code",
   "execution_count": 82,
   "id": "3eef6e28",
   "metadata": {},
   "outputs": [],
   "source": [
    "df = pd.read_csv('ES-21.12.csv', index_col='time')\n",
    "# df = df.drop(columns='Unnamed: 0')\n",
    "# df = df.rename(columns={'date' : 'time'})\n",
    "# df = df.sort_values('time', axis=0)\n",
    "# df = df.drop_duplicates(subset=['time'])\n",
    "# df.to_csv('ES-21.12.csv', index=False)"
   ]
  },
  {
   "cell_type": "code",
   "execution_count": 83,
   "id": "6644cd77",
   "metadata": {},
   "outputs": [
    {
     "data": {
      "text/html": [
       "<div>\n",
       "<style scoped>\n",
       "    .dataframe tbody tr th:only-of-type {\n",
       "        vertical-align: middle;\n",
       "    }\n",
       "\n",
       "    .dataframe tbody tr th {\n",
       "        vertical-align: top;\n",
       "    }\n",
       "\n",
       "    .dataframe thead th {\n",
       "        text-align: right;\n",
       "    }\n",
       "</style>\n",
       "<table border=\"1\" class=\"dataframe\">\n",
       "  <thead>\n",
       "    <tr style=\"text-align: right;\">\n",
       "      <th></th>\n",
       "      <th>open</th>\n",
       "      <th>high</th>\n",
       "      <th>low</th>\n",
       "      <th>close</th>\n",
       "      <th>volume</th>\n",
       "      <th>average</th>\n",
       "      <th>barCount</th>\n",
       "    </tr>\n",
       "    <tr>\n",
       "      <th>time</th>\n",
       "      <th></th>\n",
       "      <th></th>\n",
       "      <th></th>\n",
       "      <th></th>\n",
       "      <th></th>\n",
       "      <th></th>\n",
       "      <th></th>\n",
       "    </tr>\n",
       "  </thead>\n",
       "  <tbody>\n",
       "    <tr>\n",
       "      <th>2021-11-19 17:30:00</th>\n",
       "      <td>4700.75</td>\n",
       "      <td>4702.25</td>\n",
       "      <td>4695.00</td>\n",
       "      <td>4696.75</td>\n",
       "      <td>21634.0</td>\n",
       "      <td>4699.400</td>\n",
       "      <td>4633</td>\n",
       "    </tr>\n",
       "    <tr>\n",
       "      <th>2021-11-19 17:31:00</th>\n",
       "      <td>4696.75</td>\n",
       "      <td>4697.50</td>\n",
       "      <td>4693.25</td>\n",
       "      <td>4693.25</td>\n",
       "      <td>11554.0</td>\n",
       "      <td>4695.775</td>\n",
       "      <td>2984</td>\n",
       "    </tr>\n",
       "    <tr>\n",
       "      <th>2021-11-19 17:32:00</th>\n",
       "      <td>4693.50</td>\n",
       "      <td>4696.50</td>\n",
       "      <td>4693.25</td>\n",
       "      <td>4696.25</td>\n",
       "      <td>7553.0</td>\n",
       "      <td>4695.250</td>\n",
       "      <td>1920</td>\n",
       "    </tr>\n",
       "    <tr>\n",
       "      <th>2021-11-19 17:33:00</th>\n",
       "      <td>4696.00</td>\n",
       "      <td>4696.75</td>\n",
       "      <td>4692.25</td>\n",
       "      <td>4692.75</td>\n",
       "      <td>5412.0</td>\n",
       "      <td>4694.625</td>\n",
       "      <td>1401</td>\n",
       "    </tr>\n",
       "    <tr>\n",
       "      <th>2021-11-19 17:34:00</th>\n",
       "      <td>4693.00</td>\n",
       "      <td>4695.00</td>\n",
       "      <td>4691.50</td>\n",
       "      <td>4695.00</td>\n",
       "      <td>5903.0</td>\n",
       "      <td>4693.250</td>\n",
       "      <td>1537</td>\n",
       "    </tr>\n",
       "  </tbody>\n",
       "</table>\n",
       "</div>"
      ],
      "text/plain": [
       "                        open     high      low    close   volume   average  \\\n",
       "time                                                                         \n",
       "2021-11-19 17:30:00  4700.75  4702.25  4695.00  4696.75  21634.0  4699.400   \n",
       "2021-11-19 17:31:00  4696.75  4697.50  4693.25  4693.25  11554.0  4695.775   \n",
       "2021-11-19 17:32:00  4693.50  4696.50  4693.25  4696.25   7553.0  4695.250   \n",
       "2021-11-19 17:33:00  4696.00  4696.75  4692.25  4692.75   5412.0  4694.625   \n",
       "2021-11-19 17:34:00  4693.00  4695.00  4691.50  4695.00   5903.0  4693.250   \n",
       "\n",
       "                     barCount  \n",
       "time                           \n",
       "2021-11-19 17:30:00      4633  \n",
       "2021-11-19 17:31:00      2984  \n",
       "2021-11-19 17:32:00      1920  \n",
       "2021-11-19 17:33:00      1401  \n",
       "2021-11-19 17:34:00      1537  "
      ]
     },
     "execution_count": 83,
     "metadata": {},
     "output_type": "execute_result"
    }
   ],
   "source": [
    "df.head()"
   ]
  },
  {
   "cell_type": "code",
   "execution_count": 17,
   "id": "7c02a8d0",
   "metadata": {},
   "outputs": [
    {
     "ename": "NameError",
     "evalue": "name 'end' is not defined",
     "output_type": "error",
     "traceback": [
      "\u001b[0;31m---------------------------------------------------------------------------\u001b[0m",
      "\u001b[0;31mNameError\u001b[0m                                 Traceback (most recent call last)",
      "\u001b[0;32m/tmp/ipykernel_15972/3749783282.py\u001b[0m in \u001b[0;36m<module>\u001b[0;34m\u001b[0m\n\u001b[0;32m----> 1\u001b[0;31m \u001b[0mbars\u001b[0m \u001b[0;34m=\u001b[0m \u001b[0mloadFullFutures\u001b[0m\u001b[0;34m(\u001b[0m\u001b[0;34m'NQ'\u001b[0m\u001b[0;34m,\u001b[0m \u001b[0;34m'GLOBEX'\u001b[0m\u001b[0;34m,\u001b[0m \u001b[0mdatetime\u001b[0m\u001b[0;34m(\u001b[0m\u001b[0;36m2021\u001b[0m\u001b[0;34m,\u001b[0m \u001b[0;36m9\u001b[0m\u001b[0;34m,\u001b[0m \u001b[0;36m17\u001b[0m\u001b[0;34m)\u001b[0m\u001b[0;34m,\u001b[0m \u001b[0mrelativedelta\u001b[0m\u001b[0;34m(\u001b[0m\u001b[0mmonths\u001b[0m\u001b[0;34m=\u001b[0m\u001b[0;36m15\u001b[0m\u001b[0;34m)\u001b[0m\u001b[0;34m,\u001b[0m \u001b[0mrelativedelta\u001b[0m\u001b[0;34m(\u001b[0m\u001b[0mmonths\u001b[0m\u001b[0;34m=\u001b[0m\u001b[0;36m3\u001b[0m\u001b[0;34m)\u001b[0m\u001b[0;34m,\u001b[0m \u001b[0;36m1\u001b[0m\u001b[0;34m)\u001b[0m\u001b[0;34m\u001b[0m\u001b[0;34m\u001b[0m\u001b[0m\n\u001b[0m",
      "\u001b[0;32m/tmp/ipykernel_15972/1899253376.py\u001b[0m in \u001b[0;36mloadFullFutures\u001b[0;34m(symbol, exchange, last_date, longevity, release_interval, releases, barSize)\u001b[0m\n\u001b[1;32m      7\u001b[0m         \u001b[0mcurrent_day\u001b[0m \u001b[0;34m=\u001b[0m \u001b[0mlast_date\u001b[0m\u001b[0;34m\u001b[0m\u001b[0;34m\u001b[0m\u001b[0m\n\u001b[1;32m      8\u001b[0m         bars = ib.reqHistoricalData(\n\u001b[0;32m----> 9\u001b[0;31m             \u001b[0mcontract\u001b[0m\u001b[0;34m,\u001b[0m \u001b[0mendDateTime\u001b[0m\u001b[0;34m=\u001b[0m\u001b[0mend\u001b[0m\u001b[0;34m.\u001b[0m\u001b[0mstrftime\u001b[0m\u001b[0;34m(\u001b[0m\u001b[0;34m'%Y%m%d %H:%m:%S'\u001b[0m\u001b[0;34m)\u001b[0m\u001b[0;34m,\u001b[0m\u001b[0;34m\u001b[0m\u001b[0;34m\u001b[0m\u001b[0m\n\u001b[0m\u001b[1;32m     10\u001b[0m             durationStr='1 D', barSizeSetting=barSize, whatToShow='TRADES', useRTH=True)\n\u001b[1;32m     11\u001b[0m         \u001b[0mdf\u001b[0m \u001b[0;34m=\u001b[0m \u001b[0mutil\u001b[0m\u001b[0;34m.\u001b[0m\u001b[0mdf\u001b[0m\u001b[0;34m(\u001b[0m\u001b[0mbars\u001b[0m\u001b[0;34m)\u001b[0m\u001b[0;34m\u001b[0m\u001b[0;34m\u001b[0m\u001b[0m\n",
      "\u001b[0;31mNameError\u001b[0m: name 'end' is not defined"
     ]
    }
   ],
   "source": [
    "bars = loadFullFutures('NQ', 'GLOBEX', datetime(2021, 9, 17), relativedelta(months=15), relativedelta(months=3), 1)"
   ]
  },
  {
   "cell_type": "code",
   "execution_count": 45,
   "id": "2e8a2cc9",
   "metadata": {},
   "outputs": [
    {
     "name": "stderr",
     "output_type": "stream",
     "text": [
      "Error 200, reqId 8473: No security definition has been found for the request, contract: Future(symbol='ES', lastTradeDateOrContractMonth='201812', exchange='GLOBEX', includeExpired=True)\n",
      "Peer closed connection.\n"
     ]
    }
   ],
   "source": [
    "contract = Future('ES', '201812', 'GLOBEX', includeExpired=True)\n",
    "# contract = Contract(symbol='ES', \n",
    "#                     secType='FUT', \n",
    "#                     exchange='GLOBEX', \n",
    "#                     lastTradeDateOrContractMonth='202012', \n",
    "#                     localSymbol='ESZ0',\n",
    "#                     currency='USD',\n",
    "#                     includeExpired=True)\n",
    "bars = ib.reqHistoricalData(\n",
    "            contract, endDateTime='20190517 00:00:00', \n",
    "            durationStr='1 D', barSizeSetting='1 min', whatToShow='TRADES', useRTH=True)"
   ]
  },
  {
   "cell_type": "code",
   "execution_count": 3,
   "id": "a51ea589",
   "metadata": {},
   "outputs": [
    {
     "name": "stderr",
     "output_type": "stream",
     "text": [
      "Error 162, reqId 3: Historical Market Data Service error message:No market data permissions for ISLAND STK, contract: Contract(secType='STK', symbol='AMD', exchange='SMART', currency='USD')\n"
     ]
    }
   ],
   "source": [
    "contract = Contract(symbol='AMD', currency='USD', secType='STK', exchange='SMART')\n",
    "bars = ib.reqHistoricalData(contract, endDateTime='20190517 00:00:00', durationStr='1 D', barSizeSetting='1 min', whatToShow='TRADES', useRTH=True)"
   ]
  },
  {
   "cell_type": "code",
   "execution_count": null,
   "id": "5022c137",
   "metadata": {},
   "outputs": [],
   "source": []
  }
 ],
 "metadata": {
  "kernelspec": {
   "display_name": "Python 3 (ipykernel)",
   "language": "python",
   "name": "python3"
  },
  "language_info": {
   "codemirror_mode": {
    "name": "ipython",
    "version": 3
   },
   "file_extension": ".py",
   "mimetype": "text/x-python",
   "name": "python",
   "nbconvert_exporter": "python",
   "pygments_lexer": "ipython3",
   "version": "3.8.10"
  }
 },
 "nbformat": 4,
 "nbformat_minor": 5
}
